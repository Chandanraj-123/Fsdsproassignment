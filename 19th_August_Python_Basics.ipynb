{
 "cells": [
  {
   "cell_type": "markdown",
   "id": "1e138cd3-5bc7-49c6-9030-3f86339cf853",
   "metadata": {},
   "source": [
    "1. Declare two variables, `x` and `y`, and assign them integer values. Swap the\n",
    "values of these variables without using any temporary variable.\n"
   ]
  },
  {
   "cell_type": "code",
   "execution_count": 3,
   "id": "5eb0a5a3-4cdd-4ce7-9cc9-227bf5e4f402",
   "metadata": {},
   "outputs": [
    {
     "name": "stdout",
     "output_type": "stream",
     "text": [
      "after swap  x : 12 y: 10\n"
     ]
    }
   ],
   "source": [
    "X = 10\n",
    "Y = 12\n",
    "X,Y=Y,X\n",
    "print(\"after swap  x :\",X,\"y:\",Y)"
   ]
  },
  {
   "cell_type": "markdown",
   "id": "40fd7f25-7e2a-47cc-a1d6-c35f4c8e5e92",
   "metadata": {},
   "source": [
    "Create a program that calculates the area of a rectangle. Take the length and\n",
    "width as inputs from the user and store them in variables. Calculate and\n",
    "display the area."
   ]
  },
  {
   "cell_type": "code",
   "execution_count": 13,
   "id": "3ef93de5-0b55-4423-ac86-01959e444d94",
   "metadata": {},
   "outputs": [
    {
     "name": "stdin",
     "output_type": "stream",
     "text": [
      "enter the value of length: 10\n",
      "enter the value of width: 20\n"
     ]
    },
    {
     "name": "stdout",
     "output_type": "stream",
     "text": [
      "length: 10 \n",
      "width: 20\n",
      "total_area: 200\n"
     ]
    }
   ],
   "source": [
    "length = int(input(\"enter the value of length:\"))\n",
    "width = int(input(\"enter the value of width:\"))\n",
    "print(\"length:\",length ,\"\\nwidth:\",width)\n",
    "total_area =length * width\n",
    "print(\"total_area:\",+total_area)\n"
   ]
  },
  {
   "cell_type": "markdown",
   "id": "f85e00de-f7b5-4204-bd49-e3e57149be8f",
   "metadata": {},
   "source": [
    "Write a Python program that converts temperatures from Celsius to\n",
    "Fahrenheit. Take the temperature in Celsius as input, store it in a variable,\n",
    "convert it to Fahrenheit, and display the result."
   ]
  },
  {
   "cell_type": "code",
   "execution_count": 20,
   "id": "52b9b39a-ff5e-4c08-a4dc-c7cc28eb4b19",
   "metadata": {},
   "outputs": [
    {
     "name": "stdin",
     "output_type": "stream",
     "text": [
      "enter the value of celsius: 45\n"
     ]
    },
    {
     "name": "stdout",
     "output_type": "stream",
     "text": [
      "celsius: 45.0\n",
      "Fahrenheit: 113.0\n"
     ]
    }
   ],
   "source": [
    "celsius = float(input(\"enter the value of celsius:\")\n",
    "print(\"celsius:\",celsius)\n",
    "Fahrenheit=((celsius*1.8)+32)\n",
    "print(\"Fahrenheit:\",Fahrenheit)\n",
    "\n"
   ]
  },
  {
   "cell_type": "markdown",
   "id": "27e1d5d3-49cc-479c-8eb1-d8158970069c",
   "metadata": {},
   "source": [
    "Write a Python program that takes a string as input and prints the length of\n",
    "the string."
   ]
  },
  {
   "cell_type": "code",
   "execution_count": 4,
   "id": "fd03f7bd-c899-4997-8943-6ac9de3bb6ac",
   "metadata": {},
   "outputs": [
    {
     "name": "stdin",
     "output_type": "stream",
     "text": [
      "enter the string: hello,! assignment evaluating team\n"
     ]
    },
    {
     "name": "stdout",
     "output_type": "stream",
     "text": [
      "hello,! assignment evaluating team\n",
      "lenght: 34\n"
     ]
    }
   ],
   "source": [
    "string = str(input(\"enter the string:\"))\n",
    "print(string)\n",
    "# using the built in function ( len )\n",
    "lenght=len(string)\n",
    "print(\"lenght:\",lenght)\n"
   ]
  },
  {
   "cell_type": "markdown",
   "id": "9044c4d2-9c18-48fb-b16b-72d9a42e24a5",
   "metadata": {},
   "source": [
    "Create a program that takes a sentence from the user and counts the number\n",
    "of vowels (a, e, i, o, u) in the string."
   ]
  },
  {
   "cell_type": "code",
   "execution_count": 5,
   "id": "8f298052-5a99-4e8b-b40a-0418879a7987",
   "metadata": {},
   "outputs": [
    {
     "name": "stdin",
     "output_type": "stream",
     "text": [
      "enter the sentence: sentence\n"
     ]
    },
    {
     "name": "stdout",
     "output_type": "stream",
     "text": [
      "sentence\n",
      "number of vowels: 3\n"
     ]
    }
   ],
   "source": [
    "sentence = str(input(\"enter the sentence:\"))\n",
    "print(\"sentence\")\n",
    "#using for loop\n",
    "count = 0\n",
    "\n",
    "for i in sentence:\n",
    "    if i in \"aeiou\":\n",
    "        count+=1\n",
    "print(\"number of vowels:\",count)\n",
    "    \n"
   ]
  },
  {
   "cell_type": "markdown",
   "id": "b5bfdf1a-604c-46de-9056-30ab4a68dcb3",
   "metadata": {},
   "source": [
    "Given a string, reverse the order of characters using string slicing and print\n",
    "the reversed string."
   ]
  },
  {
   "cell_type": "code",
   "execution_count": 7,
   "id": "06f97962-65b4-4df7-9eca-aad2e352b3b6",
   "metadata": {},
   "outputs": [
    {
     "name": "stdin",
     "output_type": "stream",
     "text": [
      "enter the sentence: sentence\n"
     ]
    },
    {
     "name": "stdout",
     "output_type": "stream",
     "text": [
      "sentence\n",
      "Reverse string: ecnetnes\n"
     ]
    }
   ],
   "source": [
    "sentence = str(input(\"enter the sentence:\"))\n",
    "print(\"sentence\")\n",
    "# using slicing \n",
    "\n",
    "print(\"Reverse string:\",sentence[-1: :-1])"
   ]
  },
  {
   "cell_type": "markdown",
   "id": "ddad3a4e-2028-4040-ad95-427dc8c88e26",
   "metadata": {},
   "source": [
    "Write a program that takes a string as input and checks if it is a palindrome\n",
    "(reads the same forwards and backwards)."
   ]
  },
  {
   "cell_type": "code",
   "execution_count": 54,
   "id": "8f979370-d5ff-47df-b674-4cea5e5f3eb5",
   "metadata": {},
   "outputs": [
    {
     "name": "stdin",
     "output_type": "stream",
     "text": [
      "enter the sentence: sentence\n"
     ]
    },
    {
     "name": "stdout",
     "output_type": "stream",
     "text": [
      "not palindrome\n"
     ]
    },
    {
     "name": "stdin",
     "output_type": "stream",
     "text": [
      "enter the sentence: sentencecnetnes\n"
     ]
    },
    {
     "name": "stdout",
     "output_type": "stream",
     "text": [
      "palindrome\n"
     ]
    }
   ],
   "source": [
    "# example of not palindrome \n",
    "sentence = str(input(\"enter the sentence:\")) \n",
    "print(sentence)\n",
    "if sentence[0::1]==sentence[-1::-1]:\n",
    "    print (\"palindrome\")\n",
    "else :\n",
    "    print(\"not palindrome\")\n",
    "\n",
    "# example of the palindrome    \n",
    "sentence = str(input(\"enter the sentence:\")) \n",
    "print(sentence)\n",
    "#using for loop and sliceing\n",
    "if sentence[0::1]==sentence[-1::-1]:\n",
    "    print (\"palindrome\")\n",
    "else :\n",
    "    print(\"not palindrome\")"
   ]
  },
  {
   "cell_type": "markdown",
   "id": "271c3e99-c370-4fd6-b770-f52d25b28a4a",
   "metadata": {},
   "source": [
    "Create a program that takes a string as input and removes all the spaces from\n",
    "it. Print the modified string without spaces."
   ]
  },
  {
   "cell_type": "code",
   "execution_count": 1,
   "id": "f6b82b2c-5c9f-4f60-9e7c-55108625eb4f",
   "metadata": {},
   "outputs": [
    {
     "name": "stdin",
     "output_type": "stream",
     "text": [
      "enter the sentence: hello,! assignment evaluating team\n"
     ]
    },
    {
     "name": "stdout",
     "output_type": "stream",
     "text": [
      "hello,!assignmentevaluatingteam\n"
     ]
    }
   ],
   "source": [
    "sentence = str(input(\"enter the sentence:\"))\n",
    "a=\"\".join(sentence.replace(\" \",\"\")) #using the inbuilt functions\n",
    "print(a)"
   ]
  },
  {
   "cell_type": "code",
   "execution_count": null,
   "id": "f1078cfe-8b14-43c8-813d-4d3e38a14e3e",
   "metadata": {},
   "outputs": [],
   "source": []
  },
  {
   "cell_type": "code",
   "execution_count": null,
   "id": "38d85f81-619a-4f73-aff1-cdfac8daaed8",
   "metadata": {},
   "outputs": [],
   "source": []
  },
  {
   "cell_type": "code",
   "execution_count": null,
   "id": "8d1a78b2-ba68-4758-b47f-95b9a952666e",
   "metadata": {},
   "outputs": [],
   "source": []
  },
  {
   "cell_type": "code",
   "execution_count": null,
   "id": "b1ec7290-0142-4a26-b00d-68663ee34cf4",
   "metadata": {},
   "outputs": [],
   "source": []
  },
  {
   "cell_type": "code",
   "execution_count": null,
   "id": "16f056a7-bba6-47f1-9f8d-191c3817420a",
   "metadata": {},
   "outputs": [],
   "source": []
  },
  {
   "cell_type": "code",
   "execution_count": null,
   "id": "36545e9f-5cb7-48fc-96cf-ecb32c309dbb",
   "metadata": {},
   "outputs": [],
   "source": []
  },
  {
   "cell_type": "code",
   "execution_count": null,
   "id": "1b8bb931-b322-4e66-bc92-3f01ad8cd7c5",
   "metadata": {},
   "outputs": [],
   "source": []
  },
  {
   "cell_type": "code",
   "execution_count": null,
   "id": "9fc535df-f0a3-44a9-a306-8013c65e4823",
   "metadata": {},
   "outputs": [],
   "source": []
  },
  {
   "cell_type": "code",
   "execution_count": null,
   "id": "08a4db14-0577-452a-ba30-0e8967b6d03a",
   "metadata": {},
   "outputs": [],
   "source": []
  },
  {
   "cell_type": "code",
   "execution_count": null,
   "id": "f622a1f6-9168-4b3c-8a82-362f0b54a830",
   "metadata": {},
   "outputs": [],
   "source": []
  },
  {
   "cell_type": "code",
   "execution_count": null,
   "id": "4db84e85-f55e-41d7-bed8-dbb534823b22",
   "metadata": {},
   "outputs": [],
   "source": []
  },
  {
   "cell_type": "code",
   "execution_count": null,
   "id": "b4b85b63-7b7d-4de2-867b-11578a891d0e",
   "metadata": {},
   "outputs": [],
   "source": []
  },
  {
   "cell_type": "code",
   "execution_count": null,
   "id": "5dd11c27-0024-4d68-beea-60880e82e929",
   "metadata": {},
   "outputs": [],
   "source": []
  },
  {
   "cell_type": "code",
   "execution_count": null,
   "id": "4215452f-ff9d-46ab-9f53-c3283ebb7218",
   "metadata": {},
   "outputs": [],
   "source": []
  },
  {
   "cell_type": "code",
   "execution_count": null,
   "id": "dc9975fd-9c1d-4396-9daa-2d474d27ddfe",
   "metadata": {},
   "outputs": [],
   "source": []
  },
  {
   "cell_type": "code",
   "execution_count": null,
   "id": "59ae5516-08d7-4dc6-8615-8515c338e79e",
   "metadata": {},
   "outputs": [],
   "source": []
  },
  {
   "cell_type": "code",
   "execution_count": null,
   "id": "809a9222-5ec2-439e-8d2d-b9d2474cc9d2",
   "metadata": {},
   "outputs": [],
   "source": []
  },
  {
   "cell_type": "code",
   "execution_count": null,
   "id": "36123d5b-55b2-475c-a0c3-786045769b73",
   "metadata": {},
   "outputs": [],
   "source": []
  },
  {
   "cell_type": "code",
   "execution_count": null,
   "id": "1217d7eb-3e6c-4c34-8dc0-648bf8364b04",
   "metadata": {},
   "outputs": [],
   "source": []
  },
  {
   "cell_type": "code",
   "execution_count": null,
   "id": "c5e4ebfb-2cdb-4790-b9d4-4f9debd9c1fa",
   "metadata": {},
   "outputs": [],
   "source": []
  },
  {
   "cell_type": "code",
   "execution_count": null,
   "id": "33e4630a-69c5-407c-9654-2475a26e6d5b",
   "metadata": {},
   "outputs": [],
   "source": []
  },
  {
   "cell_type": "code",
   "execution_count": null,
   "id": "aa3ad501-1f3f-4f4b-b029-c800bda804f1",
   "metadata": {},
   "outputs": [],
   "source": []
  },
  {
   "cell_type": "code",
   "execution_count": null,
   "id": "b5056682-e49d-486f-a48c-c9f21967c7c1",
   "metadata": {},
   "outputs": [],
   "source": []
  },
  {
   "cell_type": "code",
   "execution_count": null,
   "id": "733c3ad4-e444-48cf-a82b-2035c5c2a84a",
   "metadata": {},
   "outputs": [],
   "source": []
  },
  {
   "cell_type": "code",
   "execution_count": null,
   "id": "8212ae02-e5c8-4897-90a3-cf2afe552ab5",
   "metadata": {},
   "outputs": [],
   "source": []
  },
  {
   "cell_type": "code",
   "execution_count": null,
   "id": "dc7f67ed-80bd-4f77-9757-defd95a70b04",
   "metadata": {},
   "outputs": [],
   "source": []
  },
  {
   "cell_type": "code",
   "execution_count": null,
   "id": "543b48ff-a192-4089-9ab8-358ca5618a70",
   "metadata": {},
   "outputs": [],
   "source": []
  },
  {
   "cell_type": "code",
   "execution_count": null,
   "id": "6fd37e48-18cd-41b7-b114-db8bbae4d058",
   "metadata": {},
   "outputs": [],
   "source": []
  },
  {
   "cell_type": "code",
   "execution_count": null,
   "id": "3a09f4ef-6ffb-4b4c-8992-22d2b6e7857a",
   "metadata": {},
   "outputs": [],
   "source": []
  },
  {
   "cell_type": "code",
   "execution_count": null,
   "id": "c79b9916-323c-45ab-ba93-39babc29bd6c",
   "metadata": {},
   "outputs": [],
   "source": []
  },
  {
   "cell_type": "code",
   "execution_count": null,
   "id": "49e8d06b-3cf6-4ccc-b600-0526acb5610c",
   "metadata": {},
   "outputs": [],
   "source": []
  },
  {
   "cell_type": "code",
   "execution_count": null,
   "id": "b8fe583a-592b-46fe-b000-36f5cccbe885",
   "metadata": {},
   "outputs": [],
   "source": []
  },
  {
   "cell_type": "code",
   "execution_count": null,
   "id": "b6b4b240-3a9e-4013-8a0a-b520e2d46dd6",
   "metadata": {},
   "outputs": [],
   "source": []
  },
  {
   "cell_type": "code",
   "execution_count": null,
   "id": "4645b993-7840-44f7-91fe-b25281f373f2",
   "metadata": {},
   "outputs": [],
   "source": []
  },
  {
   "cell_type": "code",
   "execution_count": null,
   "id": "e8deefd2-46c7-4d18-814d-4b1781a0060a",
   "metadata": {},
   "outputs": [],
   "source": []
  },
  {
   "cell_type": "code",
   "execution_count": null,
   "id": "4d63be9c-f4f8-47dd-b09f-ca43ba9a04ce",
   "metadata": {},
   "outputs": [],
   "source": []
  },
  {
   "cell_type": "code",
   "execution_count": null,
   "id": "4d5d7167-db2e-4ce1-8a5c-7bde0eecb441",
   "metadata": {},
   "outputs": [],
   "source": []
  },
  {
   "cell_type": "code",
   "execution_count": null,
   "id": "b15f788a-888d-4921-b60c-98189b1969d2",
   "metadata": {},
   "outputs": [],
   "source": []
  },
  {
   "cell_type": "code",
   "execution_count": null,
   "id": "85e816d7-42c3-430c-b153-2563650264db",
   "metadata": {},
   "outputs": [],
   "source": []
  },
  {
   "cell_type": "code",
   "execution_count": null,
   "id": "3be1bf32-13d4-4dd5-96c1-1bf618b6873a",
   "metadata": {},
   "outputs": [],
   "source": []
  },
  {
   "cell_type": "code",
   "execution_count": null,
   "id": "557a4008-0520-41bb-9e2e-ded71ba52601",
   "metadata": {},
   "outputs": [],
   "source": []
  },
  {
   "cell_type": "code",
   "execution_count": null,
   "id": "2a72d82a-b006-44ce-b06d-f061d3a17cb2",
   "metadata": {},
   "outputs": [],
   "source": []
  },
  {
   "cell_type": "code",
   "execution_count": null,
   "id": "e365f740-5e90-426c-a699-bf3d2ecd7dea",
   "metadata": {},
   "outputs": [],
   "source": []
  },
  {
   "cell_type": "code",
   "execution_count": null,
   "id": "7d7f1dc4-cd53-4485-8415-06d1f562bd8c",
   "metadata": {},
   "outputs": [],
   "source": []
  },
  {
   "cell_type": "code",
   "execution_count": null,
   "id": "a8868cfa-2463-44c3-bddb-dbf8b1174eef",
   "metadata": {},
   "outputs": [],
   "source": []
  },
  {
   "cell_type": "code",
   "execution_count": null,
   "id": "c39b1449-b021-4a03-8b2b-4d6e07b1163e",
   "metadata": {},
   "outputs": [],
   "source": []
  },
  {
   "cell_type": "code",
   "execution_count": null,
   "id": "fc0fa039-28be-4743-a7a9-b38a33edba16",
   "metadata": {},
   "outputs": [],
   "source": []
  },
  {
   "cell_type": "code",
   "execution_count": null,
   "id": "7ed26cbc-8c4d-4e0f-94d5-858ae3c0891f",
   "metadata": {},
   "outputs": [],
   "source": []
  },
  {
   "cell_type": "code",
   "execution_count": null,
   "id": "889cbe9b-f682-4b59-96eb-f90cf20811fe",
   "metadata": {},
   "outputs": [],
   "source": []
  },
  {
   "cell_type": "code",
   "execution_count": null,
   "id": "299e80b0-ddb8-4a5d-9cea-ab4af9c23211",
   "metadata": {},
   "outputs": [],
   "source": []
  },
  {
   "cell_type": "code",
   "execution_count": null,
   "id": "968a1fd5-274c-4b94-82c9-12b7e2eefe22",
   "metadata": {},
   "outputs": [],
   "source": []
  },
  {
   "cell_type": "code",
   "execution_count": null,
   "id": "7b4d4b50-e14b-4bca-a105-9308681ae357",
   "metadata": {},
   "outputs": [],
   "source": []
  },
  {
   "cell_type": "code",
   "execution_count": null,
   "id": "ed391eec-ac3f-450b-b18e-4f0c6b3496f3",
   "metadata": {},
   "outputs": [],
   "source": []
  },
  {
   "cell_type": "code",
   "execution_count": null,
   "id": "9b21fc61-5bda-492e-b1de-74ce0b54795a",
   "metadata": {},
   "outputs": [],
   "source": []
  },
  {
   "cell_type": "code",
   "execution_count": null,
   "id": "34752dca-00d2-4c23-aa9d-f393b49039c5",
   "metadata": {},
   "outputs": [],
   "source": []
  },
  {
   "cell_type": "code",
   "execution_count": null,
   "id": "183c511c-ab1e-47b8-ba85-98b26f16fe4f",
   "metadata": {},
   "outputs": [],
   "source": []
  },
  {
   "cell_type": "code",
   "execution_count": null,
   "id": "f227ec99-0618-4db9-a1e0-80e72ed9f02c",
   "metadata": {},
   "outputs": [],
   "source": []
  },
  {
   "cell_type": "code",
   "execution_count": null,
   "id": "b240bbfe-92d0-4f12-817f-590e338b4297",
   "metadata": {},
   "outputs": [],
   "source": []
  },
  {
   "cell_type": "code",
   "execution_count": null,
   "id": "63c0a0b1-ec00-4e8f-a655-637a8b50e260",
   "metadata": {},
   "outputs": [],
   "source": []
  }
 ],
 "metadata": {
  "kernelspec": {
   "display_name": "Python 3 (ipykernel)",
   "language": "python",
   "name": "python3"
  },
  "language_info": {
   "codemirror_mode": {
    "name": "ipython",
    "version": 3
   },
   "file_extension": ".py",
   "mimetype": "text/x-python",
   "name": "python",
   "nbconvert_exporter": "python",
   "pygments_lexer": "ipython3",
   "version": "3.10.8"
  }
 },
 "nbformat": 4,
 "nbformat_minor": 5
}
