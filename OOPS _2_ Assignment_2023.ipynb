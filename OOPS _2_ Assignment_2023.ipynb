{
 "cells": [
  {
   "cell_type": "markdown",
   "id": "1056ed9e-8c2f-4e2f-84f5-653f51332c78",
   "metadata": {},
   "source": [
    "## Constructor:"
   ]
  },
  {
   "cell_type": "markdown",
   "id": "4c525aff-717a-446b-bc63-30095b8f32a4",
   "metadata": {},
   "source": [
    "### 1. What is a constructor in Python? Explain its purpose and usage."
   ]
  },
  {
   "cell_type": "markdown",
   "id": "9d319ade-d730-4a79-9c33-98dedd898090",
   "metadata": {},
   "source": [
    "onstructor is a special method used to initialize objects when they are instantiated. It's defined within a class and invoked automatically when an object of that class is created. The primary purpose of a constructor is to set up initial values for the object's attributes or perform any necessary initialization tasks.\n",
    "\n",
    "Purpose of a Constructor:\n",
    "Initialization: It initializes the object's state by assigning values to instance variables (attributes) when the object is created.\n",
    "\n",
    "Automatically Invoked: The constructor method (__init__) is automatically called when an object of the class is instantiated, ensuring that every object starts with the required initial state.\n",
    "\n",
    "Customization: It allows customization of object creation by accepting parameters that can be used to initialize the object's attributes based on specific values provided at instantiation.\n",
    "\n"
   ]
  },
  {
   "cell_type": "code",
   "execution_count": 1,
   "id": "7dfc1aba-4cf6-4062-b334-ecae0afd4e8e",
   "metadata": {},
   "outputs": [
    {
     "name": "stdout",
     "output_type": "stream",
     "text": [
      "Toyota Camry 2022\n",
      "Honda Civic 2023\n",
      "Car Details: 2022 Toyota Camry\n",
      "Car Details: 2023 Honda Civic\n"
     ]
    }
   ],
   "source": [
    "class Car:\n",
    "    def __init__(self, make, model, year):\n",
    "        # Constructor initializes attributes\n",
    "        self.make = make\n",
    "        self.model = model\n",
    "        self.year = year\n",
    "        self.mileage = 0  # Example of initializing another attribute\n",
    "\n",
    "    def display_details(self):\n",
    "        print(f\"Car Details: {self.year} {self.make} {self.model}\")\n",
    "\n",
    "# Creating instances of Car using constructor\n",
    "car1 = Car(\"Toyota\", \"Camry\", 2022)\n",
    "car2 = Car(\"Honda\", \"Civic\", 2023)\n",
    "\n",
    "# Accessing object attributes\n",
    "print(car1.make, car1.model, car1.year)  # Output: Toyota Camry 2022\n",
    "print(car2.make, car2.model, car2.year)  # Output: Honda Civic 2023\n",
    "\n",
    "# Calling method defined in the class\n",
    "car1.display_details()  # Output: Car Details: 2022 Toyota Camry\n",
    "car2.display_details()  # Output: Car Details: 2023 Honda Civic\n"
   ]
  },
  {
   "cell_type": "markdown",
   "id": "0c20754f-4e38-4284-a47a-163977e95fab",
   "metadata": {},
   "source": [
    "### 2. Differentiate between a parameterless constructor and a parameterized constructor in Python."
   ]
  },
  {
   "cell_type": "markdown",
   "id": "da3fda32-8e48-471c-9eaa-5ec3af26728b",
   "metadata": {},
   "source": [
    "Parameterless Constructor:\n",
    "\n",
    "Definition:\n",
    "\n",
    "A parameterless constructor is a constructor that does not accept any parameters other than self (which refers to the instance of the class).\n",
    "It is defined using the __init__ method without any additional parameters.\n",
    "Purpose and Usage:\n",
    "\n",
    "Initialization: It initializes the object's attributes with default values or performs basic initialization tasks that do not require external input.\n",
    "Automatic Invocation: Like all constructors, it is automatically invoked when an object of the class is instantiated."
   ]
  },
  {
   "cell_type": "code",
   "execution_count": 2,
   "id": "c8861de3-b8aa-4303-a90f-a3c9b1f9690c",
   "metadata": {},
   "outputs": [
    {
     "name": "stdout",
     "output_type": "stream",
     "text": [
      "Value of attribute: 0\n"
     ]
    }
   ],
   "source": [
    "class MyClass:\n",
    "    def __init__(self):\n",
    "        # Parameterless constructor\n",
    "        self.attribute = 0  # Example initialization\n",
    "\n",
    "    def method(self):\n",
    "        print(f\"Value of attribute: {self.attribute}\")\n",
    "\n",
    "# Creating an instance\n",
    "obj = MyClass()\n",
    "obj.method()  # Output: Value of attribute: 0\n"
   ]
  },
  {
   "cell_type": "markdown",
   "id": "feb9a4ae-5a43-47df-83c7-7e02edb28a57",
   "metadata": {},
   "source": [
    "Parameterized Constructor:\n",
    "\n",
    "Definition:\n",
    "\n",
    "A parameterized constructor is a constructor that accepts parameters in addition to self.\n",
    "It is defined using the __init__ method with parameters that are used to initialize the object's attributes based on specific values provided during object instantiation.\n",
    "Purpose and Usage:\n",
    "\n",
    "Custom Initialization: It allows customization of object creation by accepting external input (parameters) to initialize the object's attributes.\n",
    "Flexibility: Parameters can vary based on the needs of the object being created, providing flexibility in how objects are initialized."
   ]
  },
  {
   "cell_type": "code",
   "execution_count": 3,
   "id": "ba478f1f-084f-45a3-b3b1-bcb501c4e110",
   "metadata": {},
   "outputs": [
    {
     "name": "stdout",
     "output_type": "stream",
     "text": [
      "Car Details: 2022 Toyota Camry\n",
      "Car Details: 2023 Honda Civic\n"
     ]
    }
   ],
   "source": [
    "class Car:\n",
    "    def __init__(self, make, model, year):\n",
    "        # Parameterized constructor\n",
    "        self.make = make\n",
    "        self.model = model\n",
    "        self.year = year\n",
    "\n",
    "    def display_details(self):\n",
    "        print(f\"Car Details: {self.year} {self.make} {self.model}\")\n",
    "\n",
    "# Creating instances with parameterized constructor\n",
    "car1 = Car(\"Toyota\", \"Camry\", 2022)\n",
    "car2 = Car(\"Honda\", \"Civic\", 2023)\n",
    "\n",
    "car1.display_details()  # Output: Car Details: 2022 Toyota Camry\n",
    "car2.display_details()  # Output: Car Details: 2023 Honda Civic\n"
   ]
  },
  {
   "cell_type": "markdown",
   "id": "0ffb28fb-16cf-436d-8222-3d9eb7d62405",
   "metadata": {},
   "source": [
    "### 3. How do you define a constructor in a Python class? Provide an example."
   ]
  },
  {
   "cell_type": "code",
   "execution_count": 4,
   "id": "66b1aa78-8a54-49c5-827d-db11582c0e7f",
   "metadata": {},
   "outputs": [
    {
     "name": "stdout",
     "output_type": "stream",
     "text": [
      "Car Details: 2022 Toyota Camry\n",
      "Car Details: 2023 Honda Civic\n",
      "Mileage of Toyota Camry: 0 miles\n",
      "Updated Mileage of Toyota Camry: 10000 miles\n"
     ]
    }
   ],
   "source": [
    "#a constructor is defined using a special method called __init__. This method is automatically called when an object of the class is instantiated.\n",
    "class Car:\n",
    "    def __init__(self, make, model, year):\n",
    "        \"\"\"\n",
    "        Constructor to initialize a Car object.\n",
    "        \n",
    "        Args:\n",
    "            make (str): The make of the car (e.g., Toyota, Honda).\n",
    "            model (str): The model of the car (e.g., Camry, Civic).\n",
    "            year (int): The year of manufacture of the car.\n",
    "        \"\"\"\n",
    "        self.make = make\n",
    "        self.model = model\n",
    "        self.year = year\n",
    "        self.mileage = 0  # Initialize mileage attribute to 0 by default\n",
    "\n",
    "    def display_details(self):\n",
    "        \"\"\"\n",
    "        Method to display details of the car.\n",
    "        \"\"\"\n",
    "        print(f\"Car Details: {self.year} {self.make} {self.model}\")\n",
    "\n",
    "# Creating instances of Car using the constructor\n",
    "car1 = Car(\"Toyota\", \"Camry\", 2022)\n",
    "car2 = Car(\"Honda\", \"Civic\", 2023)\n",
    "\n",
    "# Accessing object attributes and calling methods\n",
    "car1.display_details()  # Output: Car Details: 2022 Toyota Camry\n",
    "car2.display_details()  # Output: Car Details: 2023 Honda Civic\n",
    "\n",
    "# Accessing and modifying object attributes\n",
    "print(f\"Mileage of {car1.make} {car1.model}: {car1.mileage} miles\")  # Output: Mileage of Toyota Camry: 0 miles\n",
    "car1.mileage = 10000\n",
    "print(f\"Updated Mileage of {car1.make} {car1.model}: {car1.mileage} miles\")  # Output: Updated Mileage of Toyota Camry: 10000 miles\n"
   ]
  },
  {
   "cell_type": "markdown",
   "id": "b4d96ebf-20a9-4137-944a-05a9eac8b972",
   "metadata": {},
   "source": [
    "### 4. Explain the `__init__` method in Python and its role in constructors."
   ]
  },
  {
   "cell_type": "markdown",
   "id": "cb1c1be5-0f8a-46c5-8e47-3cb5ef790784",
   "metadata": {},
   "source": [
    "Purpose of __init__ Method:\n",
    "Initialization:\n",
    "\n",
    "The primary role of the __init__ method is to initialize the object's attributes or state when an instance (object) of the class is created.\n",
    "It allows you to set initial values for attributes that are specific to each instance of the class.\n",
    "Automatically Called:\n",
    "\n",
    "The __init__ method is automatically called when you create a new instance of a class.\n",
    "It is invoked as soon as the object is instantiated using the class name followed by parentheses containing any required initialization values.\n",
    "Parameters:\n",
    "\n",
    "It accepts parameters (in addition to self, which refers to the instance itself) that are used to initialize the object's attributes based on specific values provided during object instantiation.\n",
    "These parameters can vary based on the requirements of the class and how you want to initialize objects."
   ]
  },
  {
   "cell_type": "code",
   "execution_count": 5,
   "id": "165a3eb7-c3f2-4d7c-8deb-9c7b7e123025",
   "metadata": {},
   "outputs": [
    {
     "name": "stdout",
     "output_type": "stream",
     "text": [
      "Car Details: 2022 Toyota Camry\n",
      "Car Details: 2023 Honda Civic\n",
      "Mileage of Toyota Camry: 0 miles\n",
      "Updated Mileage of Toyota Camry: 10000 miles\n"
     ]
    }
   ],
   "source": [
    "class Car:\n",
    "    def __init__(self, make, model, year):\n",
    "        \"\"\"\n",
    "        Constructor to initialize a Car object.\n",
    "        \n",
    "        Args:\n",
    "            make (str): The make of the car (e.g., Toyota, Honda).\n",
    "            model (str): The model of the car (e.g., Camry, Civic).\n",
    "            year (int): The year of manufacture of the car.\n",
    "        \"\"\"\n",
    "        self.make = make\n",
    "        self.model = model\n",
    "        self.year = year\n",
    "        self.mileage = 0  # Initialize mileage attribute to 0 by default\n",
    "\n",
    "    def display_details(self):\n",
    "        \"\"\"\n",
    "        Method to display details of the car.\n",
    "        \"\"\"\n",
    "        print(f\"Car Details: {self.year} {self.make} {self.model}\")\n",
    "\n",
    "# Creating instances of Car using the constructor\n",
    "car1 = Car(\"Toyota\", \"Camry\", 2022)\n",
    "car2 = Car(\"Honda\", \"Civic\", 2023)\n",
    "\n",
    "# Accessing object attributes and calling methods\n",
    "car1.display_details()  # Output: Car Details: 2022 Toyota Camry\n",
    "car2.display_details()  # Output: Car Details: 2023 Honda Civic\n",
    "\n",
    "# Accessing and modifying object attributes\n",
    "print(f\"Mileage of {car1.make} {car1.model}: {car1.mileage} miles\")  # Output: Mileage of Toyota Camry: 0 miles\n",
    "car1.mileage = 10000\n",
    "print(f\"Updated Mileage of {car1.make} {car1.model}: {car1.mileage} miles\")  # Output: Updated Mileage of Toyota Camry: 10000 miles\n"
   ]
  },
  {
   "cell_type": "markdown",
   "id": "63722873-2266-44a8-bfcc-3ca36aacce58",
   "metadata": {},
   "source": [
    "### 5. In a class named `Person`, create a constructor that initializes the `name` and `age` attributes. Provide an\n",
    "example of creating an object of this class."
   ]
  },
  {
   "cell_type": "code",
   "execution_count": 6,
   "id": "36d9bb8b-db5b-4cc8-bf72-b6cb23812641",
   "metadata": {},
   "outputs": [
    {
     "name": "stdout",
     "output_type": "stream",
     "text": [
      "Name: Alice, Age: 30\n"
     ]
    }
   ],
   "source": [
    "class Person:\n",
    "    def __init__(self, name, age):\n",
    "        \"\"\"\n",
    "        Constructor to initialize a Person object.\n",
    "        \n",
    "        Args:\n",
    "            name (str): The name of the person.\n",
    "            age (int): The age of the person.\n",
    "        \"\"\"\n",
    "        self.name = name\n",
    "        self.age = age\n",
    "\n",
    "# Creating an object (instance) of the Person class\n",
    "person1 = Person(\"Alice\", 30)\n",
    "\n",
    "# Accessing object attributes\n",
    "print(f\"Name: {person1.name}, Age: {person1.age}\")\n"
   ]
  },
  {
   "cell_type": "markdown",
   "id": "8d4aad5f-1dc0-494e-bdb9-adfeb0430960",
   "metadata": {},
   "source": [
    "### 6. How can you call a constructor explicitly in Python? Give an example."
   ]
  },
  {
   "cell_type": "code",
   "execution_count": 7,
   "id": "1ac3cf58-9b99-40dd-b5be-32b165adba8c",
   "metadata": {},
   "outputs": [
    {
     "name": "stdout",
     "output_type": "stream",
     "text": [
      "Employee Details: Name - John Doe, Age - 35, Employee ID - E12345\n"
     ]
    }
   ],
   "source": [
    "#Explicitly Calling a Constructor :Let's consider a scenario where you have a base class Person with a constructor, and you want to call this constructor explicitly from a derived class Employee while adding additional attributes specific to the Employee class.\n",
    "class Person:\n",
    "    def __init__(self, name, age):\n",
    "        \"\"\"\n",
    "        Constructor to initialize a Person object.\n",
    "        \n",
    "        Args:\n",
    "            name (str): The name of the person.\n",
    "            age (int): The age of the person.\n",
    "        \"\"\"\n",
    "        self.name = name\n",
    "        self.age = age\n",
    "\n",
    "class Employee(Person):\n",
    "    def __init__(self, name, age, employee_id):\n",
    "        \"\"\"\n",
    "        Constructor to initialize an Employee object.\n",
    "        \n",
    "        Args:\n",
    "            name (str): The name of the employee.\n",
    "            age (int): The age of the employee.\n",
    "            employee_id (str): The employee ID of the employee.\n",
    "        \"\"\"\n",
    "        # Call the constructor of the base class explicitly\n",
    "        Person.__init__(self, name, age)\n",
    "        self.employee_id = employee_id\n",
    "\n",
    "    def display_details(self):\n",
    "        \"\"\"\n",
    "        Method to display details of the employee.\n",
    "        \"\"\"\n",
    "        print(f\"Employee Details: Name - {self.name}, Age - {self.age}, Employee ID - {self.employee_id}\")\n",
    "\n",
    "# Creating an object of Employee\n",
    "employee1 = Employee(\"John Doe\", 35, \"E12345\")\n",
    "\n",
    "# Accessing and displaying details of the employee\n",
    "employee1.display_details()\n"
   ]
  },
  {
   "cell_type": "markdown",
   "id": "404d76cc-184f-4c7d-a2e2-2374be6f5c29",
   "metadata": {},
   "source": [
    "### 7. What is the significance of the `self` parameter in Python constructors? Explain with an example."
   ]
  },
  {
   "cell_type": "markdown",
   "id": "1952cc06-cb10-4f3f-a6b6-abc736a56b41",
   "metadata": {},
   "source": [
    "the self parameter in constructors (and in all instance methods of a class) refers to the instance of the class itself. It is a convention in Python to use self as the first parameter in the definition of instance methods, including the constructor (__init__ method).\n",
    "\n",
    "Significance of self Parameter:\n",
    "Instance Binding:\n",
    "\n",
    "self represents the instance of the class that is being created or operated on.\n",
    "It allows instance methods (including the constructor) to access and modify instance variables (attributes) that belong to that particular instance.\n",
    "\n",
    "Instance Specific:\n",
    "\n",
    "Each instance of a class has its own set of attributes and methods.\n",
    "self ensures that methods can distinguish between different instances and operate on their specific data.\n",
    "\n",
    "Automatic Binding:\n",
    "\n",
    "When you call a method on an instance (object.method()), Python automatically passes the instance (object) as the first argument (self) to the method."
   ]
  },
  {
   "cell_type": "code",
   "execution_count": 8,
   "id": "ebc513b6-14a8-4d09-95f6-ed0d58dd37f3",
   "metadata": {},
   "outputs": [
    {
     "name": "stdout",
     "output_type": "stream",
     "text": [
      "Car Details: 2022 Toyota Camry\n",
      "Car Details: 2023 Honda Civic\n",
      "Mileage of Toyota Camry: 0 miles\n",
      "Updated Mileage of Toyota Camry: 10000 miles\n"
     ]
    }
   ],
   "source": [
    "class Car:\n",
    "    def __init__(self, make, model, year):\n",
    "        \"\"\"\n",
    "        Constructor to initialize a Car object.\n",
    "        \n",
    "        Args:\n",
    "            make (str): The make of the car (e.g., Toyota, Honda).\n",
    "            model (str): The model of the car (e.g., Camry, Civic).\n",
    "            year (int): The year of manufacture of the car.\n",
    "        \"\"\"\n",
    "        self.make = make\n",
    "        self.model = model\n",
    "        self.year = year\n",
    "        self.mileage = 0  # Initialize mileage attribute to 0 by default\n",
    "\n",
    "    def display_details(self):\n",
    "        \"\"\"\n",
    "        Method to display details of the car.\n",
    "        \"\"\"\n",
    "        print(f\"Car Details: {self.year} {self.make} {self.model}\")\n",
    "\n",
    "# Creating instances of Car using the constructor\n",
    "car1 = Car(\"Toyota\", \"Camry\", 2022)\n",
    "car2 = Car(\"Honda\", \"Civic\", 2023)\n",
    "\n",
    "# Accessing object attributes and calling methods\n",
    "car1.display_details()  # Output: Car Details: 2022 Toyota Camry\n",
    "car2.display_details()  # Output: Car Details: 2023 Honda Civic\n",
    "\n",
    "# Accessing and modifying object attributes\n",
    "print(f\"Mileage of {car1.make} {car1.model}: {car1.mileage} miles\")  # Output: Mileage of Toyota Camry: 0 miles\n",
    "car1.mileage = 10000\n",
    "print(f\"Updated Mileage of {car1.make} {car1.model}: {car1.mileage} miles\")  # Output: Updated Mileage of Toyota Camry: 10000 miles\n"
   ]
  },
  {
   "cell_type": "markdown",
   "id": "91f408ed-9a8a-43df-82b4-2b6c3d600518",
   "metadata": {},
   "source": [
    "### 8. Discuss the concept of default constructors in Python. When are they used?"
   ]
  },
  {
   "cell_type": "markdown",
   "id": "940c439c-c6ab-4c99-a9f4-c017dc1cdbd8",
   "metadata": {},
   "source": [
    "Concept of Default Constructors in Python:\n",
    "Implicit Creation:\n",
    "\n",
    "When a class in Python does not explicitly define an __init__ method, Python creates a default constructor automatically.\n",
    "This default constructor initializes the object but does not perform any additional attribute initialization beyond what is inherent to Python's object creation.\n",
    "Empty __init__ Method:\n",
    "\n",
    "If a class defines an empty __init__ method (def __init__(self):), it serves as a default constructor in a sense.\n",
    "This constructor will initialize the instance with default attributes of an empty constructor, but without any additional initialization logic.\n",
    "\n",
    "When are Default Constructors Used?\n",
    "\n",
    "Simple Classes: For classes that do not require specific initialization beyond what Python provides by default (like basic object creation and initialization).\n",
    "Inheritance: When a subclass does not define its own __init__ method, it implicitly inherits and uses the parent class's __init__ method (if defined)."
   ]
  },
  {
   "cell_type": "markdown",
   "id": "eb3a2c10-295f-4c8e-9593-70f003cd1650",
   "metadata": {},
   "source": [
    "### 9. Create a Python class called `Rectangle` with a constructor that initializes the `width` and `height`attributes. Provide a method to calculate the area of the rectangle."
   ]
  },
  {
   "cell_type": "code",
   "execution_count": 9,
   "id": "251b6c45-da23-43f2-ac67-02445aafe3c1",
   "metadata": {},
   "outputs": [
    {
     "name": "stdout",
     "output_type": "stream",
     "text": [
      "Area of the rectangle with width 5 and height 3 is: 15\n"
     ]
    }
   ],
   "source": [
    "class Rectangle:\n",
    "    def __init__(self, width, height):\n",
    "        \"\"\"\n",
    "        Constructor to initialize a Rectangle object.\n",
    "        \n",
    "        Args:\n",
    "            width (float or int): The width of the rectangle.\n",
    "            height (float or int): The height of the rectangle.\n",
    "        \"\"\"\n",
    "        self.width = width\n",
    "        self.height = height\n",
    "\n",
    "    def calculate_area(self):\n",
    "        \"\"\"\n",
    "        Method to calculate the area of the rectangle.\n",
    "        \n",
    "        Returns:\n",
    "            float or int: The calculated area of the rectangle.\n",
    "        \"\"\"\n",
    "        return self.width * self.height\n",
    "\n",
    "# Creating an instance of Rectangle\n",
    "rectangle1 = Rectangle(5, 3)\n",
    "\n",
    "# Calculating and displaying the area of the rectangle\n",
    "area = rectangle1.calculate_area()\n",
    "print(f\"Area of the rectangle with width {rectangle1.width} and height {rectangle1.height} is: {area}\")\n",
    "\n"
   ]
  },
  {
   "cell_type": "markdown",
   "id": "2eb950e6-c189-482a-bb7a-8f633caa46a2",
   "metadata": {},
   "source": [
    "### 10. How can you have multiple constructors in a Python class? Explain with an example."
   ]
  },
  {
   "cell_type": "code",
   "execution_count": 10,
   "id": "0049b69f-edfa-43c1-9276-9e49af119661",
   "metadata": {},
   "outputs": [
    {
     "name": "stdout",
     "output_type": "stream",
     "text": [
      "Toyota Camry 2022\n",
      "Honda Civic 2020\n",
      "Ford Mustang 2023\n"
     ]
    }
   ],
   "source": [
    "class Car:\n",
    "    def __init__(self, make, model, year):\n",
    "        self.make = make\n",
    "        self.model = model\n",
    "        self.year = year\n",
    "    \n",
    "    @classmethod\n",
    "    def from_string(cls, car_string):\n",
    "        make, model, year = car_string.split('-')\n",
    "        return cls(make, model, year)\n",
    "    \n",
    "    @classmethod\n",
    "    def from_dict(cls, car_dict):\n",
    "        return cls(**car_dict)\n",
    "# Using the primary constructor\n",
    "car1 = Car('Toyota', 'Camry', 2022)\n",
    "\n",
    "# Using the from_string constructor\n",
    "car2 = Car.from_string('Honda-Civic-2020')\n",
    "\n",
    "# Using the from_dict constructor\n",
    "car_dict = {'make': 'Ford', 'model': 'Mustang', 'year': 2023}\n",
    "car3 = Car.from_dict(car_dict)\n",
    "\n",
    "# Outputting information\n",
    "print(car1.make, car1.model, car1.year)  # Output: Toyota Camry 2022\n",
    "print(car2.make, car2.model, car2.year)  # Output: Honda Civic 2020\n",
    "print(car3.make, car3.model, car3.year)  # Output: Ford Mustang 2023\n"
   ]
  },
  {
   "cell_type": "markdown",
   "id": "0e3700a3-ee2e-4b4a-ace8-4d3577ed745d",
   "metadata": {},
   "source": [
    "Primary Constructor (__init__ method):\n",
    "\n",
    "This is the primary initializer for the Car class that takes make, model, and year as parameters.\n",
    "Alternative Constructor (from_string class method):\n",
    "\n",
    "The from_string method is a class method (decorated with @classmethod) that takes a string car_string formatted as \"make-model-year\" and splits it to extract make, model, and year. It then returns a new instance of the Car class using these extracted values.\n",
    "Another Alternative Constructor (from_dict class method):\n",
    "\n",
    "The from_dict method is another class method that takes a dictionary car_dict containing keys \"make\", \"model\", and \"year\". It uses argument unpacking (**car_dict) to pass these values as keyword arguments to the Car constructor, creating a new instance of Car.\n",
    "In this example:\n",
    "\n",
    "car1 is created using the primary constructor with direct arguments.\n",
    "car2 is created using the from_string class method, which parses a string to create the Car object.\n",
    "car3 is created using the from_dict class method, which constructs the Car object from a dictionary."
   ]
  },
  {
   "cell_type": "markdown",
   "id": "9241ea59-587a-4abe-b158-534177999946",
   "metadata": {},
   "source": [
    "### 11. What is method overloading, and how is it related to constructors in Python?"
   ]
  },
  {
   "cell_type": "markdown",
   "id": "a2cd4898-5e57-4ae9-86c4-8fd8fc5da06e",
   "metadata": {},
   "source": [
    "Method Overloading in Python:\n",
    "In Python, method overloading by parameter types (as seen in languages like Java or C++) isn't directly supported because Python doesn't distinguish methods by their parameter types alone. However, you can achieve similar functionality in Python using default parameter values or by using variable-length arguments (*args and **kwargs).\n",
    "\n",
    "Constructors in Python and Overloading:\n",
    "Constructors in Python (defined with __init__ method) are not overloaded in the traditional sense. That means you cannot define multiple __init__ methods within the same class with different parameter lists. Instead, you can use class methods or default parameter values to achieve similar effects, as shown in the previous example of multiple constructors."
   ]
  },
  {
   "cell_type": "code",
   "execution_count": 11,
   "id": "bc06d38d-ce47-4588-827e-932fa5a68517",
   "metadata": {},
   "outputs": [],
   "source": [
    "class Car:\n",
    "    def __init__(self, make, model, year):\n",
    "        self.make = make\n",
    "        self.model = model\n",
    "        self.year = year\n",
    "    \n",
    "    @classmethod\n",
    "    def from_string(cls, car_string):\n",
    "        make, model, year = car_string.split('-')\n",
    "        return cls(make, model, year)\n",
    "    \n",
    "    @classmethod\n",
    "    def from_dict(cls, car_dict):\n",
    "        return cls(**car_dict)\n"
   ]
  },
  {
   "cell_type": "markdown",
   "id": "12c8c445-ea37-458e-9d4a-078695dff3a2",
   "metadata": {},
   "source": [
    "### 12. Explain the use of the `super()` function in Python constructors. Provide an example."
   ]
  },
  {
   "cell_type": "markdown",
   "id": "832cde0b-7f28-456d-8062-9c957fb1b008",
   "metadata": {},
   "source": [
    "the super() function is used to call a method from a parent class (or superclass) within a child class. When working with constructors (__init__ methods) in inheritance hierarchies, super() allows you to initialize attributes or invoke methods defined in the parent class, extending or overriding their behavior as needed."
   ]
  },
  {
   "cell_type": "code",
   "execution_count": 12,
   "id": "0701a3f8-b4e9-4918-b372-cd7177ff3f40",
   "metadata": {},
   "outputs": [
    {
     "name": "stdout",
     "output_type": "stream",
     "text": [
      "Vehicle: 2022 Toyota\n",
      "Car Model: Camry\n"
     ]
    }
   ],
   "source": [
    "class Vehicle:\n",
    "    def __init__(self, make, year):\n",
    "        self.make = make\n",
    "        self.year = year\n",
    "    \n",
    "    def display_info(self):\n",
    "        print(f\"Vehicle: {self.year} {self.make}\")\n",
    "\n",
    "class Car(Vehicle):\n",
    "    def __init__(self, make, year, model):\n",
    "        super().__init__(make, year)  # Calling parent class constructor\n",
    "        self.model = model\n",
    "    \n",
    "    def display_info(self):\n",
    "        super().display_info()  # Calling parent class method\n",
    "        print(f\"Car Model: {self.model}\")\n",
    "\n",
    "# Creating instances\n",
    "car = Car(\"Toyota\", 2022, \"Camry\")\n",
    "car.display_info()\n"
   ]
  },
  {
   "cell_type": "markdown",
   "id": "f998ae7c-3102-435d-ab4a-208ef02b2ef5",
   "metadata": {},
   "source": [
    "### 13. Create a class called `Book` with a constructor that initializes the `title`, `author`, and `published_year`attributes. Provide a method to display book details."
   ]
  },
  {
   "cell_type": "code",
   "execution_count": 13,
   "id": "7b1cc0ee-5fff-4215-b569-0dbbd122f6a8",
   "metadata": {},
   "outputs": [
    {
     "name": "stdout",
     "output_type": "stream",
     "text": [
      "Title: The Catcher in the Rye\n",
      "Author: J.D. Salinger\n",
      "Published Year: 1951\n"
     ]
    }
   ],
   "source": [
    "class Book:\n",
    "    def __init__(self, title, author, published_year):\n",
    "        self.title = title\n",
    "        self.author = author\n",
    "        self.published_year = published_year\n",
    "    \n",
    "    def display_details(self):\n",
    "        print(f\"Title: {self.title}\")\n",
    "        print(f\"Author: {self.author}\")\n",
    "        print(f\"Published Year: {self.published_year}\")\n",
    "\n",
    "# Example usage:\n",
    "book1 = Book(\"The Catcher in the Rye\", \"J.D. Salinger\", 1951)\n",
    "book1.display_details()\n",
    "\n",
    "#"
   ]
  },
  {
   "cell_type": "markdown",
   "id": "920e1c89-054a-45e4-9a7a-aae89c2f951a",
   "metadata": {},
   "source": [
    "### 14. Discuss the differences between constructors and regular methods in Python classes."
   ]
  },
  {
   "cell_type": "markdown",
   "id": "28451e3f-01e6-4ee5-9234-4001e0fe9355",
   "metadata": {},
   "source": [
    "Constructors (__init__ methods):\n",
    "Purpose:\n",
    "\n",
    "Constructors: Used to initialize (or instantiate) an object when it is created. They set up initial values for the object's attributes.\n",
    "Name:\n",
    "\n",
    "Constructors: Always named __init__. This special method is automatically called when a new instance of the class is created.\n",
    "Invocation:\n",
    "\n",
    "Constructors: Automatically invoked when an object of the class is instantiated using the class name followed by parentheses (ClassName()).\n",
    "Return Value:\n",
    "\n",
    "Constructors: Typically do not return any value explicitly (None is implicitly returned). Their main purpose is to initialize instance variables.\n",
    "Usage of self Parameter:\n",
    "\n",
    "Constructors: The self parameter refers to the instance of the class being created. It is used to access and initialize instance attributes (self.attribute_name).\n",
    "\n",
    "Regular Methods:\n",
    "\n",
    "Purpose:\n",
    "\n",
    "Regular Methods: Used to define functionalities or operations that can be performed on objects after they have been instantiated.\n",
    "Name:\n",
    "\n",
    "Regular Methods: Can have any valid method name chosen by the programmer, depending on the specific functionality they provide.\n",
    "Invocation:\n",
    "\n",
    "Regular Methods: Need to be explicitly called using the object instance (obj.method() syntax) or the class name (Classname.method(obj) for class methods).\n",
    "Return Value:\n",
    "\n",
    "Regular Methods: Can return any type of value or perform actions on object attributes. They can perform calculations, manipulate data, or implement specific behaviors.\n",
    "Usage of self Parameter:\n",
    "\n",
    "Regular Methods: The self parameter refers to the instance of the class on which the method is called. It is used to access instance attributes and other methods of the class."
   ]
  },
  {
   "cell_type": "markdown",
   "id": "a300e2d3-fb9f-4f0a-8775-4f4f85988be6",
   "metadata": {},
   "source": [
    "### 15. Explain the role of the `self` parameter in instance variable initialization within a constructor."
   ]
  },
  {
   "cell_type": "markdown",
   "id": "0aa0ba8b-3c69-4cbf-971b-09db40fc0978",
   "metadata": {},
   "source": [
    "Role of self Parameter in Instance Variable Initialization:\n",
    "Reference to Instance:\n",
    "\n",
    "In Python, self is a convention (not a keyword) used to refer to the instance of the class itself. It acts as a reference to the current instance of the class.\n",
    "When a new object (instance) of a class is created, Python automatically passes the instance (self) as the first parameter to the __init__ method.\n",
    "Attribute Assignment:\n",
    "\n",
    "Within the __init__ method, self is used to bind instance-specific data (attributes) to the object. It allows you to define and initialize instance variables that belong to the object being created.\n",
    "Instance Scope:\n",
    "\n",
    "Any variables assigned using self inside the __init__ method become instance variables. These variables are accessible throughout the class instance and can be accessed and modified using self."
   ]
  },
  {
   "cell_type": "markdown",
   "id": "ceb754a7-9662-41ad-9dec-53d4cdbd8e37",
   "metadata": {},
   "source": [
    "### 16. How do you prevent a class from having multiple instances by using constructors in Python? Provide an example."
   ]
  },
  {
   "cell_type": "markdown",
   "id": "26229ed5-814c-4d21-8d14-845a6b187741",
   "metadata": {},
   "source": [
    "prevent a class from having multiple instances (enforce a singleton pattern) by implementing a mechanism in the constructor (__init__ method) to check if an instance of the class already exists. If an instance exists, you can either raise an exception or return the existing instance instead of creating a new one."
   ]
  },
  {
   "cell_type": "code",
   "execution_count": 15,
   "id": "9c2f8bab-2c3e-4bd7-814b-669db01810c3",
   "metadata": {},
   "outputs": [
    {
     "name": "stdout",
     "output_type": "stream",
     "text": [
      "Initializing Singleton instance\n",
      "Instance 1: <__main__.Singleton object at 0x000002744FC6EC50>\n",
      "Initializing Singleton instance\n",
      "Instance 2: <__main__.Singleton object at 0x000002744FC6EC50>\n"
     ]
    }
   ],
   "source": [
    "class Singleton:\n",
    "    _instance = None  # Class variable to store the instance\n",
    "    \n",
    "    def __new__(cls):\n",
    "        if cls._instance is None:\n",
    "            cls._instance = super().__new__(cls)\n",
    "        return cls._instance\n",
    "    \n",
    "    def __init__(self):\n",
    "        print(\"Initializing Singleton instance\")\n",
    "\n",
    "# Usage example:\n",
    "singleton_instance1 = Singleton()\n",
    "print(f\"Instance 1: {singleton_instance1}\")\n",
    "\n",
    "singleton_instance2 = Singleton()\n",
    "print(f\"Instance 2: {singleton_instance2}\")\n",
    "\n"
   ]
  },
  {
   "cell_type": "markdown",
   "id": "8d2c30ee-0aef-4cc1-b5c2-f998c82d7bd8",
   "metadata": {},
   "source": [
    "### 17. Create a Python class called `Student` with a constructor that takes a list of subjects as a parameter and initializes the `subjects` attribute."
   ]
  },
  {
   "cell_type": "code",
   "execution_count": 16,
   "id": "90948bcd-b7e2-444a-a8e5-882698077385",
   "metadata": {},
   "outputs": [
    {
     "name": "stdout",
     "output_type": "stream",
     "text": [
      "Subjects enrolled:\n",
      "Math\n",
      "Science\n",
      "History\n"
     ]
    }
   ],
   "source": [
    "class Student:\n",
    "    def __init__(self, subjects):\n",
    "        self.subjects = subjects\n",
    "    \n",
    "    def display_subjects(self):\n",
    "        print(\"Subjects enrolled:\")\n",
    "        for subject in self.subjects:\n",
    "            print(subject)\n",
    "\n",
    "# Example usage:\n",
    "subjects_list = [\"Math\", \"Science\", \"History\"]\n",
    "student1 = Student(subjects_list)\n",
    "student1.display_subjects()\n",
    "\n",
    "# Output:\n",
    "# Subjects enrolled:\n",
    "# Math\n",
    "# Science\n",
    "# History\n"
   ]
  },
  {
   "cell_type": "markdown",
   "id": "ed8b4673-f3ce-4914-9a64-3e47f37b5312",
   "metadata": {},
   "source": [
    "### 18. What is the purpose of the `__del__` method in Python classes, and how does it relate to constructors?"
   ]
  },
  {
   "cell_type": "code",
   "execution_count": 17,
   "id": "055bbfad-8476-4e8e-9441-ff037af30933",
   "metadata": {},
   "outputs": [
    {
     "name": "stdout",
     "output_type": "stream",
     "text": [
      "Initializing Object 1\n",
      "Initializing Object 2\n",
      "Deleting Object 1\n"
     ]
    }
   ],
   "source": [
    "class MyClass:\n",
    "    def __init__(self, name):\n",
    "        self.name = name\n",
    "        print(f\"Initializing {self.name}\")\n",
    "    \n",
    "    def __del__(self):\n",
    "        print(f\"Deleting {self.name}\")\n",
    "\n",
    "# Creating instances\n",
    "obj1 = MyClass(\"Object 1\")\n",
    "obj2 = MyClass(\"Object 2\")\n",
    "\n",
    "# Object destruction\n",
    "del obj1\n"
   ]
  },
  {
   "cell_type": "markdown",
   "id": "15c2a80f-c38b-40ea-81ca-ed479d357184",
   "metadata": {},
   "source": [
    "Purpose of __del__ Method:\n",
    "Object Cleanup:\n",
    "\n",
    "The __del__ method is a special method in Python classes that is called when an object is about to be destroyed or deleted. It is used to perform any cleanup actions or resource releases associated with the object.\n",
    "Automatic Garbage Collection:\n",
    "\n",
    "Python uses automatic garbage collection to reclaim memory occupied by objects that are no longer referenced (i.e., when their reference count drops to zero). Before an object is destroyed, Python calls its __del__ method, if defined, to perform cleanup operations.\n",
    "Use Cases:\n",
    "\n",
    "Common use cases for __del__ include closing file handles, releasing database connections, or any other cleanup tasks that need to be performed when an object is no longer needed."
   ]
  },
  {
   "cell_type": "markdown",
   "id": "9b8f6b4b-7abf-4e48-9028-5555d2dda15c",
   "metadata": {},
   "source": [
    "### 19. Explain the use of constructor chaining in Python. Provide a practical example."
   ]
  },
  {
   "cell_type": "code",
   "execution_count": 18,
   "id": "3b0a6b20-2575-4fc3-bcef-5fe9d1eed45f",
   "metadata": {},
   "outputs": [
    {
     "name": "stdout",
     "output_type": "stream",
     "text": [
      "Person initialized with name: Alice\n",
      "Student initialized with ID: S12345\n"
     ]
    }
   ],
   "source": [
    "class Person:\n",
    "    def __init__(self, name):\n",
    "        self.name = name\n",
    "        print(f\"Person initialized with name: {self.name}\")\n",
    "\n",
    "class Student(Person):\n",
    "    def __init__(self, name, student_id):\n",
    "        self.student_id = student_id\n",
    "        super().__init__(name)  # Calling parent class constructor\n",
    "        print(f\"Student initialized with ID: {self.student_id}\")\n",
    "\n",
    "# Example usage:\n",
    "student1 = Student(\"Alice\", \"S12345\")\n"
   ]
  },
  {
   "cell_type": "markdown",
   "id": "65e091d7-1d34-4f5b-920a-ac0dc3ca95f0",
   "metadata": {},
   "source": [
    "Base Class (Person):\n",
    "\n",
    "The Person class has a constructor (__init__) that initializes the name attribute when a Person object is created.\n",
    "In the constructor, self.name = name assigns the name parameter to the name attribute of the Person object.\n",
    "Derived Class (Student):\n",
    "\n",
    "The Student class inherits from Person (class Student(Person)).\n",
    "It has its own constructor (__init__) that takes name and student_id as parameters.\n",
    "super().__init__(name) is used to call the constructor of the parent class (Person). This initializes the name attribute inherited from Person.\n",
    "After initializing the name attribute, the Student constructor proceeds to initialize its own student_id attribute (self.student_id = student_id).\n",
    "Constructor Chaining:\n",
    "\n",
    "By using super().__init__(name) in the Student constructor, we chain the initialization process to the constructor of the Person class. This ensures that both name and student_id attributes are initialized correctly when creating a Student object.\n",
    "Example Usage:\n",
    "\n",
    "student1 = Student(\"Alice\", \"S12345\") creates a new Student object with name set to \"Alice\" and student_id set to \"S12345\".\n",
    "During object creation, messages are printed from both the Person and Student constructors, confirming the initialization steps."
   ]
  },
  {
   "cell_type": "markdown",
   "id": "0ad77ea2-4a61-481f-98b1-33f2d6f876fe",
   "metadata": {},
   "source": [
    "### 20. Create a Python class called `Car` with a default constructor that initializes the `make` and `model` attributes. Provide a method to display car information."
   ]
  },
  {
   "cell_type": "code",
   "execution_count": 19,
   "id": "9d2ae482-bf5c-42f8-9687-187edc548824",
   "metadata": {},
   "outputs": [
    {
     "name": "stdout",
     "output_type": "stream",
     "text": [
      "Car Make: Toyota\n",
      "Car Model: Camry\n"
     ]
    }
   ],
   "source": [
    "class Car:\n",
    "    def __init__(self, make, model):\n",
    "        self.make = make\n",
    "        self.model = model\n",
    "    \n",
    "    def display_info(self):\n",
    "        print(f\"Car Make: {self.make}\")\n",
    "        print(f\"Car Model: {self.model}\")\n",
    "\n",
    "# Example usage:\n",
    "car1 = Car(\"Toyota\", \"Camry\")\n",
    "car1.display_info()\n",
    "\n",
    "# Output:\n",
    "# Car Make: Toyota\n",
    "# Car Model: Camry\n"
   ]
  },
  {
   "cell_type": "markdown",
   "id": "ce07be22-06ed-4fc4-aa94-cfd9492c367d",
   "metadata": {},
   "source": [
    "## Inheritance:"
   ]
  },
  {
   "cell_type": "markdown",
   "id": "c63c852d-42af-44bb-94d8-fee4e8c91bb8",
   "metadata": {},
   "source": [
    "### 1. What is inheritance in Python? Explain its significance in object-oriented programming."
   ]
  },
  {
   "cell_type": "markdown",
   "id": "aabba9aa-aa95-4a53-85b6-ab44beded882",
   "metadata": {},
   "source": [
    "Inheritance in Python is a mechanism that allows one class (called the child or derived class) to inherit and extend the properties and behaviors of another class (called the parent or base class). This concept is central to object-oriented programming (OOP) and offers several important benefits:\n",
    "\n",
    "Key Aspects of Inheritance:\n",
    "Extending and Reusing Code:\n",
    "\n",
    "Inheritance facilitates code reuse by allowing classes to inherit attributes and methods from a parent class. This avoids redundancy and promotes a more modular and maintainable codebase.\n",
    "\n",
    "Hierarchy of Classes:\n",
    "\n",
    "Inheritance establishes a hierarchical relationship among classes, where subclasses (derived classes) can specialize or extend functionalities provided by superclasses (base classes).\n",
    "Base Class Features:\n",
    "\n",
    "The base class defines common attributes and methods that are shared among its subclasses. Subclasses can enhance or modify these inherited features to suit their specific needs.\n",
    "Overriding Methods:\n",
    "\n",
    "Subclasses can override methods defined in the base class to provide specialized implementations. This allows customization of behaviors without modifying the base class directly.\n",
    "Polymorphism:\n",
    "\n",
    "Inheritance supports polymorphism, allowing objects of different classes to be treated as objects of a common superclass. This enables flexibility in programming and facilitates code interoperability."
   ]
  },
  {
   "cell_type": "markdown",
   "id": "d1c94ba6-c252-4da3-87bd-cf4208f3ce9c",
   "metadata": {},
   "source": [
    "### 2. Differentiate between single inheritance and multiple inheritance in Python. Provide examples for each."
   ]
  },
  {
   "cell_type": "markdown",
   "id": "f0ec39f9-5346-4c5f-a455-8b225a89eadf",
   "metadata": {},
   "source": [
    "Single Inheritance:\n",
    "\n",
    "Definition: Single inheritance refers to the scenario where a class inherits from only one base class. The derived class inherits attributes and methods from a single parent class.\n",
    "\n",
    "Multiple Inheritance:\n",
    "Definition: Multiple inheritance refers to the scenario where a class can inherit attributes and methods from more than one base class. This allows for combining features from multiple parent classes into a single derived class."
   ]
  },
  {
   "cell_type": "code",
   "execution_count": 20,
   "id": "78a1f3e6-26d7-48e6-919a-0dfd4ee78743",
   "metadata": {},
   "outputs": [
    {
     "name": "stdout",
     "output_type": "stream",
     "text": [
      "Buddy says Woof!\n"
     ]
    }
   ],
   "source": [
    "class Animal:\n",
    "    def __init__(self, name):\n",
    "        self.name = name\n",
    "    \n",
    "    def speak(self):\n",
    "        raise NotImplementedError(\"Subclass must implement abstract method\")\n",
    "\n",
    "class Dog(Animal):\n",
    "    def speak(self):\n",
    "        return f\"{self.name} says Woof!\"\n",
    "\n",
    "# Usage example:\n",
    "dog = Dog(\"Buddy\")\n",
    "print(dog.speak())  # Output: Buddy says Woof!\n"
   ]
  },
  {
   "cell_type": "code",
   "execution_count": 21,
   "id": "2169d751-94be-4de3-af10-a704993f2530",
   "metadata": {},
   "outputs": [
    {
     "name": "stdout",
     "output_type": "stream",
     "text": [
      "Sparrow says Chirp!\n",
      "Sparrow can fly!\n"
     ]
    }
   ],
   "source": [
    "class Animal:\n",
    "    def __init__(self, name):\n",
    "        self.name = name\n",
    "    \n",
    "    def speak(self):\n",
    "        raise NotImplementedError(\"Subclass must implement abstract method\")\n",
    "\n",
    "class Flyable:\n",
    "    def fly(self):\n",
    "        return f\"{self.name} can fly!\"\n",
    "\n",
    "class Bird(Animal, Flyable):\n",
    "    def speak(self):\n",
    "        return f\"{self.name} says Chirp!\"\n",
    "\n",
    "# Usage example:\n",
    "bird = Bird(\"Sparrow\")\n",
    "print(bird.speak())  # Output: Sparrow says Chirp!\n",
    "print(bird.fly())    # Output: Sparrow can fly!\n"
   ]
  },
  {
   "cell_type": "markdown",
   "id": "d8c74a6f-5cc8-4d20-8255-f7752fb00d01",
   "metadata": {},
   "source": [
    "### 3. Create a Python class called `Vehicle` with attributes `color` and `speed`. Then, create a child class called`Car` that inherits from `Vehicle` and adds a `brand` attribute. Provide an example of creating a `Car` object."
   ]
  },
  {
   "cell_type": "code",
   "execution_count": 22,
   "id": "60d097b5-4ced-4404-9bfa-09fe1aa9e515",
   "metadata": {},
   "outputs": [
    {
     "name": "stdout",
     "output_type": "stream",
     "text": [
      "Car Color: Red\n",
      "Car Speed: 120\n",
      "Car Brand: Toyota\n"
     ]
    }
   ],
   "source": [
    "class Vehicle:\n",
    "    def __init__(self, color, speed):\n",
    "        self.color = color\n",
    "        self.speed = speed\n",
    "\n",
    "class Car(Vehicle):\n",
    "    def __init__(self, color, speed, brand):\n",
    "        super().__init__(color, speed)\n",
    "        self.brand = brand\n",
    "\n",
    "# Example of creating a Car object:\n",
    "car = Car(\"Red\", 120, \"Toyota\")\n",
    "\n",
    "# Accessing attributes:\n",
    "print(f\"Car Color: {car.color}\")\n",
    "print(f\"Car Speed: {car.speed}\")\n",
    "print(f\"Car Brand: {car.brand}\")\n",
    "\n"
   ]
  },
  {
   "cell_type": "markdown",
   "id": "e96c4375-19b6-4be4-9e14-a540cf4a87e6",
   "metadata": {},
   "source": [
    "### 4. Explain the concept of method overriding in inheritance. Provide a practical example."
   ]
  },
  {
   "cell_type": "markdown",
   "id": "31c57300-81dd-4f4b-9dc5-b6d2a88818e4",
   "metadata": {},
   "source": [
    "Method overriding in inheritance refers to the ability of a subclass to provide a specific implementation of a method that is already defined in its superclass. When a method in the subclass has the same name, parameters, and return type as a method in its superclass, the subclass method overrides the superclass method. This allows for customizing or extending the behavior of inherited methods in the context of the subclass."
   ]
  },
  {
   "cell_type": "code",
   "execution_count": 23,
   "id": "2184f67c-f602-4770-833b-badec2ee16dd",
   "metadata": {},
   "outputs": [
    {
     "name": "stdout",
     "output_type": "stream",
     "text": [
      "Generic animal sound\n",
      "Bark bark!\n"
     ]
    }
   ],
   "source": [
    "class Animal:\n",
    "    def sound(self):\n",
    "        return \"Generic animal sound\"\n",
    "\n",
    "class Dog(Animal):\n",
    "    def sound(self):\n",
    "        return \"Bark bark!\"\n",
    "\n",
    "# Example usage:\n",
    "animal = Animal()\n",
    "dog = Dog()\n",
    "\n",
    "print(animal.sound())  # Output: Generic animal sound\n",
    "print(dog.sound())     # Output: Bark bark!\n"
   ]
  },
  {
   "cell_type": "markdown",
   "id": "6edd1f1c-2ea8-4f31-90a4-c21eafe3035a",
   "metadata": {},
   "source": [
    "### 5. How can you access the methods and attributes of a parent class from a child class in Python? Give an example."
   ]
  },
  {
   "cell_type": "code",
   "execution_count": 24,
   "id": "ca91314f-08a0-4255-ab6b-bbc80dc69bc0",
   "metadata": {},
   "outputs": [
    {
     "name": "stdout",
     "output_type": "stream",
     "text": [
      "Buddy says Woof!\n",
      "Buddy (Labrador) says: Buddy says something generic\n"
     ]
    }
   ],
   "source": [
    "class Animal:\n",
    "    def __init__(self, name):\n",
    "        self.name = name\n",
    "    \n",
    "    def speak(self):\n",
    "        return f\"{self.name} says something generic\"\n",
    "\n",
    "class Dog(Animal):\n",
    "    def __init__(self, name, breed):\n",
    "        super().__init__(name)  # Call parent class constructor\n",
    "        self.breed = breed\n",
    "    \n",
    "    def speak(self):\n",
    "        return f\"{self.name} says Woof!\"\n",
    "\n",
    "    def display_info(self):\n",
    "        # Accessing parent class method\n",
    "        generic_sound = super().speak()\n",
    "        return f\"{self.name} ({self.breed}) says: {generic_sound}\"\n",
    "\n",
    "# Example usage:\n",
    "dog = Dog(\"Buddy\", \"Labrador\")\n",
    "print(dog.speak())          # Output: Buddy says Woof!\n",
    "print(dog.display_info())   # Output: Buddy (Labrador) says: Buddy says something generic\n"
   ]
  },
  {
   "cell_type": "markdown",
   "id": "1187b26d-bd5f-4665-9851-355438dc46e2",
   "metadata": {},
   "source": [
    "access methods and attributes of a parent class (also known as a base class or superclass) from a child class (derived class) using the super() function. The super() function provides a way to delegate method calls and attribute accesses to the parent class within the context of the child class. "
   ]
  },
  {
   "cell_type": "markdown",
   "id": "9e8edd89-31b6-4457-863c-642679899180",
   "metadata": {},
   "source": [
    "### 6. Discuss the use of the `super()` function in Python inheritance. When and why is it used? Provide an example."
   ]
  },
  {
   "cell_type": "markdown",
   "id": "bc77d59f-efbc-490f-8ef1-08deba4a79b6",
   "metadata": {},
   "source": [
    "Purpose of super() Function:\n",
    "Method Resolution Order (MRO):\n",
    "\n",
    "Python uses Method Resolution Order (MRO) to determine the sequence in which methods are called in inheritance hierarchies. super() respects this order and ensures that methods from parent classes are called in a consistent and predictable manner.\n",
    "Accessing Parent Class Methods and Attributes:\n",
    "\n",
    "super() allows you to explicitly reference methods and attributes of the superclass from within the subclass. This is useful when you want to extend or specialize behaviors inherited from the superclass.\n",
    "Initialization of Parent Class:\n",
    "\n",
    "When overriding methods or extending the constructor (__init__) in a subclass, super() is often used to invoke the corresponding method in the superclass, ensuring that initialization logic from the parent class is not duplicated."
   ]
  },
  {
   "cell_type": "markdown",
   "id": "3cc42f73-b414-47ac-a259-89ac5a33ba7c",
   "metadata": {},
   "source": [
    "### 7. Create a Python class called `Animal` with a method `speak()`. Then, create child classes `Dog` and `Cat`"
   ]
  },
  {
   "cell_type": "code",
   "execution_count": 25,
   "id": "a748cb0b-6f82-4ed4-922e-24ccb0f3892b",
   "metadata": {},
   "outputs": [
    {
     "name": "stdout",
     "output_type": "stream",
     "text": [
      "Woof!\n",
      "Meow!\n"
     ]
    }
   ],
   "source": [
    "class Animal:\n",
    "    def speak(self):\n",
    "        raise NotImplementedError(\"Subclass must implement abstract method\")\n",
    "\n",
    "class Dog(Animal):\n",
    "    def speak(self):\n",
    "        return \"Woof!\"\n",
    "\n",
    "class Cat(Animal):\n",
    "    def speak(self):\n",
    "        return \"Meow!\"\n",
    "\n",
    "# Example usage:\n",
    "dog = Dog()\n",
    "cat = Cat()\n",
    "\n",
    "print(dog.speak())  # Output: Woof!\n",
    "print(cat.speak())  # Output: Meow!\n"
   ]
  },
  {
   "cell_type": "markdown",
   "id": "ad036b18-be9d-494f-95f6-b514f4f49adf",
   "metadata": {},
   "source": [
    "### 8. Explain the role of the `isinstance()` function in Python and how it relates to inheritance."
   ]
  },
  {
   "cell_type": "markdown",
   "id": "d0410b7f-1568-4c94-8b52-1dfc36fca05d",
   "metadata": {},
   "source": [
    "Role of isinstance() Function:\n",
    "Checking Object Type:\n",
    "\n",
    "isinstance(object, class) checks whether object is an instance of class or any of its subclasses.\n",
    "It returns True if object is an instance of class or any subclass of class, otherwise False.\n",
    "Verifying Inheritance Relationships:\n",
    "\n",
    "isinstance() helps in verifying if an object inherits from a specific class or belongs to a subclass within an inheritance hierarchy.\n",
    "It supports flexible type checking and facilitates polymorphic behavior by allowing code to adapt based on the actual type of objects.\n",
    "Handling Polymorphism:\n",
    "\n",
    "Inheritance and polymorphism enable isinstance() to be used in scenarios where different subclasses can have specialized behaviors.\n",
    "This function aids in designing code that behaves differently depending on the specific subclass instance it encounters at runtime.\n",
    "\n",
    "Relationship to Inheritance:\n",
    "\n",
    "Dynamic Type Checking: isinstance() allows Python programs to dynamically check the type of objects at runtime, facilitating flexible and polymorphic behavior based on inheritance relationships.\n",
    "\n",
    "Code Flexibility: Enables conditional logic and behavior customization based on the specific subclass type encountered during program execution.\n",
    "\n",
    "Object-Oriented Design: Supports robust design principles by verifying object relationships within class hierarchies, ensuring adherence to inheritance structures and facilitating code maintenance and extension.   "
   ]
  },
  {
   "cell_type": "markdown",
   "id": "2dd895f1-723c-4929-be6e-1e74cea0d36d",
   "metadata": {},
   "source": [
    "### 9. What is the purpose of the `issubclass()` function in Python? Provide an example."
   ]
  },
  {
   "cell_type": "markdown",
   "id": "3290082e-b60e-4b0f-9f97-37e07dce06b0",
   "metadata": {},
   "source": [
    "Purpose of issubclass() Function:\n",
    "Checking Subclass Relationship:\n",
    "\n",
    "issubclass(subclass, superclass) checks whether subclass is a subclass of superclass.\n",
    "It returns True if subclass inherits from superclass, otherwise False.\n",
    "Verification of Inheritance:\n",
    "\n",
    "Helps in verifying if a class extends functionalities from another class in hierarchical class structures.\n",
    "Useful for conditional logic based on class relationships and for ensuring expected class hierarchies are maintained.\n",
    "Dynamic Type Checking:\n",
    "\n",
    "Facilitates runtime type checking and enables polymorphic behavior by confirming class inheritance at runtime."
   ]
  },
  {
   "cell_type": "code",
   "execution_count": 26,
   "id": "397b07f2-7517-40a5-9294-a46d7824b37e",
   "metadata": {},
   "outputs": [
    {
     "name": "stdout",
     "output_type": "stream",
     "text": [
      "True\n",
      "True\n",
      "True\n",
      "False\n"
     ]
    }
   ],
   "source": [
    "class Animal:\n",
    "    pass\n",
    "\n",
    "class Dog(Animal):\n",
    "    pass\n",
    "\n",
    "class Labrador(Dog):\n",
    "    pass\n",
    "\n",
    "# Usage example:\n",
    "print(issubclass(Dog, Animal))      # Output: True, Dog is a subclass of Animal\n",
    "print(issubclass(Labrador, Dog))    # Output: True, Labrador is a subclass of Dog\n",
    "print(issubclass(Labrador, Animal)) # Output: True, Labrador is a subclass of Animal (indirectly)\n",
    "\n",
    "print(issubclass(Animal, Dog))      # Output: False, Animal is not a subclass of Dog\n"
   ]
  },
  {
   "cell_type": "markdown",
   "id": "179c07c9-fa3b-403c-9a62-8ed1f3017b17",
   "metadata": {},
   "source": [
    "### 10. Discuss the concept of constructor inheritance in Python. How are constructors inherited in child classes?"
   ]
  },
  {
   "cell_type": "code",
   "execution_count": 27,
   "id": "5be9e339-f67b-4136-82a3-18191b30afb1",
   "metadata": {},
   "outputs": [
    {
     "name": "stdout",
     "output_type": "stream",
     "text": [
      "Initializing Canine Animal\n",
      "Initializing Labrador Dog\n"
     ]
    }
   ],
   "source": [
    "class Animal:\n",
    "    def __init__(self, species):\n",
    "        self.species = species\n",
    "        print(f\"Initializing {self.species} Animal\")\n",
    "\n",
    "class Dog(Animal):\n",
    "    def __init__(self, species, breed):\n",
    "        super().__init__(species)  # Call parent class constructor\n",
    "        self.breed = breed\n",
    "        print(f\"Initializing {self.breed} Dog\")\n",
    "\n",
    "# Example usage:\n",
    "dog = Dog(\"Canine\", \"Labrador\")\n"
   ]
  },
  {
   "cell_type": "markdown",
   "id": "fa67d01a-7c70-4c67-8990-b2fb34e713f1",
   "metadata": {},
   "source": [
    "Concept of Constructor Inheritance:\n",
    "Default Behavior:\n",
    "\n",
    "When a child class is created without its own __init__ method, it automatically inherits the constructor (__init__ method) of its parent class.\n",
    "Explicit Inheritance:\n",
    "\n",
    "If a child class defines its own __init__ method, it can explicitly call the __init__ method of the parent class using super().__init__(...) to initialize attributes inherited from the parent class.\n",
    "Chain of Initialization:\n",
    "\n",
    "Constructors of parent classes are called recursively when using super().__init__() in the child class, ensuring that initialization logic defined in each ancestor class is executed in the order of inheritance."
   ]
  },
  {
   "cell_type": "markdown",
   "id": "a2ad3328-a1a4-4782-a48f-1e36b391c07b",
   "metadata": {},
   "source": [
    "### 10. How can you have multiple constructors in a Python class? Explain with an example."
   ]
  },
  {
   "cell_type": "code",
   "execution_count": 1,
   "id": "0bf6d1e1-dc4e-44d4-be93-a2c295756066",
   "metadata": {},
   "outputs": [
    {
     "name": "stdout",
     "output_type": "stream",
     "text": [
      "Alice is 30 years old.\n",
      "Bob is 34 years old.\n",
      "Charlie is 25 years old.\n"
     ]
    }
   ],
   "source": [
    "class Person:\n",
    "    def __init__(self, name, age):\n",
    "        self.name = name\n",
    "        self.age = age\n",
    "\n",
    "    @classmethod\n",
    "    def from_birth_year(cls, name, birth_year):\n",
    "        current_year = 2024\n",
    "        age = current_year - birth_year\n",
    "        return cls(name, age)\n",
    "\n",
    "    @classmethod\n",
    "    def from_string(cls, info_string):\n",
    "        name, age = info_string.split(',')\n",
    "        return cls(name.strip(), int(age.strip()))\n",
    "\n",
    "# Using the primary constructor\n",
    "person1 = Person(\"Alice\", 30)\n",
    "print(f\"{person1.name} is {person1.age} years old.\")  # Output: Alice is 30 years old.\n",
    "\n",
    "# Using the alternative constructor from birth year\n",
    "person2 = Person.from_birth_year(\"Bob\", 1990)\n",
    "print(f\"{person2.name} is {person2.age} years old.\")  # Output: Bob is 34 years old.\n",
    "\n",
    "# Using the alternative constructor from a string\n",
    "person3 = Person.from_string(\"Charlie, 25\")\n",
    "print(f\"{person3.name} is {person3.age} years old.\")  # Output: Charlie is 25 years old.\n"
   ]
  },
  {
   "cell_type": "markdown",
   "id": "22b50e6e-1153-4db4-9809-cfcb10a2231f",
   "metadata": {},
   "source": [
    "Explanation\n",
    "\n",
    "Primary Constructor: The __init__ method is the primary constructor, initializing the name and age attributes.\n",
    "\n",
    "Alternative Constructor (from_birth_year): The from_birth_year class method calculates the age from the given birth year and uses the primary constructor to create a Person instance.\n",
    "\n",
    "Alternative Constructor (from_string): The from_string class method parses a string to extract the name and age, then uses the primary constructor to create a Person instance."
   ]
  },
  {
   "cell_type": "markdown",
   "id": "4d1c4c01-fe7b-43e4-8637-d2073ebf1257",
   "metadata": {},
   "source": [
    "### 11. What is method overloading, and how is it related to constructors in Python?"
   ]
  },
  {
   "cell_type": "code",
   "execution_count": 2,
   "id": "56e3c74c-e688-4f54-ae4c-73f8d767f070",
   "metadata": {},
   "outputs": [
    {
     "name": "stdout",
     "output_type": "stream",
     "text": [
      "5\n",
      "9\n"
     ]
    }
   ],
   "source": [
    "#Example of Method Overloading Using Default Arguments\n",
    "class MathOperations:\n",
    "    def add(self, a, b, c=0):\n",
    "        return a + b + c\n",
    "\n",
    "# Creating an instance of MathOperations\n",
    "math_op = MathOperations()\n",
    "\n",
    "# Calling add method with two arguments\n",
    "print(math_op.add(2, 3))  # Output: 5\n",
    "\n",
    "# Calling add method with three arguments\n",
    "print(math_op.add(2, 3, 4))  # Output: 9\n"
   ]
  },
  {
   "cell_type": "markdown",
   "id": "eec4a313-8534-49fa-bf69-8a3a95d79790",
   "metadata": {},
   "source": [
    "Method Overloading in Python\n",
    "\n",
    "Method overloading is a feature that allows a class to have multiple methods with the same name but different parameters. It's a common feature in many object-oriented programming languages, but Python does not support it directly. Instead, Python uses default arguments or variable-length arguments to achieve similar functionality.\n",
    "\n",
    "Constructors in Python (i.e., the __init__ method) can also use default arguments or variable-length arguments to simulate method overloading. This allows the creation of objects with different sets of parameters, mimicking the behavior of multiple constructors."
   ]
  },
  {
   "cell_type": "markdown",
   "id": "37428bf2-d298-4ed4-b20c-8df4e248c556",
   "metadata": {},
   "source": [
    "### 12. Explain the use of the `super()` function in Python constructors. Provide an example."
   ]
  },
  {
   "cell_type": "markdown",
   "id": "3618b73a-1e37-49d3-bd06-068fe0ed31db",
   "metadata": {},
   "source": [
    "The super() function in Python is used to call a method from the parent (or superclass) in the child (or subclass). It's commonly used in constructors to initialize the parent class's attributes when creating an instance of the subclass. This ensures that the parent class is properly initialized, allowing the subclass to inherit its properties and methods."
   ]
  },
  {
   "cell_type": "code",
   "execution_count": 3,
   "id": "1e254bd0-86e1-4580-bf7f-bd89c7ee16ff",
   "metadata": {},
   "outputs": [
    {
     "name": "stdout",
     "output_type": "stream",
     "text": [
      "Buddy, the Golden Retriever, barks.\n"
     ]
    }
   ],
   "source": [
    "class Animal:\n",
    "    def __init__(self, name):\n",
    "        self.name = name\n",
    "\n",
    "    def speak(self):\n",
    "        return f\"{self.name} makes a sound.\"\n",
    "\n",
    "class Dog(Animal):\n",
    "    def __init__(self, name, breed):\n",
    "        super().__init__(name)  # Call the parent class's constructor\n",
    "        self.breed = breed\n",
    "\n",
    "    def speak(self):\n",
    "        return f\"{self.name}, the {self.breed}, barks.\"\n",
    "\n",
    "# Creating an instance of Dog\n",
    "dog = Dog(\"Buddy\", \"Golden Retriever\")\n",
    "\n",
    "# Accessing methods\n",
    "print(dog.speak())  # Output: Buddy, the Golden Retriever, barks.\n"
   ]
  },
  {
   "cell_type": "markdown",
   "id": "597f9903-6bcc-4c8c-b319-40362a9d6cc0",
   "metadata": {},
   "source": [
    "### 13. Create a class called `Book` with a constructor that initializes the `title`, `author`, and `published_year`attributes. Provide a method to display book details."
   ]
  },
  {
   "cell_type": "code",
   "execution_count": 4,
   "id": "80fec920-9ee4-4d94-9303-59ce1a29a11a",
   "metadata": {},
   "outputs": [
    {
     "name": "stdout",
     "output_type": "stream",
     "text": [
      "Title: 1984\n",
      "Author: George Orwell\n",
      "Published Year: 1949\n"
     ]
    }
   ],
   "source": [
    "class Book:\n",
    "    def __init__(self, title, author, published_year):\n",
    "        self.title = title\n",
    "        self.author = author\n",
    "        self.published_year = published_year\n",
    "\n",
    "    def display_details(self):\n",
    "        print(f\"Title: {self.title}\")\n",
    "        print(f\"Author: {self.author}\")\n",
    "        print(f\"Published Year: {self.published_year}\")\n",
    "\n",
    "# Example usage\n",
    "book = Book(\"1984\", \"George Orwell\", 1949)\n",
    "book.display_details()\n"
   ]
  },
  {
   "cell_type": "markdown",
   "id": "4ee25a4b-1e88-481d-8833-0334fb6056a9",
   "metadata": {},
   "source": [
    "### 14. Discuss the differences between constructors and regular methods in Python classes."
   ]
  },
  {
   "cell_type": "markdown",
   "id": "25266fee-ae15-4513-8c21-115f7521a4d7",
   "metadata": {
    "jp-MarkdownHeadingCollapsed": true
   },
   "source": [
    "1. Purpose\n",
    "\n",
    "Constructors:\n",
    "\n",
    "A constructor is a special method that is automatically called when an object of the class is created.\n",
    "Its primary purpose is to initialize the attributes of the object.\n",
    "    \n",
    "Regular Methods:\n",
    "\n",
    "Regular methods are used to define behaviors or functionalities that an object of the class can perform.\n",
    "They operate on the data (attributes) of the object and may manipulate or return this data.\n",
    "\n",
    "2. Naming and Definition\n",
    "\n",
    "Constructors:\n",
    "\n",
    "The constructor method in Python is always named __init__.\n",
    "It is defined with def __init__(self, ...), where self is a reference to the current instance of the class.\n",
    "Regular Methods:\n",
    "\n",
    "Regular methods can have any valid name, following standard Python naming conventions.\n",
    "They are defined with def method_name(self, ...), where self is also a reference to the current instance of the class.\n",
    "\n",
    "3. Invocation\n",
    "    \n",
    "Constructors:\n",
    "\n",
    "Constructors are implicitly called when an object is created using the class name.\n",
    "Example: obj = ClassName(args)\n",
    "\n",
    "Regular Methods:\n",
    "\n",
    "Regular methods are explicitly called on an object after it has been created.\n",
    "Example: obj.method_name(args)\n",
    "\n",
    "4. Return Value\n",
    "\n",
    "Constructors:\n",
    "\n",
    "Constructors do not return a value. They return None implicitly.\n",
    "Their purpose is to initialize the object, not to produce a result.\n",
    "    \n",
    "Regular Methods:\n",
    "\n",
    "Regular methods can return any value, including None, depending on the method’s logic.\n",
    "    \n",
    "5. Usage Context\n",
    "    \n",
    "Constructors:\n",
    "\n",
    "Constructors are used to set up an object's initial state by assigning values to its attributes.\n",
    "They can also perform any setup actions required when the object is created.\n",
    "    \n",
    "Regular Methods:\n",
    "\n",
    "Regular methods are used to perform operations on an object's data, manipulate it, or provide some functionality.\n",
    "They can be used to access, modify, or perform calculations based on the object's attributes."
   ]
  },
  {
   "cell_type": "markdown",
   "id": "a3801561-be31-4edd-802a-38b9ff16a6e1",
   "metadata": {},
   "source": [
    "### 15. Explain the role of the `self` parameter in instance variable initialization within a constructor."
   ]
  },
  {
   "cell_type": "markdown",
   "id": "b09070b4-92c6-4d5e-b147-ee504613e3ba",
   "metadata": {},
   "source": [
    "The self parameter in Python is a reference to the current instance of the class. It is used within class methods, including the constructor (__init__ method), to access and initialize instance variables and methods.\n",
    "\n",
    "Role of self in Instance Variable Initialization \n",
    "\n",
    "Accessing Instance Variables:\n",
    "\n",
    "The self parameter allows you to access the instance variables of the current object. This is essential for distinguishing between instance variables (attributes) and local variables or parameters within the method.\n",
    "\n",
    "Initializing Instance Variables:\n",
    "\n",
    "Inside the constructor, self is used to initialize instance variables by assigning values to them. These instance variables can then be used throughout the class in other methods, maintaining the state of the object.\n",
    "\n",
    "Ensuring Each Instance Has Its Own Attributes:\n",
    "\n",
    "By using self, you ensure that each instance of the class has its own separate copy of the instance variables. This is crucial for maintaining the integrity of the object's state, especially when multiple instances of the class are created."
   ]
  },
  {
   "cell_type": "markdown",
   "id": "b54000c8-13b1-4e9e-88e3-c34e14b1ef0d",
   "metadata": {},
   "source": [
    "### 16. How do you prevent a class from having multiple instances by using constructors in Python? Provide an example."
   ]
  },
  {
   "cell_type": "markdown",
   "id": "62398bc8-26ca-41d1-860c-6abdebb49e28",
   "metadata": {},
   "source": [
    "To prevent a class from having multiple instances in Python, you can use the Singleton design pattern. The Singleton pattern ensures that a class has only one instance and provides a global point of access to that instance.\n",
    "\n",
    "Implementation of Singleton Pattern\n",
    "\n",
    "There are several ways to implement the Singleton pattern in Python. One common approach is to use a class attribute to store the single instance and override the __new__ method to control instance creation."
   ]
  },
  {
   "cell_type": "code",
   "execution_count": 5,
   "id": "143c6625-6806-40d0-bbc4-8023916361b8",
   "metadata": {},
   "outputs": [
    {
     "name": "stdout",
     "output_type": "stream",
     "text": [
      "10\n",
      "10\n",
      "True\n"
     ]
    }
   ],
   "source": [
    "class Singleton:\n",
    "    _instance = None  # Class attribute to store the single instance\n",
    "\n",
    "    def __new__(cls, *args, **kwargs):\n",
    "        if cls._instance is None:\n",
    "            cls._instance = super().__new__(cls)  # Create the single instance\n",
    "        return cls._instance\n",
    "\n",
    "    def __init__(self, value):\n",
    "        if not hasattr(self, '_initialized'):  # Ensure __init__ is only called once\n",
    "            self.value = value\n",
    "            self._initialized = True\n",
    "\n",
    "# Example usage\n",
    "singleton1 = Singleton(10)\n",
    "print(singleton1.value)  # Output: 10\n",
    "\n",
    "singleton2 = Singleton(20)\n",
    "print(singleton2.value)  # Output: 10\n",
    "\n",
    "# Both singleton1 and singleton2 are the same instance\n",
    "print(singleton1 is singleton2)  # Output: True\n"
   ]
  },
  {
   "cell_type": "markdown",
   "id": "3fccbb9c-220a-46d1-95e9-f76e64ac1bfb",
   "metadata": {},
   "source": [
    "### 17. Create a Python class called `Student` with a constructor that takes a list of subjects as a parameter and initializes the `subjects` attribute."
   ]
  },
  {
   "cell_type": "code",
   "execution_count": 6,
   "id": "64c2848a-1a1e-41e0-acad-25c2c6402c52",
   "metadata": {},
   "outputs": [
    {
     "name": "stdout",
     "output_type": "stream",
     "text": [
      "Subjects enrolled:\n",
      "- Mathematics\n",
      "- Physics\n",
      "- Chemistry\n"
     ]
    }
   ],
   "source": [
    "class Student:\n",
    "    def __init__(self, subjects):\n",
    "        self.subjects = subjects\n",
    "\n",
    "    def display_subjects(self):\n",
    "        print(\"Subjects enrolled:\")\n",
    "        for subject in self.subjects:\n",
    "            print(f\"- {subject}\")\n",
    "\n",
    "# Example usage\n",
    "subjects_list = [\"Mathematics\", \"Physics\", \"Chemistry\"]\n",
    "student = Student(subjects_list)\n",
    "\n",
    "# Displaying the subjects\n",
    "student.display_subjects()\n"
   ]
  },
  {
   "cell_type": "markdown",
   "id": "74a5b032-7450-4774-9abf-bde343bd9fd0",
   "metadata": {},
   "source": [
    "### 18. What is the purpose of the `__del__` method in Python classes, and how does it relate to constructors?"
   ]
  },
  {
   "cell_type": "markdown",
   "id": "295c5e58-93e9-411d-9921-a0001b260da7",
   "metadata": {},
   "source": [
    "The __del__ method in Python is a special method known as a destructor. It is called when an object is about to be destroyed, allowing for cleanup actions before the object is removed from memory. The destructor is the counterpart to the constructor (__init__), which is called when an object is created.\n",
    "\n",
    "Key Points about __del__\n",
    "\n",
    "Resource Cleanup:\n",
    "\n",
    "The __del__ method is typically used to release resources such as file handles, network connections, or other external resources that the object may have acquired during its lifetime.\n",
    "\n",
    "Automatic Invocation:\n",
    "\n",
    "__del__ is called automatically when the reference count of an object drops to zero, meaning no more references to the object exist.\n",
    "\n",
    "Not Guaranteed Timing:\n",
    "\n",
    "The exact timing of when __del__ is called is not guaranteed. It depends on the garbage collector, which may delay the destruction of objects.\n",
    "\n",
    "Therefore, relying on __del__ for critical cleanup operations is generally discouraged. Instead, explicit resource management (e.g., using context managers) is recommended.\n",
    "\n",
    "Relation to Constructors\n",
    "\n",
    "-Constructors (__init__):\n",
    "\n",
    "*Called when an object is created.\n",
    "\n",
    "*Used to initialize the object's state and acquire any necessary resources.\n",
    "\n",
    "-Destructors (__del__):\n",
    "\n",
    "*Called when an object is about to be destroyed.\n",
    "\n",
    "*Used to clean up and release any resources acquired during the object's lifetime."
   ]
  },
  {
   "cell_type": "markdown",
   "id": "1e817e3b-cf52-4a00-a6b3-397dea3e0520",
   "metadata": {},
   "source": [
    "### 19. Explain the use of constructor chaining in Python. Provide a practical example."
   ]
  },
  {
   "cell_type": "markdown",
   "id": "17106d00-94a6-48e7-8466-6a780a1e28e7",
   "metadata": {},
   "source": [
    "Constructor chaining in Python refers to the practice of using one constructor to call another constructor within the same class or across different classes. This can help to avoid code duplication and centralize initialization logic.\n"
   ]
  },
  {
   "cell_type": "code",
   "execution_count": 7,
   "id": "e74b2efc-adfe-461e-afdc-c0ea0e9dc214",
   "metadata": {},
   "outputs": [
    {
     "name": "stdout",
     "output_type": "stream",
     "text": [
      "Name: Alice\n",
      "Age: 22\n",
      "Student ID: S12345\n",
      "\n",
      "Name: Bob\n",
      "Age: 24\n",
      "Student ID: S67890\n"
     ]
    }
   ],
   "source": [
    "class Person:\n",
    "    def __init__(self, name, age):\n",
    "        self.name = name\n",
    "        self.age = age\n",
    "\n",
    "    @classmethod\n",
    "    def from_birth_year(cls, name, birth_year):\n",
    "        current_year = 2024\n",
    "        age = current_year - birth_year\n",
    "        return cls(name, age)\n",
    "\n",
    "    def display_info(self):\n",
    "        print(f\"Name: {self.name}\")\n",
    "        print(f\"Age: {self.age}\")\n",
    "\n",
    "class Student(Person):\n",
    "    def __init__(self, name, age, student_id):\n",
    "        super().__init__(name, age)  # Constructor chaining to Person's __init__\n",
    "        self.student_id = student_id\n",
    "\n",
    "    @classmethod\n",
    "    def from_student_info(cls, name, birth_year, student_id):\n",
    "        # Chaining to Person's from_birth_year class method\n",
    "        person_instance = Person.from_birth_year(name, birth_year)\n",
    "        return cls(person_instance.name, person_instance.age, student_id)\n",
    "\n",
    "    def display_student_info(self):\n",
    "        self.display_info()\n",
    "        print(f\"Student ID: {self.student_id}\")\n",
    "\n",
    "# Example usage\n",
    "student1 = Student(\"Alice\", 22, \"S12345\")\n",
    "student1.display_student_info()\n",
    "print()\n",
    "\n",
    "# Using the from_student_info class method\n",
    "student2 = Student.from_student_info(\"Bob\", 2000, \"S67890\")\n",
    "student2.display_student_info()\n"
   ]
  },
  {
   "cell_type": "markdown",
   "id": "8d477a6f-64dc-4c96-a16d-9b268a7cdaab",
   "metadata": {},
   "source": [
    "Explanation\n",
    "Person Class:\n",
    "\n",
    "The Person class has a primary constructor __init__ that initializes name and age.\n",
    "\n",
    "The from_birth_year class method provides an alternative way to create a Person object based on a birth year, leveraging constructor chaining.\n",
    "\n",
    "Student Class:\n",
    "\n",
    "The Student class inherits from Person and uses super().__init__ to call the Person constructor, initializing name and age.\n",
    "\n",
    "The from_student_info class method uses Person.from_birth_year to create a Person instance and then uses Student.__init__ to initialize additional attributes specific to Student.\n",
    "\n",
    "Example Usage:\n",
    "\n",
    "student1 is created directly using the Student constructor, initializing all attributes.\n",
    "student2 is created using the from_student_info class method, which demonstrates chaining the Person.from_birth_year method to initialize the Person part of Student."
   ]
  },
  {
   "cell_type": "markdown",
   "id": "4107b034-970d-4a14-bab5-5afde1e60249",
   "metadata": {},
   "source": [
    "### 20. Create a Python class called `Car` with a default constructor that initializes the `make` and `model`attributes. Provide a method to display car information."
   ]
  },
  {
   "cell_type": "code",
   "execution_count": 8,
   "id": "90c536d6-ba18-498f-8a61-351bf8642ab1",
   "metadata": {},
   "outputs": [
    {
     "name": "stdout",
     "output_type": "stream",
     "text": [
      "Make: Toyota\n",
      "Model: Corolla\n",
      "Make: Unknown\n",
      "Model: Unknown\n"
     ]
    }
   ],
   "source": [
    "class Car:\n",
    "    def __init__(self, make=\"Unknown\", model=\"Unknown\"):\n",
    "        self.make = make\n",
    "        self.model = model\n",
    "\n",
    "    def display_info(self):\n",
    "        print(f\"Make: {self.make}\")\n",
    "        print(f\"Model: {self.model}\")\n",
    "\n",
    "# Example usage\n",
    "car1 = Car(\"Toyota\", \"Corolla\")\n",
    "car1.display_info()\n",
    "\n",
    "car2 = Car()\n",
    "car2.display_info()\n"
   ]
  },
  {
   "cell_type": "markdown",
   "id": "f52eef50-08f1-48d0-ad7b-f4a1217a42e2",
   "metadata": {},
   "source": [
    "## Inheritance:"
   ]
  },
  {
   "cell_type": "markdown",
   "id": "54cbdf5f-d896-4b1c-a1b9-e0b1eb6fe37f",
   "metadata": {},
   "source": [
    "### 1. What is inheritance in Python? Explain its significance in object-oriented programming."
   ]
  },
  {
   "cell_type": "markdown",
   "id": "95b632da-3b23-43c7-a501-3d0226b817c2",
   "metadata": {},
   "source": [
    "Inheritance is a fundamental concept in object-oriented programming (OOP) that allows one class (called a subclass or derived class) to inherit attributes and methods from another class (called a superclass or base class)."
   ]
  },
  {
   "cell_type": "markdown",
   "id": "1682e763-ae06-4f39-b161-364a47a5e095",
   "metadata": {},
   "source": [
    "Inheritance allows you to reuse code from existing classes without duplicating it.\n",
    "\n",
    "This makes maintenance easier and reduces code redundancy.\n",
    "\n",
    "Inheritance helps in organizing classes into a hierarchy, reflecting real-world relationships.\n",
    "\n",
    "It models \"is-a\" relationships, where a subclass is a specialized version of the base class.\n",
    "\n",
    "Changes made to the base class automatically propagate to derived classes, simplifying maintenance.\n",
    "\n",
    "Common functionality can be updated in one place, benefiting all subclasses.\n",
    "\n",
    "Inheritance enables polymorphism, where a single function or method can work with objects of different classes through a common interface.\n",
    "\n",
    "This allows for flexible and scalable code design."
   ]
  },
  {
   "cell_type": "markdown",
   "id": "5d176d24-ed6d-43e3-8620-7994b159e793",
   "metadata": {},
   "source": [
    "### 2. Differentiate between single inheritance and multiple inheritance in Python. Provide examples for each."
   ]
  },
  {
   "cell_type": "markdown",
   "id": "1a29c74f-6a53-4ccc-9b83-31246bdf0ee5",
   "metadata": {},
   "source": [
    " Differences\n",
    " \n",
    "Number of Base Classes:\n",
    "\n",
    "Single Inheritance: Involves one base class.\n",
    "\n",
    "Multiple Inheritance: Involves more than one base class.\n",
    "Complexity:\n",
    "\n",
    "Single Inheritance: Simpler, with fewer complexities and a clear hierarchy.\n",
    "\n",
    "Multiple Inheritance: Can be more complex, especially when resolving method resolution order (MRO) or handling conflicts between base classes.\n",
    "\n",
    "Use Cases:\n",
    "\n",
    "Single Inheritance: Used when you have a straightforward hierarchical relationship.\n",
    "\n",
    "Multiple Inheritance: Used when a class needs to combine functionality from multiple sources."
   ]
  },
  {
   "cell_type": "markdown",
   "id": "4b8a53b0-f162-4fd5-b120-329206d934fc",
   "metadata": {},
   "source": [
    "### 3. Create a Python class called `Vehicle` with attributes `color` and `speed`. Then, create a child class called`Car` that inherits from `Vehicle` and adds a `brand` attribute. Provide an example of creating a `Car` object."
   ]
  },
  {
   "cell_type": "code",
   "execution_count": 9,
   "id": "4d6fc005-4c46-4193-a130-9dc0525dc497",
   "metadata": {},
   "outputs": [
    {
     "name": "stdout",
     "output_type": "stream",
     "text": [
      "Color: Red\n",
      "Speed: 150 km/h\n",
      "Brand: Toyota\n"
     ]
    }
   ],
   "source": [
    "class Vehicle:\n",
    "    def __init__(self, color, speed):\n",
    "        self.color = color\n",
    "        self.speed = speed\n",
    "\n",
    "    def display_info(self):\n",
    "        print(f\"Color: {self.color}\")\n",
    "        print(f\"Speed: {self.speed} km/h\")\n",
    "\n",
    "class Car(Vehicle):\n",
    "    def __init__(self, color, speed, brand):\n",
    "        super().__init__(color, speed)  # Call the constructor of the base class\n",
    "        self.brand = brand\n",
    "\n",
    "    def display_info(self):\n",
    "        super().display_info()  # Call the display_info method of the base class\n",
    "        print(f\"Brand: {self.brand}\")\n",
    "\n",
    "# Example usage\n",
    "my_car = Car(\"Red\", 150, \"Toyota\")\n",
    "\n",
    "# Displaying the car's information\n",
    "my_car.display_info()\n"
   ]
  },
  {
   "cell_type": "markdown",
   "id": "499c1d96-d93b-4725-a003-e03f67934ae4",
   "metadata": {},
   "source": [
    "### 4. Explain the concept of method overriding in inheritance. Provide a practical example."
   ]
  },
  {
   "cell_type": "markdown",
   "id": "92cafe6b-9220-4393-938f-de8c3003fde1",
   "metadata": {},
   "source": [
    "Method overriding is a concept in inheritance where a subclass provides a specific implementation of a method that is already defined in its superclass. This allows the subclass to modify or extend the behavior of the method inherited from the base class.\n",
    "\n",
    "Key Points of Method Overriding\n",
    "\n",
    "Same Method Name:\n",
    "\n",
    "The method in the subclass must have the same name, return type, and parameters as the method in the superclass.\n",
    "\n",
    "Customization:\n",
    "\n",
    "Overriding allows the subclass to provide its own behavior or implementation, replacing the superclass method's behavior.\n",
    "\n",
    "Polymorphism:\n",
    "\n",
    "Method overriding supports polymorphism, enabling a subclass instance to use its overridden method even when referenced through a base class reference."
   ]
  },
  {
   "cell_type": "code",
   "execution_count": 10,
   "id": "0b66f957-8c5a-47dd-a40f-e16e02d37e28",
   "metadata": {},
   "outputs": [
    {
     "name": "stdout",
     "output_type": "stream",
     "text": [
      "Woof!\n",
      "Meow!\n"
     ]
    }
   ],
   "source": [
    "class Animal:\n",
    "    def speak(self):\n",
    "        return \"Some generic sound\"\n",
    "\n",
    "class Dog(Animal):\n",
    "    def speak(self):\n",
    "        return \"Woof!\"\n",
    "\n",
    "class Cat(Animal):\n",
    "    def speak(self):\n",
    "        return \"Meow!\"\n",
    "\n",
    "# Example usage\n",
    "def animal_sound(animal):\n",
    "    print(animal.speak())\n",
    "\n",
    "# Creating instances\n",
    "dog = Dog()\n",
    "cat = Cat()\n",
    "\n",
    "# Using the method\n",
    "animal_sound(dog)  # Output: Woof!\n",
    "animal_sound(cat)  # Output: Meow!\n"
   ]
  },
  {
   "cell_type": "markdown",
   "id": "f53afa2d-b5c5-4c0e-99c6-4f8fa993f3d5",
   "metadata": {},
   "source": [
    "Explanation\n",
    "\n",
    "Base Class (Animal):\n",
    "\n",
    "The Animal class defines a method speak that returns a generic sound.\n",
    "    \n",
    "Derived Class (Dog):\n",
    "\n",
    "The Dog class inherits from Animal and overrides the speak method to return \"Woof!\" instead of the generic sound.\n",
    "\n",
    "Derived Class (Cat):\n",
    "\n",
    "The Cat class also inherits from Animal and provides its own implementation of the speak method, returning \"Meow!\".\n",
    "\n",
    "Polymorphism:\n",
    "\n",
    "The function animal_sound takes an Animal instance and calls the speak method.\n",
    "Even though animal_sound expects an Animal, it correctly invokes the overridden speak method in the Dog or Cat instance, demonstrating polymorphism."
   ]
  },
  {
   "cell_type": "markdown",
   "id": "5bc92f4c-fc28-4531-bcf5-f5ff200afaf1",
   "metadata": {},
   "source": [
    "### 5. How can you access the methods and attributes of a parent class from a child class in Python? Give an example."
   ]
  },
  {
   "cell_type": "code",
   "execution_count": 12,
   "id": "63ece7e7-87c2-496f-a524-b57995503b45",
   "metadata": {},
   "outputs": [
    {
     "name": "stdout",
     "output_type": "stream",
     "text": [
      "Direct Access:\n",
      "Car Color: Red\n",
      "Car Speed: 150\n",
      "Car Brand: Toyota\n",
      "\n",
      "Using Method:\n",
      "Color: Red\n",
      "Speed: 150 km/h\n",
      "Brand: Toyota\n"
     ]
    }
   ],
   "source": [
    "class Vehicle:\n",
    "    def __init__(self, color, speed):\n",
    "        self.color = color\n",
    "        self.speed = speed\n",
    "\n",
    "    def display_info(self):\n",
    "        print(f\"Color: {self.color}\")\n",
    "        print(f\"Speed: {self.speed} km/h\")\n",
    "\n",
    "class Car(Vehicle):\n",
    "    def __init__(self, color, speed, brand):\n",
    "        super().__init__(color, speed)  # Call the parent class constructor\n",
    "        self.brand = brand\n",
    "\n",
    "    def display_info(self):\n",
    "        super().display_info()  # Call the parent class method\n",
    "        print(f\"Brand: {self.brand}\")\n",
    "\n",
    "# Example usage\n",
    "my_car = Car(\"Red\", 150, \"Toyota\")\n",
    "\n",
    "# Accessing attributes and methods\n",
    "print(\"Direct Access:\")\n",
    "print(f\"Car Color: {my_car.color}\")  # Accessing inherited attribute directly\n",
    "print(f\"Car Speed: {my_car.speed}\")  # Accessing inherited attribute directly\n",
    "print(f\"Car Brand: {my_car.brand}\")  # Accessing own attribute directly\n",
    "\n",
    "print(\"\\nUsing Method:\")\n",
    "my_car.display_info()  # Calls overridden method and uses super() to access parent method\n"
   ]
  },
  {
   "cell_type": "markdown",
   "id": "debca033-bb1a-45e5-886e-79adc5a60b4c",
   "metadata": {},
   "source": [
    "### 6. Discuss the use of the `super()` function in Python inheritance. When and why is it used? Provide an example."
   ]
  },
  {
   "cell_type": "code",
   "execution_count": 13,
   "id": "83674fea-6396-4155-b849-99694942e239",
   "metadata": {},
   "outputs": [
    {
     "name": "stdout",
     "output_type": "stream",
     "text": [
      "Some generic sound and Woof! specifically, a friendly bark!\n"
     ]
    }
   ],
   "source": [
    "class Animal:\n",
    "    def __init__(self, name):\n",
    "        self.name = name\n",
    "\n",
    "    def speak(self):\n",
    "        return \"Some generic sound\"\n",
    "\n",
    "class Dog(Animal):\n",
    "    def __init__(self, name, breed):\n",
    "        super().__init__(name)  # Call the constructor of the parent class\n",
    "        self.breed = breed\n",
    "\n",
    "    def speak(self):\n",
    "        parent_speak = super().speak()  # Call the speak method of the parent class\n",
    "        return f\"{parent_speak} and Woof!\"\n",
    "\n",
    "class Labrador(Dog):\n",
    "    def __init__(self, name):\n",
    "        super().__init__(name, \"Labrador\")  # Call the constructor of the parent class with fixed breed\n",
    "\n",
    "    def speak(self):\n",
    "        parent_speak = super().speak()  # Call the speak method of the parent class\n",
    "        return f\"{parent_speak} specifically, a friendly bark!\"\n",
    "\n",
    "# Example usage\n",
    "labrador = Labrador(\"Buddy\")\n",
    "print(labrador.speak())  # Output: Some generic sound and Woof! specifically, a friendly bark!\n"
   ]
  },
  {
   "cell_type": "markdown",
   "id": "1636aa0f-ce00-4aa7-b6ab-856162f84d4d",
   "metadata": {},
   "source": [
    "Access Parent Class Methods:\n",
    "\n",
    "super() allows you to call methods from the parent class without explicitly naming it. This is especially useful when dealing with multiple inheritance, as it ensures that the correct method from the parent class is called according to the MRO.\n",
    "\n",
    "Extend or Override Methods:\n",
    "\n",
    "In a subclass, you might want to extend or enhance the functionality of a method defined in the parent class. super() allows you to call the parent class method and then add additional behavior in the subclass.\n",
    "\n",
    "Cooperative Multiple Inheritance:\n",
    "\n",
    "In cases of multiple inheritance, super() helps manage method resolution in a way that respects the hierarchy and ensures that each class in the inheritance chain is initialized properly."
   ]
  },
  {
   "cell_type": "markdown",
   "id": "8abfdd9b-fe07-4f3a-9954-521be02cfe3f",
   "metadata": {},
   "source": [
    "### 7. Create a Python class called `Animal` with a method `speak()`. Then, create child classes `Dog` and `Cat`"
   ]
  },
  {
   "cell_type": "code",
   "execution_count": 14,
   "id": "34f567ab-11a6-498e-91bb-2d306ecb98f6",
   "metadata": {},
   "outputs": [
    {
     "name": "stdout",
     "output_type": "stream",
     "text": [
      "Woof!\n",
      "Meow!\n"
     ]
    }
   ],
   "source": [
    "class Animal:\n",
    "    def speak(self):\n",
    "        return \"Some generic sound\"\n",
    "\n",
    "class Dog(Animal):\n",
    "    def speak(self):\n",
    "        return \"Woof!\"\n",
    "\n",
    "class Cat(Animal):\n",
    "    def speak(self):\n",
    "        return \"Meow!\"\n",
    "\n",
    "# Example usage\n",
    "def make_animal_speak(animal):\n",
    "    print(animal.speak())\n",
    "\n",
    "# Creating instances\n",
    "dog = Dog()\n",
    "cat = Cat()\n",
    "\n",
    "# Using the method\n",
    "make_animal_speak(dog)  # Output: Woof!\n",
    "make_animal_speak(cat)  # Output: Meow!\n"
   ]
  },
  {
   "cell_type": "markdown",
   "id": "99ec14fa-2d05-45f5-953b-e75728140067",
   "metadata": {},
   "source": [
    "### 8. Explain the role of the `isinstance()` function in Python and how it relates to inheritance."
   ]
  },
  {
   "cell_type": "markdown",
   "id": "69c5d650-fc28-4c90-949d-1636cb51281f",
   "metadata": {},
   "source": [
    "The isinstance() function in Python is used to check if an object is an instance of a specific class or a subclass thereof. It plays a crucial role in type checking, especially in the context of inheritance, by allowing you to determine an object's type dynamically."
   ]
  },
  {
   "cell_type": "markdown",
   "id": "637908b5-c2e1-4283-a118-57b3e2004494",
   "metadata": {},
   "source": [
    "Role of isinstance()\n",
    "\n",
    "Type Checking:\n",
    "\n",
    "isinstance() allows you to verify if an object belongs to a particular class or any subclass thereof. This is useful for ensuring that objects are of the expected type before performing operations on them.\n",
    "\n",
    "Polymorphism:\n",
    "\n",
    "In an inheritance hierarchy, isinstance() helps to determine if an object is an instance of a specific class or any of its subclasses, facilitating polymorphic behavior and type-specific logic.\n",
    "\n",
    "Guard Clauses:\n",
    "\n",
    "You can use isinstance() in guard clauses to ensure that functions or methods receive arguments of the correct type, enhancing robustness and preventing errors."
   ]
  },
  {
   "cell_type": "markdown",
   "id": "4ad09767-1c5b-472c-a9c6-83780c57f358",
   "metadata": {},
   "source": [
    "### 9. What is the purpose of the `issubclass()` function in Python? Provide an example."
   ]
  },
  {
   "cell_type": "markdown",
   "id": "9ccada8a-2276-401f-9480-9e0bce3c9eff",
   "metadata": {},
   "source": [
    "The issubclass() function in Python is used to check if a class is a subclass of another class or if it inherits from a particular class. It is useful for determining the relationship between classes in an inheritance hierarchy."
   ]
  },
  {
   "cell_type": "code",
   "execution_count": 15,
   "id": "13808078-913d-4fdc-9cd0-aca95ce53c8f",
   "metadata": {},
   "outputs": [
    {
     "name": "stdout",
     "output_type": "stream",
     "text": [
      "True\n",
      "True\n",
      "True\n",
      "True\n",
      "True\n",
      "False\n",
      "True\n",
      "True\n"
     ]
    }
   ],
   "source": [
    "class Animal:\n",
    "    pass\n",
    "\n",
    "class Mammal(Animal):\n",
    "    pass\n",
    "\n",
    "class Dog(Mammal):\n",
    "    pass\n",
    "\n",
    "class Cat(Mammal):\n",
    "    pass\n",
    "\n",
    "# Check if classes are subclasses of Animal\n",
    "print(issubclass(Dog, Animal))  # Output: True\n",
    "print(issubclass(Cat, Animal))  # Output: True\n",
    "\n",
    "# Check if classes are subclasses of Mammal\n",
    "print(issubclass(Dog, Mammal))  # Output: True\n",
    "print(issubclass(Cat, Mammal))  # Output: True\n",
    "\n",
    "# Check if classes are subclasses of Dog\n",
    "print(issubclass(Dog, Dog))     # Output: True\n",
    "print(issubclass(Cat, Dog))     # Output: False\n",
    "\n",
    "# Check against a tuple of classes\n",
    "print(issubclass(Dog, (Animal, Mammal)))  # Output: True\n",
    "print(issubclass(Cat, (Animal, Dog)))     # Output: True\n"
   ]
  },
  {
   "cell_type": "markdown",
   "id": "5198e51b-d395-4ca2-8c82-5c65ffab6411",
   "metadata": {},
   "source": [
    "### 10. Discuss the concept of constructor inheritance in Python. How are constructors inherited in child classes?"
   ]
  },
  {
   "cell_type": "markdown",
   "id": "d03db216-7823-4c72-a69c-9f8521da05ed",
   "metadata": {},
   "source": [
    "constructors (methods defined with __init__) are inherited by child classes from their parent classes, allowing the child classes to initialize objects in a manner that includes the functionality of the parent class's constructor. Constructor inheritance is a key aspect of object-oriented programming and helps in creating a clear and consistent object initialization process across an inheritance hierarchy."
   ]
  },
  {
   "cell_type": "markdown",
   "id": "aa0ce521-e021-4b05-b2c3-dbfd9edeb358",
   "metadata": {},
   "source": [
    "Concept of Constructor Inheritance\n",
    "\n",
    "Inheritance of Constructors:\n",
    "\n",
    "When a child class inherits from a parent class, it also inherits the parent class's constructor (__init__ method). This means that the child class can initialize its instances using the same initialization logic provided by the parent class.\n",
    "\n",
    "Extending Constructors:\n",
    "\n",
    "Child classes can extend or modify the behavior of the parent class's constructor by overriding it. They can still call the parent class’s constructor using super() to ensure that the parent class's initialization logic is executed.\n",
    "\n",
    "Calling the Parent Constructor:\n",
    "\n",
    "The super() function is used within the child class’s constructor to call the parent class's constructor. This allows the child class to build upon or extend the initialization behavior of the parent class."
   ]
  },
  {
   "cell_type": "markdown",
   "id": "1145cdf6-7fdf-48c2-a50b-f5fd86328025",
   "metadata": {},
   "source": [
    "### 11. Create a Python class called `Shape` with a method `area()` that calculates the area of a shape. Then, create child classes `Circle` and `Rectangle` that inherit from `Shape` and implement the `area()` method accordingly. Provide an example."
   ]
  },
  {
   "cell_type": "code",
   "execution_count": 16,
   "id": "43b7bf5a-db7d-4a88-a1ae-2ee83c2b933b",
   "metadata": {},
   "outputs": [
    {
     "name": "stdout",
     "output_type": "stream",
     "text": [
      "The area is: 78.53981633974483\n",
      "The area is: 24\n"
     ]
    }
   ],
   "source": [
    "import math\n",
    "\n",
    "class Shape:\n",
    "    def area(self):\n",
    "        raise NotImplementedError(\"Subclasses must implement the area method\")\n",
    "\n",
    "class Circle(Shape):\n",
    "    def __init__(self, radius):\n",
    "        self.radius = radius\n",
    "\n",
    "    def area(self):\n",
    "        return math.pi * (self.radius ** 2)\n",
    "\n",
    "class Rectangle(Shape):\n",
    "    def __init__(self, width, height):\n",
    "        self.width = width\n",
    "        self.height = height\n",
    "\n",
    "    def area(self):\n",
    "        return self.width * self.height\n",
    "\n",
    "# Example usage\n",
    "def print_area(shape):\n",
    "    print(f\"The area is: {shape.area()}\")\n",
    "\n",
    "# Creating instances\n",
    "circle = Circle(5)\n",
    "rectangle = Rectangle(4, 6)\n",
    "\n",
    "# Displaying areas\n",
    "print_area(circle)      # Output: The area is: 78.53981633974483\n",
    "print_area(rectangle)  # Output: The area is: 24\n"
   ]
  },
  {
   "cell_type": "markdown",
   "id": "8314e882-7b4d-4343-aebd-e8931679fe76",
   "metadata": {},
   "source": [
    "### 12. Explain the use of abstract base classes (ABCs) in Python and how they relate to inheritance. Provide an example using the `abc` module."
   ]
  },
  {
   "cell_type": "code",
   "execution_count": 17,
   "id": "a8bc9e13-06d2-4aaf-868f-f1143337cd97",
   "metadata": {},
   "outputs": [
    {
     "name": "stdout",
     "output_type": "stream",
     "text": [
      "Circle Details:\n",
      "Area: 78.53981633974483\n",
      "Perimeter: 31.41592653589793\n",
      "\n",
      "Rectangle Details:\n",
      "Area: 24\n",
      "Perimeter: 20\n"
     ]
    }
   ],
   "source": [
    "from abc import ABC, abstractmethod\n",
    "\n",
    "class Shape(ABC):\n",
    "    @abstractmethod\n",
    "    def area(self):\n",
    "        \"\"\"Method to calculate the area of the shape.\"\"\"\n",
    "        pass\n",
    "\n",
    "    @abstractmethod\n",
    "    def perimeter(self):\n",
    "        \"\"\"Method to calculate the perimeter of the shape.\"\"\"\n",
    "        pass\n",
    "\n",
    "class Circle(Shape):\n",
    "    def __init__(self, radius):\n",
    "        self.radius = radius\n",
    "\n",
    "    def area(self):\n",
    "        import math\n",
    "        return math.pi * (self.radius ** 2)\n",
    "\n",
    "    def perimeter(self):\n",
    "        import math\n",
    "        return 2 * math.pi * self.radius\n",
    "\n",
    "class Rectangle(Shape):\n",
    "    def __init__(self, width, height):\n",
    "        self.width = width\n",
    "        self.height = height\n",
    "\n",
    "    def area(self):\n",
    "        return self.width * self.height\n",
    "\n",
    "    def perimeter(self):\n",
    "        return 2 * (self.width + self.height)\n",
    "\n",
    "# Example usage\n",
    "def print_shape_details(shape):\n",
    "    print(f\"Area: {shape.area()}\")\n",
    "    print(f\"Perimeter: {shape.perimeter()}\")\n",
    "\n",
    "# Creating instances\n",
    "circle = Circle(5)\n",
    "rectangle = Rectangle(4, 6)\n",
    "\n",
    "# Displaying shape details\n",
    "print(\"Circle Details:\")\n",
    "print_shape_details(circle)\n",
    "\n",
    "print(\"\\nRectangle Details:\")\n",
    "print_shape_details(rectangle)\n"
   ]
  },
  {
   "cell_type": "markdown",
   "id": "328c4cda-2847-48ee-97f8-033b16eba43c",
   "metadata": {},
   "source": [
    "Explanation:\n",
    "Abstract Base Class (Shape):\n",
    "\n",
    "Inherits from ABC and defines abstract methods area() and perimeter() using the @abstractmethod decorator.\n",
    "These methods are not implemented in Shape and must be implemented by any subclass.\n",
    "\n",
    "Concrete Subclasses (Circle and Rectangle):\n",
    "\n",
    "Both Circle and Rectangle inherit from Shape and provide implementations for the area() and perimeter() methods.\n",
    "Circle implements these methods to calculate the area and perimeter of a circle.\n",
    "Rectangle implements these methods to calculate the area and perimeter of a rectangle.\n",
    "    \n",
    "Example Usage:\n",
    "\n",
    "Defines a function print_shape_details() that prints the area and perimeter of a shape.\n",
    "Creates instances of Circle and Rectangle and uses print_shape_details() to display their properties."
   ]
  },
  {
   "cell_type": "markdown",
   "id": "016099a7-d531-435b-a8c4-26bbec166f77",
   "metadata": {},
   "source": [
    "### 13. How can you prevent a child class from modifying certain attributes or methods inherited from a parent class in Python?"
   ]
  },
  {
   "cell_type": "code",
   "execution_count": 19,
   "id": "66684b49-ca90-4c6d-bb6f-6bd8382a7c37",
   "metadata": {},
   "outputs": [
    {
     "name": "stdout",
     "output_type": "stream",
     "text": [
      "Protected method\n",
      "Private method cannot be accessed\n"
     ]
    }
   ],
   "source": [
    "class Base:\n",
    "    def __init__(self):\n",
    "        self._protected_attr = \"Protected\"\n",
    "        self.__private_attr = \"Private\"\n",
    "\n",
    "    @property\n",
    "    def protected_attr(self):\n",
    "        return self._protected_attr\n",
    "\n",
    "    @property\n",
    "    def private_attr(self):\n",
    "        return self.__private_attr\n",
    "\n",
    "    def _protected_method(self):\n",
    "        return \"Protected method\"\n",
    "\n",
    "    def __private_method(self):\n",
    "        return \"Private method\"\n",
    "\n",
    "class Derived(Base):\n",
    "    def __init__(self):\n",
    "        super().__init__()\n",
    "\n",
    "    def access_protected(self):\n",
    "        return self._protected_method()  # Allowed but should be avoided\n",
    "\n",
    "    def access_private(self):\n",
    "        try:\n",
    "            return self.__private_method()\n",
    "        except AttributeError:\n",
    "            return \"Private method cannot be accessed\"\n",
    "\n",
    "# Example usage\n",
    "d = Derived()\n",
    "print(d.access_protected())  # Output: Protected method\n",
    "print(d.access_private())    # Output: Private method cannot be accessed\n"
   ]
  },
  {
   "cell_type": "markdown",
   "id": "c7b6cf71-2154-4247-829a-65c83b479497",
   "metadata": {},
   "source": [
    "Naming Conventions: Use single or double underscores to indicate protected or private attributes/methods.\n",
    "\n",
    "Read-Only Properties: Define attributes with getter methods only, without setters.\n",
    "\n",
    "Final Methods and Attributes: Use naming conventions or third-party tools to indicate methods or attributes should not be overridden.\n",
    "\n",
    "Private Attributes and Methods: Use double underscores to name attributes and methods intended to be private and less accessible."
   ]
  },
  {
   "cell_type": "markdown",
   "id": "22369072-7782-4942-ad58-dc41a06d2b10",
   "metadata": {},
   "source": [
    "### 14. Create a Python class called `Employee` with attributes `name` and `salary`. Then, create a child class `Manager` that inherits from `Employee` and adds an attribute `department`. Provide an example."
   ]
  },
  {
   "cell_type": "code",
   "execution_count": 20,
   "id": "226951e0-335e-4abb-9603-d84efc65672e",
   "metadata": {},
   "outputs": [
    {
     "name": "stdout",
     "output_type": "stream",
     "text": [
      "Employee Info:\n",
      "Name: John Doe\n",
      "Salary: $50000.00\n",
      "\n",
      "Manager Info:\n",
      "Name: Alice Smith\n",
      "Salary: $75000.00\n",
      "Department: Sales\n"
     ]
    }
   ],
   "source": [
    "class Employee:\n",
    "    def __init__(self, name, salary):\n",
    "        self.name = name\n",
    "        self.salary = salary\n",
    "\n",
    "    def display_info(self):\n",
    "        print(f\"Name: {self.name}\")\n",
    "        print(f\"Salary: ${self.salary:.2f}\")\n",
    "\n",
    "class Manager(Employee):\n",
    "    def __init__(self, name, salary, department):\n",
    "        super().__init__(name, salary)  # Initialize attributes from the parent class\n",
    "        self.department = department\n",
    "\n",
    "    def display_info(self):\n",
    "        super().display_info()  # Call the parent class method to display name and salary\n",
    "        print(f\"Department: {self.department}\")\n",
    "\n",
    "# Example usage\n",
    "emp = Employee(\"John Doe\", 50000)\n",
    "mgr = Manager(\"Alice Smith\", 75000, \"Sales\")\n",
    "\n",
    "print(\"Employee Info:\")\n",
    "emp.display_info()\n",
    "\n",
    "print(\"\\nManager Info:\")\n",
    "mgr.display_info()\n"
   ]
  },
  {
   "cell_type": "markdown",
   "id": "2c83aa56-8f2f-422c-aca3-23223000c162",
   "metadata": {},
   "source": [
    "### 15. Discuss the concept of method overloading in Python inheritance. How does it differ from method overriding?"
   ]
  },
  {
   "cell_type": "markdown",
   "id": "d90de68e-2769-4472-828f-aeb437ab9ec2",
   "metadata": {},
   "source": [
    "Method Overloading\n",
    "\n",
    "Method Overloading refers to the ability to define multiple methods in the same class with the same name but different parameters (i.e., different numbers or types of parameters). This concept allows a class to have methods that perform similar functions but accept different arguments.\n",
    "\n",
    "Key Points:\n",
    "\n",
    "Not Supported Natively: Python does not support method overloading directly. Instead, Python allows you to define a single method and handle different argument scenarios using default arguments, variable-length arguments, or type checks within that method.\n",
    "\n",
    "Workaround: You can use default arguments or variable-length arguments (*args and **kwargs) to simulate method overloading."
   ]
  },
  {
   "cell_type": "code",
   "execution_count": 21,
   "id": "1d57a530-c527-479d-bf07-109234a80f6e",
   "metadata": {},
   "outputs": [
    {
     "name": "stdout",
     "output_type": "stream",
     "text": [
      "5\n",
      "30\n"
     ]
    }
   ],
   "source": [
    "class MathOperations:\n",
    "    def add(self, *args):\n",
    "        if len(args) == 1:\n",
    "            return args[0]\n",
    "        return sum(args)\n",
    "\n",
    "# Example usage\n",
    "math_ops = MathOperations()\n",
    "print(math_ops.add(5))            # Output: 5 (single argument)\n",
    "print(math_ops.add(5, 10, 15))    # Output: 30 (multiple arguments)\n"
   ]
  },
  {
   "cell_type": "markdown",
   "id": "0f200568-aed1-48b0-abbb-79a590149f2e",
   "metadata": {},
   "source": [
    "Method Overriding\n",
    "Method Overriding occurs when a subclass provides a specific implementation of a method that is already defined in its parent class. This allows a subclass to modify or extend the behavior of inherited methods.\n",
    "\n",
    "Key Points:\n",
    "\n",
    "Inheritance: Method overriding is directly related to inheritance. It happens when a subclass redefines a method inherited from its parent class.\n",
    "\n",
    "Access: The subclass method should have the same name and parameters as the parent class method.\n",
    "\n",
    "Purpose: Overriding is used to provide a specific implementation in the subclass that replaces or extends the functionality of the parent class method."
   ]
  },
  {
   "cell_type": "code",
   "execution_count": 22,
   "id": "bde059e4-2e26-4079-916c-717b3b2cda5e",
   "metadata": {},
   "outputs": [
    {
     "name": "stdout",
     "output_type": "stream",
     "text": [
      "Dog barks\n",
      "Cat meows\n"
     ]
    }
   ],
   "source": [
    "class Animal:\n",
    "    def speak(self):\n",
    "        print(\"Animal makes a sound\")\n",
    "\n",
    "class Dog(Animal):\n",
    "    def speak(self):\n",
    "        print(\"Dog barks\")\n",
    "\n",
    "class Cat(Animal):\n",
    "    def speak(self):\n",
    "        print(\"Cat meows\")\n",
    "\n",
    "# Example usage\n",
    "animals = [Dog(), Cat()]\n",
    "\n",
    "for animal in animals:\n",
    "    animal.speak()\n"
   ]
  },
  {
   "cell_type": "markdown",
   "id": "5b6ded57-fa6c-4369-8dc9-20febf7a2e5e",
   "metadata": {},
   "source": [
    "### 16. Explain the purpose of the `__init__()` method in Python inheritance and how it is utilized in child classes."
   ]
  },
  {
   "cell_type": "code",
   "execution_count": 23,
   "id": "239c5f2e-ba7f-4fe9-9cff-1a7577b50320",
   "metadata": {},
   "outputs": [
    {
     "name": "stdout",
     "output_type": "stream",
     "text": [
      "Name: Alice Smith, Age: 30\n",
      "Job Title: Software Engineer\n"
     ]
    }
   ],
   "source": [
    "class Person:\n",
    "    def __init__(self, name, age):\n",
    "        self.name = name\n",
    "        self.age = age\n",
    "\n",
    "    def display_info(self):\n",
    "        print(f\"Name: {self.name}, Age: {self.age}\")\n",
    "\n",
    "class Employee(Person):\n",
    "    def __init__(self, name, age, job_title):\n",
    "        super().__init__(name, age)  # Call parent class's __init__() method\n",
    "        self.job_title = job_title\n",
    "\n",
    "    def display_info(self):\n",
    "        super().display_info()  # Call parent class's display_info() method\n",
    "        print(f\"Job Title: {self.job_title}\")\n",
    "\n",
    "# Example usage\n",
    "emp = Employee(\"Alice Smith\", 30, \"Software Engineer\")\n",
    "emp.display_info()\n"
   ]
  },
  {
   "cell_type": "markdown",
   "id": "cb8f99a4-1888-459c-bb7c-99fc7f276b02",
   "metadata": {},
   "source": [
    "### 17. Create a Python class called `Bird` with a method `fly()`. Then, create child classes `Eagle` and `Sparrow` that inherit from `Bird` and implement the `fly()` method differently. Provide an example of using these classes."
   ]
  },
  {
   "cell_type": "code",
   "execution_count": 24,
   "id": "5953592a-e6cf-4b9b-ab83-3abbc91f4b8a",
   "metadata": {},
   "outputs": [
    {
     "name": "stdout",
     "output_type": "stream",
     "text": [
      "Eagle's flight:\n",
      "Eagle soars high in the sky.\n",
      "\n",
      "Sparrow's flight:\n",
      "Sparrow flutters and chirps as it flies.\n"
     ]
    }
   ],
   "source": [
    "class Bird:\n",
    "    def fly(self):\n",
    "        \"\"\"Base method to be overridden in child classes.\"\"\"\n",
    "        raise NotImplementedError(\"Subclass must implement this method\")\n",
    "\n",
    "class Eagle(Bird):\n",
    "    def fly(self):\n",
    "        print(\"Eagle soars high in the sky.\")\n",
    "\n",
    "class Sparrow(Bird):\n",
    "    def fly(self):\n",
    "        print(\"Sparrow flutters and chirps as it flies.\")\n",
    "\n",
    "# Example usage\n",
    "def make_bird_fly(bird):\n",
    "    bird.fly()\n",
    "\n",
    "# Creating instances\n",
    "eagle = Eagle()\n",
    "sparrow = Sparrow()\n",
    "\n",
    "# Using the instances\n",
    "print(\"Eagle's flight:\")\n",
    "make_bird_fly(eagle)\n",
    "\n",
    "print(\"\\nSparrow's flight:\")\n",
    "make_bird_fly(sparrow)\n"
   ]
  },
  {
   "cell_type": "markdown",
   "id": "263cd160-c958-4f5a-9a8b-3248e554d51c",
   "metadata": {},
   "source": [
    "### 18. What is the \"diamond problem\" in multiple inheritance, and how does Python address it?"
   ]
  },
  {
   "cell_type": "markdown",
   "id": "0d8c19ac-fbbb-41b0-a8fd-63fdc0bea2be",
   "metadata": {},
   "source": [
    "The \"diamond problem\" is a common issue in object-oriented programming that arises with multiple inheritance. It occurs when a class inherits from two classes that have a common base class, creating a diamond-shaped inheritance structure. This can lead to ambiguity and conflicts in method resolution, especially when the base class methods or attributes are inherited through multiple paths."
   ]
  },
  {
   "cell_type": "markdown",
   "id": "8d62674c-e7bd-4990-ab04-1a02cbf45e48",
   "metadata": {},
   "source": [
    "       A\n",
    "      / \\\n",
    "     B   C\n",
    "      \\ /\n",
    "       D\n",
    "Class A is the base class.\n",
    "\n",
    "Classes B and C both inherit from A.\n",
    "\n",
    "Class D inherits from both B and C.\n",
    "\n",
    "Python addresses the diamond problem using the C3 Linearization algorithm (also known as C3 superclass linearization). This method ensures a consistent method resolution order (MRO) and prevents ambiguity in method resolution."
   ]
  },
  {
   "cell_type": "code",
   "execution_count": 25,
   "id": "d63e8034-0ed0-48e2-89db-f4d4e2160e48",
   "metadata": {},
   "outputs": [
    {
     "name": "stdout",
     "output_type": "stream",
     "text": [
      "Initializing A\n",
      "Initializing C\n",
      "Initializing B\n",
      "Initializing D\n",
      "D speaks\n"
     ]
    }
   ],
   "source": [
    "class A:\n",
    "    def __init__(self):\n",
    "        print(\"Initializing A\")\n",
    "\n",
    "    def speak(self):\n",
    "        print(\"A speaks\")\n",
    "\n",
    "class B(A):\n",
    "    def __init__(self):\n",
    "        super().__init__()\n",
    "        print(\"Initializing B\")\n",
    "\n",
    "    def speak(self):\n",
    "        print(\"B speaks\")\n",
    "\n",
    "class C(A):\n",
    "    def __init__(self):\n",
    "        super().__init__()\n",
    "        print(\"Initializing C\")\n",
    "\n",
    "    def speak(self):\n",
    "        print(\"C speaks\")\n",
    "\n",
    "class D(B, C):\n",
    "    def __init__(self):\n",
    "        super().__init__()\n",
    "        print(\"Initializing D\")\n",
    "\n",
    "    def speak(self):\n",
    "        print(\"D speaks\")\n",
    "\n",
    "# Example usage\n",
    "d = D()\n",
    "d.speak()\n"
   ]
  },
  {
   "cell_type": "code",
   "execution_count": 26,
   "id": "8cc349a5-09ca-4bbd-8950-0a098d50f1f6",
   "metadata": {},
   "outputs": [
    {
     "name": "stdout",
     "output_type": "stream",
     "text": [
      "(<class '__main__.D'>, <class '__main__.B'>, <class '__main__.C'>, <class '__main__.A'>, <class 'object'>)\n",
      "[<class '__main__.D'>, <class '__main__.B'>, <class '__main__.C'>, <class '__main__.A'>, <class 'object'>]\n"
     ]
    }
   ],
   "source": [
    "print(D.__mro__)    # Output: (<class '__main__.D'>, <class '__main__.B'>, <class '__main__.C'>, <class '__main__.A'>, <class 'object'>)\n",
    "print(D.mro())      # Output: [<class '__main__.D'>, <class '__main__.B'>, <class '__main__.C'>, <class '__main__.A'>, <class 'object'>]\n"
   ]
  },
  {
   "cell_type": "markdown",
   "id": "8eb7dd20-72c8-4d19-8c3d-3c7238d47873",
   "metadata": {},
   "source": [
    "### 19. Discuss the concept of \"is-a\" and \"has-a\" relationships in inheritance, and provide examples of each."
   ]
  },
  {
   "cell_type": "markdown",
   "id": "6c2adad5-2b57-40ca-9718-089cc4016359",
   "metadata": {},
   "source": [
    "\"Is-a\" Relationship\n",
    "\n",
    "\"Is-a\" relationship refers to inheritance, where one class is a specialized version of another class. It indicates that a subclass is a type of the superclass. This relationship is represented using inheritance in Python.\n",
    "\n",
    "Characteristics:\n",
    "\n",
    "The subclass inherits from the superclass.\n",
    "\n",
    "The subclass \"is a\" type of the superclass and inherits its attributes and methods.\n",
    "\n",
    "It may also override or extend the functionality of the superclass."
   ]
  },
  {
   "cell_type": "code",
   "execution_count": 27,
   "id": "03c848ed-aaa1-4b05-b77d-9712aa1b8583",
   "metadata": {},
   "outputs": [
    {
     "name": "stdout",
     "output_type": "stream",
     "text": [
      "Car brand: Toyota, model: Corolla\n",
      "Car starts\n",
      "Bicycle brand: Giant, type: Mountain\n",
      "Bicycle starts\n"
     ]
    }
   ],
   "source": [
    "class Vehicle:\n",
    "    def __init__(self, brand):\n",
    "        self.brand = brand\n",
    "\n",
    "    def start(self):\n",
    "        print(\"Vehicle starts\")\n",
    "\n",
    "class Car(Vehicle):\n",
    "    def __init__(self, brand, model):\n",
    "        super().__init__(brand)\n",
    "        self.model = model\n",
    "\n",
    "    def start(self):\n",
    "        print(\"Car starts\")\n",
    "\n",
    "class Bicycle(Vehicle):\n",
    "    def __init__(self, brand, type):\n",
    "        super().__init__(brand)\n",
    "        self.type = type\n",
    "\n",
    "    def start(self):\n",
    "        print(\"Bicycle starts\")\n",
    "\n",
    "# Example usage\n",
    "car = Car(\"Toyota\", \"Corolla\")\n",
    "bicycle = Bicycle(\"Giant\", \"Mountain\")\n",
    "\n",
    "print(f\"Car brand: {car.brand}, model: {car.model}\")\n",
    "car.start()\n",
    "\n",
    "print(f\"Bicycle brand: {bicycle.brand}, type: {bicycle.type}\")\n",
    "bicycle.start()\n"
   ]
  },
  {
   "cell_type": "markdown",
   "id": "88a9cc15-57e2-4530-8bfe-3fad4139e4b6",
   "metadata": {},
   "source": [
    "\"Has-a\" Relationship\n",
    "\"Has-a\" relationship refers to composition, where one class contains or is composed of instances of another class. This relationship indicates that one class \"has a\" certain type of object.\n",
    "\n",
    "Characteristics:\n",
    "The class contains instances of another class as attributes.\n",
    "It represents a relationship where one class is composed of or uses objects of another class"
   ]
  },
  {
   "cell_type": "code",
   "execution_count": 28,
   "id": "e45de299-ca86-4b75-8dfe-b5afbe7744b8",
   "metadata": {},
   "outputs": [
    {
     "name": "stdout",
     "output_type": "stream",
     "text": [
      "Name: John Doe\n",
      "Address: 123 Elm St, Springfield, 12345\n"
     ]
    }
   ],
   "source": [
    "class Address:\n",
    "    def __init__(self, street, city, zip_code):\n",
    "        self.street = street\n",
    "        self.city = city\n",
    "        self.zip_code = zip_code\n",
    "\n",
    "    def display(self):\n",
    "        return f\"{self.street}, {self.city}, {self.zip_code}\"\n",
    "\n",
    "class Person:\n",
    "    def __init__(self, name, address):\n",
    "        self.name = name\n",
    "        self.address = address\n",
    "\n",
    "    def display_info(self):\n",
    "        print(f\"Name: {self.name}\")\n",
    "        print(f\"Address: {self.address.display()}\")\n",
    "\n",
    "# Example usage\n",
    "address = Address(\"123 Elm St\", \"Springfield\", \"12345\")\n",
    "person = Person(\"John Doe\", address)\n",
    "\n",
    "person.display_info()\n"
   ]
  },
  {
   "cell_type": "markdown",
   "id": "39b05944-d1fe-4ecc-921e-6eb35515e5b0",
   "metadata": {},
   "source": [
    "### 20. Create a Python class hierarchy for a university system. Start with a base class `Person` and create child classes `Student` and `Professor`, each with their own attributes and methods. Provide an example of using these classes in a university context."
   ]
  },
  {
   "cell_type": "code",
   "execution_count": 29,
   "id": "799b971f-4dcf-42da-9818-36fdd077b132",
   "metadata": {},
   "outputs": [
    {
     "name": "stdout",
     "output_type": "stream",
     "text": [
      "Student Info:\n",
      "Name: Alice Johnson\n",
      "Age: 20\n",
      "Student ID: S12345\n",
      "Major: Computer Science\n",
      "Alice Johnson is studying.\n",
      "\n",
      "Professor Info:\n",
      "Name: Dr. Robert Smith\n",
      "Age: 45\n",
      "Employee ID: E67890\n",
      "Department: Mathematics\n",
      "Professor Dr. Robert Smith is teaching.\n"
     ]
    }
   ],
   "source": [
    "class Person:\n",
    "    def __init__(self, name, age):\n",
    "        self.name = name\n",
    "        self.age = age\n",
    "\n",
    "    def display_info(self):\n",
    "        print(f\"Name: {self.name}\")\n",
    "        print(f\"Age: {self.age}\")\n",
    "\n",
    "class Student(Person):\n",
    "    def __init__(self, name, age, student_id, major):\n",
    "        super().__init__(name, age)  # Initialize attributes from Person\n",
    "        self.student_id = student_id\n",
    "        self.major = major\n",
    "\n",
    "    def display_info(self):\n",
    "        super().display_info()  # Call Person's display_info method\n",
    "        print(f\"Student ID: {self.student_id}\")\n",
    "        print(f\"Major: {self.major}\")\n",
    "\n",
    "    def study(self):\n",
    "        print(f\"{self.name} is studying.\")\n",
    "\n",
    "class Professor(Person):\n",
    "    def __init__(self, name, age, employee_id, department):\n",
    "        super().__init__(name, age)  # Initialize attributes from Person\n",
    "        self.employee_id = employee_id\n",
    "        self.department = department\n",
    "\n",
    "    def display_info(self):\n",
    "        super().display_info()  # Call Person's display_info method\n",
    "        print(f\"Employee ID: {self.employee_id}\")\n",
    "        print(f\"Department: {self.department}\")\n",
    "\n",
    "    def teach(self):\n",
    "        print(f\"Professor {self.name} is teaching.\")\n",
    "\n",
    "# Example usage\n",
    "student = Student(\"Alice Johnson\", 20, \"S12345\", \"Computer Science\")\n",
    "professor = Professor(\"Dr. Robert Smith\", 45, \"E67890\", \"Mathematics\")\n",
    "\n",
    "print(\"Student Info:\")\n",
    "student.display_info()\n",
    "student.study()\n",
    "\n",
    "print(\"\\nProfessor Info:\")\n",
    "professor.display_info()\n",
    "professor.teach()\n"
   ]
  },
  {
   "cell_type": "markdown",
   "id": "bfbddd59-524a-4b5e-8a40-09a3180fcd6d",
   "metadata": {},
   "source": [
    "## Encapsulation:"
   ]
  },
  {
   "cell_type": "markdown",
   "id": "18047a27-50e6-4b73-9d59-c1917a136b6e",
   "metadata": {},
   "source": [
    "### 1. Explain the concept of encapsulation in Python. What is its role in object-oriented programming?"
   ]
  },
  {
   "cell_type": "markdown",
   "id": "28307083-184c-40f3-b3d3-41af26fe4fa1",
   "metadata": {},
   "source": [
    "Encapsulation is a fundamental concept in object-oriented programming (OOP) that refers to the bundling of data (attributes) and methods (functions) that operate on the data into a single unit or class. It also involves restricting direct access to some of an object's components, which helps in protecting the integrity of the data and ensuring that the object’s internal state can only be modified through well-defined methods."
   ]
  },
  {
   "cell_type": "markdown",
   "id": "e0b5da73-9f1d-442e-8491-f4a0b5f0e9d9",
   "metadata": {},
   "source": [
    "Role of Encapsulation in OOP\n",
    "\n",
    "Data Protection:\n",
    "\n",
    "Encapsulation protects an object’s internal state by preventing external code from directly modifying its attributes. This helps in maintaining the integrity and consistency of the data.\n",
    "    \n",
    "Implementation Hiding:\n",
    "\n",
    "Encapsulation hides the internal implementation details of an object from the outside world. Users interact with the object through its public interface, without needing to know its internal workings.\n",
    "    \n",
    "Modularity and Maintainability:\n",
    "\n",
    "Encapsulation promotes modularity by grouping related data and behavior together. This makes the codebase easier to maintain and understand, as changes to the internal implementation of a class do not affect external code that uses the class.\n",
    "\n",
    "Abstraction:\n",
    "\n",
    "Encapsulation is closely related to abstraction. It allows users to interact with an object at a higher level without needing to understand the details of its implementation. This simplifies complex systems by providing a clear and manageable interface."
   ]
  },
  {
   "cell_type": "markdown",
   "id": "f3d95a51-a054-4553-8517-147e95caf9c1",
   "metadata": {},
   "source": [
    "### 2. Describe the key principles of encapsulation, including access control and data hiding."
   ]
  },
  {
   "cell_type": "markdown",
   "id": "b5c2ee27-cc9a-4a7f-9b85-eb60d91e56dd",
   "metadata": {},
   "source": [
    "1. Access Control\n",
    "\n",
    "Access control determines how and where the attributes and methods of a class can be accessed or modified. Python uses a naming convention to implement access control:\n",
    "\n",
    "Public Access:\n",
    "\n",
    "Attributes and methods with no leading underscores (attribute or method) are public. They can be accessed and modified from outside the class.\n",
    "Example: self.name in the Person class.\n",
    "    \n",
    "Protected Access:\n",
    "\n",
    "Attributes and methods with a single leading underscore (_attribute or _method) are considered protected. They are intended to be accessed only within the class and its subclasses, though Python does not enforce this strictly.\n",
    "Example: self._protected_data in a class meant to be accessed only within the class hierarchy.\n",
    "\n",
    "Private Access:\n",
    "\n",
    "Attributes and methods with double leading underscores (__attribute or __method) are private. They are intended to be accessed only within the class itself. Python performs name mangling to make these harder to access from outside the class, but they are still technically accessible.\n",
    "Example: self.__private_data in a class."
   ]
  },
  {
   "cell_type": "code",
   "execution_count": 31,
   "id": "b823843c-445d-4e8d-ad3a-4eff55459dc5",
   "metadata": {},
   "outputs": [
    {
     "name": "stdout",
     "output_type": "stream",
     "text": [
      "Public\n",
      "Public method\n",
      "Protected\n"
     ]
    }
   ],
   "source": [
    "class Example:\n",
    "    def __init__(self):\n",
    "        self.public_attr = 'Public'\n",
    "        self._protected_attr = 'Protected'\n",
    "        self.__private_attr = 'Private'\n",
    "\n",
    "    def public_method(self):\n",
    "        return 'Public method'\n",
    "\n",
    "    def _protected_method(self):\n",
    "        return 'Protected method'\n",
    "\n",
    "    def __private_method(self):\n",
    "        return 'Private method'\n",
    "\n",
    "obj = Example()\n",
    "print(obj.public_attr)  # Accessible\n",
    "print(obj.public_method())  # Accessible\n",
    "print(obj._protected_attr)  # Accessible, but should be used with caution\n",
    "# print(obj.__private_attr)  # Raises AttributeError\n"
   ]
  },
  {
   "cell_type": "markdown",
   "id": "0d62e1e8-5303-4421-8b07-512115c9b351",
   "metadata": {},
   "source": [
    "2. Data Hiding\n",
    "Data hiding is the practice of restricting access to the internal state of an object to protect it from unintended or unauthorized modification. By hiding the internal data, you ensure that the object's state is only modified through well-defined methods, which can enforce validation and maintain data integrity.\n",
    "\n",
    "Internal State Protection:\n",
    "\n",
    "By making attributes private or protected, you can prevent external code from directly modifying an object's internal state. Instead, external code interacts with the object through public methods that provide controlled access to the data.\n",
    "Controlled Access:\n",
    "\n",
    "Methods like getters and setters are used to access or modify private attributes. This allows you to add validation logic or other processing whenever the data is accessed or modified."
   ]
  },
  {
   "cell_type": "code",
   "execution_count": 32,
   "id": "a27feaae-b357-4f8a-9f4c-72f674f99b97",
   "metadata": {},
   "outputs": [
    {
     "name": "stdout",
     "output_type": "stream",
     "text": [
      "Deposited: $500\n",
      "Withdrew: $200\n",
      "Current Balance: $1300\n"
     ]
    }
   ],
   "source": [
    "class BankAccount:\n",
    "    def __init__(self, account_number, balance):\n",
    "        self.__account_number = account_number  # Private attribute\n",
    "        self.__balance = balance  # Private attribute\n",
    "\n",
    "    def deposit(self, amount):\n",
    "        if amount > 0:\n",
    "            self.__balance += amount\n",
    "            print(f\"Deposited: ${amount}\")\n",
    "        else:\n",
    "            print(\"Invalid deposit amount\")\n",
    "\n",
    "    def withdraw(self, amount):\n",
    "        if 0 < amount <= self.__balance:\n",
    "            self.__balance -= amount\n",
    "            print(f\"Withdrew: ${amount}\")\n",
    "        else:\n",
    "            print(\"Insufficient funds or invalid amount\")\n",
    "\n",
    "    def get_balance(self):\n",
    "        return self.__balance\n",
    "\n",
    "# Example usage\n",
    "account = BankAccount(\"123456\", 1000)\n",
    "account.deposit(500)\n",
    "account.withdraw(200)\n",
    "print(f\"Current Balance: ${account.get_balance()}\")\n",
    "\n",
    "# Direct access to private attributes is not allowed\n",
    "# print(account.__balance)  # Raises AttributeError\n"
   ]
  },
  {
   "cell_type": "markdown",
   "id": "fd1cf1d5-0ab6-462f-a571-9099d5498fb1",
   "metadata": {},
   "source": [
    "### 3. How can you achieve encapsulation in Python classes? Provide an example."
   ]
  },
  {
   "cell_type": "markdown",
   "id": "c59d9f02-0c48-44ca-b607-d18c74a437b3",
   "metadata": {},
   "source": [
    "### Achieving Encapsulation\n",
    "\n",
    "Use Access Modifiers:\n",
    "\n",
    "Public Attributes and Methods: No special prefix is used. They are accessible from anywhere.\n",
    "Protected Attributes and Methods: Use a single underscore (_) as a prefix. They are meant to be accessed only within the class and its subclasses, but Python does not enforce strict access control.\n",
    "Private Attributes and Methods: Use double underscores (__) as a prefix. They are intended to be accessed only within the class itself. Python performs name mangling to prevent accidental access from outside the class.\n",
    "\n",
    "Define Getter and Setter Methods:\n",
    "\n",
    "Use getter methods to access the values of private attributes.\n",
    "Use setter methods to modify the values of private attributes, including any validation or processing logic.\n",
    "\n",
    "Hide Internal State:\n",
    "\n",
    "Ensure that attributes that should not be accessed directly are marked as private or protected.\n",
    "Provide public methods that allow controlled access to these attributes."
   ]
  },
  {
   "cell_type": "code",
   "execution_count": 34,
   "id": "4b30ea05-7fa2-4c7c-a9ea-fee6ecc2c8e1",
   "metadata": {},
   "outputs": [
    {
     "name": "stdout",
     "output_type": "stream",
     "text": [
      "Initial Balance: $1000\n",
      "Deposited: $500\n",
      "Withdrew: $200\n",
      "Current Balance: $1300\n"
     ]
    }
   ],
   "source": [
    "class BankAccount:\n",
    "    def __init__(self, account_number, balance):\n",
    "        self.__account_number = account_number  # Private attribute\n",
    "        self.__balance = balance  # Private attribute\n",
    "\n",
    "    # Getter for balance\n",
    "    def get_balance(self):\n",
    "        return self.__balance\n",
    "\n",
    "    # Setter for balance with validation\n",
    "    def deposit(self, amount):\n",
    "        if amount > 0:\n",
    "            self.__balance += amount\n",
    "            print(f\"Deposited: ${amount}\")\n",
    "        else:\n",
    "            print(\"Invalid deposit amount\")\n",
    "\n",
    "    # Method to withdraw funds with validation\n",
    "    def withdraw(self, amount):\n",
    "        if 0 < amount <= self.__balance:\n",
    "            self.__balance -= amount\n",
    "            print(f\"Withdrew: ${amount}\")\n",
    "        else:\n",
    "            print(\"Insufficient funds or invalid amount\")\n",
    "\n",
    "# Example usage\n",
    "account = BankAccount(\"123456\", 1000)\n",
    "print(f\"Initial Balance: ${account.get_balance()}\")\n",
    "\n",
    "account.deposit(500)\n",
    "account.withdraw(200)\n",
    "print(f\"Current Balance: ${account.get_balance()}\")\n",
    "\n",
    "# Direct access to private attributes is not allowed\n",
    "# print(account.__balance)  # Raises AttributeError\n"
   ]
  },
  {
   "cell_type": "markdown",
   "id": "2d19635f-6bec-43f4-b773-4452f823edbc",
   "metadata": {},
   "source": [
    "### 4. Discuss the difference between public, private, and protected access modifiers in Python."
   ]
  },
  {
   "cell_type": "markdown",
   "id": "c7eb73fc-f3e3-40fd-9d1d-16e99a249206",
   "metadata": {},
   "source": [
    "Public Access\n",
    "\n",
    "Definition:\n",
    "\n",
    "Public attributes and methods are accessible from anywhere, both inside and outside the class. There are no restrictions on accessing or modifying public members."
   ]
  },
  {
   "cell_type": "code",
   "execution_count": 35,
   "id": "77e80bcc-b871-4efe-b52a-877b893b2679",
   "metadata": {},
   "outputs": [
    {
     "name": "stdout",
     "output_type": "stream",
     "text": [
      "Alice\n",
      "Hello, my name is Alice and I am 30 years old.\n"
     ]
    }
   ],
   "source": [
    "class Person:\n",
    "    def __init__(self, name, age):\n",
    "        self.name = name  # Public attribute\n",
    "        self.age = age  # Public attribute\n",
    "\n",
    "    def greet(self):  # Public method\n",
    "        print(f\"Hello, my name is {self.name} and I am {self.age} years old.\")\n",
    "\n",
    "person = Person(\"Alice\", 30)\n",
    "print(person.name)  # Accessible\n",
    "person.greet()  # Accessible\n"
   ]
  },
  {
   "cell_type": "markdown",
   "id": "6cef5c38-c9dd-413e-8b09-297c93cad096",
   "metadata": {},
   "source": [
    "2. Protected Access\n",
    "Definition:\n",
    "\n",
    "Protected attributes and methods are intended to be accessible only within the class and its subclasses. However, Python does not enforce this restriction; it's more of a convention to indicate that these members are for internal use within the class hierarchy."
   ]
  },
  {
   "cell_type": "code",
   "execution_count": 36,
   "id": "2a4a141d-6d64-41b4-a0db-5311255ee5c4",
   "metadata": {},
   "outputs": [
    {
     "name": "stdout",
     "output_type": "stream",
     "text": [
      "Buddy\n",
      "Buddy makes a sound.\n",
      "Buddy barks!\n"
     ]
    }
   ],
   "source": [
    "class Animal:\n",
    "    def __init__(self, name):\n",
    "        self._name = name  # Protected attribute\n",
    "\n",
    "    def _make_sound(self):  # Protected method\n",
    "        print(f\"{self._name} makes a sound.\")\n",
    "\n",
    "class Dog(Animal):\n",
    "    def bark(self):\n",
    "        print(f\"{self._name} barks!\")\n",
    "\n",
    "dog = Dog(\"Buddy\")\n",
    "print(dog._name)  # Accessible but should be used with caution\n",
    "dog._make_sound()  # Accessible but should be used with caution\n",
    "dog.bark()  # Public method, accessible\n"
   ]
  },
  {
   "cell_type": "markdown",
   "id": "13b7ced9-4eab-4e37-9e77-b6d4896046e2",
   "metadata": {},
   "source": [
    "3. Private Access\n",
    "Definition:\n",
    "\n",
    "Private attributes and methods are intended to be accessible only within the class itself. They are used to hide internal details and prevent outside access or modification. Python enforces this through name mangling."
   ]
  },
  {
   "cell_type": "code",
   "execution_count": 37,
   "id": "ddd40a98-dfb1-44e9-9a37-642605018720",
   "metadata": {},
   "outputs": [
    {
     "name": "stdout",
     "output_type": "stream",
     "text": [
      "1000\n"
     ]
    }
   ],
   "source": [
    "class Account:\n",
    "    def __init__(self, account_number, balance):\n",
    "        self.__account_number = account_number  # Private attribute\n",
    "        self.__balance = balance  # Private attribute\n",
    "\n",
    "    def deposit(self, amount):\n",
    "        if amount > 0:\n",
    "            self.__balance += amount\n",
    "            print(f\"Deposited: ${amount}\")\n",
    "\n",
    "    def get_balance(self):\n",
    "        return self.__balance\n",
    "\n",
    "acc = Account(\"123456\", 1000)\n",
    "print(acc.get_balance())  # Accessible via a public method\n",
    "# print(acc.__balance)  # Raises AttributeError\n"
   ]
  },
  {
   "cell_type": "markdown",
   "id": "73559e50-9b52-4cde-bb4f-e8a4b624e688",
   "metadata": {},
   "source": [
    "### 5. Create a Python class called `Person` with a private attribute `__name`. Provide methods to get and set the name attribute."
   ]
  },
  {
   "cell_type": "code",
   "execution_count": 38,
   "id": "249c04a1-eb51-4141-a71a-b8ee4572d98d",
   "metadata": {},
   "outputs": [
    {
     "name": "stdout",
     "output_type": "stream",
     "text": [
      "Initial Name: Alice\n",
      "Updated Name: Bob\n",
      "Invalid name. Name must be a non-empty string.\n"
     ]
    }
   ],
   "source": [
    "class Person:\n",
    "    def __init__(self, name):\n",
    "        self.__name = name  # Private attribute\n",
    "\n",
    "    def get_name(self):\n",
    "        \"\"\"Returns the private name attribute.\"\"\"\n",
    "        return self.__name\n",
    "\n",
    "    def set_name(self, name):\n",
    "        \"\"\"Sets the private name attribute to a new value.\"\"\"\n",
    "        if isinstance(name, str) and name:\n",
    "            self.__name = name\n",
    "        else:\n",
    "            print(\"Invalid name. Name must be a non-empty string.\")\n",
    "\n",
    "# Example usage\n",
    "person = Person(\"Alice\")\n",
    "print(f\"Initial Name: {person.get_name()}\")  # Output: Initial Name: Alice\n",
    "\n",
    "person.set_name(\"Bob\")\n",
    "print(f\"Updated Name: {person.get_name()}\")  # Output: Updated Name: Bob\n",
    "\n",
    "# Attempt to set an invalid name\n",
    "person.set_name(\"\")  # Output: Invalid name. Name must be a non-empty string.\n"
   ]
  },
  {
   "cell_type": "markdown",
   "id": "6a489780-744a-4f3c-8683-30106e86c33e",
   "metadata": {},
   "source": [
    "### 6. Explain the purpose of getter and setter methods in encapsulation. Provide examples."
   ]
  },
  {
   "cell_type": "markdown",
   "id": "6c349a25-480a-4cc4-8bb2-972b6c0b56f5",
   "metadata": {},
   "source": [
    "Purpose of Getter and Setter Methods\n",
    "\n",
    "Controlled Access:\n",
    "\n",
    "Getters: Allow read-only access to private attributes. They provide a way to access the values of private variables without exposing the variables directly.\n",
    "Setters: Allow controlled modification of private attributes. They can enforce validation rules and ensure that the data remains consistent.\n",
    "\n",
    "Encapsulation:\n",
    "\n",
    "Getters and setters enable encapsulation by hiding the internal implementation of attributes and exposing only the necessary methods. This abstraction allows users to interact with the object's data through a controlled interface.\n",
    "\n",
    "Data Validation:\n",
    "\n",
    "Setters can include logic to validate data before it is set. This helps prevent invalid or inconsistent states within the object.\n",
    "\n",
    "Flexibility:\n",
    "\n",
    "By using getters and setters, you can change the internal implementation of attributes without altering the external interface. This means you can add additional logic or change how data is stored without affecting how users interact with the object.\n",
    "\n",
    "Debugging and Logging:\n",
    "\n",
    "Getters and setters provide a centralized place to include debugging or logging logic related to attribute access and modification."
   ]
  },
  {
   "cell_type": "code",
   "execution_count": 39,
   "id": "e92e1d5e-b438-4c9c-9dad-ce5d26c57876",
   "metadata": {},
   "outputs": [
    {
     "name": "stdout",
     "output_type": "stream",
     "text": [
      "Name: Alice\n",
      "Age: 30\n",
      "Updated Name: Bob\n",
      "Updated Age: 35\n",
      "Invalid name. Name must be a non-empty string.\n",
      "Invalid age. Age must be a positive integer.\n"
     ]
    }
   ],
   "source": [
    "class Person:\n",
    "    def __init__(self, name, age):\n",
    "        self.__name = name  # Private attribute\n",
    "        self.__age = age    # Private attribute\n",
    "\n",
    "    # Getter for name\n",
    "    def get_name(self):\n",
    "        return self.__name\n",
    "\n",
    "    # Setter for name\n",
    "    def set_name(self, name):\n",
    "        if isinstance(name, str) and name:\n",
    "            self.__name = name\n",
    "        else:\n",
    "            print(\"Invalid name. Name must be a non-empty string.\")\n",
    "\n",
    "    # Getter for age\n",
    "    def get_age(self):\n",
    "        return self.__age\n",
    "\n",
    "    # Setter for age\n",
    "    def set_age(self, age):\n",
    "        if isinstance(age, int) and age > 0:\n",
    "            self.__age = age\n",
    "        else:\n",
    "            print(\"Invalid age. Age must be a positive integer.\")\n",
    "\n",
    "# Example usage\n",
    "person = Person(\"Alice\", 30)\n",
    "\n",
    "# Accessing attributes through getters\n",
    "print(f\"Name: {person.get_name()}\")  # Output: Name: Alice\n",
    "print(f\"Age: {person.get_age()}\")    # Output: Age: 30\n",
    "\n",
    "# Modifying attributes through setters\n",
    "person.set_name(\"Bob\")\n",
    "person.set_age(35)\n",
    "\n",
    "print(f\"Updated Name: {person.get_name()}\")  # Output: Updated Name: Bob\n",
    "print(f\"Updated Age: {person.get_age()}\")    # Output: Updated Age: 35\n",
    "\n",
    "# Attempt to set invalid values\n",
    "person.set_name(\"\")  # Output: Invalid name. Name must be a non-empty string.\n",
    "person.set_age(-5)   # Output: Invalid age. Age must be a positive integer.\n"
   ]
  },
  {
   "cell_type": "markdown",
   "id": "6fe38475-4c7f-446e-a6ac-6e0981b1e4f6",
   "metadata": {},
   "source": [
    "### 7. What is name mangling in Python, and how does it affect encapsulation?"
   ]
  },
  {
   "cell_type": "markdown",
   "id": "e5dcfa96-0800-4e27-80e8-e8a852f7fa34",
   "metadata": {},
   "source": [
    "Name mangling is a process in Python where the interpreter changes the name of private attributes and methods to make them more difficult to access from outside the class. This is done by prefixing the attribute name with the class name, which makes it harder to accidentally or intentionally access these attributes from outside the class.\n",
    "\n",
    "Name Mangling Works\n",
    "When you define a private attribute or method in Python with a double leading underscore (e.g., __attribute), Python performs name mangling. The name of the attribute is modified to include the class name, which makes it less likely to conflict with names in subclasses or other parts of the code."
   ]
  },
  {
   "cell_type": "code",
   "execution_count": 40,
   "id": "963f8027-89ee-466c-8def-be3a7f3e5cf3",
   "metadata": {},
   "outputs": [
    {
     "name": "stdout",
     "output_type": "stream",
     "text": [
      "This is a private attribute\n",
      "This is a private method\n",
      "This is a private attribute\n",
      "This is a private method\n"
     ]
    }
   ],
   "source": [
    "class Example:\n",
    "    def __init__(self):\n",
    "        self.__private_attr = 'This is a private attribute'\n",
    "\n",
    "    def __private_method(self):\n",
    "        return 'This is a private method'\n",
    "\n",
    "    def get_private_attr(self):\n",
    "        return self.__private_attr\n",
    "\n",
    "    def get_private_method(self):\n",
    "        return self.__private_method()\n",
    "\n",
    "# Example usage\n",
    "obj = Example()\n",
    "\n",
    "# Accessing the private attribute through a public method\n",
    "print(obj.get_private_attr())  # Output: This is a private attribute\n",
    "\n",
    "# Attempt to access the private attribute directly\n",
    "# print(obj.__private_attr)  # Raises AttributeError\n",
    "\n",
    "# Accessing the private method through a public method\n",
    "print(obj.get_private_method())  # Output: This is a private method\n",
    "\n",
    "# Attempt to access the private method directly\n",
    "# print(obj.__private_method())  # Raises AttributeError\n",
    "\n",
    "# Accessing private attributes and methods using name mangling\n",
    "print(obj._Example__private_attr)  # Output: This is a private attribute\n",
    "print(obj._Example__private_method())  # Output: This is a private method\n"
   ]
  },
  {
   "cell_type": "markdown",
   "id": "416427e5-e008-48c5-9ee8-73ee7b533e03",
   "metadata": {},
   "source": [
    "### 8. Create a Python class called `BankAccount` with private attributes for the account balance (`__balance`)"
   ]
  },
  {
   "cell_type": "code",
   "execution_count": 41,
   "id": "8e8e34f2-fa7f-4992-8670-573bbff3c53b",
   "metadata": {},
   "outputs": [
    {
     "name": "stdout",
     "output_type": "stream",
     "text": [
      "Initial Balance: $1000\n",
      "Deposited: $500\n",
      "Balance after deposit: $1500\n",
      "Withdrew: $200\n",
      "Balance after withdrawal: $1300\n",
      "Deposit amount must be positive.\n",
      "Insufficient funds or invalid withdrawal amount.\n"
     ]
    }
   ],
   "source": [
    "class BankAccount:\n",
    "    def __init__(self, initial_balance=0):\n",
    "        \"\"\"Initialize the bank account with an initial balance.\"\"\"\n",
    "        self.__balance = initial_balance  # Private attribute\n",
    "\n",
    "    def deposit(self, amount):\n",
    "        \"\"\"Deposit a specified amount into the account.\"\"\"\n",
    "        if amount > 0:\n",
    "            self.__balance += amount\n",
    "            print(f\"Deposited: ${amount}\")\n",
    "        else:\n",
    "            print(\"Deposit amount must be positive.\")\n",
    "\n",
    "    def withdraw(self, amount):\n",
    "        \"\"\"Withdraw a specified amount from the account.\"\"\"\n",
    "        if 0 < amount <= self.__balance:\n",
    "            self.__balance -= amount\n",
    "            print(f\"Withdrew: ${amount}\")\n",
    "        else:\n",
    "            print(\"Insufficient funds or invalid withdrawal amount.\")\n",
    "\n",
    "    def get_balance(self):\n",
    "        \"\"\"Return the current balance of the account.\"\"\"\n",
    "        return self.__balance\n",
    "\n",
    "# Example usage\n",
    "account = BankAccount(1000)  # Create an account with an initial balance of $1000\n",
    "\n",
    "print(f\"Initial Balance: ${account.get_balance()}\")  # Output: Initial Balance: $1000\n",
    "\n",
    "account.deposit(500)  # Deposit $500\n",
    "print(f\"Balance after deposit: ${account.get_balance()}\")  # Output: Balance after deposit: $1500\n",
    "\n",
    "account.withdraw(200)  # Withdraw $200\n",
    "print(f\"Balance after withdrawal: ${account.get_balance()}\")  # Output: Balance after withdrawal: $1300\n",
    "\n",
    "# Attempt to deposit or withdraw invalid amounts\n",
    "account.deposit(-50)  # Output: Deposit amount must be positive.\n",
    "account.withdraw(2000)  # Output: Insufficient funds or invalid withdrawal amount.\n"
   ]
  },
  {
   "cell_type": "markdown",
   "id": "e4d2bd91-fbf8-47c3-adeb-0b02f679680a",
   "metadata": {},
   "source": [
    "### 9. Discuss the advantages of encapsulation in terms of code maintainability and security."
   ]
  },
  {
   "cell_type": "markdown",
   "id": "17c5da0d-597a-4e6d-b08f-17b7deec0380",
   "metadata": {},
   "source": [
    "Advantages of Encapsulation\n",
    "1. Improved Code Maintainability\n",
    "\n",
    "Controlled Access:\n",
    "\n",
    "Encapsulation allows you to control how data is accessed and modified through public methods (getters and setters). This means that the internal representation of data can be changed without affecting external code. For example, if you need to change how data is stored or validated, you can do so in the class implementation without altering the interfaces used by other parts of your code.\n",
    "\n",
    "Reduced Complexity:\n",
    "\n",
    "By hiding the internal details of a class and exposing only what is necessary, encapsulation reduces the complexity of the code. This abstraction simplifies interactions with the class, making it easier to understand and maintain.\n",
    "\n",
    "Encapsulation of Implementation Details:\n",
    "\n",
    "Encapsulation allows you to hide the complexity of the implementation details. Other classes or modules interact with the class through its public interface, and the internal workings can be modified or optimized without affecting those interactions.\n",
    "\n",
    "Easier Debugging and Testing:\n",
    "\n",
    "Since the internal state is managed through a controlled interface, it is easier to test and debug the class. You can isolate the functionality of the class and ensure that the public methods behave as expected.\n",
    "\n",
    "2. Enhanced Security\n",
    "\n",
    "   \n",
    "Data Protection:\n",
    "\n",
    "Encapsulation helps protect the internal state of an object from unauthorized access or modification. By making attributes private and providing controlled access through methods, you can enforce data validation and integrity. This ensures that the object remains in a consistent and valid state.\n",
    "Validation and Error Handling:\n",
    "\n",
    "Encapsulation allows you to implement validation logic within setters or other methods that modify the internal state. This means that invalid or inappropriate data cannot be assigned to the object, thus preventing errors and maintaining the object's integrity.\n",
    "Encapsulation of Sensitive Information:\n",
    "\n",
    "In scenarios where sensitive information is involved (e.g., passwords, financial data), encapsulation ensures that such data is not directly accessible from outside the class. Access to this data is controlled and can be managed securely.\n",
    "Protection from Inheritance Issues:\n",
    "\n",
    "Encapsulation helps manage the impact of changes in base classes on derived classes. By controlling access to base class members and providing a well-defined interface, encapsulation reduces the risk of unintenAdvantages of Encapsulation\n",
    "\n",
    "1. Improved Code Maintainability\n",
    "   \n",
    "Controlled Access:\n",
    "\n",
    "Encapsulation allows you to control how data is accessed and modified through public methods (getters and setters). This means that the internal representation of data can be changed without affecting external code. For example, if you need to change how data is stored or validated, you can do so in the class implementation without altering the interfaces used by other parts of your code.\n",
    "\n",
    "Reduced Complexity:\n",
    "\n",
    "By hiding the internal details of a class and exposing only what is necessary, encapsulation reduces the complexity of the code. This abstraction simplifies interactions with the class, making it easier to understand and maintain.\n",
    "\n",
    "Encapsulation of Implementation Details:\n",
    "\n",
    "Encapsulation allows you to hide the complexity of the implementation details. Other classes or modules interact with the class through its public interface, and the internal workings can be modified or optimized without affecting those interactions.\n",
    "\n",
    "Easier Debugging and Testing:\n",
    "\n",
    "Since the internal state is managed through a controlled interface, it is easier to test and debug the class. You can isolate the functionality of the class and ensure that the public methods behave as expected.\n",
    "\n",
    "2. Enhanced Security\n",
    "   \n",
    "Data Protection:\n",
    "\n",
    "Encapsulation helps protect the internal state of an object from unauthorized access or modification. By making attributes private and providing controlled access through methods, you can enforce data validation and integrity. This ensures that the object remains in a consistent and valid state.\n",
    "\n",
    "Validation and Error Handling:\n",
    "\n",
    "Encapsulation allows you to implement validation logic within setters or other methods that modify the internal state. This means that invalid or inappropriate data cannot be assigned to the object, thus preventing errors and maintaining the object's integrity.\n",
    "\n",
    "Encapsulation of Sensitive Information:\n",
    "\n",
    "In scenarios where sensitive information is involved (e.g., passwords, financial data), encapsulation ensures that such data is not directly accessible from outside the class. Access to this data is controlled and can be managed securely.\n",
    "\n",
    "Protection from Inheritance Issues:\n",
    "\n",
    "Encapsulation helps manage the impact of changes in base classes on derived classes. By controlling access to base class members and providing a well-defined interface, encapsulation reduces the risk of unintended side effects when subclassing or extending functionality.ded side effects when subclassing or extending functionality."
   ]
  },
  {
   "cell_type": "markdown",
   "id": "e5d0dbb2-3489-45e3-ad75-21b61c744810",
   "metadata": {},
   "source": [
    "### 10. How can you access private attributes in Python? Provide an example demonstrating the use of name mangling."
   ]
  },
  {
   "cell_type": "code",
   "execution_count": 42,
   "id": "3eead479-9810-4827-bf3d-dbe367373940",
   "metadata": {},
   "outputs": [
    {
     "name": "stdout",
     "output_type": "stream",
     "text": [
      "Private attribute (via method): 10\n",
      "Direct access error: 'MyClass' object has no attribute '__private_attribute'\n",
      "Private attribute (via name mangling): 10\n",
      "Modified private attribute (via name mangling): 20\n"
     ]
    }
   ],
   "source": [
    "class MyClass:\n",
    "    def __init__(self, value):\n",
    "        self.__private_attribute = value  # Private attribute\n",
    "\n",
    "    def get_private_attribute(self):\n",
    "        return self.__private_attribute\n",
    "\n",
    "    def set_private_attribute(self, value):\n",
    "        self.__private_attribute = value\n",
    "\n",
    "# Example usage\n",
    "obj = MyClass(10)\n",
    "\n",
    "# Accessing the private attribute through the public method\n",
    "print(f\"Private attribute (via method): {obj.get_private_attribute()}\")  # Output: 10\n",
    "\n",
    "# Attempting to access the private attribute directly (will raise an AttributeError)\n",
    "try:\n",
    "    print(obj.__private_attribute)\n",
    "except AttributeError as e:\n",
    "    print(f\"Direct access error: {e}\")\n",
    "\n",
    "# Accessing the private attribute using name mangling\n",
    "print(f\"Private attribute (via name mangling): {obj._MyClass__private_attribute}\")  # Output: 10\n",
    "\n",
    "# Modifying the private attribute using name mangling\n",
    "obj._MyClass__private_attribute = 20\n",
    "print(f\"Modified private attribute (via name mangling): {obj.get_private_attribute()}\")  # Output: 20\n"
   ]
  },
  {
   "cell_type": "markdown",
   "id": "cb31b154-add5-477c-b338-97f3b35f2c0e",
   "metadata": {},
   "source": [
    "### 11. Create a Python class hierarchy for a school system, including classes for students, teachers, and courses, and implement encapsulation principles to protect sensitive information."
   ]
  },
  {
   "cell_type": "code",
   "execution_count": 43,
   "id": "b71b487f-f2ef-4882-a2b8-ff08ca4fabd0",
   "metadata": {},
   "outputs": [
    {
     "name": "stdout",
     "output_type": "stream",
     "text": [
      "Course: Introduction to Python (CS101)\n",
      "Teacher: Dr. Alice\n",
      "Enrolled Students:\n",
      "- John Doe (ID: S12345)\n",
      "- Jane Smith (ID: S12346)\n"
     ]
    }
   ],
   "source": [
    "class Person:\n",
    "    def __init__(self, name, age, address):\n",
    "        self.__name = name  # Private attribute\n",
    "        self.__age = age    # Private attribute\n",
    "        self.__address = address  # Private attribute\n",
    "\n",
    "    def get_name(self):\n",
    "        return self.__name\n",
    "\n",
    "    def get_age(self):\n",
    "        return self.__age\n",
    "\n",
    "    def get_address(self):\n",
    "        return self.__address\n",
    "\n",
    "    def set_address(self, address):\n",
    "        self.__address = address\n",
    "class Student(Person):\n",
    "    def __init__(self, name, age, address, student_id):\n",
    "        super().__init__(name, age, address)\n",
    "        self.__student_id = student_id  # Private attribute\n",
    "        self.__courses = []  # Private attribute\n",
    "\n",
    "    def get_student_id(self):\n",
    "        return self.__student_id\n",
    "\n",
    "    def enroll_course(self, course):\n",
    "        self.__courses.append(course)\n",
    "\n",
    "    def get_courses(self):\n",
    "        return self.__courses\n",
    "class Teacher(Person):\n",
    "    def __init__(self, name, age, address, employee_id):\n",
    "        super().__init__(name, age, address)\n",
    "        self.__employee_id = employee_id  # Private attribute\n",
    "        self.__courses = []  # Private attribute\n",
    "\n",
    "    def get_employee_id(self):\n",
    "        return self.__employee_id\n",
    "\n",
    "    def assign_course(self, course):\n",
    "        self.__courses.append(course)\n",
    "\n",
    "    def get_courses(self):\n",
    "        return self.__courses\n",
    "class Course:\n",
    "    def __init__(self, course_name, course_code):\n",
    "        self.__course_name = course_name  # Private attribute\n",
    "        self.__course_code = course_code  # Private attribute\n",
    "        self.__students = []  # Private attribute\n",
    "        self.__teacher = None  # Private attribute\n",
    "\n",
    "    def get_course_name(self):\n",
    "        return self.__course_name\n",
    "\n",
    "    def get_course_code(self):\n",
    "        return self.__course_code\n",
    "\n",
    "    def add_student(self, student):\n",
    "        if student not in self.__students:\n",
    "            self.__students.append(student)\n",
    "            student.enroll_course(self)\n",
    "\n",
    "    def set_teacher(self, teacher):\n",
    "        self.__teacher = teacher\n",
    "        teacher.assign_course(self)\n",
    "\n",
    "    def get_students(self):\n",
    "        return self.__students\n",
    "\n",
    "    def get_teacher(self):\n",
    "        return self.__teacher\n",
    "# Creating instances of students and teachers\n",
    "student1 = Student(\"John Doe\", 20, \"123 Main St\", \"S12345\")\n",
    "student2 = Student(\"Jane Smith\", 22, \"456 Oak St\", \"S12346\")\n",
    "\n",
    "teacher1 = Teacher(\"Dr. Alice\", 40, \"789 Elm St\", \"T1001\")\n",
    "\n",
    "# Creating a course\n",
    "course1 = Course(\"Introduction to Python\", \"CS101\")\n",
    "\n",
    "# Assigning teacher to the course\n",
    "course1.set_teacher(teacher1)\n",
    "\n",
    "# Enrolling students in the course\n",
    "course1.add_student(student1)\n",
    "course1.add_student(student2)\n",
    "\n",
    "# Displaying course information\n",
    "print(f\"Course: {course1.get_course_name()} ({course1.get_course_code()})\")\n",
    "print(f\"Teacher: {course1.get_teacher().get_name()}\")\n",
    "\n",
    "print(\"Enrolled Students:\")\n",
    "for student in course1.get_students():\n",
    "    print(f\"- {student.get_name()} (ID: {student.get_student_id()})\")\n"
   ]
  },
  {
   "cell_type": "markdown",
   "id": "506070e9-b38b-413d-be13-e78094cdefbf",
   "metadata": {},
   "source": [
    "### 12. Explain the concept of property decorators in Python and how they relate to encapsulation."
   ]
  },
  {
   "cell_type": "markdown",
   "id": "26263d95-0c5c-4f8c-bc22-999b97798289",
   "metadata": {},
   "source": [
    "Property decorators in Python are a way to manage attribute access in a class by turning methods into managed attributes. They allow you to encapsulate the data within a class and provide controlled access to the attributes. Property decorators are particularly useful for adding logic when getting, setting, or deleting an attribute.\n",
    "\n",
    "Concept of Property Decorators\n",
    "\n",
    "A property decorator allows you to define methods in a class that behave like attributes. You can use these methods to control how the attribute's value is accessed or modified, thus implementing encapsulation more effectively.\n",
    "\n",
    "The @property Decorator\n",
    "\n",
    "The @property decorator is used to define a method that gets the value of an attribute. It allows you to access the method like an attribute without explicitly calling it.\n",
    "\n",
    "The @<attribute>.setter Decorator\n",
    "\n",
    "This decorator allows you to define a method that sets the value of an attribute. It provides a way to add validation or other logic when the attribute is modified.\n",
    "\n",
    "The @<attribute>.deleter Decorator\n",
    "\n",
    "This decorator allows you to define a method that deletes an attribute. It is less commonly used but can be useful in certain scenarios."
   ]
  },
  {
   "cell_type": "code",
   "execution_count": 44,
   "id": "627773c6-ccb4-4753-ac3d-9042d6e98ab0",
   "metadata": {},
   "outputs": [
    {
     "name": "stdout",
     "output_type": "stream",
     "text": [
      "Alice\n",
      "30\n",
      "Bob\n",
      "35\n",
      "Name must be a non-empty string\n",
      "Age must be a positive integer\n"
     ]
    }
   ],
   "source": [
    "class Person:\n",
    "    def __init__(self, name, age):\n",
    "        self.__name = name  # Private attribute\n",
    "        self.__age = age  # Private attribute\n",
    "\n",
    "    @property\n",
    "    def name(self):\n",
    "        \"\"\"Getter method for name\"\"\"\n",
    "        return self.__name\n",
    "\n",
    "    @name.setter\n",
    "    def name(self, value):\n",
    "        \"\"\"Setter method for name with validation\"\"\"\n",
    "        if isinstance(value, str) and value:\n",
    "            self.__name = value\n",
    "        else:\n",
    "            raise ValueError(\"Name must be a non-empty string\")\n",
    "\n",
    "    @property\n",
    "    def age(self):\n",
    "        \"\"\"Getter method for age\"\"\"\n",
    "        return self.__age\n",
    "\n",
    "    @age.setter\n",
    "    def age(self, value):\n",
    "        \"\"\"Setter method for age with validation\"\"\"\n",
    "        if isinstance(value, int) and value > 0:\n",
    "            self.__age = value\n",
    "        else:\n",
    "            raise ValueError(\"Age must be a positive integer\")\n",
    "\n",
    "# Example usage\n",
    "person = Person(\"Alice\", 30)\n",
    "\n",
    "# Accessing attributes using property decorators\n",
    "print(person.name)  # Output: Alice\n",
    "print(person.age)   # Output: 30\n",
    "\n",
    "# Modifying attributes using property setters\n",
    "person.name = \"Bob\"\n",
    "person.age = 35\n",
    "\n",
    "print(person.name)  # Output: Bob\n",
    "print(person.age)   # Output: 35\n",
    "\n",
    "# Attempting to set invalid values will raise an exception\n",
    "try:\n",
    "    person.name = \"\"\n",
    "except ValueError as e:\n",
    "    print(e)  # Output: Name must be a non-empty string\n",
    "\n",
    "try:\n",
    "    person.age = -5\n",
    "except ValueError as e:\n",
    "    print(e)  # Output: Age must be a positive integer\n"
   ]
  },
  {
   "cell_type": "markdown",
   "id": "c9e1149a-7913-4e48-87dd-6865ed630fbf",
   "metadata": {},
   "source": [
    "Relation to Encapsulation\n",
    "\n",
    "Property decorators enhance encapsulation in the following ways:\n",
    "\n",
    "Controlled Access: By using getters and setters, you can control how attributes are accessed and modified. This allows you to add validation, logging, or other logic.\n",
    "    \n",
    "Data Hiding: Private attributes are hidden from direct access, and the property methods provide a controlled interface for interacting with these attributes.\n",
    "\n",
    "Maintainability: Property methods make it easy to change the internal implementation without affecting external code that uses the class. You can modify the logic in the getter or setter methods without changing how the attributes are accessed or set."
   ]
  },
  {
   "cell_type": "markdown",
   "id": "f7bfcb03-c462-4d93-a8ca-26fdad82a269",
   "metadata": {},
   "source": [
    "### 13. What is data hiding, and why is it important in encapsulation? Provide examples."
   ]
  },
  {
   "cell_type": "markdown",
   "id": "a3b29bb0-857e-4588-8e5e-f88478708e36",
   "metadata": {},
   "source": [
    "Data hiding is a principle in object-oriented programming where internal object details (such as attributes) are concealed from the outside world. It ensures that access to the internal data of an object is restricted to the object's own methods. This is typically achieved by making attributes private or protected and providing public methods (getters and setters) to access and modify these attributes.\n",
    "\n",
    "Importance of Data Hiding\n",
    "\n",
    "Data Integrity:\n",
    "\n",
    "Data hiding ensures that an object's internal state cannot be corrupted by external code. Only the class's own methods can modify its attributes, ensuring consistent and valid data.\n",
    "\n",
    "Modularity:\n",
    "\n",
    "By concealing the internal workings of an object, data hiding promotes modularity. This allows changes to the internal implementation without affecting the external code that uses the object.\n",
    "\n",
    "Maintainability:\n",
    "\n",
    "Encapsulation and data hiding make the code easier to maintain. Since the internal representation of data is hidden, you can change the implementation details without affecting the external interface.\n",
    "\n",
    "Security:\n",
    "\n",
    "Sensitive data is protected from unauthorized access, reducing the risk of data breaches and unintended interactions."
   ]
  },
  {
   "cell_type": "code",
   "execution_count": 58,
   "id": "b45ac0b8-d598-4d04-a048-dc9414f598ad",
   "metadata": {},
   "outputs": [
    {
     "name": "stdout",
     "output_type": "stream",
     "text": [
      "John Doe\n",
      "50000\n",
      "Direct access error: 'Employee' object has no attribute '__salary'\n",
      "55000\n"
     ]
    }
   ],
   "source": [
    "class Employee:\n",
    "    def __init__(self, name, salary):\n",
    "        self.__name = name  # Private attribute\n",
    "        self.__salary = salary  # Private attribute\n",
    "\n",
    "    def get_name(self):\n",
    "        return self.__name\n",
    "\n",
    "    def get_salary(self):\n",
    "        return self.__salary\n",
    "\n",
    "    def set_salary(self, salary):\n",
    "        if salary > 0:\n",
    "            self.__salary = salary\n",
    "        else:\n",
    "            raise ValueError(\"Salary must be positive\")\n",
    "\n",
    "# Usage\n",
    "emp = Employee(\"John Doe\", 50000)\n",
    "print(emp.get_name())  # Output: John Doe\n",
    "print(emp.get_salary())  # Output: 50000\n",
    "\n",
    "# Attempt to directly access private attribute (will raise an AttributeError)\n",
    "try:\n",
    "    print(emp.__salary)\n",
    "except AttributeError as e:\n",
    "    print(f\"Direct access error: {e}\")\n",
    "\n",
    "# Modify salary using the setter method\n",
    "emp.set_salary(55000)\n",
    "print(emp.get_salary())  # Output: 55000\n"
   ]
  },
  {
   "cell_type": "markdown",
   "id": "7bc0778a-23d3-4751-9ff4-eb3e2fbd03ca",
   "metadata": {},
   "source": [
    "### 14. Create a Python class called `Employee` with private attributes for salary (`__salary`) and employee ID"
   ]
  },
  {
   "cell_type": "code",
   "execution_count": 59,
   "id": "2db06195-4af3-4afc-a9b6-3db9bf62c2b0",
   "metadata": {},
   "outputs": [
    {
     "name": "stdout",
     "output_type": "stream",
     "text": [
      "John Doe\n",
      "12345\n",
      "54321\n",
      "50000\n",
      "60000\n",
      "Employee Name: John Doe, Employee ID: 54321, Salary: 60000\n",
      "Employee ID must be a positive integer\n",
      "Salary must be a non-negative number\n"
     ]
    }
   ],
   "source": [
    "class Employee:\n",
    "    def __init__(self, name, employee_id, salary):\n",
    "        self.name = name  # Public attribute\n",
    "        self.__employee_id = employee_id  # Private attribute\n",
    "        self.__salary = salary  # Private attribute\n",
    "\n",
    "    @property\n",
    "    def employee_id(self):\n",
    "        \"\"\"Getter method for employee_id\"\"\"\n",
    "        return self.__employee_id\n",
    "\n",
    "    @employee_id.setter\n",
    "    def employee_id(self, employee_id):\n",
    "        \"\"\"Setter method for employee_id with validation\"\"\"\n",
    "        if isinstance(employee_id, int) and employee_id > 0:\n",
    "            self.__employee_id = employee_id\n",
    "        else:\n",
    "            raise ValueError(\"Employee ID must be a positive integer\")\n",
    "\n",
    "    @property\n",
    "    def salary(self):\n",
    "        \"\"\"Getter method for salary\"\"\"\n",
    "        return self.__salary\n",
    "\n",
    "    @salary.setter\n",
    "    def salary(self, salary):\n",
    "        \"\"\"Setter method for salary with validation\"\"\"\n",
    "        if isinstance(salary, (int, float)) and salary >= 0:\n",
    "            self.__salary = salary\n",
    "        else:\n",
    "            raise ValueError(\"Salary must be a non-negative number\")\n",
    "\n",
    "    def display_employee_details(self):\n",
    "        \"\"\"Method to display employee details\"\"\"\n",
    "        return f\"Employee Name: {self.name}, Employee ID: {self.__employee_id}, Salary: {self.__salary}\"\n",
    "\n",
    "# Example usage\n",
    "employee = Employee(\"John Doe\", 12345, 50000)\n",
    "\n",
    "# Accessing public attribute\n",
    "print(employee.name)  # Output: John Doe\n",
    "\n",
    "# Accessing and modifying private attributes through getter and setter methods\n",
    "print(employee.employee_id)  # Output: 12345\n",
    "employee.employee_id = 54321\n",
    "print(employee.employee_id)  # Output: 54321\n",
    "\n",
    "print(employee.salary)  # Output: 50000\n",
    "employee.salary = 60000\n",
    "print(employee.salary)  # Output: 60000\n",
    "\n",
    "# Display employee details\n",
    "print(employee.display_employee_details())  # Output: Employee Name: John Doe, Employee ID: 54321, Salary: 60000\n",
    "\n",
    "# Attempt to set invalid values (will raise ValueError)\n",
    "try:\n",
    "    employee.employee_id = -1\n",
    "except ValueError as e:\n",
    "    print(e)  # Output: Employee ID must be a positive integer\n",
    "\n",
    "try:\n",
    "    employee.salary = -1000\n",
    "except ValueError as e:\n",
    "    print(e)  # Output: Salary must be a non-negative number\n"
   ]
  },
  {
   "cell_type": "markdown",
   "id": "aa397a40-0bd8-4862-9ca4-8404af26ea73",
   "metadata": {},
   "source": [
    "### 15. Discuss the use of accessors and mutators in encapsulation. How do they help maintain control over attribute access?"
   ]
  },
  {
   "cell_type": "markdown",
   "id": "d020ea46-14ff-4d3e-9259-d6d186602636",
   "metadata": {},
   "source": [
    "\n",
    "Accessors and Mutators in Encapsulation\n",
    "Accessors (also known as getters) and mutators (also known as setters) are methods used in object-oriented programming to access and modify the private attributes of a class. They are crucial components of encapsulation, which ensures that the internal representation of an object is hidden from the outside world, allowing controlled access to the object's attributes.\n",
    "\n"
   ]
  },
  {
   "cell_type": "markdown",
   "id": "ec652109-6e80-426c-874b-d37bd776fece",
   "metadata": {},
   "source": [
    "Role of Accessors and Mutators\n",
    "\n",
    "Accessors (Getters)\n",
    "\n",
    "Purpose:\n",
    "\n",
    "Provide read-only access to private attributes.\n",
    "\n",
    "Allow controlled retrieval of attribute values.\n"
   ]
  },
  {
   "cell_type": "code",
   "execution_count": 60,
   "id": "555651b0-1503-4802-bf03-7c851049a694",
   "metadata": {},
   "outputs": [
    {
     "name": "stdout",
     "output_type": "stream",
     "text": [
      "John\n",
      "50000\n"
     ]
    }
   ],
   "source": [
    "class Employee:\n",
    "    def __init__(self, name, salary):\n",
    "        self.__name = name\n",
    "        self.__salary = salary\n",
    "    \n",
    "    @property\n",
    "    def name(self):\n",
    "        return self.__name\n",
    "    \n",
    "    @property\n",
    "    def salary(self):\n",
    "        return self.__salary\n",
    "\n",
    "emp = Employee(\"John\", 50000)\n",
    "print(emp.name)  # Output: John\n",
    "print(emp.salary)  # Output: 50000\n"
   ]
  },
  {
   "cell_type": "markdown",
   "id": "8efc12e7-f3ce-4732-a8fb-58fb48532759",
   "metadata": {},
   "source": [
    "Mutators (Setters)\n",
    "\n",
    "Purpose:\n",
    "\n",
    "Provide controlled modification of private attributes.\n",
    "    \n",
    "Allow validation and processing of data before setting attribute values."
   ]
  },
  {
   "cell_type": "code",
   "execution_count": 62,
   "id": "73e55cd4-7c1a-4fb2-a56b-72f0438dbfa6",
   "metadata": {},
   "outputs": [
    {
     "name": "stdout",
     "output_type": "stream",
     "text": [
      "Jane\n",
      "60000\n",
      "Salary must be a non-negative number\n"
     ]
    }
   ],
   "source": [
    "class Employee:\n",
    "    def __init__(self, name, salary):\n",
    "        self.__name = name\n",
    "        self.__salary = salary\n",
    "    \n",
    "    @property\n",
    "    def name(self):\n",
    "        return self.__name\n",
    "    \n",
    "    @name.setter\n",
    "    def name(self, value):\n",
    "        if isinstance(value, str) and value:\n",
    "            self.__name = value\n",
    "        else:\n",
    "            raise ValueError(\"Name must be a non-empty string\")\n",
    "    \n",
    "    @property\n",
    "    def salary(self):\n",
    "        return self.__salary\n",
    "    \n",
    "    @salary.setter\n",
    "    def salary(self, value):\n",
    "        if isinstance(value, (int, float)) and value >= 0:\n",
    "            self.__salary = value\n",
    "        else:\n",
    "            raise ValueError(\"Salary must be a non-negative number\")\n",
    "\n",
    "emp = Employee(\"John\", 50000)\n",
    "emp.name = \"Jane\"\n",
    "emp.salary = 60000\n",
    "print(emp.name)  # Output: Jane\n",
    "print(emp.salary)  # Output: 60000\n",
    "\n",
    "try:\n",
    "    emp.salary = -1000  # Raises ValueError: Salary must be a non-negative number\n",
    "except ValueError as e:\n",
    "    print(e)\n"
   ]
  },
  {
   "cell_type": "markdown",
   "id": "47e14613-3076-4f9d-b55d-6b9937628d87",
   "metadata": {},
   "source": [
    "Benefits of Accessors and Mutators\n",
    "Encapsulation:\n",
    "\n",
    "Accessors and mutators enforce encapsulation by hiding the internal state of the object and providing a controlled interface for interacting with that state.\n",
    "Data Validation:\n",
    "\n",
    "Mutators allow validation of data before it is assigned to an attribute, ensuring that only valid data is stored within the object.\n",
    "Read-Only Attributes:\n",
    "\n",
    "Accessors can be used to create read-only attributes, where the value can be accessed but not modified.\n",
    "Consistency:\n",
    "\n",
    "Using accessors and mutators ensures that all changes to an attribute are made through a single point of control, maintaining consistency in how attributes are accessed and modified.\n",
    "Decoupling:\n",
    "\n",
    "By using methods to access and modify attributes, the internal representation of the object can be changed without affecting external code that relies on the object. This makes the code more flexible and easier to maintain."
   ]
  },
  {
   "cell_type": "markdown",
   "id": "5765b1df-2591-45d7-ad62-bbc8925cad50",
   "metadata": {},
   "source": [
    "### 16. What are the potential drawbacks or disadvantages of using encapsulation in Python?"
   ]
  },
  {
   "cell_type": "markdown",
   "id": "7a697ca3-36ce-4ab7-ac23-b3f1a18270a7",
   "metadata": {},
   "source": [
    "Potential Drawbacks or Disadvantages of Using Encapsulation in Python\n",
    "While encapsulation offers numerous benefits such as data protection, maintainability, and modularity, it also comes with some potential drawbacks or disadvantages:\n",
    "\n",
    "Increased Complexity:\n",
    "\n",
    "Implementing encapsulation can increase the complexity of the code. Instead of directly accessing attributes, developers must use getter and setter methods, which can lead to more verbose and less straightforward code.\n",
    "\n",
    "Performance Overhead:\n",
    "\n",
    "Accessing and modifying attributes through getter and setter methods can introduce a slight performance overhead compared to direct attribute access. While this overhead is generally negligible, it can become significant in performance-critical applications.\n",
    "\n",
    "Boilerplate Code:\n",
    "\n",
    "Encapsulation often requires additional boilerplate code for defining getter and setter methods or property decorators. This can lead to larger codebases and potentially more maintenance effort.\n",
    "\n",
    "Limited Flexibility:\n",
    "\n",
    "Strict encapsulation can sometimes limit flexibility, especially in dynamic languages like Python. For example, if a developer needs to quickly prototype or experiment with changes, the additional structure imposed by encapsulation can slow down the process.\n",
    "\n",
    "Potential for Misuse:\n",
    "\n",
    "Developers might misuse getter and setter methods, leading to poor design practices. For example, overuse of getters and setters can sometimes result in \"getter/setter abuse,\" where the encapsulation is effectively bypassed, and the benefits of encapsulation are lost.\n",
    "\n",
    "Debugging Challenges:\n",
    "\n",
    "Encapsulated attributes are hidden from the outside world, which can sometimes make debugging more challenging. Developers need to ensure that their getter and setter methods are correctly implemented and thoroughly tested.\n",
    "\n",
    "Not Idiomatic Python:\n",
    "\n",
    "Python is designed to be a language that emphasizes simplicity and readability. The use of private attributes and encapsulation, while possible, can sometimes go against the idiomatic \"Pythonic\" way of doing things. Python's philosophy often encourages simpler and more direct solutions."
   ]
  },
  {
   "cell_type": "markdown",
   "id": "9b1c6c51-89b6-47d2-82ff-895f11ab9339",
   "metadata": {},
   "source": [
    "### 17. Create a Python class for a library system that encapsulates book information, including titles, authors, and availability status."
   ]
  },
  {
   "cell_type": "code",
   "execution_count": 63,
   "id": "e9a8f37c-4a59-4842-91bf-f18651efcf6f",
   "metadata": {},
   "outputs": [
    {
     "name": "stdout",
     "output_type": "stream",
     "text": [
      "List of books in the library:\n",
      "Title: 1984, Author: George Orwell, Status: Available\n",
      "Title: To Kill a Mockingbird, Author: Harper Lee, Status: Not Available\n",
      "Title: The Great Gatsby, Author: F. Scott Fitzgerald, Status: Available\n",
      "\n",
      "Borrowing '1984':\n",
      "You have successfully borrowed '1984'\n",
      "\n",
      "List of books after borrowing '1984':\n",
      "Title: 1984, Author: George Orwell, Status: Not Available\n",
      "Title: To Kill a Mockingbird, Author: Harper Lee, Status: Not Available\n",
      "Title: The Great Gatsby, Author: F. Scott Fitzgerald, Status: Available\n",
      "\n",
      "Returning '1984':\n",
      "Thank you for returning '1984'\n",
      "\n",
      "List of books after returning '1984':\n",
      "Title: 1984, Author: George Orwell, Status: Available\n",
      "Title: To Kill a Mockingbird, Author: Harper Lee, Status: Not Available\n",
      "Title: The Great Gatsby, Author: F. Scott Fitzgerald, Status: Available\n"
     ]
    }
   ],
   "source": [
    "class Book:\n",
    "    def __init__(self, title, author, available=True):\n",
    "        self.__title = title\n",
    "        self.__author = author\n",
    "        self.__available = available\n",
    "\n",
    "    @property\n",
    "    def title(self):\n",
    "        return self.__title\n",
    "\n",
    "    @property\n",
    "    def author(self):\n",
    "        return self.__author\n",
    "\n",
    "    @property\n",
    "    def available(self):\n",
    "        return self.__available\n",
    "\n",
    "    @available.setter\n",
    "    def available(self, status):\n",
    "        if isinstance(status, bool):\n",
    "            self.__available = status\n",
    "        else:\n",
    "            raise ValueError(\"Availability status must be a boolean value\")\n",
    "\n",
    "    def display_book_info(self):\n",
    "        availability = \"Available\" if self.__available else \"Not Available\"\n",
    "        return f\"Title: {self.__title}, Author: {self.__author}, Status: {availability}\"\n",
    "\n",
    "class Library:\n",
    "    def __init__(self):\n",
    "        self.__books = []\n",
    "\n",
    "    def add_book(self, book):\n",
    "        if isinstance(book, Book):\n",
    "            self.__books.append(book)\n",
    "        else:\n",
    "            raise ValueError(\"Only Book instances can be added\")\n",
    "\n",
    "    def list_books(self):\n",
    "        for book in self.__books:\n",
    "            print(book.display_book_info())\n",
    "\n",
    "    def find_book_by_title(self, title):\n",
    "        for book in self.__books:\n",
    "            if book.title == title:\n",
    "                return book\n",
    "        return None\n",
    "\n",
    "    def borrow_book(self, title):\n",
    "        book = self.find_book_by_title(title)\n",
    "        if book and book.available:\n",
    "            book.available = False\n",
    "            return f\"You have successfully borrowed '{book.title}'\"\n",
    "        elif book:\n",
    "            return f\"'{book.title}' is currently not available\"\n",
    "        else:\n",
    "            return f\"'{title}' not found in the library\"\n",
    "\n",
    "    def return_book(self, title):\n",
    "        book = self.find_book_by_title(title)\n",
    "        if book and not book.available:\n",
    "            book.available = True\n",
    "            return f\"Thank you for returning '{book.title}'\"\n",
    "        elif book:\n",
    "            return f\"'{book.title}' was not borrowed\"\n",
    "        else:\n",
    "            return f\"'{title}' not found in the library\"\n",
    "\n",
    "# Example usage\n",
    "book1 = Book(\"1984\", \"George Orwell\")\n",
    "book2 = Book(\"To Kill a Mockingbird\", \"Harper Lee\", available=False)\n",
    "book3 = Book(\"The Great Gatsby\", \"F. Scott Fitzgerald\")\n",
    "\n",
    "library = Library()\n",
    "library.add_book(book1)\n",
    "library.add_book(book2)\n",
    "library.add_book(book3)\n",
    "\n",
    "print(\"List of books in the library:\")\n",
    "library.list_books()\n",
    "# Output:\n",
    "# Title: 1984, Author: George Orwell, Status: Available\n",
    "# Title: To Kill a Mockingbird, Author: Harper Lee, Status: Not Available\n",
    "# Title: The Great Gatsby, Author: F. Scott Fitzgerald, Status: Available\n",
    "\n",
    "print(\"\\nBorrowing '1984':\")\n",
    "print(library.borrow_book(\"1984\"))\n",
    "# Output: You have successfully borrowed '1984'\n",
    "\n",
    "print(\"\\nList of books after borrowing '1984':\")\n",
    "library.list_books()\n",
    "# Output:\n",
    "# Title: 1984, Author: George Orwell, Status: Not Available\n",
    "# Title: To Kill a Mockingbird, Author: Harper Lee, Status: Not Available\n",
    "# Title: The Great Gatsby, Author: F. Scott Fitzgerald, Status: Available\n",
    "\n",
    "print(\"\\nReturning '1984':\")\n",
    "print(library.return_book(\"1984\"))\n",
    "# Output: Thank you for returning '1984'\n",
    "\n",
    "print(\"\\nList of books after returning '1984':\")\n",
    "library.list_books()\n",
    "# Output:\n",
    "# Title: 1984, Author: George Orwell, Status: Available\n",
    "# Title: To Kill a Mockingbird, Author: Harper Lee, Status: Not Available\n",
    "# Title: The Great Gatsby, Author: F. Scott Fitzgerald, Status: Available\n"
   ]
  },
  {
   "cell_type": "markdown",
   "id": "df49b257-5a9a-4e5b-8862-2f4ec8c47a82",
   "metadata": {},
   "source": [
    "### 18. Explain how encapsulation enhances code reusability and modularity in Python programs."
   ]
  },
  {
   "cell_type": "markdown",
   "id": "d3701152-8638-4e63-907e-a4d57b71b26a",
   "metadata": {},
   "source": [
    "\n",
    "Encapsulation in Python: Enhancing Code Reusability and Modularity\n",
    "Encapsulation is a fundamental principle in object-oriented programming (OOP) that involves bundling the data (attributes) and the methods (functions) that operate on the data into a single unit, known as a class. \n",
    "Encapsulation restricts direct access to some of an object's components, which can prevent the accidental modification of data and is typically achieved by using private attributes and providing public getter and setter methods.\n",
    "\n",
    "Here’s how encapsulation enhances code reusability and modularity in Python programs:\n",
    "\n",
    "Enhancing Code Reusability\n",
    "\n",
    "Isolation of Changes:\n",
    "\n",
    "Encapsulation allows the internal implementation of a class to be changed without affecting the external code that uses the class. This means that the same class can be reused in different parts of a program or in different projects without worrying about how changes to the class might impact other code.\n",
    "\n",
    "Clear Interface:\n",
    "\n",
    "By defining a clear and consistent interface through public methods (getters and setters), encapsulated classes provide a standard way to interact with their data. This standardization makes it easier to reuse the class because users of the class know how to interact with it without needing to understand its internal workings.\n",
    "\n",
    "Improved Maintainability:\n",
    "\n",
    "Encapsulated classes can be easily maintained and updated. When a bug is found or a feature needs to be added, changes are often localized to the specific class without requiring modifications to the rest of the codebase. This makes it easier to reuse classes in other projects or contexts.\n",
    "Enhancing Modularity\n",
    "\n",
    "Separation of Concerns:\n",
    "\n",
    "Encapsulation helps to separate concerns by ensuring that each class is responsible for a specific piece of functionality. This separation makes it easier to manage and understand complex systems, as each module (class) can be developed, tested, and debugged independently.\n",
    "\n",
    "Interchangeability:\n",
    "\n",
    "Encapsulated classes can be interchanged with other classes that provide the same interface. This modularity allows developers to replace or upgrade parts of a system without affecting the rest of the system. For example, if you have a PaymentProcessor class, you can replace it with a new implementation without changing the code that uses it, as long as the interface remains the same.\n",
    "\n",
    "Encourages Composition:\n",
    "\n",
    "Encapsulation encourages the use of composition over inheritance. By combining simple, encapsulated objects to create more complex behavior, developers can build modular systems that are easier to understand and maintain. Each component object handles its own data and behavior, contributing to the overall functionality of the system."
   ]
  },
  {
   "cell_type": "markdown",
   "id": "cccd7612-dc8c-4a6f-b8be-7089dabff3c0",
   "metadata": {},
   "source": [
    "### 19. Describe the concept of information hiding in encapsulation. Why is it essential in software development?"
   ]
  },
  {
   "cell_type": "markdown",
   "id": "caab4b40-5175-4053-b0c0-54bb46796a56",
   "metadata": {},
   "source": [
    "Information Hiding in Encapsulation\n",
    "\n",
    "Information hiding is a fundamental concept in encapsulation that refers to the practice of restricting access to the internal details of a class and exposing only the necessary information through a well-defined interface. It is a core principle of object-oriented programming (OOP) that helps to manage complexity, enhance maintainability, and safeguard the integrity of data.\n",
    "\n",
    "Key Aspects of Information Hiding\n",
    "\n",
    "Encapsulation:\n",
    "\n",
    "Information hiding is achieved through encapsulation, where the internal state of an object is hidden from the outside world, and access is controlled via public methods. This ensures that users interact with the object only through its defined interface.\n",
    "\n",
    "Private and Protected Attributes:\n",
    "\n",
    "By marking attributes and methods as private (e.g., using __attribute) or protected (e.g., using _attribute), developers can control access to these members and prevent unauthorized or unintended modifications.\n",
    "\n",
    "Public Interface:\n",
    "\n",
    "The class exposes a public interface consisting of methods that provide controlled access to the internal state. This interface allows users to perform necessary operations without needing to understand or interact with the underlying implementation.\n",
    "\n",
    "Importance of Information Hiding in Software Development\n",
    "\n",
    "Reducing Complexity:\n",
    "\n",
    "Simplifies Interaction: Information hiding reduces complexity by providing a simplified interface for interacting with objects. Users don’t need to know the internal workings of the class, making it easier to understand and use.\n",
    "Encapsulation of Complexity: The internal implementation details are encapsulated within the class, isolating complexity from the rest of the codebase.\n",
    "\n",
    "Enhancing Maintainability:\n",
    "\n",
    "Isolated Changes: Changes to the internal implementation of a class can be made without affecting the code that uses the class. This allows developers to refactor or enhance functionality without introducing errors in other parts of the system.\n",
    "\n",
    "Easier Debugging: Since internal details are hidden, bugs can be isolated more easily, and changes are localized, making debugging and maintenance more straightforward.\n",
    "\n",
    "Improving Security and Integrity:\n",
    "\n",
    "Controlled Access: By hiding the internal state and providing controlled access through methods, information hiding helps protect the integrity of the data. It prevents unauthorized modifications and ensures that the data remains valid.\n",
    "\n",
    "Validation and Constraints: Methods can enforce constraints and validation rules, ensuring that only valid data is set or retrieved.\n",
    "Facilitating Modularity and Reusability:\n",
    "\n",
    "Modular Design: Information hiding promotes modular design by allowing each class to be developed, tested, and maintained independently. Classes can be reused in different contexts without needing to understand their internal structure.\n",
    "\n",
    "Interchangeable Components: Classes with well-defined interfaces can be easily replaced or upgraded without affecting other parts of the system, enhancing flexibility and adaptability."
   ]
  },
  {
   "cell_type": "markdown",
   "id": "8bc3ea1e-cdda-49d9-a6df-b1ca76ef5129",
   "metadata": {},
   "source": [
    "### 20. Create a Python class called `Customer` with private attributes for customer details like name, address,and contact information. Implement encapsulation to ensure data integrity and security."
   ]
  },
  {
   "cell_type": "code",
   "execution_count": 64,
   "id": "6cf39c45-a792-42f6-a8f7-8fba6939c903",
   "metadata": {},
   "outputs": [
    {
     "name": "stdout",
     "output_type": "stream",
     "text": [
      "Name: Alice Johnson\n",
      "Address: 123 Elm Street\n",
      "Contact Info: 555-1234\n",
      "Contact information must be a string with at least 10 characters\n",
      "Name: Alice Johnson\n",
      "Address: 456 Oak Avenue\n",
      "Contact Info: 555-1234\n"
     ]
    }
   ],
   "source": [
    "class Customer:\n",
    "    def __init__(self, name, address, contact_info):\n",
    "        self.__name = name\n",
    "        self.__address = address\n",
    "        self.__contact_info = contact_info\n",
    "\n",
    "    # Getter and Setter for name\n",
    "    @property\n",
    "    def name(self):\n",
    "        return self.__name\n",
    "\n",
    "    @name.setter\n",
    "    def name(self, name):\n",
    "        if isinstance(name, str) and name.strip():\n",
    "            self.__name = name\n",
    "        else:\n",
    "            raise ValueError(\"Name must be a non-empty string\")\n",
    "\n",
    "    # Getter and Setter for address\n",
    "    @property\n",
    "    def address(self):\n",
    "        return self.__address\n",
    "\n",
    "    @address.setter\n",
    "    def address(self, address):\n",
    "        if isinstance(address, str) and address.strip():\n",
    "            self.__address = address\n",
    "        else:\n",
    "            raise ValueError(\"Address must be a non-empty string\")\n",
    "\n",
    "    # Getter and Setter for contact_info\n",
    "    @property\n",
    "    def contact_info(self):\n",
    "        return self.__contact_info\n",
    "\n",
    "    @contact_info.setter\n",
    "    def contact_info(self, contact_info):\n",
    "        if isinstance(contact_info, str) and len(contact_info) >= 10:\n",
    "            self.__contact_info = contact_info\n",
    "        else:\n",
    "            raise ValueError(\"Contact information must be a string with at least 10 characters\")\n",
    "\n",
    "    # Method to display customer details\n",
    "    def display_customer_info(self):\n",
    "        return (f\"Name: {self.__name}\\n\"\n",
    "                f\"Address: {self.__address}\\n\"\n",
    "                f\"Contact Info: {self.__contact_info}\")\n",
    "\n",
    "# Example usage\n",
    "try:\n",
    "    customer = Customer(\"Alice Johnson\", \"123 Elm Street\", \"555-1234\")\n",
    "    print(customer.display_customer_info())\n",
    "    # Output:\n",
    "    # Name: Alice Johnson\n",
    "    # Address: 123 Elm Street\n",
    "    # Contact Info: 555-1234\n",
    "\n",
    "    # Attempt to set invalid contact info\n",
    "    customer.contact_info = \"123\"  # Raises ValueError\n",
    "except ValueError as e:\n",
    "    print(e)  # Output: Contact information must be a string with at least 10 characters\n",
    "\n",
    "# Updating valid data\n",
    "customer.address = \"456 Oak Avenue\"\n",
    "print(customer.display_customer_info())\n",
    "\n"
   ]
  },
  {
   "cell_type": "markdown",
   "id": "1dfc5dc3-9a0f-490c-bc47-84f167d2e751",
   "metadata": {},
   "source": [
    "## Polymorphism "
   ]
  },
  {
   "cell_type": "markdown",
   "id": "bcdc70b8-2ca7-4c5e-abab-c92dfb959bd4",
   "metadata": {},
   "source": [
    "### 1. What is polymorphism in Python? Explain how it is related to object-oriented programming."
   ]
  },
  {
   "cell_type": "markdown",
   "id": "cd8693d4-866b-465d-a20e-1d1ca3d74dad",
   "metadata": {},
   "source": [
    "Polymorphism is a core concept in object-oriented programming (OOP) that allows objects of different classes to be treated as objects of a common base class. The term \"polymorphism\" comes from Greek, meaning \"many shapes\" or \"many forms,\" and in programming, it refers to the ability to use a single interface to represent different underlying forms (data types).\n",
    "\n",
    "Key Aspects of Polymorphism\n",
    "\n",
    "Method Overriding:\n",
    "\n",
    "Polymorphism allows a derived class to provide a specific implementation of a method that is already defined in its base class. This is known as method overriding. When a method is overridden in a derived class, it is the derived class's version of the method that gets called, even when the method is invoked on an instance of the base class.\n",
    "\n",
    "Method Overloading (Less Common in Python):\n",
    "\n",
    "Although Python does not support traditional method overloading (defining multiple methods with the same name but different parameters), polymorphism in Python can still be achieved through default arguments and variable-length argument lists, allowing a single method to handle different types or numbers of arguments.\n",
    "\n",
    "Duck Typing:\n",
    "\n",
    "Python uses a concept known as \"duck typing,\" which is a type of polymorphism where the type or class of an object is determined by its behavior (methods and properties) rather than its explicit class inheritance. In other words, \"if it looks like a duck and quacks like a duck, it's a duck.\""
   ]
  },
  {
   "cell_type": "markdown",
   "id": "572626b6-1887-4c36-a6cd-f9de99666f09",
   "metadata": {},
   "source": [
    "### 2. Describe the difference between compile-time polymorphism and runtime polymorphism in Python."
   ]
  },
  {
   "cell_type": "markdown",
   "id": "cf3f3c1c-52a3-4074-a9cc-37952d3da786",
   "metadata": {},
   "source": [
    "compile-Time Polymorphism\n",
    "\n",
    "Compile-time polymorphism refers to the ability of a programming language to resolve method calls or operator usage at compile time. It is also known as static polymorphism. This type of polymorphism is determined when the code is compiled, not at runtime.\n",
    "\n",
    "In statically-typed languages, compile-time polymorphism is often achieved through:\n",
    "\n",
    "Method Overloading:\n",
    "\n",
    "Methods with the same name but different parameter lists are distinguished at compile time. The correct method is chosen based on the method signature during compilation.\n",
    "\n",
    "Operator Overloading:\n",
    "\n",
    "Operators (like +, -, *, etc.) can be overloaded to work with user-defined types, and the specific implementation is selected at compile time.\n",
    "Python Context:\n",
    "\n",
    "Python does not support method overloading in the traditional sense. Instead, you can use default arguments or variable-length argument lists to achieve similar results. Since Python is dynamically typed, it cannot resolve method overloading at compile time.\n",
    "\n",
    "Runtime Polymorphism\n",
    "\n",
    "Runtime polymorphism refers to the ability of a programming language to resolve method calls at runtime. It is also known as dynamic polymorphism. This type of polymorphism is determined during the execution of the program, not at compile time.\n",
    "\n",
    "In object-oriented programming, runtime polymorphism is typically achieved through:\n",
    "\n",
    "Method Overriding:\n",
    "\n",
    "Derived classes provide specific implementations of methods that are defined in the base class. The method that gets executed is determined at runtime based on the type of the object, not the type of the reference.\n",
    "Duck Typing:\n",
    "\n",
    "In dynamically-typed languages like Python, objects are evaluated at runtime based on their behavior rather than their explicit type. If an object implements the required methods, it is treated as an instance of the expected type.\n",
    "Python Context:\n",
    "\n",
    "Python primarily relies on runtime polymorphism due to its dynamic nature:\n",
    "\n",
    "Method Overriding:\n",
    "\n",
    "Python supports method overriding, where a derived class provides a specific implementation of a method defined in the base class. The actual method called is resolved at runtime.\n",
    "\n",
    "Duck Typing:\n",
    "\n",
    "Python uses duck typing to achieve polymorphism. If an object implements a method or attribute, it can be used interchangeably with other objects that implement the same interface, regardless of their explicit class type."
   ]
  },
  {
   "cell_type": "markdown",
   "id": "a18498d4-043c-441d-a0bf-8a4d59e998a0",
   "metadata": {},
   "source": [
    "### 3. Create a Python class hierarchy for shapes (e.g., circle, square, triangle) and demonstrate polymorphismthrough a common method, such as `calculate_area()`."
   ]
  },
  {
   "cell_type": "code",
   "execution_count": 65,
   "id": "639b88ce-c69b-47cd-ae54-a7f7df6d308c",
   "metadata": {},
   "outputs": [
    {
     "name": "stdout",
     "output_type": "stream",
     "text": [
      "The area of the shape is: 78.53981633974483\n",
      "The area of the shape is: 16\n",
      "The area of the shape is: 9.0\n"
     ]
    }
   ],
   "source": [
    "import math\n",
    "\n",
    "# Base class\n",
    "class Shape:\n",
    "    def calculate_area(self):\n",
    "        raise NotImplementedError(\"Subclasses must implement this method\")\n",
    "\n",
    "# Derived class for Circle\n",
    "class Circle(Shape):\n",
    "    def __init__(self, radius):\n",
    "        self.radius = radius\n",
    "\n",
    "    def calculate_area(self):\n",
    "        return math.pi * (self.radius ** 2)\n",
    "\n",
    "# Derived class for Square\n",
    "class Square(Shape):\n",
    "    def __init__(self, side_length):\n",
    "        self.side_length = side_length\n",
    "\n",
    "    def calculate_area(self):\n",
    "        return self.side_length ** 2\n",
    "\n",
    "# Derived class for Triangle\n",
    "class Triangle(Shape):\n",
    "    def __init__(self, base, height):\n",
    "        self.base = base\n",
    "        self.height = height\n",
    "\n",
    "    def calculate_area(self):\n",
    "        return 0.5 * self.base * self.height\n",
    "\n",
    "# Function to demonstrate polymorphism\n",
    "def print_area(shape):\n",
    "    print(f\"The area of the shape is: {shape.calculate_area()}\")\n",
    "\n",
    "# Example usage\n",
    "shapes = [\n",
    "    Circle(radius=5),\n",
    "    Square(side_length=4),\n",
    "    Triangle(base=6, height=3)\n",
    "]\n",
    "\n",
    "for shape in shapes:\n",
    "    print_area(shape)\n"
   ]
  },
  {
   "cell_type": "markdown",
   "id": "6ff1b779-d70d-49f3-818e-49d6fc22364c",
   "metadata": {},
   "source": [
    "### 4. Explain the concept of method overriding in polymorphism. Provide an example."
   ]
  },
  {
   "cell_type": "markdown",
   "id": "c0090edb-307b-448d-b901-e6385e9ae5c6",
   "metadata": {},
   "source": [
    "Method overriding is a concept in object-oriented programming where a subclass provides a specific implementation of a method that is already defined in its base class. This allows the subclass to modify or extend the behavior of the method inherited from the base class.\n",
    "\n",
    "Key Points of Method Overriding\n",
    "\n",
    "Inheritance: Method overriding occurs when a subclass inherits from a base class. The base class provides a method with a default implementation, and the subclass can override this method to provide its own behavior.\n",
    "\n",
    "Same Method Signature: The method in the subclass must have the same name, parameters, and return type as the method in the base class. This ensures that the method signature remains consistent.\n",
    "\n",
    "Runtime Polymorphism: Method overriding is a way to achieve runtime polymorphism. The method that gets called is determined at runtime based on the type of the object.\n",
    "\n",
    "Base Class Reference: You can call the overridden method using a reference to the base class. The actual method that gets executed is the one in the subclass."
   ]
  },
  {
   "cell_type": "code",
   "execution_count": 66,
   "id": "944ffec5-b608-42b3-9079-65c1290f6e3c",
   "metadata": {},
   "outputs": [
    {
     "name": "stdout",
     "output_type": "stream",
     "text": [
      "Bark\n",
      "Meow\n"
     ]
    }
   ],
   "source": [
    "# Base class\n",
    "class Animal:\n",
    "    def speak(self):\n",
    "        return \"Animal sound\"\n",
    "\n",
    "# Derived class that overrides the speak method\n",
    "class Dog(Animal):\n",
    "    def speak(self):\n",
    "        return \"Bark\"\n",
    "\n",
    "# Another derived class that overrides the speak method\n",
    "class Cat(Animal):\n",
    "    def speak(self):\n",
    "        return \"Meow\"\n",
    "\n",
    "# Function to demonstrate method overriding\n",
    "def make_animal_speak(animal):\n",
    "    print(animal.speak())\n",
    "\n",
    "# Example usage\n",
    "animals = [Dog(), Cat()]\n",
    "\n",
    "for animal in animals:\n",
    "    make_animal_speak(animal)\n"
   ]
  },
  {
   "cell_type": "markdown",
   "id": "5572b236-05e4-4f63-b628-1a9fb2bee4de",
   "metadata": {},
   "source": [
    "### 5. How is polymorphism different from method overloading in Python? Provide examples for both."
   ]
  },
  {
   "cell_type": "markdown",
   "id": "3a725dd2-d561-4e7a-b0b2-6d39f9e2798f",
   "metadata": {},
   "source": [
    "Polymorphism refers to the ability of different objects to respond, each in their own way, to the same method call. It allows methods to be used interchangeably across different classes, provided they adhere to a common interface. Polymorphism can be achieved through method overriding, where a subclass provides a specific implementation of a method defined in its base class."
   ]
  },
  {
   "cell_type": "code",
   "execution_count": 67,
   "id": "ea879e95-7f0f-4423-b906-1b7d56cc0572",
   "metadata": {},
   "outputs": [
    {
     "name": "stdout",
     "output_type": "stream",
     "text": [
      "Bark\n",
      "Meow\n"
     ]
    }
   ],
   "source": [
    "class Animal:\n",
    "    def speak(self):\n",
    "        return \"Animal sound\"\n",
    "\n",
    "class Dog(Animal):\n",
    "    def speak(self):\n",
    "        return \"Bark\"\n",
    "\n",
    "class Cat(Animal):\n",
    "    def speak(self):\n",
    "        return \"Meow\"\n",
    "\n",
    "def make_animal_speak(animal):\n",
    "    print(animal.speak())\n",
    "\n",
    "# Example usage\n",
    "animals = [Dog(), Cat()]\n",
    "\n",
    "for animal in animals:\n",
    "    make_animal_speak(animal)\n"
   ]
  },
  {
   "cell_type": "markdown",
   "id": "3b3454ec-b937-4383-9166-20cbbfeebfa3",
   "metadata": {},
   "source": [
    "Method overloading refers to the ability to define multiple methods with the same name but different parameters within the same class. The correct method to be invoked is determined based on the method signature (i.e., the number and types of parameters)."
   ]
  },
  {
   "cell_type": "code",
   "execution_count": 68,
   "id": "c6e7f166-0180-4e9e-b52d-4918150d130f",
   "metadata": {},
   "outputs": [
    {
     "name": "stdout",
     "output_type": "stream",
     "text": [
      "Printing integer: 10\n",
      "Printing string: Hello\n",
      "Printing string with number: Hello 10\n"
     ]
    }
   ],
   "source": [
    "class Printer:\n",
    "    def print(self, *args):\n",
    "        if len(args) == 1 and isinstance(args[0], int):\n",
    "            print(f\"Printing integer: {args[0]}\")\n",
    "        elif len(args) == 1 and isinstance(args[0], str):\n",
    "            print(f\"Printing string: {args[0]}\")\n",
    "        elif len(args) == 2 and isinstance(args[0], str) and isinstance(args[1], int):\n",
    "            print(f\"Printing string with number: {args[0]} {args[1]}\")\n",
    "        else:\n",
    "            print(\"Invalid arguments\")\n",
    "\n",
    "# Example usage\n",
    "printer = Printer()\n",
    "\n",
    "printer.print(10)              # Output: Printing integer: 10\n",
    "printer.print(\"Hello\")        # Output: Printing string: Hello\n",
    "printer.print(\"Hello\", 10)    # Output: Printing string with number: Hello 10\n"
   ]
  },
  {
   "cell_type": "markdown",
   "id": "edc9052f-d342-42a0-bebf-3dafdaca22d6",
   "metadata": {},
   "source": [
    "Differences\n",
    "\n",
    "Conceptual Focus:\n",
    "\n",
    "Polymorphism: Focuses on using a common interface to handle objects of different types in a uniform manner. It deals with overriding methods and dynamic method resolution.\n",
    "\n",
    "Method Overloading: Focuses on defining multiple methods with the same name but different parameters. It deals with method signatures and compile-time method resolution (in statically-typed languages).\n",
    "\n",
    "Support in Python:\n",
    "\n",
    "Polymorphism: Fully supported in Python through method overriding and duck typing.\n",
    "\n",
    "Method Overloading: Not supported directly in Python. Instead, Python uses default arguments or variable-length arguments to achieve similar behavior.\n",
    "\n",
    "Usage:\n",
    "\n",
    "Polymorphism: Allows different classes to share a common interface and be used interchangeably.\n",
    "\n",
    "Method Overloading: Allows a single class to define multiple methods with the same name but different parameters."
   ]
  },
  {
   "cell_type": "markdown",
   "id": "18dfd3cd-888d-44ca-b7cf-a3cba5b1411d",
   "metadata": {},
   "source": [
    "### 6. Create a Python class called `Animal` with a method `speak()`. Then, create child classes like `Dog`, `Cat`, and `Bird`, each with their own `speak()` method. Demonstrate polymorphism by calling the `speak()` method on objects of different subclasses."
   ]
  },
  {
   "cell_type": "code",
   "execution_count": 69,
   "id": "f59ec4c1-d818-44cf-b60b-2aeb397b9fbe",
   "metadata": {},
   "outputs": [
    {
     "name": "stdout",
     "output_type": "stream",
     "text": [
      "Woof!\n",
      "Meow!\n",
      "Chirp!\n"
     ]
    }
   ],
   "source": [
    "# Define the base class\n",
    "class Animal:\n",
    "    def speak(self):\n",
    "        raise NotImplementedError(\"Subclass must implement abstract method\")\n",
    "\n",
    "# Define the Dog class inheriting from Animal\n",
    "class Dog(Animal):\n",
    "    def speak(self):\n",
    "        return \"Woof!\"\n",
    "\n",
    "# Define the Cat class inheriting from Animal\n",
    "class Cat(Animal):\n",
    "    def speak(self):\n",
    "        return \"Meow!\"\n",
    "\n",
    "# Define the Bird class inheriting from Animal\n",
    "class Bird(Animal):\n",
    "    def speak(self):\n",
    "        return \"Chirp!\"\n",
    "\n",
    "# Demonstrating polymorphism\n",
    "def make_animal_speak(animal):\n",
    "    print(animal.speak())\n",
    "\n",
    "# Create instances of each subclass\n",
    "dog = Dog()\n",
    "cat = Cat()\n",
    "bird = Bird()\n",
    "\n",
    "# Call the speak() method on each instance\n",
    "make_animal_speak(dog)  # Output: Woof!\n",
    "make_animal_speak(cat)  # Output: Meow!\n",
    "make_animal_speak(bird) # Output: Chirp!\n"
   ]
  },
  {
   "cell_type": "markdown",
   "id": "5aba1afd-73b7-4374-af36-deeefe7c056b",
   "metadata": {},
   "source": [
    "### 7. Discuss the use of abstract methods and classes in achieving polymorphism in Python. Provide an example using the `abc` module."
   ]
  },
  {
   "cell_type": "markdown",
   "id": "c98a2537-7f9f-48f0-856c-f63351f2c512",
   "metadata": {},
   "source": [
    "Abstract methods and classes are key to achieving polymorphism in Python. They allow you to define a common interface for a group of subclasses, ensuring that each subclass implements specific methods defined by the abstract base class.\n",
    "\n",
    "Abstract Classes and Methods  \n",
    "\n",
    "Abstract Base Class (ABC): An abstract base class is a class that cannot be instantiated on its own and is designed to be subclassed. It can define abstract methods that must be implemented by any subclass. This enforces a contract for subclasses, ensuring they provide their own implementations of the abstract methods.\n",
    "\n",
    "Abstract Methods: An abstract method is a method declared in an abstract class that does not have an implementation. Subclasses must override these methods with their own implementations."
   ]
  },
  {
   "cell_type": "markdown",
   "id": "eb3d5645-c64e-4377-850a-9271c8031917",
   "metadata": {},
   "source": [
    "Python's abc (Abstract Base Class) module provides the infrastructure for defining abstract base classes. You use the ABC class and the @abstractmethod decorator to create abstract methods."
   ]
  },
  {
   "cell_type": "code",
   "execution_count": 70,
   "id": "79409584-37c2-444f-ab9e-fad9457dae13",
   "metadata": {},
   "outputs": [
    {
     "name": "stdout",
     "output_type": "stream",
     "text": [
      "Woof!\n",
      "Meow!\n",
      "Chirp!\n"
     ]
    }
   ],
   "source": [
    "from abc import ABC, abstractmethod\n",
    "\n",
    "# Define the abstract base class\n",
    "class Animal(ABC):\n",
    "    \n",
    "    @abstractmethod\n",
    "    def speak(self):\n",
    "        \"\"\"Method that must be implemented by any subclass\"\"\"\n",
    "        pass\n",
    "\n",
    "# Define the Dog class inheriting from Animal\n",
    "class Dog(Animal):\n",
    "    \n",
    "    def speak(self):\n",
    "        return \"Woof!\"\n",
    "\n",
    "# Define the Cat class inheriting from Animal\n",
    "class Cat(Animal):\n",
    "    \n",
    "    def speak(self):\n",
    "        return \"Meow!\"\n",
    "\n",
    "# Define the Bird class inheriting from Animal\n",
    "class Bird(Animal):\n",
    "    \n",
    "    def speak(self):\n",
    "        return \"Chirp!\"\n",
    "\n",
    "# Demonstrating polymorphism\n",
    "def make_animal_speak(animal):\n",
    "    print(animal.speak())\n",
    "\n",
    "# Create instances of each subclass\n",
    "dog = Dog()\n",
    "cat = Cat()\n",
    "bird = Bird()\n",
    "\n",
    "# Call the speak() method on each instance\n",
    "make_animal_speak(dog)  # Output: Woof!\n",
    "make_animal_speak(cat)  # Output: Meow!\n",
    "make_animal_speak(bird) # Output: Chirp!\n"
   ]
  },
  {
   "cell_type": "markdown",
   "id": "d90637f2-ee7d-45fd-a082-b1e904e7bf7a",
   "metadata": {},
   "source": [
    "### 8. Create a Python class hierarchy for a vehicle system (e.g., car, bicycle, boat) and implement a polymorphic `start()` method that prints a message specific to each vehicle type."
   ]
  },
  {
   "cell_type": "code",
   "execution_count": 71,
   "id": "e377165b-ca79-4292-82fb-8746c23c86bc",
   "metadata": {},
   "outputs": [
    {
     "name": "stdout",
     "output_type": "stream",
     "text": [
      "The car's engine roars to life!\n",
      "You start pedaling the bicycle.\n",
      "The boat's engine starts with a rumble!\n"
     ]
    }
   ],
   "source": [
    "from abc import ABC, abstractmethod\n",
    "\n",
    "# Define the abstract base class\n",
    "class Vehicle(ABC):\n",
    "    \n",
    "    @abstractmethod\n",
    "    def start(self):\n",
    "        \"\"\"Method that must be implemented by any subclass\"\"\"\n",
    "        pass\n",
    "\n",
    "# Define the Car class inheriting from Vehicle\n",
    "class Car(Vehicle):\n",
    "    \n",
    "    def start(self):\n",
    "        print(\"The car's engine roars to life!\")\n",
    "\n",
    "# Define the Bicycle class inheriting from Vehicle\n",
    "class Bicycle(Vehicle):\n",
    "    \n",
    "    def start(self):\n",
    "        print(\"You start pedaling the bicycle.\")\n",
    "\n",
    "# Define the Boat class inheriting from Vehicle\n",
    "class Boat(Vehicle):\n",
    "    \n",
    "    def start(self):\n",
    "        print(\"The boat's engine starts with a rumble!\")\n",
    "\n",
    "# Demonstrating polymorphism\n",
    "def start_vehicle(vehicle):\n",
    "    vehicle.start()\n",
    "\n",
    "# Create instances of each subclass\n",
    "car = Car()\n",
    "bicycle = Bicycle()\n",
    "boat = Boat()\n",
    "\n",
    "# Call the start() method on each instance\n",
    "start_vehicle(car)      # Output: The car's engine roars to life!\n",
    "start_vehicle(bicycle) # Output: You start pedaling the bicycle.\n",
    "start_vehicle(boat)    # Output: The boat's engine starts with a rumble!\n"
   ]
  },
  {
   "cell_type": "markdown",
   "id": "070ba391-3672-4d4d-bfc7-d64b2ec9a65e",
   "metadata": {},
   "source": [
    "### 9. Explain the significance of the `isinstance()` and `issubclass()` functions in Python polymorphism."
   ]
  },
  {
   "cell_type": "markdown",
   "id": "64836745-e963-4208-90e9-d39caae06537",
   "metadata": {},
   "source": [
    "The isinstance() and issubclass() functions in Python are important for working with polymorphism because they help determine the relationship between objects and classes. These functions are often used to check type relationships and ensure that objects adhere to expected interfaces or class hierarchies."
   ]
  },
  {
   "cell_type": "markdown",
   "id": "16fd5151-f5f8-481a-b958-f6fb832489aa",
   "metadata": {},
   "source": [
    "isinstance()\n",
    "Purpose: Checks if an object is an instance of a specific class or a subclass thereof."
   ]
  },
  {
   "cell_type": "code",
   "execution_count": 72,
   "id": "bc222883-f2a8-47dc-a021-7eee363e7da0",
   "metadata": {},
   "outputs": [
    {
     "name": "stdout",
     "output_type": "stream",
     "text": [
      "True\n",
      "True\n",
      "True\n",
      "False\n"
     ]
    }
   ],
   "source": [
    "class Animal:\n",
    "    pass\n",
    "\n",
    "class Dog(Animal):\n",
    "    pass\n",
    "\n",
    "d = Dog()\n",
    "\n",
    "print(isinstance(d, Dog))    # Output: True\n",
    "print(isinstance(d, Animal)) # Output: True\n",
    "print(isinstance(d, object)) # Output: True\n",
    "print(isinstance(d, str))    # Output: False\n"
   ]
  },
  {
   "cell_type": "markdown",
   "id": "e372bd22-0444-4e3f-8033-b05131105dc0",
   "metadata": {},
   "source": [
    "issubclass()\n",
    "Purpose: Checks if a class is a subclass of another class or a tuple of classes."
   ]
  },
  {
   "cell_type": "code",
   "execution_count": 73,
   "id": "7d18193b-8960-4270-b439-89fe61009f02",
   "metadata": {},
   "outputs": [
    {
     "name": "stdout",
     "output_type": "stream",
     "text": [
      "True\n",
      "True\n",
      "False\n",
      "True\n"
     ]
    }
   ],
   "source": [
    "class Animal:\n",
    "    pass\n",
    "\n",
    "class Dog(Animal):\n",
    "    pass\n",
    "\n",
    "print(issubclass(Dog, Animal))    # Output: True\n",
    "print(issubclass(Dog, object))    # Output: True\n",
    "print(issubclass(Animal, Dog))    # Output: False\n",
    "print(issubclass(Dog, (Animal, object))) # Output: True\n"
   ]
  },
  {
   "cell_type": "markdown",
   "id": "dff092e6-9829-4c8e-bafa-e244d69d631e",
   "metadata": {},
   "source": [
    "### 10. What is the role of the `@abstractmethod` decorator in achieving polymorphism in Python? Provide an example."
   ]
  },
  {
   "cell_type": "markdown",
   "id": "8d8eaead-a203-49a8-bc14-1359498d7968",
   "metadata": {},
   "source": [
    "Role of @abstractmethod Decorator\n",
    "\n",
    "Defining an Interface: By marking a method with @abstractmethod, you specify that the method must be implemented by any concrete subclass of the abstract base class. This enforces a common interface across all subclasses, ensuring they adhere to a specific contract.\n",
    "\n",
    "Preventing Instantiation: An abstract base class that contains one or more abstract methods cannot be instantiated directly. This ensures that only subclasses that implement the abstract methods can be instantiated, providing a clear structure and enforcing the implementation of the required methods.\n",
    "\n",
    "Facilitating Polymorphism: By defining abstract methods, you enable polymorphism, allowing different subclasses to provide their own specific implementations of the same method. This makes it possible to write code that works with any subclass of the abstract base class, relying on the shared interface."
   ]
  },
  {
   "cell_type": "code",
   "execution_count": 74,
   "id": "ed039c26-694c-4fab-b98d-3d6e51a8c1ac",
   "metadata": {},
   "outputs": [
    {
     "name": "stdout",
     "output_type": "stream",
     "text": [
      "The car's engine roars to life!\n",
      "The car comes to a halt.\n",
      "You start pedaling the bicycle.\n",
      "You apply the brakes on the bicycle.\n",
      "The boat's engine starts with a rumble!\n",
      "The boat slows down and stops.\n"
     ]
    }
   ],
   "source": [
    "from abc import ABC, abstractmethod\n",
    "\n",
    "# Define the abstract base class\n",
    "class Vehicle(ABC):\n",
    "    \n",
    "    @abstractmethod\n",
    "    def start(self):\n",
    "        \"\"\"Method that must be implemented by any subclass\"\"\"\n",
    "        pass\n",
    "\n",
    "    @abstractmethod\n",
    "    def stop(self):\n",
    "        \"\"\"Another abstract method\"\"\"\n",
    "        pass\n",
    "\n",
    "# Define the Car class inheriting from Vehicle\n",
    "class Car(Vehicle):\n",
    "    \n",
    "    def start(self):\n",
    "        print(\"The car's engine roars to life!\")\n",
    "    \n",
    "    def stop(self):\n",
    "        print(\"The car comes to a halt.\")\n",
    "\n",
    "# Define the Bicycle class inheriting from Vehicle\n",
    "class Bicycle(Vehicle):\n",
    "    \n",
    "    def start(self):\n",
    "        print(\"You start pedaling the bicycle.\")\n",
    "    \n",
    "    def stop(self):\n",
    "        print(\"You apply the brakes on the bicycle.\")\n",
    "\n",
    "# Define the Boat class inheriting from Vehicle\n",
    "class Boat(Vehicle):\n",
    "    \n",
    "    def start(self):\n",
    "        print(\"The boat's engine starts with a rumble!\")\n",
    "    \n",
    "    def stop(self):\n",
    "        print(\"The boat slows down and stops.\")\n",
    "\n",
    "# Demonstrating polymorphism\n",
    "def operate_vehicle(vehicle):\n",
    "    vehicle.start()\n",
    "    vehicle.stop()\n",
    "\n",
    "# Create instances of each subclass\n",
    "car = Car()\n",
    "bicycle = Bicycle()\n",
    "boat = Boat()\n",
    "\n",
    "# Call start() and stop() methods on each instance\n",
    "operate_vehicle(car)\n",
    "operate_vehicle(bicycle)\n",
    "operate_vehicle(boat)\n"
   ]
  },
  {
   "cell_type": "markdown",
   "id": "afcf1950-d0e4-4a00-99b8-3e4369ac5055",
   "metadata": {},
   "source": [
    "### 11. Create a Python class called `Shape` with a polymorphic method `area()` that calculates the area of different shapes (e.g., circle, rectangle, triangle)."
   ]
  },
  {
   "cell_type": "code",
   "execution_count": 75,
   "id": "82349c63-de6b-4458-aa3c-d45314bcc69a",
   "metadata": {},
   "outputs": [
    {
     "name": "stdout",
     "output_type": "stream",
     "text": [
      "The area is: 78.53981633974483\n",
      "The area is: 24\n",
      "The area is: 10.5\n"
     ]
    }
   ],
   "source": [
    "import math\n",
    "\n",
    "class Shape:\n",
    "    def area(self):\n",
    "        raise NotImplementedError(\"Subclasses must implement this method\")\n",
    "\n",
    "class Circle(Shape):\n",
    "    def __init__(self, radius):\n",
    "        self.radius = radius\n",
    "\n",
    "    def area(self):\n",
    "        return math.pi * (self.radius ** 2)\n",
    "\n",
    "class Rectangle(Shape):\n",
    "    def __init__(self, width, height):\n",
    "        self.width = width\n",
    "        self.height = height\n",
    "\n",
    "    def area(self):\n",
    "        return self.width * self.height\n",
    "\n",
    "class Triangle(Shape):\n",
    "    def __init__(self, base, height):\n",
    "        self.base = base\n",
    "        self.height = height\n",
    "\n",
    "    def area(self):\n",
    "        return 0.5 * self.base * self.height\n",
    "\n",
    "# Example usage\n",
    "shapes = [\n",
    "    Circle(5),\n",
    "    Rectangle(4, 6),\n",
    "    Triangle(3, 7)\n",
    "]\n",
    "\n",
    "for shape in shapes:\n",
    "    print(f\"The area is: {shape.area()}\")\n"
   ]
  },
  {
   "cell_type": "markdown",
   "id": "0df499ca-16ba-44d3-9602-d8c8f6f7c450",
   "metadata": {},
   "source": [
    "### 12. Discuss the benefits of polymorphism in terms of code reusability and flexibility in Python programs."
   ]
  },
  {
   "cell_type": "markdown",
   "id": "e039c25a-e9be-40e7-9bc2-aa8d522c6b51",
   "metadata": {},
   "source": [
    "Polymorphism in Python provides several benefits related to code reusability and flexibility:\n",
    "\n",
    "1. Code Reusability\n",
    "2. Common Interface: Polymorphism allows different classes to be used interchangeably through a common interface or base class. This means that the same function or method can work with objects of different types, reducing the need for duplicate code.\n",
    "3. Reduced Duplication: By implementing a common interface (like the area() method in the Shape example), you avoid duplicating code for operations that are conceptually similar but applied to different types of objects.\n",
    "\n",
    "4. Flexibility and Extensibility\n",
    "Easier to Extend: New shapes or functionalities can be added without modifying existing code. For instance, if you add a new shape class (e.g., Hexagon), you only need to implement the area() method in that new class. Existing code that uses Shape can work with Hexagon seamlessly.\n",
    "Dynamic Method Resolution: Python resolves method calls at runtime, allowing objects of different types to be used interchangeably. This makes it easier to write flexible and generic code that can handle new types of objects without knowing their exact classes beforehand.\n",
    "\n",
    "5. Simplified Code Maintenance\n",
    "Centralized Changes: Changes to a common method or interface only need to be made in one place (i.e., in the base class). This makes maintaining and updating code easier, as you don’t need to update multiple classes individually.\n",
    "Clearer Code Structure: Polymorphism helps in organizing code by defining clear interfaces and expectations for different types. This can make code more understandable and easier to maintain.\n",
    "\n",
    "6. Enhanced Readability and Maintainability\n",
    "Consistent Method Names: Using polymorphism ensures that the same method name (e.g., area()) is used across different classes, making it easier for developers to understand and work with the code.\n",
    "Abstracting Complexity: By interacting with objects through a common interface, you abstract away the complexity of the underlying implementations. This leads to code that is easier to understand and manage."
   ]
  },
  {
   "cell_type": "markdown",
   "id": "380b92e7-f066-49fc-b912-fe07de1437c4",
   "metadata": {},
   "source": [
    "### 14. Create a Python class hierarchy for a banking system with various account types (e.g., savings, checking, credit card) and demonstrate polymorphism by implementing a common `withdraw()` method."
   ]
  },
  {
   "cell_type": "code",
   "execution_count": 76,
   "id": "f31d355d-a5bd-418b-8d5a-c2dd41b64b03",
   "metadata": {},
   "outputs": [
    {
     "name": "stdout",
     "output_type": "stream",
     "text": [
      "Account Number: SAV123, Balance: $1000.00\n",
      "Withdrawn $300.00 from Savings Account. New balance: $700.00\n",
      "Account Number: SAV123, Balance: $700.00\n",
      "\n",
      "Account Number: CHK123, Balance: $500.00\n",
      "Withdrawn $300.00 from Checking Account. New balance: $200.00\n",
      "Account Number: CHK123, Balance: $200.00\n",
      "\n",
      "Account Number: CC123, Balance: $-1000.00\n",
      "Charged $300.00 to Credit Card. New balance: $-1300.00\n",
      "Account Number: CC123, Balance: $-1300.00\n",
      "\n"
     ]
    }
   ],
   "source": [
    "class Account:\n",
    "    def __init__(self, account_number, balance):\n",
    "        self.account_number = account_number\n",
    "        self.balance = balance\n",
    "\n",
    "    def withdraw(self, amount):\n",
    "        raise NotImplementedError(\"Subclasses must implement this method\")\n",
    "\n",
    "    def __str__(self):\n",
    "        return f\"Account Number: {self.account_number}, Balance: ${self.balance:.2f}\"\n",
    "\n",
    "class SavingsAccount(Account):\n",
    "    def withdraw(self, amount):\n",
    "        if amount > self.balance:\n",
    "            print(\"Insufficient funds\")\n",
    "        else:\n",
    "            self.balance -= amount\n",
    "            print(f\"Withdrawn ${amount:.2f} from Savings Account. New balance: ${self.balance:.2f}\")\n",
    "\n",
    "class CheckingAccount(Account):\n",
    "    def withdraw(self, amount):\n",
    "        if amount > self.balance:\n",
    "            print(\"Overdraft! Checking accounts cannot go into overdraft.\")\n",
    "        else:\n",
    "            self.balance -= amount\n",
    "            print(f\"Withdrawn ${amount:.2f} from Checking Account. New balance: ${self.balance:.2f}\")\n",
    "\n",
    "class CreditCardAccount(Account):\n",
    "    def withdraw(self, amount):\n",
    "        # Credit cards can withdraw even if balance is low (credit limit assumed)\n",
    "        self.balance -= amount\n",
    "        print(f\"Charged ${amount:.2f} to Credit Card. New balance: ${self.balance:.2f}\")\n",
    "\n",
    "# Example usage\n",
    "accounts = [\n",
    "    SavingsAccount(\"SAV123\", 1000),\n",
    "    CheckingAccount(\"CHK123\", 500),\n",
    "    CreditCardAccount(\"CC123\", -1000)  # Credit card balance can be negative\n",
    "]\n",
    "\n",
    "for account in accounts:\n",
    "    print(account)\n",
    "    account.withdraw(300)\n",
    "    print(account)\n",
    "    print()\n"
   ]
  },
  {
   "cell_type": "markdown",
   "id": "8b5065fa-a920-459f-a7ed-4b019338560b",
   "metadata": {},
   "source": [
    "### 15. Describe the concept of operator overloading in Python and how it relates to polymorphism. Provide examples using operators like `+` and `*`."
   ]
  },
  {
   "cell_type": "markdown",
   "id": "17a4eaa4-edc5-417f-b010-668dbad1f2fc",
   "metadata": {},
   "source": [
    "Operator overloading is a feature in Python that allows you to define or change the behavior of operators for user-defined classes. This means you can specify what should happen when you use operators like +, -, *, etc., on objects of your classes. Operator overloading makes it possible to perform operations on custom objects in an intuitive way, similar to how you would with built-in types."
   ]
  },
  {
   "cell_type": "markdown",
   "id": "dec593d5-a96d-49de-ac65-d268b6747812",
   "metadata": {},
   "source": [
    "Relation to Polymorphism\n",
    "Operator overloading is a specific form of polymorphism where the same operation can behave differently on different types of objects. In the context of polymorphism, operator overloading allows objects of different classes to respond to the same operator in ways that are appropriate to the objects."
   ]
  },
  {
   "cell_type": "code",
   "execution_count": 77,
   "id": "ca7aa362-a0af-4696-9930-f353ecbb350d",
   "metadata": {},
   "outputs": [
    {
     "name": "stdout",
     "output_type": "stream",
     "text": [
      "Vector(6, 8)\n"
     ]
    }
   ],
   "source": [
    "class Vector:\n",
    "    def __init__(self, x, y):\n",
    "        self.x = x\n",
    "        self.y = y\n",
    "\n",
    "    def __add__(self, other):\n",
    "        return Vector(self.x + other.x, self.y + other.y)\n",
    "\n",
    "    def __str__(self):\n",
    "        return f\"Vector({self.x}, {self.y})\"\n",
    "\n",
    "# Example usage\n",
    "v1 = Vector(2, 3)\n",
    "v2 = Vector(4, 5)\n",
    "v3 = v1 + v2  # Uses the __add__ method\n",
    "print(v3)     # Output: Vector(6, 8)\n"
   ]
  },
  {
   "cell_type": "code",
   "execution_count": 78,
   "id": "307fdbea-e00a-4cb8-a581-dd9ed1ef31a7",
   "metadata": {},
   "outputs": [
    {
     "name": "stdout",
     "output_type": "stream",
     "text": [
      "Vector(6, 9)\n"
     ]
    }
   ],
   "source": [
    "class Vector:\n",
    "    def __init__(self, x, y):\n",
    "        self.x = x\n",
    "        self.y = y\n",
    "\n",
    "    def __add__(self, other):\n",
    "        return Vector(self.x + other.x, self.y + other.y)\n",
    "\n",
    "    def __mul__(self, scalar):\n",
    "        return Vector(self.x * scalar, self.y * scalar)\n",
    "\n",
    "    def __str__(self):\n",
    "        return f\"Vector({self.x}, {self.y})\"\n",
    "\n",
    "# Example usage\n",
    "v1 = Vector(2, 3)\n",
    "v2 = v1 * 3  # Uses the __mul__ method\n",
    "print(v2)    # Output: Vector(6, 9)\n"
   ]
  },
  {
   "cell_type": "markdown",
   "id": "1e4fa253-196b-4656-8069-15b121250a91",
   "metadata": {},
   "source": [
    "### 16. What is dynamic polymorphism, and how is it achieved in Python?"
   ]
  },
  {
   "cell_type": "markdown",
   "id": "32293ff1-a040-4fbe-ad9a-8c7be0a0f298",
   "metadata": {},
   "source": [
    "Dynamic polymorphism, also known as runtime polymorphism, is a concept where the method to be invoked is determined at runtime based on the object's type. This allows for flexibility and reusability in code, as different classes can define their own unique behaviors while sharing the same interface."
   ]
  },
  {
   "cell_type": "markdown",
   "id": "d3a29181-8536-457e-8fcb-d839c81d0088",
   "metadata": {},
   "source": [
    "Key Concepts\n",
    "\n",
    "Inheritance: A subclass inherits methods and properties from its superclass.\n",
    "\n",
    "Method Overriding: A subclass provides a specific implementation of a method that is already defined in the superclass.\n",
    "    \n",
    "Dynamic Method Resolution: At runtime, Python determines the appropriate method to invoke based on the actual object type."
   ]
  },
  {
   "cell_type": "code",
   "execution_count": 79,
   "id": "e577d962-e3eb-466c-91b3-79be812c0349",
   "metadata": {},
   "outputs": [
    {
     "name": "stdout",
     "output_type": "stream",
     "text": [
      "Woof!\n",
      "Meow!\n"
     ]
    }
   ],
   "source": [
    "class Animal:\n",
    "    def speak(self):\n",
    "        raise NotImplementedError(\"Subclass must implement abstract method\")\n",
    "\n",
    "class Dog(Animal):\n",
    "    def speak(self):\n",
    "        return \"Woof!\"\n",
    "\n",
    "class Cat(Animal):\n",
    "    def speak(self):\n",
    "        return \"Meow!\"\n",
    "\n",
    "# Example usage\n",
    "animals = [Dog(), Cat()]\n",
    "\n",
    "for animal in animals:\n",
    "    print(animal.speak())\n"
   ]
  },
  {
   "cell_type": "markdown",
   "id": "d2d01475-1ccb-4737-89eb-36ca85b3b389",
   "metadata": {},
   "source": [
    "### 17. Create a Python class hierarchy for employees in a company (e.g., manager, developer, designer) and implement polymorphism through a common `calculate_salary()` method."
   ]
  },
  {
   "cell_type": "code",
   "execution_count": 80,
   "id": "641138da-4dec-4142-b16b-0af84f50ff96",
   "metadata": {},
   "outputs": [
    {
     "name": "stdout",
     "output_type": "stream",
     "text": [
      "Manager Alice: $80000.00\n",
      "Developer Bob: $62500.00\n",
      "Designer Charlie: $60000.00\n"
     ]
    }
   ],
   "source": [
    "class Employee:\n",
    "    def __init__(self, name, base_salary):\n",
    "        self.name = name\n",
    "        self.base_salary = base_salary\n",
    "\n",
    "    def calculate_salary(self):\n",
    "        raise NotImplementedError(\"Subclasses must implement this method\")\n",
    "\n",
    "    def __str__(self):\n",
    "        return f\"{self.__class__.__name__} {self.name}: ${self.calculate_salary():.2f}\"\n",
    "\n",
    "class Manager(Employee):\n",
    "    def __init__(self, name, base_salary, bonus):\n",
    "        super().__init__(name, base_salary)\n",
    "        self.bonus = bonus\n",
    "\n",
    "    def calculate_salary(self):\n",
    "        return self.base_salary + self.bonus\n",
    "\n",
    "class Developer(Employee):\n",
    "    def __init__(self, name, base_salary, overtime_hours, overtime_rate):\n",
    "        super().__init__(name, base_salary)\n",
    "        self.overtime_hours = overtime_hours\n",
    "        self.overtime_rate = overtime_rate\n",
    "\n",
    "    def calculate_salary(self):\n",
    "        return self.base_salary + (self.overtime_hours * self.overtime_rate)\n",
    "\n",
    "class Designer(Employee):\n",
    "    def __init__(self, name, base_salary, project_bonus):\n",
    "        super().__init__(name, base_salary)\n",
    "        self.project_bonus = project_bonus\n",
    "\n",
    "    def calculate_salary(self):\n",
    "        return self.base_salary + self.project_bonus\n",
    "\n",
    "# Example usage\n",
    "employees = [\n",
    "    Manager(\"Alice\", 70000, 10000),\n",
    "    Developer(\"Bob\", 60000, 50, 50),\n",
    "    Designer(\"Charlie\", 55000, 5000)\n",
    "]\n",
    "\n",
    "for employee in employees:\n",
    "    print(employee)\n"
   ]
  },
  {
   "cell_type": "markdown",
   "id": "4969220a-26e0-4621-b795-538595aa3f75",
   "metadata": {},
   "source": [
    "### 18. Discuss the concept of function pointers and how they can be used to achieve polymorphism in Python."
   ]
  },
  {
   "cell_type": "markdown",
   "id": "89b2f66b-18dd-4216-b0bb-580b4be722ff",
   "metadata": {},
   "source": [
    "Using Function Pointers for Polymorphism\n",
    "In Python, function pointers can be used to achieve polymorphism by dynamically assigning and calling different functions at runtime based on the context. This can be particularly useful in scenarios where different behaviors are required but using class inheritance and method overriding might be overkill or less practical."
   ]
  },
  {
   "cell_type": "code",
   "execution_count": 81,
   "id": "5a135fb8-eaf3-440a-a12d-6d8c303bd306",
   "metadata": {},
   "outputs": [
    {
     "name": "stdout",
     "output_type": "stream",
     "text": [
      "15\n",
      "5\n",
      "50\n",
      "2.0\n",
      "Cannot divide by zero\n",
      "Invalid operation\n"
     ]
    }
   ],
   "source": [
    "# Define the operations as standalone functions\n",
    "def add(x, y):\n",
    "    return x + y\n",
    "\n",
    "def subtract(x, y):\n",
    "    return x - y\n",
    "\n",
    "def multiply(x, y):\n",
    "    return x * y\n",
    "\n",
    "def divide(x, y):\n",
    "    if y == 0:\n",
    "        return \"Cannot divide by zero\"\n",
    "    return x / y\n",
    "\n",
    "# Dictionary to store function pointers\n",
    "operations = {\n",
    "    \"add\": add,\n",
    "    \"subtract\": subtract,\n",
    "    \"multiply\": multiply,\n",
    "    \"divide\": divide\n",
    "}\n",
    "\n",
    "# Function to execute the operation\n",
    "def execute_operation(operation_name, x, y):\n",
    "    operation = operations.get(operation_name)\n",
    "    if operation:\n",
    "        return operation(x, y)\n",
    "    else:\n",
    "        return \"Invalid operation\"\n",
    "\n",
    "# Example usage\n",
    "print(execute_operation(\"add\", 10, 5))       # Output: 15\n",
    "print(execute_operation(\"subtract\", 10, 5))  # Output: 5\n",
    "print(execute_operation(\"multiply\", 10, 5))  # Output: 50\n",
    "print(execute_operation(\"divide\", 10, 5))    # Output: 2.0\n",
    "print(execute_operation(\"divide\", 10, 0))    # Output: Cannot divide by zero\n",
    "print(execute_operation(\"modulus\", 10, 5))   # Output: Invalid operation\n"
   ]
  },
  {
   "cell_type": "markdown",
   "id": "c95f8a75-ff50-4ca4-a239-29dc09453cf9",
   "metadata": {},
   "source": [
    "### 19. Explain the role of interfaces and abstract classes in polymorphism, drawing comparisons between them."
   ]
  },
  {
   "cell_type": "markdown",
   "id": "7d5ff8b9-5701-420b-8a50-f7e95272b527",
   "metadata": {},
   "source": [
    "Abstract Classes\n",
    "Definition: An abstract class is a class that cannot be instantiated on its own and serves as a blueprint for other classes. It can contain abstract methods (methods without implementation) as well as concrete methods (methods with implementation).\n",
    "\n",
    "Purpose:\n",
    "\n",
    "Provide a common interface: Abstract classes ensure that derived classes implement specific methods, guaranteeing a consistent interface.\n",
    "Share code: Abstract classes can include concrete methods and properties that can be shared among derived classes, promoting code reuse."
   ]
  },
  {
   "cell_type": "code",
   "execution_count": 82,
   "id": "bf6c4751-918c-46f3-887d-0e0866f76d46",
   "metadata": {},
   "outputs": [
    {
     "name": "stdout",
     "output_type": "stream",
     "text": [
      "Woof!\n",
      "Moving...\n",
      "Meow!\n",
      "Moving...\n"
     ]
    }
   ],
   "source": [
    "from abc import ABC, abstractmethod\n",
    "\n",
    "class Animal(ABC):\n",
    "    @abstractmethod\n",
    "    def speak(self):\n",
    "        pass\n",
    "\n",
    "    def move(self):\n",
    "        print(\"Moving...\")\n",
    "\n",
    "class Dog(Animal):\n",
    "    def speak(self):\n",
    "        return \"Woof!\"\n",
    "\n",
    "class Cat(Animal):\n",
    "    def speak(self):\n",
    "        return \"Meow!\"\n",
    "\n",
    "# Example usage\n",
    "animals = [Dog(), Cat()]\n",
    "\n",
    "for animal in animals:\n",
    "    print(animal.speak())  # Polymorphism in action\n",
    "    animal.move()\n"
   ]
  },
  {
   "cell_type": "markdown",
   "id": "cb1b8af7-d63f-48b1-ad41-86383c988092",
   "metadata": {},
   "source": [
    "### 20. Create a Python class for a zoo simulation, demonstrating polymorphism with different animal types (e.g., mammals, birds, reptiles) and their behavior (e.g., eating, sleeping, making sounds)."
   ]
  },
  {
   "cell_type": "code",
   "execution_count": 83,
   "id": "09a21981-6d48-4de2-861e-d44afd46b4db",
   "metadata": {},
   "outputs": [
    {
     "name": "stdout",
     "output_type": "stream",
     "text": [
      "Mammal Info:\n",
      "The mammal is eating grass.\n",
      "The mammal is sleeping in a den.\n",
      "The mammal makes a growling sound.\n",
      "\n",
      "Bird Info:\n",
      "The bird is pecking at seeds.\n",
      "The bird is sleeping in a nest.\n",
      "The bird is chirping.\n",
      "\n",
      "Reptile Info:\n",
      "The reptile is swallowing insects.\n",
      "The reptile is sleeping under a rock.\n",
      "The reptile is hissing.\n",
      "\n"
     ]
    }
   ],
   "source": [
    "from abc import ABC, abstractmethod\n",
    "\n",
    "class Animal(ABC):\n",
    "    @abstractmethod\n",
    "    def eat(self):\n",
    "        pass\n",
    "\n",
    "    @abstractmethod\n",
    "    def sleep(self):\n",
    "        pass\n",
    "\n",
    "    @abstractmethod\n",
    "    def make_sound(self):\n",
    "        pass\n",
    "\n",
    "    def display_info(self):\n",
    "        print(f\"{self.__class__.__name__} Info:\")\n",
    "        self.eat()\n",
    "        self.sleep()\n",
    "        self.make_sound()\n",
    "        print()\n",
    "class Mammal(Animal):\n",
    "    def eat(self):\n",
    "        print(\"The mammal is eating grass.\")\n",
    "\n",
    "    def sleep(self):\n",
    "        print(\"The mammal is sleeping in a den.\")\n",
    "\n",
    "    def make_sound(self):\n",
    "        print(\"The mammal makes a growling sound.\")\n",
    "\n",
    "class Bird(Animal):\n",
    "    def eat(self):\n",
    "        print(\"The bird is pecking at seeds.\")\n",
    "\n",
    "    def sleep(self):\n",
    "        print(\"The bird is sleeping in a nest.\")\n",
    "\n",
    "    def make_sound(self):\n",
    "        print(\"The bird is chirping.\")\n",
    "\n",
    "class Reptile(Animal):\n",
    "    def eat(self):\n",
    "        print(\"The reptile is swallowing insects.\")\n",
    "\n",
    "    def sleep(self):\n",
    "        print(\"The reptile is sleeping under a rock.\")\n",
    "\n",
    "    def make_sound(self):\n",
    "        print(\"The reptile is hissing.\")\n",
    "\n",
    "class Zoo:\n",
    "    def __init__(self):\n",
    "        self.animals = []\n",
    "\n",
    "    def add_animal(self, animal):\n",
    "        self.animals.append(animal)\n",
    "\n",
    "    def show_all_animals(self):\n",
    "        for animal in self.animals:\n",
    "            animal.display_info()\n",
    "\n",
    "# Example usage\n",
    "zoo = Zoo()\n",
    "\n",
    "# Adding different animals to the zoo\n",
    "zoo.add_animal(Mammal())\n",
    "zoo.add_animal(Bird())\n",
    "zoo.add_animal(Reptile())\n",
    "\n",
    "# Displaying all animals' behavior\n",
    "zoo.show_all_animals()\n"
   ]
  },
  {
   "cell_type": "markdown",
   "id": "f8ad0235-a7e9-4196-8727-55fd675aae5d",
   "metadata": {},
   "source": [
    "## Composition:"
   ]
  },
  {
   "cell_type": "markdown",
   "id": "7e7fd8f0-da17-4fb9-aacd-ea86f7325cc1",
   "metadata": {},
   "source": [
    "### 1. Explain the concept of composition in Python and how it is used to build complex objects from simpler ones"
   ]
  },
  {
   "cell_type": "markdown",
   "id": "3345589c-a589-49c8-90f9-3e282ac8b037",
   "metadata": {},
   "source": [
    "Composition is a design principle in object-oriented programming where a class is composed of one or more objects from other classes. It allows for building complex objects by combining simpler, reusable objects. This approach promotes code reuse, modularity, and maintainability.\n",
    "\n",
    "Concept\n",
    "Has-a Relationship: Composition represents a \"has-a\" relationship, where one class contains instances of other classes as attributes. This is in contrast to inheritance, which represents an \"is-a\" relationship.\n",
    "Reuse and Flexibility: By composing objects, you can reuse existing code and create flexible, modular systems. You can change the behavior of a class by changing its components without altering the class itself."
   ]
  },
  {
   "cell_type": "code",
   "execution_count": 86,
   "id": "0f3ab55a-ea9f-4729-b41b-a1c3aa10db97",
   "metadata": {},
   "outputs": [
    {
     "name": "stdout",
     "output_type": "stream",
     "text": [
      "Engine started with horsepower: 300\n",
      "Wheel of size 18 is rotating\n",
      "Wheel of size 18 is rotating\n",
      "Wheel of size 18 is rotating\n",
      "Wheel of size 18 is rotating\n",
      "Car body painted blue\n",
      "Engine stopped\n"
     ]
    }
   ],
   "source": [
    "class Engine:\n",
    "    def __init__(self, horsepower):\n",
    "        self.horsepower = horsepower\n",
    "\n",
    "    def start(self):\n",
    "        print(\"Engine started with horsepower:\", self.horsepower)\n",
    "\n",
    "    def stop(self):\n",
    "        print(\"Engine stopped\")\n",
    "\n",
    "class Wheel:\n",
    "    def __init__(self, size):\n",
    "        self.size = size\n",
    "\n",
    "    def rotate(self):\n",
    "        print(\"Wheel of size\", self.size, \"is rotating\")\n",
    "\n",
    "class Body:\n",
    "    def __init__(self, color):\n",
    "        self.color = color\n",
    "\n",
    "    def paint(self, new_color):\n",
    "        self.color = new_color\n",
    "        print(\"Car body painted\", self.color)\n",
    "\n",
    "class Car:\n",
    "    def __init__(self, engine, wheels, body):\n",
    "        self.engine = engine\n",
    "        self.wheels = wheels  # List of Wheel objects\n",
    "        self.body = body\n",
    "\n",
    "    def start(self):\n",
    "        self.engine.start()\n",
    "        for wheel in self.wheels:\n",
    "            wheel.rotate()\n",
    "\n",
    "    def stop(self):\n",
    "        self.engine.stop()\n",
    "\n",
    "    def paint(self, new_color):\n",
    "        self.body.paint(new_color)\n",
    "\n",
    "# Example usage\n",
    "engine = Engine(300)\n",
    "wheels = [Wheel(18), Wheel(18), Wheel(18), Wheel(18)]\n",
    "body = Body(\"red\")\n",
    "\n",
    "car = Car(engine, wheels, body)\n",
    "\n",
    "car.start()\n",
    "car.paint(\"blue\")\n",
    "car.stop()\n"
   ]
  },
  {
   "cell_type": "markdown",
   "id": "30b0cfb3-9af3-4734-b3c6-9ea445804f65",
   "metadata": {},
   "source": [
    "### 2. Describe the difference between composition and inheritance in object-oriented programming."
   ]
  },
  {
   "cell_type": "markdown",
   "id": "7c59cdd1-94b0-4c3f-a913-14bc77eb6af1",
   "metadata": {},
   "source": [
    "Inheritance\n",
    "Definition: Inheritance is a mechanism where a new class (subclass or derived class) inherits attributes and methods from an existing class (superclass or base class).\n",
    "\n",
    "Characteristics\n",
    "\"Is-a\" Relationship: Inheritance represents an \"is-a\" relationship. For example, a Dog is a Animal.\n",
    "Hierarchical: It creates a hierarchical relationship between classes.\n",
    "Code Reuse: Subclasses inherit methods and attributes from their superclass, promoting code reuse.\n",
    "Overriding: Subclasses can override methods of the superclass to provide specific behavior.\n",
    "Polymorphism: Enables polymorphism, where a subclass can be treated as an instance of its superclass."
   ]
  },
  {
   "cell_type": "markdown",
   "id": "1357d0ac-54ca-40d3-9b42-68fc5ed7c790",
   "metadata": {},
   "source": [
    "Composition\n",
    "Definition: Composition is a design principle where a class is composed of one or more objects from other classes. It is used to build complex objects by combining simpler ones.\n",
    "\n",
    "Characteristics\n",
    "\"Has-a\" Relationship: Composition represents a \"has-a\" relationship. For example, a Car has an Engine.\n",
    "Modular: It builds complex systems from simpler, independent components.\n",
    "Code Reuse: Promotes code reuse by using existing classes as building blocks.\n",
    "Flexibility: Allows changing the behavior of a class by changing its components.\n",
    "Encapsulation: Encapsulates the behavior of components, making the composed class independent of the implementation details of its components."
   ]
  },
  {
   "cell_type": "markdown",
   "id": "485876a6-c3aa-4299-aa67-0a92c5aece35",
   "metadata": {},
   "source": [
    "### 3. Create a Python class called `Author` with attributes for name and birthdate. Then, create a `Book` class that contains an instance of `Author` as a composition. Provide an example of creating a `Book` object.\n",
    "\n",
    "\n"
   ]
  },
  {
   "cell_type": "code",
   "execution_count": 89,
   "id": "c5c09b0e-a0da-45e6-ad1f-3b410228e9f3",
   "metadata": {},
   "outputs": [
    {
     "name": "stdout",
     "output_type": "stream",
     "text": [
      "'1984' by George Orwell (born 25 June 1903), published on 8 June 1949\n"
     ]
    }
   ],
   "source": [
    "class Author:\n",
    "    def __init__(self, name, birthdate):\n",
    "        self.name = name\n",
    "        self.birthdate = birthdate\n",
    "\n",
    "    def __str__(self):\n",
    "        return f\"{self.name} (born {self.birthdate})\"\n",
    "\n",
    "class Book:\n",
    "    def __init__(self, title, publication_date, author):\n",
    "        self.title = title\n",
    "        self.publication_date = publication_date\n",
    "        self.author = author  # Author object\n",
    "\n",
    "    def __str__(self):\n",
    "        return f\"'{self.title}' by {self.author}, published on {self.publication_date}\"\n",
    "\n",
    "\n",
    "# Example usage\n",
    "author = Author(\"George Orwell\", \"25 June 1903\")\n",
    "book = Book(\"1984\", \"8 June 1949\", author)\n",
    "\n",
    "print(book)\n"
   ]
  },
  {
   "cell_type": "markdown",
   "id": "1edb5802-a207-4f79-82dd-b6cfbb172adc",
   "metadata": {},
   "source": [
    "### 4. Discuss the benefits of using composition over inheritance in Python, especially in terms of code flexibility and reusability."
   ]
  },
  {
   "cell_type": "markdown",
   "id": "9affe223-e23f-4fec-8c63-925b251f28d8",
   "metadata": {},
   "source": [
    "Benefits of Using Composition Over Inheritance\n",
    "\n",
    "Composition and inheritance are both powerful techniques in object-oriented programming, but they serve different purposes and offer distinct advantages. Here’s an exploration of the benefits of using composition over inheritance, particularly in terms of code flexibility and reusability:\n",
    "\n",
    "Benefits of Composition\n",
    "\n",
    "Enhanced Flexibility\n",
    "\n",
    "Decoupling: Composition decouples the components of a class. By using composition, you can change or replace components independently without affecting the class that uses them. This flexibility allows you to modify or extend functionality by swapping out components, making it easier to adapt to new requirements or changes.\n",
    "\n",
    "Dynamic Behavior: Composition allows for dynamic changes at runtime. You can change the behavior of a class by changing its composed objects, which is more difficult with inheritance, where behavior changes often require altering the class hierarchy.\n",
    "\n",
    "Improved Reusability\n",
    "\n",
    "Component Reuse: Components (like classes) used in composition can be reused in different contexts. For example, a Car class can use an Engine class, and the Engine class can be reused in other classes such as Truck or Motorbike. This modular approach promotes code reuse and reduces redundancy.\n",
    "\n",
    "Avoiding Redundancy: By composing classes, you can avoid duplicating code that would otherwise be inherited through a deep and complex hierarchy. Instead of creating multiple subclasses with similar behavior, you can compose classes with shared components.\n",
    "\n",
    "Simpler and More Maintainable Code\n",
    "\n",
    "Reduced Complexity: Composition helps to keep class hierarchies flat and manageable. With inheritance, deep and complex hierarchies can become difficult to understand and maintain. Composition promotes a more straightforward design by focusing on what a class “has” rather than what it “is.”\n",
    "\n",
    "Encapsulation: Each component in a composition can have its own encapsulated behavior and state. This encapsulation leads to better-organized code, where components have clear and focused responsibilities.\n",
    "\n",
    "Avoiding the Fragile Base Class Problem\n",
    "\n",
    "Stability: Inheritance can lead to the fragile base class problem, where changes to a base class can inadvertently break derived classes. With composition, since changes are localized to the composed components, it is less likely that modifications will impact other parts of the system.\n",
    "More Flexible Interactions\n",
    "\n",
    "Dynamic Interactions: Composition allows objects to interact in more flexible ways. For instance, different components can be combined in various ways to achieve different behaviors. This flexibility is challenging to achieve with inheritance, where behavior is typically predefined by the class hierarchy."
   ]
  },
  {
   "cell_type": "code",
   "execution_count": 93,
   "id": "dbc2df97-9eae-4358-82df-eb86d625a54b",
   "metadata": {},
   "outputs": [],
   "source": [
    "#inheritence\n",
    "class Engine:\n",
    "    def start(self):\n",
    "        print(\"Engine starts\")\n",
    "\n",
    "class Car(Engine):\n",
    "    def drive(self):\n",
    "        self.start()\n",
    "        print(\"Car is driving\")\n"
   ]
  },
  {
   "cell_type": "code",
   "execution_count": 94,
   "id": "cf114062-0558-4ff0-8359-0e8318bf6325",
   "metadata": {},
   "outputs": [],
   "source": [
    "#composition\n",
    "class Engine:\r\n",
    "    def start(self):\r\n",
    "        print(\"Engine starts\")\r\n",
    "\r\n",
    "class Car:\r\n",
    "    def __init__(self, engine):\r\n",
    "        self.engine = engine\r\n",
    "\r\n",
    "    def drive(self):\r\n",
    "        self.engine.start()\r\n",
    "        print(\"Car is driving\")\r\n"
   ]
  },
  {
   "cell_type": "markdown",
   "id": "35cf90df-3461-42b0-a053-015a699d79cd",
   "metadata": {},
   "source": [
    "Comparison:\n",
    "\n",
    "Inheritance creates a tight coupling between Car and Engine, with Car extending Engine. Changes to Engine can affect Car.\n",
    "\n",
    "\n",
    "Composition creates a loose coupling where Car uses an Engine instance. Car and Engine can be modified independently."
   ]
  },
  {
   "cell_type": "markdown",
   "id": "39feedc4-f6db-41de-9d6a-aef0ab5f9cca",
   "metadata": {},
   "source": [
    "### 5. How can you implement composition in Python classes? Provide examples of using composition to create complex objects."
   ]
  },
  {
   "cell_type": "markdown",
   "id": "b4f2a0f1-27fb-4a10-8f72-60fe6a57701e",
   "metadata": {},
   "source": [
    "Composition is a design principle in object-oriented programming where a class is composed of one or more objects from other classes. This approach allows for creating complex objects from simpler, reusable components."
   ]
  },
  {
   "cell_type": "code",
   "execution_count": 96,
   "id": "179e3e3a-383c-4f0a-a38d-ed2eec0a731f",
   "metadata": {},
   "outputs": [
    {
     "name": "stdout",
     "output_type": "stream",
     "text": [
      "Engine with 300 horsepower starts\n",
      "Wheel of size 18 rotates\n",
      "Wheel of size 18 rotates\n",
      "Wheel of size 18 rotates\n",
      "Wheel of size 18 rotates\n",
      "Body painted blue\n",
      "Engine stops\n"
     ]
    }
   ],
   "source": [
    "class Engine:\n",
    "    def __init__(self, horsepower):\n",
    "        self.horsepower = horsepower\n",
    "\n",
    "    def start(self):\n",
    "        print(f\"Engine with {self.horsepower} horsepower starts\")\n",
    "\n",
    "    def stop(self):\n",
    "        print(\"Engine stops\")\n",
    "\n",
    "class Wheel:\n",
    "    def __init__(self, size):\n",
    "        self.size = size\n",
    "\n",
    "    def rotate(self):\n",
    "        print(f\"Wheel of size {self.size} rotates\")\n",
    "\n",
    "class Body:\n",
    "    def __init__(self, color):\n",
    "        self.color = color\n",
    "\n",
    "    def paint(self, new_color):\n",
    "        self.color = new_color\n",
    "        print(f\"Body painted {self.color}\")\n",
    "class Car:\n",
    "    def __init__(self, engine, wheels, body):\n",
    "        self.engine = engine      # Engine object\n",
    "        self.wheels = wheels      # List of Wheel objects\n",
    "        self.body = body          # Body object\n",
    "\n",
    "    def start(self):\n",
    "        self.engine.start()\n",
    "        for wheel in self.wheels:\n",
    "            wheel.rotate()\n",
    "\n",
    "    def stop(self):\n",
    "        self.engine.stop()\n",
    "\n",
    "    def paint(self, new_color):\n",
    "        self.body.paint(new_color)\n",
    "\n",
    "# Create components\n",
    "engine = Engine(horsepower=300)\n",
    "wheels = [Wheel(size=18) for _ in range(4)]  # 4 wheels of size 18\n",
    "body = Body(color=\"red\")\n",
    "\n",
    "# Create car with the components\n",
    "car = Car(engine=engine, wheels=wheels, body=body)\n",
    "\n",
    "# Use the car\n",
    "car.start()\n",
    "car.paint(\"blue\")\n",
    "car.stop()\n"
   ]
  },
  {
   "cell_type": "markdown",
   "id": "f560ac56-4a86-4c6a-aa07-e4a150427fa4",
   "metadata": {},
   "source": [
    "### 6. Create a Python class hierarchy for a music player system, using composition to represent playlists and songs."
   ]
  },
  {
   "cell_type": "code",
   "execution_count": 97,
   "id": "3a34d988-92c3-440a-85a4-a94002574ddd",
   "metadata": {},
   "outputs": [
    {
     "name": "stdout",
     "output_type": "stream",
     "text": [
      "Playlist: Favorites\n",
      "Song One by Artist A (3.5 minutes)\n",
      "Song Two by Artist B (4.0 minutes)\n",
      "Playlist: Chill Vibes\n",
      "Song Three by Artist A (2.8 minutes)\n",
      "Playing from playlist: Favorites\n",
      "Playing Song One by Artist A (3.5 minutes)\n",
      "Playing Song Two by Artist B (4.0 minutes)\n",
      "Playlist: Favorites\n",
      "Song Two by Artist B (4.0 minutes)\n",
      "Playlist: Chill Vibes\n",
      "Song Three by Artist A (2.8 minutes)\n"
     ]
    }
   ],
   "source": [
    "class Song:\n",
    "    def __init__(self, title, artist, duration):\n",
    "        self.title = title\n",
    "        self.artist = artist\n",
    "        self.duration = duration\n",
    "\n",
    "    def __str__(self):\n",
    "        return f\"{self.title} by {self.artist} ({self.duration} minutes)\"\n",
    "\n",
    "\n",
    "class Playlist:\n",
    "    def __init__(self, name):\n",
    "        self.name = name\n",
    "        self.songs = []\n",
    "\n",
    "    def add_song(self, song):\n",
    "        self.songs.append(song)\n",
    "\n",
    "    def remove_song(self, song_title):\n",
    "        self.songs = [song for song in self.songs if song.title != song_title]\n",
    "\n",
    "    def display_playlist(self):\n",
    "        print(f\"Playlist: {self.name}\")\n",
    "        for song in self.songs:\n",
    "            print(song)\n",
    "\n",
    "\n",
    "class MusicPlayer:\n",
    "    def __init__(self):\n",
    "        self.playlists = []\n",
    "\n",
    "    def add_playlist(self, playlist):\n",
    "        self.playlists.append(playlist)\n",
    "\n",
    "    def remove_playlist(self, playlist_name):\n",
    "        self.playlists = [playlist for playlist in self.playlists if playlist.name != playlist_name]\n",
    "\n",
    "    def play_playlist(self, playlist_name):\n",
    "        playlist = next((pl for pl in self.playlists if pl.name == playlist_name), None)\n",
    "        if playlist:\n",
    "            print(f\"Playing from playlist: {playlist_name}\")\n",
    "            for song in playlist.songs:\n",
    "                print(f\"Playing {song}\")\n",
    "        else:\n",
    "            print(\"Playlist not found\")\n",
    "\n",
    "    def display_all_playlists(self):\n",
    "        for playlist in self.playlists:\n",
    "            playlist.display_playlist()\n",
    "\n",
    "# Create songs\n",
    "song1 = Song(title=\"Song One\", artist=\"Artist A\", duration=3.5)\n",
    "song2 = Song(title=\"Song Two\", artist=\"Artist B\", duration=4.0)\n",
    "song3 = Song(title=\"Song Three\", artist=\"Artist A\", duration=2.8)\n",
    "\n",
    "# Create playlists\n",
    "playlist1 = Playlist(name=\"Favorites\")\n",
    "playlist2 = Playlist(name=\"Chill Vibes\")\n",
    "\n",
    "# Add songs to playlists\n",
    "playlist1.add_song(song1)\n",
    "playlist1.add_song(song2)\n",
    "playlist2.add_song(song3)\n",
    "\n",
    "# Create music player\n",
    "player = MusicPlayer()\n",
    "\n",
    "# Add playlists to the player\n",
    "player.add_playlist(playlist1)\n",
    "player.add_playlist(playlist2)\n",
    "\n",
    "# Display all playlists\n",
    "player.display_all_playlists()\n",
    "\n",
    "# Play a specific playlist\n",
    "player.play_playlist(\"Favorites\")\n",
    "\n",
    "# Remove a song from a playlist and display again\n",
    "playlist1.remove_song(\"Song One\")\n",
    "player.display_all_playlists()\n"
   ]
  },
  {
   "cell_type": "markdown",
   "id": "f86e3159-bb82-40e3-95cd-afed446f44e5",
   "metadata": {},
   "source": [
    "### 7. Explain the concept of \"has-a\" relationships in composition and how it helps design software systems."
   ]
  },
  {
   "cell_type": "markdown",
   "id": "5f50ff54-74b9-4675-ada7-ab74ee33d1e9",
   "metadata": {},
   "source": [
    " In object-oriented programming, composition is used to model \"has-a\" relationships, which represent how objects are composed of other objects. This design principle is crucial for building complex systems from simpler, reusable components. Here’s a deeper look into \"has-a\" relationships and their benefits in designing software systems."
   ]
  },
  {
   "cell_type": "markdown",
   "id": "d2a6c848-22c8-469b-a3f7-6323133240fc",
   "metadata": {},
   "source": [
    "Concept of \"Has-a\" Relationships\n",
    "\"Has-a\" Relationship: This term describes a scenario where one class contains or is composed of instances of another class. It indicates that one object has another object as a part of its state or behavior.\n",
    "\n",
    "Example: A Car has an Engine, meaning that the Car class contains an instance of the Engine class.\n",
    "\n",
    "How \"Has-a\" Relationships Help Design Software Systems\n",
    "\n",
    "Encapsulation of Behavior\n",
    "\n",
    "Separation of Concerns: Composition allows you to encapsulate specific behaviors and attributes within individual classes. For instance, in a Car class, the Engine class handles engine-related functionality. This separation makes the system more modular and easier to understand.\n",
    "\n",
    "Encapsulation: Each class encapsulates its own functionality and state, leading to cleaner and more maintainable code.\n",
    "Enhanced Reusability\n",
    "\n",
    "Component Reuse: Classes that represent components can be reused across different contexts. For example, an Engine class can be used in both Car and Truck classes, promoting code reuse and reducing duplication.\n",
    "\n",
    "Modular Design: By composing classes, you can build complex objects from simpler, well-defined components. This modular design helps in reusing and replacing components without affecting the overall system.\n",
    "\n",
    "Flexibility and Extensibility\n",
    "\n",
    "Dynamic Changes: With composition, you can dynamically change the behavior of a class by swapping its components. For instance, a Car can have different types of Engines (e.g., electric or gasoline) depending on requirements.\n",
    "Easy Extensions: Adding new functionality can be done by introducing new components or modifying existing ones without altering the entire system. For instance, adding a GPS component to a Car class doesn’t require changes to the Engine class.\n",
    "\n",
    "Avoiding Inheritance Pitfalls\n",
    "\n",
    "Reduced Coupling: Composition avoids the pitfalls of deep inheritance hierarchies. It provides a more flexible way to build systems without creating complex class hierarchies that can lead to fragile and hard-to-maintain code.\n",
    "\n",
    "Improved Maintainability: Unlike inheritance, where changes to a base class can affect all derived classes, composition allows you to isolate changes to specific components, thus minimizing the impact on the rest of the system.\n",
    "Encapsulation of Complexity\n",
    "\n",
    "Modularity: Complex systems can be decomposed into smaller, more manageable components. Each component handles its own complexity, making it easier to understand, test, and maintain.\n",
    "\n",
    "Focused Responsibilities: Each class has a focused responsibility. For example, a Book class might use an Author class to handle author-specific details, while the Book class handles book-specific details like title and publication date."
   ]
  },
  {
   "cell_type": "code",
   "execution_count": 99,
   "id": "09359541-b92a-4aed-a6ef-d47f873b70a3",
   "metadata": {},
   "outputs": [
    {
     "name": "stdout",
     "output_type": "stream",
     "text": [
      "Engine with 300 horsepower starts\n",
      "Wheel of size 18 rotates\n",
      "Wheel of size 18 rotates\n",
      "Wheel of size 18 rotates\n",
      "Wheel of size 18 rotates\n"
     ]
    }
   ],
   "source": [
    "class Engine:\n",
    "    def __init__(self, horsepower):\n",
    "        self.horsepower = horsepower\n",
    "\n",
    "    def start(self):\n",
    "        print(f\"Engine with {self.horsepower} horsepower starts\")\n",
    "class Wheel:\n",
    "    def __init__(self, size):\n",
    "        self.size = size\n",
    "\n",
    "    def rotate(self):\n",
    "        print(f\"Wheel of size {self.size} rotates\")\n",
    "\n",
    "class Car:\n",
    "    def __init__(self, engine, wheels):\n",
    "        self.engine = engine  # \"Has-a\" relationship\n",
    "        self.wheels = wheels  # \"Has-a\" relationship\n",
    "\n",
    "    def start(self):\n",
    "        self.engine.start()\n",
    "        for wheel in self.wheels:\n",
    "            wheel.rotate()\n",
    "\n",
    "\n",
    "engine = Engine(horsepower=300)\n",
    "wheels = [Wheel(size=18) for _ in range(4)]\n",
    "\n",
    "car = Car(engine=engine, wheels=wheels)\n",
    "car.start()\n"
   ]
  },
  {
   "cell_type": "markdown",
   "id": "e7afb604-56fa-46d5-8aa2-a4d3a4533912",
   "metadata": {},
   "source": [
    "### 8. Create a Python class for a computer system, using composition to represent components like CPU, RAM, and storage devices."
   ]
  },
  {
   "cell_type": "code",
   "execution_count": 100,
   "id": "7297c566-f76d-44f1-a373-a1e00bcc0f0b",
   "metadata": {},
   "outputs": [
    {
     "name": "stdout",
     "output_type": "stream",
     "text": [
      "Computer System Specifications:\n",
      "CPU Model: Intel Core i7, Cores: 8\n",
      "RAM Size: 16 GB\n",
      "Storage: 512 GB SSD\n"
     ]
    }
   ],
   "source": [
    "class CPU:\n",
    "    def __init__(self, model, cores):\n",
    "        self.model = model\n",
    "        self.cores = cores\n",
    "\n",
    "    def __str__(self):\n",
    "        return f\"CPU Model: {self.model}, Cores: {self.cores}\"\n",
    "\n",
    "class RAM:\n",
    "    def __init__(self, size_gb):\n",
    "        self.size_gb = size_gb\n",
    "\n",
    "    def __str__(self):\n",
    "        return f\"RAM Size: {self.size_gb} GB\"\n",
    "\n",
    "class Storage:\n",
    "    def __init__(self, capacity_gb, storage_type):\n",
    "        self.capacity_gb = capacity_gb\n",
    "        self.storage_type = storage_type\n",
    "\n",
    "    def __str__(self):\n",
    "        return f\"Storage: {self.capacity_gb} GB {self.storage_type}\"\n",
    "\n",
    "class Computer:\n",
    "    def __init__(self, cpu, ram, storage):\n",
    "        self.cpu = cpu          # CPU object\n",
    "        self.ram = ram          # RAM object\n",
    "        self.storage = storage  # Storage object\n",
    "\n",
    "    def display_info(self):\n",
    "        print(\"Computer System Specifications:\")\n",
    "        print(self.cpu)\n",
    "        print(self.ram)\n",
    "        print(self.storage)\n",
    "# Create component instances\n",
    "cpu = CPU(model=\"Intel Core i7\", cores=8)\n",
    "ram = RAM(size_gb=16)  # 16 GB RAM\n",
    "storage = Storage(capacity_gb=512, storage_type=\"SSD\")  # 512 GB SSD\n",
    "\n",
    "# Create a computer with the components\n",
    "computer = Computer(cpu=cpu, ram=ram, storage=storage)\n",
    "\n",
    "# Display computer system information\n",
    "computer.display_info()\n"
   ]
  },
  {
   "cell_type": "markdown",
   "id": "32314a16-3959-4775-8625-a80479ad2e57",
   "metadata": {},
   "source": [
    "### 9. Describe the concept of \"delegation\" in composition and how it simplifies the design of complex systems."
   ]
  },
  {
   "cell_type": "markdown",
   "id": "0914c15b-fd7d-461b-bc2a-a4306997d549",
   "metadata": {},
   "source": [
    "Delegation is a design pattern where one object (the delegator) relies on another object (the delegate) to perform certain tasks or handle specific responsibilities.\n",
    "In the context of composition, delegation is used to simplify the design of complex systems by allowing objects to delegate tasks to their components, rather than implementing all functionality themselves.\n",
    "\n",
    "How Delegation Works\n",
    "\n",
    "Delegator: The object that contains or owns the delegate.\n",
    "Delegate: The object that performs the actual work or provides specific functionality on behalf of the delegator.\n",
    "The delegator passes responsibility to the delegate for certain operations, allowing the delegator to focus on its primary responsibilities while the delegate handles secondary or specialized tasks.\n",
    "\n",
    "Benefits of Delegation\n",
    "\n",
    "Simplifies Complex Systems\n",
    "\n",
    "Focused Responsibilities: By delegating tasks, you break down complex systems into smaller, more manageable components. Each component focuses on a specific responsibility, making the overall system easier to understand and maintain.\n",
    "Reduces Code Duplication: Common functionality can be handled by a delegate, avoiding the need to duplicate code across multiple classes.\n",
    "\n",
    "Promotes Reusability\n",
    "\n",
    "Reusable Components: Delegates can be reused across different contexts. For instance, a Logger class might handle logging for various other classes, promoting code reuse.\n",
    "Flexible Integration: Delegates can be easily swapped or modified without affecting the delegator. This flexibility allows for easy updates or enhancements to the system.\n",
    "\n",
    "Encourages Modularity\n",
    "\n",
    "Decoupling: Delegation decouples the delegator from specific implementations, fostering a modular design. This separation allows you to change or extend functionality without impacting other parts of the system.\n",
    "Encapsulation: Delegation helps encapsulate specific behaviors within delegate classes, making it easier to manage and test individual components.\n",
    "\n",
    "Improves Maintainability\n",
    "\n",
    "Isolated Changes: Changes to delegate classes are isolated from the delegator, reducing the risk of unintended side effects. This isolation makes the system more robust and easier to maintain.\n",
    "Simpler Classes: Delegation keeps classes focused on their primary responsibilities, resulting in simpler and more readable code"
   ]
  },
  {
   "cell_type": "code",
   "execution_count": 101,
   "id": "5460c67d-8f97-4574-b211-4842f0913cd8",
   "metadata": {},
   "outputs": [
    {
     "name": "stdout",
     "output_type": "stream",
     "text": [
      "Log: Displaying computer system specifications.\n",
      "CPU Model: Intel Core i7, Cores: 8\n",
      "RAM Size: 16 GB\n",
      "Storage: 512 GB SSD\n"
     ]
    }
   ],
   "source": [
    "class Logger:\n",
    "    def log(self, message):\n",
    "        print(f\"Log: {message}\")\n",
    "class CPU:\n",
    "    def __init__(self, model, cores):\n",
    "        self.model = model\n",
    "        self.cores = cores\n",
    "\n",
    "    def __str__(self):\n",
    "        return f\"CPU Model: {self.model}, Cores: {self.cores}\"\n",
    "\n",
    "class RAM:\n",
    "    def __init__(self, size_gb):\n",
    "        self.size_gb = size_gb\n",
    "\n",
    "    def __str__(self):\n",
    "        return f\"RAM Size: {self.size_gb} GB\"\n",
    "\n",
    "class Storage:\n",
    "    def __init__(self, capacity_gb, storage_type):\n",
    "        self.capacity_gb = capacity_gb\n",
    "        self.storage_type = storage_type\n",
    "\n",
    "    def __str__(self):\n",
    "        return f\"Storage: {self.capacity_gb} GB {self.storage_type}\"\n",
    "class Computer:\n",
    "    def __init__(self, cpu, ram, storage, logger):\n",
    "        self.cpu = cpu\n",
    "        self.ram = ram\n",
    "        self.storage = storage\n",
    "        self.logger = logger  # Delegation of logging responsibility\n",
    "\n",
    "    def display_info(self):\n",
    "        self.logger.log(\"Displaying computer system specifications.\")\n",
    "        print(self.cpu)\n",
    "        print(self.ram)\n",
    "        print(self.storage)\n",
    "# Create component instances\n",
    "cpu = CPU(model=\"Intel Core i7\", cores=8)\n",
    "ram = RAM(size_gb=16)\n",
    "storage = Storage(capacity_gb=512, storage_type=\"SSD\")\n",
    "logger = Logger()\n",
    "\n",
    "# Create a computer with the components and logger\n",
    "computer = Computer(cpu=cpu, ram=ram, storage=storage, logger=logger)\n",
    "\n",
    "# Display computer system information\n",
    "computer.display_info()\n"
   ]
  },
  {
   "cell_type": "markdown",
   "id": "3c30ab9b-96fa-46de-abd9-601b6235a3e4",
   "metadata": {},
   "source": [
    "### 10. Create a Python class for a car, using composition to represent components like the engine, wheels, and transmission."
   ]
  },
  {
   "cell_type": "code",
   "execution_count": 102,
   "id": "3c913fea-52a4-493a-a714-1dda89f83f48",
   "metadata": {},
   "outputs": [
    {
     "name": "stdout",
     "output_type": "stream",
     "text": [
      "Car Information:\n",
      "Engine: 300 HP, Fuel Type: Gasoline\n",
      "Wheels: Size 18, Material: Alloy\n",
      "Transmission: Automatic\n",
      "Engine with 300 horsepower and Gasoline fuel starts\n",
      "Car is now running\n",
      "Transmission shifts to Drive gear\n",
      "Wheels of size 18 and material Alloy rotate\n",
      "Car is driving\n",
      "Engine stops\n",
      "Car is now stopped\n"
     ]
    }
   ],
   "source": [
    "class Engine:\n",
    "    def __init__(self, horsepower, fuel_type):\n",
    "        self.horsepower = horsepower\n",
    "        self.fuel_type = fuel_type\n",
    "\n",
    "    def start(self):\n",
    "        print(f\"Engine with {self.horsepower} horsepower and {self.fuel_type} fuel starts\")\n",
    "\n",
    "    def stop(self):\n",
    "        print(\"Engine stops\")\n",
    "\n",
    "    def __str__(self):\n",
    "        return f\"Engine: {self.horsepower} HP, Fuel Type: {self.fuel_type}\"\n",
    "\n",
    "class Wheels:\n",
    "    def __init__(self, size, material):\n",
    "        self.size = size\n",
    "        self.material = material\n",
    "\n",
    "    def rotate(self):\n",
    "        print(f\"Wheels of size {self.size} and material {self.material} rotate\")\n",
    "\n",
    "    def __str__(self):\n",
    "        return f\"Wheels: Size {self.size}, Material: {self.material}\"\n",
    "\n",
    "class Transmission:\n",
    "    def __init__(self, type):\n",
    "        self.type = type\n",
    "\n",
    "    def shift(self, gear):\n",
    "        print(f\"Transmission shifts to {gear} gear\")\n",
    "\n",
    "    def __str__(self):\n",
    "        return f\"Transmission: {self.type}\"\n",
    "\n",
    "class Car:\n",
    "    def __init__(self, engine, wheels, transmission):\n",
    "        self.engine = engine         # Engine object\n",
    "        self.wheels = wheels         # Wheels object\n",
    "        self.transmission = transmission  # Transmission object\n",
    "\n",
    "    def start(self):\n",
    "        self.engine.start()\n",
    "        print(\"Car is now running\")\n",
    "\n",
    "    def stop(self):\n",
    "        self.engine.stop()\n",
    "        print(\"Car is now stopped\")\n",
    "\n",
    "    def drive(self, gear):\n",
    "        self.transmission.shift(gear)\n",
    "        self.wheels.rotate()\n",
    "        print(\"Car is driving\")\n",
    "\n",
    "    def display_info(self):\n",
    "        print(\"Car Information:\")\n",
    "        print(self.engine)\n",
    "        print(self.wheels)\n",
    "        print(self.transmission)\n",
    "# Create component instances\n",
    "engine = Engine(horsepower=300, fuel_type=\"Gasoline\")\n",
    "wheels = Wheels(size=18, material=\"Alloy\")\n",
    "transmission = Transmission(type=\"Automatic\")\n",
    "\n",
    "# Create a car with the components\n",
    "car = Car(engine=engine, wheels=wheels, transmission=transmission)\n",
    "\n",
    "# Display car information\n",
    "car.display_info()\n",
    "\n",
    "# Start the car, drive, and then stop\n",
    "car.start()\n",
    "car.drive(\"Drive\")\n",
    "car.stop()\n"
   ]
  },
  {
   "cell_type": "markdown",
   "id": "b2324b74-346b-48c2-b711-e344afc73985",
   "metadata": {},
   "source": [
    "### 11. How can you encapsulate and hide the details of composed objects in Python classes to maintain abstraction?"
   ]
  },
  {
   "cell_type": "markdown",
   "id": "77b6894e-2571-4b95-ae19-e6d08aefa052",
   "metadata": {},
   "source": [
    "1. Use Private Attributes\n",
    "\n",
    "Python uses a convention of prefixing attributes with an underscore (_) to indicate that they are intended for internal use only. This does not enforce strict privacy but serves as a guideline.\n",
    "\n",
    "Single Underscore (_): Indicates that an attribute is protected (intended for internal use but accessible).\n",
    "Double Underscore (__): Triggers name mangling to make it harder to accidentally access or modify an attribute from outside the class."
   ]
  },
  {
   "cell_type": "code",
   "execution_count": 104,
   "id": "7d7518d3-8b07-4b02-91fd-195390d50dc5",
   "metadata": {},
   "outputs": [],
   "source": [
    "class Engine:\n",
    "    def __init__(self, horsepower, fuel_type):\n",
    "        self.__horsepower = horsepower  # Private attribute\n",
    "        self.__fuel_type = fuel_type    # Private attribute\n",
    "\n",
    "    def start(self):\n",
    "        print(f\"Engine with {self.__horsepower} horsepower and {self.__fuel_type} fuel starts\")\n",
    "\n",
    "    def __str__(self):\n",
    "        return f\"Engine: {self.__horsepower} HP, Fuel Type: {self.__fuel_type}\"\n",
    "class Engine:\n",
    "    def __init__(self, horsepower, fuel_type):\n",
    "        self.__horsepower = horsepower\n",
    "        self.__fuel_type = fuel_type\n",
    "\n",
    "    def start(self):\n",
    "        print(f\"Engine with {self.__horsepower} horsepower and {self.__fuel_type} fuel starts\")\n",
    "\n",
    "    def get_horsepower(self):\n",
    "        return self.__horsepower\n",
    "\n",
    "    def set_horsepower(self, horsepower):\n",
    "        if horsepower > 0:\n",
    "            self.__horsepower = horsepower\n",
    "\n",
    "    def __str__(self):\n",
    "        return f\"Engine: {self.__horsepower} HP, Fuel Type: {self.__fuel_type}\"\n",
    "class Car:\n",
    "    def __init__(self, engine):\n",
    "        self.__engine = engine  # Private attribute\n",
    "\n",
    "    def start(self):\n",
    "        self.__engine.start()  # Encapsulated interaction\n",
    "\n",
    "    def get_engine_info(self):\n",
    "        return str(self.__engine)  # Provide a controlled way to access information\n",
    "\n",
    "    def __str__(self):\n",
    "        return f\"Car with {self.get_engine_info()}\"\n",
    "class Engine:\n",
    "    def __init__(self, horsepower, fuel_type):\n",
    "        self.__horsepower = horsepower\n",
    "        self.__fuel_type = fuel_type\n",
    "\n",
    "    @property\n",
    "    def horsepower(self):\n",
    "        return self.__horsepower\n",
    "\n",
    "    @horsepower.setter\n",
    "    def horsepower(self, value):\n",
    "        if value > 0:\n",
    "            self.__horsepower = value\n",
    "\n",
    "    @property\n",
    "    def fuel_type(self):\n",
    "        return self.__fuel_type\n",
    "\n",
    "    def start(self):\n",
    "        print(f\"Engine with {self.__horsepower} horsepower and {self.__fuel_type} fuel starts\")\n",
    "\n",
    "    def __str__(self):\n",
    "        return f\"Engine: {self.__horsepower} HP, Fuel Type: {self.__fuel_type}\"\n",
    "\n",
    "class Wheels:\n",
    "    def __init__(self, size, material):\n",
    "        self.__size = size\n",
    "        self.__material = material\n",
    "\n",
    "    def rotate(self):\n",
    "        print(f\"Wheels of size {self.__size} and material {self.__material} rotate\")\n",
    "\n",
    "    def __str__(self):\n",
    "        return f\"Wheels: Size {self.__size}, Material: {self.__material}\"\n",
    "\n",
    "class Car:\n",
    "    def __init__(self, engine, wheels):\n",
    "        self.__engine = engine\n",
    "        self.__wheels = wheels\n",
    "\n",
    "    def start(self):\n",
    "        self.__engine.start()\n",
    "        print(\"Car is now running\")\n",
    "\n",
    "    def drive(self):\n",
    "        self.__wheels.rotate()\n",
    "        print(\"Car is driving\")\n",
    "\n",
    "    def __str__(self):\n",
    "        return f\"Car with {self.__engine} and {self.__wheels}\"\n"
   ]
  },
  {
   "cell_type": "markdown",
   "id": "41f95238-fa7d-455b-a351-69aa98bab349",
   "metadata": {},
   "source": [
    "### 12. Create a Python class for a university course, using composition to represent students, instructors, and course materials."
   ]
  },
  {
   "cell_type": "code",
   "execution_count": 107,
   "id": "deecfd58-801c-49af-a401-8a3b0321277a",
   "metadata": {},
   "outputs": [
    {
     "name": "stdout",
     "output_type": "stream",
     "text": [
      "Course: Python Programming\n",
      "Instructor: Dr. Smith, ID: 12345\n",
      "Course Materials:\n",
      "Material: Introduction to Python, Type: Textbook\n",
      "Material: Python Programming Online Resources, Type: Online\n",
      "Enrolled Students:\n",
      "Student: Alice Johnson, ID: S001\n",
      "Student: Bob Brown, ID: S002\n",
      "\n",
      "Updated Course Information:\n",
      "Course: Python Programming\n",
      "Instructor: Dr. Smith, ID: 12345\n",
      "Course Materials:\n",
      "Material: Introduction to Python, Type: Textbook\n",
      "Material: Python Programming Online Resources, Type: Online\n",
      "Enrolled Students:\n",
      "Student: Bob Brown, ID: S002\n"
     ]
    }
   ],
   "source": [
    "class Student:\n",
    "    def __init__(self, name, student_id):\n",
    "        self.name = name\n",
    "        self.student_id = student_id\n",
    "\n",
    "    def __str__(self):\n",
    "        return f\"Student: {self.name}, ID: {self.student_id}\"\n",
    "\n",
    "class Instructor:\n",
    "    def __init__(self, name, employee_id):\n",
    "        self.name = name\n",
    "        self.employee_id = employee_id\n",
    "\n",
    "    def __str__(self):\n",
    "        return f\"Instructor: {self.name}, ID: {self.employee_id}\"\n",
    "        \n",
    "class CourseMaterial:\n",
    "    def __init__(self, title, material_type):\n",
    "        self.title = title\n",
    "        self.material_type = material_type\n",
    "\n",
    "    def __str__(self):\n",
    "        return f\"Material: {self.title}, Type: {self.material_type}\"\n",
    "        \n",
    "class Instructor:\n",
    "    def __init__(self, name, employee_id):\n",
    "        self.name = name\n",
    "        self.employee_id = employee_id\n",
    "\n",
    "    def __str__(self):\n",
    "        return f\"Instructor: {self.name}, ID: {self.employee_id}\"\n",
    "        \n",
    "class CourseMaterial:\n",
    "    def __init__(self, title, material_type):\n",
    "        self.title = title\n",
    "        self.material_type = material_type\n",
    "\n",
    "    def __str__(self):\n",
    "        return f\"Material: {self.title}, Type: {self.material_type}\"\n",
    "        \n",
    "class UniversityCourse:\n",
    "    def __init__(self, course_name, instructor, materials):\n",
    "        self.course_name = course_name\n",
    "        self.instructor = instructor      # Instructor object\n",
    "        self.materials = materials        # List of CourseMaterial objects\n",
    "        self.students = []                # List to hold Student objects\n",
    "\n",
    "    def add_student(self, student):\n",
    "        self.students.append(student)\n",
    "\n",
    "    def remove_student(self, student):\n",
    "        self.students.remove(student)\n",
    "\n",
    "    def display_info(self):\n",
    "        print(f\"Course: {self.course_name}\")\n",
    "        print(self.instructor)\n",
    "        print(\"Course Materials:\")\n",
    "        for material in self.materials:\n",
    "            print(material)\n",
    "        print(\"Enrolled Students:\")\n",
    "        for student in self.students:\n",
    "            print(student)\n",
    "# Create component instances\n",
    "instructor = Instructor(name=\"Dr. Smith\", employee_id=\"12345\")\n",
    "\n",
    "materials = [\n",
    "    CourseMaterial(title=\"Introduction to Python\", material_type=\"Textbook\"),\n",
    "    CourseMaterial(title=\"Python Programming Online Resources\", material_type=\"Online\")\n",
    "]\n",
    "\n",
    "# Create a university course with the components\n",
    "course = UniversityCourse(course_name=\"Python Programming\", instructor=instructor, materials=materials)\n",
    "\n",
    "# Create student instances\n",
    "student1 = Student(name=\"Alice Johnson\", student_id=\"S001\")\n",
    "student2 = Student(name=\"Bob Brown\", student_id=\"S002\")\n",
    "\n",
    "# Add students to the course\n",
    "course.add_student(student1)\n",
    "course.add_student(student2)\n",
    "\n",
    "# Display course information\n",
    "course.display_info()\n",
    "\n",
    "# Remove a student from the course\n",
    "course.remove_student(student1)\n",
    "\n",
    "# Display updated course information\n",
    "print(\"\\nUpdated Course Information:\")\n",
    "course.display_info()\n"
   ]
  },
  {
   "cell_type": "markdown",
   "id": "00e9af42-256a-4a35-a855-d1a2dd1c74b6",
   "metadata": {},
   "source": [
    "### 13. Discuss the challenges and drawbacks of composition, such as increased complexity and potential for tight coupling between objects."
   ]
  },
  {
   "cell_type": "markdown",
   "id": "3d073466-9aca-49dd-a280-3c1f9b5b66a3",
   "metadata": {},
   "source": [
    "Challenges and Drawbacks of Composition\n",
    "\n",
    "Increased Complexity\n",
    "\n",
    "Design Overhead: Designing systems with composition often involves creating multiple classes and managing their interactions. This can lead to a higher initial design complexity compared to simpler inheritance-based designs.\n",
    "\n",
    "Object Management: Managing a complex network of composed objects can be challenging, especially if there are many interdependencies. Keeping track of which objects are responsible for which functionalities requires careful planning and documentation.\n",
    "\n",
    "Tight Coupling Between Objects\n",
    "\n",
    "Inter-object Dependencies: In a composition-based design, objects are often tightly coupled through their interactions. For instance, if one object relies on another to perform a task, changes to the delegate object can impact the delegating object. This tight coupling can make it harder to modify or replace individual components without affecting others.\n",
    "\n",
    "Difficulty in Replacing Components: If components are closely interlinked, replacing or updating a component may require significant changes to other components or the overall system. This can reduce the flexibility that composition is supposed to provide.\n",
    "Overhead of Delegation\n",
    "\n",
    "Delegation Overhead: Delegating responsibilities to other objects can introduce additional method calls and indirection, which might impact performance. While usually not significant, in performance-critical applications, this overhead should be considered.\n",
    "\n",
    "Hidden Complexity: Delegation can sometimes obscure where certain behaviors are implemented. This can make it harder for developers to trace the flow of logic or understand how different parts of the system interact.\n",
    "Initialization and Configuration\n",
    "\n",
    "Complex Initialization: Setting up a composed object can require initializing and configuring multiple components, which can be cumbersome. Ensuring that all components are correctly initialized and integrated requires careful attention.\n",
    "\n",
    "Constructor Complexity: The constructors for composed objects may become complex if they need to handle multiple dependencies or configuration options for their components.\n",
    "\n",
    "Testing and Maintenance\n",
    "\n",
    "Testing Complexity: Testing a system with extensive composition can be more complex because it often involves setting up multiple objects and verifying their interactions. Mocking or stubbing dependencies for unit tests can be necessary to isolate the component being tested.\n",
    "\n",
    "Maintenance Overhead: Maintaining a system with deep composition can require understanding and managing many interrelated components. This can lead to higher maintenance costs and efforts, particularly when debugging issues or making changes.\n",
    "\n",
    "Potential for Overuse\n",
    "\n",
    "Overuse of Composition: While composition is a powerful technique, overusing it can lead to overly complex designs with many small classes and interfaces. This can make the codebase harder to navigate and understand, potentially negating the benefits of modularity.\n",
    "\n",
    "Example Illustration\n",
    "\n",
    "Consider a Car class that uses composition to include Engine, Wheels, and Transmission components. Here’s how some of the challenges might manifest:\n",
    "\n",
    "Increased Complexity: The Car class must manage the lifecycle and interactions of its components. If the Engine class changes its interface, the Car class might need modifications to handle the new or changed functionality.\n",
    "\n",
    "Tight Coupling: If the Car class relies heavily on specific implementations of Engine, Wheels, or Transmission, replacing these components with different implementations might require significant changes.\n",
    "\n",
    "Delegation Overhead: Calling methods on Engine, Wheels, or Transmission involves additional method calls and object interactions, which could impact performance if done excessively.\n",
    "\n",
    "Mitigating the Challenges\n",
    "\n",
    "To address these challenges, consider the following strategies:\n",
    "\n",
    "Use Clear Interfaces: Define clear and well-documented interfaces for composed objects. This helps in managing dependencies and reducing tight coupling.\n",
    "\n",
    "Keep Components Modular: Aim for loosely coupled components with clear responsibilities. This makes it easier to modify or replace components without affecting others.\n",
    "\n",
    "Simplify Initialization: Use design patterns like the Builder pattern to simplify the creation and configuration of composed objects.\n",
    "\n",
    "Employe Good Practices: Follow best practices for design, such as SOLID principles, to manage complexity and maintainability."
   ]
  },
  {
   "cell_type": "markdown",
   "id": "35e6082a-7856-4e03-84dc-77cc13d88948",
   "metadata": {},
   "source": [
    "### 14. Create a Python class hierarchy for a restaurant system, using composition to represent menus, dishes, and ingredients."
   ]
  },
  {
   "cell_type": "code",
   "execution_count": 108,
   "id": "ed179162-64c1-4416-941f-e34ea57bc3b9",
   "metadata": {},
   "outputs": [
    {
     "name": "stdout",
     "output_type": "stream",
     "text": [
      "Restaurant: La Dolce Vita\n",
      "Menu: Italian Classics\n",
      "Dish: Margherita Pizza, Ingredients: [2 pieces of Tomato, 100 grams of Mozzarella, 10 leaves of Basil]\n",
      "Dish: Pasta Aglio e Olio, Ingredients: [200 grams of Pasta, 2 tablespoons of Olive Oil]\n"
     ]
    }
   ],
   "source": [
    "class Ingredient:\n",
    "    def __init__(self, name, quantity, unit):\n",
    "        self.name = name\n",
    "        self.quantity = quantity\n",
    "        self.unit = unit\n",
    "\n",
    "    def __str__(self):\n",
    "        return f\"{self.quantity} {self.unit} of {self.name}\"\n",
    "\n",
    "class Dish:\n",
    "    def __init__(self, name, ingredients):\n",
    "        self.name = name\n",
    "        self.ingredients = ingredients  # List of Ingredient objects\n",
    "\n",
    "    def __str__(self):\n",
    "        ingredient_list = ', '.join(str(ingredient) for ingredient in self.ingredients)\n",
    "        return f\"Dish: {self.name}, Ingredients: [{ingredient_list}]\"\n",
    "\n",
    "class Menu:\n",
    "    def __init__(self, menu_name):\n",
    "        self.menu_name = menu_name\n",
    "        self.dishes = []  # List to hold Dish objects\n",
    "\n",
    "    def add_dish(self, dish):\n",
    "        self.dishes.append(dish)\n",
    "\n",
    "    def __str__(self):\n",
    "        dish_list = '\\n'.join(str(dish) for dish in self.dishes)\n",
    "        return f\"Menu: {self.menu_name}\\n{dish_list}\"\n",
    "\n",
    "class Restaurant:\n",
    "    def __init__(self, name):\n",
    "        self.name = name\n",
    "        self.menus = []  # List to hold Menu objects\n",
    "\n",
    "    def add_menu(self, menu):\n",
    "        self.menus.append(menu)\n",
    "\n",
    "    def __str__(self):\n",
    "        menu_list = '\\n'.join(str(menu) for menu in self.menus)\n",
    "        return f\"Restaurant: {self.name}\\n{menu_list}\"\n",
    "\n",
    "# Create ingredients\n",
    "ingredient1 = Ingredient(name=\"Tomato\", quantity=2, unit=\"pieces\")\n",
    "ingredient2 = Ingredient(name=\"Mozzarella\", quantity=100, unit=\"grams\")\n",
    "ingredient3 = Ingredient(name=\"Basil\", quantity=10, unit=\"leaves\")\n",
    "ingredient4 = Ingredient(name=\"Pasta\", quantity=200, unit=\"grams\")\n",
    "ingredient5 = Ingredient(name=\"Olive Oil\", quantity=2, unit=\"tablespoons\")\n",
    "\n",
    "# Create dishes\n",
    "dish1 = Dish(name=\"Margherita Pizza\", ingredients=[ingredient1, ingredient2, ingredient3])\n",
    "dish2 = Dish(name=\"Pasta Aglio e Olio\", ingredients=[ingredient4, ingredient5])\n",
    "\n",
    "# Create a menu and add dishes to it\n",
    "menu1 = Menu(menu_name=\"Italian Classics\")\n",
    "menu1.add_dish(dish1)\n",
    "menu1.add_dish(dish2)\n",
    "\n",
    "# Create a restaurant and add menus to it\n",
    "restaurant = Restaurant(name=\"La Dolce Vita\")\n",
    "restaurant.add_menu(menu1)\n",
    "\n",
    "# Display restaurant information\n",
    "print(restaurant)\n"
   ]
  },
  {
   "cell_type": "markdown",
   "id": "adc42216-6dff-4e53-a80f-5844942d37e4",
   "metadata": {},
   "source": [
    "### 15. Explain how composition enhances code maintainability and modularity in Python programs."
   ]
  },
  {
   "cell_type": "markdown",
   "id": "3f945079-7dde-44ad-a7ca-7e95e8fd0acf",
   "metadata": {},
   "source": [
    "Composition enhances code maintainability and modularity in Python programs by:\n",
    "\n",
    "Promoting Separation of Concerns: Dividing functionality into distinct components.\n",
    "\n",
    "Enabling Reuse of Components: Allowing components to be reused across different contexts.\n",
    "\n",
    "Simplifying Updates and Bug Fixes: Making it easier to modify or fix individual components without affecting the whole system.\n",
    "\n",
    "Facilitating Testing: Allowing for straightforward unit testing of individual components.\n",
    "\n",
    "Providing Flexibility and Scalability: Making it easier to extend and adapt the system.\n",
    "\n",
    "Improving Code Clarity and Organization: Enhancing readability and reducing overall complexity."
   ]
  },
  {
   "cell_type": "markdown",
   "id": "bf1a9ede-3bfa-4b8a-8106-51947b1a25e9",
   "metadata": {},
   "source": [
    "### 16. Create a Python class for a computer game character, using composition to represent attributes like weapons, armor, and inventory."
   ]
  },
  {
   "cell_type": "code",
   "execution_count": 109,
   "id": "593a0aea-05f3-456f-b70f-c9369763bb36",
   "metadata": {},
   "outputs": [
    {
     "name": "stdout",
     "output_type": "stream",
     "text": [
      "Character: Hero\n",
      "Weapon: Sword, Damage: 50\n",
      "Armor: Shield, Defense: 30\n",
      "Inventory: Health Potion, Mana Potion\n",
      "\n",
      "Updated Character Information:\n",
      "Character: Hero\n",
      "Weapon: Sword, Damage: 50\n",
      "Armor: Shield, Defense: 30\n",
      "Inventory: Health Potion\n"
     ]
    }
   ],
   "source": [
    "class Weapon:\n",
    "    def __init__(self, name, damage):\n",
    "        self.name = name\n",
    "        self.damage = damage\n",
    "\n",
    "    def __str__(self):\n",
    "        return f\"Weapon: {self.name}, Damage: {self.damage}\"\n",
    "class Armor:\n",
    "    def __init__(self, name, defense):\n",
    "        self.name = name\n",
    "        self.defense = defense\n",
    "\n",
    "    def __str__(self):\n",
    "        return f\"Armor: {self.name}, Defense: {self.defense}\"\n",
    "\n",
    "\n",
    "class Inventory:\n",
    "    def __init__(self):\n",
    "        self.items = []  # List to hold items\n",
    "\n",
    "    def add_item(self, item):\n",
    "        self.items.append(item)\n",
    "\n",
    "    def remove_item(self, item):\n",
    "        self.items.remove(item)\n",
    "\n",
    "    def __str__(self):\n",
    "        return \"Inventory: \" + \", \".join(self.items) if self.items else \"Inventory: Empty\"\n",
    "\n",
    "class Character:\n",
    "    def __init__(self, name, weapon=None, armor=None):\n",
    "        self.name = name\n",
    "        self.weapon = weapon  # Weapon object\n",
    "        self.armor = armor    # Armor object\n",
    "        self.inventory = Inventory()  # Inventory object\n",
    "\n",
    "    def equip_weapon(self, weapon):\n",
    "        self.weapon = weapon\n",
    "\n",
    "    def equip_armor(self, armor):\n",
    "        self.armor = armor\n",
    "\n",
    "    def add_to_inventory(self, item):\n",
    "        self.inventory.add_item(item)\n",
    "\n",
    "    def remove_from_inventory(self, item):\n",
    "        self.inventory.remove_item(item)\n",
    "\n",
    "    def __str__(self):\n",
    "        weapon_str = str(self.weapon) if self.weapon else \"No weapon equipped\"\n",
    "        armor_str = str(self.armor) if self.armor else \"No armor equipped\"\n",
    "        return f\"Character: {self.name}\\n{weapon_str}\\n{armor_str}\\n{self.inventory}\"\n",
    "\n",
    "# Create weapon and armor instances\n",
    "sword = Weapon(name=\"Sword\", damage=50)\n",
    "shield = Armor(name=\"Shield\", defense=30)\n",
    "\n",
    "# Create a character and equip weapon and armor\n",
    "character = Character(name=\"Hero\")\n",
    "character.equip_weapon(sword)\n",
    "character.equip_armor(shield)\n",
    "\n",
    "# Add items to the inventory\n",
    "character.add_to_inventory(\"Health Potion\")\n",
    "character.add_to_inventory(\"Mana Potion\")\n",
    "\n",
    "# Display character information\n",
    "print(character)\n",
    "\n",
    "# Remove an item from the inventory\n",
    "character.remove_from_inventory(\"Mana Potion\")\n",
    "\n",
    "# Display updated character information\n",
    "print(\"\\nUpdated Character Information:\")\n",
    "print(character)\n"
   ]
  },
  {
   "cell_type": "markdown",
   "id": "64f00eea-bb8c-45bb-a110-06ad6de08ec0",
   "metadata": {},
   "source": [
    "### 18. Create a Python class for a house, using composition to represent rooms, furniture, and appliances."
   ]
  },
  {
   "cell_type": "code",
   "execution_count": 110,
   "id": "8dc8d8bf-b081-49a2-85cf-1ce0b800af49",
   "metadata": {},
   "outputs": [
    {
     "name": "stdout",
     "output_type": "stream",
     "text": [
      "House at 123 Elm Street\n",
      "Room: Living Room\n",
      "Furniture: Sofa made of Leather\n",
      "Appliances: Refrigerator with power 150 watts\n",
      "Room: Dining Room\n",
      "Furniture: Dining Table made of Wood\n",
      "Appliances: Oven with power 2000 watts\n"
     ]
    }
   ],
   "source": [
    "class Furniture:\n",
    "    def __init__(self, name, material):\n",
    "        self.name = name\n",
    "        self.material = material\n",
    "\n",
    "    def __str__(self):\n",
    "        return f\"{self.name} made of {self.material}\"\n",
    "class Appliance:\n",
    "    def __init__(self, name, power):\n",
    "        self.name = name\n",
    "        self.power = power  # Power consumption in watts\n",
    "\n",
    "    def __str__(self):\n",
    "        return f\"{self.name} with power {self.power} watts\"\n",
    "\n",
    "class Room:\n",
    "    def __init__(self, name):\n",
    "        self.name = name\n",
    "        self.furniture = []  # List to hold Furniture objects\n",
    "        self.appliances = []  # List to hold Appliance objects\n",
    "\n",
    "    def add_furniture(self, furniture):\n",
    "        self.furniture.append(furniture)\n",
    "\n",
    "    def add_appliance(self, appliance):\n",
    "        self.appliances.append(appliance)\n",
    "\n",
    "    def __str__(self):\n",
    "        furniture_list = ', '.join(str(item) for item in self.furniture)\n",
    "        appliances_list = ', '.join(str(item) for item in self.appliances)\n",
    "        return (f\"Room: {self.name}\\n\"\n",
    "                f\"Furniture: {furniture_list if furniture_list else 'No furniture'}\\n\"\n",
    "                f\"Appliances: {appliances_list if appliances_list else 'No appliances'}\")\n",
    "\n",
    "class House:\n",
    "    def __init__(self, address):\n",
    "        self.address = address\n",
    "        self.rooms = []  # List to hold Room objects\n",
    "\n",
    "    def add_room(self, room):\n",
    "        self.rooms.append(room)\n",
    "\n",
    "    def __str__(self):\n",
    "        room_list = '\\n'.join(str(room) for room in self.rooms)\n",
    "        return f\"House at {self.address}\\n{room_list}\"\n",
    "\n",
    "# Create furniture and appliances\n",
    "sofa = Furniture(name=\"Sofa\", material=\"Leather\")\n",
    "table = Furniture(name=\"Dining Table\", material=\"Wood\")\n",
    "fridge = Appliance(name=\"Refrigerator\", power=150)\n",
    "oven = Appliance(name=\"Oven\", power=2000)\n",
    "\n",
    "# Create rooms and add furniture and appliances\n",
    "living_room = Room(name=\"Living Room\")\n",
    "living_room.add_furniture(sofa)\n",
    "living_room.add_appliance(fridge)\n",
    "\n",
    "dining_room = Room(name=\"Dining Room\")\n",
    "dining_room.add_furniture(table)\n",
    "dining_room.add_appliance(oven)\n",
    "\n",
    "# Create a house and add rooms to it\n",
    "house = House(address=\"123 Elm Street\")\n",
    "house.add_room(living_room)\n",
    "house.add_room(dining_room)\n",
    "\n",
    "# Display house information\n",
    "print(house)\n",
    "\n"
   ]
  },
  {
   "cell_type": "markdown",
   "id": "b2e58961-9dbf-4e25-b90d-d51f0425c242",
   "metadata": {},
   "source": [
    "### 19. How can you achieve flexibility in composed objects by allowing them to be replaced or modified dynamically at runtime?"
   ]
  },
  {
   "cell_type": "markdown",
   "id": "4db6f91d-8269-46b5-b1fa-732584ac67ca",
   "metadata": {},
   "source": [
    "Use abstract base classes or interfaces to define contracts that different implementations can fulfill.\n",
    "\n",
    "Apply dependency injection to dynamically provide or replace dependencies.\n",
    "\n",
    "Utilize composition and delegation to forward method calls and allow component replacement.\n",
    "\n",
    "Employ factory methods to create and manage instances of components.\n",
    "Allow dynamic configuration to adjust behavior at runtime.\n",
    "\n",
    "Design for extensibility following principles that facilitate adding new features without modifying existing code."
   ]
  },
  {
   "cell_type": "code",
   "execution_count": 112,
   "id": "ae8aed55-d897-44c2-a9b8-6813667e6146",
   "metadata": {},
   "outputs": [
    {
     "name": "stdout",
     "output_type": "stream",
     "text": [
      "150\n",
      "2000\n",
      "Engine starting\n",
      "Electric engine starting\n",
      "Engine starting\n",
      "Electric engine starting\n",
      "Engine starting with power 100\n",
      "Engine starting with power 200\n",
      "Luxury room with extra amenities\n"
     ]
    }
   ],
   "source": [
    "from abc import ABC, abstractmethod\n",
    "\n",
    "class Appliance(ABC):\n",
    "    @abstractmethod\n",
    "    def power(self):\n",
    "        pass\n",
    "\n",
    "class Refrigerator(Appliance):\n",
    "    def power(self):\n",
    "        return 150\n",
    "\n",
    "class Oven(Appliance):\n",
    "    def power(self):\n",
    "        return 2000\n",
    "\n",
    "\n",
    "\n",
    "class Room:\n",
    "    def __init__(self):\n",
    "        self.appliance = None\n",
    "\n",
    "    def set_appliance(self, appliance: Appliance):\n",
    "        self.appliance = appliance\n",
    "\n",
    "room = Room()\n",
    "room.set_appliance(Refrigerator())\n",
    "print(room.appliance.power())  # Output: 150\n",
    "\n",
    "room.set_appliance(Oven())\n",
    "print(room.appliance.power())  # Output: 2000\n",
    "\n",
    "\n",
    "class House:\n",
    "    def __init__(self, address, room_factory):\n",
    "        self.address = address\n",
    "        self.rooms = [room_factory() for _ in range(3)]\n",
    "\n",
    "def create_room():\n",
    "    return Room()\n",
    "\n",
    "house = House(\"123 Elm Street\", create_room)\n",
    "\n",
    "\n",
    "class Room:\n",
    "    def __init__(self):\n",
    "        self.appliance = None\n",
    "\n",
    "    def set_appliance(self, appliance):\n",
    "        self.appliance = appliance\n",
    "\n",
    "room = Room()\n",
    "room.set_appliance(Refrigerator())\n",
    "\n",
    "\n",
    "class Engine:\n",
    "    def start(self):\n",
    "        print(\"Engine starting\")\n",
    "\n",
    "class Car:\n",
    "    def __init__(self, engine):\n",
    "        self.engine = engine\n",
    "\n",
    "    def start(self):\n",
    "        self.engine.start()\n",
    "\n",
    "# Using delegation\n",
    "car = Car(Engine())\n",
    "car.start()  # Output: Engine starting\n",
    "\n",
    "class ElectricEngine:\n",
    "    def start(self):\n",
    "        print(\"Electric engine starting\")\n",
    "\n",
    "# Replacing component dynamically\n",
    "car.engine = ElectricEngine()\n",
    "car.start()  # Output: Electric engine starting\n",
    "\n",
    "\n",
    "def create_engine(type):\n",
    "    if type == \"gas\":\n",
    "        return Engine()\n",
    "    elif type == \"electric\":\n",
    "        return ElectricEngine()\n",
    "    else:\n",
    "        raise ValueError(\"Unknown engine type\")\n",
    "\n",
    "car = Car(create_engine(\"gas\"))\n",
    "car.start()  # Output: Engine starting\n",
    "\n",
    "car.engine = create_engine(\"electric\")\n",
    "car.start()  # Output: Electric engine starting\n",
    "\n",
    "\n",
    "\n",
    "class ConfigurableEngine:\n",
    "    def __init__(self):\n",
    "        self.power = 100\n",
    "\n",
    "    def start(self):\n",
    "        print(f\"Engine starting with power {self.power}\")\n",
    "\n",
    "engine = ConfigurableEngine()\n",
    "engine.start()  # Output: Engine starting with power 100\n",
    "\n",
    "engine.power = 200\n",
    "engine.start()  # Output: Engine starting with power 200\n",
    "\n",
    "\n",
    "class BaseRoom:\n",
    "    def description(self):\n",
    "        return \"Basic room\"\n",
    "\n",
    "class LuxuryRoom(BaseRoom):\n",
    "    def description(self):\n",
    "        return \"Luxury room with extra amenities\"\n",
    "\n",
    "# Use polymorphism to replace or modify behavior\n",
    "room = LuxuryRoom()\n",
    "print(room.description())  # Output: Luxury room with extra amenities\n"
   ]
  },
  {
   "cell_type": "markdown",
   "id": "72451486-1a55-403f-9891-76c03216adac",
   "metadata": {},
   "source": [
    "### 20. Create a Python class for a social media application, using composition to represent users, posts, and comments."
   ]
  },
  {
   "cell_type": "code",
   "execution_count": 113,
   "id": "2681fb3f-d4ad-4db4-a3fa-5c38c4468e3e",
   "metadata": {},
   "outputs": [
    {
     "name": "stdout",
     "output_type": "stream",
     "text": [
      "User: alice\n",
      "Posts:\n",
      "Post by alice: Hello, world!\n",
      "Comments:\n",
      "bob: Nice post!\n",
      "\n",
      "----------------------------------------\n",
      "\n",
      "User: bob\n",
      "Posts:\n",
      "Post by bob: Good morning everyone!\n",
      "Comments:\n",
      "alice: Thanks, Bob!\n"
     ]
    }
   ],
   "source": [
    "class Comment:\n",
    "    def __init__(self, user, content):\n",
    "        self.user = user  # User object\n",
    "        self.content = content\n",
    "\n",
    "    def __str__(self):\n",
    "        return f\"{self.user.username}: {self.content}\"\n",
    "\n",
    "class Post:\n",
    "    def __init__(self, user, content):\n",
    "        self.user = user  # User object\n",
    "        self.content = content\n",
    "        self.comments = []  # List to hold Comment objects\n",
    "\n",
    "    def add_comment(self, comment):\n",
    "        self.comments.append(comment)\n",
    "\n",
    "    def __str__(self):\n",
    "        comments_str = '\\n'.join(str(comment) for comment in self.comments)\n",
    "        return (f\"Post by {self.user.username}: {self.content}\\n\"\n",
    "                f\"Comments:\\n{comments_str if comments_str else 'No comments yet'}\")\n",
    "\n",
    "\n",
    "class User:\n",
    "    def __init__(self, username):\n",
    "        self.username = username\n",
    "        self.posts = []  # List to hold Post objects\n",
    "\n",
    "    def create_post(self, content):\n",
    "        post = Post(user=self, content=content)\n",
    "        self.posts.append(post)\n",
    "        return post\n",
    "\n",
    "    def __str__(self):\n",
    "        posts_str = '\\n\\n'.join(str(post) for post in self.posts)\n",
    "        return f\"User: {self.username}\\nPosts:\\n{posts_str if posts_str else 'No posts yet'}\"\n",
    "\n",
    "# Create users\n",
    "user1 = User(username=\"alice\")\n",
    "user2 = User(username=\"bob\")\n",
    "\n",
    "# User1 creates a post\n",
    "post1 = user1.create_post(content=\"Hello, world!\")\n",
    "\n",
    "# User2 creates a post\n",
    "post2 = user2.create_post(content=\"Good morning everyone!\")\n",
    "\n",
    "# Add comments to posts\n",
    "comment1 = Comment(user=user2, content=\"Nice post!\")\n",
    "post1.add_comment(comment1)\n",
    "\n",
    "comment2 = Comment(user=user1, content=\"Thanks, Bob!\")\n",
    "post2.add_comment(comment2)\n",
    "\n",
    "# Display user information including their posts and comments\n",
    "print(user1)\n",
    "print(\"\\n\" + \"-\"*40 + \"\\n\")\n",
    "print(user2)\n"
   ]
  },
  {
   "cell_type": "code",
   "execution_count": null,
   "id": "49a20277-90b0-42f5-a505-4a05ba79a0ad",
   "metadata": {},
   "outputs": [],
   "source": []
  }
 ],
 "metadata": {
  "kernelspec": {
   "display_name": "Python 3 (ipykernel)",
   "language": "python",
   "name": "python3"
  },
  "language_info": {
   "codemirror_mode": {
    "name": "ipython",
    "version": 3
   },
   "file_extension": ".py",
   "mimetype": "text/x-python",
   "name": "python",
   "nbconvert_exporter": "python",
   "pygments_lexer": "ipython3",
   "version": "3.11.7"
  },
  "widgets": {
   "application/vnd.jupyter.widget-state+json": {
    "state": {},
    "version_major": 2,
    "version_minor": 0
   }
  }
 },
 "nbformat": 4,
 "nbformat_minor": 5
}
