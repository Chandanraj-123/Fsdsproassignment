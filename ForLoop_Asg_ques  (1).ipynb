{
 "cells": [
  {
   "cell_type": "markdown",
   "id": "debfa13c-ab31-40b3-b163-4c3d383581c0",
   "metadata": {},
   "source": [
    "Basic Level:"
   ]
  },
  {
   "cell_type": "markdown",
   "id": "806c3337-6150-4e65-871b-5f971151eeb9",
   "metadata": {},
   "source": [
    "1. Write a Python program to print the numbers from 1 to 10 using a `for` loop."
   ]
  },
  {
   "cell_type": "code",
   "execution_count": 3,
   "id": "a336e0d0-f218-411c-84b4-1a9884f404e3",
   "metadata": {},
   "outputs": [
    {
     "name": "stdout",
     "output_type": "stream",
     "text": [
      "1\n",
      "2\n",
      "3\n",
      "4\n",
      "5\n",
      "6\n",
      "7\n",
      "8\n",
      "9\n",
      "10\n"
     ]
    }
   ],
   "source": [
    "for number in range (1,11):\n",
    "    print(number)"
   ]
  },
  {
   "cell_type": "markdown",
   "id": "cab6600c-00a1-4041-8586-6e0b15b68b8d",
   "metadata": {},
   "source": [
    "2. Create a program that calculates the sum of all numbers in a list using a `for` loop."
   ]
  },
  {
   "cell_type": "code",
   "execution_count": 18,
   "id": "9df6ee14-1cb2-40da-aa94-e12a8fa383d9",
   "metadata": {},
   "outputs": [
    {
     "data": {
      "text/plain": [
       "55"
      ]
     },
     "execution_count": 18,
     "metadata": {},
     "output_type": "execute_result"
    }
   ],
   "source": [
    "inti_num=0\n",
    "num=[ number for number in range (1,11)]\n",
    "for i in num:\n",
    "    inti_num+=i\n",
    "inti_num"
   ]
  },
  {
   "cell_type": "markdown",
   "id": "1ff942aa-6f0b-4185-a08c-ba88c4cf630e",
   "metadata": {},
   "source": [
    "3. Write a program to print the characters of a string in reverse order using a `for` loop."
   ]
  },
  {
   "cell_type": "code",
   "execution_count": 55,
   "id": "4109be8f-4ac5-4448-ab6c-470639644cfe",
   "metadata": {},
   "outputs": [
    {
     "data": {
      "text/plain": [
       "'gfe dcba'"
      ]
     },
     "execution_count": 55,
     "metadata": {},
     "output_type": "execute_result"
    }
   ],
   "source": [
    "strings=\"abcd efg\"\n",
    "newstring=\"\"\n",
    "for i in range((len(strings)-1),-1,-1):# start (7), end( -1), step -1 ,\n",
    "    newstring+= strings[i]\n",
    "    \n",
    "newstring   \n"
   ]
  },
  {
   "cell_type": "markdown",
   "id": "a1541c69-7861-4392-bcaf-011175e4f896",
   "metadata": {},
   "source": [
    "4. Develop a program that finds the factorial of a given number using a `for` loop."
   ]
  },
  {
   "cell_type": "code",
   "execution_count": 62,
   "id": "e1f88ad1-f84b-44d6-b130-3a0999fd3c27",
   "metadata": {},
   "outputs": [
    {
     "name": "stdout",
     "output_type": "stream",
     "text": [
      "1\n",
      "2\n",
      "3\n"
     ]
    },
    {
     "data": {
      "text/plain": [
       "6"
      ]
     },
     "execution_count": 62,
     "metadata": {},
     "output_type": "execute_result"
    }
   ],
   "source": [
    "input_number =   3 # int(input(\"Enter a number to calculate its factorial: \"))\n",
    "factorial_result = 1\n",
    "for i in range(1, input_number + 1):\n",
    "    print(i)\n",
    "    factorial_result *= i\n",
    "factorial_result"
   ]
  },
  {
   "cell_type": "markdown",
   "id": "5a154716-c173-4ff1-b068-0de9227b281a",
   "metadata": {},
   "source": [
    "5. Create a program to print the multiplication table of a given number using a `for` loop."
   ]
  },
  {
   "cell_type": "code",
   "execution_count": 3,
   "id": "0cb7ecbe-a4ed-4912-a544-5ab8878e1361",
   "metadata": {},
   "outputs": [
    {
     "name": "stdin",
     "output_type": "stream",
     "text": [
      "Enter a number to calculate its factorial:  2\n"
     ]
    },
    {
     "name": "stdout",
     "output_type": "stream",
     "text": [
      "2  *  1 = 2\n",
      "2  *  2 = 4\n",
      "2  *  3 = 6\n",
      "2  *  4 = 8\n",
      "2  *  5 = 10\n",
      "2  *  6 = 12\n",
      "2  *  7 = 14\n",
      "2  *  8 = 16\n",
      "2  *  9 = 18\n",
      "2  *  10 = 20\n"
     ]
    }
   ],
   "source": [
    "given_number =int(input(\"Enter a number to calculate its factorial: \"))\n",
    "factorial_result = 1\n",
    "for i in range(1, 11):\n",
    "    print( given_number,' * ', i,'=' , 2*i )"
   ]
  },
  {
   "cell_type": "markdown",
   "id": "71bc6e5e-7f39-4475-a335-1e81d9fa6464",
   "metadata": {},
   "source": [
    "6. Write a program that counts the number of even and odd numbers in a list using a `for` loop."
   ]
  },
  {
   "cell_type": "code",
   "execution_count": 11,
   "id": "deb75514-54c9-4db1-9762-239755002606",
   "metadata": {},
   "outputs": [
    {
     "name": "stdout",
     "output_type": "stream",
     "text": [
      "even number count: 14 [2, 4, 6, 8, 10, 12, 14, 16, 18, 20, 22, 24, 26, 28] \n",
      "odd number count: 15 [1, 3, 5, 7, 9, 11, 13, 15, 17, 19, 21, 23, 25, 27, 29]\n"
     ]
    }
   ],
   "source": [
    "even_number=[]\n",
    "odd_number=[]\n",
    "even_count=0\n",
    "odd_count=0\n",
    "for i in range(1,30):\n",
    "    if i%2==0:\n",
    "        even_number.append(i)\n",
    "        \n",
    "        even_count+=1\n",
    "    else:\n",
    "        odd_count+=1\n",
    "        odd_number.append(i)\n",
    "print(\"even number count:\",even_count, even_number, \"\\nodd number count:\",odd_count ,odd_number)\n",
    "        \n",
    "        "
   ]
  },
  {
   "cell_type": "markdown",
   "id": "9c6b9006-49cb-4652-a8eb-bec1033328e6",
   "metadata": {},
   "source": [
    "7. Develop a program that prints the squares of numbers from 1 to 5 using a `for` loop."
   ]
  },
  {
   "cell_type": "code",
   "execution_count": 17,
   "id": "ab396006-14cd-403e-8873-b01f49e2567a",
   "metadata": {},
   "outputs": [
    {
     "data": {
      "text/plain": [
       "[1, 4, 9, 16, 25]"
      ]
     },
     "execution_count": 17,
     "metadata": {},
     "output_type": "execute_result"
    }
   ],
   "source": [
    "squ_num=list(i**2 for i in range(1,6)) \n",
    "squ_num"
   ]
  },
  {
   "cell_type": "markdown",
   "id": "f2b1671b-3076-4dc8-a8f5-3b587688803f",
   "metadata": {},
   "source": [
    "8. Create a program to find the length of a string without using the `len()` function."
   ]
  },
  {
   "cell_type": "code",
   "execution_count": 20,
   "id": "c0f49d35-c14d-4f9d-9f06-2b8d97c6b032",
   "metadata": {},
   "outputs": [
    {
     "data": {
      "text/plain": [
       "8"
      ]
     },
     "execution_count": 20,
     "metadata": {},
     "output_type": "execute_result"
    }
   ],
   "source": [
    "string  ='abcdefgh'\n",
    "len_num=0\n",
    "for i in string:\n",
    "    len_num+=1\n",
    "len_num"
   ]
  },
  {
   "cell_type": "markdown",
   "id": "3eeffe9a-7c37-454f-9fe9-345e2ffbf559",
   "metadata": {},
   "source": [
    "9. Write a program that calculates the average of a list of numbers using a `for` loop."
   ]
  },
  {
   "cell_type": "code",
   "execution_count": 22,
   "id": "2a04e8e2-45c5-4664-8d35-f5800a25e0d6",
   "metadata": {},
   "outputs": [
    {
     "data": {
      "text/plain": [
       "9.0"
      ]
     },
     "execution_count": 22,
     "metadata": {},
     "output_type": "execute_result"
    }
   ],
   "source": [
    "numbers = [3, 6, 9, 12, 15]\n",
    "total_sum = 0\n",
    "count = 0\n",
    "for num in numbers:\n",
    "    total_sum += num\n",
    "    count += 1\n",
    "    average = total_sum / count\n",
    "average"
   ]
  },
  {
   "cell_type": "markdown",
   "id": "b7e64984-71e7-495e-8fb6-5c4f7d2032fc",
   "metadata": {},
   "source": [
    "10. Develop a program that prints the first `n` Fibonacci numbers using a `for` loop."
   ]
  },
  {
   "cell_type": "code",
   "execution_count": 26,
   "id": "fa7adfe2-d3c8-44b1-8f40-ef984e6c43a1",
   "metadata": {},
   "outputs": [
    {
     "data": {
      "text/plain": [
       "[0, 1, 1, 2, 3, 5, 8, 13, 21, 34, 55]"
      ]
     },
     "execution_count": 26,
     "metadata": {},
     "output_type": "execute_result"
    }
   ],
   "source": [
    "n = 10 # int(\"enter the number :\")\n",
    "num_st=[0,1]\n",
    "\n",
    "for  i in range(2 ,n+1):\n",
    "    fab_num=num_st[-1]+ num_st[-2]\n",
    "    num_st.append(fab_num)\n",
    "num_st"
   ]
  },
  {
   "cell_type": "markdown",
   "id": "7692f9a3-ca7d-47c7-8853-edefef4dcef0",
   "metadata": {},
   "source": [
    "INTERMEDIATE LEVEL\n"
   ]
  },
  {
   "cell_type": "markdown",
   "id": "0ede83ca-7922-457c-81fd-f73dbfbeac0b",
   "metadata": {},
   "source": [
    "11. Write a program to check if a given list contains any duplicates using a `for` loop."
   ]
  },
  {
   "cell_type": "code",
   "execution_count": 1,
   "id": "d64ca611-11ef-42ce-8612-d0628527db57",
   "metadata": {},
   "outputs": [
    {
     "name": "stdout",
     "output_type": "stream",
     "text": [
      "True\n"
     ]
    }
   ],
   "source": [
    "lst=[0, 1, 1, 2, 3, 5, 8, 13, 21, 34, 55]\n",
    "n = len(lst)\n",
    "\n",
    "for i in range(n):\n",
    "    for j in range(i + 1, n):\n",
    "        if lst[i] == lst[j]:\n",
    "            print(True)"
   ]
  },
  {
   "cell_type": "markdown",
   "id": "17169d37-5e92-4a9c-b654-b02810f672d9",
   "metadata": {},
   "source": [
    "12.Create a program that prints the prime numbers in a given range using a `for` loop."
   ]
  },
  {
   "cell_type": "code",
   "execution_count": 57,
   "id": "501fcd78-b14a-4498-a54c-7b32ff4de584",
   "metadata": {},
   "outputs": [
    {
     "name": "stdout",
     "output_type": "stream",
     "text": [
      "2\n",
      "3\n",
      "5\n",
      "7\n"
     ]
    }
   ],
   "source": [
    "number = 10 # int(input(\"enter thr number:\")\n",
    "for num in range(1,number+1):\n",
    "   # all prime numbers are greater than 1\n",
    "   if num > 1:\n",
    "        for i in range(2, num):\n",
    "            if (num % i) == 0:\n",
    "                break\n",
    "        else:\n",
    "            print(num)\n",
    "           \n",
    "    "
   ]
  },
  {
   "cell_type": "markdown",
   "id": "6ec0ce8b-aaf2-40ce-a53e-8dbfa8b36201",
   "metadata": {},
   "source": [
    "13. Develop a program that counts the number of vowels in a string using a `for` loop."
   ]
  },
  {
   "cell_type": "code",
   "execution_count": 66,
   "id": "6c7c9419-b325-404f-afb3-0adc6ef86c92",
   "metadata": {},
   "outputs": [
    {
     "name": "stdout",
     "output_type": "stream",
     "text": [
      "1\n"
     ]
    }
   ],
   "source": [
    "string=\"bcdfghdij\"\n",
    "vowels='aeiou'\n",
    "count = 0\n",
    "for i in string:\n",
    "    if i in vowels:\n",
    "        count+=1\n",
    "print(count)"
   ]
  },
  {
   "cell_type": "markdown",
   "id": "54df6b75-908e-407e-9bb8-4686e68eae78",
   "metadata": {},
   "source": [
    "14. Write a program to find the maximum element in a 2D list using a nested `for` loop."
   ]
  },
  {
   "cell_type": "code",
   "execution_count": 71,
   "id": "ab07c74b-8239-41b0-85a9-850bd7d511f1",
   "metadata": {},
   "outputs": [
    {
     "data": {
      "text/plain": [
       "11"
      ]
     },
     "execution_count": 71,
     "metadata": {},
     "output_type": "execute_result"
    }
   ],
   "source": [
    "group_list =[[1,2,3],[4,11,6],[8,9,10]]\n",
    "max_element=0\n",
    "for each_list in group_list:\n",
    "    for element in each_list:\n",
    "        if element > max_element:\n",
    "            max_element = element\n",
    "        else: \n",
    "            break\n",
    "max_element       "
   ]
  },
  {
   "cell_type": "markdown",
   "id": "dab2ab06-be0e-47a1-a629-98b055b06a63",
   "metadata": {},
   "source": [
    "15. Create a program that removes all occurrences of a specific element from a list using a `for` loop."
   ]
  },
  {
   "cell_type": "code",
   "execution_count": 72,
   "id": "ad8aed0f-eeeb-4e31-a2b6-a058588fcfe0",
   "metadata": {},
   "outputs": [
    {
     "data": {
      "text/plain": [
       "[2, 3, 4, 6, 7, 9, 10, 3, 15]"
      ]
     },
     "execution_count": 72,
     "metadata": {},
     "output_type": "execute_result"
    }
   ],
   "source": [
    "list_a = [1,2,3,4,5,6,7,8,9,10,1,3,15]\n",
    "list_b = [1,5,8,13]\n",
    "for num in list_a:\n",
    "    if num in list_b:\n",
    "        list_a.remove(num)\n",
    "list_a"
   ]
  },
  {
   "cell_type": "markdown",
   "id": "aa7c4d96-b0af-43ff-9fc0-e4f52e40a3e1",
   "metadata": {},
   "source": [
    "16. Develop a program that generates a multiplication table for numbers from 1 to 5 using a nested `for` loop."
   ]
  },
  {
   "cell_type": "code",
   "execution_count": 74,
   "id": "ebce13c2-501c-44dd-beeb-740941f2f8dc",
   "metadata": {},
   "outputs": [
    {
     "name": "stdout",
     "output_type": "stream",
     "text": [
      "1 * 1 = 1\n",
      "1 * 2 = 2\n",
      "1 * 3 = 3\n",
      "1 * 4 = 4\n",
      "1 * 5 = 5\n",
      "1 * 6 = 6\n",
      "1 * 7 = 7\n",
      "1 * 8 = 8\n",
      "1 * 9 = 9\n",
      "1 * 10 = 10\n",
      "2 * 1 = 2\n",
      "2 * 2 = 4\n",
      "2 * 3 = 6\n",
      "2 * 4 = 8\n",
      "2 * 5 = 10\n",
      "2 * 6 = 12\n",
      "2 * 7 = 14\n",
      "2 * 8 = 16\n",
      "2 * 9 = 18\n",
      "2 * 10 = 20\n",
      "3 * 1 = 3\n",
      "3 * 2 = 6\n",
      "3 * 3 = 9\n",
      "3 * 4 = 12\n",
      "3 * 5 = 15\n",
      "3 * 6 = 18\n",
      "3 * 7 = 21\n",
      "3 * 8 = 24\n",
      "3 * 9 = 27\n",
      "3 * 10 = 30\n",
      "4 * 1 = 4\n",
      "4 * 2 = 8\n",
      "4 * 3 = 12\n",
      "4 * 4 = 16\n",
      "4 * 5 = 20\n",
      "4 * 6 = 24\n",
      "4 * 7 = 28\n",
      "4 * 8 = 32\n",
      "4 * 9 = 36\n",
      "4 * 10 = 40\n",
      "5 * 1 = 5\n",
      "5 * 2 = 10\n",
      "5 * 3 = 15\n",
      "5 * 4 = 20\n",
      "5 * 5 = 25\n",
      "5 * 6 = 30\n",
      "5 * 7 = 35\n",
      "5 * 8 = 40\n",
      "5 * 9 = 45\n",
      "5 * 10 = 50\n"
     ]
    }
   ],
   "source": [
    "interval = 5\n",
    "for mul_num in range(1,interval + 1):\n",
    "    for i  in  range(1,11):\n",
    "        print(mul_num ,\"*\", i ,'=',mul_num*i)"
   ]
  },
  {
   "cell_type": "markdown",
   "id": "54e725cd-5ed0-4a06-9086-0543e4ea9a9b",
   "metadata": {},
   "source": [
    "17. Write a program that converts a list of Fahrenheit temperatures to Celsius using a `for` loop."
   ]
  },
  {
   "cell_type": "code",
   "execution_count": 75,
   "id": "ec41cb6e-da9f-4113-bf43-3b4be6248e74",
   "metadata": {},
   "outputs": [
    {
     "data": {
      "text/plain": [
       "[126.0, 343.8, 41.4, 743.4]"
      ]
     },
     "execution_count": 75,
     "metadata": {},
     "output_type": "execute_result"
    }
   ],
   "source": [
    "f_temp=[102,223,55,445]\n",
    "c_temp =[]\n",
    "for temp in f_temp:\n",
    "    c_temp.append(((temp-32)*(9/5)))\n",
    "c_temp    "
   ]
  },
  {
   "cell_type": "markdown",
   "id": "e4a7480d-5ac7-4f94-a46d-86e8937d90ab",
   "metadata": {},
   "source": [
    "18. Create a program to print the common elements from two lists using a `for` loop."
   ]
  },
  {
   "cell_type": "code",
   "execution_count": 78,
   "id": "2e7284bf-8dbe-436d-8054-332a565beb3a",
   "metadata": {},
   "outputs": [
    {
     "name": "stdout",
     "output_type": "stream",
     "text": [
      "1\n",
      "5\n",
      "8\n"
     ]
    }
   ],
   "source": [
    "list_a = [1,2,3,4,5,6,7,8,9,10,3,15]\n",
    "list_b = [1,5,8,13]\n",
    "for i in  list_a:\n",
    "    if i in list_b:\n",
    "        print(i)"
   ]
  },
  {
   "cell_type": "markdown",
   "id": "1ba1f974-f94a-4175-b3db-eb9bcb55be71",
   "metadata": {},
   "source": [
    "Develop a program that prints the pattern of right-angled triangles using a `for` loop. Use ‘*’ to draw the\n",
    "pattern"
   ]
  },
  {
   "cell_type": "code",
   "execution_count": 98,
   "id": "d4c1ddeb-6908-40d9-8027-ad5b0428d7fd",
   "metadata": {},
   "outputs": [
    {
     "name": "stdout",
     "output_type": "stream",
     "text": [
      "* \n",
      "* * \n",
      "* * * \n",
      "* * * * \n",
      "* * * * * \n"
     ]
    }
   ],
   "source": [
    "n=5#int(input(\"Enter the number of rows:\")) \n",
    "for i in range(1,n+1): # number of rows\n",
    "    for j in range(1,i+1): # number of element to print\n",
    "        print(\"*\",end=' ') # which element to be print and end specify end with space.\n",
    "    print() # next line \n",
    "    "
   ]
  },
  {
   "cell_type": "markdown",
   "id": "cc67438a-e186-47a3-a56e-f553c0c5e1ec",
   "metadata": {},
   "source": [
    "20. Write a program to find the greatest common divisor (GCD) of two numbers using a `for` loop."
   ]
  },
  {
   "cell_type": "code",
   "execution_count": 109,
   "id": "0ac91709-46f2-4825-8e99-d60253c055c7",
   "metadata": {},
   "outputs": [
    {
     "data": {
      "text/plain": [
       "12"
      ]
     },
     "execution_count": 109,
     "metadata": {},
     "output_type": "execute_result"
    }
   ],
   "source": [
    "a = 36\n",
    "b = 48\n",
    "\n",
    "if a < b:\n",
    "    a, b = b, a\n",
    "\n",
    "    # Initialize the GCD to the smaller number\n",
    "    gcd = b\n",
    " \n",
    "\n",
    "    # Iterate from the smaller number down to 1\n",
    "    for i in range(gcd, 0, -1):\n",
    "      \n",
    "        if a % i == 0 and b % i == 0:\n",
    "            # i is the greatest common divisor\n",
    "            gcd = i\n",
    "            break\n",
    "gcd\n",
    "\n",
    "\n"
   ]
  },
  {
   "cell_type": "markdown",
   "id": "fb6b1388-8416-4980-a70c-4d798120e025",
   "metadata": {},
   "source": [
    "21. Create a program that calculates the sum of the digits of numbers in a list using a list comprehension."
   ]
  },
  {
   "cell_type": "code",
   "execution_count": 118,
   "id": "fc8e3f49-564f-49cd-92e6-cf82d0a15dec",
   "metadata": {},
   "outputs": [
    {
     "name": "stdout",
     "output_type": "stream",
     "text": [
      "Original List: [123, 456, 789]\n",
      "Sum of digits for each number: [6, 15, 24]\n"
     ]
    }
   ],
   "source": [
    "def calculate_digit_sum(num):\n",
    "    return sum(int(digit) for digit in str(num))\n",
    "\n",
    "# Example list of numbers\n",
    "numbers_list = [123, 456, 789]\n",
    "\n",
    "# Calculate and print the sum of digits for each number\n",
    "digit_sums = [calculate_digit_sum(num) for num in numbers_list]\n",
    "\n",
    "print(\"Original List:\", numbers_list)\n",
    "print(\"Sum of digits for each number:\", digit_sums)\n"
   ]
  },
  {
   "cell_type": "markdown",
   "id": "8d3aef85-0620-4211-b5a1-b44864b2a784",
   "metadata": {},
   "source": [
    "22. Write a program to find the prime factors of a given number using a `for` loop and list comprehension."
   ]
  },
  {
   "cell_type": "code",
   "execution_count": 1,
   "id": "7c55a6cd-ff9a-400a-8fef-c0be28f774d0",
   "metadata": {},
   "outputs": [
    {
     "name": "stdout",
     "output_type": "stream",
     "text": [
      "Prime factors of 100: [2, 5]\n"
     ]
    }
   ],
   "source": [
    "def is_prime(num):\n",
    "    if num < 2:\n",
    "        return False\n",
    "    for i in range(2, int(num**0.5) + 1):\n",
    "        if num % i == 0:\n",
    "            return False\n",
    "    return True\n",
    "\n",
    "def prime_factors(number):\n",
    "    factors = [i for i in range(2, number + 1) if number % i == 0 and is_prime(i)]\n",
    "    return factors\n",
    "\n",
    "# Example number\n",
    "given_number = 100\n",
    "\n",
    "\n",
    "# Find and print the prime factors\n",
    "factors_result = prime_factors(given_number)\n",
    "print(f\"Prime factors of {given_number}: {factors_result}\")\n",
    "\n"
   ]
  },
  {
   "cell_type": "markdown",
   "id": "f244e38b-7e64-4758-8a75-b66716436eea",
   "metadata": {},
   "source": [
    "23. Develop a program that extracts unique elements from a list and stores them in a new list using a list\n",
    "comprehension."
   ]
  },
  {
   "cell_type": "code",
   "execution_count": 6,
   "id": "8402ffcd-d8bc-42c3-9cda-f18f85e7114a",
   "metadata": {},
   "outputs": [
    {
     "name": "stdout",
     "output_type": "stream",
     "text": [
      "Original List: [1, 2, 2, 3, 4, 4, 5, 6, 6, 7]\n",
      "List with Unique Elements: [1, 2, 3, 4, 5, 6, 7]\n"
     ]
    }
   ],
   "source": [
    "# Example list\n",
    "original_list = [1, 2, 2, 3, 4, 4, 5, 6, 6, 7]\n",
    "\n",
    "# Extract unique elements using list comprehension\n",
    "unique_elements = list(set(element for element in original_list))\n",
    "\n",
    "# Print the original and new lists\n",
    "print(\"Original List:\", original_list)\n",
    "print(\"List with Unique Elements:\", unique_elements)\n"
   ]
  },
  {
   "cell_type": "markdown",
   "id": "f61c8463-3de8-4544-84e2-11457435c238",
   "metadata": {},
   "source": [
    "24. Create a program that generates a list of all palindromic numbers up to a specified limit using a list\n",
    "comprehension."
   ]
  },
  {
   "cell_type": "code",
   "execution_count": 1,
   "id": "e44ff85a-d9f3-48ef-aab9-0cc221fc9ed5",
   "metadata": {},
   "outputs": [
    {
     "name": "stdin",
     "output_type": "stream",
     "text": [
      "Enter the limit for palindromic numbers:  143\n"
     ]
    },
    {
     "name": "stdout",
     "output_type": "stream",
     "text": [
      "Palindromic numbers up to 143: [0, 1, 2, 3, 4, 5, 6, 7, 8, 9, 11, 22, 33, 44, 55, 66, 77, 88, 99, 101, 111, 121, 131, 141]\n"
     ]
    }
   ],
   "source": [
    "def is_palindrome(number):\n",
    "    # Function to check if a number is palindrome\n",
    "    return str(number) == str(number)[::-1]\n",
    "\n",
    "def generate_palindromic_numbers(limit):\n",
    "    # List comprehension to generate palindromic numbers up to the specified limit\n",
    "    return [num for num in range(limit + 1) if is_palindrome(num)]\n",
    "\n",
    "# Specify the limit\n",
    "limit = int(input(\"Enter the limit for palindromic numbers: \"))\n",
    "\n",
    "# Generate and print the list of palindromic numbers\n",
    "palindromic_numbers = generate_palindromic_numbers(limit)\n",
    "print(f\"Palindromic numbers up to {limit}: {palindromic_numbers}\")"
   ]
  },
  {
   "cell_type": "markdown",
   "id": "ff3c51ba-8118-4e35-af3f-5a6f6d66d3c2",
   "metadata": {},
   "source": [
    "25. Write a program to flatten a nested list using list comprehension."
   ]
  },
  {
   "cell_type": "code",
   "execution_count": 2,
   "id": "291bf71b-dfaf-41a4-9842-5d812cbe8065",
   "metadata": {},
   "outputs": [
    {
     "data": {
      "text/plain": [
       "[1, 2, 3, 4, 5, 6, 7, 8]"
      ]
     },
     "execution_count": 2,
     "metadata": {},
     "output_type": "execute_result"
    }
   ],
   "source": [
    "nested_list = [[1, 2, 3], [4, 5], [6, 7, 8]]\n",
    "flattened_list=[item for sublist in nested_list for item in sublist]\n",
    "flattened_list"
   ]
  },
  {
   "cell_type": "markdown",
   "id": "b3186a5a-fe05-4bdd-9a08-4604523d9051",
   "metadata": {},
   "source": [
    "26. Develop a program that computes the sum of even and odd numbers in a list separately using list\n",
    "comprehension."
   ]
  },
  {
   "cell_type": "code",
   "execution_count": 5,
   "id": "ec6ca202-d20b-4aa7-aaea-d6c525346d0d",
   "metadata": {},
   "outputs": [
    {
     "name": "stdout",
     "output_type": "stream",
     "text": [
      "20 25\n"
     ]
    }
   ],
   "source": [
    "numbers_list = [1, 2, 3, 4, 5, 6, 7, 8, 9]\n",
    "even_sum = sum([num for num in numbers_list if num % 2 == 0])\n",
    "odd_sum = sum([num for num in numbers_list if num % 2 != 0])\n",
    "print(even_sum , odd_sum)"
   ]
  },
  {
   "cell_type": "markdown",
   "id": "1bac1b3a-f279-4712-9316-b8f836965273",
   "metadata": {},
   "source": [
    "27. Create a program that generates a list of squares of odd numbers between 1 and 10 using list comprehension."
   ]
  },
  {
   "cell_type": "code",
   "execution_count": 8,
   "id": "f16beaa8-4eef-4d07-8ce5-c6c3ad30d85c",
   "metadata": {},
   "outputs": [
    {
     "name": "stdout",
     "output_type": "stream",
     "text": [
      "[1, 9, 25, 49, 81]\n"
     ]
    }
   ],
   "source": [
    "numbers_list = [1, 2, 3, 4, 5, 6, 7, 8, 9,10]\n",
    "\n",
    "odd_sqr = ([num*num for num in numbers_list if num % 2 != 0])\n",
    "print( odd_sqr)"
   ]
  },
  {
   "cell_type": "markdown",
   "id": "fb0462b0-041e-46be-ae99-e8e6958ff557",
   "metadata": {},
   "source": [
    "28. Write a program that combines two lists into a dictionary using list comprehension."
   ]
  },
  {
   "cell_type": "code",
   "execution_count": 10,
   "id": "a2940349-aacb-4c10-8b3b-022cc510e605",
   "metadata": {},
   "outputs": [
    {
     "name": "stdout",
     "output_type": "stream",
     "text": [
      "{'name': 'John', 'age': 25, 'city': 'New York'}\n"
     ]
    }
   ],
   "source": [
    "keys_list = [\"name\", \"age\", \"city\"]\n",
    "values_list = [\"John\", 25, \"New York\"]\n",
    "combined_dict = {key: value for key, value in zip(keys_list, values_list)}\n",
    "print(combined_dict)"
   ]
  },
  {
   "cell_type": "markdown",
   "id": "4abc8d10-94a5-4481-9996-2c5112c3372f",
   "metadata": {},
   "source": [
    "29. Develop a program that extracts the vowels from a string and stores them in a list using list comprehension."
   ]
  },
  {
   "cell_type": "code",
   "execution_count": 12,
   "id": "f21c961e-3b31-4635-9568-56760301f14e",
   "metadata": {},
   "outputs": [
    {
     "data": {
      "text/plain": [
       "['e', 'o', 'o', 'o', 'a', 'e', 'o', 'u']"
      ]
     },
     "execution_count": 12,
     "metadata": {},
     "output_type": "execute_result"
    }
   ],
   "source": [
    "input_string = \"Hello, World! How are you?\"\n",
    "vowels = [char for char in input_string if char.lower() in 'aeiou']\n",
    "vowels"
   ]
  },
  {
   "cell_type": "markdown",
   "id": "a510d471-8d38-46b1-85d4-ddf23b5aa4ec",
   "metadata": {},
   "source": [
    "30. Create a program that removes all non-numeric characters from a list of strings using list comprehension."
   ]
  },
  {
   "cell_type": "code",
   "execution_count": 16,
   "id": "ad1e7c82-4784-4010-8d1b-6652370228cb",
   "metadata": {},
   "outputs": [
    {
     "data": {
      "text/plain": [
       "['123']"
      ]
     },
     "execution_count": 16,
     "metadata": {},
     "output_type": "execute_result"
    }
   ],
   "source": [
    "strings_list = \"abc123\"\n",
    "numeric_strings_list=[''.join(char for char in strings_list  if char.isdigit())]\n",
    "numeric_strings_list"
   ]
  },
  {
   "cell_type": "markdown",
   "id": "8725af6d-59e1-4b9c-a01f-cb41e7125fc6",
   "metadata": {},
   "source": [
    "Challenge Level:"
   ]
  },
  {
   "cell_type": "markdown",
   "id": "f485286c-fa9d-462a-8a08-3195a1a0b1e7",
   "metadata": {},
   "source": [
    "31. Write a program to generate a list of prime numbers using the Sieve of Eratosthenes algorithm and list\n",
    "comprehension."
   ]
  },
  {
   "cell_type": "code",
   "execution_count": 17,
   "id": "f2b3331e-c565-47a6-bcdf-84f0796b1479",
   "metadata": {},
   "outputs": [
    {
     "name": "stdin",
     "output_type": "stream",
     "text": [
      "Enter the limit for prime numbers:  30\n"
     ]
    },
    {
     "name": "stdout",
     "output_type": "stream",
     "text": [
      "Prime numbers up to 30: [2, 3, 5, 7, 11, 13, 17, 19, 23, 29]\n"
     ]
    }
   ],
   "source": [
    "def sieve_of_eratosthenes(limit):\n",
    "    # Generate a list of prime numbers up to the specified limit using the Sieve of Eratosthenes\n",
    "    primes = [True] * (limit + 1)\n",
    "    primes[0], primes[1] = False, False  # 0 and 1 are not prime numbers\n",
    "\n",
    "    for i in range(2, int(limit**0.5) + 1):\n",
    "        if primes[i]:\n",
    "            primes[i*i:limit+1:i] = [False] * len(range(i*i, limit+1, i))\n",
    "\n",
    "    return [num for num in range(2, limit + 1) if primes[num]]\n",
    "\n",
    "# Specify the limit for prime numbers\n",
    "limit = int(input(\"Enter the limit for prime numbers: \"))\n",
    "\n",
    "# Generate and print the list of prime numbers\n",
    "prime_numbers = sieve_of_eratosthenes(limit)\n",
    "print(f\"Prime numbers up to {limit}: {prime_numbers}\")\n"
   ]
  },
  {
   "cell_type": "markdown",
   "id": "253806fc-9c64-4215-9ab5-0023900ab587",
   "metadata": {},
   "source": [
    "32. Create a program that generates a list of all Pythagorean triplets up to a specified limit using list\n",
    "comprehension."
   ]
  },
  {
   "cell_type": "code",
   "execution_count": 20,
   "id": "a32095f5-488d-4b20-b46a-7edec3567fdc",
   "metadata": {},
   "outputs": [
    {
     "name": "stdin",
     "output_type": "stream",
     "text": [
      "Enter the limit for Pythagorean triplets:  20\n"
     ]
    },
    {
     "data": {
      "text/plain": [
       "[(3, 4, 5), (5, 12, 13), (6, 8, 10), (8, 15, 17), (9, 12, 15), (12, 16, 20)]"
      ]
     },
     "execution_count": 20,
     "metadata": {},
     "output_type": "execute_result"
    }
   ],
   "source": [
    "limit = int(input(\"Enter the limit for Pythagorean triplets: \"))\n",
    "triplets = [(a, b, c) for a in range(1, limit + 1) for b in range(a, limit + 1) for c in range(b, limit + 1) if a**2 + b**2 == c**2]\n",
    "triplets"
   ]
  },
  {
   "cell_type": "markdown",
   "id": "99282e06-a795-4cc4-aab0-4820873a3eb9",
   "metadata": {},
   "source": [
    "33. Develop a program that generates a list of all possible combinations of two lists using list comprehension."
   ]
  },
  {
   "cell_type": "code",
   "execution_count": 21,
   "id": "5f8fbccd-f27a-4636-a2f8-2f6ef5e21d2c",
   "metadata": {},
   "outputs": [
    {
     "data": {
      "text/plain": [
       "[(1, 'a'),\n",
       " (1, 'b'),\n",
       " (1, 'c'),\n",
       " (2, 'a'),\n",
       " (2, 'b'),\n",
       " (2, 'c'),\n",
       " (3, 'a'),\n",
       " (3, 'b'),\n",
       " (3, 'c')]"
      ]
     },
     "execution_count": 21,
     "metadata": {},
     "output_type": "execute_result"
    }
   ],
   "source": [
    "list1 = [1, 2, 3]\n",
    "list2 = ['a', 'b', 'c']\n",
    "combinations = [(x, y) for x in list1 for y in list2]\n",
    "combinations"
   ]
  },
  {
   "cell_type": "markdown",
   "id": "fc00d0d0-82cc-45b2-bc0c-eff4af34e14d",
   "metadata": {},
   "source": [
    "34. Write a program that calculates the mean, median, and mode of a list of numbers using list comprehension."
   ]
  },
  {
   "cell_type": "code",
   "execution_count": 26,
   "id": "75b3e4fe-f3c6-49b7-8e20-5831adab1190",
   "metadata": {},
   "outputs": [
    {
     "name": "stdout",
     "output_type": "stream",
     "text": [
      "5 3 5\n"
     ]
    }
   ],
   "source": [
    "from statistics  import mode ,median, mean\n",
    "number=[3,5,4,6,9,7,1,3,5]\n",
    "mean_list =  round(sum(number)/len(number))\n",
    "median_list = median(number)\n",
    "mode_list =  mode(number)\n",
    "print(mean_list, mode_list,median_list)"
   ]
  },
  {
   "cell_type": "markdown",
   "id": "965e68dc-c981-4893-943b-29322dd4d8ed",
   "metadata": {},
   "source": [
    "35. Create a program that generates Pascal's triangle up to a specified number of rows using list\n",
    "comprehension."
   ]
  },
  {
   "cell_type": "code",
   "execution_count": 15,
   "id": "57a0d93e-8082-4428-9be9-8d0ebae0a649",
   "metadata": {},
   "outputs": [
    {
     "ename": "NameError",
     "evalue": "free variable 'triangle' referenced before assignment in enclosing scope",
     "output_type": "error",
     "traceback": [
      "\u001b[0;31m---------------------------------------------------------------------------\u001b[0m",
      "\u001b[0;31mNameError\u001b[0m                                 Traceback (most recent call last)",
      "Cell \u001b[0;32mIn[15], line 11\u001b[0m\n\u001b[1;32m      9\u001b[0m \u001b[38;5;66;03m# Example: Generate Pascal's Triangle with 5 rows\u001b[39;00m\n\u001b[1;32m     10\u001b[0m num_rows \u001b[38;5;241m=\u001b[39m \u001b[38;5;241m5\u001b[39m\n\u001b[0;32m---> 11\u001b[0m pascals_triangle \u001b[38;5;241m=\u001b[39m \u001b[43mgenerate_pascals_triangle\u001b[49m\u001b[43m(\u001b[49m\u001b[43mnum_rows\u001b[49m\u001b[43m)\u001b[49m\n\u001b[1;32m     13\u001b[0m \u001b[38;5;66;03m# Display the triangle\u001b[39;00m\n\u001b[1;32m     14\u001b[0m display_triangle(pascals_triangle)\n",
      "Cell \u001b[0;32mIn[15], line 2\u001b[0m, in \u001b[0;36mgenerate_pascals_triangle\u001b[0;34m(num_rows)\u001b[0m\n\u001b[1;32m      1\u001b[0m \u001b[38;5;28;01mdef\u001b[39;00m \u001b[38;5;21mgenerate_pascals_triangle\u001b[39m(num_rows):\n\u001b[0;32m----> 2\u001b[0m     triangle \u001b[38;5;241m=\u001b[39m [[\u001b[38;5;241m1\u001b[39m] \u001b[38;5;28;01mif\u001b[39;00m i \u001b[38;5;241m==\u001b[39m \u001b[38;5;241m0\u001b[39m \u001b[38;5;28;01melse\u001b[39;00m [\u001b[38;5;241m1\u001b[39m, \u001b[38;5;241m1\u001b[39m] \u001b[38;5;28;01mif\u001b[39;00m i \u001b[38;5;241m==\u001b[39m \u001b[38;5;241m1\u001b[39m \u001b[38;5;28;01melse\u001b[39;00m [\u001b[38;5;241m1\u001b[39m] \u001b[38;5;241m+\u001b[39m [triangle[i\u001b[38;5;241m-\u001b[39m\u001b[38;5;241m1\u001b[39m][j\u001b[38;5;241m-\u001b[39m\u001b[38;5;241m1\u001b[39m] \u001b[38;5;241m+\u001b[39m triangle[i\u001b[38;5;241m-\u001b[39m\u001b[38;5;241m1\u001b[39m][j] \u001b[38;5;28;01mfor\u001b[39;00m j \u001b[38;5;129;01min\u001b[39;00m \u001b[38;5;28mrange\u001b[39m(\u001b[38;5;241m1\u001b[39m, i)] \u001b[38;5;241m+\u001b[39m [\u001b[38;5;241m1\u001b[39m] \u001b[38;5;28;01mfor\u001b[39;00m i \u001b[38;5;129;01min\u001b[39;00m \u001b[38;5;28mrange\u001b[39m(num_rows)]\n\u001b[1;32m      3\u001b[0m     \u001b[38;5;28;01mreturn\u001b[39;00m triangle\n",
      "Cell \u001b[0;32mIn[15], line 2\u001b[0m, in \u001b[0;36m<listcomp>\u001b[0;34m(.0)\u001b[0m\n\u001b[1;32m      1\u001b[0m \u001b[38;5;28;01mdef\u001b[39;00m \u001b[38;5;21mgenerate_pascals_triangle\u001b[39m(num_rows):\n\u001b[0;32m----> 2\u001b[0m     triangle \u001b[38;5;241m=\u001b[39m [[\u001b[38;5;241m1\u001b[39m] \u001b[38;5;28;01mif\u001b[39;00m i \u001b[38;5;241m==\u001b[39m \u001b[38;5;241m0\u001b[39m \u001b[38;5;28;01melse\u001b[39;00m [\u001b[38;5;241m1\u001b[39m, \u001b[38;5;241m1\u001b[39m] \u001b[38;5;28;01mif\u001b[39;00m i \u001b[38;5;241m==\u001b[39m \u001b[38;5;241m1\u001b[39m \u001b[38;5;28;01melse\u001b[39;00m [\u001b[38;5;241m1\u001b[39m] \u001b[38;5;241m+\u001b[39m [triangle[i\u001b[38;5;241m-\u001b[39m\u001b[38;5;241m1\u001b[39m][j\u001b[38;5;241m-\u001b[39m\u001b[38;5;241m1\u001b[39m] \u001b[38;5;241m+\u001b[39m triangle[i\u001b[38;5;241m-\u001b[39m\u001b[38;5;241m1\u001b[39m][j] \u001b[38;5;28;01mfor\u001b[39;00m j \u001b[38;5;129;01min\u001b[39;00m \u001b[38;5;28mrange\u001b[39m(\u001b[38;5;241m1\u001b[39m, i)] \u001b[38;5;241m+\u001b[39m [\u001b[38;5;241m1\u001b[39m] \u001b[38;5;28;01mfor\u001b[39;00m i \u001b[38;5;129;01min\u001b[39;00m \u001b[38;5;28mrange\u001b[39m(num_rows)]\n\u001b[1;32m      3\u001b[0m     \u001b[38;5;28;01mreturn\u001b[39;00m triangle\n",
      "Cell \u001b[0;32mIn[15], line 2\u001b[0m, in \u001b[0;36m<listcomp>\u001b[0;34m(.0)\u001b[0m\n\u001b[1;32m      1\u001b[0m \u001b[38;5;28;01mdef\u001b[39;00m \u001b[38;5;21mgenerate_pascals_triangle\u001b[39m(num_rows):\n\u001b[0;32m----> 2\u001b[0m     triangle \u001b[38;5;241m=\u001b[39m [[\u001b[38;5;241m1\u001b[39m] \u001b[38;5;28;01mif\u001b[39;00m i \u001b[38;5;241m==\u001b[39m \u001b[38;5;241m0\u001b[39m \u001b[38;5;28;01melse\u001b[39;00m [\u001b[38;5;241m1\u001b[39m, \u001b[38;5;241m1\u001b[39m] \u001b[38;5;28;01mif\u001b[39;00m i \u001b[38;5;241m==\u001b[39m \u001b[38;5;241m1\u001b[39m \u001b[38;5;28;01melse\u001b[39;00m [\u001b[38;5;241m1\u001b[39m] \u001b[38;5;241m+\u001b[39m [\u001b[43mtriangle\u001b[49m[i\u001b[38;5;241m-\u001b[39m\u001b[38;5;241m1\u001b[39m][j\u001b[38;5;241m-\u001b[39m\u001b[38;5;241m1\u001b[39m] \u001b[38;5;241m+\u001b[39m triangle[i\u001b[38;5;241m-\u001b[39m\u001b[38;5;241m1\u001b[39m][j] \u001b[38;5;28;01mfor\u001b[39;00m j \u001b[38;5;129;01min\u001b[39;00m \u001b[38;5;28mrange\u001b[39m(\u001b[38;5;241m1\u001b[39m, i)] \u001b[38;5;241m+\u001b[39m [\u001b[38;5;241m1\u001b[39m] \u001b[38;5;28;01mfor\u001b[39;00m i \u001b[38;5;129;01min\u001b[39;00m \u001b[38;5;28mrange\u001b[39m(num_rows)]\n\u001b[1;32m      3\u001b[0m     \u001b[38;5;28;01mreturn\u001b[39;00m triangle\n",
      "\u001b[0;31mNameError\u001b[0m: free variable 'triangle' referenced before assignment in enclosing scope"
     ]
    }
   ],
   "source": [
    "def generate_pascals_triangle(num_rows):\n",
    "    triangle = [[1] if i == 0 else [1, 1] if i == 1 else [1] + [triangle[i-1][j-1] + triangle[i-1][j] for j in range(1, i)] + [1] for i in range(num_rows)]\n",
    "    return triangle\n",
    "\n",
    "def display_triangle(triangle):\n",
    "    for row in triangle:\n",
    "        print(\" \".join(map(str, row)).center(len(triangle[-1]) * 3))\n",
    "\n",
    "# Example: Generate Pascal's Triangle with 5 rows\n",
    "num_rows = 5\n",
    "pascals_triangle = generate_pascals_triangle(num_rows)\n",
    "\n",
    "# Display the triangle\n",
    "display_triangle(pascals_triangle)\n",
    "\n",
    "# please consider the code , i run the same code in local IDE i got output but in pwskill giving error. so please check the code while evaluating . \n",
    "# Because the code provided PW skill support mentor  https://codeshare.io/loXRvm\n"
   ]
  },
  {
   "cell_type": "markdown",
   "id": "44602033-825b-4d51-91df-50d5d531fdef",
   "metadata": {},
   "source": [
    "36. Develop a program that calculates the sum of the digits of a factorial of numbers from 1 to 5 using list\n",
    "comprehension."
   ]
  },
  {
   "cell_type": "code",
   "execution_count": 18,
   "id": "1422e2db-21b5-477a-a47a-4b037d4f9d8b",
   "metadata": {},
   "outputs": [
    {
     "name": "stdout",
     "output_type": "stream",
     "text": [
      "Sum of digits of 1! = 1\n",
      "Sum of digits of 2! = 2\n",
      "Sum of digits of 3! = 6\n",
      "Sum of digits of 4! = 6\n",
      "Sum of digits of 5! = 3\n"
     ]
    }
   ],
   "source": [
    "import math\n",
    "factorial_num = 5\n",
    "digit_sum = [sum(int(digit) for digit in str(math.factorial(i))) for i  in range (1,factorial_num+1)]\n",
    "for i, digit_sum in enumerate(digit_sum, start=1):\n",
    "    print(f\"Sum of digits of {i}! = {digit_sum}\")"
   ]
  },
  {
   "cell_type": "markdown",
   "id": "42715125-415d-4520-93d2-b9c3e915197c",
   "metadata": {},
   "source": [
    "37. Write a program that finds the longest word in a sentence using list comprehension."
   ]
  },
  {
   "cell_type": "code",
   "execution_count": 32,
   "id": "5ea4016a-8f6f-4ee5-a612-db8838f9840d",
   "metadata": {},
   "outputs": [
    {
     "data": {
      "text/plain": [
       "'longestss'"
      ]
     },
     "execution_count": 32,
     "metadata": {},
     "output_type": "execute_result"
    }
   ],
   "source": [
    "input_sentence = \"This is an example sentence to find the longestss word.\"\n",
    "words = input_sentence.split()\n",
    "longest_word=max(words, key = len)\n",
    "longest_word"
   ]
  },
  {
   "cell_type": "markdown",
   "id": "7efd7bfa-28c8-4e80-9fd1-9e4836e4251f",
   "metadata": {},
   "source": [
    "38. Create a program that filters a list of strings to include only those with more than three vowels using list\n",
    "comprehension."
   ]
  },
  {
   "cell_type": "code",
   "execution_count": 47,
   "id": "8f4cd73a-ac8a-4b64-821c-ad3a218d45be",
   "metadata": {},
   "outputs": [
    {
     "data": {
      "text/plain": [
       "['language']"
      ]
     },
     "execution_count": 47,
     "metadata": {},
     "output_type": "execute_result"
    }
   ],
   "source": [
    "string_list = [\"hello\", \"world\", \"python\", \"programming\", \"ai\", \"language\"]\n",
    "vowel_threshold = 3\n",
    "filtered_string = [word for word in string_list if (sum(1 for char in word.lower()  if char in 'aeiou'))>vowel_threshold]\n",
    "#1 for char in word.lower() if char in 'aeiou': This is a generator expression that generates the value 1 for each vowel in the lowercase version of the word.\n",
    "\n",
    "sum(...) then calculates the sum of these 1 values, effectively counting the number of vowels in the word.\n",
    "filtered_string"
   ]
  },
  {
   "cell_type": "markdown",
   "id": "881ba894-e4f7-4165-b6ec-fa0566c6316e",
   "metadata": {},
   "source": [
    "39. Develop a program that calculates the sum of the digits of numbers from 1 to 1000 using list\n",
    "comprehension."
   ]
  },
  {
   "cell_type": "code",
   "execution_count": 52,
   "id": "7b280a00-e28b-4598-9c89-f381de58a307",
   "metadata": {},
   "outputs": [
    {
     "data": {
      "text/plain": [
       "500500"
      ]
     },
     "execution_count": 52,
     "metadata": {},
     "output_type": "execute_result"
    }
   ],
   "source": [
    "n = 1000 \n",
    "sum_num =sum( [ i for i in range (0,n+1)])\n",
    "sum_num"
   ]
  },
  {
   "cell_type": "markdown",
   "id": "d2df85b3-4d3f-4f5d-97b2-63432057cd4c",
   "metadata": {},
   "source": [
    "40. Write a program that generates a list of prime palindromic numbers using list comprehension."
   ]
  },
  {
   "cell_type": "code",
   "execution_count": 54,
   "id": "c1519d13-e697-4e4d-b14f-16cd991ac669",
   "metadata": {},
   "outputs": [
    {
     "name": "stdin",
     "output_type": "stream",
     "text": [
      "Enter the limit for prime palindromic numbers:  100\n"
     ]
    },
    {
     "name": "stdout",
     "output_type": "stream",
     "text": [
      "Prime palindromic numbers up to 100: [2, 3, 5, 7, 11]\n"
     ]
    }
   ],
   "source": [
    "def is_prime(num):\n",
    "    # Function to check if a number is prime\n",
    "    if num < 2:\n",
    "        return False\n",
    "    for i in range(2, int(num**0.5) + 1):\n",
    "        if num % i == 0:\n",
    "            return False\n",
    "    return True\n",
    "\n",
    "def is_palindrome(number):\n",
    "    # Function to check if a number is palindrome\n",
    "    return str(number) == str(number)[::-1]\n",
    "\n",
    "def generate_prime_palindromes(limit):\n",
    "    # Generate a list of prime palindromic numbers up to the specified limit using list comprehension\n",
    "    return [num for num in range(2, limit + 1) if is_prime(num) and is_palindrome(num)]\n",
    "\n",
    "# Specify the limit for prime palindromic numbers\n",
    "limit = int(input(\"Enter the limit for prime palindromic numbers: \"))\n",
    "\n",
    "# Generate and print the list of prime palindromic numbers\n",
    "prime_palindromes = generate_prime_palindromes(limit)\n",
    "print(f\"Prime palindromic numbers up to {limit}: {prime_palindromes}\")\n"
   ]
  },
  {
   "cell_type": "code",
   "execution_count": null,
   "id": "152128b3-f226-44f9-ba81-ee94733a69af",
   "metadata": {},
   "outputs": [],
   "source": []
  }
 ],
 "metadata": {
  "kernelspec": {
   "display_name": "Python 3 (ipykernel)",
   "language": "python",
   "name": "python3"
  },
  "language_info": {
   "codemirror_mode": {
    "name": "ipython",
    "version": 3
   },
   "file_extension": ".py",
   "mimetype": "text/x-python",
   "name": "python",
   "nbconvert_exporter": "python",
   "pygments_lexer": "ipython3",
   "version": "3.10.8"
  }
 },
 "nbformat": 4,
 "nbformat_minor": 5
}
