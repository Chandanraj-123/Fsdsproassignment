{
 "cells": [
  {
   "cell_type": "code",
   "execution_count": 1,
   "id": "1097cc65",
   "metadata": {},
   "outputs": [
    {
     "name": "stdout",
     "output_type": "stream",
     "text": [
      "Q1 Output: True\n"
     ]
    }
   ],
   "source": [
    "# Q1. Given an array, check if it contains any duplicates or not.\n",
    "# Example:\n",
    "# arr = [1, 2, 4, 2, 5, 9]\n",
    "# Output = True\n",
    "\n",
    "def has_duplicates(arr):\n",
    "    seen = set()  # DSA concept: Hash Set (for O(1) lookup)\n",
    "    for num in arr:\n",
    "        if num in seen:\n",
    "            return True\n",
    "        seen.add(num)\n",
    "    return False\n",
    "\n",
    "# Test\n",
    "arr1 = [1, 2, 4, 2, 5, 9]\n",
    "print(\"Q1 Output:\", has_duplicates(arr1))"
   ]
  },
  {
   "cell_type": "code",
   "execution_count": 2,
   "id": "b454090e-0e86-439d-a31b-938cecdf37af",
   "metadata": {},
   "outputs": [
    {
     "name": "stdout",
     "output_type": "stream",
     "text": [
      "Q2 Output: [5, 6, 7, 1, 2, 3, 4]\n"
     ]
    }
   ],
   "source": [
    "# Q2. Given an array and an integer k, rotate the array to the right by k steps.\n",
    "# Example:\n",
    "# arr = [1, 2, 3, 4, 5, 6, 7] , k = 3\n",
    "# Output = [5, 6, 7, 1, 2, 3, 4]\n",
    "\n",
    "def rotate_array(arr, k):\n",
    "    n = len(arr)\n",
    "    k %= n  # handle k > n\n",
    "    # DSA concept: reverse-based rotation (in-place)\n",
    "    def reverse(start, end):\n",
    "        while start < end:\n",
    "            arr[start], arr[end] = arr[end], arr[start]\n",
    "            start += 1\n",
    "            end -= 1\n",
    "    # reverse parts\n",
    "    reverse(0, n-1)\n",
    "    reverse(0, k-1)\n",
    "    reverse(k, n-1)\n",
    "    return arr\n",
    "\n",
    "# Test\n",
    "arr2 = [1, 2, 3, 4, 5, 6, 7]\n",
    "print(\"Q2 Output:\", rotate_array(arr2, 3))"
   ]
  },
  {
   "cell_type": "code",
   "execution_count": 3,
   "id": "6eb94f58-3cf4-42d8-8025-b7ea97c0ce8b",
   "metadata": {},
   "outputs": [
    {
     "name": "stdout",
     "output_type": "stream",
     "text": [
      "Q3 Output: [12, 9, 7, 5, 4, 2]\n"
     ]
    }
   ],
   "source": [
    "# Q3. Reverse the given array in-place, means without using any extra data structure.\n",
    "# Example:\n",
    "# arr = [2, 4, 5, 7, 9, 12]\n",
    "# Output = [12, 9, 7, 5, 4, 2]\n",
    "\n",
    "def reverse_in_place(arr):\n",
    "    left, right = 0, len(arr) - 1\n",
    "    while left < right:\n",
    "        arr[left], arr[right] = arr[right], arr[left]\n",
    "        left += 1\n",
    "        right -= 1\n",
    "    return arr\n",
    "\n",
    "# Test\n",
    "arr3 = [2, 4, 5, 7, 9, 12]\n",
    "print(\"Q3 Output:\", reverse_in_place(arr3))  # [12,9,7,5,4,2]"
   ]
  },
  {
   "cell_type": "code",
   "execution_count": 5,
   "id": "02780475-44b7-473a-8310-722278a342b7",
   "metadata": {},
   "outputs": [
    {
     "name": "stdout",
     "output_type": "stream",
     "text": [
      "Q4 Output: 20\n"
     ]
    }
   ],
   "source": [
    "#Q4. Given an array of integers, find the maximum element in an array.\n",
    "# Example:\n",
    "# arr = [10, 5, 20, 8, 15]\n",
    "# Output = 20\n",
    "\n",
    "def find_max(arr):\n",
    "    max_val = arr[0]\n",
    "    for num in arr:\n",
    "        if num > max_val:\n",
    "            max_val = num\n",
    "    return max_val\n",
    "\n",
    "# Test\n",
    "arr4 = [10, 5, 20, 8, 15]\n",
    "print(\"Q4 Output:\", find_max(arr4))"
   ]
  },
  {
   "cell_type": "code",
   "execution_count": 6,
   "id": "204d0976-acc0-4b27-9981-92959f706966",
   "metadata": {},
   "outputs": [
    {
     "name": "stdout",
     "output_type": "stream",
     "text": [
      "Q5 Output: [1, 2, 3, 4, 5]\n"
     ]
    }
   ],
   "source": [
    "# Q5. Given a sorted array, remove the duplicate element without using any extra data structure.\n",
    "# Example:\n",
    "# arr = [1, 1, 2, 2, 2, 3, 3, 4, 4, 4, 5, 5]\n",
    "# Output = [1, 2, 3, 4, 5]\n",
    "\n",
    "def remove_duplicates_sorted(arr):\n",
    "    if not arr:\n",
    "        return []\n",
    "    i = 0\n",
    "    for j in range(1, len(arr)):\n",
    "        if arr[j] != arr[i]:\n",
    "            i += 1\n",
    "            arr[i] = arr[j]\n",
    "    return arr[:i+1]\n",
    "\n",
    "# Test\n",
    "arr5 = [1, 1, 2, 2, 2, 3, 3, 4, 4, 4, 5, 5]\n",
    "print(\"Q5 Output:\", remove_duplicates_sorted(arr5))"
   ]
  },
  {
   "cell_type": "code",
   "execution_count": null,
   "id": "0c38d587-8b08-44b5-86f7-e7aaf1a98286",
   "metadata": {},
   "outputs": [],
   "source": []
  }
 ],
 "metadata": {
  "kernelspec": {
   "display_name": "Python 3 (ipykernel)",
   "language": "python",
   "name": "python3"
  },
  "language_info": {
   "codemirror_mode": {
    "name": "ipython",
    "version": 3
   },
   "file_extension": ".py",
   "mimetype": "text/x-python",
   "name": "python",
   "nbconvert_exporter": "python",
   "pygments_lexer": "ipython3",
   "version": "3.8.20"
  }
 },
 "nbformat": 4,
 "nbformat_minor": 5
}
