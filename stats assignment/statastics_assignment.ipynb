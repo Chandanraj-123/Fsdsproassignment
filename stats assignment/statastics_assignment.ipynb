{
 "cells": [
  {
   "cell_type": "markdown",
   "metadata": {},
   "source": [
    "1.generate a list of 100 intsgers containing valuesa between 90 to  130 and store in the variabe 'int_list'.capitalize\n",
    "After generating the list ,find the following:  \n",
    "\n",
    "  (i) Write a Python function to calculate the mean of a given list of numbers.\n",
    "\n",
    "Create a function to find the median of a list of numbers.\n",
    "\n",
    "  \n",
    "\n",
    "  (ii) Develop a program to compute the mode of a list of integers.\n",
    "\n",
    "  \n",
    "\n",
    "  (iii) Implement a function to calculate the weighted mean of a list of values and their corresponding weights.\n",
    "\n",
    "  \n",
    "\n",
    "  (iv) Write a Python function to find the geometric mean of a list of positive numbers.\n",
    "\n",
    "  \n",
    "\n",
    "  (v) Create a program to calculate the harmonic mean of a list of values.\n",
    "\n",
    "  \n",
    "\n",
    "  (vi) Build a function to determine the midrange of a list of numbers (average of the minimum and maximum).\n",
    "\n",
    "  \n",
    "\n",
    "  (vii) Implement a Python program to find the trimmed mean of a list, excluding a certain percentage of\n",
    "outliers.\n"
   ]
  },
  {
   "cell_type": "code",
   "execution_count": 2,
   "metadata": {},
   "outputs": [
    {
     "name": "stdout",
     "output_type": "stream",
     "text": [
      "Generated List: [96, 106, 115, 100, 115, 105, 91, 130, 125, 99, 124, 102, 122, 109, 97, 121, 112, 103, 125, 121, 110, 107, 90, 117, 125, 103, 122, 111, 92, 120, 120, 130, 122, 130, 118, 114, 92, 104, 130, 90, 97, 107, 113, 123, 103, 128, 94, 100, 93, 98, 130, 98, 90, 93, 92, 111, 116, 93, 125, 124, 122, 102, 96, 105, 101, 109, 122, 102, 121, 93, 119, 128, 93, 90, 114, 129, 113, 117, 110, 126, 107, 105, 127, 124, 115, 118, 116, 107, 110, 110, 101, 123, 105, 125, 90, 116, 116, 119, 90, 103]\n",
      "Mean: 110.32\n",
      "Median: 110.5\n",
      "Mode: 90\n",
      "Weighted Mean: 110.32\n",
      "Geometric Mean: 109.62624208463376\n",
      "Harmonic Mean: 108.92398538726778\n",
      "Midrange: 110.0\n",
      "Trimmed Mean (10%): 110.4625\n"
     ]
    }
   ],
   "source": [
    "import random\n",
    "\n",
    "# Generate a list of 100 integers between 90 and 130\n",
    "int_list = [random.randint(90, 130) for _ in range(100)]\n",
    "\n",
    "\n",
    "import statistics\n",
    "\n",
    "def calculate_mean(numbers):\n",
    "    return sum(numbers) / len(numbers)\n",
    "\n",
    "def calculate_median(numbers):\n",
    "    return statistics.median(numbers)\n",
    "\n",
    "\n",
    "\n",
    "def calculate_mode(numbers):\n",
    "    return statistics.mode(numbers)\n",
    "\n",
    "\n",
    "def weighted_mean(values, weights):\n",
    "    return sum(v * w for v, w in zip(values, weights)) / sum(weights)\n",
    "\n",
    "\n",
    "from scipy.stats import gmean\n",
    "\n",
    "def calculate_geometric_mean(numbers):\n",
    "    return gmean(numbers)\n",
    "\n",
    "\n",
    "def calculate_harmonic_mean(numbers):\n",
    "    return statistics.harmonic_mean(numbers)\n",
    "\n",
    "\n",
    "def calculate_midrange(numbers):\n",
    "    return (min(numbers) + max(numbers)) / 2\n",
    "\n",
    "\n",
    "\n",
    "def trimmed_mean(numbers, percentage):\n",
    "    sorted_numbers = sorted(numbers)\n",
    "    n = len(numbers)\n",
    "    k = int(n * percentage / 100)\n",
    "    trimmed_list = sorted_numbers[k:-k]\n",
    "    return sum(trimmed_list) / len(trimmed_list)\n",
    "\n",
    "\n",
    "\n",
    "# Example usage\n",
    "print(\"Generated List:\", int_list)\n",
    "\n",
    "# Mean\n",
    "print(\"Mean:\", calculate_mean(int_list))\n",
    "\n",
    "# Median\n",
    "print(\"Median:\", calculate_median(int_list))\n",
    "\n",
    "# Mode\n",
    "try:\n",
    "    print(\"Mode:\", calculate_mode(int_list))\n",
    "except statistics.StatisticsError as e:\n",
    "    print(\"Mode: No unique mode found\")\n",
    "\n",
    "# Weighted Mean\n",
    "weights = [1] * len(int_list)  # Example: all weights equal\n",
    "print(\"Weighted Mean:\", weighted_mean(int_list, weights))\n",
    "\n",
    "# Geometric Mean\n",
    "print(\"Geometric Mean:\", calculate_geometric_mean(int_list))\n",
    "\n",
    "# Harmonic Mean\n",
    "print(\"Harmonic Mean:\", calculate_harmonic_mean(int_list))\n",
    "\n",
    "# Midrange\n",
    "print(\"Midrange:\", calculate_midrange(int_list))\n",
    "\n",
    "# Trimmed Mean (e.g., 10% trimmed)\n",
    "print(\"Trimmed Mean (10%):\", trimmed_mean(int_list, 10))\n",
    "\n"
   ]
  },
  {
   "cell_type": "markdown",
   "metadata": {},
   "source": [
    " 2.Generate a list of 500 integers containg values between 200 to 300 and store it in the variable 'int_list2 '.capitalize\n",
    "   After generating the list ,find the following:\n",
    "\n",
    "  (i) Compare the given list of visualization for the given data:\n",
    "\n",
    "    \n",
    "\n",
    "    1. Frequency & Gaussian distribution\n",
    "\n",
    "    2. Frequency smoothened KDE plot\n",
    "\n",
    "    3. Gaussian distribution & smoothened KDE plot\n",
    "\n",
    "\n",
    "  (ii) Write a Python function to calculate the range of a given list of numbers.\n",
    "\n",
    "\n",
    "  (iii) Create a program to find the variance and standard deviation of a list of numbers.\n",
    "\n",
    "\n",
    "  (iv) Implement a function to compute the interquartile range (IQR) of a list of values.\n",
    "\n",
    "\n",
    "  (v) Build a program to calculate the coefficient of variation for a dataset.\n",
    "\n",
    "  \n",
    "\n",
    "  (vi) Write a Python function to find the mean absolute deviation (MAD) of a list of numbers.\n",
    "\n",
    "\n",
    "  (vii) Create a program to calculate the quartile deviation of a list of values.\n",
    "\n",
    "  \n",
    "\n",
    "  (viii) Implement a function to find the range-based coefficient of dispersion for a dataset."
   ]
  },
  {
   "cell_type": "code",
   "execution_count": 3,
   "metadata": {},
   "outputs": [],
   "source": [
    "import random\n",
    "\n",
    "# Generate a list of 500 integers between 200 and 300\n",
    "int_list2 = [random.randint(200, 300) for _ in range(500)]\n"
   ]
  },
  {
   "cell_type": "code",
   "execution_count": 4,
   "metadata": {},
   "outputs": [
    {
     "name": "stderr",
     "output_type": "stream",
     "text": [
      "c:\\Users\\ASUS\\anaconda3\\Lib\\site-packages\\seaborn\\_oldcore.py:1119: FutureWarning: use_inf_as_na option is deprecated and will be removed in a future version. Convert inf values to NaN before operating instead.\n",
      "  with pd.option_context('mode.use_inf_as_na', True):\n",
      "c:\\Users\\ASUS\\anaconda3\\Lib\\site-packages\\seaborn\\_oldcore.py:1119: FutureWarning: use_inf_as_na option is deprecated and will be removed in a future version. Convert inf values to NaN before operating instead.\n",
      "  with pd.option_context('mode.use_inf_as_na', True):\n",
      "c:\\Users\\ASUS\\anaconda3\\Lib\\site-packages\\seaborn\\_oldcore.py:1119: FutureWarning: use_inf_as_na option is deprecated and will be removed in a future version. Convert inf values to NaN before operating instead.\n",
      "  with pd.option_context('mode.use_inf_as_na', True):\n"
     ]
    },
    {
     "data": {
      "image/png": "[encoded data removed]",
      "text/plain": [
       "<Figure size 1500x500 with 3 Axes>"
      ]
     },
     "metadata": {},
     "output_type": "display_data"
    }
   ],
   "source": [
    "import matplotlib.pyplot as plt\n",
    "import seaborn as sns\n",
    "import numpy as np\n",
    "from scipy.stats import norm\n",
    "\n",
    "# Plot the frequency distribution\n",
    "plt.figure(figsize=(15, 5))\n",
    "\n",
    "# 1. Frequency Distribution & Gaussian Distribution\n",
    "plt.subplot(1, 3, 1)\n",
    "sns.histplot(int_list2, kde=False, stat='density', bins=30, color='blue')\n",
    "xmin, xmax = plt.xlim()\n",
    "x = np.linspace(xmin, xmax, 100)\n",
    "p = norm.pdf(x, np.mean(int_list2), np.std(int_list2))\n",
    "plt.plot(x, p, 'k', linewidth=2)\n",
    "plt.title('Frequency & Gaussian Distribution')\n",
    "\n",
    "# 2. Frequency Smoothened KDE Plot\n",
    "plt.subplot(1, 3, 2)\n",
    "sns.kdeplot(int_list2, color='blue', fill=True)\n",
    "plt.title('Smoothened KDE Plot')\n",
    "\n",
    "# 3. Gaussian Distribution & Smoothened KDE Plot\n",
    "plt.subplot(1, 3, 3)\n",
    "sns.kdeplot(int_list2, color='blue', fill=True)\n",
    "xmin, xmax = plt.xlim()\n",
    "x = np.linspace(xmin, xmax, 100)\n",
    "p = norm.pdf(x, np.mean(int_list2), np.std(int_list2))\n",
    "plt.plot(x, p, 'k', linewidth=2)\n",
    "plt.title('Gaussian Distribution & KDE Plot')\n",
    "\n",
    "plt.tight_layout()\n",
    "plt.show()\n"
   ]
  },
  {
   "cell_type": "code",
   "execution_count": 6,
   "metadata": {},
   "outputs": [
    {
     "name": "stdout",
     "output_type": "stream",
     "text": [
      "Generated List: [241, 226, 218, 248, 281, 265, 239, 233, 203, 205, 273, 273, 239, 269, 289, 206, 300, 264, 294, 270, 228, 245, 225, 242, 212, 220, 203, 275, 248, 274, 272, 225, 235, 288, 245, 219, 277, 230, 300, 242, 204, 220, 276, 217, 242, 241, 251, 215, 275, 298, 241, 200, 267, 205, 293, 200, 217, 229, 235, 264, 278, 206, 280, 278, 263, 243, 294, 200, 226, 222, 244, 226, 295, 295, 239, 273, 269, 261, 236, 240, 218, 233, 275, 212, 300, 219, 205, 248, 201, 289, 204, 295, 291, 269, 244, 257, 298, 286, 220, 204, 242, 231, 250, 202, 257, 216, 210, 292, 292, 217, 209, 260, 208, 204, 225, 211, 207, 214, 237, 264, 205, 258, 273, 200, 212, 214, 216, 216, 292, 201, 285, 209, 224, 299, 294, 262, 279, 234, 274, 280, 264, 266, 282, 293, 300, 218, 271, 274, 200, 256, 223, 284, 275, 210, 261, 203, 295, 217, 240, 269, 247, 208, 245, 279, 281, 234, 244, 236, 236, 277, 296, 299, 241, 212, 266, 227, 294, 247, 216, 228, 286, 275, 257, 300, 230, 278, 294, 259, 260, 299, 246, 208, 271, 256, 300, 294, 282, 297, 260, 274, 298, 234, 286, 286, 219, 209, 215, 200, 254, 243, 216, 222, 246, 277, 247, 201, 263, 282, 297, 231, 245, 237, 293, 217, 296, 300, 244, 250, 290, 254, 235, 238, 285, 242, 234, 259, 268, 273, 235, 226, 300, 206, 264, 222, 274, 284, 234, 261, 277, 206, 290, 231, 248, 252, 276, 206, 288, 296, 262, 281, 236, 225, 265, 231, 233, 234, 207, 246, 231, 230, 215, 215, 235, 260, 211, 207, 261, 225, 292, 243, 240, 282, 219, 299, 250, 213, 278, 283, 282, 227, 207, 232, 268, 218, 250, 296, 248, 233, 270, 223, 209, 230, 232, 201, 210, 261, 300, 299, 221, 276, 286, 240, 233, 289, 271, 249, 273, 226, 283, 281, 252, 281, 279, 217, 232, 232, 271, 254, 255, 279, 210, 252, 279, 285, 273, 231, 262, 218, 201, 231, 228, 250, 247, 204, 224, 243, 233, 259, 202, 269, 296, 298, 236, 253, 232, 234, 201, 200, 291, 240, 268, 229, 239, 279, 229, 284, 204, 240, 205, 245, 217, 239, 208, 221, 296, 261, 274, 223, 224, 258, 238, 292, 269, 216, 202, 213, 242, 231, 263, 281, 212, 268, 266, 299, 295, 273, 258, 298, 204, 272, 222, 233, 245, 228, 202, 288, 233, 214, 211, 251, 229, 242, 255, 221, 279, 241, 216, 282, 227, 205, 231, 213, 258, 231, 222, 253, 292, 213, 220, 279, 222, 275, 254, 294, 297, 270, 227, 201, 299, 223, 243, 213, 265, 273, 261, 226, 257, 273, 275, 211, 213, 225, 293, 254, 208, 226, 300, 280, 209, 219, 288, 225, 279, 243, 225, 246, 292, 239, 287, 295, 220, 299, 250, 217, 225, 255, 236, 278, 223, 290, 277, 242, 248, 231, 293, 202, 296, 210, 269, 238, 275, 224, 203, 212, 208, 224, 275, 227, 282, 288]\n",
      "Range: 100\n",
      "Variance: 917.088513026052\n",
      "Standard Deviation: 30.2834693030051\n",
      "IQR: 52.0\n",
      "Coefficient of Variation (%): 12.169025404173137\n",
      "Mean Absolute Deviation (MAD): 26.515776000000002\n",
      "Quartile Deviation: 26.0\n",
      "Range-Based Coefficient of Dispersion: 0.40223967048526194\n"
     ]
    }
   ],
   "source": [
    "def calculate_range(numbers):\n",
    "    return max(numbers) - min(numbers)\n",
    "\n",
    "import statistics\n",
    "\n",
    "def calculate_variance(numbers):\n",
    "    return statistics.variance(numbers)\n",
    "\n",
    "def calculate_standard_deviation(numbers):\n",
    "    return statistics.stdev(numbers)\n",
    "\n",
    "def calculate_iqr(numbers):\n",
    "    q75, q25 = np.percentile(numbers, [75 ,25])\n",
    "    return q75 - q25\n",
    "\n",
    "\n",
    "\n",
    "def calculate_coefficient_of_variation(numbers):\n",
    "    mean = np.mean(numbers)\n",
    "    std_dev = np.std(numbers)\n",
    "    return (std_dev / mean) * 100\n",
    "\n",
    "def calculate_mad(numbers):\n",
    "    mean = np.mean(numbers)\n",
    "    return np.mean([abs(x - mean) for x in numbers])\n",
    "\n",
    "def calculate_quartile_deviation(numbers):\n",
    "    q75, q25 = np.percentile(numbers, [75 ,25])\n",
    "    return (q75 - q25) / 2\n",
    "\n",
    "\n",
    "\n",
    "def calculate_range_based_cd(numbers):\n",
    "    range_val = calculate_range(numbers)\n",
    "    mean = np.mean(numbers)\n",
    "    return range_val / mean\n",
    "\n",
    "# Example usage\n",
    "print(\"Generated List:\", int_list2)\n",
    "\n",
    "# Range\n",
    "print(\"Range:\", calculate_range(int_list2))\n",
    "\n",
    "# Variance and Standard Deviation\n",
    "print(\"Variance:\", calculate_variance(int_list2))\n",
    "print(\"Standard Deviation:\", calculate_standard_deviation(int_list2))\n",
    "\n",
    "# Interquartile Range (IQR)\n",
    "print(\"IQR:\", calculate_iqr(int_list2))\n",
    "\n",
    "# Coefficient of Variation\n",
    "print(\"Coefficient of Variation (%):\", calculate_coefficient_of_variation(int_list2))\n",
    "\n",
    "# Mean Absolute Deviation (MAD)\n",
    "print(\"Mean Absolute Deviation (MAD):\", calculate_mad(int_list2))\n",
    "\n",
    "# Quartile Deviation\n",
    "print(\"Quartile Deviation:\", calculate_quartile_deviation(int_list2))\n",
    "\n",
    "# Range-Based Coefficient of Dispersion\n",
    "print(\"Range-Based Coefficient of Dispersion:\", calculate_range_based_cd(int_list2))\n"
   ]
  },
  {
   "cell_type": "markdown",
   "metadata": {},
   "source": [
    "3.Write a python class representing a discrete random variable with methods to calculate its expected value and variance."
   ]
  },
  {
   "cell_type": "code",
   "execution_count": 7,
   "metadata": {},
   "outputs": [
    {
     "name": "stdout",
     "output_type": "stream",
     "text": [
      "Expected Value: 3.2\n",
      "Variance: 1.56\n"
     ]
    }
   ],
   "source": [
    "class DiscreteRandomVariable:\n",
    "    def __init__(self, values, probabilities):\n",
    "        \"\"\"\n",
    "        Initialize the discrete random variable.\n",
    "        \n",
    "        :param values: List of possible values of the random variable.\n",
    "        :param probabilities: List of probabilities corresponding to each value.\n",
    "        \"\"\"\n",
    "        if len(values) != len(probabilities):\n",
    "            raise ValueError(\"Values and probabilities lists must be of the same length.\")\n",
    "        if not all(0 <= p <= 1 for p in probabilities) or not abs(sum(probabilities) - 1) < 1e-6:\n",
    "            raise ValueError(\"Probabilities must be between 0 and 1 and sum to 1.\")\n",
    "        \n",
    "        self.values = values\n",
    "        self.probabilities = probabilities\n",
    "\n",
    "    def expected_value(self):\n",
    "        \"\"\"\n",
    "        Calculate the expected value (mean) of the discrete random variable.\n",
    "        \n",
    "        :return: The expected value.\n",
    "        \"\"\"\n",
    "        return sum(v * p for v, p in zip(self.values, self.probabilities))\n",
    "\n",
    "    def variance(self):\n",
    "        \"\"\"\n",
    "        Calculate the variance of the discrete random variable.\n",
    "        \n",
    "        :return: The variance.\n",
    "        \"\"\"\n",
    "        mean = self.expected_value()\n",
    "        return sum(p * (v - mean) ** 2 for v, p in zip(self.values, self.probabilities))\n",
    "\n",
    "\n",
    "# Example values and probabilities\n",
    "values = [1, 2, 3, 4, 5]\n",
    "probabilities = [0.1, 0.2, 0.3, 0.2, 0.2]\n",
    "\n",
    "# Create an instance of DiscreteRandomVariable\n",
    "random_variable = DiscreteRandomVariable(values, probabilities)\n",
    "\n",
    "# Calculate expected value\n",
    "print(\"Expected Value:\", random_variable.expected_value())\n",
    "\n",
    "# Calculate variance\n",
    "print(\"Variance:\", random_variable.variance())\n"
   ]
  },
  {
   "cell_type": "markdown",
   "metadata": {},
   "source": [
    "4. Implement a program to stimulate the rolling  of a fair six sided die and calculate the expected value and  variance of the outcomes."
   ]
  },
  {
   "cell_type": "code",
   "execution_count": 8,
   "metadata": {},
   "outputs": [
    {
     "name": "stdout",
     "output_type": "stream",
     "text": [
      "Expected Value: 3.47\n",
      "Variance: 2.85\n"
     ]
    }
   ],
   "source": [
    "import numpy as np\n",
    "\n",
    "def roll_die(num_rolls):\n",
    "    \"\"\"\n",
    "    Simulate rolling a fair six-sided die.\n",
    "    \n",
    "    :param num_rolls: Number of times to roll the die.\n",
    "    :return: A list of outcomes from rolling the die.\n",
    "    \"\"\"\n",
    "    return np.random.randint(1, 7, size=num_rolls)\n",
    "\n",
    "def calculate_expected_value(rolls):\n",
    "    \"\"\"\n",
    "    Calculate the expected value of die rolls.\n",
    "    \n",
    "    :param rolls: List of die roll outcomes.\n",
    "    :return: The expected value.\n",
    "    \"\"\"\n",
    "    return np.mean(rolls)\n",
    "\n",
    "def calculate_variance(rolls):\n",
    "    \"\"\"\n",
    "    Calculate the variance of die rolls.\n",
    "    \n",
    "    :param rolls: List of die roll outcomes.\n",
    "    :return: The variance.\n",
    "    \"\"\"\n",
    "    return np.var(rolls)\n",
    "\n",
    "# Parameters\n",
    "num_rolls = 10000  # Number of die rolls for the simulation\n",
    "\n",
    "# Simulate the die rolls\n",
    "rolls = roll_die(num_rolls)\n",
    "\n",
    "# Calculate expected value and variance\n",
    "expected_value = calculate_expected_value(rolls)\n",
    "variance = calculate_variance(rolls)\n",
    "\n",
    "# Print results\n",
    "print(f\"Expected Value: {expected_value:.2f}\")\n",
    "print(f\"Variance: {variance:.2f}\")\n"
   ]
  },
  {
   "cell_type": "markdown",
   "metadata": {},
   "source": [
    "5.Create a Python function to generate random samples from a given probability distribution (e.g.,\n",
    "binomial, Poisson) and calculate their mean and variance."
   ]
  },
  {
   "cell_type": "code",
   "execution_count": 9,
   "metadata": {},
   "outputs": [
    {
     "name": "stdout",
     "output_type": "stream",
     "text": [
      "Mean: 5.04\n",
      "Variance: 2.50\n"
     ]
    }
   ],
   "source": [
    "import numpy as np\n",
    "\n",
    "def generate_samples(distribution, params, num_samples):\n",
    "    \"\"\"\n",
    "    Generate random samples from a specified probability distribution and calculate their mean and variance.\n",
    "    \n",
    "    :param distribution: The type of probability distribution ('binomial', 'poisson').\n",
    "    :param params: Parameters for the distribution. For 'binomial', provide (n, p). For 'poisson', provide (lambda_).\n",
    "    :param num_samples: Number of random samples to generate.\n",
    "    :return: Mean and variance of the samples.\n",
    "    \"\"\"\n",
    "    if distribution == 'binomial':\n",
    "        n, p = params\n",
    "        samples = np.random.binomial(n, p, num_samples)\n",
    "    elif distribution == 'poisson':\n",
    "        lambda_ = params[0]\n",
    "        samples = np.random.poisson(lambda_, num_samples)\n",
    "    else:\n",
    "        raise ValueError(\"Unsupported distribution type. Use 'binomial' or 'poisson'.\")\n",
    "    \n",
    "    mean = np.mean(samples)\n",
    "    variance = np.var(samples)\n",
    "    \n",
    "    return mean, variance\n",
    "\n",
    "# Example usage\n",
    "distribution = 'binomial'  # Choose between 'binomial' and 'poisson'\n",
    "params = (10, 0.5)  # Parameters for the distribution (n, p) for binomial; (lambda,) for poisson\n",
    "num_samples = 1000\n",
    "\n",
    "mean, variance = generate_samples(distribution, params, num_samples)\n",
    "print(f\"Mean: {mean:.2f}\")\n",
    "print(f\"Variance: {variance:.2f}\")\n"
   ]
  },
  {
   "cell_type": "markdown",
   "metadata": {},
   "source": [
    "6.Write a Python script to generate random numbers from a Gaussian (normal) distribution and compute the mean, variance, and standard deviation of the samples."
   ]
  },
  {
   "cell_type": "code",
   "execution_count": 10,
   "metadata": {},
   "outputs": [
    {
     "name": "stdout",
     "output_type": "stream",
     "text": [
      "Mean: 0.03\n",
      "Variance: 1.05\n",
      "Standard Deviation: 1.02\n"
     ]
    }
   ],
   "source": [
    "import numpy as np\n",
    "\n",
    "def generate_gaussian_samples(mean, std_dev, num_samples):\n",
    "    \"\"\"\n",
    "    Generate random numbers from a Gaussian (normal) distribution and calculate their mean, variance, and standard deviation.\n",
    "    \n",
    "    :param mean: Mean of the Gaussian distribution.\n",
    "    :param std_dev: Standard deviation of the Gaussian distribution.\n",
    "    :param num_samples: Number of random samples to generate.\n",
    "    :return: Mean, variance, and standard deviation of the samples.\n",
    "    \"\"\"\n",
    "    # Generate random samples from a Gaussian distribution\n",
    "    samples = np.random.normal(mean, std_dev, num_samples)\n",
    "    \n",
    "    # Calculate mean, variance, and standard deviation\n",
    "    sample_mean = np.mean(samples)\n",
    "    sample_variance = np.var(samples)\n",
    "    sample_std_dev = np.std(samples)\n",
    "    \n",
    "    return sample_mean, sample_variance, sample_std_dev\n",
    "\n",
    "# Example parameters\n",
    "mean = 0  # Mean of the Gaussian distribution\n",
    "std_dev = 1  # Standard deviation of the Gaussian distribution\n",
    "num_samples = 1000  # Number of samples to generate\n",
    "\n",
    "# Generate samples and calculate statistics\n",
    "mean_value, variance_value, std_dev_value = generate_gaussian_samples(mean, std_dev, num_samples)\n",
    "\n",
    "# Print results\n",
    "print(f\"Mean: {mean_value:.2f}\")\n",
    "print(f\"Variance: {variance_value:.2f}\")\n",
    "print(f\"Standard Deviation: {std_dev_value:.2f}\")\n"
   ]
  },
  {
   "cell_type": "markdown",
   "metadata": {},
   "source": [
    "7.Use seaborn library to load tips dataset. Find the following from the dataset for the columns 'total_bill'\n",
    "and tip`:\n",
    "\n",
    "  \n",
    "\n",
    "  (1) Write a Python function that calculates their skewness.\n",
    "\n",
    "\n",
    "  (2)) Create a program that determines whether the columns exhibit positive skewness, negative skewness, or is\n",
    "approximately symmetric.\n",
    "\n",
    "\n",
    "  (3) Write a function that calculates the covariance between two columns.\n",
    "\n",
    "\n",
    "  (4) Implement a Python program that calculates the Pearson correlation coefficient between two columns.\n",
    "\n",
    "\n",
    "  (5) Write a script to visualize the correlation between two specific columns in a Pandas DataFrame using\n",
    "scatter plots."
   ]
  },
  {
   "cell_type": "code",
   "execution_count": 12,
   "metadata": {},
   "outputs": [],
   "source": [
    "import seaborn as sns\n",
    "import pandas as pd\n",
    "\n",
    "# Load the tips dataset\n",
    "tips = sns.load_dataset('tips')\n"
   ]
  },
  {
   "cell_type": "code",
   "execution_count": 13,
   "metadata": {},
   "outputs": [
    {
     "name": "stdout",
     "output_type": "stream",
     "text": [
      "Skewness of 'total_bill': 1.13\n",
      "Skewness of 'tip': 1.46\n"
     ]
    }
   ],
   "source": [
    "from scipy.stats import skew\n",
    "\n",
    "def calculate_skewness(column):\n",
    "    \"\"\"\n",
    "    Calculate the skewness of a given column.\n",
    "    \n",
    "    :param column: Pandas Series representing a column in the DataFrame.\n",
    "    :return: Skewness of the column.\n",
    "    \"\"\"\n",
    "    return skew(column.dropna())\n",
    "\n",
    "# Calculate skewness for 'total_bill' and 'tip'\n",
    "total_bill_skewness = calculate_skewness(tips['total_bill'])\n",
    "tip_skewness = calculate_skewness(tips['tip'])\n",
    "\n",
    "print(f\"Skewness of 'total_bill': {total_bill_skewness:.2f}\")\n",
    "print(f\"Skewness of 'tip': {tip_skewness:.2f}\")\n"
   ]
  },
  {
   "cell_type": "code",
   "execution_count": 14,
   "metadata": {},
   "outputs": [
    {
     "name": "stdout",
     "output_type": "stream",
     "text": [
      "'total_bill' Skewness Type: Positive Skewness\n",
      "'tip' Skewness Type: Positive Skewness\n"
     ]
    }
   ],
   "source": [
    "def classify_skewness(skewness):\n",
    "    \"\"\"\n",
    "    Classify the skewness as positive, negative, or symmetric.\n",
    "    \n",
    "    :param skewness: Skewness value of the distribution.\n",
    "    :return: Classification of the skewness.\n",
    "    \"\"\"\n",
    "    if skewness > 0:\n",
    "        return 'Positive Skewness'\n",
    "    elif skewness < 0:\n",
    "        return 'Negative Skewness'\n",
    "    else:\n",
    "        return 'Approximately Symmetric'\n",
    "\n",
    "# Classify skewness for 'total_bill' and 'tip'\n",
    "total_bill_skewness_type = classify_skewness(total_bill_skewness)\n",
    "tip_skewness_type = classify_skewness(tip_skewness)\n",
    "\n",
    "print(f\"'total_bill' Skewness Type: {total_bill_skewness_type}\")\n",
    "print(f\"'tip' Skewness Type: {tip_skewness_type}\")\n"
   ]
  },
  {
   "cell_type": "code",
   "execution_count": 15,
   "metadata": {},
   "outputs": [
    {
     "name": "stdout",
     "output_type": "stream",
     "text": [
      "Covariance between 'total_bill' and 'tip': 8.32\n"
     ]
    }
   ],
   "source": [
    "def calculate_covariance(df, col1, col2):\n",
    "    \"\"\"\n",
    "    Calculate the covariance between two columns in a DataFrame.\n",
    "    \n",
    "    :param df: Pandas DataFrame containing the data.\n",
    "    :param col1: Name of the first column.\n",
    "    :param col2: Name of the second column.\n",
    "    :return: Covariance between the two columns.\n",
    "    \"\"\"\n",
    "    return df[[col1, col2]].cov().iloc[0, 1]\n",
    "\n",
    "# Calculate covariance between 'total_bill' and 'tip'\n",
    "covariance = calculate_covariance(tips, 'total_bill', 'tip')\n",
    "print(f\"Covariance between 'total_bill' and 'tip': {covariance:.2f}\")\n"
   ]
  },
  {
   "cell_type": "code",
   "execution_count": 16,
   "metadata": {},
   "outputs": [
    {
     "name": "stdout",
     "output_type": "stream",
     "text": [
      "Pearson Correlation Coefficient between 'total_bill' and 'tip': 0.68\n"
     ]
    }
   ],
   "source": [
    "def calculate_pearson_correlation(df, col1, col2):\n",
    "    \"\"\"\n",
    "    Calculate the Pearson correlation coefficient between two columns in a DataFrame.\n",
    "    \n",
    "    :param df: Pandas DataFrame containing the data.\n",
    "    :param col1: Name of the first column.\n",
    "    :param col2: Name of the second column.\n",
    "    :return: Pearson correlation coefficient between the two columns.\n",
    "    \"\"\"\n",
    "    return df[[col1, col2]].corr().iloc[0, 1]\n",
    "\n",
    "# Calculate Pearson correlation coefficient between 'total_bill' and 'tip'\n",
    "pearson_corr = calculate_pearson_correlation(tips, 'total_bill', 'tip')\n",
    "print(f\"Pearson Correlation Coefficient between 'total_bill' and 'tip': {pearson_corr:.2f}\")\n"
   ]
  },
  {
   "cell_type": "code",
   "execution_count": 17,
   "metadata": {},
   "outputs": [
    {
     "data": {
      "image/png": "[encoded data removed]",
      "text/plain": [
       "<Figure size 1000x600 with 1 Axes>"
      ]
     },
     "metadata": {},
     "output_type": "display_data"
    }
   ],
   "source": [
    "import matplotlib.pyplot as plt\n",
    "\n",
    "def plot_scatter(df, col1, col2):\n",
    "    \"\"\"\n",
    "    Create a scatter plot to visualize the correlation between two columns in a DataFrame.\n",
    "    \n",
    "    :param df: Pandas DataFrame containing the data.\n",
    "    :param col1: Name of the first column.\n",
    "    :param col2: Name of the second column.\n",
    "    \"\"\"\n",
    "    plt.figure(figsize=(10, 6))\n",
    "    sns.scatterplot(data=df, x=col1, y=col2)\n",
    "    plt.title(f'Scatter Plot of {col1} vs {col2}')\n",
    "    plt.xlabel(col1)\n",
    "    plt.ylabel(col2)\n",
    "    plt.show()\n",
    "\n",
    "# Plot scatter plot for 'total_bill' and 'tip'\n",
    "plot_scatter(tips, 'total_bill', 'tip')\n"
   ]
  },
  {
   "cell_type": "markdown",
   "metadata": {},
   "source": [
    "8.Write a Python function to calculate the probability density function (PDF) of a continuous random\n",
    "variable for a given normal distribution.\n"
   ]
  },
  {
   "cell_type": "code",
   "execution_count": 18,
   "metadata": {},
   "outputs": [
    {
     "name": "stdout",
     "output_type": "stream",
     "text": [
      "PDF value at x=1.0: 0.2420\n"
     ]
    }
   ],
   "source": [
    "import numpy as np\n",
    "\n",
    "def normal_pdf(x, mean, std_dev):\n",
    "    \"\"\"\n",
    "    Calculate the Probability Density Function (PDF) of a normal distribution.\n",
    "    \n",
    "    :param x: The point at which to evaluate the PDF.\n",
    "    :param mean: The mean (μ) of the normal distribution.\n",
    "    :param std_dev: The standard deviation (σ) of the normal distribution.\n",
    "    :return: The PDF value at point x.\n",
    "    \"\"\"\n",
    "    # Calculate PDF using the normal distribution formula\n",
    "    coefficient = 1 / (std_dev * np.sqrt(2 * np.pi))\n",
    "    exponent = np.exp(-0.5 * ((x - mean) / std_dev) ** 2)\n",
    "    pdf_value = coefficient * exponent\n",
    "    \n",
    "    return pdf_value\n",
    "\n",
    "# Example usage\n",
    "mean = 0       # Mean of the normal distribution\n",
    "std_dev = 1    # Standard deviation of the normal distribution\n",
    "x = 1.0        # Point at which to evaluate the PDF\n",
    "\n",
    "pdf_value = normal_pdf(x, mean, std_dev)\n",
    "print(f\"PDF value at x={x}: {pdf_value:.4f}\")\n"
   ]
  },
  {
   "cell_type": "code",
   "execution_count": null,
   "metadata": {},
   "outputs": [],
   "source": [
    "9.Create a program to calculate the cumulative distribution function (CDF) of exponential distribution."
   ]
  },
  {
   "cell_type": "code",
   "execution_count": 19,
   "metadata": {},
   "outputs": [
    {
     "name": "stdout",
     "output_type": "stream",
     "text": [
      "CDF value at x=2.0: 0.8647\n"
     ]
    }
   ],
   "source": [
    "import numpy as np\n",
    "\n",
    "def exponential_cdf(x, rate):\n",
    "    \"\"\"\n",
    "    Calculate the Cumulative Distribution Function (CDF) of an exponential distribution.\n",
    "    \n",
    "    :param x: The point at which to evaluate the CDF.\n",
    "    :param rate: The rate parameter (λ) of the exponential distribution.\n",
    "    :return: The CDF value at point x.\n",
    "    \"\"\"\n",
    "    # Calculate CDF using the exponential distribution formula\n",
    "    cdf_value = 1 - np.exp(-rate * x)\n",
    "    \n",
    "    return cdf_value\n",
    "\n",
    "# Example usage\n",
    "rate = 1.0    # Rate parameter (λ) of the exponential distribution\n",
    "x = 2.0       # Point at which to evaluate the CDF\n",
    "\n",
    "cdf_value = exponential_cdf(x, rate)\n",
    "print(f\"CDF value at x={x}: {cdf_value:.4f}\")\n"
   ]
  },
  {
   "cell_type": "markdown",
   "metadata": {},
   "source": [
    "10.Write a Python function to calculate the probability mass function (PMF) o6 Poisson distribution."
   ]
  },
  {
   "cell_type": "code",
   "execution_count": 20,
   "metadata": {},
   "outputs": [
    {
     "name": "stdout",
     "output_type": "stream",
     "text": [
      "PMF value for k=3 with λ=5.0: 0.1404\n"
     ]
    }
   ],
   "source": [
    "import numpy as np\n",
    "from scipy.special import factorial\n",
    "\n",
    "def poisson_pmf(k, lambda_):\n",
    "    \"\"\"\n",
    "    Calculate the Probability Mass Function (PMF) of a Poisson distribution.\n",
    "    \n",
    "    :param k: The number of occurrences (non-negative integer).\n",
    "    :param lambda_: The average rate of occurrence (λ) of the Poisson distribution.\n",
    "    :return: The PMF value at k.\n",
    "    \"\"\"\n",
    "    # Calculate PMF using the Poisson distribution formula\n",
    "    pmf_value = (lambda_ ** k * np.exp(-lambda_)) / factorial(k)\n",
    "    \n",
    "    return pmf_value\n",
    "\n",
    "# Example usage\n",
    "lambda_ = 5.0  # Average rate of occurrence (λ)\n",
    "k = 3          # Number of occurrences\n",
    "\n",
    "pmf_value = poisson_pmf(k, lambda_)\n",
    "print(f\"PMF value for k={k} with λ={lambda_}: {pmf_value:.4f}\")\n"
   ]
  },
  {
   "cell_type": "markdown",
   "metadata": {},
   "source": [
    "11.A company wants to test if a new website layout leads to a higher conversion rate (percentage of visitors\n",
    "who make a purchase). They collect data from the old and new layouts to compare.\n",
    "\n",
    "\n",
    "To generate the data use the followi<g comma<d:\n",
    "\n",
    "```python\n",
    "\n",
    "import Numpy as np\n",
    "\n",
    "# 50 purchases out of 1000 visitors\n",
    "\n",
    "old_layout = np.array([1] * 50 + [0] * 950)\n",
    "\n",
    "# 70 purchases out of 1000 visitors  \n",
    "\n",
    "new_layout = np.array([1] * 70 + [0] * 930)\n",
    "\n",
    "  ```\n",
    "\n",
    "Apply z-test to find which layout is successful."
   ]
  },
  {
   "cell_type": "code",
   "execution_count": 21,
   "metadata": {},
   "outputs": [
    {
     "name": "stdout",
     "output_type": "stream",
     "text": [
      "Conversion Rate for Old Layout: 0.0500\n",
      "Conversion Rate for New Layout: 0.0700\n",
      "Z-Statistic: -1.8831\n",
      "P-Value: 0.0597\n",
      "Fail to reject the null hypothesis: There is no significant difference between the two layouts.\n"
     ]
    }
   ],
   "source": [
    "import numpy as np\n",
    "from scipy import stats\n",
    "\n",
    "# Generate data\n",
    "old_layout = np.array([1] * 50 + [0] * 950)\n",
    "new_layout = np.array([1] * 70 + [0] * 930)\n",
    "\n",
    "# Conversion rates\n",
    "p1 = np.mean(old_layout)  # Conversion rate for old layout\n",
    "p2 = np.mean(new_layout)  # Conversion rate for new layout\n",
    "\n",
    "# Sample sizes\n",
    "n1 = len(old_layout)\n",
    "n2 = len(new_layout)\n",
    "\n",
    "# Pooled proportion\n",
    "p_pooled = (np.sum(old_layout) + np.sum(new_layout)) / (n1 + n2)\n",
    "\n",
    "# Standard error\n",
    "se = np.sqrt(p_pooled * (1 - p_pooled) * (1/n1 + 1/n2))\n",
    "\n",
    "# Z-statistic\n",
    "z = (p1 - p2) / se\n",
    "\n",
    "# P-value\n",
    "p_value = 2 * (1 - stats.norm.cdf(np.abs(z)))\n",
    "\n",
    "# Print results\n",
    "print(f\"Conversion Rate for Old Layout: {p1:.4f}\")\n",
    "print(f\"Conversion Rate for New Layout: {p2:.4f}\")\n",
    "print(f\"Z-Statistic: {z:.4f}\")\n",
    "print(f\"P-Value: {p_value:.4f}\")\n",
    "\n",
    "# Interpretation\n",
    "alpha = 0.05  # Significance level\n",
    "if p_value < alpha:\n",
    "    print(\"Reject the null hypothesis: There is a significant difference between the two layouts.\")\n",
    "else:\n",
    "    print(\"Fail to reject the null hypothesis: There is no significant difference between the two layouts.\")\n"
   ]
  },
  {
   "cell_type": "markdown",
   "metadata": {},
   "source": [
    "12. A tutoring service claims that its program improves students exam scores. A sample of students who\n",
    "participated in the program was taken, and their scores before and after the program were recorded.\n",
    "\n",
    "\n",
    "Use the below code to ge<erate samples of respective arrays of marks:\n",
    "\n",
    "```python\n",
    "\n",
    "before_program = np.array([75, 80, 85, 70, 90, 78, 92, 88, 82, 87])\n",
    "\n",
    "after_program = np.array([80, 85, 90, 80, 92, 80, 95, 90, 85, 88])\n",
    "\n",
    "```\n",
    "\n",
    "Use z-test to find if the claims made by tutor are true or false.\n",
    "\n"
   ]
  },
  {
   "cell_type": "code",
   "execution_count": 22,
   "metadata": {},
   "outputs": [
    {
     "name": "stdout",
     "output_type": "stream",
     "text": [
      "Mean Difference: 3.80\n",
      "Standard Deviation of Differences: 2.62\n",
      "T-Statistic: 4.5932\n",
      "P-Value: 0.0013\n",
      "Reject the null hypothesis: The tutoring program has a significant effect on exam scores.\n"
     ]
    }
   ],
   "source": [
    "import numpy as np\n",
    "from scipy import stats\n",
    "\n",
    "# Generate data\n",
    "before_program = np.array([75, 80, 85, 70, 90, 78, 92, 88, 82, 87])\n",
    "after_program = np.array([80, 85, 90, 80, 92, 80, 95, 90, 85, 88])\n",
    "\n",
    "# Compute the differences\n",
    "differences = after_program - before_program\n",
    "\n",
    "# Calculate mean and standard deviation of differences\n",
    "mean_diff = np.mean(differences)\n",
    "std_dev_diff = np.std(differences, ddof=1)\n",
    "n = len(differences)\n",
    "\n",
    "# Calculate the t-statistic\n",
    "t_statistic = mean_diff / (std_dev_diff / np.sqrt(n))\n",
    "\n",
    "# Degrees of freedom\n",
    "df = n - 1\n",
    "\n",
    "# Calculate the p-value\n",
    "p_value = 2 * (1 - stats.t.cdf(np.abs(t_statistic), df=df))\n",
    "\n",
    "# Print results\n",
    "print(f\"Mean Difference: {mean_diff:.2f}\")\n",
    "print(f\"Standard Deviation of Differences: {std_dev_diff:.2f}\")\n",
    "print(f\"T-Statistic: {t_statistic:.4f}\")\n",
    "print(f\"P-Value: {p_value:.4f}\")\n",
    "\n",
    "# Interpretation\n",
    "alpha = 0.05  # Significance level\n",
    "if p_value < alpha:\n",
    "    print(\"Reject the null hypothesis: The tutoring program has a significant effect on exam scores.\")\n",
    "else:\n",
    "    print(\"Fail to reject the null hypothesis: The tutoring program does not have a significant effect on exam scores.\")\n"
   ]
  },
  {
   "cell_type": "markdown",
   "metadata": {},
   "source": [
    "13.A pharmaceutical company wants to determine if a new drug is effective in reducing blood pressure. They\n",
    "conduct a study and record blood pressure measurements before and after administering the drug.\n",
    "\n",
    "\n",
    "Use the below code to generate samples of respective arrays of blood pressure:\n",
    "\n",
    "\n",
    "```python\n",
    "\n",
    "before_drug = np.array([145, 150, 140, 135, 155, 160, 152, 148, 130, 138])\n",
    "\n",
    "after_drug = np.array([130, 140, 132, 128, 145, 148, 138, 136, 125, 130])\n",
    "\n",
    "  ```\n",
    "\n",
    "\n",
    "Implement z-test to find if the drug really works or Not."
   ]
  },
  {
   "cell_type": "code",
   "execution_count": 23,
   "metadata": {},
   "outputs": [
    {
     "name": "stdout",
     "output_type": "stream",
     "text": [
      "Mean Difference: 10.10\n",
      "Standard Deviation of Differences: 3.18\n",
      "T-Statistic: 10.0499\n",
      "P-Value: 0.0000\n",
      "Reject the null hypothesis: The drug has a significant effect on reducing blood pressure.\n"
     ]
    }
   ],
   "source": [
    "import numpy as np\n",
    "from scipy import stats\n",
    "\n",
    "# Generate data\n",
    "before_drug = np.array([145, 150, 140, 135, 155, 160, 152, 148, 130, 138])\n",
    "after_drug = np.array([130, 140, 132, 128, 145, 148, 138, 136, 125, 130])\n",
    "\n",
    "# Compute the differences\n",
    "differences = before_drug - after_drug\n",
    "\n",
    "# Calculate mean and standard deviation of differences\n",
    "mean_diff = np.mean(differences)\n",
    "std_dev_diff = np.std(differences, ddof=1)\n",
    "n = len(differences)\n",
    "\n",
    "# Calculate the t-statistic\n",
    "t_statistic = mean_diff / (std_dev_diff / np.sqrt(n))\n",
    "\n",
    "# Degrees of freedom\n",
    "df = n - 1\n",
    "\n",
    "# Calculate the p-value\n",
    "p_value = 2 * (1 - stats.t.cdf(np.abs(t_statistic), df=df))\n",
    "\n",
    "# Print results\n",
    "print(f\"Mean Difference: {mean_diff:.2f}\")\n",
    "print(f\"Standard Deviation of Differences: {std_dev_diff:.2f}\")\n",
    "print(f\"T-Statistic: {t_statistic:.4f}\")\n",
    "print(f\"P-Value: {p_value:.4f}\")\n",
    "\n",
    "# Interpretation\n",
    "alpha = 0.05  # Significance level\n",
    "if p_value < alpha:\n",
    "    print(\"Reject the null hypothesis: The drug has a significant effect on reducing blood pressure.\")\n",
    "else:\n",
    "    print(\"Fail to reject the null hypothesis: The drug does not have a significant effect on reducing blood pressure.\")\n"
   ]
  },
  {
   "cell_type": "markdown",
   "metadata": {},
   "source": [
    "14. A customer service department claims that their average response time is less than 5 minutes . A sample\n",
    "of recent customer interactions was taken, and the response times were recorded.\n",
    "\n",
    "\n",
    "Implement the below code to generate the array of response time:\n",
    "\n",
    "```python\n",
    "\n",
    "response_times = np.array([4.3, 3.8, 5.1, 4.9, 4.7, 4.2, 5.2, 4.5, 4.6, 4.4])\n",
    "\n",
    "```\n",
    "\n",
    "Implement z-test to find the claims made by customer service department are true or false."
   ]
  },
  {
   "cell_type": "code",
   "execution_count": 24,
   "metadata": {},
   "outputs": [
    {
     "name": "stdout",
     "output_type": "stream",
     "text": [
      "Sample Mean: 4.57\n",
      "Sample Standard Deviation: 0.43\n",
      "T-Statistic: -3.1845\n",
      "P-Value: 0.0056\n",
      "Reject the null hypothesis: The average response time is significantly less than 5 minutes.\n"
     ]
    }
   ],
   "source": [
    "import numpy as np\n",
    "from scipy import stats\n",
    "\n",
    "# Generate data\n",
    "response_times = np.array([4.3, 3.8, 5.1, 4.9, 4.7, 4.2, 5.2, 4.5, 4.6, 4.4])\n",
    "\n",
    "# Known population mean\n",
    "mu = 5.0\n",
    "\n",
    "# Sample mean and standard deviation\n",
    "sample_mean = np.mean(response_times)\n",
    "sample_std = np.std(response_times, ddof=1)\n",
    "n = len(response_times)\n",
    "\n",
    "# Calculate the t-statistic\n",
    "t_statistic = (sample_mean - mu) / (sample_std / np.sqrt(n))\n",
    "\n",
    "# Degrees of freedom\n",
    "df = n - 1\n",
    "\n",
    "# Calculate the p-value\n",
    "p_value = stats.t.cdf(t_statistic, df=df)\n",
    "\n",
    "# Print results\n",
    "print(f\"Sample Mean: {sample_mean:.2f}\")\n",
    "print(f\"Sample Standard Deviation: {sample_std:.2f}\")\n",
    "print(f\"T-Statistic: {t_statistic:.4f}\")\n",
    "print(f\"P-Value: {p_value:.4f}\")\n",
    "\n",
    "# Interpretation\n",
    "alpha = 0.05  # Significance level\n",
    "if p_value < alpha:\n",
    "    print(\"Reject the null hypothesis: The average response time is significantly less than 5 minutes.\")\n",
    "else:\n",
    "    print(\"Fail to reject the null hypothesis: The average response time is not significantly less than 5 minutes.\")\n"
   ]
  },
  {
   "cell_type": "markdown",
   "metadata": {},
   "source": [
    "15.A company is testing two different website layouts to see which one leads to higher click-through rates.\n",
    "\n",
    "Write a Python function to perform an A/B test analysis, including calculating the t-statistic, degrees of\n",
    "freedom, and p-value.\n",
    "\n",
    "\n",
    "Use the following data:\n",
    "\n",
    "```python\n",
    "\n",
    "layout_a_clicks = [28, 32, 33, 29, 31, 34, 30, 35, 36, 37]\n",
    "\n",
    "layout_b_clicks = [40, 41, 38, 42, 39, 44, 43, 41, 45, 47]"
   ]
  },
  {
   "cell_type": "code",
   "execution_count": 25,
   "metadata": {},
   "outputs": [
    {
     "name": "stdout",
     "output_type": "stream",
     "text": [
      "Mean Clicks (Layout A): 32.50\n",
      "Mean Clicks (Layout B): 42.00\n",
      "T-Statistic: -7.2981\n",
      "Degrees of Freedom: 17.8799\n",
      "P-Value: 0.0000\n",
      "Reject the null hypothesis: There is a significant difference in click-through rates between the two layouts.\n"
     ]
    }
   ],
   "source": [
    "import numpy as np\n",
    "from scipy import stats\n",
    "\n",
    "def ab_test_analysis(layout_a_clicks, layout_b_clicks):\n",
    "    # Convert lists to numpy arrays\n",
    "    layout_a_clicks = np.array(layout_a_clicks)\n",
    "    layout_b_clicks = np.array(layout_b_clicks)\n",
    "    \n",
    "    # Sample means\n",
    "    mean_a = np.mean(layout_a_clicks)\n",
    "    mean_b = np.mean(layout_b_clicks)\n",
    "    \n",
    "    # Sample standard deviations\n",
    "    std_a = np.std(layout_a_clicks, ddof=1)\n",
    "    std_b = np.std(layout_b_clicks, ddof=1)\n",
    "    \n",
    "    # Sample sizes\n",
    "    n_a = len(layout_a_clicks)\n",
    "    n_b = len(layout_b_clicks)\n",
    "    \n",
    "    # Calculate the t-statistic\n",
    "    t_statistic = (mean_a - mean_b) / np.sqrt((std_a**2 / n_a) + (std_b**2 / n_b))\n",
    "    \n",
    "    # Degrees of freedom using Welch's t-test formula\n",
    "    df = ((std_a**2 / n_a) + (std_b**2 / n_b))**2 / \\\n",
    "         (((std_a**2 / n_a)**2 / (n_a - 1)) + ((std_b**2 / n_b)**2 / (n_b - 1)))\n",
    "    \n",
    "    # Calculate the p-value (two-tailed test)\n",
    "    p_value = 2 * (1 - stats.t.cdf(np.abs(t_statistic), df=df))\n",
    "    \n",
    "    # Print results\n",
    "    print(f\"Mean Clicks (Layout A): {mean_a:.2f}\")\n",
    "    print(f\"Mean Clicks (Layout B): {mean_b:.2f}\")\n",
    "    print(f\"T-Statistic: {t_statistic:.4f}\")\n",
    "    print(f\"Degrees of Freedom: {df:.4f}\")\n",
    "    print(f\"P-Value: {p_value:.4f}\")\n",
    "    \n",
    "    # Interpretation\n",
    "    alpha = 0.05  # Significance level\n",
    "    if p_value < alpha:\n",
    "        print(\"Reject the null hypothesis: There is a significant difference in click-through rates between the two layouts.\")\n",
    "    else:\n",
    "        print(\"Fail to reject the null hypothesis: There is no significant difference in click-through rates between the two layouts.\")\n",
    "\n",
    "# Sample data\n",
    "layout_a_clicks = [28, 32, 33, 29, 31, 34, 30, 35, 36, 37]\n",
    "layout_b_clicks = [40, 41, 38, 42, 39, 44, 43, 41, 45, 47]\n",
    "\n",
    "# Perform A/B test analysis\n",
    "ab_test_analysis(layout_a_clicks, layout_b_clicks)\n",
    "\n"
   ]
  },
  {
   "cell_type": "markdown",
   "metadata": {},
   "source": [
    "16.A pharmaceutical company wants to determine if a new drug is more effective than an existing drug in\n",
    "reducing cholesterol levels Create a program to analyze the clinical trial data and calculate the tstatistic and p-value for the treatment effect.\n",
    "\n",
    "\n",
    "Use the following data of cholestrol level:\n",
    "\n",
    "```python\n",
    "\n",
    "existing_drug_levels = [180, 182, 175, 185, 178, 176, 172, 184, 179, 183]\n",
    "\n",
    "new_drug_levels = [170, 172, 165, 168, 175, 173, 170, 178, 172, 176]"
   ]
  },
  {
   "cell_type": "code",
   "execution_count": 26,
   "metadata": {},
   "outputs": [
    {
     "name": "stdout",
     "output_type": "stream",
     "text": [
      "Mean Cholesterol Level (Existing Drug): 179.40\n",
      "Mean Cholesterol Level (New Drug): 171.90\n",
      "T-Statistic: 4.1405\n",
      "Degrees of Freedom: 17.8668\n",
      "P-Value: 0.9997\n",
      "Fail to reject the null hypothesis: There is no significant difference in cholesterol reduction between the two drugs.\n"
     ]
    }
   ],
   "source": [
    "import numpy as np\n",
    "from scipy import stats\n",
    "\n",
    "def analyze_drug_effect(existing_drug_levels, new_drug_levels):\n",
    "    # Convert lists to numpy arrays\n",
    "    existing_drug_levels = np.array(existing_drug_levels)\n",
    "    new_drug_levels = np.array(new_drug_levels)\n",
    "    \n",
    "    # Sample means\n",
    "    mean_existing = np.mean(existing_drug_levels)\n",
    "    mean_new = np.mean(new_drug_levels)\n",
    "    \n",
    "    # Sample standard deviations\n",
    "    std_existing = np.std(existing_drug_levels, ddof=1)\n",
    "    std_new = np.std(new_drug_levels, ddof=1)\n",
    "    \n",
    "    # Sample sizes\n",
    "    n_existing = len(existing_drug_levels)\n",
    "    n_new = len(new_drug_levels)\n",
    "    \n",
    "    # Calculate the t-statistic\n",
    "    t_statistic = (mean_existing - mean_new) / np.sqrt((std_existing**2 / n_existing) + (std_new**2 / n_new))\n",
    "    \n",
    "    # Degrees of freedom using Welch's t-test formula\n",
    "    df = ((std_existing**2 / n_existing) + (std_new**2 / n_new))**2 / \\\n",
    "         (((std_existing**2 / n_existing)**2 / (n_existing - 1)) + ((std_new**2 / n_new)**2 / (n_new - 1)))\n",
    "    \n",
    "    # Calculate the p-value (one-tailed test)\n",
    "    p_value = stats.t.cdf(t_statistic, df=df)\n",
    "    \n",
    "    # Print results\n",
    "    print(f\"Mean Cholesterol Level (Existing Drug): {mean_existing:.2f}\")\n",
    "    print(f\"Mean Cholesterol Level (New Drug): {mean_new:.2f}\")\n",
    "    print(f\"T-Statistic: {t_statistic:.4f}\")\n",
    "    print(f\"Degrees of Freedom: {df:.4f}\")\n",
    "    print(f\"P-Value: {p_value:.4f}\")\n",
    "    \n",
    "    # Interpretation\n",
    "    alpha = 0.05  # Significance level\n",
    "    if p_value < alpha:\n",
    "        print(\"Reject the null hypothesis: The new drug significantly reduces cholesterol levels more than the existing drug.\")\n",
    "    else:\n",
    "        print(\"Fail to reject the null hypothesis: There is no significant difference in cholesterol reduction between the two drugs.\")\n",
    "\n",
    "# Sample data\n",
    "existing_drug_levels = [180, 182, 175, 185, 178, 176, 172, 184, 179, 183]\n",
    "new_drug_levels = [170, 172, 165, 168, 175, 173, 170, 178, 172, 176]\n",
    "\n",
    "# Analyze the drug effect\n",
    "analyze_drug_effect(existing_drug_levels, new_drug_levels)\n"
   ]
  },
  {
   "cell_type": "markdown",
   "metadata": {},
   "source": [
    "17.A school district introduces an educational intervention program to improve math scores. Write a Python\n",
    "function to analyze pre- and post-intervention test scores, calculating the t-statistic and p-value to\n",
    "determine if the intervention had a significant impact.\n",
    "\n",
    "\n",
    "Use the following data of test score:\n",
    "\n",
    "\n",
    "  ```python\n",
    "\n",
    "  pre_intervention_scores = [80, 85, 90, 75, 88, 82, 92, 78, 85, 87]\n",
    "\n",
    "  post_intervention_scores = [90, 92, 88, 92, 95, 91, 96, 93, 89, 93]"
   ]
  },
  {
   "cell_type": "code",
   "execution_count": 27,
   "metadata": {},
   "outputs": [
    {
     "name": "stdout",
     "output_type": "stream",
     "text": [
      "Mean Difference: 7.70\n",
      "T-Statistic: 4.4284\n",
      "Degrees of Freedom: 9\n",
      "P-Value: 0.0017\n",
      "Reject the null hypothesis: The intervention had a significant impact on math scores.\n"
     ]
    }
   ],
   "source": [
    "import numpy as np\n",
    "from scipy import stats\n",
    "\n",
    "def analyze_intervention_effect(pre_scores, post_scores):\n",
    "    # Convert lists to numpy arrays\n",
    "    pre_scores = np.array(pre_scores)\n",
    "    post_scores = np.array(post_scores)\n",
    "    \n",
    "    # Calculate the differences\n",
    "    differences = post_scores - pre_scores\n",
    "    \n",
    "    # Calculate the mean and standard deviation of the differences\n",
    "    mean_difference = np.mean(differences)\n",
    "    std_difference = np.std(differences, ddof=1)\n",
    "    \n",
    "    # Sample size\n",
    "    n = len(differences)\n",
    "    \n",
    "    # Calculate the t-statistic\n",
    "    t_statistic = mean_difference / (std_difference / np.sqrt(n))\n",
    "    \n",
    "    # Degrees of freedom\n",
    "    df = n - 1\n",
    "    \n",
    "    # Calculate the p-value (two-tailed test)\n",
    "    p_value = 2 * (1 - stats.t.cdf(np.abs(t_statistic), df=df))\n",
    "    \n",
    "    # Print results\n",
    "    print(f\"Mean Difference: {mean_difference:.2f}\")\n",
    "    print(f\"T-Statistic: {t_statistic:.4f}\")\n",
    "    print(f\"Degrees of Freedom: {df}\")\n",
    "    print(f\"P-Value: {p_value:.4f}\")\n",
    "    \n",
    "    # Interpretation\n",
    "    alpha = 0.05  # Significance level\n",
    "    if p_value < alpha:\n",
    "        print(\"Reject the null hypothesis: The intervention had a significant impact on math scores.\")\n",
    "    else:\n",
    "        print(\"Fail to reject the null hypothesis: The intervention did not have a significant impact on math scores.\")\n",
    "\n",
    "# Sample data\n",
    "pre_intervention_scores = [80, 85, 90, 75, 88, 82, 92, 78, 85, 87]\n",
    "post_intervention_scores = [90, 92, 88, 92, 95, 91, 96, 93, 89, 93]\n",
    "\n",
    "# Analyze the intervention effect\n",
    "analyze_intervention_effect(pre_intervention_scores, post_intervention_scores)\n"
   ]
  },
  {
   "cell_type": "markdown",
   "metadata": {},
   "source": [
    "18.An HR department wants to investigate if there's a gender-based salary gap within the company. Develop\n",
    "a program to analyze salary data, calculate the t-statistic, and determine if there's a statistically\n",
    "significant difference between the average salaries of male and female employees.\n",
    "\n",
    "\n",
    "Use the below code to generate synthetic data.\n",
    "```python\n",
    "\n",
    "# Generate synthetic salary data for male and female employees\n",
    "\n",
    "np.random.seed(0)  # For reproducibility\n",
    "\n",
    "male_salaries = np.random.normal(loc=50000, scale=10000, size=20)\n",
    "\n",
    "female_salaries = np.random.normal(loc=55000, scale=9000, size=20)"
   ]
  },
  {
   "cell_type": "code",
   "execution_count": 28,
   "metadata": {},
   "outputs": [
    {
     "name": "stdout",
     "output_type": "stream",
     "text": [
      "Mean Salary (Male): $55693.35\n",
      "Mean Salary (Female): $55501.75\n",
      "T-Statistic: 0.0611\n",
      "P-Value: 0.9516\n",
      "Fail to reject the null hypothesis: There is no statistically significant difference between male and female salaries.\n"
     ]
    }
   ],
   "source": [
    "import numpy as np\n",
    "from scipy import stats\n",
    "\n",
    "def analyze_salary_gap(male_salaries, female_salaries):\n",
    "    # Convert lists to numpy arrays\n",
    "    male_salaries = np.array(male_salaries)\n",
    "    female_salaries = np.array(female_salaries)\n",
    "    \n",
    "    # Sample means\n",
    "    mean_male = np.mean(male_salaries)\n",
    "    mean_female = np.mean(female_salaries)\n",
    "    \n",
    "    # Sample standard deviations\n",
    "    std_male = np.std(male_salaries, ddof=1)\n",
    "    std_female = np.std(female_salaries, ddof=1)\n",
    "    \n",
    "    # Sample sizes\n",
    "    n_male = len(male_salaries)\n",
    "    n_female = len(female_salaries)\n",
    "    \n",
    "    # Calculate the t-statistic\n",
    "    t_statistic, p_value = stats.ttest_ind(male_salaries, female_salaries, equal_var=False)\n",
    "    \n",
    "    # Print results\n",
    "    print(f\"Mean Salary (Male): ${mean_male:.2f}\")\n",
    "    print(f\"Mean Salary (Female): ${mean_female:.2f}\")\n",
    "    print(f\"T-Statistic: {t_statistic:.4f}\")\n",
    "    print(f\"P-Value: {p_value:.4f}\")\n",
    "    \n",
    "    # Interpretation\n",
    "    alpha = 0.05  # Significance level\n",
    "    if p_value < alpha:\n",
    "        print(\"Reject the null hypothesis: There is a statistically significant difference between male and female salaries.\")\n",
    "    else:\n",
    "        print(\"Fail to reject the null hypothesis: There is no statistically significant difference between male and female salaries.\")\n",
    "\n",
    "# Generate synthetic salary data for male and female employees\n",
    "np.random.seed(0)  # For reproducibility\n",
    "male_salaries = np.random.normal(loc=50000, scale=10000, size=20)\n",
    "female_salaries = np.random.normal(loc=55000, scale=9000, size=20)\n",
    "\n",
    "# Analyze the salary gap\n",
    "analyze_salary_gap(male_salaries, female_salaries)\n"
   ]
  },
  {
   "cell_type": "markdown",
   "metadata": {},
   "source": [
    "19.A manufacturer produces two different versions of a product and wants to compare their quality scores.\n",
    "Create a Python function to analyze quality assessment data, calculate the t-statistic, and decide\n",
    "whether there's a significant difference in quality between the two versions.\n",
    "\n",
    "\n",
    "Use the following data:\n",
    "```python\n",
    "\n",
    "version1_scores = [85, 88, 82, 89, 87, 84, 90, 88, 85, 86, 91, 83, 87, 84, 89, 86, 84, 88, 85, 86, 89, 90, 87, 88, 85]\n",
    "\n",
    "version2_scores = [80, 78, 83, 81, 79, 82, 76, 80, 78, 81, 77, 82, 80, 79, 82, 79, 80, 81, 79, 82, 79, 78, 80, 81, 82]\n",
    "\n",
    "``"
   ]
  },
  {
   "cell_type": "markdown",
   "metadata": {},
   "source": [
    " 20. A restaurant chain collects customer satisfaction scores @or two different branches. Write a program to\n",
    "analyze the scores, calculate the t-statistic, and determine if there's a statistically significant difference in\n",
    "customer satisfaction between the branches.\n",
    "\n",
    "\n",
    "Use the below data of scores:\n",
    "\n",
    "  ```python\n",
    "\n",
    "branch_a_scores = [4, 5, 3, 4, 5, 4, 5, 3, 4, 4, 5, 4, 4, 3, 4, 5, 5, 4, 3, 4, 5, 4, 3, 5, 4, 4, 5, 3, 4, 5, 4]\n",
    "\n",
    "branch_b_scores = [3, 4, 2, 3, 4, 3, 4, 2, 3, 3, 4, 3, 3, 2, 3, 4, 4, 3, 2, 3, 4, 3, 2, 4, 3, 3, 4, 2, 3, 4, 3]"
   ]
  },
  {
   "cell_type": "code",
   "execution_count": 29,
   "metadata": {},
   "outputs": [
    {
     "name": "stdout",
     "output_type": "stream",
     "text": [
      "Mean Quality Score (Version 1): 86.64\n",
      "Mean Quality Score (Version 2): 79.96\n",
      "T-Statistic: 11.3258\n",
      "P-Value: 0.0000\n",
      "Reject the null hypothesis: There is a statistically significant difference in quality between the two versions.\n"
     ]
    }
   ],
   "source": [
    "import numpy as np\n",
    "from scipy import stats\n",
    "\n",
    "def analyze_quality_difference(version1_scores, version2_scores):\n",
    "    # Convert lists to numpy arrays\n",
    "    version1_scores = np.array(version1_scores)\n",
    "    version2_scores = np.array(version2_scores)\n",
    "    \n",
    "    # Sample means\n",
    "    mean_version1 = np.mean(version1_scores)\n",
    "    mean_version2 = np.mean(version2_scores)\n",
    "    \n",
    "    # Sample standard deviations\n",
    "    std_version1 = np.std(version1_scores, ddof=1)\n",
    "    std_version2 = np.std(version2_scores, ddof=1)\n",
    "    \n",
    "    # Sample sizes\n",
    "    n_version1 = len(version1_scores)\n",
    "    n_version2 = len(version2_scores)\n",
    "    \n",
    "    # Calculate the t-statistic\n",
    "    t_statistic, p_value = stats.ttest_ind(version1_scores, version2_scores, equal_var=False)\n",
    "    \n",
    "    # Print results\n",
    "    print(f\"Mean Quality Score (Version 1): {mean_version1:.2f}\")\n",
    "    print(f\"Mean Quality Score (Version 2): {mean_version2:.2f}\")\n",
    "    print(f\"T-Statistic: {t_statistic:.4f}\")\n",
    "    print(f\"P-Value: {p_value:.4f}\")\n",
    "    \n",
    "    # Interpretation\n",
    "    alpha = 0.05  # Significance level\n",
    "    if p_value < alpha:\n",
    "        print(\"Reject the null hypothesis: There is a statistically significant difference in quality between the two versions.\")\n",
    "    else:\n",
    "        print(\"Fail to reject the null hypothesis: There is no statistically significant difference in quality between the two versions.\")\n",
    "\n",
    "# Sample data\n",
    "version1_scores = [85, 88, 82, 89, 87, 84, 90, 88, 85, 86, 91, 83, 87, 84, 89, 86, 84, 88, 85, 86, 89, 90, 87, 88, 85]\n",
    "version2_scores = [80, 78, 83, 81, 79, 82, 76, 80, 78, 81, 77, 82, 80, 79, 82, 79, 80, 81, 79, 82, 79, 78, 80, 81, 82]\n",
    "\n",
    "# Analyze the quality difference\n",
    "analyze_quality_difference(version1_scores, version2_scores)\n"
   ]
  },
  {
   "cell_type": "markdown",
   "metadata": {},
   "source": [
    "21.A political analyst wants to determine if there is a significant association between age groups and voter\n",
    "preferences Candidate A or Candidate B). They collect data from a sample of 500 voters and classify\n",
    "them into different age groups and candidate preferences. Perform a Chi-Square test to determine if\n",
    "there is a significant association between age groups and voter preferences.\n",
    "\n",
    "\n",
    "Use the below code to generate data:\n",
    "\n",
    "```python\n",
    "\n",
    "np.random.seed(0)\n",
    "\n",
    "age_groups = np.random.choice([ 18 30 , 31 50 , 51+', 51+'], size=30)\n",
    "\n",
    "voter_preferences = np.random.choice(['Candidate A', 'Candidate B'], size=30)"
   ]
  },
  {
   "cell_type": "code",
   "execution_count": 30,
   "metadata": {},
   "outputs": [
    {
     "name": "stdout",
     "output_type": "stream",
     "text": [
      "Contingency Table:\n",
      "Voter Preference  Candidate A  Candidate B\n",
      "Age Group                                 \n",
      "18-30                      95           87\n",
      "31-50                      87           82\n",
      "51+                        84           65\n",
      "\n",
      "Chi-Square Statistic: 0.8779923945254768\n",
      "Degrees of Freedom: 2\n",
      "P-Value: 0.6446832311860852\n",
      "Fail to reject the null hypothesis: There is no significant association between age groups and voter preferences.\n"
     ]
    }
   ],
   "source": [
    "import numpy as np\n",
    "import pandas as pd\n",
    "from scipy.stats import chi2_contingency\n",
    "\n",
    "# Generate the data\n",
    "np.random.seed(0)\n",
    "age_groups = np.random.choice(['18-30', '31-50', '51+'], size=500)\n",
    "voter_preferences = np.random.choice(['Candidate A', 'Candidate B'], size=500)\n",
    "\n",
    "# Create a DataFrame to store the data\n",
    "data = pd.DataFrame({'Age Group': age_groups, 'Voter Preference': voter_preferences})\n",
    "\n",
    "# Create a contingency table\n",
    "contingency_table = pd.crosstab(data['Age Group'], data['Voter Preference'])\n",
    "\n",
    "# Perform the Chi-Square test\n",
    "chi2_stat, p_value, dof, expected = chi2_contingency(contingency_table)\n",
    "\n",
    "# Print the contingency table and test results\n",
    "print(\"Contingency Table:\")\n",
    "print(contingency_table)\n",
    "print(\"\\nChi-Square Statistic:\", chi2_stat)\n",
    "print(\"Degrees of Freedom:\", dof)\n",
    "print(\"P-Value:\", p_value)\n",
    "\n",
    "# Interpretation\n",
    "alpha = 0.05  # Significance level\n",
    "if p_value < alpha:\n",
    "    print(\"Reject the null hypothesis: There is a significant association between age groups and voter preferences.\")\n",
    "else:\n",
    "    print(\"Fail to reject the null hypothesis: There is no significant association between age groups and voter preferences.\")\n"
   ]
  },
  {
   "cell_type": "markdown",
   "metadata": {},
   "source": [
    " 22. A company conducted a customer satisfaction survey to determine if there is a significant relationship\n",
    "between product satisfaction levels (Satisfied, Neutral, Dissatisfied) and the region where customers are\n",
    "located (East, West, North, South). The survey data is summarized in a contingency table. Conduct a ChiSquare test to determine if there is a significant relationship between product satisfaction levels and\n",
    "customer regions.\n",
    "\n",
    "\n",
    "Sample data:\n",
    "\n",
    "```python\n",
    "\n",
    "#Sample data: Product satisfaction levels (rows) vs. Customer regions (columns)\n",
    "\n",
    "data = np.array([[50, 30, 40, 20], [30, 40, 30, 50], [20, 30, 40, 30]])\n",
    "\n",
    "```"
   ]
  },
  {
   "cell_type": "code",
   "execution_count": 2,
   "metadata": {},
   "outputs": [
    {
     "name": "stdout",
     "output_type": "stream",
     "text": [
      "Chi-Square Statistic: 27.777056277056275\n",
      "p-value: 0.00010349448486004387\n",
      "Degrees of Freedom: 6\n",
      "Expected Frequencies:\n",
      "[[34.14634146 34.14634146 37.56097561 34.14634146]\n",
      " [36.58536585 36.58536585 40.24390244 36.58536585]\n",
      " [29.26829268 29.26829268 32.19512195 29.26829268]]\n"
     ]
    }
   ],
   "source": [
    "import numpy as np\n",
    "from scipy.stats import chi2_contingency\n",
    "\n",
    "# Sample data: Product satisfaction levels (rows) vs. Customer regions (columns)\n",
    "data = np.array([[50, 30, 40, 20], [30, 40, 30, 50], [20, 30, 40, 30]])\n",
    "\n",
    "# Perform the Chi-Square test\n",
    "chi2, p, dof, expected = chi2_contingency(data)\n",
    "\n",
    "# Output the results\n",
    "print(f\"Chi-Square Statistic: {chi2}\")\n",
    "print(f\"p-value: {p}\")\n",
    "print(f\"Degrees of Freedom: {dof}\")\n",
    "print(\"Expected Frequencies:\")\n",
    "print(expected)\n"
   ]
  },
  {
   "cell_type": "markdown",
   "metadata": {},
   "source": [
    " 23. A company implemented an employee training program to improve job performance (Effective, Neutral,\n",
    "Ineffective). After the training, they collected data from a sample of employees and classified them based\n",
    "on their job performance before and after the training. Perform a Chi-Square test to determine if there is a\n",
    "significant difference between job performance levels before and after the training.\n",
    "\n",
    "\n",
    "Sample data:\n",
    "\n",
    "```python\n",
    "\n",
    "# Sample data: Job performance levels before (rows) and after (columns) training\n",
    "\n",
    "data = np.array([[50, 30, 20], [30, 40, 30], [20, 30, 40]])\n",
    "\n",
    "```"
   ]
  },
  {
   "cell_type": "code",
   "execution_count": 3,
   "metadata": {},
   "outputs": [
    {
     "name": "stdout",
     "output_type": "stream",
     "text": [
      "Chi-Square Statistic: 22.161728395061726\n",
      "p-value: 0.00018609719479882557\n",
      "Degrees of Freedom: 4\n",
      "Expected Frequencies:\n",
      "[[34.48275862 34.48275862 31.03448276]\n",
      " [34.48275862 34.48275862 31.03448276]\n",
      " [31.03448276 31.03448276 27.93103448]]\n"
     ]
    }
   ],
   "source": [
    "import numpy as np\n",
    "from scipy.stats import chi2_contingency\n",
    "\n",
    "# Sample data: Job performance levels before (rows) and after (columns) training\n",
    "data = np.array([[50, 30, 20], [30, 40, 30], [20, 30, 40]])\n",
    "\n",
    "# Perform the Chi-Square test\n",
    "chi2, p, dof, expected = chi2_contingency(data)\n",
    "\n",
    "# Output the results\n",
    "print(f\"Chi-Square Statistic: {chi2}\")\n",
    "print(f\"p-value: {p}\")\n",
    "print(f\"Degrees of Freedom: {dof}\")\n",
    "print(\"Expected Frequencies:\")\n",
    "print(expected)\n"
   ]
  },
  {
   "cell_type": "markdown",
   "metadata": {},
   "source": [
    "24. A company produces three different versions of a product: Standard, Premium, and Deluxe. The\n",
    "company wants to determine if there is a significant difference in customer satisfaction scores among the\n",
    "three product versions. They conducted a survey and collected customer satisfaction scores for each\n",
    "version from a random sample of customers. Perform an ANOVA test to determine if there is a significant\n",
    "difference in customer satisfaction scores.\n",
    "\n",
    "\n",
    "  Use the following data:\n",
    "\n",
    "  ```python\n",
    "\n",
    "  # Sample data: Customer satisfaction scores for each product version\n",
    "\n",
    "  standard_scores = [80, 85, 90, 78, 88, 82, 92, 78, 85, 87]\n",
    "\n",
    "  premium_scores = [90, 92, 88, 92, 95, 91, 96, 93, 89, 93]\n",
    "\n",
    "  deluxe_scores = [95, 98, 92, 97, 96, 94, 98, 97, 92, 99]"
   ]
  },
  {
   "cell_type": "code",
   "execution_count": 4,
   "metadata": {},
   "outputs": [
    {
     "name": "stdout",
     "output_type": "stream",
     "text": [
      "F-Statistic: 27.03556231003039\n",
      "p-value: 3.5786328857349003e-07\n"
     ]
    }
   ],
   "source": [
    "from scipy.stats import f_oneway\n",
    "\n",
    "# Sample data: Customer satisfaction scores for each product version\n",
    "standard_scores = [80, 85, 90, 78, 88, 82, 92, 78, 85, 87]\n",
    "premium_scores = [90, 92, 88, 92, 95, 91, 96, 93, 89, 93]\n",
    "deluxe_scores = [95, 98, 92, 97, 96, 94, 98, 97, 92, 99]\n",
    "\n",
    "# Perform the ANOVA test\n",
    "f_statistic, p_value = f_oneway(standard_scores, premium_scores, deluxe_scores)\n",
    "\n",
    "# Output the results\n",
    "print(f\"F-Statistic: {f_statistic}\")\n",
    "print(f\"p-value: {p_value}\")\n"
   ]
  },
  {
   "cell_type": "code",
   "execution_count": null,
   "metadata": {},
   "outputs": [],
   "source": []
  }
 ],
 "metadata": {
  "kernelspec": {
   "display_name": "base",
   "language": "python",
   "name": "python3"
  },
  "language_info": {
   "codemirror_mode": {
    "name": "ipython",
    "version": 3
   },
   "file_extension": ".py",
   "mimetype": "text/x-python",
   "name": "python",
   "nbconvert_exporter": "python",
   "pygments_lexer": "ipython3",
   "version": "3.11.7"
  }
 },
 "nbformat": 4,
 "nbformat_minor": 2
}
