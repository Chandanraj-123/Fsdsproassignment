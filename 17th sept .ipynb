{
 "cells": [
  {
   "cell_type": "markdown",
   "id": "676bd5cf-5598-44be-8279-37e551e3bfbf",
   "metadata": {},
   "source": [
    "# Python assignment 17th sept FSDS"
   ]
  },
  {
   "cell_type": "markdown",
   "id": "50417d9d-2e4e-4f8f-999c-52405d723402",
   "metadata": {},
   "source": [
    "## For Loop :-"
   ]
  },
  {
   "cell_type": "markdown",
   "id": "3e3d9a48-3c8b-4a68-bcd9-9ec40b988c98",
   "metadata": {},
   "source": [
    "### 1.Write a Python program to print numbers from 1 to 10 using a for loop."
   ]
  },
  {
   "cell_type": "code",
   "execution_count": 1,
   "id": "229237a4-1afb-46ba-9ea1-8177380b631a",
   "metadata": {},
   "outputs": [
    {
     "name": "stdout",
     "output_type": "stream",
     "text": [
      "1\n",
      "2\n",
      "3\n",
      "4\n",
      "5\n",
      "6\n",
      "7\n",
      "8\n",
      "9\n",
      "10\n"
     ]
    }
   ],
   "source": [
    "for i in range(1, 11):\n",
    "    print(i)\n"
   ]
  },
  {
   "cell_type": "markdown",
   "id": "0ad770bb-b8ce-4c85-963e-401053f676b5",
   "metadata": {},
   "source": [
    "### 2.Explain the difference between a for loop and a while loop in Python.\n"
   ]
  },
  {
   "cell_type": "raw",
   "id": "d0c74ccb-633e-4d1f-bfe4-e0ac5f29842f",
   "metadata": {},
   "source": [
    "For Loop\n",
    "Purpose: Iterates over a sequence (such as a list, tuple, string, or range) or other iterable objects.\n",
    "Syntax:\n",
    "\n",
    "for variable in iterable:\n",
    "    # code block\n",
    "\n",
    "Typical Use Case: When the number of iterations is known or finite, such as iterating over list elements or a range of numbers.\n",
    "Example:\n",
    "\n",
    "for i in range(1, 11):\n",
    "    print(i)\n",
    "\n",
    "While Loop:\n",
    "\n",
    "Purpose: Repeats a block of code as long as a specified condition is true.\n",
    "Syntax:\n",
    "\n",
    "while condition:\n",
    "    # code block\n",
    "\n",
    "Typical Use Case: When the number of iterations is not known beforehand and depends on a condition that changes during the loop's execution.\n",
    "\n",
    "Example:\n",
    "\n",
    "i = 1\n",
    "while i <= 10:\n",
    "    print(i)\n",
    "    i += 1\n",
    "\n",
    "Key Differences\n",
    "Iteration Control:\n",
    "for loop: Iteration is controlled by the sequence or iterable.\n",
    "while loop: Iteration is controlled by a condition.\n",
    "\n",
    "Initialization:\n",
    "for loop: Automatically initializes the loop variable with each element of the iterable.\n",
    "while loop: Requires manual initialization and updating of the loop variable.\n",
    "\n",
    "Typical Use Cases:\n",
    "for loop: Ideal for iterating over a predefined set of items.\n",
    "while loop: Ideal for scenarios where the loop should continue until a specific condition is met.\n",
    "\n",
    "Example of for Loop:\n",
    "python\n",
    "Copy code\n",
    "fruits = [\"apple\", \"banana\", \"cherry\"]\n",
    "for fruit in fruits:\n",
    "    print(fruit)\n",
    "Example of while Loop:\n",
    "python\n",
    "Copy code\n",
    "count = 0\n",
    "while count < 3:\n",
    "    print(\"Hello, World!\")\n",
    "    count += 1"
   ]
  },
  {
   "cell_type": "markdown",
   "id": "ff7e3208-5667-4413-a570-96fb58350d51",
   "metadata": {},
   "source": [
    "### 3.Write a Python program to calculate the sum of all numbers from 1 to 100 using a for loop.\n"
   ]
  },
  {
   "cell_type": "code",
   "execution_count": 3,
   "id": "6088f56c-07c2-4edc-8259-bae2a17ef111",
   "metadata": {},
   "outputs": [
    {
     "name": "stdout",
     "output_type": "stream",
     "text": [
      "The sum of all number is : 5050\n"
     ]
    }
   ],
   "source": [
    "total_sum=0\n",
    "for i in range (1,101):\n",
    "    total_sum+=i\n",
    "print(\"The sum of all number is :\",total_sum)"
   ]
  },
  {
   "cell_type": "markdown",
   "id": "c5b19348-35b7-4b01-9cdf-787a0ae32523",
   "metadata": {},
   "source": [
    "### 4.How do you iterate through a list using a for loop in Python?"
   ]
  },
  {
   "cell_type": "raw",
   "id": "e680b8a9-8e06-4c4a-be76-620c0ec934c2",
   "metadata": {},
   "source": [
    "Iterate through a list using a for loop by directly iterating over the elements of the list. Here is an example to illustrate this:\n",
    "\n",
    "# Example list\n",
    "fruits = [\"apple\", \"banana\", \"cherry\", \"date\"]\n",
    "\n",
    "# Iterating through the list using a for loop\n",
    "for fruit in fruits:\n",
    "    print(fruit)\n",
    "In this example, the for loop goes through each element in the fruits list, and the variable fruit takes on the value of each element in each iteration. \n",
    "The print(fruit) statement prints the current element of the list.\n",
    "\n",
    "Output:\n",
    "bash\n",
    "Copy code\n",
    "apple\n",
    "banana\n",
    "cherry\n",
    "date\n",
    "This method is straight forward and commonly used to access each element in a list."
   ]
  },
  {
   "cell_type": "markdown",
   "id": "18e266e1-742f-464e-a424-37b72b111aa6",
   "metadata": {},
   "source": [
    "### 5.Write a Python program to find the product of all elements in a list using a for loop.\n"
   ]
  },
  {
   "cell_type": "code",
   "execution_count": 7,
   "id": "13d4cfb3-028d-4e07-8691-901272d53119",
   "metadata": {},
   "outputs": [
    {
     "name": "stdout",
     "output_type": "stream",
     "text": [
      "total multiplication from the list is : 24\n"
     ]
    }
   ],
   "source": [
    "my_list=[1,2,3,4]\n",
    "mul_output=1\n",
    "for i in my_list:\n",
    "    mul_output*=i\n",
    "print(\"total multiplication from the list is :\",mul_output)\n",
    "    "
   ]
  },
  {
   "cell_type": "markdown",
   "id": "24dab8ac-5fdd-4542-9938-1c0306580582",
   "metadata": {},
   "source": [
    "### 6.Create a Python program that prints all even numbers from 1 to 20 using a for loop."
   ]
  },
  {
   "cell_type": "code",
   "execution_count": 14,
   "id": "ddbbb5ed-1232-4060-8670-fa614b35a19f",
   "metadata": {},
   "outputs": [
    {
     "name": "stdout",
     "output_type": "stream",
     "text": [
      "2\n",
      "4\n",
      "6\n",
      "8\n",
      "10\n",
      "12\n",
      "14\n",
      "16\n",
      "18\n",
      "20\n"
     ]
    }
   ],
   "source": [
    "for i in range(1,21):\n",
    "    if i%2 == 0:\n",
    "        print(i)"
   ]
  },
  {
   "cell_type": "markdown",
   "id": "95d9660a-8043-49a2-b961-867c82e3dcf4",
   "metadata": {},
   "source": [
    "### 7.Write a Python program that calculates the factorial of a number using a for loop."
   ]
  },
  {
   "cell_type": "code",
   "execution_count": 20,
   "id": "085026de-cee3-4d18-8654-e8777cc07964",
   "metadata": {},
   "outputs": [
    {
     "name": "stdout",
     "output_type": "stream",
     "text": [
      "enter the number : 5\n"
     ]
    },
    {
     "name": "stdout",
     "output_type": "stream",
     "text": [
      "total number factorial is :  120\n"
     ]
    }
   ],
   "source": [
    "def factorial(n):\n",
    "    fact=1\n",
    "    for i in range (1,n+1):\n",
    "        fact*=i\n",
    "    return fact\n",
    "num=int(input(\"enter the number :\"))\n",
    "print(\"total number factorial is : \"  , factorial(num))"
   ]
  },
  {
   "cell_type": "markdown",
   "id": "750ad42d-bae6-49eb-985b-6090b2443dbd",
   "metadata": {},
   "source": [
    "### 8.How can you iterate through the characters of a string using a for loop in Python?"
   ]
  },
  {
   "cell_type": "code",
   "execution_count": 21,
   "id": "a3db6bbc-8c19-4d17-abce-9ffbc4d9288c",
   "metadata": {},
   "outputs": [
    {
     "name": "stdout",
     "output_type": "stream",
     "text": [
      "H\n",
      "e\n",
      "l\n",
      "l\n",
      "o\n",
      ",\n",
      " \n",
      "W\n",
      "o\n",
      "r\n",
      "l\n",
      "d\n",
      "!\n"
     ]
    }
   ],
   "source": [
    "my_string = \"Hello, World!\"\n",
    "for string in my_string:\n",
    "    print(string)"
   ]
  },
  {
   "cell_type": "markdown",
   "id": "d108c6ef-4bb2-4e58-a93c-b109063ae445",
   "metadata": {},
   "source": [
    "### 9.Write a Python program to find the largest number in a list using a for loop.\n",
    "\n"
   ]
  },
  {
   "cell_type": "code",
   "execution_count": 36,
   "id": "6e051b38-4117-493a-a0d4-e935f7afaba7",
   "metadata": {},
   "outputs": [
    {
     "name": "stdout",
     "output_type": "stream",
     "text": [
      "Enter the numbers: 1,2,5,3,8\n"
     ]
    },
    {
     "name": "stdout",
     "output_type": "stream",
     "text": [
      "Largest number from the list is : 8\n"
     ]
    }
   ],
   "source": [
    "def find_lar_num(nums):\n",
    "    large_num=nums[0]\n",
    "    for num in nums:\n",
    "        if large_num<num:\n",
    "            large_num=num\n",
    "    return large_num\n",
    "numbers_input=(input(\"Enter the numbers:\"))\n",
    "number_list=[int(number) for number in numbers_input.split(',')]\n",
    "largest_num=find_lar_num(number_list)\n",
    "print(\"Largest number from the list is :\",largest_num)"
   ]
  },
  {
   "cell_type": "markdown",
   "id": "3eb590ba-2fdf-499b-b6d5-8723af71c865",
   "metadata": {},
   "source": [
    "### 10.Create a Python program that prints the Fibonacci sequence up to a specified limit using a for loop."
   ]
  },
  {
   "cell_type": "code",
   "execution_count": 38,
   "id": "c873d750-1a2c-44d8-81dc-f423833f72f8",
   "metadata": {},
   "outputs": [
    {
     "name": "stdout",
     "output_type": "stream",
     "text": [
      "Enter the last number of fibonacci: 10\n"
     ]
    },
    {
     "name": "stdout",
     "output_type": "stream",
     "text": [
      "result: [0, 1, 1, 2, 3, 5, 8]\n"
     ]
    }
   ],
   "source": [
    "def fabci_fun(num):\n",
    "    fib_sequence=[0,1]\n",
    "    for i in range (2, num):\n",
    "        next_num=fib_sequence[-1]+fib_sequence[-2]\n",
    "        if next_num<=limit:\n",
    "            fib_sequence.append(next_num)\n",
    "        else:\n",
    "            break\n",
    "    return fib_sequence\n",
    "limit=int(input(\"Enter the last number of fibonacci:\" ))\n",
    "print(\"result:\",fabci_fun(limit))"
   ]
  },
  {
   "cell_type": "markdown",
   "id": "3fe549bc-030b-407f-9601-70fb9144e7a7",
   "metadata": {},
   "source": [
    "### 11.Write a Python program to count the number of vowels in a given string using a for loop."
   ]
  },
  {
   "cell_type": "code",
   "execution_count": 42,
   "id": "f1c34a1c-c220-4097-90bd-3106c1ff0846",
   "metadata": {},
   "outputs": [
    {
     "name": "stdout",
     "output_type": "stream",
     "text": [
      "enter the input: hello tell me the truth\n"
     ]
    },
    {
     "name": "stdout",
     "output_type": "stream",
     "text": [
      "The total number of vowels count in input is : 6\n"
     ]
    }
   ],
   "source": [
    "def vowel_count(letters):\n",
    "    count=0\n",
    "    for letter in letters.lower():\n",
    "        if letter in 'aeiou':\n",
    "            count+=1\n",
    "    return count\n",
    "input_var=input(\"enter the input:\")\n",
    "\n",
    "print(\"The total number of vowels count in input is :\",vowel_count(input_var))\n",
    "        "
   ]
  },
  {
   "cell_type": "markdown",
   "id": "0272ad96-8971-4021-84e4-a90fc1e037fa",
   "metadata": {},
   "source": [
    "### 12.Create a Python program that generates a multiplication table for a given number using a for loop."
   ]
  },
  {
   "cell_type": "code",
   "execution_count": 47,
   "id": "61638aac-c139-4d44-9748-d1b5ffd2c439",
   "metadata": {},
   "outputs": [
    {
     "name": "stdout",
     "output_type": "stream",
     "text": [
      "Enter the number: 2\n"
     ]
    },
    {
     "name": "stdout",
     "output_type": "stream",
     "text": [
      "2 * 1 =2\n",
      "2 * 2 =4\n",
      "2 * 3 =6\n",
      "2 * 4 =8\n",
      "2 * 5 =10\n",
      "2 * 6 =12\n",
      "2 * 7 =14\n",
      "2 * 8 =16\n",
      "2 * 9 =18\n",
      "2 * 10 =20\n"
     ]
    }
   ],
   "source": [
    "def mul_table(number):\n",
    "    for  i in range(1,11):\n",
    "        print(f\"{number} * {i} ={number*i}\")\n",
    "number=int(input(\"Enter the number:\"))\n",
    "mul_table(number)"
   ]
  },
  {
   "cell_type": "markdown",
   "id": "108c6957-b8a2-4dde-9135-c187b00295ed",
   "metadata": {},
   "source": [
    "### 13.Write a Python program to reverse a list using a for loop.\n"
   ]
  },
  {
   "cell_type": "code",
   "execution_count": 48,
   "id": "5702495e-714a-4c26-bf12-47a9012ed972",
   "metadata": {},
   "outputs": [
    {
     "name": "stdout",
     "output_type": "stream",
     "text": [
      "Original list: [1, 2, 3, 4, 5]\n",
      "Reversed list: [5, 4, 3, 2, 1]\n"
     ]
    }
   ],
   "source": [
    "def reverse_list(input_list):\n",
    "    reversed_list = []\n",
    "    # Iterate through the input_list from last to first element\n",
    "    for i in range(len(input_list) - 1, -1, -1):\n",
    "        reversed_list.append(input_list[i])\n",
    "    return reversed_list\n",
    "\n",
    "# Example list\n",
    "my_list = [1, 2, 3, 4, 5]\n",
    "\n",
    "# Print the original list\n",
    "print(\"Original list:\", my_list)\n",
    "\n",
    "# Reverse the list using the function and print the reversed list\n",
    "reversed_list = reverse_list(my_list)\n",
    "print(\"Reversed list:\", reversed_list)\n"
   ]
  },
  {
   "cell_type": "markdown",
   "id": "78fefc68-fccf-4bf7-916d-2476ae5e8b39",
   "metadata": {},
   "source": [
    "### 14.Write a Python program to find the common elements between two lists using a for loop."
   ]
  },
  {
   "cell_type": "code",
   "execution_count": 49,
   "id": "f2457774-b58d-432e-9507-7a5b99ce74dd",
   "metadata": {},
   "outputs": [
    {
     "name": "stdout",
     "output_type": "stream",
     "text": [
      "Common elements between list1 and list2: [3, 4, 5]\n"
     ]
    }
   ],
   "source": [
    "def find_common_elements(list1, list2):\n",
    "    common_elements = []\n",
    "    # Iterate through each element in list1\n",
    "    for element in list1:\n",
    "        # Check if the element is also in list2 and not already in common_elements\n",
    "        if element in list2 and element not in common_elements:\n",
    "            common_elements.append(element)\n",
    "    return common_elements\n",
    "\n",
    "# Example lists\n",
    "list1 = [1, 2, 3, 4, 5]\n",
    "list2 = [3, 4, 5, 6, 7]\n",
    "\n",
    "# Find common elements using the function and print the result\n",
    "common_elements = find_common_elements(list1, list2)\n",
    "print(\"Common elements between list1 and list2:\", common_elements)\n"
   ]
  },
  {
   "cell_type": "markdown",
   "id": "36ecdad0-eed4-43cc-8501-5020da00680d",
   "metadata": {},
   "source": [
    "### 15.Explain how to use a for loop to iterate through the keys and values of a dictionary in Python."
   ]
  },
  {
   "cell_type": "code",
   "execution_count": 50,
   "id": "457e34a7-86ab-466e-9e6b-ae588377518e",
   "metadata": {},
   "outputs": [
    {
     "name": "stdout",
     "output_type": "stream",
     "text": [
      "Key: a, Value: 1\n",
      "Key: b, Value: 2\n",
      "Key: c, Value: 3\n"
     ]
    }
   ],
   "source": [
    "# Example dictionary\n",
    "my_dict = {'a': 1, 'b': 2, 'c': 3}\n",
    "\n",
    "# Iterate through keys and values using a for loop\n",
    "for key, value in my_dict.items():\n",
    "    print(f\"Key: {key}, Value: {value}\")"
   ]
  },
  {
   "cell_type": "raw",
   "id": "575b06f8-1786-4942-86fa-9538a280fa96",
   "metadata": {},
   "source": [
    "Dictionary Definition: First, you define a dictionary my_dict with some key-value pairs.\n",
    "\n",
    "Using .items() Method: The .items() method of a dictionary returns a view object that displays a list of (key, value) tuple pairs. This allows you to iterate over the dictionary's key-value pairs directly.\n",
    "\n",
    "For Loop:\n",
    "\n",
    "The for key, value in my_dict.items(): line sets up a for loop to iterate through each (key, value) pair in the dictionary.\n",
    "During each iteration, key holds the current key, and value holds the corresponding value.\n",
    "Printing: Inside the loop, you can perform operations using key and value. In the example, we simply print them using formatted strings (f\"Key: {key}, Value: {value}\")."
   ]
  },
  {
   "cell_type": "markdown",
   "id": "aa3d86c8-c73b-461c-be13-dcf201d3719e",
   "metadata": {},
   "source": [
    "### 16.Write a Python program to find the GCD (Greatest Common Divisor) of two numbers using a for loop."
   ]
  },
  {
   "cell_type": "code",
   "execution_count": 51,
   "id": "06d71e09-bfb9-4ab3-9334-77dcb7beb885",
   "metadata": {},
   "outputs": [
    {
     "name": "stdout",
     "output_type": "stream",
     "text": [
      "Enter the first number:  10\n",
      "Enter the second number:  20\n"
     ]
    },
    {
     "name": "stdout",
     "output_type": "stream",
     "text": [
      "The GCD of 10 and 20 is: 10\n"
     ]
    }
   ],
   "source": [
    "def gcd(a, b):\n",
    "    # Ensure a is greater than or equal to b\n",
    "    if a < b:\n",
    "        a, b = b, a\n",
    "    \n",
    "    # Iterate using a for loop to find the GCD\n",
    "    for i in range(b, 0, -1):\n",
    "        if a % i == 0 and b % i == 0:\n",
    "            return i\n",
    "\n",
    "# Input two numbers for which you want to find the GCD\n",
    "num1 = int(input(\"Enter the first number: \"))\n",
    "num2 = int(input(\"Enter the second number: \"))\n",
    "\n",
    "# Call the function to find and print the GCD\n",
    "result = gcd(num1, num2)\n",
    "print(f\"The GCD of {num1} and {num2} is:\", result)\n"
   ]
  },
  {
   "cell_type": "markdown",
   "id": "4b4c8408-cce8-45fb-b0bf-e9f7fec83166",
   "metadata": {},
   "source": [
    "### 17.Create a Python program that checks if a string is a palindrome using a for loop."
   ]
  },
  {
   "cell_type": "code",
   "execution_count": 52,
   "id": "7c559c5e-2321-4735-bb3d-b4b40469c90c",
   "metadata": {},
   "outputs": [
    {
     "name": "stdout",
     "output_type": "stream",
     "text": [
      "Enter a string to check if it's a palindrome:  carsrac\n"
     ]
    },
    {
     "name": "stdout",
     "output_type": "stream",
     "text": [
      "'carsrac' is a palindrome.\n"
     ]
    }
   ],
   "source": [
    "def is_palindrome(input_string):\n",
    "    # Convert the input string to lowercase and remove spaces\n",
    "    input_string = input_string.lower().replace(\" \", \"\")\n",
    "    \n",
    "    # Iterate through half of the string using a for loop\n",
    "    for i in range(len(input_string) // 2):\n",
    "        # Compare characters from both ends of the string\n",
    "        if input_string[i] != input_string[-1 - i]:\n",
    "            return False\n",
    "    return True\n",
    "\n",
    "# Example usage\n",
    "string = input(\"Enter a string to check if it's a palindrome: \")\n",
    "\n",
    "if is_palindrome(string):\n",
    "    print(f\"'{string}' is a palindrome.\")\n",
    "else:\n",
    "    print(f\"'{string}' is not a palindrome.\")\n"
   ]
  },
  {
   "cell_type": "markdown",
   "id": "313f2627-cb2e-42b6-a307-38800d2f613f",
   "metadata": {},
   "source": [
    "### 18.Write a Python program to remove duplicates from a list using a for loop.3"
   ]
  },
  {
   "cell_type": "code",
   "execution_count": 53,
   "id": "1435aa19-e057-4fa2-bfc9-f42f88ab8696",
   "metadata": {},
   "outputs": [
    {
     "name": "stdout",
     "output_type": "stream",
     "text": [
      "Original list: [1, 2, 2, 3, 4, 4, 5, 6, 6]\n",
      "List with duplicates removed: [1, 2, 3, 4, 5, 6]\n"
     ]
    }
   ],
   "source": [
    "def remove_duplicates(input_list):\n",
    "    # Initialize an empty list to store unique elements\n",
    "    unique_list = []\n",
    "    \n",
    "    # Iterate through the input_list using a for loop\n",
    "    for item in input_list:\n",
    "        # Add the item to unique_list if it's not already there\n",
    "        if item not in unique_list:\n",
    "            unique_list.append(item)\n",
    "    \n",
    "    return unique_list\n",
    "\n",
    "# Example list with duplicates\n",
    "my_list = [1, 2, 2, 3, 4, 4, 5, 6, 6]\n",
    "\n",
    "# Print the original list\n",
    "print(\"Original list:\", my_list)\n",
    "\n",
    "# Remove duplicates using the function and print the unique list\n",
    "unique_list = remove_duplicates(my_list)\n",
    "print(\"List with duplicates removed:\", unique_list)\n"
   ]
  },
  {
   "cell_type": "markdown",
   "id": "0799f0a5-30b6-4136-a971-4b6f8d7f644d",
   "metadata": {},
   "source": [
    "### 19.Create a Python program that counts the number of words in a sentence using a for loop."
   ]
  },
  {
   "cell_type": "code",
   "execution_count": 55,
   "id": "26f87556-b113-43af-b8a2-efbf3b3c9654",
   "metadata": {},
   "outputs": [
    {
     "name": "stdout",
     "output_type": "stream",
     "text": [
      "Enter a sentence to count the number of words:  hello blck\n"
     ]
    },
    {
     "name": "stdout",
     "output_type": "stream",
     "text": [
      "Number of words in the sentence: 2\n"
     ]
    }
   ],
   "source": [
    "def count_words(sentence):\n",
    "    # Initialize a word count variable\n",
    "    word_count = 0\n",
    "    \n",
    "    # Iterate through each character in the sentence\n",
    "    for char in sentence:\n",
    "        # Count words based on spaces between words\n",
    "        if char == ' ':\n",
    "            word_count += 1\n",
    "    \n",
    "    # Add 1 to include the last word (no space after the last word)\n",
    "    word_count += 1\n",
    "    \n",
    "    return word_count\n",
    "\n",
    "# Example sentence\n",
    "sentence = input(\"Enter a sentence to count the number of words: \")\n",
    "\n",
    "# Call the function to count words and print the result\n",
    "num_words = count_words(sentence)\n",
    "print(f\"Number of words in the sentence: {num_words}\")\n"
   ]
  },
  {
   "cell_type": "markdown",
   "id": "afc1eee6-a046-4121-ab6b-91b5b8f93d32",
   "metadata": {},
   "source": [
    "### 20.Write a Python program to find the sum of all odd numbers from 1 to 50 using a for loop."
   ]
  },
  {
   "cell_type": "code",
   "execution_count": 56,
   "id": "dced57d5-1cb2-451f-8d71-ed586b9d4670",
   "metadata": {},
   "outputs": [
    {
     "name": "stdout",
     "output_type": "stream",
     "text": [
      "Sum of all odd numbers from 1 to 50: 625\n"
     ]
    }
   ],
   "source": [
    "# Initialize a variable to store the sum of odd numbers\n",
    "sum_odd = 0\n",
    "\n",
    "# Iterate through numbers from 1 to 50 using a for loop\n",
    "for num in range(1, 51):\n",
    "    # Check if the number is odd\n",
    "    if num % 2 != 0:\n",
    "        sum_odd += num\n",
    "\n",
    "# Print the sum of all odd numbers from 1 to 50\n",
    "print(\"Sum of all odd numbers from 1 to 50:\", sum_odd)\n"
   ]
  },
  {
   "cell_type": "markdown",
   "id": "6115155f-0393-4c4c-97cd-b9456c181867",
   "metadata": {},
   "source": [
    "### 21.Write a Python program that checks if a given year is a leap year using a for loop."
   ]
  },
  {
   "cell_type": "code",
   "execution_count": 58,
   "id": "cbbbe57c-bea7-442b-af8b-a37d4397388b",
   "metadata": {},
   "outputs": [
    {
     "name": "stdout",
     "output_type": "stream",
     "text": [
      "Enter a year to check if it's a leap year:  2004\n"
     ]
    },
    {
     "name": "stdout",
     "output_type": "stream",
     "text": [
      "2004 is a leap year.\n"
     ]
    }
   ],
   "source": [
    "def is_leap_year(year):\n",
    "    # Leap year logic\n",
    "    if (year % 4 == 0 and year % 100 != 0) or (year % 400 == 0):\n",
    "        return True\n",
    "    else:\n",
    "        return False\n",
    "\n",
    "# Example usage\n",
    "year = int(input(\"Enter a year to check if it's a leap year: \"))\n",
    "\n",
    "# Check if the year is a leap year and print the result\n",
    "if is_leap_year(year):\n",
    "    print(f\"{year} is a leap year.\")\n",
    "else:\n",
    "    print(f\"{year} is not a leap year.\")\n"
   ]
  },
  {
   "cell_type": "markdown",
   "id": "9ff4f4cb-cf03-4ba3-ae68-9523ea2481de",
   "metadata": {},
   "source": [
    "### 22.Create a Python program that calculates the square root of a number using a for loop."
   ]
  },
  {
   "cell_type": "code",
   "execution_count": 59,
   "id": "d8ca6207-4bdd-44a3-b337-07c48b551c4c",
   "metadata": {},
   "outputs": [
    {
     "name": "stdout",
     "output_type": "stream",
     "text": [
      "Enter a number to calculate its square root:  4\n"
     ]
    },
    {
     "name": "stdout",
     "output_type": "stream",
     "text": [
      "Square root of 4.0 is approximately: 2.0\n"
     ]
    }
   ],
   "source": [
    "def square_root(num):\n",
    "    # Initialize a variable to store the approximation of square root\n",
    "    sqrt_approx = num / 2  # Starting with a naive initial guess\n",
    "    \n",
    "    # Iteratively improve the approximation using a for loop\n",
    "    for _ in range(10):  # Adjust the number of iterations for better accuracy\n",
    "        sqrt_approx = (sqrt_approx + num / sqrt_approx) / 2\n",
    "    \n",
    "    return sqrt_approx\n",
    "\n",
    "# Example usage\n",
    "number = float(input(\"Enter a number to calculate its square root: \"))\n",
    "sqrt_value = square_root(number)\n",
    "print(f\"Square root of {number} is approximately: {sqrt_value}\")\n"
   ]
  },
  {
   "cell_type": "markdown",
   "id": "9a23c902-55b3-4818-a1b8-38780df40002",
   "metadata": {},
   "source": [
    "### 23.Write a Python program to find the LCM (Least Common Multiple) of two numbers using a for loop."
   ]
  },
  {
   "cell_type": "code",
   "execution_count": 61,
   "id": "365c0a30-5308-4e3a-a9de-faa1a01c73a5",
   "metadata": {},
   "outputs": [
    {
     "name": "stdout",
     "output_type": "stream",
     "text": [
      "Enter the first number:  2\n",
      "Enter the second number:  3\n"
     ]
    },
    {
     "name": "stdout",
     "output_type": "stream",
     "text": [
      "The LCM of 2 and 3 is: 6\n"
     ]
    }
   ],
   "source": [
    "def gcd(a, b):\n",
    "    # Compute the Greatest Common Divisor (GCD) using Euclidean algorithm\n",
    "    while b:\n",
    "        a, b = b, a % b\n",
    "    return a\n",
    "\n",
    "def lcm(a, b):\n",
    "    # Compute the Least Common Multiple (LCM)\n",
    "    return abs(a * b) // gcd(a, b)\n",
    "\n",
    "# Example usage\n",
    "num1 = int(input(\"Enter the first number: \"))\n",
    "num2 = int(input(\"Enter the second number: \"))\n",
    "\n",
    "# Calculate the LCM using the function and print the result\n",
    "result_lcm = lcm(num1, num2)\n",
    "print(f\"The LCM of {num1} and {num2} is:\", result_lcm)\n"
   ]
  },
  {
   "cell_type": "markdown",
   "id": "c22029f6-46cf-4c25-9989-10710deb4f6f",
   "metadata": {},
   "source": [
    "## If else :\n"
   ]
  },
  {
   "cell_type": "markdown",
   "id": "ac3f9b20-33a2-406e-bbe0-d9e12722a1f7",
   "metadata": {},
   "source": [
    "### 1.Write a Python program to check if a number is positive, negative, or zero using an if-else statement.\n"
   ]
  },
  {
   "cell_type": "code",
   "execution_count": 62,
   "id": "37c1993f-a516-4538-83f7-9ebf66238aa9",
   "metadata": {},
   "outputs": [
    {
     "name": "stdout",
     "output_type": "stream",
     "text": [
      "Enter a number:  10\n"
     ]
    },
    {
     "name": "stdout",
     "output_type": "stream",
     "text": [
      "10.0 is positive.\n"
     ]
    }
   ],
   "source": [
    "def check_number(num):\n",
    "    if num > 0:\n",
    "        print(f\"{num} is positive.\")\n",
    "    elif num < 0:\n",
    "        print(f\"{num} is negative.\")\n",
    "    else:\n",
    "        print(f\"{num} is zero.\")\n",
    "\n",
    "# Example usage\n",
    "number = float(input(\"Enter a number: \"))\n",
    "check_number(number)\n"
   ]
  },
  {
   "cell_type": "markdown",
   "id": "9da83a69-8d65-4c84-be97-d4d604d06a93",
   "metadata": {},
   "source": [
    "### 2. Create a Python program that checks if a given number is even or odd using an if-else statement."
   ]
  },
  {
   "cell_type": "code",
   "execution_count": 64,
   "id": "878e4d58-4f42-49d6-9b29-7c7a0616790b",
   "metadata": {},
   "outputs": [
    {
     "name": "stdout",
     "output_type": "stream",
     "text": [
      "Enter a number:  10\n"
     ]
    },
    {
     "name": "stdout",
     "output_type": "stream",
     "text": [
      "10 is even.\n"
     ]
    }
   ],
   "source": [
    "def check_even_odd(num):\n",
    "    if num % 2 == 0:\n",
    "        print(f\"{num} is even.\")\n",
    "    else:\n",
    "        print(f\"{num} is odd.\")\n",
    "\n",
    "# Example usage\n",
    "number = int(input(\"Enter a number: \"))\n",
    "check_even_odd(number)\n"
   ]
  },
  {
   "cell_type": "markdown",
   "id": "143af4e8-290c-41ce-b07c-2a7a0db1b102",
   "metadata": {},
   "source": [
    "### 3. How can you use nested if-else statements in Python, and provide an example?"
   ]
  },
  {
   "cell_type": "raw",
   "id": "a52eaca1-946f-40b0-9eb8-ca2b0dabebdb",
   "metadata": {},
   "source": [
    "Nested if-else statements in Python allow you to include one if-else statement inside another if or else block. This is useful when you need to check multiple conditions sequentially or based on certain conditions. Here’s how nested if-else statements work and an example to illustrate:\n",
    "\n",
    "Syntax of Nested if-else Statements:\n",
    "\n",
    "if condition1:\n",
    "    # Code block 1\n",
    "    if condition2:\n",
    "        # Code block 2\n",
    "    else:\n",
    "        # Code block 3\n",
    "else:\n",
    "    # Code block 4\n",
    "Example of Nested if-else Statements:\n",
    "\n",
    "def check_grade(score):\n",
    "    if score >= 90:\n",
    "        grade = 'A'\n",
    "    else:\n",
    "        if score >= 80:\n",
    "            grade = 'B'\n",
    "        else:\n",
    "            if score >= 70:\n",
    "                grade = 'C'\n",
    "            else:\n",
    "                if score >= 60:\n",
    "                    grade = 'D'\n",
    "                else:\n",
    "                    grade = 'F'\n",
    "    return grade\n",
    "\n",
    "# Example usage\n",
    "score = int(input(\"Enter your score: \"))\n",
    "result = check_grade(score)\n",
    "print(f\"Your grade is: {result}\")\n",
    "\n",
    "Explanation:\n",
    "Function check_grade(score):\n",
    "This function takes a score as input and returns the corresponding grade based on the score using nested if-else statements.\n",
    "It first checks if score is greater than or equal to 90. If true, it assigns grade = 'A'.\n",
    "If the first condition (score >= 90) is false, it enters the nested if-else block:\n",
    "It checks if score is greater than or equal to 80 for a 'B' grade.\n",
    "If false, it further checks if score is greater than or equal to 70 for a 'C' grade.\n",
    "This pattern continues with each nested if-else statement checking the next lower grade until it reaches the final else block, assigning 'F' for scores below 60.\n",
    "Example usage:\n",
    "The user inputs a score, which is converted from a string to an integer using int().\n",
    "The program calls check_grade(score) to determine and print the grade based on the score.\n",
    "Example Output:\n",
    "yaml\n",
    "Copy code\n",
    "Enter your score: 85\n",
    "Your grade is: B\n",
    "Key Points:\n",
    "Nested if-else statements provide a way to handle complex decision-making based on multiple conditions.\n",
    "Each nested if-else statement introduces another level of conditionality, allowing you to specify different actions based on the evaluation of multiple conditions sequentially.\n",
    "It's important to ensure proper indentation and structure to maintain readability and avoid logical errors in nested if-else statements."
   ]
  },
  {
   "cell_type": "markdown",
   "id": "4a8f85de-9c19-4ae4-acbf-3381d25b3cce",
   "metadata": {},
   "source": [
    "### 4. Write a Python program to determine the largest of three numbers using if-else.\n"
   ]
  },
  {
   "cell_type": "code",
   "execution_count": 65,
   "id": "38dc510f-abfd-4f0e-af52-645564eb9598",
   "metadata": {},
   "outputs": [
    {
     "name": "stdout",
     "output_type": "stream",
     "text": [
      "Enter the first number:  2 \n",
      "Enter the second number:  10\n",
      "Enter the third number:  12\n"
     ]
    },
    {
     "name": "stdout",
     "output_type": "stream",
     "text": [
      "The largest number among 2.0, 10.0, and 12.0 is: 12.0\n"
     ]
    }
   ],
   "source": [
    "def find_largest(num1, num2, num3):\n",
    "    if num1 >= num2 and num1 >= num3:\n",
    "        largest = num1\n",
    "    elif num2 >= num1 and num2 >= num3:\n",
    "        largest = num2\n",
    "    else:\n",
    "        largest = num3\n",
    "    return largest\n",
    "\n",
    "# Example usage\n",
    "num1 = float(input(\"Enter the first number: \"))\n",
    "num2 = float(input(\"Enter the second number: \"))\n",
    "num3 = float(input(\"Enter the third number: \"))\n",
    "\n",
    "largest_number = find_largest(num1, num2, num3)\n",
    "print(f\"The largest number among {num1}, {num2}, and {num3} is: {largest_number}\")\n"
   ]
  },
  {
   "cell_type": "markdown",
   "id": "99f95f44-a4ee-4f96-965f-11239ef76a85",
   "metadata": {},
   "source": [
    "### 5. Write a Python program that calculates the absolute value of a number using if-else"
   ]
  },
  {
   "cell_type": "code",
   "execution_count": 66,
   "id": "a5eed393-a732-46ba-b814-00a69bdccbb6",
   "metadata": {},
   "outputs": [
    {
     "name": "stdout",
     "output_type": "stream",
     "text": [
      "Enter a number:  12\n"
     ]
    },
    {
     "name": "stdout",
     "output_type": "stream",
     "text": [
      "The absolute value of 12.0 is: 12.0\n"
     ]
    }
   ],
   "source": [
    "def absolute_value(num):\n",
    "    if num >= 0:\n",
    "        return num\n",
    "    else:\n",
    "        return -num\n",
    "\n",
    "# Example usage\n",
    "number = float(input(\"Enter a number: \"))\n",
    "abs_value = absolute_value(number)\n",
    "print(f\"The absolute value of {number} is: {abs_value}\")\n",
    "\n",
    "\n"
   ]
  },
  {
   "cell_type": "markdown",
   "id": "3011ff76-d1b9-4ad4-8422-916bad2c62b8",
   "metadata": {},
   "source": [
    "### 6. Create a Python program that checks if a given character is a vowel or consonant using if-else."
   ]
  },
  {
   "cell_type": "code",
   "execution_count": 69,
   "id": "025486f8-ca99-4bbc-b508-16ca41d53cdd",
   "metadata": {},
   "outputs": [
    {
     "name": "stdout",
     "output_type": "stream",
     "text": [
      "Enter a character:  j\n"
     ]
    },
    {
     "name": "stdout",
     "output_type": "stream",
     "text": [
      "j is a consonant.\n"
     ]
    }
   ],
   "source": [
    "def check_vowel_consonant(char):\n",
    "    # Convert the character to lowercase to handle both uppercase and lowercase input\n",
    "    char = char.lower()\n",
    "    \n",
    "    # Check if the character is a vowel\n",
    "    if char == 'a' or char == 'e' or char == 'i' or char == 'o' or char == 'u':\n",
    "        print(f\"{char} is a vowel.\")\n",
    "    else:\n",
    "        print(f\"{char} is a consonant.\")\n",
    "\n",
    "# Example usage\n",
    "character = input(\"Enter a character: \")\n",
    "\n",
    "# Check if the character is a vowel or consonant\n",
    "check_vowel_consonant(character)\n"
   ]
  },
  {
   "cell_type": "markdown",
   "id": "66a3a690-b677-45eb-b03f-b933d4e2f061",
   "metadata": {},
   "source": [
    "### 7. Write a Python program to determine if a user is eligible to vote based on their age using if-else.\n"
   ]
  },
  {
   "cell_type": "code",
   "execution_count": 70,
   "id": "080bd154-9b43-4899-883e-7e3ceeb6d0f6",
   "metadata": {},
   "outputs": [
    {
     "name": "stdout",
     "output_type": "stream",
     "text": [
      "Enter your age:  26\n"
     ]
    },
    {
     "name": "stdout",
     "output_type": "stream",
     "text": [
      "You are eligible to vote.\n"
     ]
    }
   ],
   "source": [
    "def check_voter_eligibility(age):\n",
    "    if age >= 18:\n",
    "        print(\"You are eligible to vote.\")\n",
    "    else:\n",
    "        print(\"You are not eligible to vote yet. Please wait until you turn 18.\")\n",
    "\n",
    "# Example usage\n",
    "age = int(input(\"Enter your age: \"))\n",
    "check_voter_eligibility(age)\n"
   ]
  },
  {
   "cell_type": "markdown",
   "id": "b179b778-5adf-4dba-b608-79286dc91f81",
   "metadata": {},
   "source": [
    "### 8. Create a Python program that calculates the discount amount based on the purchase amount\n",
    "using if-else.\n"
   ]
  },
  {
   "cell_type": "code",
   "execution_count": 71,
   "id": "75b6022d-64fd-4cb3-9963-e3a7b450dec1",
   "metadata": {},
   "outputs": [
    {
     "name": "stdout",
     "output_type": "stream",
     "text": [
      "Enter the purchase amount: $ 155\n"
     ]
    },
    {
     "name": "stdout",
     "output_type": "stream",
     "text": [
      "No discount applied.\n",
      "Your discounted amount after applying the discount: $155.00\n"
     ]
    }
   ],
   "source": [
    "def calculate_discount(purchase_amount):\n",
    "    if purchase_amount >= 1000:\n",
    "        discount = 0.1 * purchase_amount  # 10% discount for purchase amount >= 1000\n",
    "    elif purchase_amount >= 500:\n",
    "        discount = 0.05 * purchase_amount  # 5% discount for purchase amount >= 500 and < 1000\n",
    "    else:\n",
    "        discount = 0  # No discount for purchase amount < 500\n",
    "    \n",
    "    return discount\n",
    "\n",
    "# Example usage\n",
    "amount = float(input(\"Enter the purchase amount: $\"))\n",
    "discount_amount = calculate_discount(amount)\n",
    "\n",
    "if discount_amount > 0:\n",
    "    print(f\"You received a discount of ${discount_amount:.2f}.\")\n",
    "else:\n",
    "    print(\"No discount applied.\")\n",
    "\n",
    "# Calculate and print the discounted amount\n",
    "discounted_amount = amount - discount_amount\n",
    "print(f\"Your discounted amount after applying the discount: ${discounted_amount:.2f}\")\n"
   ]
  },
  {
   "cell_type": "markdown",
   "id": "974ff336-7d7b-4438-af20-e089ccdb768b",
   "metadata": {},
   "source": [
    "### 9. Write a Python program to check if a number is within a specified range using if-else.\n"
   ]
  },
  {
   "cell_type": "code",
   "execution_count": 72,
   "id": "1cfe7ee9-2ff6-48d5-b081-1baf6e301caa",
   "metadata": {},
   "outputs": [
    {
     "name": "stdout",
     "output_type": "stream",
     "text": [
      "Enter the lower limit of the range:  10\n",
      "Enter the upper limit of the range:  20\n",
      "Enter a number to check within the range:  2.35\n"
     ]
    },
    {
     "name": "stdout",
     "output_type": "stream",
     "text": [
      "2.35 is not within the range [10.0, 20.0].\n"
     ]
    }
   ],
   "source": [
    "def check_within_range(number, lower_limit, upper_limit):\n",
    "    if number >= lower_limit and number <= upper_limit:\n",
    "        print(f\"{number} is within the range [{lower_limit}, {upper_limit}].\")\n",
    "    else:\n",
    "        print(f\"{number} is not within the range [{lower_limit}, {upper_limit}].\")\n",
    "\n",
    "# Example usage\n",
    "lower_limit = float(input(\"Enter the lower limit of the range: \"))\n",
    "upper_limit = float(input(\"Enter the upper limit of the range: \"))\n",
    "num = float(input(\"Enter a number to check within the range: \"))\n",
    "\n",
    "check_within_range(num, lower_limit, upper_limit)\n"
   ]
  },
  {
   "cell_type": "markdown",
   "id": "562d3d27-fd5d-4732-9935-6a2e91297e17",
   "metadata": {},
   "source": [
    "### 10. Create a Python program that determines the grade of a student based on their score using if-else.\n"
   ]
  },
  {
   "cell_type": "code",
   "execution_count": 73,
   "id": "3b59aba5-f3cb-4699-aa50-8e1e589500e7",
   "metadata": {},
   "outputs": [
    {
     "name": "stdout",
     "output_type": "stream",
     "text": [
      "Enter the student's score:  65\n"
     ]
    },
    {
     "name": "stdout",
     "output_type": "stream",
     "text": [
      "The student's grade is: D\n"
     ]
    }
   ],
   "source": [
    "def calculate_grade(score):\n",
    "    if score >= 90:\n",
    "        grade = 'A'\n",
    "    elif score >= 80:\n",
    "        grade = 'B'\n",
    "    elif score >= 70:\n",
    "        grade = 'C'\n",
    "    elif score >= 60:\n",
    "        grade = 'D'\n",
    "    else:\n",
    "        grade = 'F'\n",
    "    return grade\n",
    "\n",
    "# Example usage\n",
    "score = float(input(\"Enter the student's score: \"))\n",
    "student_grade = calculate_grade(score)\n",
    "print(f\"The student's grade is: {student_grade}\")\n"
   ]
  },
  {
   "cell_type": "markdown",
   "id": "2258a9de-eb1a-4c9c-8179-f3f3095ebf6c",
   "metadata": {},
   "source": [
    "### 11. Write a Python program to check if a string is empty or not using if-else"
   ]
  },
  {
   "cell_type": "code",
   "execution_count": 74,
   "id": "dabd3e98-dce8-4ce6-b8a1-cdbfc54c089e",
   "metadata": {},
   "outputs": [
    {
     "name": "stdout",
     "output_type": "stream",
     "text": [
      "Enter a string:  hre\n"
     ]
    },
    {
     "name": "stdout",
     "output_type": "stream",
     "text": [
      "The string is not empty.\n"
     ]
    }
   ],
   "source": [
    "def check_string_empty(input_str):\n",
    "    if input_str:\n",
    "        print(\"The string is not empty.\")\n",
    "    else:\n",
    "        print(\"The string is empty.\")\n",
    "\n",
    "# Example usage\n",
    "user_input = input(\"Enter a string: \")\n",
    "check_string_empty(user_input)\n"
   ]
  },
  {
   "cell_type": "markdown",
   "id": "99069468-5441-4e09-8582-94b7f6bc2e76",
   "metadata": {},
   "source": [
    "### 12. Create a Python program that identifies the type of a triangle (e.g., equilateral, isosceles, or scalene) based on input values using if-else.\n"
   ]
  },
  {
   "cell_type": "code",
   "execution_count": 75,
   "id": "10708b45-3736-44f5-8c85-105ab660369f",
   "metadata": {},
   "outputs": [
    {
     "name": "stdout",
     "output_type": "stream",
     "text": [
      "Enter the length of side 1:  2\n",
      "Enter the length of side 2:  3\n",
      "Enter the length of side 3:  6\n"
     ]
    },
    {
     "name": "stdout",
     "output_type": "stream",
     "text": [
      "The triangle with sides 2.0, 3.0, 6.0 is a(n) Scalene triangle.\n"
     ]
    }
   ],
   "source": [
    "def identify_triangle_type(side1, side2, side3):\n",
    "    if side1 == side2 == side3:\n",
    "        triangle_type = \"Equilateral\"\n",
    "    elif side1 == side2 or side1 == side3 or side2 == side3:\n",
    "        triangle_type = \"Isosceles\"\n",
    "    else:\n",
    "        triangle_type = \"Scalene\"\n",
    "    return triangle_type\n",
    "\n",
    "# Example usage\n",
    "try:\n",
    "    side1 = float(input(\"Enter the length of side 1: \"))\n",
    "    side2 = float(input(\"Enter the length of side 2: \"))\n",
    "    side3 = float(input(\"Enter the length of side 3: \"))\n",
    "\n",
    "    if side1 <= 0 or side2 <= 0 or side3 <= 0:\n",
    "        print(\"Error: Side lengths must be positive numbers.\")\n",
    "    else:\n",
    "        triangle_type = identify_triangle_type(side1, side2, side3)\n",
    "        print(f\"The triangle with sides {side1}, {side2}, {side3} is a(n) {triangle_type} triangle.\")\n",
    "except ValueError:\n",
    "    print(\"Error: Invalid input. Please enter numerical values.\")\n"
   ]
  },
  {
   "cell_type": "markdown",
   "id": "8f146d90-8af1-4d1b-98b8-e93269ce5605",
   "metadata": {},
   "source": [
    "### 13. Write a Python program to determine the day of the week based on a user-provided number using if-else"
   ]
  },
  {
   "cell_type": "code",
   "execution_count": 76,
   "id": "399781c5-d5f5-43ee-a48a-3d8e15fcee1a",
   "metadata": {},
   "outputs": [
    {
     "name": "stdout",
     "output_type": "stream",
     "text": [
      "Enter a number (1-7) to determine the day of the week:  6\n"
     ]
    },
    {
     "name": "stdout",
     "output_type": "stream",
     "text": [
      "The day corresponding to number 6 is: Saturday\n"
     ]
    }
   ],
   "source": [
    "def determine_day_of_week(day_number):\n",
    "    if day_number == 1:\n",
    "        day_name = \"Monday\"\n",
    "    elif day_number == 2:\n",
    "        day_name = \"Tuesday\"\n",
    "    elif day_number == 3:\n",
    "        day_name = \"Wednesday\"\n",
    "    elif day_number == 4:\n",
    "        day_name = \"Thursday\"\n",
    "    elif day_number == 5:\n",
    "        day_name = \"Friday\"\n",
    "    elif day_number == 6:\n",
    "        day_name = \"Saturday\"\n",
    "    elif day_number == 7:\n",
    "        day_name = \"Sunday\"\n",
    "    else:\n",
    "        day_name = \"Invalid day number. Please enter a number between 1 and 7.\"\n",
    "\n",
    "    return day_name\n",
    "\n",
    "# Example usage\n",
    "try:\n",
    "    day_num = int(input(\"Enter a number (1-7) to determine the day of the week: \"))\n",
    "    day_of_week = determine_day_of_week(day_num)\n",
    "    print(f\"The day corresponding to number {day_num} is: {day_of_week}\")\n",
    "except ValueError:\n",
    "    print(\"Error: Invalid input. Please enter a numerical value.\")\n"
   ]
  },
  {
   "cell_type": "markdown",
   "id": "f96ec379-4815-48b8-b86f-543e3f3a6a58",
   "metadata": {},
   "source": [
    "### 14. Create a Python program that checks if a given year is a leap year using both if-else and a function.\n"
   ]
  },
  {
   "cell_type": "code",
   "execution_count": 77,
   "id": "813cc380-f056-4ef2-9cbb-019b930656b8",
   "metadata": {},
   "outputs": [
    {
     "name": "stdout",
     "output_type": "stream",
     "text": [
      "Enter a year to check if it's a leap year:  2004\n"
     ]
    },
    {
     "name": "stdout",
     "output_type": "stream",
     "text": [
      "2004 is a leap year.\n"
     ]
    }
   ],
   "source": [
    "def is_leap_year(year):\n",
    "    # Leap year logic:\n",
    "    # - Years divisible by 4 are leap years,\n",
    "    # - Except for years divisible by 100,\n",
    "    # - Unless they are also divisible by 400.\n",
    "    \n",
    "    if year % 4 == 0:\n",
    "        if year % 100 == 0:\n",
    "            if year % 400 == 0:\n",
    "                return True\n",
    "            else:\n",
    "                return False\n",
    "        else:\n",
    "            return True\n",
    "    else:\n",
    "        return False\n",
    "\n",
    "# Example usage\n",
    "try:\n",
    "    year = int(input(\"Enter a year to check if it's a leap year: \"))\n",
    "    if is_leap_year(year):\n",
    "        print(f\"{year} is a leap year.\")\n",
    "    else:\n",
    "        print(f\"{year} is not a leap year.\")\n",
    "except ValueError:\n",
    "    print(\"Error: Invalid input. Please enter a numerical value.\")\n"
   ]
  },
  {
   "cell_type": "markdown",
   "id": "f8aeee9c-3388-4532-b516-8fbff730b4e4",
   "metadata": {},
   "source": [
    "### 15. How do you use the \"assert\" statement in Python to add debugging checks within if-else blocks?"
   ]
  },
  {
   "cell_type": "raw",
   "id": "102223bf-28e9-4408-869f-3e4ee767820c",
   "metadata": {},
   "source": [
    "assert statements within if-else blocks to check certain conditions during runtime. If the condition provided to assert is False, Python will raise an AssertionError, indicating that an assumption made in your code has been violated.\n",
    "Best Practices for Using assert:\n",
    "Use assert for debugging: Assert statements are primarily used during development and testing phases to catch logical errors and assumptions.\n",
    "\n",
    "Avoid using assert for data validation: assert statements should not be used for validating data inputs from users or external sources, as they can be disabled in production environments.\n",
    "\n",
    "Provide informative messages: When using assert, provide meaningful error messages to aid in debugging."
   ]
  },
  {
   "cell_type": "code",
   "execution_count": 78,
   "id": "4bb528e5-9c4a-4e9c-923b-45033d700b5c",
   "metadata": {},
   "outputs": [
    {
     "name": "stdout",
     "output_type": "stream",
     "text": [
      "Discount amount: 120.0\n"
     ]
    }
   ],
   "source": [
    "def calculate_discount(purchase_amount):\n",
    "    assert isinstance(purchase_amount, (int, float)), \"purchase_amount should be a number\"\n",
    "    \n",
    "    if purchase_amount >= 1000:\n",
    "        discount = 0.1 * purchase_amount  # 10% discount for purchase amount >= 1000\n",
    "    elif purchase_amount >= 500:\n",
    "        discount = 0.05 * purchase_amount  # 5% discount for purchase amount >= 500 and < 1000\n",
    "    else:\n",
    "        discount = 0  # No discount for purchase amount < 500\n",
    "    \n",
    "    return discount\n",
    "\n",
    "# Example usage\n",
    "amount = 1200\n",
    "discount_amount = calculate_discount(amount)\n",
    "print(f\"Discount amount: {discount_amount}\")\n"
   ]
  },
  {
   "cell_type": "raw",
   "id": "78519b0f-d3bb-4b98-8456-27f7169baf67",
   "metadata": {},
   "source": [
    "Explanation:\n",
    "In this example, assert isinstance(purchase_amount, (int, float)), \"purchase_amount should be a number\" is used to check if purchase_amount is either an integer or a float.\n",
    "If purchase_amount is not a number, an AssertionError will be raised with the message \"purchase_amount should be a number\".\n",
    "This helps catch programming errors early during development and ensures that assumptions about data types are met."
   ]
  },
  {
   "cell_type": "markdown",
   "id": "7e63773a-ec0a-4b9a-961e-1e29d9d816c6",
   "metadata": {},
   "source": [
    "### 16. Create a Python program that determines the eligibility of a person for a senior citizen discount\n",
    "based on age using if-else.\n"
   ]
  },
  {
   "cell_type": "code",
   "execution_count": 79,
   "id": "36351cb9-48ed-4d7f-9606-0d7f95492a0a",
   "metadata": {},
   "outputs": [
    {
     "name": "stdout",
     "output_type": "stream",
     "text": [
      "Enter your age to check eligibility for senior citizen discount:  65\n"
     ]
    },
    {
     "name": "stdout",
     "output_type": "stream",
     "text": [
      "You are eligible for a senior citizen discount.\n"
     ]
    }
   ],
   "source": [
    "def check_senior_citizen(age):\n",
    "    if age >= 60:\n",
    "        return True\n",
    "    else:\n",
    "        return False\n",
    "\n",
    "# Example usage\n",
    "try:\n",
    "    age = int(input(\"Enter your age to check eligibility for senior citizen discount: \"))\n",
    "    if check_senior_citizen(age):\n",
    "        print(\"You are eligible for a senior citizen discount.\")\n",
    "    else:\n",
    "        print(\"You are not eligible for a senior citizen discount.\")\n",
    "except ValueError:\n",
    "    print(\"Error: Invalid input. Please enter a numerical value for age.\")\n"
   ]
  },
  {
   "cell_type": "markdown",
   "id": "84644792-8b5c-41aa-87e3-ce993d7772f8",
   "metadata": {},
   "source": [
    "### 17. Write a Python program to categorize a given character as uppercase, lowercase, or neither using if-else.\n"
   ]
  },
  {
   "cell_type": "code",
   "execution_count": 82,
   "id": "1140427c-589b-43cc-a213-2c7d21060951",
   "metadata": {},
   "outputs": [
    {
     "name": "stdout",
     "output_type": "stream",
     "text": [
      "Enter a character to categorize:  e\n"
     ]
    },
    {
     "name": "stdout",
     "output_type": "stream",
     "text": [
      "The character 'e' is Lowercase.\n"
     ]
    }
   ],
   "source": [
    "def categorize_character(char):\n",
    "    if char.isupper():\n",
    "        return \"Uppercase\"\n",
    "    elif char.islower():\n",
    "        return \"Lowercase\"\n",
    "    else:\n",
    "        return \"Neither (not a letter or not alphabetical)\"\n",
    "\n",
    "# Example usage\n",
    "try:\n",
    "    character = input(\"Enter a character to categorize: \")\n",
    "\n",
    "    if len(character) == 1:\n",
    "        category = categorize_character(character)\n",
    "        print(f\"The character '{character}' is {category}.\")\n",
    "    else:\n",
    "        print(\"Error: Please enter exactly one character.\")\n",
    "except ValueError:\n",
    "    print(\"Error: Invalid input.\")\n"
   ]
  },
  {
   "cell_type": "markdown",
   "id": "85558408-f660-404b-ad07-1bee405357ca",
   "metadata": {},
   "source": [
    "### 18. Write a Python program to determine the roots of a quadratic equation using if-else.\n"
   ]
  },
  {
   "cell_type": "code",
   "execution_count": 83,
   "id": "151c708d-c365-4703-90ea-cafa47c33515",
   "metadata": {},
   "outputs": [
    {
     "name": "stdout",
     "output_type": "stream",
     "text": [
      "Enter coefficient a:  10\n",
      "Enter coefficient b:  2\n",
      "Enter coefficient c:  4\n"
     ]
    },
    {
     "name": "stdout",
     "output_type": "stream",
     "text": [
      "No real roots (discriminant is negative)\n"
     ]
    }
   ],
   "source": [
    "import math\n",
    "\n",
    "def find_roots(a, b, c):\n",
    "    discriminant = b**2 - 4*a*c\n",
    "    \n",
    "    if discriminant > 0:\n",
    "        root1 = (-b + math.sqrt(discriminant)) / (2*a)\n",
    "        root2 = (-b - math.sqrt(discriminant)) / (2*a)\n",
    "        return root1, root2\n",
    "    elif discriminant == 0:\n",
    "        root = -b / (2*a)\n",
    "        return root, root\n",
    "    else:\n",
    "        return \"No real roots (discriminant is negative)\"\n",
    "\n",
    "# Example usage\n",
    "try:\n",
    "    a = float(input(\"Enter coefficient a: \"))\n",
    "    b = float(input(\"Enter coefficient b: \"))\n",
    "    c = float(input(\"Enter coefficient c: \"))\n",
    "\n",
    "    if a == 0:\n",
    "        print(\"Error: This is not a quadratic equation (a should not be zero).\")\n",
    "    else:\n",
    "        roots = find_roots(a, b, c)\n",
    "        if isinstance(roots, tuple):\n",
    "            root1, root2 = roots\n",
    "            print(f\"The roots of the quadratic equation {a}x^2 + {b}x + {c} = 0 are: {root1} and {root2}\")\n",
    "        else:\n",
    "            print(f\"{roots}\")\n",
    "except ValueError:\n",
    "    print(\"Error: Invalid input. Please enter numerical values.\")\n"
   ]
  },
  {
   "cell_type": "markdown",
   "id": "e6b63ba0-b50a-49aa-b070-e6a6c89c7eee",
   "metadata": {},
   "source": [
    "### 19. Create a Python program that checks if a given year is a century year or not using if-else"
   ]
  },
  {
   "cell_type": "code",
   "execution_count": 84,
   "id": "977ac4a9-8d3a-441f-b5c9-2f48cd1cd7c4",
   "metadata": {},
   "outputs": [
    {
     "name": "stdout",
     "output_type": "stream",
     "text": [
      "Enter a year to check if it's a century year:  100\n"
     ]
    },
    {
     "name": "stdout",
     "output_type": "stream",
     "text": [
      "100 is a century year.\n"
     ]
    }
   ],
   "source": [
    "def is_century_year(year):\n",
    "    if year % 100 == 0:\n",
    "        return True\n",
    "    else:\n",
    "        return False\n",
    "\n",
    "# Example usage\n",
    "try:\n",
    "    year = int(input(\"Enter a year to check if it's a century year: \"))\n",
    "    if is_century_year(year):\n",
    "        print(f\"{year} is a century year.\")\n",
    "    else:\n",
    "        print(f\"{year} is not a century year.\")\n",
    "except ValueError:\n",
    "    print(\"Error: Invalid input. Please enter a numerical value.\")\n"
   ]
  },
  {
   "cell_type": "markdown",
   "id": "93c7a722-bf1b-4560-88ce-0705b545d489",
   "metadata": {},
   "source": [
    "### 20. Write a Python program to determine if a given number is a perfect square using if-else.\n"
   ]
  },
  {
   "cell_type": "code",
   "execution_count": 85,
   "id": "fbf0291f-25fb-420f-a8d3-ef270b07d085",
   "metadata": {},
   "outputs": [
    {
     "name": "stdout",
     "output_type": "stream",
     "text": [
      "Enter a number to check if it's a perfect square:  4\n"
     ]
    },
    {
     "name": "stdout",
     "output_type": "stream",
     "text": [
      "4 is a perfect square.\n"
     ]
    }
   ],
   "source": [
    "import math\n",
    "\n",
    "def is_perfect_square(number):\n",
    "    if number < 0:\n",
    "        return False  # Negative numbers are not perfect squares\n",
    "    elif number == 0:\n",
    "        return True   # Zero is a perfect square\n",
    "    else:\n",
    "        square_root = math.isqrt(number)\n",
    "        return square_root * square_root == number\n",
    "\n",
    "# Example usage\n",
    "try:\n",
    "    num = int(input(\"Enter a number to check if it's a perfect square: \"))\n",
    "    if is_perfect_square(num):\n",
    "        print(f\"{num} is a perfect square.\")\n",
    "    else:\n",
    "        print(f\"{num} is not a perfect square.\")\n",
    "except ValueError:\n",
    "    print(\"Error: Invalid input. Please enter a numerical value.\")\n"
   ]
  },
  {
   "cell_type": "markdown",
   "id": "bd66a749-9a58-491e-8d68-7264cffb4f1f",
   "metadata": {},
   "source": [
    "### 21. Explain the purpose of the \"continue\" and \"break\" statements within if-else loops.\n"
   ]
  },
  {
   "cell_type": "code",
   "execution_count": 86,
   "id": "49813243-1a2f-46be-8ff8-1e28f0899dce",
   "metadata": {},
   "outputs": [
    {
     "name": "stdout",
     "output_type": "stream",
     "text": [
      "1\n",
      "2\n",
      "4\n",
      "5\n"
     ]
    }
   ],
   "source": [
    "for i in range(1, 6):\n",
    "    if i == 3:\n",
    "        continue\n",
    "    print(i)\n"
   ]
  },
  {
   "cell_type": "code",
   "execution_count": 87,
   "id": "4466162b-897b-41fb-9f66-82025e891839",
   "metadata": {},
   "outputs": [
    {
     "name": "stdout",
     "output_type": "stream",
     "text": [
      "1\n",
      "2\n",
      "3\n"
     ]
    }
   ],
   "source": [
    "numbers = [1, 2, 3, 4, 5]\n",
    "for num in numbers:\n",
    "    if num == 4:\n",
    "        break\n",
    "    print(num)\n"
   ]
  },
  {
   "cell_type": "raw",
   "id": "d0fdebc6-9786-4310-92ee-fd49d7dd7950",
   "metadata": {},
   "source": [
    "In Python, continue and break are control flow statements used within loops (such as for and while loops) to alter their usual flow. Here's an explanation of each:\n",
    "\n",
    "Purpose of continue:\n",
    "The continue statement is used to skip the rest of the code inside a loop for the current iteration and continue to the next iteration of the loop.\n",
    "When continue is encountered within a loop:\n",
    "It immediately stops the execution of the current iteration.\n",
    "It moves to the next iteration of the loop.\n",
    "Use cases:\n",
    "Skipping specific iterations: Use continue to skip iterations where certain conditions are met, avoiding unnecessary computation or processing.\n",
    "Processing specific cases: You might use it to handle special cases that need to be skipped or processed differently.\n",
    "\n",
    "Purpose of break:\n",
    "The break statement is used to terminate the loop immediately when a certain condition is met, regardless of whether the loop has finished all its iterations or not.\n",
    "When break is encountered within a loop:\n",
    "It exits the loop entirely, jumping to the code that follows the loop.\n",
    "It helps in prematurely terminating a loop based on certain conditions.\n",
    "Use cases:\n",
    "Exiting loop early: Use break when you need to stop the loop execution once a specific condition is satisfied.\n",
    "Avoiding infinite loops: It's commonly used in conjunction with a conditional statement to exit the loop when a certain condition outside the loop is met."
   ]
  },
  {
   "cell_type": "markdown",
   "id": "0c6e2f56-da29-43d6-a4cb-fa617b47af70",
   "metadata": {},
   "source": [
    "### 22. Create a Python program that calculates the BMI (Body Mass Index) of a person based on their weight and height using if-else.\n"
   ]
  },
  {
   "cell_type": "code",
   "execution_count": 88,
   "id": "c1a4c87c-8b72-4890-8410-7ad566e5f0ab",
   "metadata": {},
   "outputs": [
    {
     "name": "stdout",
     "output_type": "stream",
     "text": [
      "Enter your weight in kilograms:  56\n",
      "Enter your height in meters:  175\n"
     ]
    },
    {
     "name": "stdout",
     "output_type": "stream",
     "text": [
      "Your BMI is 0.00, which is classified as Underweight.\n"
     ]
    }
   ],
   "source": [
    "def calculate_bmi(weight, height):\n",
    "    bmi = weight / (height ** 2)\n",
    "    return bmi\n",
    "\n",
    "def interpret_bmi(bmi):\n",
    "    if bmi < 18.5:\n",
    "        return \"Underweight\"\n",
    "    elif bmi >= 18.5 and bmi < 25:\n",
    "        return \"Normal weight\"\n",
    "    elif bmi >= 25 and bmi < 30:\n",
    "        return \"Overweight\"\n",
    "    else:\n",
    "        return \"Obesity\"\n",
    "\n",
    "# Example usage\n",
    "try:\n",
    "    weight = float(input(\"Enter your weight in kilograms: \"))\n",
    "    height = float(input(\"Enter your height in meters: \"))\n",
    "\n",
    "    if weight <= 0 or height <= 0:\n",
    "        print(\"Error: Weight and height must be positive numbers.\")\n",
    "    else:\n",
    "        bmi = calculate_bmi(weight, height)\n",
    "        bmi_category = interpret_bmi(bmi)\n",
    "        print(f\"Your BMI is {bmi:.2f}, which is classified as {bmi_category}.\")\n",
    "except ValueError:\n",
    "    print(\"Error: Invalid input. Please enter numerical values for weight and height.\")\n"
   ]
  },
  {
   "cell_type": "markdown",
   "id": "7f065fc6-497e-4677-a457-22416cb7d167",
   "metadata": {},
   "source": [
    "### 23. How can you use the \"filter()\" function with if-else statements to filter elements from a list?"
   ]
  },
  {
   "cell_type": "code",
   "execution_count": 89,
   "id": "a4253f6d-b8d8-4d04-b3d6-f9c61ceff79b",
   "metadata": {},
   "outputs": [
    {
     "name": "stdout",
     "output_type": "stream",
     "text": [
      "[2, 4, 6, 8, 10]\n"
     ]
    }
   ],
   "source": [
    "# Example list of numbers\n",
    "numbers = [1, 2, 3, 4, 5, 6, 7, 8, 9, 10]\n",
    "\n",
    "# Filter even numbers using filter() and lambda function with if-else\n",
    "filtered_numbers = list(filter(lambda x: x % 2 == 0, numbers))\n",
    "\n",
    "print(filtered_numbers)\n"
   ]
  },
  {
   "cell_type": "markdown",
   "id": "caba6e35-f236-42d2-86d8-fe47712ece5e",
   "metadata": {},
   "source": [
    "### 24. Write a Python program to determine if a given number is prime or not using if-else."
   ]
  },
  {
   "cell_type": "code",
   "execution_count": 90,
   "id": "bb301522-232d-4a38-9297-a7e2c34941fc",
   "metadata": {},
   "outputs": [
    {
     "name": "stdout",
     "output_type": "stream",
     "text": [
      "Enter a number to check if it's prime:  5\n"
     ]
    },
    {
     "name": "stdout",
     "output_type": "stream",
     "text": [
      "5 is a prime number.\n"
     ]
    }
   ],
   "source": [
    "def is_prime(number):\n",
    "    if number <= 1:\n",
    "        return False  # Numbers less than or equal to 1 are not prime\n",
    "    \n",
    "    # Check for factors from 2 to sqrt(number)\n",
    "    for i in range(2, int(number**0.5) + 1):\n",
    "        if number % i == 0:\n",
    "            return False  # Found a factor, hence not prime\n",
    "    \n",
    "    return True  # If no factors found, number is prime\n",
    "\n",
    "# Example usage\n",
    "try:\n",
    "    num = int(input(\"Enter a number to check if it's prime: \"))\n",
    "    if is_prime(num):\n",
    "        print(f\"{num} is a prime number.\")\n",
    "    else:\n",
    "        print(f\"{num} is not a prime number.\")\n",
    "except ValueError:\n",
    "    print(\"Error: Invalid input. Please enter a numerical value.\")\n"
   ]
  },
  {
   "cell_type": "markdown",
   "id": "93e38478-5529-402f-ac55-6a877b9adafd",
   "metadata": {},
   "source": [
    "## MAP"
   ]
  },
  {
   "cell_type": "markdown",
   "id": "b0296516-a0d2-4fd2-9a16-cd26c0ed6aed",
   "metadata": {},
   "source": [
    "### 1. Explain the purpose of the `map()` function in Python and provide an example of how it can be \n",
    "used to apply a function to each element of an iterable."
   ]
  },
  {
   "cell_type": "raw",
   "id": "d8be6e2d-174f-4643-beb4-18c46ef2f8b7",
   "metadata": {},
   "source": [
    "The map() function in Python is used to apply a specified function to each item in an iterable (such as a list, tuple, or any other iterable object). It returns an iterator that yields the results of applying the function to each item in the iterable.\n",
    "\n",
    "Purpose of map() Function:\n",
    "Transforming Data: map() is commonly used when you want to transform data in an iterable by applying a function to each element.\n",
    "Efficiency: It provides an efficient way to apply a function across all elements of an iterable without requiring explicit loops.\n",
    "Functional Programming: map() is part of Python's support for functional programming paradigms, where functions are treated as first-class citizens.\n",
    "\n",
    "Additional Notes:\n",
    "Multiple Iterables: map() can accept multiple iterables. If more than one iterable is passed, map() will apply the function pairwise to the items from each iterable until the shortest iterable is exhausted.\n",
    "Efficiency: map() is efficient because it applies the function lazily, meaning it only computes the values as they are needed."
   ]
  },
  {
   "cell_type": "code",
   "execution_count": 91,
   "id": "24b78f28-3c19-44d7-aa48-d6364d5f8595",
   "metadata": {},
   "outputs": [
    {
     "name": "stdout",
     "output_type": "stream",
     "text": [
      "[1, 4, 9, 16, 25]\n"
     ]
    }
   ],
   "source": [
    "# Example list of numbers\n",
    "numbers = [1, 2, 3, 4, 5]\n",
    "\n",
    "# Using map() with a lambda function to square each number\n",
    "squared_numbers = list(map(lambda x: x**2, numbers))\n",
    "\n",
    "print(squared_numbers)\n"
   ]
  },
  {
   "cell_type": "markdown",
   "id": "d472a09b-2f85-487e-8761-2854a490668a",
   "metadata": {},
   "source": [
    "### 2. Write a Python program that uses the `map()` function to square each element of a list of numbers.\n"
   ]
  },
  {
   "cell_type": "code",
   "execution_count": 92,
   "id": "d36b35c9-f190-4f52-a399-0d4994a48d11",
   "metadata": {},
   "outputs": [
    {
     "name": "stdout",
     "output_type": "stream",
     "text": [
      "[1, 4, 9, 16, 25]\n"
     ]
    }
   ],
   "source": [
    "# Example list of numbers\n",
    "numbers = [1, 2, 3, 4, 5]\n",
    "\n",
    "# Using map() with a lambda function to square each number\n",
    "squared_numbers = list(map(lambda x: x**2, numbers))\n",
    "\n",
    "print(squared_numbers)\n"
   ]
  },
  {
   "cell_type": "markdown",
   "id": "8e1dd22b-ac69-4441-a2d3-301e615af94d",
   "metadata": {},
   "source": [
    "### 3. How does the `map()` function differ from a list comprehension in Python, and when would you choose one over the other?"
   ]
  },
  {
   "cell_type": "raw",
   "id": "7785d22c-567b-4f38-b292-b50d5b20b920",
   "metadata": {},
   "source": [
    "Choosing Between map() and List Comprehension:\n",
    "\n",
    "Readability: List comprehensions are often more readable and succinct for simple transformations or filtering of elements.\n",
    "Function Complexity: If applying a complex or existing function to each element, map() with a lambda or named function may be clearer.\n",
    "Performance: In many cases, list comprehensions can be slightly faster due to their implementation in Python.\n",
    "Functional Programming: map() aligns well with functional programming paradigms, making code more modular and reusable.\n",
    "\n",
    "Summary:\n",
    "Use map() when:\n",
    "Applying a function that's already defined (especially for complex logic).\n",
    "Aligning with functional programming practices.\n",
    "\n",
    "Use List Comprehension when:\n",
    "Performing simple operations on each element.\n",
    "Needing to filter elements based on conditions.\n",
    "Seeking a concise and readable syntax.\n",
    "\n",
    "Both map() and list comprehensions offer powerful ways to transform iterables in Python, each with its strengths in different contexts. Understanding their differences helps in choosing the most appropriate approach based on readability, complexity, and performance considerations."
   ]
  },
  {
   "cell_type": "markdown",
   "id": "661bf3fa-a538-4e14-b3f4-8b6ccd058d22",
   "metadata": {},
   "source": [
    "### 4. Create a Python program that uses the `map()` function to convert a list of names to uppercase."
   ]
  },
  {
   "cell_type": "code",
   "execution_count": 93,
   "id": "2b7535b7-3d54-46e6-945e-17f483fc2c84",
   "metadata": {},
   "outputs": [
    {
     "name": "stdout",
     "output_type": "stream",
     "text": [
      "['ALICE', 'BOB', 'CHARLIE', 'DAVID', 'EVE']\n"
     ]
    }
   ],
   "source": [
    "# Example list of names\n",
    "names = [\"Alice\", \"Bob\", \"Charlie\", \"David\", \"Eve\"]\n",
    "\n",
    "# Using map() with a lambda function to convert each name to uppercase\n",
    "uppercase_names = list(map(lambda name: name.upper(), names))\n",
    "\n",
    "print(uppercase_names)\n"
   ]
  },
  {
   "cell_type": "markdown",
   "id": "6a87571b-dc01-41c5-aa73-a81d95da684a",
   "metadata": {},
   "source": [
    "### 5. Write a Python program that uses the `map()` function to calculate the length of each word in a list of strings."
   ]
  },
  {
   "cell_type": "code",
   "execution_count": 94,
   "id": "c6582fe6-4812-4205-bb77-842b47ec5cd0",
   "metadata": {},
   "outputs": [
    {
     "name": "stdout",
     "output_type": "stream",
     "text": [
      "[5, 6, 6, 10, 4]\n"
     ]
    }
   ],
   "source": [
    "# Example list of strings (words)\n",
    "words = [\"apple\", \"banana\", \"orange\", \"grapefruit\", \"kiwi\"]\n",
    "\n",
    "# Using map() with a lambda function to calculate the length of each word\n",
    "word_lengths = list(map(lambda word: len(word), words))\n",
    "\n",
    "print(word_lengths)\n"
   ]
  },
  {
   "cell_type": "markdown",
   "id": "02d0ef65-ae5d-4b63-a2f2-e2c24bf4d86e",
   "metadata": {},
   "source": [
    "### 6. How can you use the `map()` function to apply a custom function to elements of multiple lists simultaneously in Python?\n"
   ]
  },
  {
   "cell_type": "code",
   "execution_count": 96,
   "id": "0c272156-31b3-4a97-9bfe-17df17579318",
   "metadata": {},
   "outputs": [
    {
     "name": "stdout",
     "output_type": "stream",
     "text": [
      "[11, 22, 33, 44, 55]\n"
     ]
    }
   ],
   "source": [
    "# Example lists\n",
    "list1 = [1, 2, 3, 4, 5]\n",
    "list2 = [10, 20, 30, 40, 50]\n",
    "\n",
    "# Custom function to add corresponding elements from two lists\n",
    "def add_elements(x, y):\n",
    "    return x + y\n",
    "\n",
    "# Using map() with add_elements function to add corresponding elements\n",
    "result = list(map(add_elements, list1, list2))\n",
    "\n",
    "print(result)\n"
   ]
  },
  {
   "cell_type": "markdown",
   "id": "7b7cac4f-f536-46ac-a9a3-504d05af415c",
   "metadata": {},
   "source": [
    "### 7. Create a Python program that uses `map()` to convert a list of temperatures from Celsius to Fahrenheit.\n"
   ]
  },
  {
   "cell_type": "code",
   "execution_count": 97,
   "id": "25fde6d4-14ee-46e5-bcc6-bf5dc34de74d",
   "metadata": {},
   "outputs": [
    {
     "name": "stdout",
     "output_type": "stream",
     "text": [
      "[32.0, 50.0, 68.0, 86.0, 104.0]\n"
     ]
    }
   ],
   "source": [
    "# Example list of temperatures in Celsius\n",
    "celsius_temperatures = [0, 10, 20, 30, 40]\n",
    "\n",
    "# Function to convert Celsius to Fahrenheit\n",
    "def celsius_to_fahrenheit(celsius):\n",
    "    return (celsius * 9/5) + 32\n",
    "\n",
    "# Using map() with celsius_to_fahrenheit function\n",
    "fahrenheit_temperatures = list(map(celsius_to_fahrenheit, celsius_temperatures))\n",
    "\n",
    "print(fahrenheit_temperatures)\n"
   ]
  },
  {
   "cell_type": "markdown",
   "id": "b656d626-0932-4c25-87d1-d094fcd39bab",
   "metadata": {},
   "source": [
    "### 8. Write a Python program that uses the `map()` function to round each element of a list of floating-point numbers to the nearest integer.\n"
   ]
  },
  {
   "cell_type": "code",
   "execution_count": 98,
   "id": "9363496b-98c8-4172-b058-f71a8c332f84",
   "metadata": {},
   "outputs": [
    {
     "name": "stdout",
     "output_type": "stream",
     "text": [
      "[3, 2, 3, 5, 5]\n"
     ]
    }
   ],
   "source": [
    "# Example list of floating-point numbers\n",
    "float_numbers = [3.14, 1.618, 2.718, 4.669, 5.432]\n",
    "\n",
    "# Using map() with a lambda function to round each number to the nearest integer\n",
    "rounded_numbers = list(map(lambda x: round(x), float_numbers))\n",
    "\n",
    "print(rounded_numbers)\n"
   ]
  },
  {
   "cell_type": "markdown",
   "id": "0339b73f-a980-4154-8955-2bf0ffa25604",
   "metadata": {},
   "source": [
    "## REDUCE()"
   ]
  },
  {
   "cell_type": "markdown",
   "id": "edc35ce0-9d9a-434e-8f29-3212a3362b6f",
   "metadata": {},
   "source": [
    "### 1. What is the `reduce()` function in Python, and what module should you import to use it? Provide an example of its basic usage.\n"
   ]
  },
  {
   "cell_type": "code",
   "execution_count": 99,
   "id": "9efa21f3-fc1c-4c23-829b-ff76dc10957b",
   "metadata": {},
   "outputs": [
    {
     "name": "stdout",
     "output_type": "stream",
     "text": [
      "Maximum number: 8\n"
     ]
    }
   ],
   "source": [
    "from functools import reduce\n",
    "\n",
    "# Example list of numbers\n",
    "numbers = [5, 8, 2, 6, 1]\n",
    "\n",
    "# Using reduce() to find the maximum number\n",
    "max_number = reduce(lambda x, y: x if x > y else y, numbers)\n",
    "\n",
    "print(\"Maximum number:\", max_number)\n"
   ]
  },
  {
   "cell_type": "raw",
   "id": "d1da1bd3-cbcd-4985-baf3-f2f2b264bf2f",
   "metadata": {},
   "source": [
    "The reduce() function in Python is used for applying a function cumulatively to the items of an iterable, from left to right, so as to reduce the iterable to a single value. It's part of the functools module, so you need to import it before using reduce().\n",
    "\n",
    "Function Application: The function passed to reduce() should take two arguments (accumulated value x and current item y).\n",
    "Iterative Reduction: reduce() applies the function repeatedly until the iterable is exhausted, returning the final accumulated result.\n",
    "\n",
    "Use Cases: reduce() is useful for tasks like computing aggregates (sums, products), finding extremes (maximum, minimum), or any cumulative operation that reduces a sequence.\n"
   ]
  },
  {
   "cell_type": "markdown",
   "id": "ec035568-3ad4-402c-8a91-60a0fac35944",
   "metadata": {},
   "source": [
    "### 2. Write a Python program that uses the `reduce()` function to find the product of all elements in a list.\n"
   ]
  },
  {
   "cell_type": "code",
   "execution_count": 100,
   "id": "0e4f3e99-8db3-49fe-a966-6ce064a73ccd",
   "metadata": {},
   "outputs": [
    {
     "name": "stdout",
     "output_type": "stream",
     "text": [
      "Product of all elements: 120\n"
     ]
    }
   ],
   "source": [
    "from functools import reduce\n",
    "\n",
    "# Example list of numbers\n",
    "numbers = [1, 2, 3, 4, 5]\n",
    "\n",
    "# Using reduce() to find the product of all elements\n",
    "product = reduce(lambda x, y: x * y, numbers)\n",
    "\n",
    "print(\"Product of all elements:\", product)\n"
   ]
  },
  {
   "cell_type": "markdown",
   "id": "a9753b4f-ccce-4a5c-8929-66469a8984b4",
   "metadata": {},
   "source": [
    "### 3. Create a Python program that uses `reduce()` to find the maximum element in a list of numbers.\n"
   ]
  },
  {
   "cell_type": "code",
   "execution_count": 101,
   "id": "0393a88c-0ed4-41df-b678-bc4d2990c989",
   "metadata": {},
   "outputs": [
    {
     "name": "stdout",
     "output_type": "stream",
     "text": [
      "Maximum number: 29\n"
     ]
    }
   ],
   "source": [
    "from functools import reduce\n",
    "\n",
    "# Example list of numbers\n",
    "numbers = [15, 3, 29, 7, 11]\n",
    "\n",
    "# Using reduce() to find the maximum element\n",
    "max_number = reduce(lambda x, y: x if x > y else y, numbers)\n",
    "\n",
    "print(\"Maximum number:\", max_number)\n"
   ]
  },
  {
   "cell_type": "markdown",
   "id": "7f9b228b-abf0-4e69-8cee-78afdcb53c6d",
   "metadata": {},
   "source": [
    "### 4. How can you use the `reduce()` function to concatenate a list of strings into a single string?\n"
   ]
  },
  {
   "cell_type": "code",
   "execution_count": 103,
   "id": "fe099669-b273-4e0a-9342-659c70d54695",
   "metadata": {},
   "outputs": [
    {
     "name": "stdout",
     "output_type": "stream",
     "text": [
      "Concatenated string: Hello World!\n"
     ]
    }
   ],
   "source": [
    "from functools import reduce\n",
    "\n",
    "# Example list of strings\n",
    "strings = [\"Hello\", \" \", \"World\", \"!\"]\n",
    "\n",
    "# Using reduce() to concatenate the list of strings into a single string\n",
    "concatenated_string = reduce(lambda x, y: x + y, strings)\n",
    "\n",
    "print(\"Concatenated string:\", concatenated_string)\n"
   ]
  },
  {
   "cell_type": "raw",
   "id": "e97dfd80-e9f2-4dc6-acd6-7dd7b047dfd0",
   "metadata": {},
   "source": [
    "To concatenate a list of strings into a single string using the reduce() function from the functools module in Python, you can import reduce and then apply it with a function that joins two strings together. Here's how you can do it:"
   ]
  },
  {
   "cell_type": "raw",
   "id": "263963da-a31a-43fd-9c1a-406d6281be53",
   "metadata": {},
   "source": [
    "Function Application: The lambda function passed to reduce() concatenates two strings together.\n",
    "Iterative Reduction: reduce() iteratively applies the function to pairs of elements in the list, cumulatively reducing the sequence to a single string.\n",
    "Use Cases: reduce() is useful for tasks where you need to aggregate values across an iterable and reduce it to a single value based on some cumulative operation."
   ]
  },
  {
   "cell_type": "markdown",
   "id": "1330da89-7263-4cea-b540-fa8be1b8760b",
   "metadata": {},
   "source": [
    "### 5. Write a Python program that calculates the factorial of a number using the `reduce()` function.\n"
   ]
  },
  {
   "cell_type": "code",
   "execution_count": 104,
   "id": "d73af8d4-4c8a-47c5-9b3b-522559a0c359",
   "metadata": {},
   "outputs": [
    {
     "name": "stdout",
     "output_type": "stream",
     "text": [
      "The factorial of 5 is: 120\n"
     ]
    }
   ],
   "source": [
    "from functools import reduce\n",
    "\n",
    "# Function to calculate factorial\n",
    "def factorial(n):\n",
    "    if n == 0 or n == 1:\n",
    "        return 1\n",
    "    else:\n",
    "        return reduce(lambda x, y: x * y, range(1, n + 1))\n",
    "\n",
    "# Example calculation of factorial of 5\n",
    "number = 5\n",
    "result = factorial(number)\n",
    "\n",
    "print(f\"The factorial of {number} is:\", result)\n"
   ]
  },
  {
   "cell_type": "markdown",
   "id": "8a46cc59-3382-4aba-9904-ab1d59b229b9",
   "metadata": {},
   "source": [
    "### 6. Create a Python program that uses `reduce()` to find the GCD (Greatest Common Divisor) of a list of numbers."
   ]
  },
  {
   "cell_type": "code",
   "execution_count": 105,
   "id": "ab7eceb1-8f87-4479-83cc-a18164042769",
   "metadata": {},
   "outputs": [
    {
     "name": "stdout",
     "output_type": "stream",
     "text": [
      "GCD of the numbers: 12\n"
     ]
    }
   ],
   "source": [
    "from functools import reduce\n",
    "from math import gcd\n",
    "\n",
    "# Example list of numbers\n",
    "numbers = [24, 36, 48, 60]\n",
    "\n",
    "# Using reduce() to find the GCD of the list of numbers\n",
    "gcd_result = reduce(gcd, numbers)\n",
    "\n",
    "print(\"GCD of the numbers:\", gcd_result)\n"
   ]
  },
  {
   "cell_type": "markdown",
   "id": "7224893e-1161-4b9d-84a0-06a100a08403",
   "metadata": {},
   "source": [
    "### 7. Write a Python program that uses the `reduce()` function to find the sum of the digits of a given number.\n"
   ]
  },
  {
   "cell_type": "code",
   "execution_count": 106,
   "id": "c7256684-34ad-458b-b8d6-6514a498df09",
   "metadata": {},
   "outputs": [
    {
     "name": "stdout",
     "output_type": "stream",
     "text": [
      "The sum of digits of 12345 is: 15\n"
     ]
    }
   ],
   "source": [
    "from functools import reduce\n",
    "\n",
    "# Function to calculate sum of digits\n",
    "def sum_of_digits(n):\n",
    "    # Convert number to string to iterate over digits\n",
    "    digits = str(n)\n",
    "    # Use reduce() to sum up all digits converted back to integers\n",
    "    return reduce(lambda x, y: x + int(y), digits, 0)\n",
    "\n",
    "# Example number\n",
    "number = 12345\n",
    "\n",
    "# Calculate sum of digits using the function\n",
    "sum_digits = sum_of_digits(number)\n",
    "\n",
    "print(f\"The sum of digits of {number} is:\", sum_digits)\n"
   ]
  },
  {
   "cell_type": "markdown",
   "id": "c4619668-9fe5-42a6-9056-c546e7ae2aec",
   "metadata": {},
   "source": [
    "## FILTER\n"
   ]
  },
  {
   "cell_type": "markdown",
   "id": "dbea2dc2-c4e3-47b0-9ca5-5bba718da7ac",
   "metadata": {},
   "source": [
    "### 1. Explain the purpose of the `filter()` function in Python and provide an example of how it can be used to filter elements from an iterable.\n"
   ]
  },
  {
   "cell_type": "code",
   "execution_count": 107,
   "id": "a66f9828-45c6-4154-bfc8-c713bd81bd56",
   "metadata": {},
   "outputs": [
    {
     "name": "stdout",
     "output_type": "stream",
     "text": [
      "Even numbers: [2, 4, 6, 8, 10]\n"
     ]
    }
   ],
   "source": [
    "# Function to check if a number is even\n",
    "def is_even(num):\n",
    "    return num % 2 == 0\n",
    "\n",
    "# Example list of numbers\n",
    "numbers = [1, 2, 3, 4, 5, 6, 7, 8, 9, 10]\n",
    "\n",
    "# Using filter() to filter out even numbers\n",
    "even_numbers = list(filter(is_even, numbers))\n",
    "\n",
    "print(\"Even numbers:\", even_numbers)\n"
   ]
  },
  {
   "cell_type": "markdown",
   "id": "d455647e-2103-46dd-b924-42dba2adf1f2",
   "metadata": {},
   "source": [
    "### 2. Write a Python program that uses the `filter()` function to select even numbers from a list of integers.\n"
   ]
  },
  {
   "cell_type": "code",
   "execution_count": 109,
   "id": "6b370afe-7377-447d-a79e-ce0eda5d8dca",
   "metadata": {},
   "outputs": [
    {
     "name": "stdout",
     "output_type": "stream",
     "text": [
      "Even numbers: [2, 4, 6, 8, 10]\n"
     ]
    }
   ],
   "source": [
    "# Function to check if a number is even\n",
    "def is_even(num):\n",
    "    return num % 2 == 0\n",
    "\n",
    "# Example list of numbers\n",
    "numbers = [1, 2, 3, 4, 5, 6, 7, 8, 9, 10]\n",
    "\n",
    "# Using filter() to filter out even numbers\n",
    "even_numbers = list(filter(is_even, numbers))\n",
    "\n",
    "print(\"Even numbers:\", even_numbers)\n"
   ]
  },
  {
   "cell_type": "markdown",
   "id": "d38db059-810a-4ecd-a988-fb30b17cd16e",
   "metadata": {},
   "source": [
    "### 3. Create a Python program that uses the `filter()` function to select names that start with a specific letter from a list of strings.\n"
   ]
  },
  {
   "cell_type": "code",
   "execution_count": 112,
   "id": "a3717413-f23d-41d1-b909-d453799fff3d",
   "metadata": {},
   "outputs": [
    {
     "name": "stdout",
     "output_type": "stream",
     "text": [
      "Names starting with 'C': ['Charlie']\n"
     ]
    }
   ],
   "source": [
    "# Function to check if a name starts with a specific letter\n",
    "def starts_with(letter, name):\n",
    "    return name.startswith(letter)\n",
    "\n",
    "# Example list of names\n",
    "names = [\"Alice\", \"Bob\", \"Charlie\", \"David\", \"Eve\", \"Frank\", \"Grace\"]\n",
    "\n",
    "# Specific letter to filter names\n",
    "letter_to_filter = \"C\"\n",
    "\n",
    "# Using filter() to select names starting with the specific letter\n",
    "filtered_names = list(filter(lambda name: starts_with(letter_to_filter, name), names))\n",
    "\n",
    "print(f\"Names starting with '{letter_to_filter}':\", filtered_names)\n"
   ]
  },
  {
   "cell_type": "markdown",
   "id": "d42fbfc3-6cac-4c18-9899-e757e49526d7",
   "metadata": {},
   "source": [
    "### 4. Write a Python program that uses the `filter()` function to select prime numbers from a list of integers.\n"
   ]
  },
  {
   "cell_type": "code",
   "execution_count": 113,
   "id": "bc5bb985-606b-4701-8564-1909f91fcfdc",
   "metadata": {},
   "outputs": [
    {
     "name": "stdout",
     "output_type": "stream",
     "text": [
      "Prime numbers: [2, 3, 5, 7]\n"
     ]
    }
   ],
   "source": [
    "# Function to check if a number is prime\n",
    "def is_prime(num):\n",
    "    if num <= 1:\n",
    "        return False\n",
    "    if num == 2:\n",
    "        return True  # 2 is a prime number\n",
    "    if num % 2 == 0:\n",
    "        return False  # Even numbers greater than 2 are not prime\n",
    "    for i in range(3, int(num**0.5) + 1, 2):\n",
    "        if num % i == 0:\n",
    "            return False\n",
    "    return True\n",
    "\n",
    "# Example list of numbers\n",
    "numbers = [1, 2, 3, 4, 5, 6, 7, 8, 9, 10]\n",
    "\n",
    "# Using filter() to select prime numbers\n",
    "prime_numbers = list(filter(is_prime, numbers))\n",
    "\n",
    "print(\"Prime numbers:\", prime_numbers)\n"
   ]
  },
  {
   "cell_type": "markdown",
   "id": "32ee2f1a-5630-42ff-9ab8-4f3aca6572ca",
   "metadata": {},
   "source": [
    "### 5. How can you use the `filter()` function to remove None values from a list in Python?"
   ]
  },
  {
   "cell_type": "code",
   "execution_count": 114,
   "id": "0f043e3c-7af0-4ee3-9a4c-30b88d75a972",
   "metadata": {},
   "outputs": [
    {
     "name": "stdout",
     "output_type": "stream",
     "text": [
      "Filtered values: [1, 2, 3, 4, 5]\n"
     ]
    }
   ],
   "source": [
    "# Example list with None values\n",
    "values = [1, None, 2, None, 3, None, 4, 5, None]\n",
    "\n",
    "# Using filter() to remove None values\n",
    "filtered_values = list(filter(lambda x: x is not None, values))\n",
    "\n",
    "print(\"Filtered values:\", filtered_values)\n"
   ]
  },
  {
   "cell_type": "raw",
   "id": "eaee1f29-4d45-48a6-960c-32b845de2bea",
   "metadata": {},
   "source": [
    "Function Application: The lambda function passed to filter() checks each element against the condition x is not None.\n",
    "Lazy Evaluation: filter() processes elements only when needed, making it efficient for large datasets.\n",
    "Use Cases: Removing None values from lists or other iterables where None is considered non-desirable or a placeholder."
   ]
  },
  {
   "cell_type": "markdown",
   "id": "fa1550c6-204b-47db-a501-3a5067c45e3d",
   "metadata": {},
   "source": [
    "### 6. Create a Python program that uses `filter()` to select words longer than a certain length from a list of strings."
   ]
  },
  {
   "cell_type": "code",
   "execution_count": 115,
   "id": "de955f87-f331-4d5c-a275-f24f36008d18",
   "metadata": {},
   "outputs": [
    {
     "name": "stdout",
     "output_type": "stream",
     "text": [
      "Words longer than 5 characters: ['banana', 'orange']\n"
     ]
    }
   ],
   "source": [
    "# Example list of strings (words)\n",
    "words = [\"apple\", \"banana\", \"grape\", \"kiwi\", \"orange\", \"melon\"]\n",
    "\n",
    "# Minimum length of words to filter\n",
    "min_length = 5\n",
    "\n",
    "# Using filter() to select words longer than min_length\n",
    "filtered_words = list(filter(lambda word: len(word) > min_length, words))\n",
    "\n",
    "print(f\"Words longer than {min_length} characters:\", filtered_words)\n"
   ]
  },
  {
   "cell_type": "markdown",
   "id": "006c0eed-1ee0-4d10-9453-1be922272922",
   "metadata": {},
   "source": [
    "### 7. Write a Python program that uses the `filter()` function to select elements greater than a specified threshold from a list of values.\n"
   ]
  },
  {
   "cell_type": "code",
   "execution_count": 116,
   "id": "1fd94968-0d58-45e6-ad2a-8aad39c77137",
   "metadata": {},
   "outputs": [
    {
     "name": "stdout",
     "output_type": "stream",
     "text": [
      "Values greater than 15: [20, 30, 25]\n"
     ]
    }
   ],
   "source": [
    "# Example list of values\n",
    "values = [10, 20, 5, 30, 15, 25]\n",
    "\n",
    "# Threshold value for filtering\n",
    "threshold = 15\n",
    "\n",
    "# Using filter() to select elements greater than threshold\n",
    "filtered_values = list(filter(lambda x: x > threshold, values))\n",
    "\n",
    "print(f\"Values greater than {threshold}:\", filtered_values)\n"
   ]
  },
  {
   "cell_type": "markdown",
   "id": "790cc2c6-9ec1-4e98-85e8-39b4842de819",
   "metadata": {},
   "source": [
    "## Recursion:-\n"
   ]
  },
  {
   "cell_type": "markdown",
   "id": "fb7c3998-f316-4ede-9719-3efeadf2037d",
   "metadata": {},
   "source": [
    "### 1. Explain the concept of recursion in Python. How does it differ from iteration?\n"
   ]
  },
  {
   "cell_type": "raw",
   "id": "46b75b5e-52a9-4331-aa3d-403cf691671a",
   "metadata": {},
   "source": [
    "Recursion:\n",
    "Recursion is a programming technique where a function calls itself directly or indirectly to solve a problem. In Python, recursion allows a function to break down a problem into smaller, simpler subproblems until they can be solved directly. Each recursive call processes a smaller part of the problem until a base case is reached, which is a condition where the function returns a straightforward result without making further recursive calls.\n",
    "\n",
    "Key Characteristics of Recursion:\n",
    "\n",
    "Function Calls Itself: A recursive function calls itself within its definition.\n",
    "Base Case: It includes a terminating condition (base case) to prevent infinite recursion and to provide the final result.\n",
    "Memory Usage: It typically uses more memory compared to iteration due to the overhead of maintaining multiple stack frames.\n",
    "Complexity: Recursive solutions can be simpler and more elegant for certain problems, such as those involving tree structures or nested patterns.\n",
    "\n",
    "Differences Between Recursion and Iteration:\n",
    "Mechanism: Recursion involves functions calling themselves, while iteration uses looping constructs to repeat a block of code.\n",
    "Termination: Recursion requires a base case to terminate the recursive calls, whereas iteration relies on loop control structures (e.g., counters or conditions).\n",
    "Memory Usage: Recursion typically uses more memory due to maintaining multiple stack frames, whereas iteration uses a constant amount of memory.\n",
    "Application: Recursion is often used for problems involving nested structures or where dividing the problem into smaller subproblems is beneficial. Iteration is more straightforward for simple repetitive tasks or when performance and memory efficiency are critical."
   ]
  },
  {
   "cell_type": "code",
   "execution_count": 117,
   "id": "c8843d64-3d27-46b5-90a3-72a7d7cf6ce3",
   "metadata": {},
   "outputs": [],
   "source": [
    "#Recursive Factorial Function:\n",
    "def factorial(n):\n",
    "    if n == 0:\n",
    "        return 1  # Base case\n",
    "    else:\n",
    "        return n * factorial(n - 1)  # Recursive call\n"
   ]
  },
  {
   "cell_type": "code",
   "execution_count": 118,
   "id": "486c69d0-1895-4df5-b3e8-94f43c25bc68",
   "metadata": {},
   "outputs": [],
   "source": [
    "#Iterative Factorial fuction\n",
    "def factorial_iterative(n):\n",
    "    result = 1\n",
    "    for i in range(1, n + 1):\n",
    "        result *= i\n",
    "    return result\n"
   ]
  },
  {
   "cell_type": "markdown",
   "id": "c63dabdd-e51a-4fea-8be4-bc8249989703",
   "metadata": {},
   "source": [
    "### 2. Write a Python program to calculate the factorial of a number using recursion.\n"
   ]
  },
  {
   "cell_type": "code",
   "execution_count": 119,
   "id": "63b8cb01-6918-4029-a857-d96fd6dca94a",
   "metadata": {},
   "outputs": [
    {
     "name": "stdout",
     "output_type": "stream",
     "text": [
      "The factorial of 5 is: 120\n"
     ]
    }
   ],
   "source": [
    "def factorial(n):\n",
    "    # Base case: factorial of 0 is 1\n",
    "    if n == 0:\n",
    "        return 1\n",
    "    else:\n",
    "        return n * factorial(n - 1)\n",
    "\n",
    "# Example usage:\n",
    "number = 5\n",
    "print(f\"The factorial of {number} is:\", factorial(number))\n"
   ]
  },
  {
   "cell_type": "markdown",
   "id": "0e855868-eac1-49c8-8642-0efbc5da88ce",
   "metadata": {},
   "source": [
    "### 3. Create a recursive Python function to find the nth Fibonacci number"
   ]
  },
  {
   "cell_type": "code",
   "execution_count": 120,
   "id": "4cb7f1dc-f418-439d-b531-91cfc9f5af49",
   "metadata": {},
   "outputs": [
    {
     "name": "stdout",
     "output_type": "stream",
     "text": [
      "The 6th Fibonacci number is: 8\n"
     ]
    }
   ],
   "source": [
    "def fibonacci(n):\n",
    "    # Base cases:\n",
    "    if n <= 0:\n",
    "        return 0\n",
    "    elif n == 1:\n",
    "        return 1\n",
    "    else:\n",
    "        # Recursive case:\n",
    "        return fibonacci(n - 1) + fibonacci(n - 2)\n",
    "\n",
    "# Example usage:\n",
    "n = 6\n",
    "print(f\"The {n}th Fibonacci number is:\", fibonacci(n))\n"
   ]
  },
  {
   "cell_type": "markdown",
   "id": "d60708af-e242-4a73-855b-8a068e653ad0",
   "metadata": {},
   "source": [
    "### 4. Write a recursive Python function to calculate the sum of all elements in a list.\n"
   ]
  },
  {
   "cell_type": "code",
   "execution_count": 121,
   "id": "44ad9904-9fba-4841-b405-c26e3898dc2b",
   "metadata": {},
   "outputs": [
    {
     "name": "stdout",
     "output_type": "stream",
     "text": [
      "Sum of elements in the list: 15\n"
     ]
    }
   ],
   "source": [
    "def sum_list_recursive(lst):\n",
    "    # Base case: empty list\n",
    "    if not lst:\n",
    "        return 0\n",
    "    else:\n",
    "        # Recursive case: sum of current element + sum of rest of the list\n",
    "        return lst[0] + sum_list_recursive(lst[1:])\n",
    "\n",
    "# Example usage:\n",
    "numbers = [1, 2, 3, 4, 5]\n",
    "print(\"Sum of elements in the list:\", sum_list_recursive(numbers))\n"
   ]
  },
  {
   "cell_type": "markdown",
   "id": "8ac3b472-0a57-4b4f-9884-56b4855eddd0",
   "metadata": {},
   "source": [
    "### 5. How can you prevent a recursive function from running indefinitely, causing a stack overflow error?\n"
   ]
  },
  {
   "cell_type": "raw",
   "id": "3796a719-46cd-4ee3-98e8-2819bfd8ac39",
   "metadata": {},
   "source": [
    "To prevent a recursive function from running indefinitely and causing a stack overflow error, you should ensure that your recursive function has a well-defined termination condition, often referred to as a \"base case.\" This base case stops the recursion by returning a result directly without making further recursive calls. Here’s how you can prevent stack overflow errors in recursive functions:\n",
    "\n",
    "Steps to Prevent Stack Overflow Errors:\n",
    "Define a Base Case:\n",
    "\n",
    "A base case is a condition under which the recursive function returns a result without making further recursive calls.\n",
    "Ensure that every possible execution path in your recursive function leads to eventually hitting this base case.\n",
    "Check Input Conditions:\n",
    "\n",
    "Validate input parameters before starting recursive calls to handle edge cases or unexpected inputs that could lead to infinite recursion.\n",
    "Limit Recursion Depth:\n",
    "\n",
    "Sometimes, setting a maximum recursion depth manually can be a safety measure, although this is less common in Python due to its default recursion limit."
   ]
  },
  {
   "cell_type": "code",
   "execution_count": 122,
   "id": "99f4838e-1e30-4ca7-a6df-4db4b7bdc3f2",
   "metadata": {},
   "outputs": [
    {
     "name": "stdout",
     "output_type": "stream",
     "text": [
      "The factorial of 5 is: 120\n"
     ]
    }
   ],
   "source": [
    "def factorial(n):\n",
    "    # Base case: factorial of 0 is 1\n",
    "    if n == 0:\n",
    "        return 1\n",
    "    else:\n",
    "        # Recursive case: factorial of n is n * factorial of (n - 1)\n",
    "        return n * factorial(n - 1)\n",
    "\n",
    "# Example usage:\n",
    "number = 5\n",
    "print(f\"The factorial of {number} is:\", factorial(number))\n"
   ]
  },
  {
   "cell_type": "markdown",
   "id": "9bc6045a-db14-47ce-9f6b-544966fc3a15",
   "metadata": {},
   "source": [
    "### 7. Write a recursive Python function to reverse a string.\n"
   ]
  },
  {
   "cell_type": "code",
   "execution_count": 123,
   "id": "b81bbc5f-a1d9-4abf-8964-24d93c503170",
   "metadata": {},
   "outputs": [
    {
     "name": "stdout",
     "output_type": "stream",
     "text": [
      "Original string: hello\n",
      "Reversed string: olleh\n"
     ]
    }
   ],
   "source": [
    "def reverse_string_recursive(input_string):\n",
    "    # Base case: if the string is empty or has only one character\n",
    "    if len(input_string) <= 1:\n",
    "        return input_string\n",
    "    else:\n",
    "        # Recursive case: return the last character + reverse of the rest of the string\n",
    "        return input_string[-1] + reverse_string_recursive(input_string[:-1])\n",
    "\n",
    "# Example usage:\n",
    "input_str = \"hello\"\n",
    "print(\"Original string:\", input_str)\n",
    "print(\"Reversed string:\", reverse_string_recursive(input_str))\n"
   ]
  },
  {
   "cell_type": "markdown",
   "id": "38dfc69b-fe86-429e-8192-5cc57addfb57",
   "metadata": {},
   "source": [
    "### 8. Create a recursive Python function to calculate the power of a number (x^n).\n"
   ]
  },
  {
   "cell_type": "code",
   "execution_count": 124,
   "id": "a811e6f7-d30e-4f8f-9695-8ab5cf482d25",
   "metadata": {},
   "outputs": [
    {
     "name": "stdout",
     "output_type": "stream",
     "text": [
      "2 raised to the power of 3 is: 8\n"
     ]
    }
   ],
   "source": [
    "def power(x, n):\n",
    "    # Base case: x^0 is 1 for any non-zero x\n",
    "    if n == 0:\n",
    "        return 1\n",
    "    # Recursive case: x^n = x * x^(n-1)\n",
    "    elif n > 0:\n",
    "        return x * power(x, n - 1)\n",
    "    # Handling negative exponents: x^(-n) = 1 / x^n\n",
    "    else:\n",
    "        return 1 / power(x, -n)\n",
    "\n",
    "# Example usage:\n",
    "base = 2\n",
    "exponent = 3\n",
    "print(f\"{base} raised to the power of {exponent} is:\", power(base, exponent))\n"
   ]
  },
  {
   "cell_type": "markdown",
   "id": "3f10fb95-eef0-420a-bf79-98eb0ac73027",
   "metadata": {},
   "source": [
    "### 9. Write a recursive Python function to find all permutations of a given string.\n"
   ]
  },
  {
   "cell_type": "code",
   "execution_count": 125,
   "id": "945dd1ab-0452-46cb-8296-0f522b0270c0",
   "metadata": {},
   "outputs": [
    {
     "name": "stdout",
     "output_type": "stream",
     "text": [
      "2 raised to the power of 3 is: 8\n"
     ]
    }
   ],
   "source": [
    "def power(x, n):\n",
    "    # Base case: x^0 is 1 for any non-zero x\n",
    "    if n == 0:\n",
    "        return 1\n",
    "    # Recursive case: x^n = x * x^(n-1)\n",
    "    elif n > 0:\n",
    "        return x * power(x, n - 1)\n",
    "    # Handling negative exponents: x^(-n) = 1 / x^n\n",
    "    else:\n",
    "        return 1 / power(x, -n)\n",
    "\n",
    "# Example usage:\n",
    "base = 2\n",
    "exponent = 3\n",
    "print(f\"{base} raised to the power of {exponent} is:\", power(base, exponent))\n"
   ]
  },
  {
   "cell_type": "markdown",
   "id": "63b4a3e0-c2b8-4bd3-b621-962771689efc",
   "metadata": {},
   "source": [
    "### 9. Write a recursive Python function to find all permutations of a given string.\n"
   ]
  },
  {
   "cell_type": "code",
   "execution_count": 126,
   "id": "9eca5fb2-0b89-4a22-b38d-7cc935863982",
   "metadata": {},
   "outputs": [
    {
     "name": "stdout",
     "output_type": "stream",
     "text": [
      "Permutations of abc are:\n",
      "['abc', 'acb', 'bac', 'bca', 'cab', 'cba']\n"
     ]
    }
   ],
   "source": [
    "def permutations(string):\n",
    "    result = []\n",
    "    \n",
    "    # Base case: if the string is empty\n",
    "    if len(string) == 0:\n",
    "        return ['']\n",
    "    \n",
    "    # Recursive case: generate permutations\n",
    "    for i in range(len(string)):\n",
    "        # Fix character string[i] and find permutations of remaining characters\n",
    "        smaller_permutations = permutations(string[:i] + string[i+1:])\n",
    "        \n",
    "        # Append each permutation to result\n",
    "        for perm in smaller_permutations:\n",
    "            result.append(string[i] + perm)\n",
    "    \n",
    "    return result\n",
    "\n",
    "# Example usage:\n",
    "input_str = \"abc\"\n",
    "print(\"Permutations of\", input_str, \"are:\")\n",
    "print(permutations(input_str))\n"
   ]
  },
  {
   "cell_type": "markdown",
   "id": "d9608bf5-ae95-4b0b-b841-3b0d8fff0036",
   "metadata": {},
   "source": [
    "### 10. Write a recursive Python function to check if a string is a palindrome.\n"
   ]
  },
  {
   "cell_type": "code",
   "execution_count": 127,
   "id": "6291fe2a-d779-4ad2-abef-e2dd627aacb8",
   "metadata": {},
   "outputs": [
    {
     "name": "stdout",
     "output_type": "stream",
     "text": [
      "Is 'radar' a palindrome? True\n",
      "Is 'hello' a palindrome? False\n"
     ]
    }
   ],
   "source": [
    "def is_palindrome_recursive(string):\n",
    "    # Base case: empty string or single character string is palindrome\n",
    "    if len(string) <= 1:\n",
    "        return True\n",
    "    else:\n",
    "        # Recursive case: check if first and last characters are the same\n",
    "        if string[0] == string[-1]:\n",
    "            # Recur with the substring excluding the first and last characters\n",
    "            return is_palindrome_recursive(string[1:-1])\n",
    "        else:\n",
    "            return False\n",
    "\n",
    "# Example usage:\n",
    "input_str1 = \"radar\"\n",
    "input_str2 = \"hello\"\n",
    "\n",
    "print(f\"Is '{input_str1}' a palindrome?\", is_palindrome_recursive(input_str1))\n",
    "print(f\"Is '{input_str2}' a palindrome?\", is_palindrome_recursive(input_str2))\n"
   ]
  },
  {
   "cell_type": "markdown",
   "id": "53f24960-19b3-40f3-8c82-785b83f67010",
   "metadata": {},
   "source": [
    "### 11. Create a recursive Python function to generate all possible combinations of a list of elements."
   ]
  },
  {
   "cell_type": "code",
   "execution_count": 128,
   "id": "1eeded32-6de9-4800-b4ae-725a9faa8642",
   "metadata": {},
   "outputs": [
    {
     "name": "stdout",
     "output_type": "stream",
     "text": [
      "Combinations of [1, 2, 3] are:\n",
      "[[1, 2, 3], [1, 2], [1, 3], [1], [2, 3], [2], [3], []]\n"
     ]
    }
   ],
   "source": [
    "def combinations(elements):\n",
    "    result = []\n",
    "    \n",
    "    # Helper function to recursively generate combinations\n",
    "    def generate_combinations(current_combination, remaining_elements):\n",
    "        if not remaining_elements:\n",
    "            result.append(current_combination)\n",
    "        else:\n",
    "            # Include the first element in the current combination and recurse\n",
    "            generate_combinations(current_combination + [remaining_elements[0]], remaining_elements[1:])\n",
    "            # Exclude the first element from the current combination and recurse\n",
    "            generate_combinations(current_combination, remaining_elements[1:])\n",
    "    \n",
    "    # Start generating combinations with an empty initial combination and all elements\n",
    "    generate_combinations([], elements)\n",
    "    \n",
    "    return result\n",
    "\n",
    "# Example usage:\n",
    "input_elements = [1, 2, 3]\n",
    "print(\"Combinations of\", input_elements, \"are:\")\n",
    "print(combinations(input_elements))\n"
   ]
  },
  {
   "cell_type": "markdown",
   "id": "df6e0a9d-ef7a-4a93-ab9a-a2b9bd75e926",
   "metadata": {},
   "source": [
    "## Basic function"
   ]
  },
  {
   "cell_type": "markdown",
   "id": "b9c9ecec-92dd-4ec7-91fc-78c87134b401",
   "metadata": {},
   "source": [
    "### 1. What is a function in Python, and why is it used?"
   ]
  },
  {
   "cell_type": "raw",
   "id": "a6d32ca6-5aeb-422b-8609-4115e0de66a0",
   "metadata": {},
   "source": [
    "A function in Python is a block of reusable code that performs a specific task. It is defined using the def keyword, followed by the function name, parentheses (which may include parameters), and a colon. The indented block of code that follows forms the body of the function.\n",
    "\n",
    "Why Functions are Used\n",
    "Code Reusability: Functions allow you to write a piece of code once and use it multiple times without rewriting it. This helps reduce redundancy and makes code more concise and manageable.\n",
    "\n",
    "Modularity: Functions help break down complex problems into smaller, more manageable chunks. This makes the code easier to understand, debug, and maintain.\n",
    "\n",
    "Abstraction: By using functions, you can hide the complexity of the code and expose only the necessary parts to the user. This simplifies the interaction with the code.\n",
    "\n",
    "Organization: Functions help organize code logically, making it easier to read and follow. Each function performs a single, well-defined task.\n",
    "\n",
    "Testing: Functions make it easier to test and debug individual pieces of code. You can test each function independently to ensure it works correctly."
   ]
  },
  {
   "cell_type": "markdown",
   "id": "02e399e0-ad77-4e64-b4d8-eee951a33f54",
   "metadata": {},
   "source": [
    "### 2. How do you define a function in Python? Provide an example"
   ]
  },
  {
   "cell_type": "code",
   "execution_count": 1,
   "id": "1598d1bf-f924-42dd-bfbb-4b51dad531fb",
   "metadata": {},
   "outputs": [],
   "source": [
    "def function_name(parameters):\n",
    "    # Function body\n",
    "    # Code to be executed\n",
    "    return [expression]\n"
   ]
  },
  {
   "cell_type": "code",
   "execution_count": 2,
   "id": "40b1afb6-ef85-40ce-993b-0f19e944f150",
   "metadata": {},
   "outputs": [
    {
     "name": "stdout",
     "output_type": "stream",
     "text": [
      "8\n"
     ]
    }
   ],
   "source": [
    "def add_numbers(a, b):\n",
    "    \"\"\"\n",
    "    This function takes two numbers as parameters and returns their sum.\n",
    "    \"\"\"\n",
    "    result = a + b\n",
    "    return result\n",
    "\n",
    "# Calling the function\n",
    "sum_result = add_numbers(3, 5)\n",
    "print(sum_result)  # Output: 8\n"
   ]
  },
  {
   "cell_type": "raw",
   "id": "ee337c71-133c-4b88-b817-340866fd8d52",
   "metadata": {},
   "source": [
    "Function Definition: The function is defined using the def keyword followed by the function name add_numbers. It takes two parameters a and b.\n",
    "\n",
    "Docstring: A docstring (optional but recommended) describes what the function does. It's enclosed in triple quotes.\n",
    "\n",
    "Function Body: The indented block of code performs the addition of a and b, storing the result in the variable result.\n",
    "\n",
    "Return Statement: The return statement sends the result back to the caller.\n",
    "\n",
    "Function Call: The function is called with arguments 3 and 5, and the result is stored in the variable sum_result.\n",
    "\n",
    "Output: The result 8 is printed"
   ]
  },
  {
   "cell_type": "markdown",
   "id": "bc7feb90-9720-49e0-910f-e9e7de54c479",
   "metadata": {},
   "source": [
    "### 3. Explain the difference between a function definition and a function call."
   ]
  },
  {
   "cell_type": "raw",
   "id": "0bab1ee8-885c-4c34-b032-03890d35a2e6",
   "metadata": {},
   "source": [
    "Function Definition\n",
    "Purpose: Defines the function and specifies what it does.\n",
    "Syntax: Uses the def keyword followed by the function name, parameters (in parentheses), and a colon. The function body is an indented block of code.\n",
    "Execution: Does not execute the code within the function. It merely creates the function for future use.\n",
    "\n",
    "                                                                            Function Call\n",
    "Purpose: Executes the function's code using the provided arguments.\n",
    "Syntax: Uses the function name followed by parentheses containing any arguments.\n",
    "Execution: Executes the code within the function body using the given arguments.\n"
   ]
  },
  {
   "cell_type": "markdown",
   "id": "c8ebe9fb-86a5-4dd8-9271-207777c47489",
   "metadata": {},
   "source": [
    "### 4. Write a Python program that defines a function to calculate the sum of two numbers and then calls the function.\n"
   ]
  },
  {
   "cell_type": "code",
   "execution_count": 3,
   "id": "563815c5-2938-4dec-8fc8-2b2d55e590e5",
   "metadata": {},
   "outputs": [
    {
     "name": "stdout",
     "output_type": "stream",
     "text": [
      "The sum of 10 and 15 is 25.\n"
     ]
    }
   ],
   "source": [
    "# Function definition\n",
    "def calculate_sum(a, b):\n",
    "    \"\"\"\n",
    "    This function takes two numbers as parameters and returns their sum.\n",
    "    \"\"\"\n",
    "    return a + b\n",
    "\n",
    "# Function call\n",
    "num1 = 10\n",
    "num2 = 15\n",
    "result = calculate_sum(num1, num2)\n",
    "\n",
    "# Print the result\n",
    "print(f\"The sum of {num1} and {num2} is {result}.\")\n"
   ]
  },
  {
   "cell_type": "markdown",
   "id": "09063a9b-d00a-4d20-876f-0139faa7236a",
   "metadata": {},
   "source": [
    "### 5. What is a function signature, and what information does it typically include?"
   ]
  },
  {
   "cell_type": "raw",
   "id": "28541390-3717-4479-874b-de697a92cec4",
   "metadata": {},
   "source": [
    "A function signature in Python refers to the part of a function definition that specifies the function's name and its parameters. The function signature provides critical information about how the function should be called, including the names and types of its parameters.\n",
    "\n",
    "Information Typically Included in a Function Signature:\n",
    "\n",
    "Function Name: The name of the function, which is used to call it.\n",
    "\n",
    "Parameters: The variables that the function accepts as input. These are enclosed in parentheses and separated by commas. Parameters can include:\n",
    "Positional Parameters: Regular parameters that must be provided in the order specified.\n",
    "\n",
    "Keyword Parameters: Parameters with default values.\n",
    "\n",
    "Variable-length Parameters: Parameters that can accept an arbitrary number of arguments, specified using *args for positional arguments and **kwargs for keyword arguments."
   ]
  },
  {
   "cell_type": "markdown",
   "id": "03c8a96d-8f35-40b1-81e9-d9293dbf5e0c",
   "metadata": {},
   "source": [
    "### 6. Create a Python function that takes two arguments and returns their product.\n"
   ]
  },
  {
   "cell_type": "code",
   "execution_count": 4,
   "id": "6512c8c8-3629-4a2e-b966-c44e5ac8f353",
   "metadata": {},
   "outputs": [
    {
     "name": "stdout",
     "output_type": "stream",
     "text": [
      "The product of 6 and 7 is 42.\n"
     ]
    }
   ],
   "source": [
    "# Function definition\n",
    "def calculate_product(a, b):\n",
    "    \"\"\"\n",
    "    This function takes two numbers as parameters and returns their product.\n",
    "    \"\"\"\n",
    "    return a * b\n",
    "\n",
    "# Example function call\n",
    "num1 = 6\n",
    "num2 = 7\n",
    "result = calculate_product(num1, num2)\n",
    "\n",
    "# Print the result\n",
    "print(f\"The product of {num1} and {num2} is {result}.\")\n"
   ]
  },
  {
   "cell_type": "markdown",
   "id": "4373ee67-b094-4c30-833e-97db6b9884b2",
   "metadata": {},
   "source": [
    "## Function Parameters and Arguments:\n"
   ]
  },
  {
   "cell_type": "markdown",
   "id": "432cc738-bf31-4626-a8ff-64871caf9420",
   "metadata": {},
   "source": [
    "### 1. Explain the concepts of formal parameters and actual arguments in Python functions.\n"
   ]
  },
  {
   "cell_type": "raw",
   "id": "baf396b6-4e21-4a8f-8bbd-5b6bca69734b",
   "metadata": {},
   "source": [
    "Formal Parameters:\n",
    "Formal parameters, also known simply as parameters, are the variables defined in the function signature. They act as placeholders for the values that will be passed into the function when it is called. Formal parameters specify what kind of input the function expects.\n",
    "\n",
    "In this example, a and b are formal parameters. They are defined in the function signature and indicate that add_numbers expects two arguments."
   ]
  },
  {
   "cell_type": "code",
   "execution_count": 5,
   "id": "7a545962-9af0-40c3-9cd3-145ec8e10408",
   "metadata": {},
   "outputs": [],
   "source": [
    "def add_numbers(a, b):\n",
    "    return a + b\n"
   ]
  },
  {
   "cell_type": "raw",
   "id": "6dc90030-4dfd-4630-b5e1-4891e2910024",
   "metadata": {},
   "source": [
    "Actual Arguments\n",
    "Actual arguments, also known simply as arguments, are the real values or data that are passed to the function when it is called. These values are assigned to the corresponding formal parameters.\n",
    "\n",
    "In this example, 3 and 5 are actual arguments. When add_numbers(3, 5) is called, 3 is assigned to the formal parameter a, and 5 is assigned to the formal parameter b"
   ]
  },
  {
   "cell_type": "code",
   "execution_count": 6,
   "id": "30bc4b0b-424e-4232-b3f3-7963622dd8fa",
   "metadata": {},
   "outputs": [],
   "source": [
    "result = add_numbers(3, 5)\n"
   ]
  },
  {
   "cell_type": "markdown",
   "id": "04c4a6c6-bd58-4800-aa8c-95e3b5eaa385",
   "metadata": {},
   "source": [
    "### 2. Write a Python program that defines a function with default argument values."
   ]
  },
  {
   "cell_type": "code",
   "execution_count": 7,
   "id": "726200ab-6a67-454a-8e93-1a97a454dacf",
   "metadata": {},
   "outputs": [
    {
     "name": "stdout",
     "output_type": "stream",
     "text": [
      "Hello, Alice!\n",
      "Good morning, Bob!\n"
     ]
    }
   ],
   "source": [
    "# Function definition with default arguments\n",
    "def greet(name, message=\"Hello\"):\n",
    "    \"\"\"\n",
    "    This function greets a person with a provided message.\n",
    "    If no message is provided, it defaults to \"Hello\".\n",
    "    \"\"\"\n",
    "    print(f\"{message}, {name}!\")\n",
    "\n",
    "# Function calls\n",
    "greet(\"Alice\")            # Uses the default message\n",
    "greet(\"Bob\", \"Good morning\")  # Uses the provided message\n",
    "\n",
    "# Example output:\n",
    "# Hello, Alice!\n",
    "# Good morning, Bob!\n"
   ]
  },
  {
   "cell_type": "markdown",
   "id": "9fd6dd24-69be-4265-97be-30998769bdda",
   "metadata": {},
   "source": [
    "### 3. How do you use keyword arguments in Python function calls? Provide an example.\n"
   ]
  },
  {
   "cell_type": "raw",
   "id": "da91699a-73c1-40e3-9a89-68a5fb1284cd",
   "metadata": {},
   "source": [
    "Keyword arguments in Python allow you to specify the values of function parameters using their parameter names, making the function calls more readable and allowing you to pass arguments in any order. This is especially useful when a function has many parameters or when you want to use some default values while specifying others."
   ]
  },
  {
   "cell_type": "code",
   "execution_count": 8,
   "id": "d7382595-c79d-44d0-8e48-b4b2d6349624",
   "metadata": {},
   "outputs": [
    {
     "name": "stdout",
     "output_type": "stream",
     "text": [
      "My name is Alice, I am 30 years old, I live in New York, and I enjoy painting.\n",
      "My name is Bob, I am 25 years old, I live in Unknown, and I enjoy reading.\n",
      "My name is Charlie, I am 40 years old, I live in Unknown, and I enjoy None.\n"
     ]
    }
   ],
   "source": [
    "# Function definition\n",
    "def introduce(name, age, city=\"Unknown\", hobby=\"None\"):\n",
    "    \"\"\"\n",
    "    This function introduces a person with given details.\n",
    "    \"\"\"\n",
    "    print(f\"My name is {name}, I am {age} years old, I live in {city}, and I enjoy {hobby}.\")\n",
    "\n",
    "# Function call using keyword arguments\n",
    "introduce(name=\"Alice\", age=30, city=\"New York\", hobby=\"painting\")\n",
    "introduce(name=\"Bob\", age=25, hobby=\"reading\")\n",
    "introduce(age=40, name=\"Charlie\")\n",
    "\n",
    "# Example output:\n",
    "# My name is Alice, I am 30 years old, I live in New York, and I enjoy painting.\n",
    "# My name is Bob, I am 25 years old, I live in Unknown, and I enjoy reading.\n",
    "# My name is Charlie, I am 40 years old, I live in Unknown, and I enjoy None.\n"
   ]
  },
  {
   "cell_type": "markdown",
   "id": "411a1471-6dc7-4b7f-8e30-ab11d07ed2b5",
   "metadata": {},
   "source": [
    "### 4. Create a Python function that accepts a variable number of arguments and calculates their sum.\n"
   ]
  },
  {
   "cell_type": "code",
   "execution_count": 9,
   "id": "d594323a-ba42-4e78-8a38-36ecd2f87da7",
   "metadata": {},
   "outputs": [
    {
     "name": "stdout",
     "output_type": "stream",
     "text": [
      "Sum of numbers (1, 2, 3): 6\n",
      "Sum of numbers (5, 10, 15, 20): 50\n"
     ]
    }
   ],
   "source": [
    "# Function definition with variable-length arguments\n",
    "def calculate_sum(*args):\n",
    "    \"\"\"\n",
    "    This function takes a variable number of arguments and returns their sum.\n",
    "    \"\"\"\n",
    "    total = 0\n",
    "    for num in args:\n",
    "        total += num\n",
    "    return total\n",
    "\n",
    "# Example function calls\n",
    "result1 = calculate_sum(1, 2, 3)\n",
    "result2 = calculate_sum(5, 10, 15, 20)\n",
    "\n",
    "# Print the results\n",
    "print(f\"Sum of numbers (1, 2, 3): {result1}\")\n",
    "print(f\"Sum of numbers (5, 10, 15, 20): {result2}\")\n"
   ]
  },
  {
   "cell_type": "markdown",
   "id": "a4362761-fdef-4847-af34-6c75f1b1c3a5",
   "metadata": {},
   "source": [
    "### 5. What is the purpose of the `*args` and `**kwargs` syntax in function parameter lists?"
   ]
  },
  {
   "cell_type": "raw",
   "id": "38b67312-d102-42f5-81aa-50e27f491473",
   "metadata": {},
   "source": [
    "*args (Non-Keyword Arguments):\n",
    "\n",
    "*args allows you to pass a variable number of non-keyword arguments to a function.\n",
    "Inside the function, args will be treated as a tuple containing all the additional positional arguments passed to the function.\n"
   ]
  },
  {
   "cell_type": "code",
   "execution_count": 12,
   "id": "a19912cb-9027-4389-bb9a-b5922e272263",
   "metadata": {},
   "outputs": [
    {
     "name": "stdout",
     "output_type": "stream",
     "text": [
      "1\n",
      "2\n",
      "3\n",
      "4\n",
      "5\n"
     ]
    }
   ],
   "source": [
    "def my_function(*args):\n",
    "    for arg in args:\n",
    "        print(arg)\n",
    "\n",
    "my_function(1, 2, 3, 4, 5)\n"
   ]
  },
  {
   "cell_type": "raw",
   "id": "f0db1067-cdab-4a47-9782-584ae5ab60a3",
   "metadata": {},
   "source": [
    "**kwargs (Keyword Arguments):\n",
    "\n",
    "**kwargs allows you to pass a variable number of keyword arguments to a function.\n",
    "Inside the function, kwargs will be treated as a dictionary containing all the keyword arguments passed to the function, where the keys are the argument names and the values are the argument values."
   ]
  },
  {
   "cell_type": "code",
   "execution_count": 13,
   "id": "66378290-d748-4804-aabc-c8eb2fbd1a41",
   "metadata": {},
   "outputs": [
    {
     "name": "stdout",
     "output_type": "stream",
     "text": [
      "name: Alice\n",
      "age: 30\n",
      "city: New York\n"
     ]
    }
   ],
   "source": [
    "def my_function(**kwargs):\n",
    "    for key, value in kwargs.items():\n",
    "        print(f\"{key}: {value}\")\n",
    "\n",
    "my_function(name=\"Alice\", age=30, city=\"New York\")\n"
   ]
  },
  {
   "cell_type": "markdown",
   "id": "98bc11b0-e673-435f-ad4e-ea256ceb35aa",
   "metadata": {},
   "source": [
    "## Return Values and Scoping:\n"
   ]
  },
  {
   "cell_type": "markdown",
   "id": "164b568c-c3d3-40e1-908d-430cd612440c",
   "metadata": {},
   "source": [
    "### 1. Describe the role of the `return` statement in Python functions and provide examples."
   ]
  },
  {
   "cell_type": "raw",
   "id": "64efddaf-cfcb-4148-9ed9-3c2b01832a30",
   "metadata": {},
   "source": [
    " the return statement is used within functions to exit the function and optionally return a value back to the caller. Here are the key roles and behaviors of the return statement:\n",
    "\n",
    "Role of the return Statement:\n",
    "\n",
    "Exiting the Function:\n",
    "\n",
    "When a return statement is encountered in a function, it immediately exits the function's execution, regardless of where it appears within the function body.\n",
    "This means that any code after the return statement will not be executed.\n",
    "\n",
    "Returning Values:\n",
    "\n",
    "The return statement can also be used to return a value (or multiple values) from the function back to the caller.\n",
    "If a return statement includes an expression, the value of that expression is returned as the result of the function call.\n",
    "Functions can return various types of objects: numbers, strings, lists, tuples, dictionaries, or even custom objects.\n",
    "\n",
    "Optional Return:\n",
    "\n",
    "A function may have multiple return statements throughout its body. The first one encountered during execution will cause the function to exit and return its specified value.\n",
    "If a function does not explicitly use a return statement, it implicitly returns None when it reaches the end of the function body."
   ]
  },
  {
   "cell_type": "raw",
   "id": "b64d5eba-7b3f-4c50-b06e-c97c69393b6f",
   "metadata": {},
   "source": [
    "Example 1: Returning a Single Value"
   ]
  },
  {
   "cell_type": "code",
   "execution_count": 15,
   "id": "28d188d4-5407-4c1f-a85c-14d24b41e976",
   "metadata": {},
   "outputs": [
    {
     "name": "stdout",
     "output_type": "stream",
     "text": [
      "8\n"
     ]
    }
   ],
   "source": [
    "def add_numbers(a, b):\n",
    "    return a + b\n",
    "\n",
    "result = add_numbers(3, 5)\n",
    "print(result)  # Output: 8\n"
   ]
  },
  {
   "cell_type": "raw",
   "id": "5dce2790-7b89-4b50-ba69-2a1be1d17df9",
   "metadata": {},
   "source": [
    "Example 2: Returning Multiple Values"
   ]
  },
  {
   "cell_type": "code",
   "execution_count": 16,
   "id": "0cefe659-73b4-4143-8a4c-638caa715254",
   "metadata": {},
   "outputs": [
    {
     "name": "stdout",
     "output_type": "stream",
     "text": [
      "Quotient: 3, Remainder: 1\n"
     ]
    }
   ],
   "source": [
    "def divide_and_remainder(x, y):\n",
    "    quotient = x // y\n",
    "    remainder = x % y\n",
    "    return quotient, remainder\n",
    "\n",
    "q, r = divide_and_remainder(10, 3)\n",
    "print(f\"Quotient: {q}, Remainder: {r}\")  # Output: Quotient: 3, Remainder: 1\n"
   ]
  },
  {
   "cell_type": "raw",
   "id": "4105641c-3065-4265-bd33-ffac75d11169",
   "metadata": {},
   "source": [
    "Example 3: Returning Early with Conditional Return"
   ]
  },
  {
   "cell_type": "code",
   "execution_count": 17,
   "id": "a555f98b-ad5e-4f6a-bd07-41d163e60d47",
   "metadata": {},
   "outputs": [
    {
     "name": "stdout",
     "output_type": "stream",
     "text": [
      "5\n"
     ]
    }
   ],
   "source": [
    "def absolute_value(x):\n",
    "    if x >= 0:\n",
    "        return x\n",
    "    else:\n",
    "        return -x\n",
    "\n",
    "print(absolute_value(-5))  # Output: 5\n"
   ]
  },
  {
   "cell_type": "raw",
   "id": "0bc4674f-d782-4250-835b-d2743ebad599",
   "metadata": {},
   "source": [
    "Example 4: Returning None (Implicit Return)"
   ]
  },
  {
   "cell_type": "code",
   "execution_count": 18,
   "id": "10530c44-7bb3-4b7f-96a2-67e26543f372",
   "metadata": {},
   "outputs": [
    {
     "name": "stdout",
     "output_type": "stream",
     "text": [
      "Hello, Alice!\n",
      "None\n"
     ]
    }
   ],
   "source": [
    "def greet(name):\n",
    "    if name:\n",
    "        return f\"Hello, {name}!\"\n",
    "    # No explicit return here, but the function returns None if name is empty or None\n",
    "\n",
    "print(greet(\"Alice\"))  # Output: Hello, Alice!\n",
    "print(greet(\"\"))       # Output: None (no output shown)\n"
   ]
  },
  {
   "cell_type": "markdown",
   "id": "d01cb7a7-4d70-4ab6-b1e8-601a305bccde",
   "metadata": {},
   "source": [
    "### 2. Explain the concept of variable scope in Python, including local and global variables.\n"
   ]
  },
  {
   "cell_type": "raw",
   "id": "3f3b1f9d-daa6-4155-9840-b526d7695392",
   "metadata": {},
   "source": [
    "1. Local Variables:\n",
    "\n",
    "Definition: Local variables are defined within a function and are only accessible from within that function.\n",
    "\n",
    "Scope: Their scope is limited to the block of code where they are declared, typically starting from the point of declaration until the end of the function.\n",
    "\n",
    "Lifetime: Local variables are created when the function is called, and they are destroyed (memory is released) when the function exits."
   ]
  },
  {
   "cell_type": "code",
   "execution_count": 20,
   "id": "802d92dd-3696-4ef5-a469-d2f6b39fb00a",
   "metadata": {},
   "outputs": [
    {
     "name": "stdout",
     "output_type": "stream",
     "text": [
      "10\n"
     ]
    }
   ],
   "source": [
    "def my_function():\n",
    "    x = 10  # Local variable\n",
    "    print(x)\n",
    "\n",
    "my_function()  # Output: 10\n",
    "# print(x)  # This would raise a NameError because x is not defined globally or outside the function.\n"
   ]
  },
  {
   "cell_type": "raw",
   "id": "615e0f9f-0f89-4c2e-8338-6ffddc6c2880",
   "metadata": {},
   "source": [
    "2. Global Variables:\n",
    "\n",
    "Definition: Global variables are defined outside of any function or in a global scope, making them accessible throughout the entire program.\n",
    "\n",
    "Scope: They can be accessed and modified by any part of the code, including functions, classes, or modules.\n",
    "\n",
    "Modification: Functions can read global variables directly, but to modify a global variable inside a function, you need to use the global keyword:"
   ]
  },
  {
   "cell_type": "code",
   "execution_count": 21,
   "id": "3292f774-5f03-401f-b4f7-c8c1b3e7e94d",
   "metadata": {},
   "outputs": [
    {
     "name": "stdout",
     "output_type": "stream",
     "text": [
      "20\n"
     ]
    }
   ],
   "source": [
    "global_var = 20  # Global variable\n",
    "\n",
    "def my_function():\n",
    "    print(global_var)  # Can access global_var inside the function\n",
    "\n",
    "my_function()  # Output: 20\n"
   ]
  },
  {
   "cell_type": "markdown",
   "id": "8b1f1cc1-9297-4642-bde5-bf3a80b450b9",
   "metadata": {},
   "source": [
    "### 3. Write a Python program that demonstrates the use of global variables within functions.\n",
    "\n"
   ]
  },
  {
   "cell_type": "code",
   "execution_count": 22,
   "id": "c4b5aaa7-b345-4722-9481-2366e7070000",
   "metadata": {},
   "outputs": [
    {
     "name": "stdout",
     "output_type": "stream",
     "text": [
      "Global variable: 10\n",
      "Global variable: 11\n"
     ]
    }
   ],
   "source": [
    "# Global variable\n",
    "global_var = 10\n",
    "\n",
    "def increment_global():\n",
    "    # Accessing global_var inside the function\n",
    "    global global_var\n",
    "    global_var += 1  # Modifying the global variable\n",
    "\n",
    "def print_global():\n",
    "    # Accessing global_var inside another function\n",
    "    print(\"Global variable:\", global_var)\n",
    "\n",
    "# Initial value of global_var\n",
    "print_global()  # Output: Global variable: 10\n",
    "\n",
    "# Incrementing global_var\n",
    "increment_global()\n",
    "\n",
    "# Printing the updated value of global_var\n",
    "print_global()  # Output: Global variable: 11\n"
   ]
  },
  {
   "cell_type": "markdown",
   "id": "d58487d7-2f74-4033-885c-36ea95cad212",
   "metadata": {},
   "source": [
    "### 4. Create a Python function that calculates the factorial of a number and returns it.\n"
   ]
  },
  {
   "cell_type": "code",
   "execution_count": 23,
   "id": "d1aae0f2-414a-40e6-9a6a-e05fe53ce9e5",
   "metadata": {},
   "outputs": [
    {
     "name": "stdout",
     "output_type": "stream",
     "text": [
      "The factorial of 5 is: 120\n"
     ]
    }
   ],
   "source": [
    "def factorial(n):\n",
    "    \"\"\"Calculate the factorial of a number n.\"\"\"\n",
    "    if n == 0:\n",
    "        return 1  # Base case: factorial of 0 is 1\n",
    "    else:\n",
    "        return n * factorial(n - 1)  # Recursive case: n * factorial(n-1)\n",
    "\n",
    "# Example usage:\n",
    "number = 5\n",
    "fact = factorial(number)\n",
    "print(f\"The factorial of {number} is: {fact}\")\n"
   ]
  },
  {
   "cell_type": "markdown",
   "id": "88b1c777-d89c-4aa8-b1e6-641a84cfd7ee",
   "metadata": {},
   "source": [
    "### 5. How can you access variables defined outside a function from within the function?"
   ]
  },
  {
   "cell_type": "code",
   "execution_count": 24,
   "id": "293ea85c-d464-431e-8cc4-9d4dd0d798ce",
   "metadata": {},
   "outputs": [
    {
     "name": "stdout",
     "output_type": "stream",
     "text": [
      "Global variable: 20\n"
     ]
    }
   ],
   "source": [
    "global_var = 20  # Global variable\n",
    "\n",
    "def print_global():\n",
    "    print(\"Global variable:\", global_var)\n",
    "\n",
    "# Accessing the global variable inside a function\n",
    "print_global()  # Output: Global variable: 20\n"
   ]
  },
  {
   "cell_type": "markdown",
   "id": "084c5079-cd69-4f00-8a9b-c5d527845406",
   "metadata": {},
   "source": [
    "## Lambda Functions and Higher-Order Functions:"
   ]
  },
  {
   "cell_type": "markdown",
   "id": "95911884-4f40-4a1d-8c52-7409e402b085",
   "metadata": {},
   "source": [
    "### 1. What are lambda functions in Python, and when are they typically used?"
   ]
  },
  {
   "cell_type": "raw",
   "id": "9a46d513-14e8-428c-84da-83677336823c",
   "metadata": {},
   "source": [
    "Lambda functions in Python are small, anonymous functions defined with the lambda keyword. They are often used when you need a simple function that is defined inline, without a formal def statement. Lambda functions are particularly handy in situations where using a full-fledged function definition would be overkill."
   ]
  },
  {
   "cell_type": "code",
   "execution_count": 25,
   "id": "c9ccc51e-a748-4537-9ef3-413d16a87b86",
   "metadata": {},
   "outputs": [
    {
     "name": "stdout",
     "output_type": "stream",
     "text": [
      "25\n"
     ]
    }
   ],
   "source": [
    "#Example 1: Simple lambda function\n",
    "\n",
    "\n",
    "square = lambda x: x ** 2\n",
    "print(square(5))  # Output: 25"
   ]
  },
  {
   "cell_type": "code",
   "execution_count": 26,
   "id": "8888ccfb-6ad8-49c8-a1eb-a9a2619b5c2e",
   "metadata": {},
   "outputs": [
    {
     "name": "stdout",
     "output_type": "stream",
     "text": [
      "[{'name': 'Bob', 'age': 22}, {'name': 'Alice', 'age': 25}, {'name': 'Charlie', 'age': 28}]\n"
     ]
    }
   ],
   "source": [
    "#Example 2: Sorting with lambda\n",
    "\n",
    "students = [\n",
    "    {'name': 'Alice', 'age': 25},\n",
    "    {'name': 'Bob', 'age': 22},\n",
    "    {'name': 'Charlie', 'age': 28}\n",
    "]\n",
    "students.sort(key=lambda student: student['age'])\n",
    "print(students)"
   ]
  },
  {
   "cell_type": "code",
   "execution_count": 28,
   "id": "d4e15838-b9c0-4f38-95ed-8fee6ff25c63",
   "metadata": {},
   "outputs": [
    {
     "name": "stdout",
     "output_type": "stream",
     "text": [
      "[2, 4, 6, 8, 10]\n"
     ]
    }
   ],
   "source": [
    "#Example 3: Filtering with lambda and filter\n",
    "\n",
    "\n",
    "numbers = [1, 2, 3, 4, 5, 6, 7, 8, 9, 10]\n",
    "even_numbers = list(filter(lambda x: x % 2 == 0, numbers))\n",
    "print(even_numbers)  # Output: [2, 4, 6, 8, 10]"
   ]
  },
  {
   "cell_type": "markdown",
   "id": "a5ff5742-c13d-470b-8c20-ea1f8f7b84b9",
   "metadata": {},
   "source": [
    "### 2. Write a Python program that uses lambda functions to sort a list of tuples based on the secondelement.\n"
   ]
  },
  {
   "cell_type": "code",
   "execution_count": 30,
   "id": "daa74a7b-c3a7-431e-91cf-5374efa39b54",
   "metadata": {},
   "outputs": [
    {
     "name": "stdout",
     "output_type": "stream",
     "text": [
      "Sorted list based on the second element (age):\n",
      "('Bob', 20)\n",
      "('David', 21)\n",
      "('Alice', 22)\n",
      "('Eve', 24)\n",
      "('Charlie', 25)\n"
     ]
    }
   ],
   "source": [
    "# List of tuples\n",
    "students = [\n",
    "    ('Alice', 22),\n",
    "    ('Bob', 20),\n",
    "    ('Charlie', 25),\n",
    "    ('David', 21),\n",
    "    ('Eve', 24)\n",
    "]\n",
    "\n",
    "# Sorting the list of tuples based on the second element (age)\n",
    "students_sorted = sorted(students, key=lambda x: x[1])\n",
    "\n",
    "# Printing the sorted list\n",
    "print(\"Sorted list based on the second element (age):\")\n",
    "for student in students_sorted:\n",
    "    print(student)\n"
   ]
  },
  {
   "cell_type": "markdown",
   "id": "6d48d69b-bfae-46ce-8188-3bbf0c3f4fb5",
   "metadata": {},
   "source": [
    "### 3. Explain the concept of higher-order functions in Python, and provide an example."
   ]
  },
  {
   "cell_type": "raw",
   "id": "39101ef0-0a47-43a2-828b-a25847b54e02",
   "metadata": {},
   "source": [
    "In Python, a higher-order function is a function that does at least one of the following:\n",
    "\n",
    "Takes one or more functions as arguments (i.e., functions as parameters).\n",
    "Returns a function as its result.\n",
    "Concept of Higher-Order Functions:\n",
    "Functions as Parameters:\n",
    "\n",
    "In Python, functions are first-class citizens, which means they can be passed around and used as arguments, just like any other data type (e.g., integers, strings).\n",
    "Higher-order functions take advantage of this feature by accepting other functions as arguments. This allows for greater flexibility and abstraction in programming.\n",
    "Functions as Return Values:\n",
    "\n",
    "Higher-order functions can also create and return new functions dynamically based on certain conditions or parameters.\n",
    "This capability is useful for creating functions that encapsulate behavior and can be reused in different contexts.\n",
    "\n",
    "Benefits of Higher-Order Functions:\n",
    "\n",
    "Code Reusability: Higher-order functions promote code reuse by allowing you to encapsulate common patterns of behavior (like applying operations) into reusable functions.\n",
    "\n",
    "Abstraction: They help abstract away specific details of operations, making your code more modular and easier to maintain.\n",
    "\n",
    "Functional Programming: Higher-order functions are fundamental in functional programming paradigms, enabling powerful techniques like map-reduce, filter, and more."
   ]
  },
  {
   "cell_type": "code",
   "execution_count": 31,
   "id": "25090fe3-8c50-42f3-84ad-6abfc21abc0a",
   "metadata": {},
   "outputs": [
    {
     "name": "stdout",
     "output_type": "stream",
     "text": [
      "Result of addition: 7\n",
      "Result of multiplication: 12\n"
     ]
    }
   ],
   "source": [
    "def apply_operation(operation, x, y):\n",
    "    \"\"\"Apply the given operation function to x and y.\"\"\"\n",
    "    return operation(x, y)\n",
    "\n",
    "def add(a, b):\n",
    "    \"\"\"Add two numbers.\"\"\"\n",
    "    return a + b\n",
    "\n",
    "def multiply(a, b):\n",
    "    \"\"\"Multiply two numbers.\"\"\"\n",
    "    return a * b\n",
    "\n",
    "# Using apply_operation with different operations\n",
    "result1 = apply_operation(add, 3, 4)\n",
    "print(\"Result of addition:\", result1)  # Output: Result of addition: 7\n",
    "\n",
    "result2 = apply_operation(multiply, 3, 4)\n",
    "print(\"Result of multiplication:\", result2)  # Output: Result of multiplication: 12\n"
   ]
  },
  {
   "cell_type": "markdown",
   "id": "0068d026-d6a1-4fb6-9a9f-9dd4ba108586",
   "metadata": {},
   "source": [
    "### 4. Create a Python function that takes a list of numbers and a function as arguments, applying the function to each element in the list."
   ]
  },
  {
   "cell_type": "code",
   "execution_count": 32,
   "id": "2dabf1e0-e309-416b-ae80-771b733b2d03",
   "metadata": {},
   "outputs": [
    {
     "name": "stdout",
     "output_type": "stream",
     "text": [
      "Original List: [1, 2, 3, 4, 5]\n",
      "After applying double function: [2, 4, 6, 8, 10]\n"
     ]
    }
   ],
   "source": [
    "def apply_function_to_list(numbers, func):\n",
    "    \"\"\"Apply the given function to each element in the list.\"\"\"\n",
    "    result = []\n",
    "    for num in numbers:\n",
    "        result.append(func(num))\n",
    "    return result\n",
    "\n",
    "# Example usage:\n",
    "numbers = [1, 2, 3, 4, 5]\n",
    "\n",
    "# Define a function to double a number\n",
    "def double(x):\n",
    "    return x * 2\n",
    "\n",
    "# Apply double function to each element in numbers\n",
    "result = apply_function_to_list(numbers, double)\n",
    "print(\"Original List:\", numbers)\n",
    "print(\"After applying double function:\", result)\n"
   ]
  },
  {
   "cell_type": "markdown",
   "id": "518d2b26-a5f4-488c-818e-e6387596c704",
   "metadata": {},
   "source": [
    "## Built-in Functions:\n"
   ]
  },
  {
   "cell_type": "markdown",
   "id": "f180222c-ae0b-416f-934a-51242eb0326d",
   "metadata": {},
   "source": [
    "### 1. Describe the role of built-in functions like `len()`, `max()`, and `min()` in Python"
   ]
  },
  {
   "cell_type": "raw",
   "id": "6a2c7d8c-5bf5-4847-97fb-91bade01fba3",
   "metadata": {},
   "source": [
    "1. len()\n",
    "Role: The len() function is used to determine the number of items (elements) in a collection, such as a sequence (string, tuple, list) or a mapping (dictionary).\n",
    "\n",
    "Usage:\n",
    "With sequences (e.g., lists, tuples, strings), len() returns the number of items.\n",
    "With dictionaries, len() returns the number of key-value pairs (items)."
   ]
  },
  {
   "cell_type": "code",
   "execution_count": 33,
   "id": "b93de8bc-4c71-4b5c-be17-97667604ec45",
   "metadata": {},
   "outputs": [
    {
     "name": "stdout",
     "output_type": "stream",
     "text": [
      "5\n",
      "13\n",
      "3\n"
     ]
    }
   ],
   "source": [
    "my_list = [1, 2, 3, 4, 5]\n",
    "print(len(my_list))  # Output: 5\n",
    "\n",
    "my_string = \"Hello, World!\"\n",
    "print(len(my_string))  # Output: 13\n",
    "\n",
    "my_dict = {'a': 1, 'b': 2, 'c': 3}\n",
    "print(len(my_dict))  # Output: 3\n"
   ]
  },
  {
   "cell_type": "raw",
   "id": "3572042b-b05a-4616-a4f9-302f48cbf399",
   "metadata": {},
   "source": [
    "2. max()\n",
    "Role: The max() function is used to find the maximum item from a collection (sequence or iterable).\n",
    "\n",
    "Usage:\n",
    "With sequences of numbers, max() returns the largest number.\n",
    "With sequences of strings, it returns the lexicographically largest string (based on ASCII values)."
   ]
  },
  {
   "cell_type": "code",
   "execution_count": 34,
   "id": "a47713df-e17d-4e38-b3e2-a05d728c805c",
   "metadata": {},
   "outputs": [
    {
     "name": "stdout",
     "output_type": "stream",
     "text": [
      "9\n",
      "David\n"
     ]
    }
   ],
   "source": [
    "numbers = [5, 2, 8, 1, 9]\n",
    "print(max(numbers))  # Output: 9\n",
    "\n",
    "names = [\"Alice\", \"Bob\", \"Charlie\", \"David\"]\n",
    "print(max(names))  # Output: \"David\"\n"
   ]
  },
  {
   "cell_type": "raw",
   "id": "b784c3f9-572d-422c-9207-05028ef1b253",
   "metadata": {},
   "source": [
    "3. min()\n",
    "Role: The min() function is used to find the minimum item from a collection (sequence or iterable).\n",
    "Usage:\n",
    "With sequences of numbers, min() returns the smallest number.\n",
    "With sequences of strings, it returns the lexicographically smallest string."
   ]
  },
  {
   "cell_type": "code",
   "execution_count": 35,
   "id": "cfbad686-8327-4a98-a285-f3d98110ff35",
   "metadata": {},
   "outputs": [
    {
     "name": "stdout",
     "output_type": "stream",
     "text": [
      "1\n",
      "Alice\n"
     ]
    }
   ],
   "source": [
    "numbers = [5, 2, 8, 1, 9]\n",
    "print(min(numbers))  # Output: 1\n",
    "\n",
    "names = [\"Alice\", \"Bob\", \"Charlie\", \"David\"]\n",
    "print(min(names))  # Output: \"Alice\"\n"
   ]
  },
  {
   "cell_type": "markdown",
   "id": "22ec5834-2e5a-4db8-b0e5-a056aa0c163f",
   "metadata": {},
   "source": [
    "### 2. Write a Python program that uses the `map()` function to apply a function to each element of a list."
   ]
  },
  {
   "cell_type": "code",
   "execution_count": 1,
   "id": "2fd4de91-ddd0-465c-97b4-c017c9f7e877",
   "metadata": {},
   "outputs": [
    {
     "name": "stdout",
     "output_type": "stream",
     "text": [
      "[2, 4, 6, 8, 10]\n"
     ]
    }
   ],
   "source": [
    "# Define a function that will be applied to each element of the list\n",
    "def double(x):\n",
    "    return x * 2\n",
    "\n",
    "# Create a list of numbers\n",
    "numbers = [1, 2, 3, 4, 5]\n",
    "\n",
    "# Use the map() function to apply the double function to each element of the list\n",
    "doubled_numbers = map(double, numbers)\n",
    "\n",
    "# Convert the map object to a list to see the results\n",
    "doubled_numbers_list = list(doubled_numbers)\n",
    "\n",
    "# Print the results\n",
    "print(doubled_numbers_list)\n"
   ]
  },
  {
   "cell_type": "markdown",
   "id": "cdc17ec3-2e60-4516-8266-a693b2e725c4",
   "metadata": {},
   "source": [
    "### 3. How does the `filter()` function work in Python, and when would you use it?"
   ]
  },
  {
   "cell_type": "raw",
   "id": "8abce255-695e-4af6-b912-b12b20448e1c",
   "metadata": {},
   "source": [
    "The filter() function in Python is used to filter elements of an iterable (like a list, tuple, or string) based on a function that returns either True or False. The filter() function constructs an iterator from those elements of the iterable for which the function returns True.\n",
    "\n",
    "Here's how the filter() function works:\n",
    "\n",
    "Function Argument: You provide a function that takes a single argument and returns a Boolean value (True or False).\n",
    "Iterable Argument: You provide an iterable whose elements will be filtered.\n",
    "Result: The filter() function applies the function to each element of the iterable, and returns an iterator with only the elements for which the function returns True."
   ]
  },
  {
   "cell_type": "code",
   "execution_count": 2,
   "id": "503b41db-3ebd-420c-8956-c555f730b7c1",
   "metadata": {},
   "outputs": [
    {
     "name": "stdout",
     "output_type": "stream",
     "text": [
      "[2, 4, 6, 8, 10]\n"
     ]
    }
   ],
   "source": [
    "# Define a function that returns True for even numbers and False for odd numbers\n",
    "def is_even(x):\n",
    "    return x % 2 == 0\n",
    "\n",
    "# Create a list of numbers\n",
    "numbers = [1, 2, 3, 4, 5, 6, 7, 8, 9, 10]\n",
    "\n",
    "# Use the filter() function to get only the even numbers\n",
    "even_numbers = filter(is_even, numbers)\n",
    "\n",
    "# Convert the filter object to a list to see the results\n",
    "even_numbers_list = list(even_numbers)\n",
    "\n",
    "# Print the results\n",
    "print(even_numbers_list)\n"
   ]
  },
  {
   "cell_type": "markdown",
   "id": "12f0ccfa-d1fd-47e0-9354-f6403aa40e32",
   "metadata": {},
   "source": [
    "### 4. Create a Python program that uses the `reduce()` function to find the product of all elements in a list.\n"
   ]
  },
  {
   "cell_type": "code",
   "execution_count": 3,
   "id": "78c6dbe4-28ef-4d09-abed-82e8f361d8b6",
   "metadata": {},
   "outputs": [
    {
     "name": "stdout",
     "output_type": "stream",
     "text": [
      "The product of all elements in the list is: 120\n"
     ]
    }
   ],
   "source": [
    "from functools import reduce\n",
    "\n",
    "# Define a function that multiplies two numbers\n",
    "def multiply(x, y):\n",
    "    return x * y\n",
    "\n",
    "# Create a list of numbers\n",
    "numbers = [1, 2, 3, 4, 5]\n",
    "\n",
    "# Use the reduce() function to find the product of all elements in the list\n",
    "product = reduce(multiply, numbers)\n",
    "\n",
    "# Print the result\n",
    "print(\"The product of all elements in the list is:\", product)\n"
   ]
  },
  {
   "cell_type": "markdown",
   "id": "67cd6430-095b-4992-b961-d4d70c56ec4b",
   "metadata": {},
   "source": [
    "## Function Documentation and Best Practices:"
   ]
  },
  {
   "cell_type": "markdown",
   "id": "8551781e-1a97-4fa2-a3e6-74067b45c67a",
   "metadata": {},
   "source": [
    "### 1. Explain the purpose of docstrings in Python functions and how to write them."
   ]
  },
  {
   "cell_type": "code",
   "execution_count": 4,
   "id": "271111f9-6fca-4f07-932d-9ad63b96aabc",
   "metadata": {},
   "outputs": [],
   "source": [
    "def function_name(parameters):\n",
    "    \"\"\"\n",
    "    Summary of the function.\n",
    "\n",
    "    Detailed description of the function.\n",
    "\n",
    "    Args:\n",
    "        param1 (type): Description of param1.\n",
    "        param2 (type): Description of param2.\n",
    "\n",
    "    Returns:\n",
    "        type: Description of the return value.\n",
    "    \"\"\"\n",
    "    # Function implementation\n",
    "    pass\n"
   ]
  },
  {
   "cell_type": "raw",
   "id": "7f568885-376e-4aa5-9774-544d729517e3",
   "metadata": {},
   "source": [
    "Docstrings in Python functions are a form of documentation string used to explain what a function does.\n",
    "They are written as the first statement in a function, class, module, or method and provide a convenient way of associating documentation with Python code. \n",
    "Docstrings help in understanding the purpose of the function, its parameters, and its return values, making the code easier to understand and maintain.\n",
    "\n",
    "Purpose of Docstrings\n",
    "\n",
    "Documentation: Provide a clear description of the function's purpose and behavior.\n",
    "\n",
    "Readability: Improve the readability of the code by explaining the function's parameters, return values, and any exceptions raised.\n",
    "\n",
    "Accessibility: Make documentation easily accessible via tools like help() or IDE tooltips.\n",
    "\n",
    "Standardization: Encourage consistent documentation practices across codebases."
   ]
  },
  {
   "cell_type": "markdown",
   "id": "75e3ba02-b209-4b80-b4e5-0becc3632bb4",
   "metadata": {},
   "source": [
    "### 2. Describe the some best practice for naming function and variables in python , including naming convention and guidelines. "
   ]
  },
  {
   "cell_type": "raw",
   "id": "abde864f-535d-4a64-98b0-5e1dc924c639",
   "metadata": {},
   "source": [
    "Naming functions and variables in Python is crucial for writing clean, readable, and maintainable code. Following best practices and conventions ensures that your code is easily understood by others (and by yourself when you revisit it). Here are some best practices for naming functions and variables in Python:\n",
    "\n",
    "Best Practices for Naming Functions\n",
    "\n",
    "Use descriptive names: Choose names that clearly describe what the function does. This makes the code self-explanatory and easier to understand.\n",
    "\n",
    "Good: calculate_total_price()\n",
    "Bad: calc_tp()\n",
    "Use lowercase with underscores: Functions should be named using all lowercase letters with words separated by underscores to improve readability.\n",
    "\n",
    "Example: get_user_input()\n",
    "Verb phrases: Functions often perform actions, so it's common to start function names with verbs.\n",
    "\n",
    "Example: send_email(), process_data()\n",
    "Avoid abbreviations: Use full words unless the abbreviation is well-known and widely accepted.\n",
    "\n",
    "Good: initialize_database()\n",
    "Bad: init_db()\n",
    "Be consistent: Follow a consistent naming pattern throughout your codebase to maintain uniformity.\n",
    "\n",
    "Best Practices for Naming Variables\n",
    "Use descriptive names: Variable names should clearly describe the data they hold.\n",
    "\n",
    "Good: total_amount, user_age\n",
    "Bad: x, temp\n",
    "Use lowercase with underscores: Like function names, variable names should be in all lowercase letters with words separated by underscores.\n",
    "\n",
    "Example: first_name, total_cost\n",
    "Avoid single letters: Unless used in the context of a loop or as a temporary variable in a very short scope, avoid single-letter variable names.\n",
    "\n",
    "Good: counter, index\n",
    "Bad: i, x\n",
    "Consistent naming convention: Stick to a single naming convention throughout your project.\n",
    "\n",
    "Avoid using reserved words: Do not use Python reserved words (keywords) as variable names.\n",
    "\n",
    "Example: class, def, return\n",
    "Use meaningful context: Ensure that variable names provide context to their usage.\n",
    "\n",
    "Good: max_value, file_path\n",
    "Bad: mv, fp\n",
    "Naming Conventions and Guidelines\n",
    "PEP 8 Style Guide: Follow the PEP 8 style guide for Python code. It provides comprehensive guidelines on naming conventions and other coding standards.\n",
    "\n",
    "PEP 8 -- Style Guide for Python Code\n",
    "CamelCase for class names: Use CamelCase (or PascalCase) for naming classes.\n",
    "\n",
    "Example: MyClass, DataProcessor\n",
    "Uppercase for constants: Use all uppercase letters with underscores for constants.\n",
    "\n",
    "Example: MAX_CONNECTIONS, PI\n",
    "Private variables and functions: Prefix with an underscore to indicate that they are intended for internal use only.\n",
    "\n",
    "Example: _internal_variable, _helper_function()\n",
    "Double underscores: Use double underscores to avoid name conflicts in classes (name mangling).\n",
    "\n",
    "Example: __private_variable"
   ]
  },
  {
   "cell_type": "code",
   "execution_count": null,
   "id": "c87ed577-0ec2-4af0-866a-8b9c5ae2e2f8",
   "metadata": {},
   "outputs": [],
   "source": []
  }
 ],
 "metadata": {
  "kernelspec": {
   "display_name": "Python 3 (ipykernel)",
   "language": "python",
   "name": "python3"
  },
  "language_info": {
   "codemirror_mode": {
    "name": "ipython",
    "version": 3
   },
   "file_extension": ".py",
   "mimetype": "text/x-python",
   "name": "python",
   "nbconvert_exporter": "python",
   "pygments_lexer": "ipython3",
   "version": "3.11.7"
  },
  "widgets": {
   "application/vnd.jupyter.widget-state+json": {
    "state": {},
    "version_major": 2,
    "version_minor": 0
   }
  }
 },
 "nbformat": 4,
 "nbformat_minor": 5
}
