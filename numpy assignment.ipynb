{
 "cells": [
  {
   "cell_type": "markdown",
   "id": "71d9bdfa-04fb-4997-b69e-065834a7fbfb",
   "metadata": {},
   "source": [
    "### 1. What is a Python library? Why do we use Python libraries?"
   ]
  },
  {
   "cell_type": "markdown",
   "id": "e2097c20-87de-47e0-a6f7-8d35543013a3",
   "metadata": {
    "tags": []
   },
   "source": [
    "### Python libraries are essential tools that enhance the capabilities of the Python programming language and enable developers to build powerful, efficient, and scalable applications across various domains."
   ]
  },
  {
   "cell_type": "markdown",
   "id": "9d15d86f-7768-466b-ba5a-d10705a8f0b9",
   "metadata": {},
   "source": [
    "### 2. What is the difference between Numpy array and List?"
   ]
  },
  {
   "cell_type": "code",
   "execution_count": null,
   "id": "58e34f17-0198-415d-b887-fe0da215ee69",
   "metadata": {},
   "outputs": [],
   "source": [
    "NumPy Array:\n",
    "Homogeneous multidimensional array\n",
    "More memory efficient due to contiguous allocation.\n",
    "Faster for numerical computations\n",
    "Extensive mathematical and array operations\n",
    "Scientific computing, data analysis, machine learning\n",
    "\n",
    "\n",
    "---------------------------------------------------------------------\n",
    "\n",
    "Python List:\n",
    "Heterogeneous one-dimensional array\n",
    "Less memory efficient due to scattered references\n",
    "Slower for numerical computations\n",
    "General-purpose operations\n",
    "Wide range of applications"
   ]
  },
  {
   "cell_type": "markdown",
   "id": "d2172d7a-8002-4888-92dc-8b30105a3bb7",
   "metadata": {},
   "source": [
    "### 3. Find the shape, size and dimension of the following array?\n",
    "\n",
    "[[1, 2, 3, 4]\n",
    "\n",
    "[5, 6, 7, 8],\n",
    "\n",
    "[9, 10, 11, 12]]"
   ]
  },
  {
   "cell_type": "code",
   "execution_count": 8,
   "id": "fba87fa6-7b9f-49ba-86ca-39974e36ecbe",
   "metadata": {
    "tags": []
   },
   "outputs": [],
   "source": [
    "import numpy as np"
   ]
  },
  {
   "cell_type": "code",
   "execution_count": 9,
   "id": "ec747f26-0ebd-4c2d-b363-5d61456d48c5",
   "metadata": {
    "tags": []
   },
   "outputs": [],
   "source": [
    "arr=np.array([[1, 2, 3, 4],[5, 6, 7, 8],[9, 10, 11, 12]])"
   ]
  },
  {
   "cell_type": "code",
   "execution_count": 11,
   "id": "83c6a2bd-275c-4390-b859-851880b9e776",
   "metadata": {
    "tags": []
   },
   "outputs": [
    {
     "data": {
      "text/plain": [
       "array([[ 1,  2,  3,  4],\n",
       "       [ 5,  6,  7,  8],\n",
       "       [ 9, 10, 11, 12]])"
      ]
     },
     "execution_count": 11,
     "metadata": {},
     "output_type": "execute_result"
    }
   ],
   "source": [
    "arr"
   ]
  },
  {
   "cell_type": "code",
   "execution_count": 10,
   "id": "0a7bd3bd-5454-4758-b274-210598dea94f",
   "metadata": {
    "tags": []
   },
   "outputs": [
    {
     "data": {
      "text/plain": [
       "(3, 4)"
      ]
     },
     "execution_count": 10,
     "metadata": {},
     "output_type": "execute_result"
    }
   ],
   "source": [
    "arr.shape"
   ]
  },
  {
   "cell_type": "code",
   "execution_count": 12,
   "id": "cf4889c1-48ad-4493-9da4-8c7ef6532d84",
   "metadata": {
    "tags": []
   },
   "outputs": [
    {
     "data": {
      "text/plain": [
       "2"
      ]
     },
     "execution_count": 12,
     "metadata": {},
     "output_type": "execute_result"
    }
   ],
   "source": [
    "arr.ndim"
   ]
  },
  {
   "cell_type": "code",
   "execution_count": 13,
   "id": "012a943f-ea85-4b7a-ab76-05cbff9c3596",
   "metadata": {
    "tags": []
   },
   "outputs": [
    {
     "data": {
      "text/plain": [
       "12"
      ]
     },
     "execution_count": 13,
     "metadata": {},
     "output_type": "execute_result"
    }
   ],
   "source": [
    "arr.size"
   ]
  },
  {
   "cell_type": "markdown",
   "id": "031e0e5e-ef45-4b7d-ac24-62805bf56aea",
   "metadata": {},
   "source": [
    "### 4. Write python code to access the first row of the following array?"
   ]
  },
  {
   "cell_type": "code",
   "execution_count": 14,
   "id": "273a3b71-d88e-45c9-b62f-29159eb3495b",
   "metadata": {
    "tags": []
   },
   "outputs": [],
   "source": [
    "arr=[[1, 2, 3, 4],\n",
    "\n",
    "[5, 6, 7, 8],\n",
    "\n",
    "[9, 10, 11, 12]]"
   ]
  },
  {
   "cell_type": "code",
   "execution_count": 16,
   "id": "d3d6203d-9076-4dea-a419-9ba2efc136ba",
   "metadata": {
    "tags": []
   },
   "outputs": [],
   "source": [
    "arr=np.array(arr)"
   ]
  },
  {
   "cell_type": "code",
   "execution_count": 17,
   "id": "f8deb09f-a074-4f8d-977f-529bf70a39f5",
   "metadata": {
    "tags": []
   },
   "outputs": [
    {
     "data": {
      "text/plain": [
       "array([[ 1,  2,  3,  4],\n",
       "       [ 5,  6,  7,  8],\n",
       "       [ 9, 10, 11, 12]])"
      ]
     },
     "execution_count": 17,
     "metadata": {},
     "output_type": "execute_result"
    }
   ],
   "source": [
    "arr"
   ]
  },
  {
   "cell_type": "code",
   "execution_count": 18,
   "id": "9a52f85a-85e0-4de5-8982-97019dd80e36",
   "metadata": {
    "tags": []
   },
   "outputs": [
    {
     "data": {
      "text/plain": [
       "array([1, 2, 3, 4])"
      ]
     },
     "execution_count": 18,
     "metadata": {},
     "output_type": "execute_result"
    }
   ],
   "source": [
    "arr[0]"
   ]
  },
  {
   "cell_type": "markdown",
   "id": "6f2d2c62-2a2b-4370-9b17-c9ffcc953f9a",
   "metadata": {},
   "source": [
    "### 5. How do you access the element at the third row and fourth column from the given numpy array?\n",
    "\n",
    "[[1, 2, 3, 4]\n",
    "\n",
    "[5, 6, 7, 8],\n",
    "\n",
    "[9, 10, 11, 12]]"
   ]
  },
  {
   "cell_type": "code",
   "execution_count": 20,
   "id": "f376c14b-a653-4db1-96cd-04905cd7629b",
   "metadata": {
    "tags": []
   },
   "outputs": [],
   "source": [
    "arr=np.array(\n",
    "[[1, 2, 3, 4],\n",
    "\n",
    "[5, 6, 7, 8],\n",
    "\n",
    "[9, 10, 11, 12]])"
   ]
  },
  {
   "cell_type": "code",
   "execution_count": 34,
   "id": "e200236b-47cb-45ea-a6ac-f7f28019c144",
   "metadata": {
    "tags": []
   },
   "outputs": [
    {
     "data": {
      "text/plain": [
       "12"
      ]
     },
     "execution_count": 34,
     "metadata": {},
     "output_type": "execute_result"
    }
   ],
   "source": [
    "arr[2][3]"
   ]
  },
  {
   "cell_type": "markdown",
   "id": "5f65d483-6d55-47e0-862f-2f2f27823c77",
   "metadata": {},
   "source": [
    "### 6. Write co^e to extract all o^^-in^exe^ elements from the given numpy array?\n",
    "\n",
    "[[1, 2, 3, 4]\n",
    "\n",
    "[5, 6, 7, 8],\n",
    "\n",
    "[9, 10, 11, 12]]"
   ]
  },
  {
   "cell_type": "code",
   "execution_count": 35,
   "id": "1c8fcd5a-2969-4365-b149-b048a1b97ea9",
   "metadata": {
    "tags": []
   },
   "outputs": [],
   "source": [
    "arr=np.array([[1, 2, 3, 4],\n",
    "\n",
    "[5, 6, 7, 8],\n",
    "\n",
    "[9, 10, 11, 12]])"
   ]
  },
  {
   "cell_type": "code",
   "execution_count": 40,
   "id": "85192c42-a4de-451f-8466-1df46923775a",
   "metadata": {
    "tags": []
   },
   "outputs": [
    {
     "data": {
      "text/plain": [
       "array([[ 1,  2,  3,  4],\n",
       "       [ 5,  6,  7,  8],\n",
       "       [ 9, 10, 11, 12]])"
      ]
     },
     "execution_count": 40,
     "metadata": {},
     "output_type": "execute_result"
    }
   ],
   "source": [
    "arr"
   ]
  },
  {
   "cell_type": "code",
   "execution_count": 39,
   "id": "112e01bb-44ca-4603-a4ec-e2dcd6c03b2d",
   "metadata": {
    "tags": []
   },
   "outputs": [
    {
     "data": {
      "text/plain": [
       "array([[ 2,  4],\n",
       "       [ 6,  8],\n",
       "       [10, 12]])"
      ]
     },
     "execution_count": 39,
     "metadata": {},
     "output_type": "execute_result"
    }
   ],
   "source": [
    "arr[:,1::2]# fisrt slicing is for row to get all rows , second slicing is from start from 1 with step 2"
   ]
  },
  {
   "cell_type": "markdown",
   "id": "57b3fe97-e25f-4ff1-a0d5-4e91b411be30",
   "metadata": {},
   "source": [
    "### 7. How can you generate a random 3x3 matrix with values between 0 and 1?"
   ]
  },
  {
   "cell_type": "code",
   "execution_count": 42,
   "id": "e251c178-ece6-49e5-93a0-f3509bd812d4",
   "metadata": {
    "tags": []
   },
   "outputs": [
    {
     "data": {
      "text/plain": [
       "array([[0.70997745, 0.26165725, 0.15040944],\n",
       "       [0.30187085, 0.28150419, 0.5277128 ],\n",
       "       [0.9352634 , 0.50831119, 0.12705047]])"
      ]
     },
     "execution_count": 42,
     "metadata": {},
     "output_type": "execute_result"
    }
   ],
   "source": [
    "arr= np.random.rand(3, 3)\n",
    "arr"
   ]
  },
  {
   "cell_type": "markdown",
   "id": "3eefc0bf-0f80-4ee3-9636-4600bf642e6a",
   "metadata": {},
   "source": [
    "### 8.Describe tthe difference between np.random.rand and np.random.randn"
   ]
  },
  {
   "cell_type": "code",
   "execution_count": null,
   "id": "665405f2-ff9b-4673-987c-ba0e7dd1c492",
   "metadata": {},
   "outputs": [],
   "source": [
    "np.random.rand:\n",
    "This function generates random numbers from a uniform distribution over the interval [0, 1).\n",
    "It takes the shape of the output array as arguments, rather than specifying the mean and standard deviation.\n",
    "For example, np.random.rand(3, 2) would generate a 3x2 array of random numbers between 0 and 1.\n",
    "\n",
    "                                                                                      np.random.randn:\n",
    "This function generates random numbers from a standard normal distribution (mean of 0 and standard deviation of 1), also known as a Gaussian distribution or the \"bell curve\".\n",
    "It takes the shape of the output array as arguments, similarly to np.random.rand.\n",
    "For example, np.random.randn(3, 2) would generate a 3x2 array of random numbers sampled from a standard normal distribution."
   ]
  },
  {
   "cell_type": "markdown",
   "id": "51e62e2b-e2df-4a12-9bfd-e77e6fdf40ea",
   "metadata": {},
   "source": [
    "### 9. Write code to increase the dimension of the following array?\n",
    "\n",
    "[[1, 2, 3, 4]\n",
    "\n",
    "[5, 6, 7, 8],\n",
    "\n",
    "[9, 10, 11, 12]]"
   ]
  },
  {
   "cell_type": "code",
   "execution_count": 44,
   "id": "9ed4f86b-7897-4b4f-8bc4-2d5207d031f3",
   "metadata": {
    "tags": []
   },
   "outputs": [
    {
     "data": {
      "text/plain": [
       "array([[ 1,  2,  3,  4],\n",
       "       [ 5,  6,  7,  8],\n",
       "       [ 9, 10, 11, 12]])"
      ]
     },
     "execution_count": 44,
     "metadata": {},
     "output_type": "execute_result"
    }
   ],
   "source": [
    "arr=np.array([[1, 2, 3, 4],\n",
    "\n",
    "[5, 6, 7, 8],\n",
    "\n",
    "[9, 10, 11, 12]])\n",
    "arr"
   ]
  },
  {
   "cell_type": "code",
   "execution_count": 45,
   "id": "d9e5aedb-6f7d-4967-a740-89af3935c4c5",
   "metadata": {
    "tags": []
   },
   "outputs": [
    {
     "data": {
      "text/plain": [
       "array([[[ 1,  2,  3,  4],\n",
       "        [ 5,  6,  7,  8],\n",
       "        [ 9, 10, 11, 12]]])"
      ]
     },
     "execution_count": 45,
     "metadata": {},
     "output_type": "execute_result"
    }
   ],
   "source": [
    "np.expand_dims(arr,axis=0)"
   ]
  },
  {
   "cell_type": "markdown",
   "id": "c6612a8b-6ea2-4694-8d9a-621cf20f94fc",
   "metadata": {},
   "source": [
    "### 10. How to transpose the following array in NumPy?"
   ]
  },
  {
   "cell_type": "code",
   "execution_count": 46,
   "id": "a2a4bf95-ce71-4774-b076-d136453a632b",
   "metadata": {
    "tags": []
   },
   "outputs": [
    {
     "data": {
      "text/plain": [
       "array([[ 1,  2,  3,  4],\n",
       "       [ 5,  6,  7,  8],\n",
       "       [ 9, 10, 11, 12]])"
      ]
     },
     "execution_count": 46,
     "metadata": {},
     "output_type": "execute_result"
    }
   ],
   "source": [
    "arr"
   ]
  },
  {
   "cell_type": "code",
   "execution_count": 48,
   "id": "5658ec49-7661-459a-9c4d-f43537a55572",
   "metadata": {
    "tags": []
   },
   "outputs": [
    {
     "data": {
      "text/plain": [
       "array([[ 1,  5,  9],\n",
       "       [ 2,  6, 10],\n",
       "       [ 3,  7, 11],\n",
       "       [ 4,  8, 12]])"
      ]
     },
     "execution_count": 48,
     "metadata": {},
     "output_type": "execute_result"
    }
   ],
   "source": [
    "arr.T"
   ]
  },
  {
   "cell_type": "markdown",
   "id": "221f1e73-f52f-49d5-820c-16485a0f0696",
   "metadata": {
    "tags": []
   },
   "source": [
    "### 11. Consider the following matrix:\n",
    "\n",
    "Matrix A: [[1, 2, 3, 4] [5, 6, 7, 8],[9, 10, 11, 12]]\n",
    "\n",
    "Matrix B:[[1, 2, 3, 4] [5, 6, 7, 8],[9, 10, 11, 12]]"
   ]
  },
  {
   "cell_type": "code",
   "execution_count": 52,
   "id": "50c0e0c1-4a9a-4b0e-a539-b1d80294ce88",
   "metadata": {
    "tags": []
   },
   "outputs": [],
   "source": [
    "Matrix_a=np.array([[1, 2, 3, 4], [5, 6, 7, 8],[9, 10, 11, 12]])\n",
    "Matrix_b=np.array([[1, 2, 3, 4], [5, 6, 7, 8],[9, 10, 11, 12]])\n"
   ]
  },
  {
   "cell_type": "code",
   "execution_count": 53,
   "id": "86a4df1a-43de-4ced-a2e8-7676dfba381d",
   "metadata": {
    "tags": []
   },
   "outputs": [
    {
     "data": {
      "text/plain": [
       "(array([[ 1,  2,  3,  4],\n",
       "        [ 5,  6,  7,  8],\n",
       "        [ 9, 10, 11, 12]]),\n",
       " array([[ 1,  2,  3,  4],\n",
       "        [ 5,  6,  7,  8],\n",
       "        [ 9, 10, 11, 12]]))"
      ]
     },
     "execution_count": 53,
     "metadata": {},
     "output_type": "execute_result"
    }
   ],
   "source": [
    "Matrix_a,Matrix_b"
   ]
  },
  {
   "cell_type": "code",
   "execution_count": 55,
   "id": "2026ad78-8191-4f84-8e45-73be8c026479",
   "metadata": {
    "tags": []
   },
   "outputs": [
    {
     "data": {
      "text/plain": [
       "array([[  1,   4,   9,  16],\n",
       "       [ 25,  36,  49,  64],\n",
       "       [ 81, 100, 121, 144]])"
      ]
     },
     "execution_count": 55,
     "metadata": {},
     "output_type": "execute_result"
    }
   ],
   "source": [
    "#Index wise multiplication\n",
    "Matrix_a*Matrix_b"
   ]
  },
  {
   "cell_type": "code",
   "execution_count": 62,
   "id": "93acfe1f-b14a-49e8-b0e1-1a6bf4c68eb2",
   "metadata": {
    "tags": []
   },
   "outputs": [],
   "source": [
    "arv=Matrix_b.reshape(4,3)#i need to change the shape of the matrix because of dot prod"
   ]
  },
  {
   "cell_type": "code",
   "execution_count": 64,
   "id": "7ea337c3-ad7e-4305-84bc-7b877e1656a8",
   "metadata": {
    "tags": []
   },
   "outputs": [
    {
     "data": {
      "text/plain": [
       "array([[ 70,  80,  90],\n",
       "       [158, 184, 210],\n",
       "       [246, 288, 330]])"
      ]
     },
     "execution_count": 64,
     "metadata": {},
     "output_type": "execute_result"
    }
   ],
   "source": [
    "#matrix multiplication\n",
    "mtr=np.dot(Matrix_a,arv)\n",
    "mtr  "
   ]
  },
  {
   "cell_type": "code",
   "execution_count": 66,
   "id": "67bf77dc-5593-4518-8083-e7ca711530f7",
   "metadata": {
    "tags": []
   },
   "outputs": [
    {
     "data": {
      "text/plain": [
       "array([[ 2,  4,  6,  8],\n",
       "       [10, 12, 14, 16],\n",
       "       [18, 20, 22, 24]])"
      ]
     },
     "execution_count": 66,
     "metadata": {},
     "output_type": "execute_result"
    }
   ],
   "source": [
    "#add both the matrics\n",
    "Matrix_a+Matrix_b"
   ]
  },
  {
   "cell_type": "code",
   "execution_count": null,
   "id": "08c6f336-0b30-4753-b146-5ddf20b666c3",
   "metadata": {},
   "outputs": [],
   "source": [
    "#subtrcat the  b from a"
   ]
  },
  {
   "cell_type": "code",
   "execution_count": 68,
   "id": "24f54815-c1d1-4bfd-b50a-291fafc75bd7",
   "metadata": {
    "tags": []
   },
   "outputs": [
    {
     "data": {
      "text/plain": [
       "array([[0, 0, 0, 0],\n",
       "       [0, 0, 0, 0],\n",
       "       [0, 0, 0, 0]])"
      ]
     },
     "execution_count": 68,
     "metadata": {},
     "output_type": "execute_result"
    }
   ],
   "source": [
    "Matrix_b-Matrix_a"
   ]
  },
  {
   "cell_type": "code",
   "execution_count": 69,
   "id": "1809f976-3169-4f85-85f8-3eb5bf85a4a1",
   "metadata": {
    "tags": []
   },
   "outputs": [
    {
     "data": {
      "text/plain": [
       "array([[1., 1., 1., 1.],\n",
       "       [1., 1., 1., 1.],\n",
       "       [1., 1., 1., 1.]])"
      ]
     },
     "execution_count": 69,
     "metadata": {},
     "output_type": "execute_result"
    }
   ],
   "source": [
    "#divide from B by a\n",
    "Matrix_b/Matrix_a"
   ]
  },
  {
   "cell_type": "markdown",
   "id": "7cc6ecdf-bda7-4140-a563-f51c2219a78c",
   "metadata": {},
   "source": [
    "### 12.which function in numpy can be used for swap the byte order of an array"
   ]
  },
  {
   "cell_type": "code",
   "execution_count": 70,
   "id": "46a6298c-3ed7-46bd-8657-f9e20c63153d",
   "metadata": {
    "tags": []
   },
   "outputs": [
    {
     "name": "stdout",
     "output_type": "stream",
     "text": [
      "Original array:\n",
      "[  1 256]\n",
      "Swapped array:\n",
      "[256   1]\n"
     ]
    }
   ],
   "source": [
    "arr = np.array([1, 256], dtype=np.int16)\n",
    "\n",
    "# Swap the byte order\n",
    "swapped_arr = arr.byteswap()\n",
    "\n",
    "print(\"Original array:\")\n",
    "print(arr)\n",
    "print(\"Swapped array:\")\n",
    "print(swapped_arr)"
   ]
  },
  {
   "cell_type": "markdown",
   "id": "acec81f0-2c20-402e-91b0-6db5f2733b6f",
   "metadata": {},
   "source": [
    "### 13.What is the significant of the  np.linalg.inv function?"
   ]
  },
  {
   "cell_type": "code",
   "execution_count": null,
   "id": "d7a98c26-d990-4254-a7eb-705505bf6733",
   "metadata": {},
   "outputs": [],
   "source": [
    "np.linalg.inv is a fundamental function in linear algebra and numerical computing, providing the capability to compute the inverse of matrices, which finds applications across various domains."
   ]
  },
  {
   "cell_type": "markdown",
   "id": "d717c4c7-56eb-4db1-a3d5-fe7473ae6890",
   "metadata": {},
   "source": [
    "### 14.what does the np.reshape function do  and how it used?"
   ]
  },
  {
   "cell_type": "code",
   "execution_count": null,
   "id": "86365e0c-42df-4634-9a10-6e5c33637340",
   "metadata": {},
   "outputs": [],
   "source": [
    "np.reshape is a versatile function in NumPy for changing the shape of arrays without modifying the underlying data. It is commonly used in array manipulation and data preprocessing tasks in scientific computing, machine learning, and data analysis."
   ]
  },
  {
   "cell_type": "markdown",
   "id": "144705a5-b75c-451a-b6ba-9af94ac5c277",
   "metadata": {},
   "source": [
    "### 15.what is broadcasting in numpy"
   ]
  },
  {
   "cell_type": "code",
   "execution_count": null,
   "id": "ec36c69c-de3b-4028-820b-2a83fd43c2be",
   "metadata": {},
   "outputs": [],
   "source": [
    "np.reshape is a versatile function in NumPy for changing the shape of arrays without modifying the underlying data. It is commonly used in array manipulation and data preprocessing tasks in scientific computing, machine learning, and data analysis."
   ]
  },
  {
   "cell_type": "code",
   "execution_count": null,
   "id": "22ae0471-4d43-4dd8-8a63-26e2e5951e8e",
   "metadata": {},
   "outputs": [],
   "source": []
  },
  {
   "cell_type": "code",
   "execution_count": null,
   "id": "0883adcb-1c19-4c8e-a0d8-c1a90f06960d",
   "metadata": {},
   "outputs": [],
   "source": []
  },
  {
   "cell_type": "code",
   "execution_count": null,
   "id": "9ae51073-7429-4ced-ba39-75dcc4cf5428",
   "metadata": {},
   "outputs": [],
   "source": []
  },
  {
   "cell_type": "code",
   "execution_count": null,
   "id": "5861819d-3273-49b4-911d-c53d9d4e8cbf",
   "metadata": {},
   "outputs": [],
   "source": []
  },
  {
   "cell_type": "code",
   "execution_count": null,
   "id": "a56e1683-d1cd-4803-8314-3c65004d0841",
   "metadata": {},
   "outputs": [],
   "source": []
  },
  {
   "cell_type": "code",
   "execution_count": null,
   "id": "4b61c3ce-06b3-4106-8211-2841389876a4",
   "metadata": {},
   "outputs": [],
   "source": []
  },
  {
   "cell_type": "code",
   "execution_count": null,
   "id": "32074507-fb10-4562-9f0e-3d4da6d5ae98",
   "metadata": {},
   "outputs": [],
   "source": []
  },
  {
   "cell_type": "code",
   "execution_count": null,
   "id": "73de1ac2-a97d-49af-81d0-5d75e1eca445",
   "metadata": {},
   "outputs": [],
   "source": []
  },
  {
   "cell_type": "code",
   "execution_count": null,
   "id": "ee680c88-b388-4fec-aca2-f49c1d8d20ca",
   "metadata": {},
   "outputs": [],
   "source": []
  },
  {
   "cell_type": "code",
   "execution_count": null,
   "id": "7f678986-106f-4858-9298-69b8ee3630ee",
   "metadata": {},
   "outputs": [],
   "source": []
  },
  {
   "cell_type": "code",
   "execution_count": null,
   "id": "08b4b3ea-72a4-4dbf-b768-4337d2faee7c",
   "metadata": {},
   "outputs": [],
   "source": []
  },
  {
   "cell_type": "code",
   "execution_count": null,
   "id": "c11b7b3b-7db7-4d31-800a-c8f5a85bd44a",
   "metadata": {},
   "outputs": [],
   "source": []
  },
  {
   "cell_type": "code",
   "execution_count": null,
   "id": "e8f08b84-5994-4367-bd5b-7b7ff1148b81",
   "metadata": {},
   "outputs": [],
   "source": []
  },
  {
   "cell_type": "code",
   "execution_count": null,
   "id": "a679a28e-452a-4ffc-9a3d-18b937edddea",
   "metadata": {},
   "outputs": [],
   "source": []
  },
  {
   "cell_type": "code",
   "execution_count": null,
   "id": "03d3d1ce-0a4c-4103-a0a7-6b24fc68d7f6",
   "metadata": {},
   "outputs": [],
   "source": []
  },
  {
   "cell_type": "code",
   "execution_count": null,
   "id": "f8c5d072-ae9e-47c3-9434-5fc5ed0dfe5e",
   "metadata": {},
   "outputs": [],
   "source": []
  },
  {
   "cell_type": "code",
   "execution_count": null,
   "id": "bbd07e5f-44c0-4dee-8b70-7947622c1465",
   "metadata": {},
   "outputs": [],
   "source": []
  },
  {
   "cell_type": "code",
   "execution_count": null,
   "id": "152ee4b4-aa92-41e5-8c37-dccae72e37c2",
   "metadata": {},
   "outputs": [],
   "source": []
  },
  {
   "cell_type": "code",
   "execution_count": null,
   "id": "a3692bdb-d90b-4609-afc4-b6e21fe27c26",
   "metadata": {},
   "outputs": [],
   "source": []
  },
  {
   "cell_type": "code",
   "execution_count": null,
   "id": "bca1aaa1-6379-46cb-b0bb-c7e1e669173b",
   "metadata": {},
   "outputs": [],
   "source": []
  },
  {
   "cell_type": "code",
   "execution_count": null,
   "id": "fcb94102-ecf8-4f3a-917b-2c2568d03a93",
   "metadata": {},
   "outputs": [],
   "source": []
  },
  {
   "cell_type": "code",
   "execution_count": null,
   "id": "54518874-9d7e-493d-a0ee-3c0e88386810",
   "metadata": {},
   "outputs": [],
   "source": []
  },
  {
   "cell_type": "code",
   "execution_count": null,
   "id": "e29379f8-7641-47d2-8688-88a1df79e151",
   "metadata": {},
   "outputs": [],
   "source": []
  },
  {
   "cell_type": "code",
   "execution_count": null,
   "id": "9eed9bf5-44a9-48de-ac1f-18a249880ba1",
   "metadata": {},
   "outputs": [],
   "source": []
  },
  {
   "cell_type": "code",
   "execution_count": null,
   "id": "6c9499f8-a399-46b4-85d2-08c96aa2df3d",
   "metadata": {},
   "outputs": [],
   "source": []
  },
  {
   "cell_type": "code",
   "execution_count": null,
   "id": "68231ae0-5b5f-4b5c-8b55-17eecf2415ec",
   "metadata": {},
   "outputs": [],
   "source": []
  },
  {
   "cell_type": "code",
   "execution_count": null,
   "id": "29d25edf-b1ae-4aa2-a220-6c62bfd6e38a",
   "metadata": {},
   "outputs": [],
   "source": []
  },
  {
   "cell_type": "code",
   "execution_count": null,
   "id": "f37c9e75-1d5d-45f6-aecb-02b09fd4e97a",
   "metadata": {},
   "outputs": [],
   "source": []
  },
  {
   "cell_type": "code",
   "execution_count": null,
   "id": "2a6bb7ee-030c-4fcd-8bb3-e96bfa5a33ac",
   "metadata": {},
   "outputs": [],
   "source": []
  },
  {
   "cell_type": "code",
   "execution_count": null,
   "id": "b73451b2-05ad-4892-9922-53ca961f03f1",
   "metadata": {},
   "outputs": [],
   "source": []
  },
  {
   "cell_type": "code",
   "execution_count": null,
   "id": "c66a1ab9-ba9b-4ad3-8bed-bc62f905595f",
   "metadata": {},
   "outputs": [],
   "source": []
  },
  {
   "cell_type": "code",
   "execution_count": null,
   "id": "ffd1d98f-7c11-48f4-8c68-a495b9d26211",
   "metadata": {},
   "outputs": [],
   "source": []
  },
  {
   "cell_type": "code",
   "execution_count": null,
   "id": "f095a3f9-0010-496d-9116-b344e5f6dbbb",
   "metadata": {},
   "outputs": [],
   "source": []
  },
  {
   "cell_type": "code",
   "execution_count": null,
   "id": "3b97db92-08f8-4361-8a2e-03e70eec4613",
   "metadata": {},
   "outputs": [],
   "source": []
  },
  {
   "cell_type": "code",
   "execution_count": null,
   "id": "dc837aaf-bc61-49b8-bd56-1b3db5119843",
   "metadata": {},
   "outputs": [],
   "source": []
  },
  {
   "cell_type": "code",
   "execution_count": null,
   "id": "645e3f91-900d-488d-8861-fbcd2bc2a8f7",
   "metadata": {},
   "outputs": [],
   "source": []
  },
  {
   "cell_type": "code",
   "execution_count": null,
   "id": "eb9b07ea-f61a-473d-8642-a4cf98b18b88",
   "metadata": {},
   "outputs": [],
   "source": []
  },
  {
   "cell_type": "code",
   "execution_count": null,
   "id": "bfd77068-3d2f-4b9e-802b-810d7e73e1e3",
   "metadata": {},
   "outputs": [],
   "source": []
  },
  {
   "cell_type": "code",
   "execution_count": null,
   "id": "4cab3479-4f43-4993-90d3-98ebe6d78aa4",
   "metadata": {},
   "outputs": [],
   "source": []
  },
  {
   "cell_type": "code",
   "execution_count": null,
   "id": "35fab5c3-6862-4224-a2be-591d4e03ced8",
   "metadata": {},
   "outputs": [],
   "source": []
  },
  {
   "cell_type": "code",
   "execution_count": null,
   "id": "ec01e90e-d1c5-4581-97ef-428b548f0237",
   "metadata": {},
   "outputs": [],
   "source": []
  },
  {
   "cell_type": "code",
   "execution_count": null,
   "id": "94479574-7c61-4c05-850c-be0bf39f450a",
   "metadata": {},
   "outputs": [],
   "source": []
  },
  {
   "cell_type": "code",
   "execution_count": null,
   "id": "0c1da4fe-7e0f-49c5-a02b-c0cf80e003ef",
   "metadata": {},
   "outputs": [],
   "source": []
  },
  {
   "cell_type": "code",
   "execution_count": null,
   "id": "7719452f-b509-4c69-abc9-53794062135e",
   "metadata": {},
   "outputs": [],
   "source": []
  },
  {
   "cell_type": "code",
   "execution_count": null,
   "id": "3164f620-d5df-43a6-9ed2-eec1e991e0fe",
   "metadata": {},
   "outputs": [],
   "source": []
  },
  {
   "cell_type": "code",
   "execution_count": null,
   "id": "001add13-09ed-457f-b438-4073ec178859",
   "metadata": {},
   "outputs": [],
   "source": []
  },
  {
   "cell_type": "code",
   "execution_count": null,
   "id": "fc813cf5-bd61-4a74-9558-8c8680bc662f",
   "metadata": {},
   "outputs": [],
   "source": []
  },
  {
   "cell_type": "code",
   "execution_count": null,
   "id": "59d443c7-8968-4dcb-9c41-c074e4f6ff88",
   "metadata": {},
   "outputs": [],
   "source": []
  },
  {
   "cell_type": "code",
   "execution_count": null,
   "id": "efd15a09-c6c8-49bd-bd1d-5077ab59bf3a",
   "metadata": {},
   "outputs": [],
   "source": []
  },
  {
   "cell_type": "code",
   "execution_count": null,
   "id": "b9dfa46b-1fb2-4d8f-99f0-f5139692dd8e",
   "metadata": {},
   "outputs": [],
   "source": []
  },
  {
   "cell_type": "code",
   "execution_count": null,
   "id": "e14fda2d-99e8-4b93-b4e1-92a10b161ed8",
   "metadata": {},
   "outputs": [],
   "source": []
  },
  {
   "cell_type": "code",
   "execution_count": null,
   "id": "d84028d6-7cd4-4764-8f75-fd50d8abf4ca",
   "metadata": {},
   "outputs": [],
   "source": []
  }
 ],
 "metadata": {
  "kernelspec": {
   "display_name": "Python 3 (ipykernel)",
   "language": "python",
   "name": "python3"
  },
  "language_info": {
   "codemirror_mode": {
    "name": "ipython",
    "version": 3
   },
   "file_extension": ".py",
   "mimetype": "text/x-python",
   "name": "python",
   "nbconvert_exporter": "python",
   "pygments_lexer": "ipython3",
   "version": "3.11.5"
  }
 },
 "nbformat": 4,
 "nbformat_minor": 5
}
