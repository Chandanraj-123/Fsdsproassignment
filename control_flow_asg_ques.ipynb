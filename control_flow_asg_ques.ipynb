{
 "cells": [
  {
   "cell_type": "markdown",
   "id": "63baae77-6c29-4127-86f1-ac45486255cc",
   "metadata": {},
   "source": [
    "Basic If-Else Statements:"
   ]
  },
  {
   "cell_type": "markdown",
   "id": "55be6ecc-23bb-4c6c-99c6-a48461e7c8fe",
   "metadata": {},
   "source": [
    "1. Write a Python program to check if a given number is positive or negative."
   ]
  },
  {
   "cell_type": "code",
   "execution_count": 40,
   "id": "2e56d4d2-7e04-4fb8-9fcf-9fc360aaa1b9",
   "metadata": {},
   "outputs": [
    {
     "name": "stdout",
     "output_type": "stream",
     "text": [
      "positive\n"
     ]
    }
   ],
   "source": [
    "number = 10  # int(input(\"enter the number :\"))\n",
    "if number >= 0:\n",
    "    print(\"positive\")\n",
    "else:\n",
    "    print(\"Negative \")"
   ]
  },
  {
   "cell_type": "markdown",
   "id": "56c0c098-6d46-44df-ba88-1cd1e9160422",
   "metadata": {},
   "source": [
    "2. Create a program that determines if a person is eligible to vote based on their age."
   ]
  },
  {
   "cell_type": "code",
   "execution_count": 3,
   "id": "24ba04f8-69df-4252-83e3-0dab4c8b166f",
   "metadata": {},
   "outputs": [
    {
     "name": "stdout",
     "output_type": "stream",
     "text": [
      "candidate not eligible for voting.\n"
     ]
    }
   ],
   "source": [
    "age = 5  # int(input(\"enter the number :\"))\n",
    "if age >= 18:\n",
    "        print(\"candidate eligible for voting.\")\n",
    "else:\n",
    "    print(\"candidate not eligible for voting.\")"
   ]
  },
  {
   "cell_type": "markdown",
   "id": "9849273e-451a-4c55-897a-f23848c4197f",
   "metadata": {},
   "source": [
    "3. Develop a program to find the maximum of two numbers using if-else statements."
   ]
  },
  {
   "cell_type": "code",
   "execution_count": 7,
   "id": "2c84994b-8d19-47d2-ae6c-76368fa2f5d2",
   "metadata": {},
   "outputs": [
    {
     "name": "stdout",
     "output_type": "stream",
     "text": [
      "num_b - 5 is greater than num_a - 3 \n"
     ]
    }
   ],
   "source": [
    "num_a , num_b = 3 , 5  \n",
    "if num_a > num_b :\n",
    "    print(\"num_a - {} is greater than num_b - {} \".format(num_a,num_b))\n",
    "else:\n",
    "    print(\"num_b - {} is greater than num_a - {} \".format(num_b,num_a))\n",
    "\n",
    "    "
   ]
  },
  {
   "cell_type": "markdown",
   "id": "a8a7e5b8-4fd2-4352-8618-5d90577e4a29",
   "metadata": {},
   "source": [
    "4. Write a Python script to classify a given year as a leap year or not."
   ]
  },
  {
   "cell_type": "code",
   "execution_count": 84,
   "id": "749a1dee-0785-4146-b90c-dbe12b01dea4",
   "metadata": {},
   "outputs": [
    {
     "name": "stdout",
     "output_type": "stream",
     "text": [
      " the input year is 2000 leap year\n"
     ]
    }
   ],
   "source": [
    "year = 2000 # int(input(\"enter the number :\"))\n",
    "\n",
    "if (year % 4 == 0):\n",
    "    if (year % 100==0 ) and ( year % 400!=0 ):\n",
    "        print(f\" Not leap year\")\n",
    "    else:\n",
    "        print(f\" the input year is {year} leap year\")\n",
    "else:\n",
    "    print(\"not leap year\")\n",
    "        "
   ]
  },
  {
   "cell_type": "markdown",
   "id": "0e260dc9-1e1e-4fc4-a7cd-39767005a441",
   "metadata": {},
   "source": [
    "5. Create a program that checks whether a character is a vowel or a consonant."
   ]
  },
  {
   "cell_type": "code",
   "execution_count": 36,
   "id": "489cb5a1-ba40-4cf1-8d3b-54b021d8c74d",
   "metadata": {},
   "outputs": [
    {
     "name": "stdout",
     "output_type": "stream",
     "text": [
      "the input character a is vowel\n"
     ]
    }
   ],
   "source": [
    "character  = 'a' #str(input(\"enter the character\"))\n",
    "if character in 'aeiou':\n",
    "    print(f\"the input character { character} is vowel\")\n",
    "else :\n",
    "        print(f\"the input character { character} is consonant\")\n"
   ]
  },
  {
   "cell_type": "markdown",
   "id": "45483ab7-9026-48b8-8a04-cb47d0030a9e",
   "metadata": {},
   "source": [
    "6. Implement a program to determine whether a given number is even or odd."
   ]
  },
  {
   "cell_type": "code",
   "execution_count": 38,
   "id": "e2644db7-3838-4a6a-ae49-1bb8c10ef2cb",
   "metadata": {},
   "outputs": [
    {
     "name": "stdout",
     "output_type": "stream",
     "text": [
      "number is 5 odd\n"
     ]
    }
   ],
   "source": [
    "number =  5 # int(input(\"enter the number :\"))\n",
    "if number % 2 == 0:\n",
    "    print(f\"number is {number} even\")\n",
    "else :\n",
    "    print(f\"number is {number} odd\")\n",
    "\n",
    "    "
   ]
  },
  {
   "cell_type": "markdown",
   "id": "0d6c634e-30fb-48ca-a477-e78f5bd88fa3",
   "metadata": {},
   "source": [
    "7. Write a Python function to calculate the absolute value of a number without using the `abs()` function."
   ]
  },
  {
   "cell_type": "code",
   "execution_count": 49,
   "id": "99e3dac5-ae98-4185-a10d-7ff3797c4339",
   "metadata": {},
   "outputs": [
    {
     "name": "stdout",
     "output_type": "stream",
     "text": [
      "the give number is absolute 105\n"
     ]
    }
   ],
   "source": [
    "number =  105 # int(input(\"enter the number :\"))\n",
    "if number >= 0:\n",
    "    print(f\"the give number is absolute {number}\")\n",
    "    \n",
    "else:\n",
    "    print(f\"the absolute number {-number} for give input\")          \n"
   ]
  },
  {
   "cell_type": "code",
   "execution_count": 46,
   "id": "d9b184aa-872d-42cf-af93-6e31f4506f9a",
   "metadata": {},
   "outputs": [
    {
     "name": "stdout",
     "output_type": "stream",
     "text": [
      "The absolute value of -5 is: 5\n"
     ]
    }
   ],
   "source": [
    "def calculate_absolute_value(number):\n",
    "    if number >= 0:\n",
    "        return number\n",
    "    else:\n",
    "        return -number\n",
    "\n",
    "# Example usage:\n",
    "num =-5\n",
    "absolute_value = calculate_absolute_value(num)\n",
    "print(\"The absolute value of {} is: {}\".format(num, absolute_value))\n"
   ]
  },
  {
   "cell_type": "markdown",
   "id": "b51afd48-32ea-4026-942c-39453c868e00",
   "metadata": {},
   "source": [
    "8. Develop a program that determines the largest of three given numbers using if-else statements."
   ]
  },
  {
   "cell_type": "code",
   "execution_count": 54,
   "id": "6a429524-f2ca-4765-96d1-b0d660878b91",
   "metadata": {},
   "outputs": [
    {
     "name": "stdout",
     "output_type": "stream",
     "text": [
      "4\n"
     ]
    }
   ],
   "source": [
    "a,b,c = 1,4,3\n",
    "if a > b and a > c :\n",
    "    print(a)\n",
    "if b > a and b > c:\n",
    "    print(b)\n",
    "else :\n",
    "    print(c)"
   ]
  },
  {
   "cell_type": "markdown",
   "id": "cd4a1db5-c4a2-41b3-8ab2-2d8656a7d856",
   "metadata": {},
   "source": [
    "9. Create a program that checks if a given string is a palindrome.\n"
   ]
  },
  {
   "cell_type": "code",
   "execution_count": 56,
   "id": "d881fbaa-6692-4a76-9c15-7ae6e97d93ba",
   "metadata": {},
   "outputs": [
    {
     "name": "stdout",
     "output_type": "stream",
     "text": [
      "the given input is  not palindrome\n"
     ]
    }
   ],
   "source": [
    "number= \"12322\"\n",
    "if number == number[::-1]:\n",
    "    print(\"the input number is palidrome\")\n",
    "else :\n",
    "    print(\"the given input is  not palindrome\")"
   ]
  },
  {
   "cell_type": "markdown",
   "id": "197cc47b-6882-41fc-aaff-56f31f87895b",
   "metadata": {},
   "source": [
    "10. Write a Python program to calculate the grade based on a student's score."
   ]
  },
  {
   "cell_type": "code",
   "execution_count": 66,
   "id": "394dd89f-7e88-492e-b89f-67adf37047f0",
   "metadata": {},
   "outputs": [
    {
     "name": "stdout",
     "output_type": "stream",
     "text": [
      "grade - C\n"
     ]
    }
   ],
   "source": [
    "marks =  70\n",
    "if marks >=90 and marks <=100:\n",
    "    print(f\"grade - A\")\n",
    "if marks >=80 and  marks < 90:\n",
    "    print(f\"grade - B\")\n",
    "if marks >=70 and marks <80:\n",
    "    print(f\"grade - C\")\n",
    "if marks >=60 and marks <70 :\n",
    "    print(f\"grade - D\")\n",
    "if marks >=35 and marks < 60:\n",
    "    print(f\"grade - E\")\n",
    "if marks >= 0 and marks < 35 :\n",
    "    print(f\"grade - F\")\n"
   ]
  },
  {
   "cell_type": "markdown",
   "id": "07a01afd-cb6d-49c6-a57a-a43ea1f6b7ed",
   "metadata": {},
   "source": [
    "Nested If-Else Statements:"
   ]
  },
  {
   "cell_type": "markdown",
   "id": "4ea4f197-a613-4a87-b341-541a699e26fe",
   "metadata": {},
   "source": [
    "11. Write a program to find the largest among three numbers using nested if-else statements."
   ]
  },
  {
   "cell_type": "code",
   "execution_count": 11,
   "id": "6c957b10-386a-49d2-9d67-9b67d721b978",
   "metadata": {},
   "outputs": [
    {
     "name": "stdout",
     "output_type": "stream",
     "text": [
      "10\n"
     ]
    }
   ],
   "source": [
    "a,b,c = 1,4,10\n",
    "if a >= b:\n",
    "    if a >= c:\n",
    "        largest = a\n",
    "    else:\n",
    "        largest = c\n",
    "else:\n",
    "    if b >= c:\n",
    "        largest = b\n",
    "    else:\n",
    "        largest = c\n",
    "print(largest)"
   ]
  },
  {
   "cell_type": "markdown",
   "id": "099d8db7-7796-4035-8298-e19fd91d23d4",
   "metadata": {},
   "source": [
    "12. Implement a program to determine if a triangle is equilateral, isosceles, or scalene."
   ]
  },
  {
   "cell_type": "code",
   "execution_count": 23,
   "id": "b6eb30a6-5c2d-436a-9bb1-8f778b6d0344",
   "metadata": {},
   "outputs": [
    {
     "name": "stdout",
     "output_type": "stream",
     "text": [
      "Scalene\n"
     ]
    }
   ],
   "source": [
    "side1,side2,side3 = 1,2,3\n",
    "if side1 == side2 == side3:\n",
    "        triangle_category = \"Equilateral\"\n",
    "elif side1 == side2 or side1 == side3 or side2 == side3:\n",
    "    triangle_category = \"Isosceles\"\n",
    "else:\n",
    "    triangle_category = \"Scalene\"\n",
    "print(triangle_category)\n"
   ]
  },
  {
   "cell_type": "markdown",
   "id": "638d92a1-092f-47aa-9ad4-9c2ec1ce8335",
   "metadata": {},
   "source": [
    "13. Develop a program that checks if a year is a leap year and also if it is a century year."
   ]
  },
  {
   "cell_type": "code",
   "execution_count": 31,
   "id": "16ba0625-65e1-4277-a2b9-b0005267d7ad",
   "metadata": {},
   "outputs": [
    {
     "name": "stdin",
     "output_type": "stream",
     "text": [
      "Enter a year:  1960\n"
     ]
    },
    {
     "name": "stdout",
     "output_type": "stream",
     "text": [
      "1960 is a leap year.\n"
     ]
    }
   ],
   "source": [
    "def is_leap_year(year):\n",
    "    if year % 4 == 0:\n",
    "        if year % 100 == 0:\n",
    "            if year % 400 == 0:\n",
    "                return True  # Leap year, divisible by 400\n",
    "            else:\n",
    "                return False  # Century year, not divisible by 400\n",
    "        else:\n",
    "            return True  # Leap year, not a century year\n",
    "    else:\n",
    "        return False  # Not a leap year\n",
    "\n",
    "# Get user input\n",
    "user_year = int(input(\"Enter a year: \"))\n",
    "\n",
    "# Check if it's a leap year and if it's a century year\n",
    "if is_leap_year(user_year):\n",
    "    print(f\"{user_year} is a leap year.\")\n",
    "    if user_year % 100 == 0:\n",
    "        print(f\"{user_year} is also a century year.\")\n",
    "else:\n",
    "    print(f\"{user_year} is not a leap year.\")\n"
   ]
  },
  {
   "cell_type": "markdown",
   "id": "467464d4-a060-4ff9-a65c-4b3af272e44b",
   "metadata": {},
   "source": [
    "14. Write a Python script to determine if a number is positive, negative, or zero."
   ]
  },
  {
   "cell_type": "code",
   "execution_count": 33,
   "id": "93816c5b-e344-48e8-9c3d-12cc9691fb17",
   "metadata": {},
   "outputs": [
    {
     "name": "stdout",
     "output_type": "stream",
     "text": [
      "The number -5 is Negative.\n"
     ]
    }
   ],
   "source": [
    "user_number = -5 \n",
    "if user_number > 0:\n",
    "    result = \"Positive\"\n",
    "else:\n",
    "    if user_number < 0:\n",
    "        result = \"Negative\"\n",
    "    else:\n",
    "        result = \"Zero\"\n",
    "\n",
    "# Display the result\n",
    "print(f\"The number {user_number} is {result}.\")\n",
    "    \n",
    "    "
   ]
  },
  {
   "cell_type": "markdown",
   "id": "96c17168-cc9d-4c12-8b2f-872561fd2042",
   "metadata": {},
   "source": [
    "15. Create a program to check if a person is a teenager (between 13 and 19 years old)."
   ]
  },
  {
   "cell_type": "code",
   "execution_count": 34,
   "id": "4f929a90-83ab-4c35-9289-acac21632dc6",
   "metadata": {},
   "outputs": [
    {
     "name": "stdin",
     "output_type": "stream",
     "text": [
      "Enter your age:  10\n"
     ]
    },
    {
     "name": "stdout",
     "output_type": "stream",
     "text": [
      "You are not a teenager.\n"
     ]
    }
   ],
   "source": [
    "# Get user input\n",
    "user_age = int(input(\"Enter your age: \"))\n",
    "\n",
    "# Check if the person is a teenager using nested if-else\n",
    "if 13 <= user_age <= 19:\n",
    "    result = \"You are a teenager.\"\n",
    "else:\n",
    "    result = \"You are not a teenager.\"\n",
    "\n",
    "# Display the result\n",
    "print(result)\n"
   ]
  },
  {
   "cell_type": "markdown",
   "id": "28887172-ed11-42b8-bb4c-530f6a5a232a",
   "metadata": {},
   "source": [
    "16. Develop a program that determines the type of angle based on its measure (acute, obtuse, or right)."
   ]
  },
  {
   "cell_type": "code",
   "execution_count": 35,
   "id": "54396d39-8670-437a-b3f5-673ed18c2ecd",
   "metadata": {},
   "outputs": [
    {
     "name": "stdin",
     "output_type": "stream",
     "text": [
      "Enter the measure of the angle in degrees:  90\n"
     ]
    },
    {
     "name": "stdout",
     "output_type": "stream",
     "text": [
      "The angle with measure 90.0 degrees is a Right angle.\n"
     ]
    }
   ],
   "source": [
    "# Get user input\n",
    "angle_measure = float(input(\"Enter the measure of the angle in degrees: \"))\n",
    "\n",
    "# Determine the type of angle using nested if-else\n",
    "if angle_measure > 0:\n",
    "    if angle_measure < 90:\n",
    "        angle_type = \"Acute\"\n",
    "    elif angle_measure == 90:\n",
    "        angle_type = \"Right\"\n",
    "    else:\n",
    "        angle_type = \"Obtuse\"\n",
    "    # Display the result\n",
    "    print(f\"The angle with measure {angle_measure} degrees is a {angle_type} angle.\")\n",
    "else:\n",
    "    print(\"Invalid input. Please enter a positive angle measure.\")\n"
   ]
  },
  {
   "cell_type": "markdown",
   "id": "10b1a683-5e79-483b-9d1a-f6416b3b01b5",
   "metadata": {},
   "source": [
    "17. Write a Python program to calculate the roots of a quadratic equation.\n"
   ]
  },
  {
   "cell_type": "code",
   "execution_count": 8,
   "id": "8c8445e2-0067-457c-87ed-86199ae2172c",
   "metadata": {},
   "outputs": [
    {
     "name": "stdout",
     "output_type": "stream",
     "text": [
      "complex roots:  -1.0 + 1.4142135623730951i  , -1.0 - 1.4142135623730951i\n"
     ]
    }
   ],
   "source": [
    "import math\n",
    "a,b,c = 2,4 ,6\n",
    "disc = b**2 - (4*a*c)\n",
    "\n",
    "if disc > 0:\n",
    "    \n",
    "    root_1 = (-b +math.sqrt(disc))/(2*a)\n",
    "    root_2 = (-b -math.sqrt(disc))/(2*a)\n",
    "    print(f\"real:{root_1},Distinct:{root_2}\")\n",
    "    \n",
    "elif disc == 0:\n",
    "    \n",
    "    print(\"real and eqaul roots:\",-b/(2*a))\n",
    "    \n",
    "else:\n",
    "    real = -b/(2*a)\n",
    "    imaginary = math.sqrt(abs(disc))/(2*a)\n",
    "    root_1 =f\"{real} + {imaginary}i\"\n",
    "    root_2 =f\"{real} - {imaginary}i\"\n",
    "    print(\"complex roots: \",root_1 , \" ,\"  ,root_2)\n",
    "    "
   ]
  },
  {
   "cell_type": "markdown",
   "id": "501edd90-9cd6-40bc-9ae4-51bdaca51a61",
   "metadata": {},
   "source": [
    "18. Implement a program to determine the day of the week based on a user-provided number (1 for Monday, 2 for Tuesday, etc.)."
   ]
  },
  {
   "cell_type": "code",
   "execution_count": 11,
   "id": "d8dcdace-62f7-4281-ac7b-09ac93e56c3b",
   "metadata": {},
   "outputs": [
    {
     "name": "stdout",
     "output_type": "stream",
     "text": [
      "Mon\n"
     ]
    }
   ],
   "source": [
    "day = 1\n",
    "\n",
    "if day == 1:\n",
    "    print(\"Mon\")\n",
    "else:\n",
    "    if day == 2:\n",
    "        print(\"Tue\")\n",
    "    else:\n",
    "        if day == 3:\n",
    "            print(\"Wed\")\n",
    "        else:\n",
    "            if day == 4:\n",
    "                print(\"Thu\")\n",
    "            else:\n",
    "                if day == 5:\n",
    "                    print(\"Fri\")\n",
    "                else:\n",
    "                    if day == 6:\n",
    "                        print(\"Sat\")\n",
    "                    else:\n",
    "                        if day == 7:\n",
    "                            print(\"Sun\")\n",
    "                        else:\n",
    "                            print(\"Invalid number\")\n"
   ]
  },
  {
   "cell_type": "markdown",
   "id": "e6ca0b49-d11c-483d-9b9b-5f326dc2989f",
   "metadata": {},
   "source": [
    "19. Create a program that determines if a year is a leap year and also if it is evenly divisible by 400."
   ]
  },
  {
   "cell_type": "code",
   "execution_count": 4,
   "id": "6626d0b2-c573-4b82-acd6-15b3054e5011",
   "metadata": {},
   "outputs": [
    {
     "name": "stdout",
     "output_type": "stream",
     "text": [
      " not leap year\n"
     ]
    }
   ],
   "source": [
    "year= 20\n",
    "if year % 4 == 0:\n",
    "        if year % 100 == 0:\n",
    "            if year % 400 == 0:\n",
    "                print(\"leap year\")\n",
    "\n",
    "                \n",
    "            else:\n",
    "                print(\" not leap year\")\n",
    "        else:\n",
    "             print(\"leap year\")\n",
    "else:\n",
    "    print(\" not leap year\")\n"
   ]
  },
  {
   "cell_type": "markdown",
   "id": "40d9f617-c24e-4049-a7c6-c0deb875d996",
   "metadata": {},
   "source": [
    "20. Develop a program that checks if a given number is prime or not using nested if-else statements."
   ]
  },
  {
   "cell_type": "code",
   "execution_count": 6,
   "id": "146b5594-d4b7-464e-a2d3-c009f1b52f69",
   "metadata": {},
   "outputs": [
    {
     "name": "stdout",
     "output_type": "stream",
     "text": [
      "5 is a prime number.\n"
     ]
    }
   ],
   "source": [
    "number = 5 \n",
    "if number <= 1:\n",
    "    print(f\"{number} is not a prime number.\")\n",
    "elif number == 2:\n",
    "    print(f\"{number} is a prime number.\")\n",
    "else:\n",
    "    for i in range(2, int(number**0.5) + 1):\n",
    "        if number % i == 0:\n",
    "            print(f\"{number} is not a prime number.\")\n",
    "            break\n",
    "        else:\n",
    "            print(f\"{number} is a prime number.\")\n",
    "            "
   ]
  },
  {
   "cell_type": "markdown",
   "id": "c89fcc28-ef8d-436d-9a04-845680a8e480",
   "metadata": {},
   "source": [
    "Elif Statements:"
   ]
  },
  {
   "cell_type": "markdown",
   "id": "447be5aa-cbcb-48f0-84ae-4847c404bb8f",
   "metadata": {},
   "source": [
    "21. Write a Python program to assign grades based on different ranges of scores using elif statements."
   ]
  },
  {
   "cell_type": "code",
   "execution_count": 10,
   "id": "376a3387-94e6-4282-89a8-8f57cbeac4b3",
   "metadata": {},
   "outputs": [
    {
     "name": "stdout",
     "output_type": "stream",
     "text": [
      "Mon\n"
     ]
    }
   ],
   "source": [
    "day = 1\n",
    "if  day == 1 :\n",
    "    print(\"Mon\")\n",
    "elif day ==  2:\n",
    "    print(\"tue\")\n",
    "elif day == 3:\n",
    "    print(\"Wed\")\n",
    "elif  day == 4 :\n",
    "    print(\"Thu\")\n",
    "elif day == 5 :\n",
    "    print(\"Fri\")\n",
    "elif day == 6 :\n",
    "    print(\"Sat\")\n",
    "elif day == 7:\n",
    "    print(\"Sun\")\n",
    "else :\n",
    "    print(\"Invalid number\")\n",
    "\n"
   ]
  },
  {
   "cell_type": "markdown",
   "id": "53f4ab52-e0ec-48b8-b0bb-fdbe74067922",
   "metadata": {},
   "source": [
    "22. Implement a program to determine the type of a triangle based on its angles."
   ]
  },
  {
   "cell_type": "code",
   "execution_count": 13,
   "id": "22a507b8-8515-4428-a223-cc90229d3fe2",
   "metadata": {},
   "outputs": [
    {
     "name": "stdout",
     "output_type": "stream",
     "text": [
      "obtuse angle\n"
     ]
    }
   ],
   "source": [
    "ang1,ang2,ang3=100,20,70\n",
    "if ang1 < 90 and ang2<90 and ang <90:\n",
    "    triangle_type=\"acute angle\"\n",
    "elif ang1 == 90 and ang2==90 and ang==90:\n",
    "    triangle_type=\"right  angle triangle\"\n",
    "else :\n",
    "    triangle_type ='obtuse angle'\n",
    "print(triangle_type)\n"
   ]
  },
  {
   "cell_type": "markdown",
   "id": "84d38c6e-8c93-4604-b293-d9b96d759b98",
   "metadata": {},
   "source": [
    "23. Develop a program to categorize a given person's BMI into underweight, normal, overweight, or obese using\n",
    "elif statements."
   ]
  },
  {
   "cell_type": "code",
   "execution_count": 2,
   "id": "3ea138fe-4272-4bd1-b567-2bf6c6b97b8b",
   "metadata": {},
   "outputs": [
    {
     "name": "stdout",
     "output_type": "stream",
     "text": [
      "underweight\n"
     ]
    }
   ],
   "source": [
    "weight = 85.2 #float(input(\"Enter your weight in kilograms: \"))\n",
    "height = 170 #float(input(\"Enter your weight in height: \"))\n",
    "bmi  = weight /(height**2)\n",
    "if bmi < 18.5:\n",
    "    category =\"underweight\"\n",
    "elif 18.5 <=bmi:\n",
    "    category = \"Normal weight\"\n",
    "elif 25 <=bmi<29.9:\n",
    "    category =\"overweight\"\n",
    "else :\n",
    "    category  =\"obese\"\n",
    "print(category)"
   ]
  },
  {
   "cell_type": "markdown",
   "id": "534386cf-fbbc-4469-aa25-c5c030980320",
   "metadata": {},
   "source": [
    "24. Create a program that determines whether a given number is positive, negative, or zero using elif\n",
    "statements."
   ]
  },
  {
   "cell_type": "code",
   "execution_count": 4,
   "id": "1a611805-307c-45cb-bedb-78bd1d5eac5f",
   "metadata": {},
   "outputs": [
    {
     "name": "stdout",
     "output_type": "stream",
     "text": [
      "positive\n"
     ]
    }
   ],
   "source": [
    "number = 8 #input(\"enter the number:\")\n",
    "if number > 0:\n",
    "    type_value = \"positive\"\n",
    "elif number <0:\n",
    "    type_value = \"Negative\"\n",
    "else:\n",
    "    type_value  = \"Zero\"\n",
    "print(type_value)"
   ]
  },
  {
   "cell_type": "markdown",
   "id": "64b46715-bb0f-48f0-ad25-aa6a9aa33190",
   "metadata": {},
   "source": [
    "25. Write a Python script to determine the type of a character (uppercase, lowercase, or special) using elif statements."
   ]
  },
  {
   "cell_type": "code",
   "execution_count": 7,
   "id": "8f6748c5-cf00-4003-b89c-fa9ce2de3756",
   "metadata": {},
   "outputs": [
    {
     "name": "stdout",
     "output_type": "stream",
     "text": [
      "Upper case\n"
     ]
    }
   ],
   "source": [
    "string = \"A\"\n",
    "if string.islower():\n",
    "    value = \"lowercase\"\n",
    "elif string.isupper():\n",
    "    value = \"Upper case\"\n",
    "else :\n",
    "    value  =\"Special character\"\n",
    "print(value)"
   ]
  },
  {
   "cell_type": "markdown",
   "id": "e76c69c6-93cc-40ad-813a-ce455b901930",
   "metadata": {},
   "source": [
    "26. Implement a program to calculate the discounted price based on different purchase amounts using elif\n",
    "statements."
   ]
  },
  {
   "cell_type": "code",
   "execution_count": 11,
   "id": "feecdbea-72bd-40fc-be96-f55382affbfc",
   "metadata": {},
   "outputs": [
    {
     "name": "stdout",
     "output_type": "stream",
     "text": [
      "purchased Rate is 5000\n",
      "the discount rate 0.15\n",
      "the  discount amount is 4250.0\n"
     ]
    }
   ],
   "source": [
    "buy_rate =  5000 # float(input(\"enter the amount:\")\n",
    "\n",
    "if buy_rate < 100:\n",
    "    disc_rate = 0\n",
    "elif 100 <= buy_rate < 500:\n",
    "    disc_rate = 0.05\n",
    "elif 500 <= buy_rate < 1000:\n",
    "    disc_rate = 0.1\n",
    "else:\n",
    "    disc_rate = 0.15\n",
    "disc_amt = buy_rate - (buy_rate*disc_rate)    \n",
    "print(f\"purchased Rate is {buy_price}\")\n",
    "print(f\"the discount rate { disc_rate}\")\n",
    "print(f\"the  discount amount is {disc_amt}\")\n"
   ]
  },
  {
   "cell_type": "markdown",
   "id": "25a41617-bcf7-42ac-8f6a-4fea6d92b793",
   "metadata": {},
   "source": [
    "27. Develop a program to calculate the electricity bill based on different consumption slabs using elif\n",
    "statements."
   ]
  },
  {
   "cell_type": "code",
   "execution_count": 17,
   "id": "e2d1f61a-9ad2-4cda-acf4-5da26c53f700",
   "metadata": {},
   "outputs": [
    {
     "name": "stdout",
     "output_type": "stream",
     "text": [
      "electricty con : 85.63 Kw-h\n",
      "Electricity bill : $ 8.563\n"
     ]
    }
   ],
   "source": [
    "con = 85.63 # float(input(\"enter the electricity consumption units in KW - h :\")\n",
    "ratelab1 = 0.1\n",
    "ratelab2 = 0.15\n",
    "ratelab3 = 0.2\n",
    "\n",
    "if con <= 100 :\n",
    "    bill = con  * ratelab1\n",
    "elif 100 < con <= 300:\n",
    "    bill = 100 * ratelab1 + (con - 100 ) * rate_slab2\n",
    "    \n",
    "else:\n",
    "    bill = 100 * rateslab1+200*rateslab+(con-300)*rateslab3\n",
    "    \n",
    "print(f\"electricty con : {con} Kw-h\")\n",
    "print(f\"Electricity bill : $ {bill}\")\n"
   ]
  },
  {
   "cell_type": "markdown",
   "id": "abdc7992-56d6-435e-b3c8-aa3a86bd9c1e",
   "metadata": {},
   "source": [
    "28. Create a program to determine the type of quadrilateral based on its angles and sides using elif\n",
    "statements."
   ]
  },
  {
   "cell_type": "code",
   "execution_count": 20,
   "id": "41cc4919-8384-4b26-a58e-659875bdc29c",
   "metadata": {},
   "outputs": [
    {
     "name": "stdout",
     "output_type": "stream",
     "text": [
      "the Quadrilateral is  Square \n"
     ]
    }
   ],
   "source": [
    "a1,a2,a3,a4 = 90,90,90,90 #float(input(\"Enter the angle :\"))\n",
    "s1,s2,s3,s4 = 50,50,50,50 #float(input(\"Enter the side :\"))\n",
    "\n",
    "if a1+a2+a3+a4 == 360:\n",
    "    if s1 == s2 == s3 == s4:\n",
    "        q_type =\" Square \"\n",
    "    elif s1 == s3 and s2 == s4:\n",
    "        q_type = \"Rectangle\"\n",
    "    elif s1 == s2 == s3 or s2 == s3 == s4 or s1 == s3 == s4 or s1 == s2 == s4:\n",
    "        q_type = \" Rhombus \"\n",
    "    else:\n",
    "        q_type = \"Qudrilateral\"\n",
    "else:\n",
    "    q_type =\"Inavlid sides length\"\n",
    "    \n",
    "print(f\"the Quadrilateral is {q_type}\")"
   ]
  },
  {
   "cell_type": "markdown",
   "id": "9fff6ba7-8c78-4bea-ad4b-2a9522318ef8",
   "metadata": {},
   "source": [
    "29. Write a Python script to determine the season based on a user-provided month using elif statements."
   ]
  },
  {
   "cell_type": "code",
   "execution_count": 22,
   "id": "1530fcc0-7b2e-4240-9665-9a3e307838f9",
   "metadata": {},
   "outputs": [
    {
     "name": "stdin",
     "output_type": "stream",
     "text": [
      "Enter the month (e.g., January, February, etc.):  january\n"
     ]
    },
    {
     "name": "stdout",
     "output_type": "stream",
     "text": [
      "The season for January is Winter.\n"
     ]
    }
   ],
   "source": [
    "# Get user input for the month\n",
    "month = input(\"Enter the month (e.g., January, February, etc.): \")\n",
    "\n",
    "# Convert month input to lowercase for case-insensitive comparison\n",
    "month = month.lower()\n",
    "\n",
    "# Determine the season based on the month\n",
    "if month in [\"december\", \"january\", \"february\"]:\n",
    "    season = \"Winter\"\n",
    "elif month in [\"march\", \"april\", \"may\"]:\n",
    "    season = \"Spring\"\n",
    "elif month in [\"june\", \"july\", \"august\"]:\n",
    "    season = \"Summer\"\n",
    "elif month in [\"september\", \"october\", \"november\"]:\n",
    "    season = \"Fall\"\n",
    "else:\n",
    "    season = \"Invalid Month\"\n",
    "\n",
    "# Display the result\n",
    "if season != \"Invalid Month\":\n",
    "    print(f\"The season for {month.capitalize()} is {season}.\")\n",
    "else:\n",
    "    print(\"Invalid input. Please enter a valid month.\")\n"
   ]
  },
  {
   "cell_type": "markdown",
   "id": "74760fcb-cc0d-448a-a5e9-b58addf4bdce",
   "metadata": {},
   "source": [
    "30. Implement a program to determine the type of a year (leap or common) and month (30 or 31 days) using elif statements."
   ]
  },
  {
   "cell_type": "code",
   "execution_count": 26,
   "id": "72c68ad9-1a4f-4669-8b79-42f57334fec9",
   "metadata": {},
   "outputs": [
    {
     "name": "stdin",
     "output_type": "stream",
     "text": [
      "Enter the year:  2000\n",
      "Enter the month (1-12):  3\n"
     ]
    },
    {
     "name": "stdout",
     "output_type": "stream",
     "text": [
      "2000 is a Leap Year, and the month 3 has 31 days.\n"
     ]
    }
   ],
   "source": [
    "# Get user input for the year and month\n",
    "year = int(input(\"Enter the year: \"))\n",
    "month = int(input(\"Enter the month (1-12): \"))\n",
    "\n",
    "# Determine if it's a leap year or a common year\n",
    "if (year % 4 == 0 and year % 100 != 0) or (year % 400 == 0):\n",
    "    year_type = \"Leap Year\"\n",
    "else:\n",
    "    year_type = \"Common Year\"\n",
    "\n",
    "# Determine the number of days in the month\n",
    "if month in [1, 3, 5, 7, 8, 10, 12]:\n",
    "    days_in_month = 31\n",
    "elif month in [4, 6, 9, 11]:\n",
    "    days_in_month = 30\n",
    "elif month == 2:\n",
    "    days_in_month = 29 if year_type == \"Leap Year\" else 28\n",
    "else:\n",
    "    days_in_month = -1  # Invalid month\n",
    "\n",
    "# Display the result\n",
    "if days_in_month != -1:\n",
    "    print(f\"{year} is a {year_type}, and the month {month} has {days_in_month} days.\")\n",
    "else:\n",
    "    print(\"Invalid input. Please enter a valid month (1-12).\")\n"
   ]
  },
  {
   "cell_type": "markdown",
   "id": "e6371c03-808b-41be-b57f-b6ef7be8d66e",
   "metadata": {},
   "source": [
    "Basic Level\n"
   ]
  },
  {
   "cell_type": "markdown",
   "id": "0348093d-2e6d-4b9a-8f76-4a0c98816383",
   "metadata": {},
   "source": [
    "1. Write a Python program that checks if a given number is positive, negative, or zero."
   ]
  },
  {
   "cell_type": "code",
   "execution_count": 27,
   "id": "50e1bd11-94fb-477a-be48-0e98caa6b4e9",
   "metadata": {},
   "outputs": [
    {
     "name": "stdout",
     "output_type": "stream",
     "text": [
      "The number -5 is Negative.\n"
     ]
    }
   ],
   "source": [
    "user_number = -5 \n",
    "if user_number > 0:\n",
    "    result = \"Positive\"\n",
    "else:\n",
    "    if user_number < 0:\n",
    "        result = \"Negative\"\n",
    "    else:\n",
    "        result = \"Zero\"\n",
    "\n",
    "# Display the result\n",
    "print(f\"The number {user_number} is {result}.\")\n",
    "    \n",
    "    "
   ]
  },
  {
   "cell_type": "markdown",
   "id": "23ac9d02-86dc-41fb-b5fa-31f09c4739e9",
   "metadata": {},
   "source": [
    "2. Create a program to determine if a person is eligible to vote based on their age."
   ]
  },
  {
   "cell_type": "code",
   "execution_count": 28,
   "id": "2078d7a7-cd59-4f49-8d51-d35796cb947a",
   "metadata": {},
   "outputs": [
    {
     "name": "stdout",
     "output_type": "stream",
     "text": [
      "candidate not eligible for voting.\n"
     ]
    }
   ],
   "source": [
    "age = 5  # int(input(\"enter the number :\"))\n",
    "if age >= 18:\n",
    "        print(\"candidate eligible for voting.\")\n",
    "else:\n",
    "    print(\"candidate not eligible for voting.\")"
   ]
  },
  {
   "cell_type": "markdown",
   "id": "0f8274ec-70ad-4377-95c5-a9f72b7b8f2f",
   "metadata": {},
   "source": [
    "3. Write a program to find the maximum of two given numbers using conditional statements."
   ]
  },
  {
   "cell_type": "code",
   "execution_count": 29,
   "id": "11f71cf7-0889-4f18-a009-2aedca726f7a",
   "metadata": {},
   "outputs": [
    {
     "name": "stdout",
     "output_type": "stream",
     "text": [
      "num_b - 5 is greater than num_a - 3 \n"
     ]
    }
   ],
   "source": [
    "num_a , num_b = 3 , 5  \n",
    "if num_a > num_b :\n",
    "    print(\"num_a - {} is greater than num_b - {} \".format(num_a,num_b))\n",
    "else:\n",
    "    print(\"num_b - {} is greater than num_a - {} \".format(num_b,num_a))\n"
   ]
  },
  {
   "cell_type": "markdown",
   "id": "4ecb1095-de02-46ad-b97b-67b5e6c24683",
   "metadata": {},
   "source": [
    "4. Develop a program that calculates the grade of a student based on their exam score."
   ]
  },
  {
   "cell_type": "code",
   "execution_count": 30,
   "id": "6815261c-c632-480d-a026-c916ae5ce77e",
   "metadata": {},
   "outputs": [
    {
     "name": "stdout",
     "output_type": "stream",
     "text": [
      "grade - C\n"
     ]
    }
   ],
   "source": [
    "marks =  70\n",
    "if marks >=90 and marks <=100:\n",
    "    print(f\"grade - A\")\n",
    "if marks >=80 and  marks < 90:\n",
    "    print(f\"grade - B\")\n",
    "if marks >=70 and marks <80:\n",
    "    print(f\"grade - C\")\n",
    "if marks >=60 and marks <70 :\n",
    "    print(f\"grade - D\")\n",
    "if marks >=35 and marks < 60:\n",
    "    print(f\"grade - E\")\n",
    "if marks >= 0 and marks < 35 :\n",
    "    print(f\"grade - F\")\n"
   ]
  },
  {
   "cell_type": "markdown",
   "id": "d33a42fd-91c1-4399-967f-6a2a291a83ed",
   "metadata": {},
   "source": [
    "5. Create a program that checks if a year is a leap year or not."
   ]
  },
  {
   "cell_type": "code",
   "execution_count": 31,
   "id": "d8e79e5a-291c-425d-95a2-2f4baa4c6401",
   "metadata": {},
   "outputs": [
    {
     "name": "stdout",
     "output_type": "stream",
     "text": [
      " the input year is 2000 leap year\n"
     ]
    }
   ],
   "source": [
    "year = 2000 # int(input(\"enter the number :\"))\n",
    "\n",
    "if (year % 4 == 0):\n",
    "    if (year % 100==0 ) and ( year % 400!=0 ):\n",
    "        print(f\" Not leap year\")\n",
    "    else:\n",
    "        print(f\" the input year is {year} leap year\")\n",
    "else:\n",
    "    print(\"not leap year\")\n",
    "    "
   ]
  },
  {
   "cell_type": "markdown",
   "id": "d80d6c6f-6ee6-451c-8e1d-b4b50fe2893c",
   "metadata": {},
   "source": [
    "6. Write a program to classify a triangle based on its sides' lengths."
   ]
  },
  {
   "cell_type": "code",
   "execution_count": 32,
   "id": "64194c16-3528-4b91-b7f0-aa48eb738f57",
   "metadata": {},
   "outputs": [
    {
     "name": "stdout",
     "output_type": "stream",
     "text": [
      "Scalene\n"
     ]
    }
   ],
   "source": [
    "side1,side2,side3 = 1,2,3\n",
    "if side1 == side2 == side3:\n",
    "        triangle_category = \"Equilateral\"\n",
    "elif side1 == side2 or side1 == side3 or side2 == side3:\n",
    "    triangle_category = \"Isosceles\"\n",
    "else:\n",
    "    triangle_category = \"Scalene\"\n",
    "print(triangle_category)"
   ]
  },
  {
   "cell_type": "markdown",
   "id": "394c6784-9acc-4b6f-a04c-88432e78536b",
   "metadata": {},
   "source": [
    "7. Build a program that determines the largest of three given numbers."
   ]
  },
  {
   "cell_type": "code",
   "execution_count": 33,
   "id": "a431853a-6a6a-4d3e-9d28-53dc35ce687b",
   "metadata": {},
   "outputs": [
    {
     "name": "stdout",
     "output_type": "stream",
     "text": [
      "10\n"
     ]
    }
   ],
   "source": [
    "a,b,c = 1,4,10\n",
    "if a >= b:\n",
    "    if a >= c:\n",
    "        largest = a\n",
    "    else:\n",
    "        largest = c\n",
    "else:\n",
    "    if b >= c:\n",
    "        largest = b\n",
    "    else:\n",
    "        largest = c\n",
    "print(largest)"
   ]
  },
  {
   "cell_type": "markdown",
   "id": "4be17aef-a02e-40b2-9a60-be35d93666fc",
   "metadata": {},
   "source": [
    "8. Develop a program that checks whether a character is a vowel or a consonant."
   ]
  },
  {
   "cell_type": "code",
   "execution_count": 34,
   "id": "8e7d8c29-ea09-457e-a64e-216f53b2dd7a",
   "metadata": {},
   "outputs": [
    {
     "name": "stdout",
     "output_type": "stream",
     "text": [
      "the input character a is vowel\n"
     ]
    }
   ],
   "source": [
    "character  = 'a' #str(input(\"enter the character\"))\n",
    "if character in 'aeiou':\n",
    "    print(f\"the input character { character} is vowel\")\n",
    "else :\n",
    "        print(f\"the input character { character} is consonant\")"
   ]
  },
  {
   "cell_type": "markdown",
   "id": "56d3aacc-2b14-4532-8ec6-4f189242ed7c",
   "metadata": {},
   "source": [
    "9. Create a program to calculate the total cost of a shopping cart based on discounts."
   ]
  },
  {
   "cell_type": "code",
   "execution_count": 35,
   "id": "fd39017a-6259-429d-afb5-80ef8572da4c",
   "metadata": {},
   "outputs": [
    {
     "name": "stdout",
     "output_type": "stream",
     "text": [
      "purchased Rate is 5000\n",
      "the discount rate 0.15\n",
      "the  discount amount is 4250.0\n"
     ]
    }
   ],
   "source": [
    "buy_rate =  5000 # float(input(\"enter the amount:\")\n",
    "\n",
    "if buy_rate < 100:\n",
    "    disc_rate = 0\n",
    "elif 100 <= buy_rate < 500:\n",
    "    disc_rate = 0.05\n",
    "elif 500 <= buy_rate < 1000:\n",
    "    disc_rate = 0.1\n",
    "else:\n",
    "    disc_rate = 0.15\n",
    "disc_amt = buy_rate - (buy_rate*disc_rate)    \n",
    "print(f\"purchased Rate is {buy_price}\")\n",
    "print(f\"the discount rate { disc_rate}\")\n",
    "print(f\"the  discount amount is {disc_amt}\")\n"
   ]
  },
  {
   "cell_type": "markdown",
   "id": "343ee350-ec4c-4dba-b0f2-b45c1b3f762a",
   "metadata": {},
   "source": [
    "10. Write a program that checks if a given number is even or odd."
   ]
  },
  {
   "cell_type": "code",
   "execution_count": 36,
   "id": "e3203af0-94d5-477f-a325-5403f14c1ea9",
   "metadata": {},
   "outputs": [
    {
     "name": "stdout",
     "output_type": "stream",
     "text": [
      "number is 5 odd\n"
     ]
    }
   ],
   "source": [
    "number =  5 # int(input(\"enter the number :\"))\n",
    "if number % 2 == 0:\n",
    "    print(f\"number is {number} even\")\n",
    "else :\n",
    "    print(f\"number is {number} odd\")"
   ]
  },
  {
   "cell_type": "markdown",
   "id": "54ddcdc7-80ac-4180-849c-8a397b853041",
   "metadata": {},
   "source": [
    "Intermediate Level:"
   ]
  },
  {
   "cell_type": "markdown",
   "id": "b83b960a-a77a-4acf-8579-1433c2325d03",
   "metadata": {},
   "source": [
    "11. Write a program that calculates the roots of a quadratic equation ."
   ]
  },
  {
   "cell_type": "code",
   "execution_count": 38,
   "id": "daa5b0b5-e1ff-4641-9e8c-5fd06fb84f38",
   "metadata": {},
   "outputs": [
    {
     "name": "stdout",
     "output_type": "stream",
     "text": [
      "complex roots:  -1.0 + 1.4142135623730951i  , -1.0 - 1.4142135623730951i\n"
     ]
    }
   ],
   "source": [
    "import math\n",
    "a,b,c = 2,4 ,6\n",
    "disc = b**2 - (4*a*c)\n",
    "\n",
    "if disc > 0:\n",
    "    \n",
    "    root_1 = (-b +math.sqrt(disc))/(2*a)\n",
    "    root_2 = (-b -math.sqrt(disc))/(2*a)\n",
    "    print(f\"real:{root_1},Distinct:{root_2}\")\n",
    "    \n",
    "elif disc == 0:\n",
    "    \n",
    "    print(\"real and eqaul roots:\",-b/(2*a))\n",
    "    \n",
    "else:\n",
    "    real = -b/(2*a)\n",
    "    imaginary = math.sqrt(abs(disc))/(2*a)\n",
    "    root_1 =f\"{real} + {imaginary}i\"\n",
    "    root_2 =f\"{real} - {imaginary}i\"\n",
    "    print(\"complex roots: \",root_1 , \" ,\"  ,root_2)\n",
    "    "
   ]
  },
  {
   "cell_type": "markdown",
   "id": "b2623803-d216-444e-a9ef-1a268bcff4aa",
   "metadata": {},
   "source": [
    "12. Create a program that determines the day of the week based on the day number (1-7)."
   ]
  },
  {
   "cell_type": "code",
   "execution_count": 39,
   "id": "6a62e8b9-464c-436b-a3b8-5053e4cca2e0",
   "metadata": {},
   "outputs": [
    {
     "name": "stdout",
     "output_type": "stream",
     "text": [
      "Mon\n"
     ]
    }
   ],
   "source": [
    "day = 1\n",
    "\n",
    "if day == 1:\n",
    "    print(\"Mon\")\n",
    "else:\n",
    "    if day == 2:\n",
    "        print(\"Tue\")\n",
    "    else:\n",
    "        if day == 3:\n",
    "            print(\"Wed\")\n",
    "        else:\n",
    "            if day == 4:\n",
    "                print(\"Thu\")\n",
    "            else:\n",
    "                if day == 5:\n",
    "                    print(\"Fri\")\n",
    "                else:\n",
    "                    if day == 6:\n",
    "                        print(\"Sat\")\n",
    "                    else:\n",
    "                        if day == 7:\n",
    "                            print(\"Sun\")\n",
    "                        else:\n",
    "                            print(\"Invalid number\")"
   ]
  },
  {
   "cell_type": "markdown",
   "id": "25c3db9b-a8c7-42fd-89bd-03c92aae285b",
   "metadata": {},
   "source": [
    "13. Develop a program that calculates the factorial of a given number using recursion."
   ]
  },
  {
   "cell_type": "code",
   "execution_count": 55,
   "id": "4686ab1f-1892-481b-97b4-7a5d1ebb9ba3",
   "metadata": {},
   "outputs": [
    {
     "name": "stdout",
     "output_type": "stream",
     "text": [
      "120\n"
     ]
    }
   ],
   "source": [
    "def fact(n):\n",
    "    if n ==0 or n == 1:\n",
    "        return 1\n",
    "    else :\n",
    "        return n * fact(n-1)\n",
    "number = 5 #int(input(\"enter the value:\")\n",
    "fact_value = fact(number)\n",
    "print(fact_value)"
   ]
  },
  {
   "cell_type": "markdown",
   "id": "34acef5e-446d-4aee-b1cc-9f7c24717073",
   "metadata": {},
   "source": [
    "14. Write a program to find the largest among three numbers without using the `max()` function."
   ]
  },
  {
   "cell_type": "code",
   "execution_count": 56,
   "id": "74ed7189-f9a0-4796-8bb5-fee6bd15c06e",
   "metadata": {},
   "outputs": [
    {
     "name": "stdout",
     "output_type": "stream",
     "text": [
      "4\n"
     ]
    }
   ],
   "source": [
    "a,b,c = 1,4,3\n",
    "if a > b and a > c :\n",
    "    print(a)\n",
    "if b > a and b > c:\n",
    "    print(b)\n",
    "else :\n",
    "    print(c)"
   ]
  },
  {
   "cell_type": "markdown",
   "id": "8218bcd1-6fec-486c-81c4-dc0f3ab35b12",
   "metadata": {},
   "source": [
    "15. Create a program that simulates a basic ATM transaction menu."
   ]
  },
  {
   "cell_type": "code",
   "execution_count": 1,
   "id": "183c14de-8669-484f-8509-ddb96c41bbc4",
   "metadata": {},
   "outputs": [
    {
     "name": "stdout",
     "output_type": "stream",
     "text": [
      "==== ATM Transaction Menu ====\n",
      "1. Check Balance\n",
      "2. Deposit Money\n",
      "3. Withdraw Money\n",
      "4. Quit\n"
     ]
    },
    {
     "name": "stdin",
     "output_type": "stream",
     "text": [
      "Enter your choice (1-4):  2\n",
      "Enter the amount to deposit:  100\n"
     ]
    },
    {
     "name": "stdout",
     "output_type": "stream",
     "text": [
      "$100.00 has been deposited. Your new balance is $1100.00\n",
      "==== ATM Transaction Menu ====\n",
      "1. Check Balance\n",
      "2. Deposit Money\n",
      "3. Withdraw Money\n",
      "4. Quit\n"
     ]
    },
    {
     "name": "stdin",
     "output_type": "stream",
     "text": [
      "Enter your choice (1-4):  1\n"
     ]
    },
    {
     "name": "stdout",
     "output_type": "stream",
     "text": [
      "Your current balance is $1100.00\n",
      "==== ATM Transaction Menu ====\n",
      "1. Check Balance\n",
      "2. Deposit Money\n",
      "3. Withdraw Money\n",
      "4. Quit\n"
     ]
    },
    {
     "name": "stdin",
     "output_type": "stream",
     "text": [
      "Enter your choice (1-4):  4\n"
     ]
    },
    {
     "name": "stdout",
     "output_type": "stream",
     "text": [
      "Thank you for using the ATM. Goodbye!\n"
     ]
    }
   ],
   "source": [
    "def display_menu():\n",
    "    print(\"==== ATM Transaction Menu ====\")\n",
    "    print(\"1. Check Balance\")\n",
    "    print(\"2. Deposit Money\")\n",
    "    print(\"3. Withdraw Money\")\n",
    "    print(\"4. Quit\")\n",
    "\n",
    "def check_balance(balance):\n",
    "    print(f\"Your current balance is ${balance:.2f}\")\n",
    "\n",
    "def deposit_money(balance):\n",
    "    amount = float(input(\"Enter the amount to deposit: \"))\n",
    "    balance += amount\n",
    "    print(f\"${amount:.2f} has been deposited. Your new balance is ${balance:.2f}\")\n",
    "    return balance\n",
    "\n",
    "def withdraw_money(balance):\n",
    "    amount = float(input(\"Enter the amount to withdraw: \"))\n",
    "    if amount > balance:\n",
    "        print(\"Insufficient funds. Withdrawal canceled.\")\n",
    "    else:\n",
    "        balance -= amount\n",
    "        print(f\"${amount:.2f} has been withdrawn. Your new balance is ${balance:.2f}\")\n",
    "    return balance\n",
    "\n",
    "# Initial balance\n",
    "initial_balance = 1000.00\n",
    "current_balance = initial_balance\n",
    "\n",
    "while True:\n",
    "    display_menu()\n",
    "    choice = input(\"Enter your choice (1-4): \")\n",
    "\n",
    "    if choice == \"1\":\n",
    "        check_balance(current_balance)\n",
    "    elif choice == \"2\":\n",
    "        current_balance = deposit_money(current_balance)\n",
    "    elif choice == \"3\":\n",
    "        current_balance = withdraw_money(current_balance)\n",
    "    elif choice == \"4\":\n",
    "        print(\"Thank you for using the ATM. Goodbye!\")\n",
    "        break\n",
    "    else:\n",
    "        print(\"Invalid choice. Please enter a number between 1 and 4.\")\n"
   ]
  },
  {
   "cell_type": "markdown",
   "id": "3a80b870-a45c-4032-a8a2-93ce44a15e22",
   "metadata": {},
   "source": [
    "16. Build a program that checks if a given string is a palindrome or not."
   ]
  },
  {
   "cell_type": "code",
   "execution_count": 2,
   "id": "a01b5f2b-9489-43d2-9d12-cd536020c954",
   "metadata": {},
   "outputs": [
    {
     "name": "stdout",
     "output_type": "stream",
     "text": [
      "the given input is  not palindrome\n"
     ]
    }
   ],
   "source": [
    "number= \"12322\"\n",
    "if number == number[::-1]:\n",
    "    print(\"the input number is palidrome\")\n",
    "else :\n",
    "    print(\"the given input is  not palindrome\")"
   ]
  },
  {
   "cell_type": "code",
   "execution_count": 1,
   "id": "aca42c79-1abf-4058-892d-ece01c2a5d21",
   "metadata": {},
   "outputs": [
    {
     "name": "stdin",
     "output_type": "stream",
     "text": [
      "Enter numbers separated by spaces:  1 2 3 4 5 6 9\n"
     ]
    },
    {
     "name": "stdout",
     "output_type": "stream",
     "text": [
      "The average (excluding the smallest and largest values) is: 4.00\n"
     ]
    }
   ],
   "source": [
    "def calculate_average(numbers):\n",
    "    if len(numbers) < 3:\n",
    "        print(\"Insufficient number of elements to calculate the average.\")\n",
    "        return None\n",
    "\n",
    "    numbers.sort()\n",
    "    excluded_numbers = numbers[1:-1]\n",
    "\n",
    "    average = sum(excluded_numbers) / len(excluded_numbers)\n",
    "    return average\n",
    "\n",
    "numbers = [float(num) for num in input(\"Enter numbers separated by spaces: \").split()]\n",
    "\n",
    "result = calculate_average(numbers)\n",
    "if result is not None:\n",
    "    print(f\"The average (excluding the smallest and largest values) is: {result:.2f}\")\n"
   ]
  },
  {
   "cell_type": "markdown",
   "id": "1cd0c411-b535-4003-be17-9716d62d634d",
   "metadata": {},
   "source": [
    "18. Develop a program that converts a given temperature from Celsius to Fahrenheit."
   ]
  },
  {
   "cell_type": "code",
   "execution_count": 2,
   "id": "a2a6297d-7bc8-4f01-82da-e786f9a11c51",
   "metadata": {},
   "outputs": [
    {
     "name": "stdin",
     "output_type": "stream",
     "text": [
      "Enter the temperature in Celsius:  102\n"
     ]
    },
    {
     "name": "stdout",
     "output_type": "stream",
     "text": [
      "102.0 degrees Celsius is equal to 215.60 degrees Fahrenheit.\n"
     ]
    }
   ],
   "source": [
    "# Get user input for the temperature in Celsius\n",
    "celsius = float(input(\"Enter the temperature in Celsius: \"))\n",
    "\n",
    "# Convert Celsius to Fahrenheit\n",
    "fahrenheit = (celsius * 9/5) + 32\n",
    "\n",
    "# Display the result\n",
    "print(f\"{celsius} degrees Celsius is equal to {fahrenheit:.2f} degrees Fahrenheit.\")\n"
   ]
  },
  {
   "cell_type": "markdown",
   "id": "a1426acf-ac1a-45d3-a67b-f1f9fb187283",
   "metadata": {},
   "source": [
    "19. Create a program that simulates a basic calculator for addition, subtraction, multiplication, and division."
   ]
  },
  {
   "cell_type": "code",
   "execution_count": 8,
   "id": "3e0ff802-d262-4abe-b2e2-b78c6394dd13",
   "metadata": {},
   "outputs": [
    {
     "name": "stdout",
     "output_type": "stream",
     "text": [
      "==== Basic Calculator ====\n",
      "1. Addition\n",
      "2. Subtraction\n",
      "3. Multiplication\n",
      "4. Division\n"
     ]
    },
    {
     "name": "stdin",
     "output_type": "stream",
     "text": [
      "Enter your choice (1-4):  1\n",
      "Enter the first number:  5\n",
      "Enter the second number:  5\n"
     ]
    },
    {
     "name": "stdout",
     "output_type": "stream",
     "text": [
      "Addition result: 10.0\n"
     ]
    }
   ],
   "source": [
    "# Display the calculator menu\n",
    "print(\"==== Basic Calculator ====\")\n",
    "print(\"1. Addition\")\n",
    "print(\"2. Subtraction\")\n",
    "print(\"3. Multiplication\")\n",
    "print(\"4. Division\")\n",
    "\n",
    "# Get user input for operation choice\n",
    "choice = input(\"Enter your choice (1-4): \")\n",
    "\n",
    "# Get user input for numbers\n",
    "num1 = float(input(\"Enter the first number: \"))\n",
    "num2 = float(input(\"Enter the second number: \"))\n",
    "\n",
    "# Perform the selected operation using elif statements\n",
    "if choice == \"1\":\n",
    "    result = num1 + num2\n",
    "    operation = \"Addition\"\n",
    "elif choice == \"2\":\n",
    "    result = num1 - num2\n",
    "    operation = \"Subtraction\"\n",
    "elif choice == \"3\":\n",
    "    result = num1 * num2\n",
    "    operation = \"Multiplication\"\n",
    "elif choice == \"4\":\n",
    "    if num2 != 0:\n",
    "        result = num1 / num2\n",
    "        operation = \"Division\"\n",
    "    else:\n",
    "        result = \"Cannot divide by zero\"\n",
    "        operation = \"\"\n",
    "else:\n",
    "    result = \"Invalid Choice\"\n",
    "    operation = \"\"\n",
    "\n",
    "# Display the result\n",
    "if operation:\n",
    "    print(f\"{operation} result: {result}\")\n",
    "else:\n",
    "    print(\"Invalid choice. Please enter a number between 1 and 4.\")\n"
   ]
  },
  {
   "cell_type": "markdown",
   "id": "54571acb-aad0-4463-bfb0-8168ab0d901c",
   "metadata": {},
   "source": [
    "20. Write a program that determines the roots of a cubic equation using the Cardano formula."
   ]
  },
  {
   "cell_type": "code",
   "execution_count": 4,
   "id": "02c479c6-998d-4358-9c5a-b048cdc99686",
   "metadata": {},
   "outputs": [
    {
     "name": "stdout",
     "output_type": "stream",
     "text": [
      "Roots: (-2.4629885699261074+0j)   (0.70935624258895+3.111320803194177j)   (0.70935624258895-3.111320803194177j)\n"
     ]
    }
   ],
   "source": [
    "import cmath\n",
    "a,b,c,d  = 2,4,6,8\n",
    "\n",
    "delta0 = c**2 - 3*b*a\n",
    "delta1 = 2*c**3 - 9*b*c*a + 27*a**2*d\n",
    "\n",
    "    # Calculate the discriminant of the cubic equation\n",
    "discriminant = delta1**2 - 4*delta0**3\n",
    "\n",
    "if discriminant > 0:\n",
    "        # Three real roots\n",
    "    C = ((delta1 + cmath.sqrt(discriminant))/2)**(1/3)\n",
    "    D = ((delta1 - cmath.sqrt(discriminant))/2)**(1/3)\n",
    "    root1 = -1/(3*a) * (b + C + D)\n",
    "    root2 = -1/(3*a) * (b - (1 + 1j * cmath.sqrt(3)) * C + (1 - 1j * cmath.sqrt(3)) * D)\n",
    "    root3 = -1/(3*a) * (b - (1 - 1j * cmath.sqrt(3)) * C + (1 + 1j * cmath.sqrt(3)) * D)\n",
    "    root1, root2, root3 = root1, root2, root3\n",
    "elif discriminant == 0:\n",
    "        # Three real roots, two of them are equal\n",
    "    root1 = -1/(3*a) * (b + cmath.sqrt(delta0)) + -1/(3*a) * (b - cmath.sqrt(delta0))\n",
    "    root2 = -1/(3*a) * (b - (1 + 1j * cmath.sqrt(3)) * cmath.sqrt(delta0)) + -1/(3*a) * (b - (1 - 1j * cmath.sqrt(3)) * cmath.sqrt(delta0))\n",
    "    root3 = -1/(3*a) * (b - (1 - 1j * cmath.sqrt(3)) * cmath.sqrt(delta0)) + -1/(3*a) * (b - (1 + 1j * cmath.sqrt(3)) * cmath.sqrt(delta0))\n",
    "    root1, root2, root3 = root1, root2, root3\n",
    "else:\n",
    "        # One real root, two complex roots\n",
    "    R = -(delta1/2 + cmath.sqrt(discriminant)/2)**(1/3)\n",
    "    S = -(delta1/2 - cmath.sqrt(discriminant)/2)**(1/3)\n",
    "    root1 = -1/(3*a) * (b + R + S)\n",
    "    root2 = -1/(3*a) * (b - (1 + 1j * cmath.sqrt(3)) * R + (1 - 1j * cmath.sqrt(3)) * S)\n",
    "    root3 = -1/(3*a) * (b - (1 - 1j * cmath.sqrt(3)) * R + (1 + 1j * cmath.sqrt(3)) * S)\n",
    "    root1, root2, root3 = root1, root2, root3\n",
    "print(\"Roots:\", root1, \" \", root2,\" \" ,root3)\n"
   ]
  },
  {
   "cell_type": "markdown",
   "id": "200fe2d3-e461-40ef-95f4-9b71e3f03fec",
   "metadata": {},
   "source": [
    "Advanced Level :"
   ]
  },
  {
   "cell_type": "markdown",
   "id": "08196b33-2459-443e-9b92-c703f7961301",
   "metadata": {},
   "source": [
    "21. Create a program that calculates the income tax based on the user's income and tax brackets."
   ]
  },
  {
   "cell_type": "code",
   "execution_count": 6,
   "id": "824e941c-e73a-4c1d-91ee-02a4e1e2ce4f",
   "metadata": {},
   "outputs": [
    {
     "name": "stdin",
     "output_type": "stream",
     "text": [
      "Enter your annual income:  50000\n"
     ]
    },
    {
     "name": "stdout",
     "output_type": "stream",
     "text": [
      "Your income tax is: $5092.0\n"
     ]
    }
   ],
   "source": [
    "brackets = [0, 18200, 45000, 120000, float('inf')]  # Upper limits of tax brackets\n",
    "rates = [0.0, 0.19, 0.325, 0.37, 0.45]  # Corresponding tax rates\n",
    "income = float(input(\"Enter your annual income: \"))\n",
    "\n",
    "    # Calculate tax for each bracket using elif\n",
    "tax = 0\n",
    "for i in range(1, len(brackets)):\n",
    "    if income <= brackets[i]:\n",
    "        tax += (income - brackets[i - 1]) * rates[i - 1]\n",
    "        break\n",
    "    elif income > brackets[i]:\n",
    "        tax += (brackets[i] - brackets[i - 1]) * rates[i - 1]\n",
    "    value = round(tax, 2)\n",
    "\n",
    "# Example usage:\n",
    "\n",
    "\n",
    "print(f\"Your income tax is: ${value}\")"
   ]
  },
  {
   "cell_type": "markdown",
   "id": "f895be5b-ce02-4bfa-b53d-0058cc3c3ca1",
   "metadata": {},
   "source": [
    "22. Write a program that simulates a rock-paper-scissors game against the computer."
   ]
  },
  {
   "cell_type": "code",
   "execution_count": 7,
   "id": "1781e689-7eb4-4163-a25d-ddba84c7cc55",
   "metadata": {},
   "outputs": [
    {
     "name": "stdout",
     "output_type": "stream",
     "text": [
      "Choose: rock, paper, or scissors\n"
     ]
    },
    {
     "name": "stdin",
     "output_type": "stream",
     "text": [
      " rock\n"
     ]
    },
    {
     "name": "stdout",
     "output_type": "stream",
     "text": [
      "You chose: rock\n",
      "Computer chose: paper\n",
      "Computer wins!\n"
     ]
    },
    {
     "name": "stdin",
     "output_type": "stream",
     "text": [
      "Do you want to play again? (yes/no):  no\n"
     ]
    }
   ],
   "source": [
    "import random\n",
    "\n",
    "def get_user_choice():\n",
    "    print(\"Choose: rock, paper, or scissors\")\n",
    "    user_choice = input().lower()\n",
    "    \n",
    "    while user_choice not in ['rock', 'paper', 'scissors']:\n",
    "        print(\"Invalid choice. Please choose: rock, paper, or scissors\")\n",
    "        user_choice = input().lower()\n",
    "    \n",
    "    return user_choice\n",
    "\n",
    "def get_computer_choice():\n",
    "    return random.choice(['rock', 'paper', 'scissors'])\n",
    "\n",
    "def determine_winner(user_choice, computer_choice):\n",
    "    if user_choice == computer_choice:\n",
    "        return \"It's a tie!\"\n",
    "    elif user_choice == 'rock' and computer_choice == 'scissors':\n",
    "        return \"You win!\"\n",
    "    elif user_choice == 'paper' and computer_choice == 'rock':\n",
    "        return \"You win!\"\n",
    "    elif user_choice == 'scissors' and computer_choice == 'paper':\n",
    "        return \"You win!\"\n",
    "    else:\n",
    "        return \"Computer wins!\"\n",
    "\n",
    "# Main game loop\n",
    "while True:\n",
    "    user_choice = get_user_choice()\n",
    "    computer_choice = get_computer_choice()\n",
    "\n",
    "    print(f\"You chose: {user_choice}\")\n",
    "    print(f\"Computer chose: {computer_choice}\")\n",
    "\n",
    "    result = determine_winner(user_choice, computer_choice)\n",
    "    print(result)\n",
    "\n",
    "    play_again = input(\"Do you want to play again? (yes/no): \").lower()\n",
    "    if play_again != 'yes':\n",
    "        break\n"
   ]
  },
  {
   "cell_type": "markdown",
   "id": "5acc005f-0571-4726-ab34-1c9db7dbd20b",
   "metadata": {},
   "source": [
    "23. Develop a program that generates a random password based on user preferences (length, complexity)."
   ]
  },
  {
   "cell_type": "code",
   "execution_count": 9,
   "id": "ffb42085-6b07-46f7-8c19-a238297156e1",
   "metadata": {},
   "outputs": [
    {
     "name": "stdin",
     "output_type": "stream",
     "text": [
      "Enter the length of the password:  10\n",
      "Enter the complexity (low/medium/high):  high\n"
     ]
    },
    {
     "name": "stdout",
     "output_type": "stream",
     "text": [
      "Generated Password: gkVZSI/uwG\n"
     ]
    }
   ],
   "source": [
    "import random\n",
    "import string\n",
    "\n",
    "def generate_password(length,complexity):\n",
    "    characters = \"\"\n",
    "    if complexity == \"low\":\n",
    "        characters  = string.ascii_letters + string.digits\n",
    "    elif complexity == 'medium':\n",
    "        characters = string.ascii_letters +  string.digits + string.punctuation\n",
    "    elif complexity == 'high':\n",
    "        characters = string.ascii_letters +  string.digits + string.punctuation + string.ascii_uppercase + string.ascii_lowercase\n",
    "        \n",
    "    \n",
    "    password =  ''.join(random.choice(characters) for _ in range(length))\n",
    "    return password\n",
    "length = int(input(\"Enter the length of the password: \"))\n",
    "complexity = input(\"Enter the complexity (low/medium/high): \").lower()\n",
    "\n",
    "# Generate and display the password\n",
    "password = generate_password(length, complexity)\n",
    "print(\"Generated Password:\", password)"
   ]
  },
  {
   "cell_type": "markdown",
   "id": "12f6c589-bd2c-4b87-a370-66068db99f27",
   "metadata": {},
   "source": [
    "24. Create a program that implements a simple text-based adventure game with branching scenarios."
   ]
  },
  {
   "cell_type": "code",
   "execution_count": 10,
   "id": "2f30021c-dbc5-44ca-8065-36e2fbbcc957",
   "metadata": {},
   "outputs": [
    {
     "name": "stdout",
     "output_type": "stream",
     "text": [
      "Welcome to the Text Adventure Game!\n",
      "You find yourself in a dark forest. What do you want to do?\n",
      "\n",
      "You decide to explore the forest.\n",
      "As you walk deeper, you encounter a mysterious cave and a river.\n",
      "\n",
      "Choose your action:\n",
      "1. Enter the cave\n",
      "2. Follow the river\n"
     ]
    },
    {
     "name": "stdin",
     "output_type": "stream",
     "text": [
      "Enter the number of your choice:  1\n"
     ]
    },
    {
     "name": "stdout",
     "output_type": "stream",
     "text": [
      "\n",
      "You enter the dark cave.\n",
      "Inside, you see a treasure chest and a sleeping dragon.\n",
      "\n",
      "Choose your action:\n",
      "1. Open the treasure chest\n",
      "2. Sneak past the dragon\n"
     ]
    },
    {
     "name": "stdin",
     "output_type": "stream",
     "text": [
      "Enter the number of your choice:  2\n"
     ]
    },
    {
     "name": "stdout",
     "output_type": "stream",
     "text": [
      "\n",
      "You successfully sneak past the dragon.\n",
      "You find yourself in a hidden chamber with valuable artifacts.\n"
     ]
    }
   ],
   "source": [
    "def introduction():\n",
    "    print(\"Welcome to the Text Adventure Game!\")\n",
    "    print(\"You find yourself in a dark forest. What do you want to do?\")\n",
    "\n",
    "def make_choice(options):\n",
    "    print(\"\\nChoose your action:\")\n",
    "    for i, option in enumerate(options, start=1):\n",
    "        print(f\"{i}. {option}\")\n",
    "\n",
    "    choice = input(\"Enter the number of your choice: \")\n",
    "    return int(choice) if choice.isdigit() and 1 <= int(choice) <= len(options) else 0\n",
    "\n",
    "def explore_forest():\n",
    "    print(\"\\nYou decide to explore the forest.\")\n",
    "    print(\"As you walk deeper, you encounter a mysterious cave and a river.\")\n",
    "\n",
    "    options = [\"Enter the cave\", \"Follow the river\"]\n",
    "    choice = make_choice(options)\n",
    "\n",
    "    if choice == 1:\n",
    "        enter_cave()\n",
    "    elif choice == 2:\n",
    "        follow_river()\n",
    "    else:\n",
    "        print(\"Invalid choice. Try again.\")\n",
    "        explore_forest()\n",
    "\n",
    "def enter_cave():\n",
    "    print(\"\\nYou enter the dark cave.\")\n",
    "    print(\"Inside, you see a treasure chest and a sleeping dragon.\")\n",
    "\n",
    "    options = [\"Open the treasure chest\", \"Sneak past the dragon\"]\n",
    "    choice = make_choice(options)\n",
    "\n",
    "    if choice == 1:\n",
    "        open_treasure_chest()\n",
    "    elif choice == 2:\n",
    "        sneak_past_dragon()\n",
    "    else:\n",
    "        print(\"Invalid choice. Try again.\")\n",
    "        enter_cave()\n",
    "\n",
    "def follow_river():\n",
    "    print(\"\\nYou follow the winding river.\")\n",
    "    print(\"Eventually, you come across a bridge guarded by trolls.\")\n",
    "\n",
    "    options = [\"Fight the trolls\", \"Try to sneak past them\"]\n",
    "    choice = make_choice(options)\n",
    "\n",
    "    if choice == 1:\n",
    "        fight_trolls()\n",
    "    elif choice == 2:\n",
    "        sneak_past_trolls()\n",
    "    else:\n",
    "        print(\"Invalid choice. Try again.\")\n",
    "        follow_river()\n",
    "\n",
    "def open_treasure_chest():\n",
    "    print(\"\\nYou open the treasure chest and find a magical amulet!\")\n",
    "    print(\"Congratulations! You have successfully completed the adventure.\")\n",
    "\n",
    "def sneak_past_dragon():\n",
    "    print(\"\\nYou successfully sneak past the dragon.\")\n",
    "    print(\"You find yourself in a hidden chamber with valuable artifacts.\")\n",
    "\n",
    "def fight_trolls():\n",
    "    print(\"\\nYou decide to fight the trolls.\")\n",
    "    print(\"It's a tough battle, but you manage to defeat them.\")\n",
    "    print(\"You continue your journey.\")\n",
    "\n",
    "def sneak_past_trolls():\n",
    "    print(\"\\nYou attempt to sneak past the trolls.\")\n",
    "    print(\"Unfortunately, they spot you and demand a toll.\")\n",
    "    print(\"You pay the toll and continue your journey.\")\n",
    "\n",
    "# Main game loop\n",
    "def main():\n",
    "    introduction()\n",
    "    explore_forest()\n",
    "\n",
    "if __name__ == \"__main__\":\n",
    "    main()\n"
   ]
  },
  {
   "cell_type": "markdown",
   "id": "44a31a33-0d72-4e75-a181-f81c0cf7172d",
   "metadata": {},
   "source": [
    "25. Build a program that solves a linear equation for x, considering different cases."
   ]
  },
  {
   "cell_type": "code",
   "execution_count": 12,
   "id": "17038802-d7dc-46c4-9650-df4a17563cd0",
   "metadata": {},
   "outputs": [
    {
     "name": "stdin",
     "output_type": "stream",
     "text": [
      "enter the co-ef 'a' : 10\n",
      "enter the co-ef 'b' : 55\n"
     ]
    },
    {
     "name": "stdout",
     "output_type": "stream",
     "text": [
      "the solution for the equation 10.0x + 55.0 = a is x = -5.5 \n"
     ]
    }
   ],
   "source": [
    "a = float(input(\"enter the co-ef 'a' :\"))\n",
    "b = float(input(\"enter the co-ef 'b' :\"))\n",
    "\n",
    "if a == 0 and b == 0:\n",
    "    state =\" Infinite solutions(identity equation)\"\n",
    "elif a == 0 and b != 0:\n",
    "    state = \" No solution (contradiction)\"\n",
    "\n",
    "else:\n",
    "    x = - b/a\n",
    "    state = f\"the solution for the equation {a}x + {b} = a is x = {x} \"\n",
    "print(state)"
   ]
  },
  {
   "cell_type": "code",
   "execution_count": 14,
   "id": "e84d46c5-98ed-4623-bd86-fb26b072de56",
   "metadata": {},
   "outputs": [
    {
     "name": "stdout",
     "output_type": "stream",
     "text": [
      "What is the capital of France?\n",
      "1. Berlin\n",
      "2. Paris\n",
      "3. London\n",
      "4. Rome\n"
     ]
    },
    {
     "name": "stdin",
     "output_type": "stream",
     "text": [
      "Enter the number of your answer:  2\n"
     ]
    },
    {
     "name": "stdout",
     "output_type": "stream",
     "text": [
      "Which planet is known as the Red Planet?\n",
      "1. Mars\n",
      "2. Venus\n",
      "3. Jupiter\n",
      "4. Saturn\n"
     ]
    },
    {
     "name": "stdin",
     "output_type": "stream",
     "text": [
      "Enter the number of your answer:  1\n"
     ]
    },
    {
     "name": "stdout",
     "output_type": "stream",
     "text": [
      "What is the largest mammal on Earth?\n",
      "1. Elephant\n",
      "2. Blue Whale\n",
      "3. Giraffe\n",
      "4. Hippopotamus\n"
     ]
    },
    {
     "name": "stdin",
     "output_type": "stream",
     "text": [
      "Enter the number of your answer:  2\n"
     ]
    },
    {
     "name": "stdout",
     "output_type": "stream",
     "text": [
      "\n",
      "Quiz completed!\n",
      "Your score: 3 out of 3\n"
     ]
    }
   ],
   "source": [
    "def ask_question(question, options, correct_answer):\n",
    "    print(question)\n",
    "    for i, option in enumerate(options, start=1):\n",
    "        print(f\"{i}. {option}\")\n",
    "\n",
    "    user_answer = input(\"Enter the number of your answer: \")\n",
    "    return int(user_answer) == correct_answer\n",
    "\n",
    "def run_quiz():\n",
    "    score = 0\n",
    "\n",
    "    # Question 1\n",
    "    question1 = \"What is the capital of France?\"\n",
    "    options1 = [\"Berlin\", \"Paris\", \"London\", \"Rome\"]\n",
    "    correct_answer1 = 2  # Paris\n",
    "    if ask_question(question1, options1, correct_answer1):\n",
    "        score += 1\n",
    "\n",
    "    # Question 2\n",
    "    question2 = \"Which planet is known as the Red Planet?\"\n",
    "    options2 = [\"Mars\", \"Venus\", \"Jupiter\", \"Saturn\"]\n",
    "    correct_answer2 = 1  # Mars\n",
    "    if ask_question(question2, options2, correct_answer2):\n",
    "        score += 1\n",
    "\n",
    "    # Question 3\n",
    "    question3 = \"What is the largest mammal on Earth?\"\n",
    "    options3 = [\"Elephant\", \"Blue Whale\", \"Giraffe\", \"Hippopotamus\"]\n",
    "    correct_answer3 = 2  # Blue Whale\n",
    "    if ask_question(question3, options3, correct_answer3):\n",
    "        score += 1\n",
    "\n",
    "    # Display final score\n",
    "    print(\"\\nQuiz completed!\")\n",
    "    print(f\"Your score: {score} out of 3\")\n",
    "\n",
    "if __name__ == \"__main__\":\n",
    "    run_quiz()\n"
   ]
  },
  {
   "cell_type": "markdown",
   "id": "0d0ead73-fbbf-4e54-a067-6f92cb93efb2",
   "metadata": {},
   "source": [
    "27. Develop a program that determines whether a given year is a prime number or not."
   ]
  },
  {
   "cell_type": "code",
   "execution_count": 15,
   "id": "12109d20-cae9-4269-aaa0-b7673710b115",
   "metadata": {},
   "outputs": [
    {
     "name": "stdout",
     "output_type": "stream",
     "text": [
      "5 is a prime number.\n"
     ]
    }
   ],
   "source": [
    "number = 5 \n",
    "if number <= 1:\n",
    "    print(f\"{number} is not a prime number.\")\n",
    "elif number == 2:\n",
    "    print(f\"{number} is a prime number.\")\n",
    "else:\n",
    "    for i in range(2, int(number**0.5) + 1):\n",
    "        if number % i == 0:\n",
    "            print(f\"{number} is not a prime number.\")\n",
    "            break\n",
    "        else:\n",
    "            print(f\"{number} is a prime number.\")\n",
    "            "
   ]
  },
  {
   "cell_type": "markdown",
   "id": "df0b1d82-d9d3-4574-8271-f984010c5f2a",
   "metadata": {},
   "source": [
    "28. Create a program that sorts three numbers in ascending order using conditional statements."
   ]
  },
  {
   "cell_type": "code",
   "execution_count": 16,
   "id": "733afd44-94fc-463e-b1da-4a72efde4627",
   "metadata": {},
   "outputs": [
    {
     "name": "stdin",
     "output_type": "stream",
     "text": [
      "Enter the first number:  2\n",
      "Enter the second number:  6\n",
      "Enter the third number:  4\n"
     ]
    },
    {
     "name": "stdout",
     "output_type": "stream",
     "text": [
      "Sorted Numbers: (2.0, 4.0, 6.0)\n"
     ]
    }
   ],
   "source": [
    "def sort_numbers(a, b, c):\n",
    "    if a <= b <= c:\n",
    "        return a, b, c\n",
    "    elif a <= c <= b:\n",
    "        return a, c, b\n",
    "    elif b <= a <= c:\n",
    "        return b, a, c\n",
    "    elif b <= c <= a:\n",
    "        return b, c, a\n",
    "    elif c <= a <= b:\n",
    "        return c, a, b\n",
    "    else:\n",
    "        return c, b, a\n",
    "\n",
    "# Get three numbers from the user\n",
    "num1 = float(input(\"Enter the first number: \"))\n",
    "num2 = float(input(\"Enter the second number: \"))\n",
    "num3 = float(input(\"Enter the third number: \"))\n",
    "\n",
    "# Sort the numbers and display the result\n",
    "sorted_numbers = sort_numbers(num1, num2, num3)\n",
    "print(\"Sorted Numbers:\", sorted_numbers)\n"
   ]
  },
  {
   "cell_type": "markdown",
   "id": "aba2b492-cc9e-455d-a158-21f015c33f58",
   "metadata": {},
   "source": [
    "29. Build a program that determines the roots of a quartic equation using numerical methods."
   ]
  },
  {
   "cell_type": "code",
   "execution_count": 17,
   "id": "e602e4f9-64de-4f7a-8863-ae991dd95dbd",
   "metadata": {},
   "outputs": [
    {
     "name": "stdin",
     "output_type": "stream",
     "text": [
      "Enter coefficient a:  1\n",
      "Enter coefficient b:  2\n",
      "Enter coefficient c:  2\n",
      "Enter coefficient d:  2\n",
      "Enter coefficient e:  22\n"
     ]
    },
    {
     "name": "stdout",
     "output_type": "stream",
     "text": [
      "Roots: []\n"
     ]
    }
   ],
   "source": [
    "def quartic_equation_roots(a, b, c, d, e, initial_guess=0.0, tolerance=1e-6, max_iterations=100):\n",
    "    # Define the quartic function and its derivative\n",
    "    def quartic_function(x):\n",
    "        return a * x**4 + b * x**3 + c * x**2 + d * x + e\n",
    "\n",
    "    def quartic_derivative(x):\n",
    "        return 4 * a * x**3 + 3 * b * x**2 + 2 * c * x + d\n",
    "\n",
    "    # Use Newton's method to find a root\n",
    "    root = initial_guess\n",
    "    for _ in range(max_iterations):\n",
    "        fx = quartic_function(root)\n",
    "        f_prime_x = quartic_derivative(root)\n",
    "\n",
    "        root -= fx / f_prime_x\n",
    "\n",
    "        if abs(fx) < tolerance:\n",
    "            return root\n",
    "\n",
    "    # If max_iterations is reached, return None (no convergence)\n",
    "    return None\n",
    "\n",
    "# Example usage:\n",
    "a = float(input(\"Enter coefficient a: \"))\n",
    "b = float(input(\"Enter coefficient b: \"))\n",
    "c = float(input(\"Enter coefficient c: \"))\n",
    "d = float(input(\"Enter coefficient d: \"))\n",
    "e = float(input(\"Enter coefficient e: \"))\n",
    "\n",
    "roots = []\n",
    "for i in range(4):\n",
    "    root = quartic_equation_roots(a, b, c, d, e)\n",
    "    if root is not None:\n",
    "        roots.append(root)\n",
    "        # Adjust coefficients for next root\n",
    "        a, b, c, d = 1, -sum(roots), sum([r**2 for r in roots]), -sum([r**3 for r in roots])\n",
    "    else:\n",
    "        break\n",
    "\n",
    "print(\"Roots:\", roots)\n"
   ]
  },
  {
   "cell_type": "markdown",
   "id": "3be39244-e79c-4c33-bc74-43be75ff414e",
   "metadata": {},
   "source": [
    "30. Write a program that calculates the BMI (Body Mass Index) and provides health recommendations based\n",
    "on the user's input."
   ]
  },
  {
   "cell_type": "code",
   "execution_count": 18,
   "id": "07b44e5d-535c-422a-88cb-f74786b54bea",
   "metadata": {},
   "outputs": [
    {
     "name": "stdout",
     "output_type": "stream",
     "text": [
      "underweight\n"
     ]
    }
   ],
   "source": [
    "weight = 85.2 #float(input(\"Enter your weight in kilograms: \"))\n",
    "height = 170 #float(input(\"Enter your weight in height: \"))\n",
    "bmi  = weight /(height**2)\n",
    "if bmi < 18.5:\n",
    "    category =\"underweight\"\n",
    "elif 18.5 <=bmi:\n",
    "    category = \"Normal weight\"\n",
    "elif 25 <=bmi<29.9:\n",
    "    category =\"overweight\"\n",
    "else :\n",
    "    category  =\"obese\"\n",
    "print(category)"
   ]
  },
  {
   "cell_type": "markdown",
   "id": "f1c73634-0d03-48d6-8139-f16cfec9d43e",
   "metadata": {},
   "source": [
    "Challenge Level:\n",
    "    "
   ]
  },
  {
   "cell_type": "markdown",
   "id": "756a8e7e-27c7-4b57-b769-aa3d84c75700",
   "metadata": {},
   "source": [
    "31. Create a program that validates a password based on complexity rules (length, characters, etc.)."
   ]
  },
  {
   "cell_type": "code",
   "execution_count": 1,
   "id": "c8384c9d-a416-488e-963d-0c576f64fb33",
   "metadata": {},
   "outputs": [
    {
     "name": "stdin",
     "output_type": "stream",
     "text": [
      "Enter a password:  iuhiEFEW123@#3\n"
     ]
    },
    {
     "name": "stdout",
     "output_type": "stream",
     "text": [
      "Password is valid.\n"
     ]
    }
   ],
   "source": [
    "import re\n",
    "\n",
    "def is_valid_password(password):\n",
    "    # Minimum length of 8 characters\n",
    "    if len(password) < 8:\n",
    "        return False\n",
    "    \n",
    "    # At least one uppercase letter\n",
    "    if not any(char.isupper() for char in password):\n",
    "        return False\n",
    "    \n",
    "    # At least one lowercase letter\n",
    "    if not any(char.islower() for char in password):\n",
    "        return False\n",
    "    \n",
    "    # At least one digit\n",
    "    if not any(char.isdigit() for char in password):\n",
    "        return False\n",
    "    \n",
    "    # At least one special character (e.g., !@#$%^&*)\n",
    "    special_characters = r\"[!@#$%^&*(),.?\\\":{}|<>]\"\n",
    "    if not re.search(special_characters, password):\n",
    "        return False\n",
    "    \n",
    "    # All checks passed, password is valid\n",
    "    return True\n",
    "\n",
    "# Example usage:\n",
    "password = input(\"Enter a password: \")\n",
    "if is_valid_password(password):\n",
    "    print(\"Password is valid.\")\n",
    "else:\n",
    "    print(\"Password is invalid.\")\n"
   ]
  },
  {
   "cell_type": "markdown",
   "id": "b8f045b4-9a5d-4fff-a21f-7ce63ef17254",
   "metadata": {},
   "source": [
    "32. Develop a program that performs matrix addition and subtraction based on user input."
   ]
  },
  {
   "cell_type": "code",
   "execution_count": null,
   "id": "52d68f9f-789c-42e7-b283-efc3dc36c9c6",
   "metadata": {},
   "outputs": [],
   "source": [
    "def input_matrix(rows, cols):\n",
    "    matrix = []\n",
    "    for i in range(rows):\n",
    "        row = []\n",
    "        for j in range(cols):\n",
    "            element = float(input(f\"Enter element at position ({i+1}, {j+1}): \"))\n",
    "            row.append(element)\n",
    "        matrix.append(row)\n",
    "    return matrix\n",
    "\n",
    "def add_matrices(matrix1, matrix2):\n",
    "    result = [[matrix1[i][j] + matrix2[i][j] for j in range(len(matrix1[0]))] for i in range(len(matrix1))]\n",
    "    return result\n",
    "\n",
    "def subtract_matrices(matrix1, matrix2):\n",
    "    result = [[matrix1[i][j] - matrix2[i][j] for j in range(len(matrix1[0]))] for i in range(len(matrix1))]\n",
    "    return result\n",
    "\n",
    "def display_matrix(matrix, title):\n",
    "    print(f\"{title}:\")\n",
    "    for row in matrix:\n",
    "        print(row)\n",
    "\n",
    "# Get dimensions of matrices from the user\n",
    "rows = int(input(\"Enter the number of rows for the matrices: \"))\n",
    "cols = int(input(\"Enter the number of columns for the matrices: \"))\n",
    "\n",
    "# Input the matrices\n",
    "print(\"\\nEnter elements for Matrix A:\")\n",
    "matrix_a = input_matrix(rows, cols)\n",
    "\n",
    "print(\"\\nEnter elements for Matrix B:\")\n",
    "matrix_b = input_matrix(rows, cols)\n",
    "\n",
    "# Perform addition and subtraction\n",
    "sum_matrix = add_matrices(matrix_a, matrix_b)\n",
    "difference_matrix = subtract_matrices(matrix_a, matrix_b)\n",
    "\n",
    "# Display the results\n",
    "print(\"\\nResults:\")\n",
    "display_matrix(sum_matrix, \"Matrix A + Matrix B\")\n",
    "display_matrix(difference_matrix, \"Matrix A - Matrix B\")\n"
   ]
  },
  {
   "cell_type": "code",
   "execution_count": 1,
   "id": "9d9b424f-e420-4494-a158-e4bb803b4043",
   "metadata": {},
   "outputs": [
    {
     "name": "stdin",
     "output_type": "stream",
     "text": [
      "Enter the first number:  10\n",
      "Enter the second number:  20\n"
     ]
    },
    {
     "name": "stdout",
     "output_type": "stream",
     "text": [
      "The GCD of 10 and 20 is: 10\n"
     ]
    }
   ],
   "source": [
    "def euclidean_gcd(a, b):\n",
    "    while b != 0:\n",
    "        a, b = b, a % b\n",
    "    return a\n",
    "\n",
    "# Get user input for two numbers\n",
    "num1 = int(input(\"Enter the first number: \"))\n",
    "num2 = int(input(\"Enter the second number: \"))\n",
    "\n",
    "# Calculate and display the GCD\n",
    "gcd = euclidean_gcd(num1, num2)\n",
    "print(f\"The GCD of {num1} and {num2} is: {gcd}\")\n"
   ]
  },
  {
   "cell_type": "markdown",
   "id": "9efb5f13-e2a0-4cc4-b622-88fc12283fdb",
   "metadata": {},
   "source": [
    "34. Build a program that performs matrix multiplication using nested loops and conditional statements."
   ]
  },
  {
   "cell_type": "code",
   "execution_count": null,
   "id": "2a0f221b-1a9a-492a-87b1-04309f087a13",
   "metadata": {},
   "outputs": [
    {
     "name": "stdin",
     "output_type": "stream",
     "text": [
      "Enter the number of rows for Matrix A:  1\n",
      "Enter the number of columns for Matrix A:  2\n"
     ]
    }
   ],
   "source": [
    "def input_matrix(rows, cols):\n",
    "    matrix = []\n",
    "    for i in range(rows):\n",
    "        row = []\n",
    "        for j in range(cols):\n",
    "            element = float(input(f\"Enter element at position ({i+1}, {j+1}): \"))\n",
    "            row.append(element)\n",
    "        matrix.append(row)\n",
    "    return matrix\n",
    "def multiply_matrices(matrix1, matrix2):\n",
    "    if len(matrix1[0]) != len(matrix2):\n",
    "        print(\"Error: Matrix multiplication not possible. Number of columns in Matrix A must be equal to the number of rows in Matrix B.\")\n",
    "        return None\n",
    "\n",
    "    result = [[0 for _ in range(len(matrix2[0]))] for _ in range(len(matrix1))]\n",
    "    \n",
    "    for i in range(len(matrix1)):\n",
    "        for j in range(len(matrix2[0])):\n",
    "            for k in range(len(matrix2)):\n",
    "                result[i][j] += matrix1[i][k] * matrix2[k][j]\n",
    "\n",
    "    return result\n",
    "\n",
    "def display_matrix(matrix, title):\n",
    "    print(f\"{title}:\")\n",
    "    for row in matrix:\n",
    "        print(row)\n",
    "\n",
    "# Get dimensions of matrices from the user\n",
    "rows_a = int(input(\"Enter the number of rows for Matrix A: \"))\n",
    "cols_a = int(input(\"Enter the number of columns for Matrix A: \"))\n",
    "\n",
    "rows_b = int(input(\"Enter the number of rows for Matrix B: \"))\n",
    "cols_b = int(input(\"Enter the number of columns for Matrix B: \"))\n",
    "\n",
    "# Input the matrices\n",
    "print(\"\\nEnter elements for Matrix A:\")\n",
    "matrix_a = input_matrix(rows_a, cols_a)\n",
    "\n",
    "print(\"\\nEnter elements for Matrix B:\")\n",
    "matrix_b = input_matrix(rows_b, cols_b)\n",
    "\n",
    "# Perform matrix multiplication\n",
    "product_matrix = multiply_matrices(matrix_a, matrix_b)\n",
    "\n",
    "# Display the result\n",
    "if product_matrix is not None:\n",
    "    print(\"\\nResult:\")\n",
    "    display_matrix(product_matrix, \"Matrix A * Matrix B\")\n"
   ]
  },
  {
   "cell_type": "markdown",
   "id": "cb6fe1a9-28a0-484f-85e3-3964c2cf5ed7",
   "metadata": {},
   "source": [
    "35. Create a program that simulates a basic text-based tic-tac-toe game against the computer."
   ]
  },
  {
   "cell_type": "code",
   "execution_count": 3,
   "id": "2984421f-8d07-4d03-b8e9-f25807d1f97d",
   "metadata": {},
   "outputs": [
    {
     "name": "stdout",
     "output_type": "stream",
     "text": [
      "  |   |  \n",
      "-----\n",
      "  |   |  \n",
      "-----\n",
      "  |   |  \n",
      "-----\n"
     ]
    },
    {
     "name": "stdin",
     "output_type": "stream",
     "text": [
      "Enter your move (1-9):  1\n"
     ]
    },
    {
     "name": "stdout",
     "output_type": "stream",
     "text": [
      "\n",
      "Computer plays at 5\n",
      "X |   |  \n",
      "-----\n",
      "  | O |  \n",
      "-----\n",
      "  |   |  \n",
      "-----\n"
     ]
    },
    {
     "name": "stdin",
     "output_type": "stream",
     "text": [
      "Enter your move (1-9):  3\n"
     ]
    },
    {
     "name": "stdout",
     "output_type": "stream",
     "text": [
      "\n",
      "Computer plays at 7\n",
      "X |   | X\n",
      "-----\n",
      "  | O |  \n",
      "-----\n",
      "O |   |  \n",
      "-----\n"
     ]
    },
    {
     "name": "stdin",
     "output_type": "stream",
     "text": [
      "Enter your move (1-9):  2\n"
     ]
    },
    {
     "name": "stdout",
     "output_type": "stream",
     "text": [
      "X | X | X\n",
      "-----\n",
      "  | O |  \n",
      "-----\n",
      "O |   |  \n",
      "-----\n",
      "Congratulations! You win!\n"
     ]
    }
   ],
   "source": [
    "import random\n",
    "\n",
    "def print_board(board):\n",
    "    for row in board:\n",
    "        print(\" | \".join(row))\n",
    "        print(\"-\" * 5)\n",
    "\n",
    "def check_winner(board, player):\n",
    "    for line in board + list(zip(*board)) + [(board[0][0], board[1][1], board[2][2]), (board[0][2], board[1][1], board[2][0])]:\n",
    "        if all(cell == player for cell in line):\n",
    "            return True\n",
    "    return False\n",
    "\n",
    "def is_board_full(board):\n",
    "    return all(cell != \" \" for row in board for cell in row)\n",
    "\n",
    "def get_player_move():\n",
    "    return int(input(\"Enter your move (1-9): \")) - 1\n",
    "\n",
    "def get_computer_move(board):\n",
    "    empty_cells = [i for i, cell in enumerate(board[0] + board[1] + board[2]) if cell == \" \"]\n",
    "    return random.choice(empty_cells)\n",
    "\n",
    "def main():\n",
    "    board = [[\" \" for _ in range(3)] for _ in range(3)]\n",
    "    player_symbol = \"X\"\n",
    "    computer_symbol = \"O\"\n",
    "\n",
    "    while True:\n",
    "        # Player's move\n",
    "        print_board(board)\n",
    "        player_move = get_player_move()\n",
    "        if board[player_move // 3][player_move % 3] == \" \":\n",
    "            board[player_move // 3][player_move % 3] = player_symbol\n",
    "        else:\n",
    "            print(\"Cell already taken. Try again.\")\n",
    "            continue\n",
    "\n",
    "        if check_winner(board, player_symbol):\n",
    "            print_board(board)\n",
    "            print(\"Congratulations! You win!\")\n",
    "            break\n",
    "\n",
    "        if is_board_full(board):\n",
    "            print_board(board)\n",
    "            print(\"It's a tie!\")\n",
    "            break\n",
    "\n",
    "        # Computer's move\n",
    "        computer_move = get_computer_move(board)\n",
    "        print(f\"\\nComputer plays at {computer_move + 1}\")\n",
    "        board[computer_move // 3][computer_move % 3] = computer_symbol\n",
    "\n",
    "        if check_winner(board, computer_symbol):\n",
    "            print_board(board)\n",
    "            print(\"Sorry, you lose. The computer wins!\")\n",
    "            break\n",
    "\n",
    "        if is_board_full(board):\n",
    "            print_board(board)\n",
    "            print(\"It's a tie!\")\n",
    "            break\n",
    "\n",
    "if __name__ == \"__main__\":\n",
    "    main()\n"
   ]
  },
  {
   "cell_type": "markdown",
   "id": "54bfd9ef-ea65-4901-986c-402c0599be4e",
   "metadata": {},
   "source": [
    "36. Write a program that generates Fibonacci numbers up to a specified term using iterative methods."
   ]
  },
  {
   "cell_type": "code",
   "execution_count": 4,
   "id": "0ed885e1-4990-4858-b4a6-84856deaa2f1",
   "metadata": {},
   "outputs": [
    {
     "name": "stdin",
     "output_type": "stream",
     "text": [
      "Enter the number of Fibonacci terms to generate:  5\n"
     ]
    },
    {
     "name": "stdout",
     "output_type": "stream",
     "text": [
      "Fibonacci sequence up to term 5: [0, 1, 1, 2, 3]\n"
     ]
    }
   ],
   "source": [
    "def generate_fibonacci(n):\n",
    "    fibonacci_sequence = [0, 1]\n",
    "\n",
    "    while len(fibonacci_sequence) < n:\n",
    "        next_number = fibonacci_sequence[-1] + fibonacci_sequence[-2]\n",
    "        fibonacci_sequence.append(next_number)\n",
    "\n",
    "    return fibonacci_sequence\n",
    "\n",
    "def main():\n",
    "    n = int(input(\"Enter the number of Fibonacci terms to generate: \"))\n",
    "\n",
    "    if n <= 0:\n",
    "        print(\"Please enter a positive integer.\")\n",
    "    else:\n",
    "        fibonacci_sequence = generate_fibonacci(n)\n",
    "        print(f\"Fibonacci sequence up to term {n}: {fibonacci_sequence}\")\n",
    "\n",
    "if __name__ == \"__main__\":\n",
    "    main()\n"
   ]
  },
  {
   "cell_type": "markdown",
   "id": "8dc8ad60-0693-4b0d-8dbf-82f912875d72",
   "metadata": {},
   "source": [
    "37. Develop a program that calculates the nth term of the Fibonacci sequence using memoization."
   ]
  },
  {
   "cell_type": "code",
   "execution_count": 5,
   "id": "2926e6fb-7ed1-4f79-a991-874e7c0f09a6",
   "metadata": {},
   "outputs": [
    {
     "name": "stdin",
     "output_type": "stream",
     "text": [
      "Enter the value of n to calculate the nth Fibonacci term:  10\n"
     ]
    },
    {
     "name": "stdout",
     "output_type": "stream",
     "text": [
      "The 10th Fibonacci term is: 34\n"
     ]
    }
   ],
   "source": [
    "def fibonacci_memo(n, memo={}):\n",
    "    if n <= 0:\n",
    "        return \"Please enter a positive integer.\"\n",
    "\n",
    "    if n == 1:\n",
    "        return 0\n",
    "    elif n == 2:\n",
    "        return 1\n",
    "    elif n in memo:\n",
    "        return memo[n]\n",
    "    else:\n",
    "        result = fibonacci_memo(n - 1, memo) + fibonacci_memo(n - 2, memo)\n",
    "        memo[n] = result\n",
    "        return result\n",
    "\n",
    "def main():\n",
    "    n = int(input(\"Enter the value of n to calculate the nth Fibonacci term: \"))\n",
    "    result = fibonacci_memo(n)\n",
    "    print(f\"The {n}th Fibonacci term is: {result}\")\n",
    "\n",
    "if __name__ == \"__main__\":\n",
    "    main()\n"
   ]
  },
  {
   "cell_type": "markdown",
   "id": "fe98c011-5b5b-4487-a718-549cbbc1a2cb",
   "metadata": {},
   "source": [
    "38. Create a program that generates a calendar for a given month and year using conditional statements."
   ]
  },
  {
   "cell_type": "code",
   "execution_count": 10,
   "id": "e69e9bcf-8227-48ff-9113-7fa257018995",
   "metadata": {},
   "outputs": [
    {
     "name": "stdin",
     "output_type": "stream",
     "text": [
      "Enter the year:  2024\n",
      "Enter the month (1-12):  1\n"
     ]
    },
    {
     "name": "stdout",
     "output_type": "stream",
     "text": [
      "\n",
      " January 2024\n",
      " Mo Tu We Th Fr Sa Su\n",
      " 1  2  3  4  5  6  7 \n",
      " 8  9 10 11 12 13 14 \n",
      "15 16 17 18 19 20 21 \n",
      "22 23 24 25 26 27 28 \n",
      "29 30 31                 \n"
     ]
    }
   ],
   "source": [
    "import calendar\n",
    "\n",
    "def generate_calendar(year, month):\n",
    "    if 1 <= month <= 12:\n",
    "        cal = calendar.monthcalendar(year, month)\n",
    "        print(\"\\n\", calendar.month_name[month], year)\n",
    "        print(\" Mo Tu We Th Fr Sa Su\")\n",
    "\n",
    "        for week in cal:\n",
    "            for day in week:\n",
    "                print(f\"{day:2}\" if day != 0 else \"   \", end=\" \")\n",
    "            print()\n",
    "    else:\n",
    "        print(\"Invalid month. Please enter a month between 1 and 12.\")\n",
    "\n",
    "def main():\n",
    "    year = int(input(\"Enter the year: \"))\n",
    "    month = int(input(\"Enter the month (1-12): \"))\n",
    "    generate_calendar(year, month)\n",
    "\n",
    "if __name__ == \"__main__\":\n",
    "    main()\n"
   ]
  },
  {
   "cell_type": "markdown",
   "id": "52701174-6255-41be-8428-9bdfa48b2e38",
   "metadata": {},
   "source": [
    "39. Build a program that simulates a basic text-based blackjack game against the computer."
   ]
  },
  {
   "cell_type": "code",
   "execution_count": 12,
   "id": "df253c0c-4706-4783-999c-e2e5d9772924",
   "metadata": {},
   "outputs": [
    {
     "name": "stdout",
     "output_type": "stream",
     "text": [
      "\n",
      "Your cards: ['5', '2'], current score: 7\n",
      "Computer's first card: 5\n"
     ]
    },
    {
     "name": "stdin",
     "output_type": "stream",
     "text": [
      "Type 'y' to get another card, 'n' to pass:  n\n"
     ]
    },
    {
     "name": "stdout",
     "output_type": "stream",
     "text": [
      "\n",
      "Your final hand: ['5', '2'], final score: 7\n",
      "Computer's final hand: ['5', '10', '2'], final score: 17\n",
      "You lose!\n"
     ]
    }
   ],
   "source": [
    "import random\n",
    "\n",
    "def draw_card():\n",
    "    return random.choice(['2', '3', '4', '5', '6', '7', '8', '9', '10', 'J', 'Q', 'K', 'A'])\n",
    "\n",
    "def calculate_score(cards):\n",
    "    score = sum(11 if card == 'A' else 10 if card in ['K', 'Q', 'J'] else int(card) for card in cards)\n",
    "    num_aces = cards.count('A')\n",
    "\n",
    "    while score > 21 and num_aces:\n",
    "        score -= 10\n",
    "        num_aces -= 1\n",
    "\n",
    "    return score\n",
    "\n",
    "def blackjack():\n",
    "    player_cards = [draw_card(), draw_card()]\n",
    "    computer_cards = [draw_card(), draw_card()]\n",
    "\n",
    "    while True:\n",
    "        player_score = calculate_score(player_cards)\n",
    "        computer_score = calculate_score(computer_cards)\n",
    "\n",
    "        print(f\"\\nYour cards: {player_cards}, current score: {player_score}\")\n",
    "        print(f\"Computer's first card: {computer_cards[0]}\")\n",
    "\n",
    "        if player_score == 0 or computer_score == 0 or player_score > 21:\n",
    "            break\n",
    "\n",
    "        draw_another_card = input(\"Type 'y' to get another card, 'n' to pass: \")\n",
    "        if draw_another_card.lower() == 'y':\n",
    "            player_cards.append(draw_card())\n",
    "        else:\n",
    "            break\n",
    "\n",
    "    while computer_score != 0 and computer_score < 17:\n",
    "        computer_cards.append(draw_card())\n",
    "        computer_score = calculate_score(computer_cards)\n",
    "\n",
    "    print(f\"\\nYour final hand: {player_cards}, final score: {player_score}\")\n",
    "    print(f\"Computer's final hand: {computer_cards}, final score: {computer_score}\")\n",
    "\n",
    "    if player_score > 21 or (computer_score <= 21 and player_score < computer_score):\n",
    "        print(\"You lose!\")\n",
    "    elif computer_score > 21 or player_score > computer_score:\n",
    "        print(\"You win!\")\n",
    "    else:\n",
    "        print(\"It's a draw!\")\n",
    "\n",
    "if __name__ == \"__main__\":\n",
    "    blackjack()\n"
   ]
  },
  {
   "cell_type": "markdown",
   "id": "f32377cf-b46a-4c8f-a2f1-208a82bf4fc9",
   "metadata": {},
   "source": [
    "40. Write a program that generates the prime factors of a given number using trial division."
   ]
  },
  {
   "cell_type": "code",
   "execution_count": 13,
   "id": "a6ad1ded-538a-4385-956d-9fd993616771",
   "metadata": {},
   "outputs": [
    {
     "name": "stdin",
     "output_type": "stream",
     "text": [
      "Enter a number to find its prime factors:  10\n"
     ]
    },
    {
     "name": "stdout",
     "output_type": "stream",
     "text": [
      "The prime factors of 10 are: [2, 5]\n"
     ]
    }
   ],
   "source": [
    "def generate_prime_factors(number):\n",
    "    prime_factors = []\n",
    "\n",
    "    # Divide by 2 until it's an odd number\n",
    "    while number % 2 == 0:\n",
    "        prime_factors.append(2)\n",
    "        number //= 2\n",
    "\n",
    "    # Divide by odd numbers starting from 3\n",
    "    for i in range(3, int(number**0.5) + 1, 2):\n",
    "        while number % i == 0:\n",
    "            prime_factors.append(i)\n",
    "            number //= i\n",
    "\n",
    "    # If the remaining number is greater than 2, it's a prime factor\n",
    "    if number > 2:\n",
    "        prime_factors.append(number)\n",
    "\n",
    "    return prime_factors\n",
    "\n",
    "def main():\n",
    "    num = int(input(\"Enter a number to find its prime factors: \"))\n",
    "\n",
    "    if num < 2:\n",
    "        print(\"Prime factors are not defined for numbers less than 2.\")\n",
    "    else:\n",
    "        factors = generate_prime_factors(num)\n",
    "        print(f\"The prime factors of {num} are: {factors}\")\n",
    "\n",
    "if __name__ == \"__main__\":\n",
    "    main()\n"
   ]
  },
  {
   "cell_type": "code",
   "execution_count": null,
   "id": "b06ad8ba-3da9-4370-ad99-14551840ff95",
   "metadata": {},
   "outputs": [],
   "source": []
  }
 ],
 "metadata": {
  "kernelspec": {
   "display_name": "Python 3 (ipykernel)",
   "language": "python",
   "name": "python3"
  },
  "language_info": {
   "codemirror_mode": {
    "name": "ipython",
    "version": 3
   },
   "file_extension": ".py",
   "mimetype": "text/x-python",
   "name": "python",
   "nbconvert_exporter": "python",
   "pygments_lexer": "ipython3",
   "version": "3.10.8"
  }
 },
 "nbformat": 4,
 "nbformat_minor": 5
}
