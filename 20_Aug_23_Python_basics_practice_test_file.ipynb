{
 "cells": [
  {
   "cell_type": "markdown",
   "id": "2b5e3f98-c9e3-41a3-a182-c56755e8dae6",
   "metadata": {},
   "source": [
    "1. Write a program to reverse a string."
   ]
  },
  {
   "cell_type": "code",
   "execution_count": 4,
   "id": "0b83c846-cb08-4e47-b1bf-5f6f05d288e1",
   "metadata": {},
   "outputs": [
    {
     "name": "stdin",
     "output_type": "stream",
     "text": [
      "Enter the sentence: ent\n"
     ]
    },
    {
     "name": "stdout",
     "output_type": "stream",
     "text": [
      "ent\n",
      "tne\n"
     ]
    }
   ],
   "source": [
    "string = str(input('Enter the sentence:'))\n",
    "print(string)\n",
    "a=string[::-1]\n",
    "print(a)"
   ]
  },
  {
   "cell_type": "markdown",
   "id": "b72177a6-1e95-4264-86ee-1d962f1cb0bf",
   "metadata": {},
   "source": [
    "2. Check if a string is a palindrome."
   ]
  },
  {
   "cell_type": "code",
   "execution_count": 8,
   "id": "4277c5a2-9633-4cd8-83df-5e54131c7e90",
   "metadata": {},
   "outputs": [
    {
     "name": "stdin",
     "output_type": "stream",
     "text": [
      "Enter the sentence: racecar\n"
     ]
    },
    {
     "name": "stdout",
     "output_type": "stream",
     "text": [
      "racecar\n",
      "racecar\n",
      "string is palidrome\n"
     ]
    }
   ],
   "source": [
    "string1 = str(input('Enter the sentence:'))\n",
    "print(string1)\n",
    "reverse_string=string1[::-1]\n",
    "print(reverse_string)\n",
    "if string1==reverse_string:\n",
    "    print(\"string is palidrome\")\n",
    "else:\n",
    "    print(\"Not palindrome\")\n",
    "    "
   ]
  },
  {
   "cell_type": "markdown",
   "id": "d018ffa6-83c2-43e9-8072-de007aca8a96",
   "metadata": {},
   "source": [
    "3. Convert a string to uppercase."
   ]
  },
  {
   "cell_type": "code",
   "execution_count": 1,
   "id": "9bd8e6f5-e6ce-4118-b21f-b40f9eb6e4a7",
   "metadata": {},
   "outputs": [
    {
     "name": "stdin",
     "output_type": "stream",
     "text": [
      "Enter the sentence: abcdef\n"
     ]
    },
    {
     "name": "stdout",
     "output_type": "stream",
     "text": [
      "abcdef\n",
      "ABCDEF\n"
     ]
    }
   ],
   "source": [
    "l_string = str(input('Enter the sentence:'))\n",
    "print(l_string)\n",
    "upper_case=l_string.upper()\n",
    "print(upper_case)"
   ]
  },
  {
   "cell_type": "markdown",
   "id": "a57a1652-0d09-47e6-b3ed-23669d7aca12",
   "metadata": {},
   "source": [
    "4.Convert a string to lowercase."
   ]
  },
  {
   "cell_type": "code",
   "execution_count": 2,
   "id": "9d213006-c37d-4785-8823-a18ec3941542",
   "metadata": {},
   "outputs": [
    {
     "name": "stdin",
     "output_type": "stream",
     "text": [
      "Enter the sentence: ABCDEF\n"
     ]
    },
    {
     "name": "stdout",
     "output_type": "stream",
     "text": [
      "abcdef\n",
      "abcdef\n"
     ]
    }
   ],
   "source": [
    "u_string = str(input('Enter the sentence:'))\n",
    "print(l_string)\n",
    "lower_case=u_string.lower()\n",
    "print(lower_case)"
   ]
  },
  {
   "cell_type": "markdown",
   "id": "fa24304d-51c9-42da-b040-4fc44ffa5b14",
   "metadata": {},
   "source": [
    "5. Count the number of vowels in a string."
   ]
  },
  {
   "cell_type": "code",
   "execution_count": 6,
   "id": "4a1326ca-4929-4067-9f1d-59e1eec5bd62",
   "metadata": {},
   "outputs": [
    {
     "name": "stdin",
     "output_type": "stream",
     "text": [
      "Enter the sentence: cat\n"
     ]
    },
    {
     "name": "stdout",
     "output_type": "stream",
     "text": [
      "cat\n",
      "vowels count: 1\n"
     ]
    }
   ],
   "source": [
    "letters =str(input('Enter the sentence:'))\n",
    "print(letters)\n",
    "\n",
    "count =0\n",
    "for i in letters:\n",
    "    if i in 'aeiou':\n",
    "        count+=1\n",
    "print(\"vowels count:\",count)\n",
    "        \n",
    "             \n"
   ]
  },
  {
   "cell_type": "markdown",
   "id": "f7e98b7a-00a0-4f97-bdcc-f573c7363a9a",
   "metadata": {},
   "source": [
    "6. Count the number of consonants in a string."
   ]
  },
  {
   "cell_type": "code",
   "execution_count": 7,
   "id": "9f7ece16-c386-40b8-add9-6e920b097f23",
   "metadata": {},
   "outputs": [
    {
     "name": "stdin",
     "output_type": "stream",
     "text": [
      "Enter the sentence: dog\n"
     ]
    },
    {
     "name": "stdout",
     "output_type": "stream",
     "text": [
      "dog\n",
      "consonants count: 2\n"
     ]
    }
   ],
   "source": [
    "letters =str(input('Enter the sentence:'))\n",
    "print(letters)\n",
    "\n",
    "count =0\n",
    "for i in letters:\n",
    "    if i not in 'aeiou':\n",
    "        count+=1\n",
    "print(\"consonants count:\",count)\n",
    "        \n",
    "             \n"
   ]
  },
  {
   "cell_type": "markdown",
   "id": "176c3ef1-03b6-4de0-9d6c-7cfd4bfe159c",
   "metadata": {},
   "source": [
    "7. Remove all whitespaces from a string."
   ]
  },
  {
   "cell_type": "code",
   "execution_count": 3,
   "id": "73c87823-2efe-4434-896c-41229b341ba1",
   "metadata": {},
   "outputs": [
    {
     "name": "stdin",
     "output_type": "stream",
     "text": [
      "Enter the sentence: all is well\n"
     ]
    },
    {
     "name": "stdout",
     "output_type": "stream",
     "text": [
      "all is well\n",
      "alliswell\n"
     ]
    }
   ],
   "source": [
    "stripe= str(input('Enter the sentence:'))\n",
    "print(stripe)\n",
    "a =\"\".join(stripe.replace(\" \",\"\"))\n",
    "print(a)\n",
    "\n"
   ]
  },
  {
   "cell_type": "markdown",
   "id": "0bc45b80-75ee-4c91-af58-a2745fc24636",
   "metadata": {},
   "source": [
    "8.Find the length of a string without using the `len()` function."
   ]
  },
  {
   "cell_type": "code",
   "execution_count": 8,
   "id": "615d445b-370c-481c-8b62-9862f0e3933e",
   "metadata": {},
   "outputs": [
    {
     "name": "stdin",
     "output_type": "stream",
     "text": [
      "Enter the sentence: al\n"
     ]
    },
    {
     "name": "stdout",
     "output_type": "stream",
     "text": [
      "al\n",
      "len_of_sentence: 2\n"
     ]
    }
   ],
   "source": [
    "sen= str(input('Enter the sentence:'))\n",
    "print(sen) \n",
    "count=0\n",
    "for i in sen:\n",
    "    if i!= None:\n",
    "        count+=1\n",
    "print(\"len_of_sentence:\",count)\n",
    "        \n",
    "    "
   ]
  },
  {
   "cell_type": "markdown",
   "id": "6933b08f-62eb-4212-945e-376270a6253c",
   "metadata": {},
   "source": [
    "9. Check if a string contains a specific word."
   ]
  },
  {
   "cell_type": "code",
   "execution_count": 6,
   "id": "317fb039-62ad-4920-bda8-b073d699527f",
   "metadata": {},
   "outputs": [
    {
     "name": "stdin",
     "output_type": "stream",
     "text": [
      "Enter the sentence: hi hello\n",
      "Enter the spc sentence: helo\n"
     ]
    },
    {
     "name": "stdout",
     "output_type": "stream",
     "text": [
      "hi hello helo\n",
      "Substring not found in the string.\n"
     ]
    }
   ],
   "source": [
    "\n",
    "normal_sentence = str(input('Enter the sentence:'))\n",
    "specified_word = str(input('Enter the spc sentence:'))\n",
    "print(normal_sentence,specified_word)\n",
    "if specified_word in normal_sentence:\n",
    "    print(\"Substring found in the string.\")\n",
    "else:\n",
    "    print(\"Substring not found in the string.\")\n",
    "    \n",
    "   \n",
    "      "
   ]
  },
  {
   "cell_type": "markdown",
   "id": "9d2153b6-7f63-4f35-adfc-ba03902e4f1e",
   "metadata": {},
   "source": [
    "10.Replace a word in a string with another word."
   ]
  },
  {
   "cell_type": "code",
   "execution_count": 7,
   "id": "b88ba503-654b-4255-88a5-ffc848e82cfb",
   "metadata": {},
   "outputs": [
    {
     "name": "stdin",
     "output_type": "stream",
     "text": [
      "Enter the sentence: hi iam rohan\n"
     ]
    },
    {
     "name": "stdout",
     "output_type": "stream",
     "text": [
      "enter sentence : hi iam rohan specific: mary\n",
      "hi iam mary\n"
     ]
    }
   ],
   "source": [
    "normal_sentence = str(input('Enter the sentence:'))\n",
    "print(\"enter sentence :\",normal_sentence,\"specific:\",replace_word)\n",
    "changed_sentence = normal_sentence.replace(\"rohan\",\"mary\")\n",
    "print(changed_sentence)\n"
   ]
  },
  {
   "cell_type": "markdown",
   "id": "87662d4f-a4bb-43cd-aba8-028525ad67f3",
   "metadata": {},
   "source": [
    "11.Count the occurrences of a word in a string."
   ]
  },
  {
   "cell_type": "code",
   "execution_count": 10,
   "id": "ae4115c1-1db0-4664-9ae1-bdc2cdaf9e40",
   "metadata": {},
   "outputs": [
    {
     "name": "stdin",
     "output_type": "stream",
     "text": [
      "Enter the sentence: bharath,bharath\n"
     ]
    },
    {
     "name": "stdout",
     "output_type": "stream",
     "text": [
      "enter sentence : bharath,bharath\n",
      "counting a word: 2\n"
     ]
    }
   ],
   "source": [
    "counting_word = str(input('Enter the sentence:'))\n",
    "print(\"enter sentence :\",counting_word)\n",
    "print(\"counting a word:\",counting_word.count(\"bharath\"))"
   ]
  },
  {
   "cell_type": "markdown",
   "id": "7b0fe52e-1de6-41be-993d-a497bc42e27b",
   "metadata": {},
   "source": [
    "12.Find the first occurrence of a word in a string."
   ]
  },
  {
   "cell_type": "code",
   "execution_count": 3,
   "id": "098a66e8-f8b6-4786-9cb6-f660cc72f3df",
   "metadata": {},
   "outputs": [
    {
     "name": "stdin",
     "output_type": "stream",
     "text": [
      "enter the senetence: chandan raj cl\n"
     ]
    },
    {
     "name": "stdout",
     "output_type": "stream",
     "text": [
      "chandan raj cl\n",
      "chandan\n"
     ]
    }
   ],
   "source": [
    "occr = str(input(\"enter the senetence:\"))\n",
    "print(occr)\n",
    "word = occr.split()\n",
    "print(word[0])\n"
   ]
  },
  {
   "cell_type": "markdown",
   "id": "3b6a466e-f517-4c48-98aa-95c67f8d1081",
   "metadata": {},
   "source": [
    "13. Find the last occurrence of a word in a string."
   ]
  },
  {
   "cell_type": "code",
   "execution_count": 4,
   "id": "342e6216-750e-465b-9b2d-bf036415deb6",
   "metadata": {},
   "outputs": [
    {
     "name": "stdin",
     "output_type": "stream",
     "text": [
      "enter the senetence: chandan raj cl\n"
     ]
    },
    {
     "name": "stdout",
     "output_type": "stream",
     "text": [
      "chandan raj cl\n",
      "cl\n"
     ]
    }
   ],
   "source": [
    "occr = str(input(\"enter the senetence:\"))\n",
    "print(occr)\n",
    "word = occr.split()\n",
    "print(word[-1])"
   ]
  },
  {
   "cell_type": "markdown",
   "id": "42e11e0e-b57e-4b15-9d79-a0a849bd7020",
   "metadata": {},
   "source": [
    "14. Split a string into a list of words."
   ]
  },
  {
   "cell_type": "code",
   "execution_count": 5,
   "id": "67b98258-9fa4-48a4-95d8-5cc2aca6d3da",
   "metadata": {},
   "outputs": [
    {
     "name": "stdin",
     "output_type": "stream",
     "text": [
      "enter the senetence: chandan raj cl\n"
     ]
    },
    {
     "name": "stdout",
     "output_type": "stream",
     "text": [
      "chandan raj cl\n",
      "['chandan', 'raj', 'cl']\n"
     ]
    }
   ],
   "source": [
    "occr = str(input(\"enter the senetence:\"))\n",
    "print(occr)\n",
    "word = occr.split()\n",
    "print(word)"
   ]
  },
  {
   "cell_type": "markdown",
   "id": "f63ccb4f-6c28-4813-ba31-8cfa370bbeb8",
   "metadata": {},
   "source": [
    "15. Join a list of words into a string."
   ]
  },
  {
   "cell_type": "code",
   "execution_count": 11,
   "id": "9071fbce-3762-4e81-a23c-f76c6a30089c",
   "metadata": {},
   "outputs": [
    {
     "name": "stdin",
     "output_type": "stream",
     "text": [
      "enter the list of word: chandan raj\n"
     ]
    },
    {
     "name": "stdout",
     "output_type": "stream",
     "text": [
      "['c', 'h', 'a', 'n', 'd', 'a', 'n', ' ', 'r', 'a', 'j']\n",
      "chandan raj\n"
     ]
    }
   ],
   "source": [
    "list_words = list(input(\"enter the list of word:\"))\n",
    "print(list_words)\n",
    "joined_words = \"\".join(list_words)\n",
    "print(joined_words)"
   ]
  },
  {
   "cell_type": "markdown",
   "id": "755d46e9-c75e-43e7-bbe7-ca6b9d88a0a4",
   "metadata": {},
   "source": [
    "16. Convert a string where words are separated by spaces to one where words\n",
    "are separated by underscores."
   ]
  },
  {
   "cell_type": "code",
   "execution_count": 20,
   "id": "2b3a4af8-d3ee-491c-8792-430036dfb65c",
   "metadata": {},
   "outputs": [
    {
     "name": "stdin",
     "output_type": "stream",
     "text": [
      "enter the list of word: Convert a string where\n"
     ]
    },
    {
     "name": "stdout",
     "output_type": "stream",
     "text": [
      "['Convert', 'a', 'string', 'where']\n",
      "Convert_a_string_where\n"
     ]
    }
   ],
   "source": [
    "list_words = str(input(\"enter the list of word:\"))\n",
    "\n",
    "print(list_words)\n",
    "words = list_words.split()\n",
    "print(words)\n",
    "joined_words = \"_\".join(words)\n",
    "print(joined_words)"
   ]
  },
  {
   "cell_type": "markdown",
   "id": "abf39c6c-6a41-40d3-b995-9087e2ab723b",
   "metadata": {},
   "source": [
    "17. Check if a string starts with a specific word or phrase."
   ]
  },
  {
   "cell_type": "code",
   "execution_count": 59,
   "id": "d2ce55a9-085f-4ae4-90a7-a5351ff1f659",
   "metadata": {},
   "outputs": [
    {
     "name": "stdin",
     "output_type": "stream",
     "text": [
      "enter the sentence: one two three\n",
      "enter the specified sentence: one\n"
     ]
    },
    {
     "name": "stdout",
     "output_type": "stream",
     "text": [
      "word start with specfied word\n"
     ]
    }
   ],
   "source": [
    "spec=str(input(\"enter the sentence:\"))\n",
    "specified_word=str(input(\"enter the specified sentence:\"))\n",
    "\n",
    "chec_spec = spec.find(specified_word)\n",
    "if chec_spec == 0:\n",
    "    print (\"word start with specfied word\")\n",
    "else :\n",
    "    print(\"not print\")\n",
    "\n"
   ]
  },
  {
   "cell_type": "markdown",
   "id": "31f8b4fb-06fc-467e-bc46-19bd3c8e01e9",
   "metadata": {},
   "source": [
    "18.Check if a string ends with a specific word or phrase."
   ]
  },
  {
   "cell_type": "code",
   "execution_count": 62,
   "id": "15618007-15d8-4d33-adbf-888b1a8d5571",
   "metadata": {},
   "outputs": [
    {
     "name": "stdin",
     "output_type": "stream",
     "text": [
      "enter the sentence: one two three\n",
      "enter the specified sentence: three\n"
     ]
    },
    {
     "name": "stdout",
     "output_type": "stream",
     "text": [
      "it ends with specified_word\n"
     ]
    }
   ],
   "source": [
    "ends_spec_word=str(input(\"enter the sentence:\"))\n",
    "specified_word=str(input(\"enter the specified sentence:\"))\n",
    "boolean_value = ends_spec_word.endswith(specified_word)\n",
    "if boolean_value == True:\n",
    "    print(\"it ends with specified_word\")\n",
    "else:\n",
    "    print(\"na\")"
   ]
  },
  {
   "cell_type": "markdown",
   "id": "0b23feb4-a9e7-4599-8895-4916083d84cd",
   "metadata": {},
   "source": [
    "19. Convert a string to title case (e.g., \"hello world\" to \"Hello World\")."
   ]
  },
  {
   "cell_type": "code",
   "execution_count": 63,
   "id": "4dbe056b-e39c-4ead-9c01-9dfc0c4ff183",
   "metadata": {},
   "outputs": [
    {
     "name": "stdin",
     "output_type": "stream",
     "text": [
      "enter the sentence: one two three\n"
     ]
    },
    {
     "name": "stdout",
     "output_type": "stream",
     "text": [
      "One Two Three\n"
     ]
    }
   ],
   "source": [
    "normal_case = str(input(\"enter the sentence:\"))\n",
    "title_case=normal_case.title()\n",
    "print(title_case)"
   ]
  },
  {
   "cell_type": "markdown",
   "id": "b6b686cf-1691-43cc-b267-10e063cf210e",
   "metadata": {},
   "source": [
    "20. Find the longest word in a string."
   ]
  },
  {
   "cell_type": "code",
   "execution_count": 80,
   "id": "66ab6fd2-8bb0-4c1e-9266-b7a7e21a96ba",
   "metadata": {},
   "outputs": [
    {
     "name": "stdin",
     "output_type": "stream",
     "text": [
      "enter the sentence: weuffehb duihdwhdh dwhfuhewuohfuhh\n"
     ]
    },
    {
     "name": "stdout",
     "output_type": "stream",
     "text": [
      "longest word is (dwhfuhewuohfuhh) and max_num of letters in a word (15)\n"
     ]
    }
   ],
   "source": [
    "normal_words = str(input(\"enter the sentence:\"))\n",
    "split_words =normal_words.split()\n",
    "longest_word = max(split_words, key=len)\n",
    "num = len(longest_word)\n",
    "print(f'longest word is ({longest_word}) and max_num of letters in a word ({num})')\n",
    "\n"
   ]
  },
  {
   "cell_type": "markdown",
   "id": "03507193-ed35-4047-8e47-b62c333cf013",
   "metadata": {},
   "source": [
    "21. Find the shortest word in a string."
   ]
  },
  {
   "cell_type": "code",
   "execution_count": 84,
   "id": "3a3bb520-49aa-499c-82fc-a746537b5889",
   "metadata": {},
   "outputs": [
    {
     "name": "stdin",
     "output_type": "stream",
     "text": [
      "enter the sentence: dqwugd dbewbgcigcch n\n"
     ]
    },
    {
     "name": "stdout",
     "output_type": "stream",
     "text": [
      "longest word is (n) and max_num of letters in a word (1)\n"
     ]
    }
   ],
   "source": [
    "normal_words = str(input(\"enter the sentence:\"))\n",
    "split_words =normal_words.split()\n",
    "short_word = min(split_words, key=len)\n",
    "num = len(short_word)\n",
    "print(f'longest word is ({short_word}) and max_num of letters in a word ({num})')\n",
    "\n"
   ]
  },
  {
   "cell_type": "markdown",
   "id": "e3d16c77-f84d-4927-9144-ceb1cefc12bf",
   "metadata": {},
   "source": [
    "22. Reverse the order of words in a string."
   ]
  },
  {
   "cell_type": "code",
   "execution_count": 16,
   "id": "bd315ffa-73cf-4884-8f8a-e98c4a103341",
   "metadata": {},
   "outputs": [
    {
     "name": "stdout",
     "output_type": "stream",
     "text": [
      "jdbewidgiui djqwbdkwu hsgsfvsnaah\n"
     ]
    }
   ],
   "source": [
    "#str(input(\"enter the sentence:\"))\n",
    "order = (\"hsgsfvsnaah djqwbdkwu jdbewidgiui\")\n",
    "new_order=[]\n",
    "w = order.split()\n",
    "for i in w:\n",
    "    new_order.insert(0,i)\n",
    "print(\" \".join(new_order))\n"
   ]
  },
  {
   "cell_type": "markdown",
   "id": "4ccb1d21-777e-4b06-a9d2-5e0ffe11780f",
   "metadata": {},
   "source": [
    "23. Check if a string is alphanumeric."
   ]
  },
  {
   "cell_type": "code",
   "execution_count": 15,
   "id": "b3d6d9db-97f9-4d3a-80b0-590755960448",
   "metadata": {},
   "outputs": [
    {
     "name": "stdout",
     "output_type": "stream",
     "text": [
      "True\n"
     ]
    }
   ],
   "source": [
    "alnu= \"123andgv\"\n",
    "value=print(alnu.isalnum())\n"
   ]
  },
  {
   "cell_type": "markdown",
   "id": "865bcb29-d68a-4208-bde1-d37c7bb2def2",
   "metadata": {},
   "source": [
    "24. Extract all digits from a string.\n"
   ]
  },
  {
   "cell_type": "code",
   "execution_count": 40,
   "id": "80a42e37-3616-48dd-87b8-56642725f985",
   "metadata": {},
   "outputs": [
    {
     "name": "stdout",
     "output_type": "stream",
     "text": [
      "In sentence contained number is ['250']\n"
     ]
    }
   ],
   "source": [
    "all_string=(\"there 250 MNC company start hiring! \")\n",
    "numstring=[]\n",
    "new_string=all_string.split()\n",
    "\n",
    "for i in new_string:\n",
    "    if i.isdigit():\n",
    "        numstring.append(i)\n",
    "print(F\"In sentence contained number is {numstring}\")\n"
   ]
  },
  {
   "cell_type": "markdown",
   "id": "0edfd102-374e-4d7d-b177-79ead2d883a9",
   "metadata": {},
   "source": [
    "25. Extract all alphabets from a string."
   ]
  },
  {
   "cell_type": "code",
   "execution_count": 42,
   "id": "7350e792-2454-44cd-8f81-6f8b87f907c2",
   "metadata": {},
   "outputs": [
    {
     "name": "stdout",
     "output_type": "stream",
     "text": [
      "In sentence contained number is ['there', 'MNC', 'company', 'start', 'hiring']\n"
     ]
    }
   ],
   "source": [
    "all_string=(\"there 250 MNC company start hiring ! \")\n",
    "sen_string=[]\n",
    "new_string=all_string.split()\n",
    "\n",
    "for i in new_string:\n",
    "    if i.isalpha():\n",
    "        sen_string.append(i)\n",
    "print(F\"In sentence contained number is {sen_string}\")\n"
   ]
  },
  {
   "cell_type": "markdown",
   "id": "07ffa9c2-14a2-4019-a5db-5421b95bc89a",
   "metadata": {},
   "source": [
    "26. Count the number of uppercase letters in a string.\n"
   ]
  },
  {
   "cell_type": "code",
   "execution_count": 51,
   "id": "5a9331ad-c832-41f5-9235-e158a03ee6ae",
   "metadata": {},
   "outputs": [
    {
     "name": "stdout",
     "output_type": "stream",
     "text": [
      "['A', 'D', 'G', 'C', 'B', 'B', 'R', 'F', 'B', 'H', 'F']\n",
      "the number of upper case letter in metioned string is 11 \n"
     ]
    }
   ],
   "source": [
    "n_string=(\"xAxDxGcCcBvBvfdvRFdsvBHF\")\n",
    "upper_case=[]\n",
    "for i in n_string:\n",
    "    if i.isupper():\n",
    "        upper_case.append(i)\n",
    "\n",
    "print(upper_case)\n",
    "print(f\"the number of upper case letter in metioned string is {len(upper_case)} \")"
   ]
  },
  {
   "cell_type": "markdown",
   "id": "eee72831-4a48-41e3-8bbb-550072b6db4e",
   "metadata": {},
   "source": [
    "27. Count the number of lowercase letters in a string."
   ]
  },
  {
   "cell_type": "code",
   "execution_count": 52,
   "id": "707119ee-e3fd-496c-8163-09088e199144",
   "metadata": {},
   "outputs": [
    {
     "name": "stdout",
     "output_type": "stream",
     "text": [
      "['x', 'x', 'x', 'c', 'c', 'v', 'v', 'f', 'd', 'v', 'd', 's', 'v']\n",
      "the number of upper case letter in metioned string is 13 \n"
     ]
    }
   ],
   "source": [
    "n_string=(\"xAxDxGcCcBvBvfdvRFdsvBHF\")\n",
    "upper_case=[]\n",
    "for i in n_string:\n",
    "    if i.islower():\n",
    "        upper_case.append(i)\n",
    "\n",
    "print(upper_case)\n",
    "print(f\"the number of upper case letter in metioned string is {len(upper_case)} \")"
   ]
  },
  {
   "cell_type": "markdown",
   "id": "0edcb917-13f0-4ca6-9a7a-ff8364a6e349",
   "metadata": {},
   "source": [
    "28. Swap the case of each character in a string.\n"
   ]
  },
  {
   "cell_type": "code",
   "execution_count": 54,
   "id": "b2f512bd-8d98-4885-a418-875d2ccfd5ec",
   "metadata": {},
   "outputs": [
    {
     "name": "stdout",
     "output_type": "stream",
     "text": [
      "XaXdXgCcCbVbVFDVrfDSVbhf\n"
     ]
    }
   ],
   "source": [
    "n_string=(\"xAxDxGcCcBvBvfdvRFdsvBHF\")\n",
    "swaped_sentence=n_string.swapcase()\n",
    "print(swaped_sentence)"
   ]
  },
  {
   "cell_type": "markdown",
   "id": "8f321b0c-99c2-4b1f-9536-a2c6da29eba9",
   "metadata": {},
   "source": [
    "29. Remove a specific word from a string.\n"
   ]
  },
  {
   "cell_type": "code",
   "execution_count": 61,
   "id": "a87db187-512f-4151-b33f-215c99f6d7a8",
   "metadata": {},
   "outputs": [
    {
     "name": "stdout",
     "output_type": "stream",
     "text": [
      "Hi!Iam  PWskills\n"
     ]
    }
   ],
   "source": [
    "n_string=(\"Hi!Iam joined PWskills\")\n",
    "striped_string=n_string.replace(\"joined\",\"\")\n",
    "print(striped_string)"
   ]
  },
  {
   "cell_type": "markdown",
   "id": "2a1f7bdc-6782-45fc-8cd8-ef79c5be2611",
   "metadata": {},
   "source": [
    "30. Check if a string is a valid email address"
   ]
  },
  {
   "cell_type": "code",
   "execution_count": 63,
   "id": "997f2bb0-32e6-4677-bbc2-01310c79b905",
   "metadata": {},
   "outputs": [
    {
     "name": "stdout",
     "output_type": "stream",
     "text": [
      "Valid Email\n"
     ]
    }
   ],
   "source": [
    "import re\n",
    "email=\"pwskill@gmail.com\"\n",
    "regex = r'\\b[A-Za-z0-9._%+-]+@[A-Za-z0-9.-]+\\.[A-Z|a-z]{2,7}\\b'\n",
    "if(re.fullmatch(regex, email)):\n",
    "        print(\"Valid Email\")\n",
    "else:\n",
    "    print(\"na\")\n"
   ]
  },
  {
   "cell_type": "markdown",
   "id": "c6832eb7-09d7-4885-af7a-0dd952979a8c",
   "metadata": {},
   "source": [
    "31.Extract the username from an email address string"
   ]
  },
  {
   "cell_type": "code",
   "execution_count": 70,
   "id": "a81e11cc-78f4-409d-80bf-796a817a139d",
   "metadata": {},
   "outputs": [
    {
     "name": "stdout",
     "output_type": "stream",
     "text": [
      "<re.Match object; span=(0, 7), match='pwskill'>\n"
     ]
    }
   ],
   "source": [
    "import re\n",
    "email=\"pwskill@gmail.com\"\n",
    "regex =r'^([a-zA-Z0-9._%+-]+)'\n",
    "\n",
    "match = re.search(regex, email)\n",
    "print(match)\n",
    "\n"
   ]
  },
  {
   "cell_type": "markdown",
   "id": "6079a02a-6144-4a71-9493-5d3eb3efcf33",
   "metadata": {},
   "source": [
    "32. Extract the domain name from an email address string."
   ]
  },
  {
   "cell_type": "code",
   "execution_count": 71,
   "id": "e530f1d8-a071-40ce-9054-86b2ccf927cc",
   "metadata": {},
   "outputs": [
    {
     "name": "stdout",
     "output_type": "stream",
     "text": [
      "<re.Match object; span=(7, 17), match='@gmail.com'>\n"
     ]
    }
   ],
   "source": [
    "import re\n",
    "email=\"pwskill@gmail.com\"\n",
    "regex =r'@([a-zA-Z0-9.-]+)$'\n",
    "\n",
    "match = re.search(regex, email)\n",
    "print(match)"
   ]
  },
  {
   "cell_type": "markdown",
   "id": "b2bbce9e-565a-4694-9569-cdd1ae0d4e32",
   "metadata": {},
   "source": [
    " 33.Replace multiple spaces in a string with a single space."
   ]
  },
  {
   "cell_type": "code",
   "execution_count": 78,
   "id": "810d743c-eb68-4eaf-8d1c-5deef090d9c0",
   "metadata": {},
   "outputs": [
    {
     "name": "stdout",
     "output_type": "stream",
     "text": [
      "hjcbjkc ccneoiwfh cceiowho ejfhewoh fwehfi jhfherho\n"
     ]
    }
   ],
   "source": [
    "import re\n",
    "new_sen = \"hjcbjkc    ccneoiwfh   cceiowho  ejfhewoh           fwehfi   jhfherho\"\n",
    "removed_space=re.sub(r'\\s+', ' ', new_sen)\n",
    "print(removed_space)"
   ]
  },
  {
   "cell_type": "markdown",
   "id": "28bc9b40-9fa2-4c8c-9de7-9e5e99d05f2d",
   "metadata": {},
   "source": [
    "34. Check if a string is a valid URL.\n"
   ]
  },
  {
   "cell_type": "code",
   "execution_count": 79,
   "id": "d3d568c7-e5fe-4f19-8bef-6db5498265aa",
   "metadata": {},
   "outputs": [
    {
     "name": "stdout",
     "output_type": "stream",
     "text": [
      "https://www.example.com/path/to/resource is a valid URL.\n"
     ]
    }
   ],
   "source": [
    "import re\n",
    "\n",
    "def is_valid_url(url):\n",
    "    # Define a regular expression pattern for a basic URL validation\n",
    "    url_pattern = re.compile(\n",
    "        r'^(https?|ftp):\\/\\/'  # Match the scheme (http, https, ftp)\n",
    "        r'([a-zA-Z0-9.-]+)'     # Match the domain (allowing letters, digits, dots, and hyphens)\n",
    "        r'(\\.[a-zA-Z]{2,})'     # Match the top-level domain (at least 2 characters)\n",
    "        r'(:\\d+)?'              # Match an optional port number\n",
    "        r'(\\/\\S*)?$'            # Match an optional path\n",
    "    )\n",
    "\n",
    "    return bool(re.match(url_pattern, url))\n",
    "\n",
    "# Example usage:\n",
    "url_to_check = \"https://www.example.com/path/to/resource\"\n",
    "if is_valid_url(url_to_check):\n",
    "    print(f\"{url_to_check} is a valid URL.\")\n",
    "else:\n",
    "    print(f\"{url_to_check} is not a valid URL.\")\n"
   ]
  },
  {
   "cell_type": "markdown",
   "id": "81866403-d15e-45f2-b5cb-fd619bcfc239",
   "metadata": {},
   "source": [
    "35. Extract the protocol (http or https) from a URL string."
   ]
  },
  {
   "cell_type": "code",
   "execution_count": 80,
   "id": "d1d88c74-6fae-4ccf-ae54-fcc739d154c5",
   "metadata": {},
   "outputs": [
    {
     "name": "stdout",
     "output_type": "stream",
     "text": [
      "Protocol: https\n"
     ]
    }
   ],
   "source": [
    "import re\n",
    "\n",
    "def extract_protocol(url):\n",
    "    # Define a regular expression pattern to match the protocol\n",
    "    pattern = re.compile(r'^([a-zA-Z]+)://')\n",
    "\n",
    "    # Use re.match to find the match at the beginning of the string\n",
    "    match = pattern.match(url)\n",
    "\n",
    "    # Check if there is a match and extract the protocol\n",
    "    if match:\n",
    "        protocol = match.group(1)\n",
    "        return protocol\n",
    "    else:\n",
    "        return None\n",
    "\n",
    "# Example usage\n",
    "url = \"https://www.example.com/path/to/resource\"\n",
    "protocol = extract_protocol(url)\n",
    "\n",
    "if protocol:\n",
    "    print(\"Protocol:\", protocol)\n",
    "else:\n",
    "    print(\"No protocol found in the URL.\")\n"
   ]
  },
  {
   "cell_type": "markdown",
   "id": "b0459e34-8cd1-4ec6-a607-21961e4d614d",
   "metadata": {},
   "source": [
    "36. Find the frequency of each character in a string."
   ]
  },
  {
   "cell_type": "code",
   "execution_count": 86,
   "id": "25a01c4e-87ae-4dfd-97c8-123262d38227",
   "metadata": {},
   "outputs": [
    {
     "name": "stdout",
     "output_type": "stream",
     "text": [
      "1\n",
      "1\n",
      "Count of all characters in GeeksforGeeks is :\n",
      " {'P': 1, 'w': 1, 's': 2, 'k': 1, 'i': 1, 'l': 2}\n"
     ]
    }
   ],
   "source": [
    "\n",
    "# initializing string\n",
    "nor_str = \"Pwskills\"\n",
    " \n",
    "\n",
    "all_freq = {}\n",
    " \n",
    "for i in nor_str: \n",
    "    if i in all_freq:\n",
    "        \n",
    "        all_freq[i] += 1\n",
    "    else:\n",
    "        all_freq[i] = 1\n",
    " \n",
    "# printing result\n",
    "print(\"Count of all characters in GeeksforGeeks is :\\n \"\n",
    "      + str(all_freq))"
   ]
  },
  {
   "cell_type": "code",
   "execution_count": 87,
   "id": "c93ba76a-7fec-47fa-bd52-7d2ae2aab96b",
   "metadata": {},
   "outputs": [
    {
     "name": "stdout",
     "output_type": "stream",
     "text": [
      "Gfg is best  for  Geeks \n"
     ]
    }
   ],
   "source": [
    "test_str = \"Gfg, is best : for ! Geeks ;\"\n",
    "punc = '''!()-[]{};:'\"\\,<>./?@#$%^&*_~'''\n",
    "for i  in test_str:\n",
    "    if  i in punc:\n",
    "        test_str=test_str.replace(i,\"\")\n",
    "print(test_str)"
   ]
  },
  {
   "cell_type": "markdown",
   "id": "f25438b7-cc52-4aaa-b8ac-9488e97babe1",
   "metadata": {},
   "source": [
    "38. Check if a string contains only digits."
   ]
  },
  {
   "cell_type": "code",
   "execution_count": 88,
   "id": "319121c1-149e-4f17-b07c-837e00680aad",
   "metadata": {},
   "outputs": [
    {
     "data": {
      "text/plain": [
       "False"
      ]
     },
     "execution_count": 88,
     "metadata": {},
     "output_type": "execute_result"
    }
   ],
   "source": [
    "num_str=\"dwdd142d5\"\n",
    "num_str.isdigit()"
   ]
  },
  {
   "cell_type": "markdown",
   "id": "ffee732b-ff5c-45a0-b781-fb51c82e98cc",
   "metadata": {},
   "source": [
    "39. Check if a string contains only alphabets.\n"
   ]
  },
  {
   "cell_type": "code",
   "execution_count": 90,
   "id": "ff45855f-e4d3-4400-8ea2-cf5ac289f9e3",
   "metadata": {},
   "outputs": [
    {
     "data": {
      "text/plain": [
       "False"
      ]
     },
     "execution_count": 90,
     "metadata": {},
     "output_type": "execute_result"
    }
   ],
   "source": [
    "nor_str=\"dwdd142d5\"\n",
    "nor_str.isalpha()"
   ]
  },
  {
   "cell_type": "markdown",
   "id": "cfcbd95f-7231-43ef-a7fa-1bfc7bb15e58",
   "metadata": {},
   "source": [
    "40. Convert a string to a list of characters.\n"
   ]
  },
  {
   "cell_type": "code",
   "execution_count": 101,
   "id": "604d15d1-3efe-4f16-9ffc-61aa797dd9b7",
   "metadata": {},
   "outputs": [
    {
     "name": "stdout",
     "output_type": "stream",
     "text": [
      "['d', 'w', 'd', 'd', '1', '4', '2', 'd', '5']\n"
     ]
    }
   ],
   "source": [
    "sen_str=\"dwdd142d5\"\n",
    "list_str=list(sen_str)\n",
    "print(list_str)"
   ]
  },
  {
   "cell_type": "code",
   "execution_count": 106,
   "id": "af46fa0f-8704-48a6-9ca0-85f4e51ccb5c",
   "metadata": {},
   "outputs": [
    {
     "name": "stdout",
     "output_type": "stream",
     "text": [
      "True\n"
     ]
    }
   ],
   "source": [
    "\n",
    "opt = \"abc\"\n",
    "opts= \"bca\"\n",
    "if sorted(a)==sorted(opts):\n",
    "    print(\"True\")\n",
    "\n",
    "else:\n",
    "    print(\"NA\")\n",
    "\n"
   ]
  },
  {
   "cell_type": "markdown",
   "id": "04169bb8-2d9c-4285-9e7d-00c58aaa4cde",
   "metadata": {},
   "source": [
    "42. Encode a string using a Caesar cipher.\n"
   ]
  },
  {
   "cell_type": "code",
   "execution_count": 107,
   "id": "866dc7a2-23b7-4260-8538-fc0ad505f06d",
   "metadata": {},
   "outputs": [
    {
     "name": "stdout",
     "output_type": "stream",
     "text": [
      "Plaintext: Hello, World!\n",
      "Ciphertext: Khoor, Zruog!\n"
     ]
    }
   ],
   "source": [
    "def caesar_cipher_encrypt(text, shift):\n",
    "    result = \"\"\n",
    "\n",
    "    for char in text:\n",
    "        if char.isalpha():\n",
    "            # Determine whether the character is uppercase or lowercase\n",
    "            is_upper = char.isupper()\n",
    "\n",
    "            # Shift the character by the specified amount\n",
    "            char_code = ord(char)\n",
    "            char_code = (char_code - ord('A' if is_upper else 'a') + shift) % 26\n",
    "            char_code += ord('A' if is_upper else 'a')\n",
    "\n",
    "            result += chr(char_code)\n",
    "        else:\n",
    "            # Keep non-alphabetic characters unchanged\n",
    "            result += char\n",
    "\n",
    "    return result\n",
    "\n",
    "# Example usage\n",
    "plaintext = \"Hello, World!\"\n",
    "shift_amount = 3\n",
    "ciphertext = caesar_cipher_encrypt(plaintext, shift_amount)\n",
    "\n",
    "print(\"Plaintext:\", plaintext)\n",
    "print(\"Ciphertext:\", ciphertext)\n"
   ]
  },
  {
   "cell_type": "markdown",
   "id": "a91f1f99-315d-4a9c-a79c-3ffb3612a0cb",
   "metadata": {},
   "source": [
    "44. Find the most frequent word in a string.\n"
   ]
  },
  {
   "cell_type": "code",
   "execution_count": 11,
   "id": "64fc1e3f-14a5-4712-8451-f082944f9e50",
   "metadata": {},
   "outputs": [
    {
     "name": "stdout",
     "output_type": "stream",
     "text": [
      "7\n"
     ]
    }
   ],
   "source": [
    "nor_freq=\"a in she he she are the.\"\n",
    "count=0\n",
    "split_nor_freq=nor_freq.split()\n",
    "for i in split_nor_freq:\n",
    "    if i in split_nor_freq:\n",
    "        count+=1\n",
    "print(count)\n",
    "\n",
    "    \n"
   ]
  },
  {
   "cell_type": "markdown",
   "id": "71b3243b-c619-45ef-893a-dff063115f38",
   "metadata": {},
   "source": [
    "45.Find all unique words in a string."
   ]
  },
  {
   "cell_type": "code",
   "execution_count": 6,
   "id": "a7ec9663-7c04-4234-821d-e6812f0f3297",
   "metadata": {},
   "outputs": [
    {
     "name": "stdout",
     "output_type": "stream",
     "text": [
      "['t', 'h', 'e', ' ', 'l', 'o', 'w', 'r', 'd']\n"
     ]
    }
   ],
   "source": [
    "string = \"the hello world\"\n",
    "s=list(string)\n",
    "unique_letter=[]\n",
    "for letter in s:\n",
    "    if letter not in unique_letter:\n",
    "        unique_letter.append(letter)\n",
    "print(unique_letter)    \n",
    "\n",
    "        "
   ]
  },
  {
   "cell_type": "markdown",
   "id": "2a4c9968-5d3d-4041-84c6-2f4548ffa1c2",
   "metadata": {
    "tags": []
   },
   "source": [
    "46. Count the number of syllables in a string."
   ]
  },
  {
   "cell_type": "code",
   "execution_count": 13,
   "id": "808446a8-6ce7-4b59-9697-16de281e8e1f",
   "metadata": {},
   "outputs": [
    {
     "name": "stdout",
     "output_type": "stream",
     "text": [
      "Total syllables: 10\n"
     ]
    }
   ],
   "source": [
    "def count_syllables(word):\n",
    "    vowels = \"aeiouAEIOU\"\n",
    "    count = 0\n",
    "    in_vowel_sequence = False\n",
    "\n",
    "    # Loop through each character in the word\n",
    "    for char in word:\n",
    "        # Check if the character is a vowel\n",
    "        if char in vowels:\n",
    "            # If not already in a vowel sequence, increment the count\n",
    "            if not in_vowel_sequence:\n",
    "                count += 1\n",
    "                in_vowel_sequence = True\n",
    "        else:\n",
    "            # Reset the flag when a non-vowel is encountered\n",
    "            in_vowel_sequence = False\n",
    "\n",
    "    return count\n",
    "\n",
    "def count_syllables_in_string(input_string):\n",
    "    # Split the string into words\n",
    "    words = input_string.split()\n",
    "\n",
    "    # Count syllables for each word and sum the counts\n",
    "    total_syllables = sum(count_syllables(word) for word in words)\n",
    "\n",
    "    return total_syllables\n",
    "\n",
    "# Example usage:\n",
    "input_string = \"Count the number of syllables in a string.\"\n",
    "result = count_syllables_in_string(input_string)\n",
    "print(\"Total syllables:\", result)\n"
   ]
  },
  {
   "cell_type": "markdown",
   "id": "f626fd62-dcfc-44b5-9298-9effcb6cb7d2",
   "metadata": {},
   "source": [
    "47. Check if a string contains any special characters."
   ]
  },
  {
   "cell_type": "code",
   "execution_count": 20,
   "id": "e1de4bec-09df-45de-809e-a7a417f96bb6",
   "metadata": {},
   "outputs": [
    {
     "name": "stdout",
     "output_type": "stream",
     "text": [
      "5\n"
     ]
    }
   ],
   "source": [
    "mix = \"hello ,word. ; what is the! m #\"\n",
    "new_mix = list(mix)\n",
    "new=[]\n",
    "\n",
    "for i in new_mix:\n",
    "    if i in '<>?:{}!@#$%^&*()+-*/,./;' :\n",
    "        new.append(i)\n",
    "print(len(new))\n",
    "    "
   ]
  },
  {
   "cell_type": "markdown",
   "id": "6a57febc-078a-4196-8e29-e35359322e3e",
   "metadata": {},
   "source": [
    "48. Remove the nth word from a string."
   ]
  },
  {
   "cell_type": "code",
   "execution_count": 30,
   "id": "e8336bc7-ce47-4965-9eb1-774578e2b3fc",
   "metadata": {},
   "outputs": [
    {
     "name": "stdin",
     "output_type": "stream",
     "text": [
      "enter the index: 3\n"
     ]
    },
    {
     "name": "stdout",
     "output_type": "stream",
     "text": [
      "hi this is i joined pwskills\n"
     ]
    }
   ],
   "source": [
    "string = \" hi this is chandan i joined pwskills\"\n",
    "i = int(input(\"enter the index:\"))\n",
    "split_words =string.split()\n",
    "split_words.pop(i)\n",
    "join_sen=\" \".join(split_words)\n",
    "print(join_sen)\n"
   ]
  },
  {
   "cell_type": "markdown",
   "id": "157005f2-7303-4bc1-b877-3eecf163fec9",
   "metadata": {},
   "source": [
    "49. Insert a word at the nth position in a string."
   ]
  },
  {
   "cell_type": "code",
   "execution_count": 32,
   "id": "2d0a445d-7723-4f0a-abe4-aa76d28952af",
   "metadata": {},
   "outputs": [
    {
     "name": "stdin",
     "output_type": "stream",
     "text": [
      "enter the index: 2\n",
      "enter the word: rohan\n"
     ]
    },
    {
     "name": "stdout",
     "output_type": "stream",
     "text": [
      "hi this rohan is chandan i joined pwskills\n"
     ]
    }
   ],
   "source": [
    "string = \" hi this is chandan i joined pwskills\"\n",
    "i = int(input(\"enter the index:\"))\n",
    "element = input(\"enter the word:\")\n",
    "split_words =string.split()\n",
    "split_words.insert(i,element)\n",
    "join_sen=\" \".join(split_words)\n",
    "print(join_sen)"
   ]
  },
  {
   "cell_type": "markdown",
   "id": "8c1b598c-ce50-40b4-a998-3aaf1270fb7f",
   "metadata": {},
   "source": [
    "50. Convert a CSV string to a list of lists."
   ]
  },
  {
   "cell_type": "code",
   "execution_count": 33,
   "id": "fe2fe77f-e79f-4529-b9b7-60e302ff5ae1",
   "metadata": {},
   "outputs": [
    {
     "name": "stdout",
     "output_type": "stream",
     "text": [
      "List of lists from CSV string (manual): [['1', 'John', 'Doe'], ['2', 'Jane', 'Smith'], ['3', 'Bob', 'Johnson']]\n"
     ]
    }
   ],
   "source": [
    "def csv_string_to_list_manual(csv_string):\n",
    "    # Split the CSV string into lines\n",
    "    lines = csv_string.strip().split('\\n')\n",
    "\n",
    "    # Split each line into values and create a list of lists\n",
    "    csv_list = [line.split(',') for line in lines]\n",
    "\n",
    "    return csv_list\n",
    "\n",
    "# Example usage:\n",
    "csv_string = \"1,John,Doe\\n2,Jane,Smith\\n3,Bob,Johnson\"\n",
    "result_manual = csv_string_to_list_manual(csv_string)\n",
    "print(\"List of lists from CSV string (manual):\", result_manual)\n"
   ]
  },
  {
   "cell_type": "markdown",
   "id": "40368165-7251-41ee-a51c-4544673f9482",
   "metadata": {},
   "source": [
    "List Based Practice Problem :"
   ]
  },
  {
   "cell_type": "markdown",
   "id": "828e633a-c585-46cb-9e0f-d7cfdb1f515d",
   "metadata": {},
   "source": [
    "1. Create a list with integers from 1 to 10."
   ]
  },
  {
   "cell_type": "code",
   "execution_count": 4,
   "id": "b742169d-2360-4f1c-a8a5-eb2f6bf22b12",
   "metadata": {},
   "outputs": [
    {
     "name": "stdout",
     "output_type": "stream",
     "text": [
      "[1, 2, 3, 4, 5, 6, 7, 8, 9, 10]\n"
     ]
    }
   ],
   "source": [
    "lis=[]\n",
    "for i in range(1,11):\n",
    "    lis.append(i)\n",
    "print(lis)\n",
    "    \n",
    "    "
   ]
  },
  {
   "cell_type": "markdown",
   "id": "5543f0f7-0ce4-4d68-b08a-efc45083748c",
   "metadata": {},
   "source": [
    "Find the length of a list without using the `len()` function."
   ]
  },
  {
   "cell_type": "code",
   "execution_count": 8,
   "id": "077b82ac-04da-40d7-b2c2-b2ea6afcc772",
   "metadata": {},
   "outputs": [
    {
     "name": "stdout",
     "output_type": "stream",
     "text": [
      "length of list is 10\n"
     ]
    }
   ],
   "source": [
    "lis = [1, 2, 3, 4, 5, 6, 7, 8, 9, 10]\n",
    "length = 0\n",
    "for i in lis:\n",
    "    if i == None:\n",
    "        print('stop')\n",
    "    else:\n",
    "        length+=1\n",
    "print(f'length of list is {length}')\n",
    "\n",
    "        "
   ]
  },
  {
   "cell_type": "markdown",
   "id": "5ece19b3-c03a-4e92-92ef-2722ce4d321e",
   "metadata": {},
   "source": [
    "3. Append an element to the end of a list."
   ]
  },
  {
   "cell_type": "code",
   "execution_count": 11,
   "id": "397cd8ab-10e3-40ae-b239-3cb58be04c77",
   "metadata": {},
   "outputs": [
    {
     "name": "stdout",
     "output_type": "stream",
     "text": [
      "[1, 2, 3, 4, 5, 6, 7, 8, 9, 10, 11]\n"
     ]
    }
   ],
   "source": [
    "lis = [1, 2, 3, 4, 5, 6, 7, 8, 9, 10]\n",
    "lis.append(11)\n",
    "print(lis)"
   ]
  },
  {
   "cell_type": "markdown",
   "id": "21fc946a-fb80-46d9-80ac-0dc63334d955",
   "metadata": {},
   "source": [
    "4. Insert an element at a specific index in a list."
   ]
  },
  {
   "cell_type": "code",
   "execution_count": 13,
   "id": "8ea4cc11-735a-4ac0-8ed5-e57706c71027",
   "metadata": {},
   "outputs": [
    {
     "name": "stdout",
     "output_type": "stream",
     "text": [
      "[1, 2, 2.5, 3, 4, 5, 6, 7, 8, 9, 10]\n"
     ]
    }
   ],
   "source": [
    "lis = [1, 2, 3, 4, 5, 6, 7, 8, 9, 10]\n",
    "lis.insert(2,2.5)\n",
    "print(lis)"
   ]
  },
  {
   "cell_type": "markdown",
   "id": "cbbb8aa8-5a67-4f84-b062-c3591af56f3f",
   "metadata": {},
   "source": [
    "5. Remove an element from a list by its value."
   ]
  },
  {
   "cell_type": "code",
   "execution_count": 15,
   "id": "648f25f0-4317-4c45-86ba-dcea1084f752",
   "metadata": {},
   "outputs": [
    {
     "name": "stdout",
     "output_type": "stream",
     "text": [
      "[1, 3, 4, 5, 6, 7, 8, 9, 10]\n"
     ]
    }
   ],
   "source": [
    "lis = [1, 2, 3, 4, 5, 6, 7, 8, 9, 10]\n",
    "lis.remove(2)\n",
    "print(lis)"
   ]
  },
  {
   "cell_type": "markdown",
   "id": "3dea71d9-0028-4675-8241-416ec9cf2739",
   "metadata": {},
   "source": [
    "6. Remove an element from a list by its index."
   ]
  },
  {
   "cell_type": "code",
   "execution_count": 17,
   "id": "38c1488e-3cf3-4ec1-badd-32924a99fb12",
   "metadata": {},
   "outputs": [
    {
     "name": "stdout",
     "output_type": "stream",
     "text": [
      "[1, 2, 4, 5, 6, 7, 8, 9, 10]\n"
     ]
    }
   ],
   "source": [
    "lis = [1, 2, 3, 4, 5, 6, 7, 8, 9, 10]\n",
    "lis.pop(2)\n",
    "print(lis)"
   ]
  },
  {
   "cell_type": "markdown",
   "id": "f49aa019-4304-47ff-8a6b-0c3894bd70b3",
   "metadata": {},
   "source": [
    "7. Check if an element exists in a list."
   ]
  },
  {
   "cell_type": "code",
   "execution_count": 18,
   "id": "89cd7325-aeda-41aa-985b-8f905d448da7",
   "metadata": {},
   "outputs": [
    {
     "name": "stdout",
     "output_type": "stream",
     "text": [
      "not present\n"
     ]
    }
   ],
   "source": [
    "lis = [1, 2, 3, 4, 5, 6, 7, 8, 9, 10]\n",
    "ele=12\n",
    "if ele in lis :\n",
    "    print(\"present\")\n",
    "else :\n",
    "    print(\"not present\")\n",
    "    "
   ]
  },
  {
   "cell_type": "markdown",
   "id": "587afd82-204e-41b4-8ffb-45edfcae5005",
   "metadata": {},
   "source": [
    "8. Find the index of the first occurrence of an element in a list."
   ]
  },
  {
   "cell_type": "code",
   "execution_count": 19,
   "id": "e242a076-e354-461d-aaa8-3e53a772f596",
   "metadata": {},
   "outputs": [
    {
     "data": {
      "text/plain": [
       "2"
      ]
     },
     "execution_count": 19,
     "metadata": {},
     "output_type": "execute_result"
    }
   ],
   "source": [
    "lis = [1, 2, 3, 4, 5, 6, 7, 8, 9, 10]\n",
    "lis.index(3)"
   ]
  },
  {
   "cell_type": "markdown",
   "id": "1d52ef35-fb08-4da8-af4a-a1a4e0c71315",
   "metadata": {},
   "source": [
    "9. Count the occurrences of an element in a list."
   ]
  },
  {
   "cell_type": "code",
   "execution_count": 20,
   "id": "4062736a-3386-4b23-8109-f238780e6aba",
   "metadata": {},
   "outputs": [
    {
     "data": {
      "text/plain": [
       "3"
      ]
     },
     "execution_count": 20,
     "metadata": {},
     "output_type": "execute_result"
    }
   ],
   "source": [
    "lis = [1, 2, 3, 4, 5, 6, 7, 8, 5,9, 10, 5]\n",
    "lis.count(5)"
   ]
  },
  {
   "cell_type": "markdown",
   "id": "abab6530-e973-4a6e-b357-54fdb365bf87",
   "metadata": {},
   "source": [
    "10. Reverse the order of elements in a list."
   ]
  },
  {
   "cell_type": "code",
   "execution_count": 22,
   "id": "7f1f3434-e8db-4ded-9829-887ee6da50ab",
   "metadata": {},
   "outputs": [
    {
     "name": "stdout",
     "output_type": "stream",
     "text": [
      "[5, 10, 9, 5, 8, 7, 6, 5, 4, 3, 2, 1]\n"
     ]
    }
   ],
   "source": [
    "lis = [1, 2, 3, 4, 5, 6, 7, 8, 5,9, 10, 5]\n",
    "lis.reverse()\n",
    "print(lis)"
   ]
  },
  {
   "cell_type": "markdown",
   "id": "1b91b696-b442-46ee-a76b-7863f8a027b8",
   "metadata": {},
   "source": [
    "11. Sort a list in ascending order."
   ]
  },
  {
   "cell_type": "code",
   "execution_count": 25,
   "id": "1bae9a5d-f8d5-4ea3-89c8-65e69cae25b6",
   "metadata": {},
   "outputs": [
    {
     "data": {
      "text/plain": [
       "[1, 2, 3, 4, 5, 5, 5, 6, 7, 8, 9, 10]"
      ]
     },
     "execution_count": 25,
     "metadata": {},
     "output_type": "execute_result"
    }
   ],
   "source": [
    "lis = [5, 10, 9, 5, 8, 7, 6, 5, 4, 3, 2, 1]\n",
    "lis.sort()\n",
    "lis"
   ]
  },
  {
   "cell_type": "markdown",
   "id": "7090b996-6171-4f62-a6be-daf918902703",
   "metadata": {},
   "source": [
    "12. Sort a list in descending order.\n"
   ]
  },
  {
   "cell_type": "code",
   "execution_count": 26,
   "id": "6998777c-b62f-4428-b60f-c396541e2305",
   "metadata": {},
   "outputs": [
    {
     "name": "stdout",
     "output_type": "stream",
     "text": [
      "[10, 9, 8, 7, 6, 5, 5, 5, 4, 3, 2, 1]\n"
     ]
    }
   ],
   "source": [
    "lis = [1, 2, 3, 4, 5, 6, 7, 8, 5,9, 10, 5]\n",
    "lis.sort(reverse= True)\n",
    "print(lis)"
   ]
  },
  {
   "cell_type": "markdown",
   "id": "cf49af6f-3927-4c22-996b-d905d4466c42",
   "metadata": {},
   "source": [
    "13. Create a list of even numbers from 1 to 20."
   ]
  },
  {
   "cell_type": "code",
   "execution_count": 28,
   "id": "cee32e5a-1c17-41a9-b44b-b58c668ae99e",
   "metadata": {},
   "outputs": [
    {
     "name": "stdout",
     "output_type": "stream",
     "text": [
      "[2, 4, 6, 8, 10, 12, 14, 16, 18, 20]\n"
     ]
    }
   ],
   "source": [
    "lis = []\n",
    "for i in range(1,21):\n",
    "    if  i%2==0:\n",
    "        lis.append(i)\n",
    "print(lis)\n",
    "    "
   ]
  },
  {
   "cell_type": "markdown",
   "id": "bde0be7b-3b52-45a1-a987-421b9df49105",
   "metadata": {},
   "source": [
    "14. Create a list of odd numbers from 1 to 20."
   ]
  },
  {
   "cell_type": "code",
   "execution_count": 29,
   "id": "4c21d7fd-a348-4dca-bdb5-f8b5f916de39",
   "metadata": {},
   "outputs": [
    {
     "name": "stdout",
     "output_type": "stream",
     "text": [
      "[1, 3, 5, 7, 9, 11, 13, 15, 17, 19]\n"
     ]
    }
   ],
   "source": [
    "lis = []\n",
    "for i in range(1,21):\n",
    "    if  i%2!=0:\n",
    "        lis.append(i)\n",
    "print(lis)\n",
    "    "
   ]
  },
  {
   "cell_type": "markdown",
   "id": "0feb1c87-bca2-4b93-9411-0d20a67b9375",
   "metadata": {},
   "source": [
    "15. Find the sum of all elements in a list."
   ]
  },
  {
   "cell_type": "code",
   "execution_count": 34,
   "id": "56fc8495-a8c5-4475-80a5-068ff8691a2a",
   "metadata": {},
   "outputs": [
    {
     "name": "stdout",
     "output_type": "stream",
     "text": [
      "55\n"
     ]
    },
    {
     "data": {
      "text/plain": [
       "55"
      ]
     },
     "execution_count": 34,
     "metadata": {},
     "output_type": "execute_result"
    }
   ],
   "source": [
    "i=0\n",
    "lis = [1, 2, 3, 4, 5, 6, 7, 8, 9, 10]\n",
    "for j in lis:\n",
    "    i=i+j\n",
    "print(i)\n",
    "sum(lis)"
   ]
  },
  {
   "cell_type": "markdown",
   "id": "755368cd-7b30-4630-8b59-e66408313c17",
   "metadata": {},
   "source": [
    "16. Find the maximum value in a list."
   ]
  },
  {
   "cell_type": "code",
   "execution_count": 39,
   "id": "32712392-183e-46dd-a34b-3b367d02984a",
   "metadata": {},
   "outputs": [
    {
     "name": "stdout",
     "output_type": "stream",
     "text": [
      "max number in list is: 24\n"
     ]
    },
    {
     "data": {
      "text/plain": [
       "24"
      ]
     },
     "execution_count": 39,
     "metadata": {},
     "output_type": "execute_result"
    }
   ],
   "source": [
    "lis = [1, 2, 3, 4, 5,12, 6, 7, 8,24, 9, 10]\n",
    "j = 0\n",
    "for i in lis:\n",
    "    if i > j:\n",
    "        j=i\n",
    "    else:\n",
    "        continue\n",
    "        \n",
    "print('max number in list is:',j)\n",
    "max(lis)\n",
    "\n"
   ]
  },
  {
   "cell_type": "markdown",
   "id": "f0c111d0-4ebb-4751-94f4-dc442d438b37",
   "metadata": {},
   "source": [
    "17. Find the minimum value in a list."
   ]
  },
  {
   "cell_type": "code",
   "execution_count": 45,
   "id": "8ec7421d-b61f-4a35-a5d6-88a892fdf203",
   "metadata": {},
   "outputs": [
    {
     "name": "stdout",
     "output_type": "stream",
     "text": [
      "min number in list is: 0\n"
     ]
    }
   ],
   "source": [
    "lis = [1, 2, 3, 4, 5,12, 6,0, 7, 8,24, 9, 10]\n",
    "min_value = lis[0]\n",
    "for value in lis:\n",
    "    if value < min_value:\n",
    "        min_value = value\n",
    "print('min number in list is:',min_value)"
   ]
  },
  {
   "cell_type": "markdown",
   "id": "aed8af4d-4ab4-4bc4-b09b-99e5ced1167e",
   "metadata": {},
   "source": [
    "18. Create a list of squares of numbers from 1 to 10."
   ]
  },
  {
   "cell_type": "code",
   "execution_count": 47,
   "id": "8a6ba0c4-7583-401d-ae22-834065393eb3",
   "metadata": {},
   "outputs": [
    {
     "name": "stdout",
     "output_type": "stream",
     "text": [
      "[1, 4, 9, 16, 25, 36, 49, 64, 81, 100]\n"
     ]
    }
   ],
   "source": [
    "lis = [1, 2, 3, 4, 5, 6, 7, 8, 9, 10]\n",
    "j=[]\n",
    "for i  in  lis:\n",
    "    i=i**2\n",
    "    j.append(i)\n",
    "print(j)\n",
    "\n",
    "    "
   ]
  },
  {
   "cell_type": "markdown",
   "id": "a7567ce3-d615-4198-a2ee-aeab36922d35",
   "metadata": {},
   "source": [
    "19. Create a list of random numbers."
   ]
  },
  {
   "cell_type": "code",
   "execution_count": 52,
   "id": "d0c4febe-349d-43c2-8858-29e85b5969a4",
   "metadata": {},
   "outputs": [
    {
     "name": "stdout",
     "output_type": "stream",
     "text": [
      "[312, 66, 300, 281, 103, 442, 221, 380, 273, 286, 128, 332, 27, 206, 495, 41, 367, 308, 205, 191, 116, 193, 185, 396, 123, 482, 66, 20, 365, 53, 290, 143, 21, 317, 6, 184, 94, 27, 395, 433, 259, 168, 115, 118, 113, 27, 291, 404, 4, 499, 451, 78, 168, 74, 459, 106, 386, 456, 443, 226, 56, 107, 332, 474, 446, 213, 21, 347, 216, 265, 327, 108, 272, 160, 148, 422, 87, 306, 477, 121, 339, 289, 319, 222, 290, 394, 331, 186, 28, 348, 343, 150, 147, 461, 285, 410, 196, 427, 198, 272, 13, 337, 189, 231, 438, 415, 153, 358, 18, 332, 159, 396, 238, 151, 143, 54, 373, 186, 418, 3, 105, 28, 500, 408, 429, 22, 326, 15, 40, 434, 484, 442, 66, 479, 444, 60, 83, 107, 268, 66, 356, 257, 481, 45, 125, 283, 309, 321, 72, 310, 6, 3, 225, 443, 326, 484, 286, 140, 77, 483, 474, 240, 266, 323, 446, 314, 357, 415, 299, 454, 488, 379, 190, 342, 228, 394, 83, 179, 343, 214, 272, 346, 44, 492, 450, 93, 369, 127, 447, 321, 449, 410, 318, 102, 488, 303, 327, 28, 215, 53, 128, 83, 429, 65, 487, 131, 232, 200, 191, 247, 491, 314, 132, 7, 464, 487, 414, 455, 262, 68, 229, 384, 452, 301, 346, 435, 413, 166, 270, 241, 8, 85, 381, 420, 415, 122, 356, 396, 356, 493, 144, 224, 189, 196, 480, 257, 446, 193, 143, 142]\n"
     ]
    }
   ],
   "source": [
    "import random\n",
    "length = 250\n",
    "random_numbers = [random.randint(1,500)for i in range(length) ]\n",
    "print(random_numbers)\n"
   ]
  },
  {
   "cell_type": "markdown",
   "id": "6058fd8d-222a-44a5-89e3-534ea7449445",
   "metadata": {},
   "source": [
    "20. Remove duplicates from a list."
   ]
  },
  {
   "cell_type": "code",
   "execution_count": 55,
   "id": "4e542aa9-7c68-446d-a4f2-b9a0ae515db0",
   "metadata": {},
   "outputs": [
    {
     "name": "stdout",
     "output_type": "stream",
     "text": [
      "Original list: [1, 2, 3, 4, 5, 6, 7, 8, 9, 10, 4]\n",
      "List with duplicates removed (using iteration): [1, 2, 3, 4, 5, 6, 7, 8, 9, 10]\n"
     ]
    }
   ],
   "source": [
    "lis = [1, 2, 3, 4, 5, 6, 7, 8, 9, 10, 4]\n",
    "\n",
    "\n",
    "# Create a new list with unique elements by iterating through the original list\n",
    "unique_list_iter = []\n",
    "for item in lis:\n",
    "    if item not in unique_list_iter:\n",
    "        unique_list_iter.append(item)\n",
    "\n",
    "print(\"Original list:\", lis)\n",
    "print(\"List with duplicates removed (using iteration):\", unique_list_iter)\n",
    "\n",
    "        "
   ]
  },
  {
   "cell_type": "markdown",
   "id": "288d59d4-dcb3-4091-98ea-ce586c7b01ce",
   "metadata": {},
   "source": [
    "21. Find the common elements between two lists.\n"
   ]
  },
  {
   "cell_type": "code",
   "execution_count": 58,
   "id": "ed4d1196-ecce-4c8a-b4cd-abd5755dcba2",
   "metadata": {},
   "outputs": [
    {
     "name": "stdout",
     "output_type": "stream",
     "text": [
      "[1, 2, 3, 4, 5]\n"
     ]
    }
   ],
   "source": [
    "lis = [1, 2, 3, 4, 5, 6, 7, 8, 9, 10]\n",
    "original_list = [1, 2, 2, 3, 4, 4, 5]\n",
    "common_list=[]\n",
    "for i in lis:\n",
    "    if i in original_list:\n",
    "        common_list.append(i)\n",
    "print(common_list)"
   ]
  },
  {
   "cell_type": "markdown",
   "id": "624f158f-e06f-426f-a755-8bc2ac6b827c",
   "metadata": {},
   "source": [
    "22. Find the difference between two lists."
   ]
  },
  {
   "cell_type": "code",
   "execution_count": 59,
   "id": "85af75cb-5581-4d97-b215-0fe34e1aef5a",
   "metadata": {},
   "outputs": [
    {
     "name": "stdout",
     "output_type": "stream",
     "text": [
      "[6, 7, 8, 9, 10]\n"
     ]
    }
   ],
   "source": [
    "lis = [1, 2, 3, 4, 5, 6, 7, 8, 9, 10]\n",
    "original_list = [1, 2, 2, 3, 4, 4, 5]\n",
    "common_list=[]\n",
    "for i in lis:\n",
    "    if i not in original_list:\n",
    "        common_list.append(i)\n",
    "print(common_list)"
   ]
  },
  {
   "cell_type": "markdown",
   "id": "9cfaa075-0352-407e-b901-6eb37d1e1860",
   "metadata": {},
   "source": [
    "23. Merge two lists."
   ]
  },
  {
   "cell_type": "code",
   "execution_count": 1,
   "id": "b416f09c-e64d-4e6c-89cf-d19ea0c7e3c7",
   "metadata": {},
   "outputs": [
    {
     "name": "stdout",
     "output_type": "stream",
     "text": [
      "[1, 2, 3, 4, 5, 6, 7, 8, 9, 10, 1, 2, 2, 3, 4, 4, 5]\n"
     ]
    }
   ],
   "source": [
    "lis = [1, 2, 3, 4, 5, 6, 7, 8, 9, 10]\n",
    "original_list = [1, 2, 2, 3, 4, 4, 5]\n",
    "common_list=lis + original_list\n",
    "print(common_list)"
   ]
  },
  {
   "cell_type": "markdown",
   "id": "3acd5d31-26df-4b39-9bd2-0466e33e0ab7",
   "metadata": {},
   "source": [
    "24.Multiply all elements in a list by 2."
   ]
  },
  {
   "cell_type": "code",
   "execution_count": 7,
   "id": "dab26809-f9d6-4fe4-9c52-490121aa3df5",
   "metadata": {},
   "outputs": [
    {
     "data": {
      "text/plain": [
       "[2, 4, 6, 8, 10, 12, 14, 16, 18, 20]"
      ]
     },
     "execution_count": 7,
     "metadata": {},
     "output_type": "execute_result"
    }
   ],
   "source": [
    "lis=[1, 2, 3, 4, 5, 6, 7, 8, 9, 10]\n",
    "multiple_lis=[x*2 for x in lis ]\n",
    "multiple_lis"
   ]
  },
  {
   "cell_type": "markdown",
   "id": "0c6b59f3-347d-4a9f-bda1-da68ab5c219e",
   "metadata": {},
   "source": [
    "25. Filter out all even numbers from a list."
   ]
  },
  {
   "cell_type": "code",
   "execution_count": 9,
   "id": "023001d7-73db-40c5-bf7b-9fea101d57ff",
   "metadata": {},
   "outputs": [
    {
     "data": {
      "text/plain": [
       "[1, 3, 7, 9]"
      ]
     },
     "execution_count": 9,
     "metadata": {},
     "output_type": "execute_result"
    }
   ],
   "source": [
    "numbers = [2, 1,4, 6,3, 8,7, 10, 12,9, 14, 16, 18, 20]\n",
    "filter_num=[num for num in numbers if num % 2 != 0]\n",
    "filter_num"
   ]
  },
  {
   "cell_type": "markdown",
   "id": "27f357c2-f408-4aee-bf6d-7abacc3d95eb",
   "metadata": {},
   "source": [
    "26. Convert a list of strings to a list of integers."
   ]
  },
  {
   "cell_type": "code",
   "execution_count": 13,
   "id": "2d532473-15fa-4f18-b49d-277d2d5c786d",
   "metadata": {},
   "outputs": [
    {
     "data": {
      "text/plain": [
       "[1, 2, 3, 4, 5]"
      ]
     },
     "execution_count": 13,
     "metadata": {},
     "output_type": "execute_result"
    }
   ],
   "source": [
    "string_list = [\"1\", \"2\", \"3\", \"4\", \"5\"]\n",
    "int_list=[int(num) for num in string_list]\n",
    "int_list\n"
   ]
  },
  {
   "cell_type": "markdown",
   "id": "70f16dce-c43d-4be7-917a-19d58fff1f61",
   "metadata": {},
   "source": [
    "27. Convert a list of integers to a list of strings."
   ]
  },
  {
   "cell_type": "code",
   "execution_count": 14,
   "id": "61b9e6c2-d9e8-4f95-b419-85367fc12f00",
   "metadata": {},
   "outputs": [
    {
     "data": {
      "text/plain": [
       "['1', '2', '3', '4', '5']"
      ]
     },
     "execution_count": 14,
     "metadata": {},
     "output_type": "execute_result"
    }
   ],
   "source": [
    "int_list= [1, 2, 3, 4, 5]\n",
    "string_list=[str(num) for num in int_list]\n",
    "string_list"
   ]
  },
  {
   "cell_type": "markdown",
   "id": "7e2e1584-013e-430c-8879-76572205ba00",
   "metadata": {},
   "source": [
    "\n",
    "28. Flatten a nested list."
   ]
  },
  {
   "cell_type": "code",
   "execution_count": 15,
   "id": "002ccacb-53d9-4c56-b92d-6020f9004441",
   "metadata": {},
   "outputs": [
    {
     "name": "stdout",
     "output_type": "stream",
     "text": [
      "[1, 2, 3, 4, 5, 6, 7]\n"
     ]
    }
   ],
   "source": [
    "my_list = [[1], [2, 3], [4, 5, 6, 7]]\n",
    "\n",
    "flat_list = [num for sublist in my_list for num in sublist]\n",
    "print(flat_list)"
   ]
  },
  {
   "cell_type": "markdown",
   "id": "5753bacb-bb29-4329-a054-18a5b6b2453b",
   "metadata": {},
   "source": [
    "29. Create a list of the first 10 Fibonacci numbers."
   ]
  },
  {
   "cell_type": "code",
   "execution_count": 18,
   "id": "f766f0a2-4a4d-46f8-904c-754aed73db29",
   "metadata": {},
   "outputs": [
    {
     "name": "stdout",
     "output_type": "stream",
     "text": [
      "34\n"
     ]
    }
   ],
   "source": [
    "def Fibonacci(n):\n",
    " \n",
    "    # Check if input is 0 then it will\n",
    "    # print incorrect input\n",
    "    if n < 0:\n",
    "        print(\"Incorrect input\")\n",
    " \n",
    "    # Check if n is 0\n",
    "    # then it will return 0\n",
    "    elif n == 0:\n",
    "        return 0\n",
    " \n",
    "    # Check if n is 1,2\n",
    "    # it will return 1\n",
    "    elif n == 1 or n == 2:\n",
    "        return 1\n",
    " \n",
    "    else:\n",
    "        return Fibonacci(n-1) + Fibonacci(n-2)\n",
    " \n",
    " \n",
    "# Driver Program\n",
    "print(Fibonacci(9))"
   ]
  },
  {
   "cell_type": "markdown",
   "id": "8e71ed22-da68-4e73-a6a8-51125eaa103b",
   "metadata": {},
   "source": [
    "30.Check if a list is sorted."
   ]
  },
  {
   "cell_type": "code",
   "execution_count": 23,
   "id": "74d74e59-bfb0-45c8-86d7-8466c0877df0",
   "metadata": {},
   "outputs": [
    {
     "data": {
      "text/plain": [
       "False"
      ]
     },
     "execution_count": 23,
     "metadata": {},
     "output_type": "execute_result"
    }
   ],
   "source": [
    "asc_list= [1, 2, 3,6, 4, 5]\n",
    "\n",
    "all(asc_list[i] <= asc_list[i + 1] for i in range(len(asc_list) - 1))\n",
    "        "
   ]
  },
  {
   "cell_type": "markdown",
   "id": "3859711e-8347-43a9-8c5d-d78c8cdb0633",
   "metadata": {},
   "source": [
    "31.Rotate a list to the left by `n` positions."
   ]
  },
  {
   "cell_type": "code",
   "execution_count": 26,
   "id": "e107ce39-814c-41be-8a0f-7e472734ebea",
   "metadata": {},
   "outputs": [
    {
     "name": "stdout",
     "output_type": "stream",
     "text": [
      "Original list : [1, 4, 6, 7, 2]\n",
      "List after left rotate by 3 : [7, 2, 1, 4, 6]\n"
     ]
    }
   ],
   "source": [
    "test_list = [1, 4, 6, 7, 2]\n",
    " \n",
    "# printing original list\n",
    "print (\"Original list : \" + str(test_list))\n",
    " \n",
    "# using slicing to left rotate by 3\n",
    "test_list = test_list[3:] + test_list[:3]\n",
    " \n",
    "# Printing list after left rotate\n",
    "print (\"List after left rotate by 3 : \" + str(test_list))"
   ]
  },
  {
   "cell_type": "markdown",
   "id": "11b104f6-9c6e-4e47-a639-e6244bde58d8",
   "metadata": {},
   "source": [
    "31.Rotate a list to the right by n positions."
   ]
  },
  {
   "cell_type": "code",
   "execution_count": 27,
   "id": "69f8d35b-6d5e-4dcc-a895-38ba01bb8922",
   "metadata": {},
   "outputs": [
    {
     "name": "stdout",
     "output_type": "stream",
     "text": [
      "Original list : [1, 4, 6, 7, 2]\n",
      "List after left rotate by 3 : [6, 7, 2, 1, 4]\n"
     ]
    }
   ],
   "source": [
    "test_list = [1, 4, 6, 7, 2]\n",
    " \n",
    "# printing original list\n",
    "print (\"Original list : \" + str(test_list))\n",
    " \n",
    "# using slicing to left rotate by 3\n",
    "test_list = test_list[2:] + test_list[:2]\n",
    " \n",
    "# Printing list after left rotate\n",
    "print (\"List after left rotate by 3 : \" + str(test_list))"
   ]
  },
  {
   "cell_type": "markdown",
   "id": "62109645-0d84-4042-8563-0cca230406f3",
   "metadata": {},
   "source": [
    "33. Create a list of prime numbers up to 50."
   ]
  },
  {
   "cell_type": "code",
   "execution_count": 47,
   "id": "e35fc6a3-adbf-433e-8660-1244af22a70f",
   "metadata": {},
   "outputs": [
    {
     "data": {
      "text/plain": [
       "[2, 3, 5, 7, 11, 13, 17, 19, 23, 29, 31, 37, 41, 43, 47]"
      ]
     },
     "execution_count": 47,
     "metadata": {},
     "output_type": "execute_result"
    }
   ],
   "source": [
    "\n",
    "newlist=[]\n",
    "for num in range(1,51):\n",
    "   # all prime numbers are greater than 1\n",
    "   if num > 1:\n",
    "       for i in range(2, num):\n",
    "           if (num % i) == 0:\n",
    "               break\n",
    "       else:\n",
    "        newlist.append(num)\n",
    "newlist\n",
    "           \n",
    "                "
   ]
  },
  {
   "cell_type": "markdown",
   "id": "c1e61ac9-5d07-4939-9487-c38dba881e97",
   "metadata": {},
   "source": [
    "34. Split a list into chunks of size `n`."
   ]
  },
  {
   "cell_type": "code",
   "execution_count": 43,
   "id": "218d88a8-1a36-41a7-a374-10db0472c6d4",
   "metadata": {},
   "outputs": [
    {
     "name": "stdout",
     "output_type": "stream",
     "text": [
      "[1, 2]\n",
      "[3, 4]\n",
      "[5, 6]\n",
      "[7, 8]\n",
      "[9]\n"
     ]
    }
   ],
   "source": [
    "my_list = [1, 2, 3, 4, 5, 6, 7, 8, 9] \n",
    "start = 0\n",
    "end = len(my_list) \n",
    "step = 2\n",
    "for i in range(start, end, step): \n",
    "    x = i \n",
    "    print(my_list[x:x+step]) "
   ]
  },
  {
   "cell_type": "markdown",
   "id": "36c8a392-cdab-4cb2-8928-3b61a9615541",
   "metadata": {},
   "source": [
    "35.Find the second largest number in a list."
   ]
  },
  {
   "cell_type": "code",
   "execution_count": 47,
   "id": "43be6f21-4b8d-4d00-ae48-34f10e27d0dc",
   "metadata": {},
   "outputs": [
    {
     "name": "stdout",
     "output_type": "stream",
     "text": [
      "6\n"
     ]
    }
   ],
   "source": [
    "test_list = [1, 4, 6, 7, 2]\n",
    "test_list.sort()\n",
    "print(test_list[-2])\n",
    "\n",
    "    "
   ]
  },
  {
   "cell_type": "markdown",
   "id": "eeeadac6-b972-4cbe-8830-0f6ff6df7b71",
   "metadata": {},
   "source": [
    "36. Replace every element in a list with its square."
   ]
  },
  {
   "cell_type": "code",
   "execution_count": 48,
   "id": "ed85a785-c84c-4daf-a8a4-bc75a0c12438",
   "metadata": {},
   "outputs": [
    {
     "name": "stdout",
     "output_type": "stream",
     "text": [
      "[1, 4, 9, 16, 25, 36, 49, 64, 81, 100]\n"
     ]
    }
   ],
   "source": [
    "lis = [1, 2, 3, 4, 5, 6, 7, 8, 9, 10]\n",
    "j=[]\n",
    "for i  in  lis:\n",
    "    i=i**2\n",
    "    j.append(i)\n",
    "print(j)\n"
   ]
  },
  {
   "cell_type": "markdown",
   "id": "7459f42f-7566-4d00-a05e-71cb55d6ff93",
   "metadata": {},
   "source": [
    "37.Convert a list to a dictionary where list elements become keys and their\n",
    "indices become values."
   ]
  },
  {
   "cell_type": "code",
   "execution_count": 50,
   "id": "2c9eef52-e307-4046-a0d0-8ceac8ff388a",
   "metadata": {},
   "outputs": [
    {
     "data": {
      "text/plain": [
       "{1: 0, 2: 1, 3: 2, 4: 3, 5: 4, 6: 5, 7: 6, 8: 7, 9: 8, 10: 9}"
      ]
     },
     "execution_count": 50,
     "metadata": {},
     "output_type": "execute_result"
    }
   ],
   "source": [
    "lis = [1, 2, 3, 4, 5, 6, 7, 8, 9, 10]\n",
    "dic_list={value:index for index ,value in enumerate(lis)}\n",
    "dic_list"
   ]
  },
  {
   "cell_type": "markdown",
   "id": "f7c22166-5de9-4d51-9348-c24b7b2f953d",
   "metadata": {},
   "source": [
    "38. Shuffle the elements of a list randomly."
   ]
  },
  {
   "cell_type": "code",
   "execution_count": 52,
   "id": "87be3742-749c-4b8f-8c81-22e32712a54a",
   "metadata": {},
   "outputs": [
    {
     "data": {
      "text/plain": [
       "[8, 7, 6, 10, 4, 5, 2, 3, 1, 9]"
      ]
     },
     "execution_count": 52,
     "metadata": {},
     "output_type": "execute_result"
    }
   ],
   "source": [
    "import random\n",
    "lst = [1, 2, 3, 4, 5, 6, 7, 8, 9, 10]\n",
    "random.shuffle(lst)\n",
    "lst"
   ]
  },
  {
   "cell_type": "markdown",
   "id": "02e964bc-aaa8-4272-bd7a-a805c6198c1c",
   "metadata": {},
   "source": [
    "39. Create a list of the first 10 factorial numbers."
   ]
  },
  {
   "cell_type": "code",
   "execution_count": 53,
   "id": "85c42d43-04e4-46e0-a1f7-83957d9a7735",
   "metadata": {},
   "outputs": [
    {
     "name": "stdout",
     "output_type": "stream",
     "text": [
      "Factorial numbers: [1, 1, 2, 6, 24, 120, 720, 5040, 40320, 362880]\n"
     ]
    }
   ],
   "source": [
    "import math\n",
    "\n",
    "# Create a list of the first 10 factorial numbers\n",
    "factorial_numbers = [math.factorial(i) for i in range(10)]\n",
    "\n",
    "# Print the list\n",
    "print(\"Factorial numbers:\", factorial_numbers)"
   ]
  },
  {
   "cell_type": "markdown",
   "id": "6c8ccd80-5d72-409f-9d97-6908e3a3c16a",
   "metadata": {},
   "source": [
    "40. Check if two lists have at least one element in common."
   ]
  },
  {
   "cell_type": "code",
   "execution_count": 55,
   "id": "fa0a6546-c6c1-493d-89ed-ba1db4f4aa74",
   "metadata": {},
   "outputs": [
    {
     "name": "stdout",
     "output_type": "stream",
     "text": [
      "no common element\n"
     ]
    }
   ],
   "source": [
    "list1 = [1, 2, 3, 4, 10]\n",
    "list2 = [5, 6, 7, 8, 9]\n",
    "lst=any(element in list2 for element in list1)\n",
    "if lst:\n",
    "    print(\"common element\")\n",
    "else :\n",
    "    print(\"no common element\")"
   ]
  },
  {
   "cell_type": "markdown",
   "id": "4565e552-8aec-48d6-8151-4fafcd65f971",
   "metadata": {},
   "source": [
    "41. Remove all elements from a list."
   ]
  },
  {
   "cell_type": "code",
   "execution_count": 5,
   "id": "47b199bb-fe9a-487d-a172-6f81e37f5154",
   "metadata": {},
   "outputs": [
    {
     "name": "stdout",
     "output_type": "stream",
     "text": [
      "List after clearing: []\n"
     ]
    }
   ],
   "source": [
    "my_list = [1, 2, 3, 4, 5]\n",
    "\n",
    "# Use the clear() method to remove all elements\n",
    "my_list.clear()\n",
    "\n",
    "print(\"List after clearing:\", my_list)"
   ]
  },
  {
   "cell_type": "markdown",
   "id": "28253bc8-46ee-4ebc-98f2-e0395e47b93b",
   "metadata": {},
   "source": [
    "42. Replace negative numbers in a list with 0."
   ]
  },
  {
   "cell_type": "code",
   "execution_count": 44,
   "id": "848bbd42-cedb-4fa5-94f5-677a8f94e8de",
   "metadata": {},
   "outputs": [
    {
     "data": {
      "text/plain": [
       "[1, 2, 3, 0, 5]"
      ]
     },
     "execution_count": 44,
     "metadata": {},
     "output_type": "execute_result"
    }
   ],
   "source": [
    "my_list = [1, 2, 3, -4, 5 ,]\n",
    "for i  in range(len(my_list)):\n",
    "    if my_list[i] < 0:\n",
    "        my_list[i] = 0\n",
    "        \n",
    "my_list\n",
    "    \n",
    "    \n"
   ]
  },
  {
   "cell_type": "markdown",
   "id": "5231e88c-e1ca-40be-8310-6ebb5b0b9d72",
   "metadata": {},
   "source": [
    "43. Convert a string into a list of words."
   ]
  },
  {
   "cell_type": "code",
   "execution_count": 11,
   "id": "8f3b5b63-80dd-4f39-876f-f37ddd877db6",
   "metadata": {},
   "outputs": [
    {
     "data": {
      "text/plain": [
       "list"
      ]
     },
     "execution_count": 11,
     "metadata": {},
     "output_type": "execute_result"
    }
   ],
   "source": [
    "words = \"hello i joined the course called FSDS\"\n",
    "split_words=words.split()\n",
    "split_words\n",
    "type(split_words)"
   ]
  },
  {
   "cell_type": "markdown",
   "id": "8ef917e6-3917-41cb-95da-a2a6fd079ede",
   "metadata": {},
   "source": [
    "44.Convert a list of words into a string."
   ]
  },
  {
   "cell_type": "code",
   "execution_count": 15,
   "id": "2d2d872d-4ba8-4e15-ad7b-60eed4728a15",
   "metadata": {},
   "outputs": [
    {
     "data": {
      "text/plain": [
       "str"
      ]
     },
     "execution_count": 15,
     "metadata": {},
     "output_type": "execute_result"
    }
   ],
   "source": [
    "list_words=['hello', 'i', 'joined', 'the', 'course', 'called', 'FSDS']\n",
    "string = \" \".join(list_words)\n",
    "string\n",
    "type(string)"
   ]
  },
  {
   "cell_type": "markdown",
   "id": "df995b75-6b2b-4a2f-8bcd-6056dc778396",
   "metadata": {},
   "source": [
    "45. Create a list of the first `n` powers of 2."
   ]
  },
  {
   "cell_type": "code",
   "execution_count": 17,
   "id": "7149b757-3217-40e1-b8d7-7634dcc62ee3",
   "metadata": {},
   "outputs": [
    {
     "data": {
      "text/plain": [
       "[0, 1, 4, 9, 16, 25, 36, 49, 64, 81, 100]"
      ]
     },
     "execution_count": 17,
     "metadata": {},
     "output_type": "execute_result"
    }
   ],
   "source": [
    "n=10\n",
    "pow_list=[i**2 for i in range(n+1)]\n",
    "pow_list\n"
   ]
  },
  {
   "cell_type": "markdown",
   "id": "6714d70c-5082-4fb7-83b8-039c1e3c1324",
   "metadata": {},
   "source": [
    "46. Find the longest string in a list of strings."
   ]
  },
  {
   "cell_type": "code",
   "execution_count": 49,
   "id": "c754b82f-c2b8-4a77-8e96-00d4a86bdf9a",
   "metadata": {},
   "outputs": [
    {
     "data": {
      "text/plain": [
       "('FSDSsss', 7)"
      ]
     },
     "execution_count": 49,
     "metadata": {},
     "output_type": "execute_result"
    }
   ],
   "source": [
    "words = \"hello i joined the course called FSDSsss\"\n",
    "split_words=words.split()\n",
    "Max_num = 0\n",
    "Max_char=\"\"\n",
    "\n",
    "for i in split_words:\n",
    "    if Max_num < len(i):\n",
    "        Max_char=i\n",
    "        Max_num=len(i)\n",
    "Max_char,Max_num\n",
    "    "
   ]
  },
  {
   "cell_type": "markdown",
   "id": "be71f56a-22b8-462c-8691-c72aea316956",
   "metadata": {},
   "source": [
    "47. Find the shortest string in a list of strings."
   ]
  },
  {
   "cell_type": "code",
   "execution_count": 51,
   "id": "302c46b2-e2fe-4f85-a428-078114cab346",
   "metadata": {},
   "outputs": [
    {
     "data": {
      "text/plain": [
       "('i', 1)"
      ]
     },
     "execution_count": 51,
     "metadata": {},
     "output_type": "execute_result"
    }
   ],
   "source": [
    "words = \"hello i joined the course called FSDSsss\"\n",
    "split_words=words.split()\n",
    "Max_num = len(split_words[0])\n",
    "Max_char=\"\"\n",
    "\n",
    "for i in split_words:\n",
    "    if Max_num > len(i):\n",
    "        Max_char=i\n",
    "        Max_num=len(i)\n",
    "Max_char,Max_num"
   ]
  },
  {
   "cell_type": "markdown",
   "id": "55b03290-51d6-43c3-a48e-6d04487cb85d",
   "metadata": {},
   "source": [
    "48. Create a list of the first `n` triangular numbers."
   ]
  },
  {
   "cell_type": "code",
   "execution_count": 57,
   "id": "e5f11323-6728-4cb8-b2f1-5ae95fd638fa",
   "metadata": {},
   "outputs": [
    {
     "name": "stdout",
     "output_type": "stream",
     "text": [
      "[1, 3, 6, 10, 15, 21, 28, 36, 45, 55]\n"
     ]
    }
   ],
   "source": [
    "n=10\n",
    "\n",
    "triangular_numbers = []\n",
    "\n",
    "triangular_numbers_list=[((i * (i + 1)) // 2) for i in range(1, n + 1)]\n",
    "print(triangular_numbers_list)\n"
   ]
  },
  {
   "cell_type": "markdown",
   "id": "26c903a7-260b-4832-ac38-7ab39c8bd03a",
   "metadata": {},
   "source": [
    "\n",
    "49.Check if a list contains another list as a subsequence."
   ]
  },
  {
   "cell_type": "code",
   "execution_count": 10,
   "id": "bef65ed0-d400-4fe0-a76c-9d5067a3eb36",
   "metadata": {},
   "outputs": [
    {
     "name": "stdout",
     "output_type": "stream",
     "text": [
      "True\n"
     ]
    }
   ],
   "source": [
    "main_list = [1, 2,3, 4, 5 , 6, 7,8]\n",
    "sub_list = [3, 4, 5]\n",
    "len_sub = len(sub_list)\n",
    "len_lst = len(main_list)\n",
    "if len_sub > len_lst:\n",
    "     False\n",
    "for i in range(len_lst - len_sub + 1):\n",
    "    if main_list[i:i + len_sub] == sub_list:\n",
    "        print(True)\n",
    "        \n"
   ]
  },
  {
   "cell_type": "markdown",
   "id": "e6b1bc95-2e58-489a-8dec-a580f14eef03",
   "metadata": {},
   "source": [
    "50. Swap two elements in a list by their indices."
   ]
  },
  {
   "cell_type": "code",
   "execution_count": 18,
   "id": "13a5a271-ffc3-438f-aea0-65cfa0856d70",
   "metadata": {},
   "outputs": [
    {
     "data": {
      "text/plain": [
       "[1, 5, 3, 4, 6, 2, 7, 8]"
      ]
     },
     "execution_count": 18,
     "metadata": {},
     "output_type": "execute_result"
    }
   ],
   "source": [
    "main_list = [1, 2,3, 4, 5 , 6, 7,8]\n",
    "first_num=5 # input(\"enter the swap 1st number\")\n",
    "sec_num= 2 #input(\"enter the swap 2st number\")\n",
    "index_1=main_list.index(first_num)\n",
    "index_2=main_list.index(sec_num)\n",
    "\n",
    "main_list.pop(index_1)\n",
    "main_list.pop(index_2)\n",
    "\n",
    "main_list.insert(index_1,sec_num)\n",
    "main_list.insert(index_2,first_num)\n",
    "\n",
    "\n",
    "main_list\n"
   ]
  },
  {
   "cell_type": "markdown",
   "id": "21753f9b-da62-4f5f-9b12-5a508c9acbab",
   "metadata": {},
   "source": [
    "\n",
    "\n",
    "Tuple Based Practice Problem :\n",
    "\n"
   ]
  },
  {
   "cell_type": "markdown",
   "id": "c29a4694-731d-4834-af5b-f6da7d7d9ca3",
   "metadata": {},
   "source": [
    "\n",
    "1. Create a tuple with integers from 1 to 5."
   ]
  },
  {
   "cell_type": "code",
   "execution_count": 4,
   "id": "73387d81-6e2b-447d-ac81-d5755cff3157",
   "metadata": {},
   "outputs": [
    {
     "data": {
      "text/plain": [
       "tuple"
      ]
     },
     "execution_count": 4,
     "metadata": {},
     "output_type": "execute_result"
    }
   ],
   "source": [
    "my_tuple =  (1,2,3,4,5)\n",
    "type(my_tuple)"
   ]
  },
  {
   "cell_type": "markdown",
   "id": "79b3e7ca-b439-4cbe-a7a2-36fc85283eab",
   "metadata": {},
   "source": [
    "2. Access the third element of a tuple."
   ]
  },
  {
   "cell_type": "code",
   "execution_count": 6,
   "id": "414eb917-70cc-4fb3-aec5-5b40a479aa08",
   "metadata": {},
   "outputs": [
    {
     "data": {
      "text/plain": [
       "tuple[2]"
      ]
     },
     "execution_count": 6,
     "metadata": {},
     "output_type": "execute_result"
    }
   ],
   "source": [
    "my_tuple =  (1,2,3,4,5)\n",
    "tuple[2]"
   ]
  },
  {
   "cell_type": "markdown",
   "id": "2dc6ab2a-5654-4177-bdde-a81e203ccf9a",
   "metadata": {},
   "source": [
    "3. Find the length of a tuple without using the `len()` function."
   ]
  },
  {
   "cell_type": "code",
   "execution_count": 15,
   "id": "1add30d1-3895-466a-b174-db14e1a39fb4",
   "metadata": {},
   "outputs": [
    {
     "name": "stdout",
     "output_type": "stream",
     "text": [
      "5\n"
     ]
    }
   ],
   "source": [
    "my_tuple =  (1,2,3,4,5)\n",
    "num_len=0\n",
    "for i in my_tuple:\n",
    "    if i != 0:\n",
    "        num_len=num_len+1\n",
    "    else:\n",
    "        print(None)\n",
    "print(num_len)\n",
    "        "
   ]
  },
  {
   "cell_type": "markdown",
   "id": "b0ef6a02-fd2c-45d8-8def-63481d2232d1",
   "metadata": {},
   "source": [
    "4. Count the occurrences of an element in a tuple.\n"
   ]
  },
  {
   "cell_type": "code",
   "execution_count": 17,
   "id": "e85db611-c821-4baa-a226-e0fd589ad02a",
   "metadata": {},
   "outputs": [
    {
     "data": {
      "text/plain": [
       "2"
      ]
     },
     "execution_count": 17,
     "metadata": {},
     "output_type": "execute_result"
    }
   ],
   "source": [
    "my_tuple =  (1,2,3,4,5,3)\n",
    "my_tuple.count(3)"
   ]
  },
  {
   "cell_type": "markdown",
   "id": "6d9498eb-8aaf-4eca-80ca-e2693f782763",
   "metadata": {},
   "source": [
    "5. Find the index of the first occurrence of an element in a tuple."
   ]
  },
  {
   "cell_type": "code",
   "execution_count": 18,
   "id": "a9269e70-88c8-410c-83ee-f492e554ab80",
   "metadata": {},
   "outputs": [
    {
     "data": {
      "text/plain": [
       "0"
      ]
     },
     "execution_count": 18,
     "metadata": {},
     "output_type": "execute_result"
    }
   ],
   "source": [
    "my_tuple =  (1,2,3,4,5,3)\n",
    "my_tuple.index(1)"
   ]
  },
  {
   "cell_type": "markdown",
   "id": "4b853861-0b21-4abd-975a-ee929ffe99fd",
   "metadata": {},
   "source": [
    "6. Check if an element exists in a tuple."
   ]
  },
  {
   "cell_type": "code",
   "execution_count": 24,
   "id": "810cdfa3-c526-4de5-b78b-440b7a2fe9f3",
   "metadata": {},
   "outputs": [
    {
     "name": "stdout",
     "output_type": "stream",
     "text": [
      "element 3 found at index 2\n"
     ]
    }
   ],
   "source": [
    "my_tuple =  (1,2,3,4,5)\n",
    "i=3\n",
    "if i in my_tuple:\n",
    "    print('element', i ,'found','at index',my_tuple.index(i))\n",
    "else:\n",
    "    print('element not found')"
   ]
  },
  {
   "cell_type": "markdown",
   "id": "be6a7700-c145-43ec-9138-af6408b8eacc",
   "metadata": {},
   "source": [
    "7. Convert a tuple to a list."
   ]
  },
  {
   "cell_type": "code",
   "execution_count": 27,
   "id": "e4fcc5fe-0506-4f83-9465-7e35425c345e",
   "metadata": {},
   "outputs": [
    {
     "name": "stdout",
     "output_type": "stream",
     "text": [
      "<class 'tuple'>\n",
      "<class 'list'>\n"
     ]
    }
   ],
   "source": [
    "my_tuple =  (1,2,3,4,5)\n",
    "print(type(my_tuple))\n",
    "my_list=list(my_tuple)\n",
    "print(type(my_list))"
   ]
  },
  {
   "cell_type": "markdown",
   "id": "44380896-a4f3-4c30-81e5-751c2e9ea121",
   "metadata": {},
   "source": [
    "\n",
    "8.Convert a list to a tuple."
   ]
  },
  {
   "cell_type": "code",
   "execution_count": 29,
   "id": "8c90e2f2-30db-4c6f-bb58-a10759bfe18e",
   "metadata": {},
   "outputs": [
    {
     "name": "stdout",
     "output_type": "stream",
     "text": [
      "<class 'list'>\n",
      "<class 'tuple'>\n"
     ]
    }
   ],
   "source": [
    "my_list= [1,2,3,4,5]\n",
    "print(type(my_list))\n",
    "my_tuple=tuple(my_list)\n",
    "print(type(my_tuple))"
   ]
  },
  {
   "cell_type": "raw",
   "id": "5009fda9-9fcf-4ab2-acb3-77db25f21db3",
   "metadata": {},
   "source": [
    "9. Unpack the elements of a tuple into variables.\n"
   ]
  },
  {
   "cell_type": "code",
   "execution_count": 30,
   "id": "b85612f6-63eb-40e8-9a79-09ec7d78e5a7",
   "metadata": {},
   "outputs": [
    {
     "name": "stdout",
     "output_type": "stream",
     "text": [
      "1 2 3 4 5\n"
     ]
    }
   ],
   "source": [
    "my_tuple = (1, 2, 3, 4, 5)\n",
    "\n",
    "# Unpack the elements into variables\n",
    "a,b,c,d,e= my_tuple\n",
    "\n",
    "# Now you can use the variables\n",
    "print(a,b,c,d,e)"
   ]
  },
  {
   "cell_type": "markdown",
   "id": "0eda6ff0-f06b-4529-9e7a-a7e4d30024fb",
   "metadata": {},
   "source": [
    "10. Create a tuple of even numbers from 1 to 10."
   ]
  },
  {
   "cell_type": "code",
   "execution_count": 33,
   "id": "50ab3a0a-4995-4691-b0f4-7861c81b28b5",
   "metadata": {},
   "outputs": [
    {
     "data": {
      "text/plain": [
       "(2, 4, 6, 8, 10)"
      ]
     },
     "execution_count": 33,
     "metadata": {},
     "output_type": "execute_result"
    }
   ],
   "source": [
    "evennum=tuple(i for i in range(1,11) if i %2==0)\n",
    "evennum\n",
    "    \n",
    "    \n",
    "    "
   ]
  },
  {
   "cell_type": "markdown",
   "id": "53a7edef-529e-4486-806c-04d9be85ef29",
   "metadata": {},
   "source": [
    "11. Create a tuple of odd numbers from 1 to 10."
   ]
  },
  {
   "cell_type": "code",
   "execution_count": 35,
   "id": "2074272a-a45c-4c13-b3c1-e72f9f646a6c",
   "metadata": {},
   "outputs": [
    {
     "data": {
      "text/plain": [
       "(1, 3, 5, 7, 9)"
      ]
     },
     "execution_count": 35,
     "metadata": {},
     "output_type": "execute_result"
    }
   ],
   "source": [
    "oddnum=tuple(i for i in range(1,11) if i %2!=0)\n",
    "oddnum"
   ]
  },
  {
   "cell_type": "markdown",
   "id": "aa6198d5-56d4-4782-b341-c0fa2a9ad6f6",
   "metadata": {},
   "source": [
    "12. Concatenate two tuples."
   ]
  },
  {
   "cell_type": "code",
   "execution_count": 37,
   "id": "bb9fdd62-8bea-4ae0-9577-3e22129dcf4e",
   "metadata": {},
   "outputs": [
    {
     "data": {
      "text/plain": [
       "(2, 4, 6, 8, 10, 1, 3, 5, 7, 9)"
      ]
     },
     "execution_count": 37,
     "metadata": {},
     "output_type": "execute_result"
    }
   ],
   "source": [
    "even_num=(2, 4, 6, 8, 10)\n",
    "odd_num=(1, 3, 5, 7, 9)\n",
    "my_num=even_num + odd_num\n",
    "my_num"
   ]
  },
  {
   "cell_type": "markdown",
   "id": "84917365-a8fb-4ce7-940f-a69e48d27188",
   "metadata": {},
   "source": [
    "13. Repeat a tuple three times.\n"
   ]
  },
  {
   "cell_type": "code",
   "execution_count": 39,
   "id": "138a9727-8f7f-4c78-a095-522f30cd0816",
   "metadata": {},
   "outputs": [
    {
     "data": {
      "text/plain": [
       "(1, 2, 3, 4, 5, 1, 2, 3, 4, 5, 1, 2, 3, 4, 5)"
      ]
     },
     "execution_count": 39,
     "metadata": {},
     "output_type": "execute_result"
    }
   ],
   "source": [
    "my_tuple = (1, 2, 3, 4, 5)\n",
    "repeated_tuple = my_tuple * 3\n",
    "repeated_tuple"
   ]
  },
  {
   "cell_type": "markdown",
   "id": "1610f62c-37fb-4ed0-9bb1-bb4df80de27b",
   "metadata": {},
   "source": [
    "14. Check if a tuple is empty."
   ]
  },
  {
   "cell_type": "code",
   "execution_count": 46,
   "id": "c326419c-75a2-492a-865b-11dfd7404085",
   "metadata": {},
   "outputs": [
    {
     "name": "stdout",
     "output_type": "stream",
     "text": [
      "The tuple is empty.\n",
      "The tuple is empty.\n"
     ]
    }
   ],
   "source": [
    "my_tuple = ()\n",
    "\n",
    "if len(my_tuple) == 0:\n",
    "    print(\"The tuple is empty.\")\n",
    "else:\n",
    "    print(\"The tuple is not empty.\")\n",
    "    \n",
    "# the another way\n",
    "\n",
    "my_tuple = ()\n",
    "\n",
    "if not my_tuple:\n",
    "    print(\"The tuple is empty.\")\n",
    "else:\n",
    "    print(\"The tuple is not empty.\")"
   ]
  },
  {
   "cell_type": "markdown",
   "id": "b4aa5bce-12d5-46aa-aa2c-8a83f293510c",
   "metadata": {},
   "source": [
    "15. Create a nested tuple."
   ]
  },
  {
   "cell_type": "code",
   "execution_count": 49,
   "id": "63c22e9a-32e3-431d-8c45-26cadd9e7a9e",
   "metadata": {},
   "outputs": [
    {
     "data": {
      "text/plain": [
       "((1,), (1, 2), (1, 2, 3), (1, 2, 3, 4))"
      ]
     },
     "execution_count": 49,
     "metadata": {},
     "output_type": "execute_result"
    }
   ],
   "source": [
    "nested_tuple = tuple(tuple(range(1, i+1)) for i in range(1, 5))\n",
    "nested_tuple"
   ]
  },
  {
   "cell_type": "markdown",
   "id": "34fee018-dcac-4d2c-ace5-ff4b1fe3953f",
   "metadata": {},
   "source": [
    "16. Access the first element of a nested tuple."
   ]
  },
  {
   "cell_type": "code",
   "execution_count": 59,
   "id": "e5b6cc27-7a40-4732-9b02-af2d8528b631",
   "metadata": {},
   "outputs": [
    {
     "name": "stdout",
     "output_type": "stream",
     "text": [
      "((1,), (1, 2), (1, 2, 3), (1, 2, 3, 4))\n",
      "4\n"
     ]
    }
   ],
   "source": [
    "nested_tuple = tuple(tuple(range(1, i+1)) for i in range(1, 5))\n",
    "print(nested_tuple)\n",
    "print(nested_tuple[3][3])"
   ]
  },
  {
   "cell_type": "markdown",
   "id": "040ff9d1-3515-4483-8d77-c66c1112c320",
   "metadata": {},
   "source": [
    "17. Create a tuple with a single element."
   ]
  },
  {
   "cell_type": "code",
   "execution_count": 62,
   "id": "19a18e02-57d4-407e-a775-c0509b0131e8",
   "metadata": {},
   "outputs": [
    {
     "data": {
      "text/plain": [
       "tuple"
      ]
     },
     "execution_count": 62,
     "metadata": {},
     "output_type": "execute_result"
    }
   ],
   "source": [
    "tuple_ele =(9,)\n",
    "type(tuple_ele)"
   ]
  },
  {
   "cell_type": "markdown",
   "id": "ffe8f649-9fef-4224-9512-33b9a2a9c028",
   "metadata": {},
   "source": [
    "18. Compare two tuples."
   ]
  },
  {
   "cell_type": "code",
   "execution_count": 64,
   "id": "a8da0848-2fff-4606-893b-613ff81d6762",
   "metadata": {},
   "outputs": [
    {
     "name": "stdout",
     "output_type": "stream",
     "text": [
      "The tuples are not equal.\n"
     ]
    }
   ],
   "source": [
    "tuple1 = (1, 2, 3,6)\n",
    "tuple2 = (1, 2, 3)\n",
    "\n",
    "if tuple1 == tuple2:\n",
    "    print(\"The tuples are equal.\")\n",
    "else:\n",
    "    print(\"The tuples are not equal.\")"
   ]
  },
  {
   "cell_type": "markdown",
   "id": "891543cb-c39f-41e6-af14-622118962dde",
   "metadata": {},
   "source": [
    "19. Delete a tuple."
   ]
  },
  {
   "cell_type": "code",
   "execution_count": 66,
   "id": "f735cf18-8126-4bf2-8fc2-491dfd143eaf",
   "metadata": {},
   "outputs": [],
   "source": [
    "my_tuple = (1, 2, 3, 4, 5)\n",
    "\n",
    "# Delete the tuple\n",
    "del my_tuple\n"
   ]
  },
  {
   "cell_type": "code",
   "execution_count": 67,
   "id": "f91b36e8-d581-4cfd-89e5-fbc3b11faf85",
   "metadata": {},
   "outputs": [
    {
     "name": "stdout",
     "output_type": "stream",
     "text": [
      "(2, 3)\n"
     ]
    }
   ],
   "source": [
    "my_tuple = (1, 2, 3, 4, 5)\n",
    "\n",
    "\n",
    "\n",
    "sliced_tuple = my_tuple[1:3]\n",
    "\n",
    "print(sliced_tuple)  "
   ]
  },
  {
   "cell_type": "markdown",
   "id": "9a6521d3-2120-4cf5-9c3a-ac3e8b5d5aaa",
   "metadata": {},
   "source": [
    "21. Find the maximum value in a tuple."
   ]
  },
  {
   "cell_type": "code",
   "execution_count": 69,
   "id": "fec8c5c6-2d92-47ba-8cb4-2064dd348c98",
   "metadata": {},
   "outputs": [
    {
     "data": {
      "text/plain": [
       "5"
      ]
     },
     "execution_count": 69,
     "metadata": {},
     "output_type": "execute_result"
    }
   ],
   "source": [
    "my_tuple = (1, 2, 3, 4, 5)\n",
    "max(my_tuple)\n"
   ]
  },
  {
   "cell_type": "markdown",
   "id": "722660b7-9113-427c-a835-77bd19e0f35e",
   "metadata": {},
   "source": [
    "22. Find the minimum value in a tuple.\n"
   ]
  },
  {
   "cell_type": "code",
   "execution_count": 70,
   "id": "d0932489-8f5b-45d9-9a63-b1110af790c8",
   "metadata": {},
   "outputs": [
    {
     "data": {
      "text/plain": [
       "1"
      ]
     },
     "execution_count": 70,
     "metadata": {},
     "output_type": "execute_result"
    }
   ],
   "source": [
    "my_tuple = (1, 2, 3, 4, 5)\n",
    "min(my_tuple)"
   ]
  },
  {
   "cell_type": "markdown",
   "id": "5ef3c9de-7236-4684-b070-93a6c860de11",
   "metadata": {},
   "source": [
    "23. Convert a string to a tuple of characters."
   ]
  },
  {
   "cell_type": "code",
   "execution_count": 74,
   "id": "b2d9adea-00b8-4dc5-9048-eb65873a4846",
   "metadata": {},
   "outputs": [
    {
     "data": {
      "text/plain": [
       "('H', 'e', 'l', 'l', 'o', ',', ' ', 'W', 'o', 'r', 'l', 'd', '!')"
      ]
     },
     "execution_count": 74,
     "metadata": {},
     "output_type": "execute_result"
    }
   ],
   "source": [
    "my_string = \"Hello, World!\"\n",
    "mytuple=tuple( my_string)\n",
    "mytuple"
   ]
  },
  {
   "cell_type": "markdown",
   "id": "b4b0de08-8a52-42be-a9c2-474a94650bf4",
   "metadata": {},
   "source": [
    "24. Convert a tuple of characters to a string."
   ]
  },
  {
   "cell_type": "code",
   "execution_count": 75,
   "id": "7a46d94a-c154-4cb9-9401-c9a1abfddbfb",
   "metadata": {},
   "outputs": [
    {
     "name": "stdout",
     "output_type": "stream",
     "text": [
      "Hello, World!\n"
     ]
    }
   ],
   "source": [
    "char_tuple = ('H', 'e', 'l', 'l', 'o', ',', ' ', 'W', 'o', 'r', 'l', 'd', '!')\n",
    "\n",
    "# Convert the tuple of characters to a string\n",
    "result_string = ''.join(char_tuple)\n",
    "\n",
    "print(result_string)"
   ]
  },
  {
   "cell_type": "markdown",
   "id": "7543600f-b5b5-4c4e-8db2-f8e42b85f7f0",
   "metadata": {},
   "source": [
    "25. Create a tuple from multiple data types."
   ]
  },
  {
   "cell_type": "code",
   "execution_count": 76,
   "id": "92db3372-f5a7-4911-bc63-094db5f47c92",
   "metadata": {},
   "outputs": [
    {
     "data": {
      "text/plain": [
       "('apple', 42, 3.14, False)"
      ]
     },
     "execution_count": 76,
     "metadata": {},
     "output_type": "execute_result"
    }
   ],
   "source": [
    "mixed_tuple = ('apple', 42, 3.14, False)\n",
    "mixed_tuple"
   ]
  },
  {
   "cell_type": "markdown",
   "id": "8877c9f8-a17b-4a4d-bf16-a819f8e78b36",
   "metadata": {},
   "source": [
    "26. Check if two tuples are identical."
   ]
  },
  {
   "cell_type": "code",
   "execution_count": 77,
   "id": "6f7901dd-5a7b-48d5-9e01-a9a08268656a",
   "metadata": {},
   "outputs": [
    {
     "name": "stdout",
     "output_type": "stream",
     "text": [
      "The tuples are identical.\n"
     ]
    }
   ],
   "source": [
    "tuple1 = (1, 2, 3)\n",
    "tuple2 = (1, 2, 3)\n",
    "\n",
    "if tuple1 == tuple2:\n",
    "    print(\"The tuples are identical.\")\n",
    "else:\n",
    "    print(\"The tuples are not identical.\")"
   ]
  },
  {
   "cell_type": "markdown",
   "id": "83a4a04f-33a5-4b60-b209-0f232cd7a2df",
   "metadata": {},
   "source": [
    "27. Sort the elements of a tuple."
   ]
  },
  {
   "cell_type": "code",
   "execution_count": 78,
   "id": "bc6397cf-8887-41b5-9f50-4ea30af3e386",
   "metadata": {},
   "outputs": [
    {
     "name": "stdout",
     "output_type": "stream",
     "text": [
      "(1, 2, 4, 5, 7)\n"
     ]
    }
   ],
   "source": [
    "my_tuple = (4, 1, 7, 2, 5)\n",
    "\n",
    "# Convert the tuple to a list,\n",
    "#sort the list, and convert it back to a tuple\n",
    "sorted_tuple = tuple(sorted(list(my_tuple)))\n",
    "\n",
    "print(sorted_tuple)"
   ]
  },
  {
   "cell_type": "markdown",
   "id": "eee8e584-515a-4778-908f-1bf41593376e",
   "metadata": {},
   "source": [
    "28. Convert a tuple of integers to a tuple of strings."
   ]
  },
  {
   "cell_type": "code",
   "execution_count": 79,
   "id": "a72b9ca8-1a63-4a44-9706-cc7d83b01186",
   "metadata": {},
   "outputs": [
    {
     "name": "stdout",
     "output_type": "stream",
     "text": [
      "('1', '2', '3', '4', '5')\n"
     ]
    }
   ],
   "source": [
    "tuple_of_integers = (1, 2, 3, 4, 5)\n",
    "\n",
    "tuple_of_strings = tuple(str(i) for i in tuple_of_integers)\n",
    "\n",
    "print(tuple_of_strings)\n"
   ]
  },
  {
   "cell_type": "markdown",
   "id": "026c2a36-7991-4721-9afd-708cdc946ee6",
   "metadata": {},
   "source": [
    "29. Convert a tuple of strings to a tuple of integers."
   ]
  },
  {
   "cell_type": "code",
   "execution_count": 80,
   "id": "08f30994-55ff-45b7-bcc4-b6eb3ca1eab8",
   "metadata": {},
   "outputs": [
    {
     "data": {
      "text/plain": [
       "(1, 2, 3, 4, 5)"
      ]
     },
     "execution_count": 80,
     "metadata": {},
     "output_type": "execute_result"
    }
   ],
   "source": [
    "tuple_of_strings=('1', '2', '3', '4', '5')\n",
    "\n",
    "tuple_of_integers = tuple(int(i) for i in tuple_of_strings)\n",
    "\n",
    "tuple_of_integers"
   ]
  },
  {
   "cell_type": "markdown",
   "id": "133d0f42-b183-4616-9631-0e8a041a64a0",
   "metadata": {},
   "source": [
    "30. Merge two tuples."
   ]
  },
  {
   "cell_type": "code",
   "execution_count": 81,
   "id": "016f820e-b144-46d9-8efc-2ab652c3e2b4",
   "metadata": {},
   "outputs": [
    {
     "data": {
      "text/plain": [
       "(2, 4, 6, 8, 10, 1, 3, 5, 7, 9)"
      ]
     },
     "execution_count": 81,
     "metadata": {},
     "output_type": "execute_result"
    }
   ],
   "source": [
    "even_num=(2, 4, 6, 8, 10)\n",
    "odd_num=(1, 3, 5, 7, 9)\n",
    "my_num=even_num + odd_num\n",
    "my_num"
   ]
  },
  {
   "cell_type": "markdown",
   "id": "ff36497f-304d-40f6-bb9e-c4eb4b32c843",
   "metadata": {},
   "source": [
    "31. Flatten a nested tuple."
   ]
  },
  {
   "cell_type": "code",
   "execution_count": 82,
   "id": "206981e0-b95b-496f-bc20-d79ab5ff6407",
   "metadata": {},
   "outputs": [
    {
     "name": "stdout",
     "output_type": "stream",
     "text": [
      "(1, 2, 3, 'a', 'b', 'c', True, False)\n"
     ]
    }
   ],
   "source": [
    "nested_tuple = ((1, 2, 3), ('a', 'b', 'c'), (True, False))\n",
    "\n",
    "# Flatten the nested tuple\n",
    "flattened_tuple = tuple(item for sub_tuple in nested_tuple for item in sub_tuple)\n",
    "\n",
    "print(flattened_tuple)\n",
    "\n"
   ]
  },
  {
   "cell_type": "markdown",
   "id": "6970f1ca-152e-4ffd-b00d-044d77bf93f0",
   "metadata": {},
   "source": [
    "32. Create a tuple of the first 5 prime numbers."
   ]
  },
  {
   "cell_type": "code",
   "execution_count": 124,
   "id": "26754e49-d695-46d8-99ec-f00d920f1164",
   "metadata": {},
   "outputs": [
    {
     "name": "stdout",
     "output_type": "stream",
     "text": [
      "2\n",
      "2\n",
      "2\n",
      "3\n",
      "4\n"
     ]
    },
    {
     "data": {
      "text/plain": [
       "(2, 3, 5)"
      ]
     },
     "execution_count": 124,
     "metadata": {},
     "output_type": "execute_result"
    }
   ],
   "source": [
    "mylist= []\n",
    "for num in range(2, 5 + 1):\n",
    "   # all prime numbers are greater than 1\n",
    "   if num > 1:\n",
    "        for i in range(2, num):\n",
    "           \n",
    "            if (num % i) == 0:\n",
    "                break\n",
    "        else:\n",
    "            mylist.append(num)\n",
    "mytuple = tuple(mylist)\n",
    "mytuple         "
   ]
  },
  {
   "cell_type": "markdown",
   "id": "5397099f-b280-4d5d-9243-23acd2ad4320",
   "metadata": {},
   "source": [
    "33. Check if a tuple is a palindrome."
   ]
  },
  {
   "cell_type": "code",
   "execution_count": 125,
   "id": "ae1de9f5-11ae-4aff-8149-d88def59bfb6",
   "metadata": {},
   "outputs": [
    {
     "data": {
      "text/plain": [
       "True"
      ]
     },
     "execution_count": 125,
     "metadata": {},
     "output_type": "execute_result"
    }
   ],
   "source": [
    "palindrome_tuple = (1, 2, 3, 4, 3, 2, 1)\n",
    "palindrome_tuple==palindrome_tuple[::-1]"
   ]
  },
  {
   "cell_type": "markdown",
   "id": "eaebd04e-3fb6-4da8-a24f-666e2b287db6",
   "metadata": {},
   "source": [
    "34. Create a tuple of squares of numbers from 1 to 5."
   ]
  },
  {
   "cell_type": "code",
   "execution_count": 128,
   "id": "4edb9d4a-9afd-472f-96f8-1b485bd1410e",
   "metadata": {},
   "outputs": [
    {
     "data": {
      "text/plain": [
       "(0, 1, 4, 9, 16, 25)"
      ]
     },
     "execution_count": 128,
     "metadata": {},
     "output_type": "execute_result"
    }
   ],
   "source": [
    "my_tuple = tuple(i*i for i  in range(6) )\n",
    "my_tuple"
   ]
  },
  {
   "cell_type": "markdown",
   "id": "2c9acadb-ff10-4440-b9d4-80a0cdc2f509",
   "metadata": {},
   "source": [
    "35. Filter out all even numbers from a tuple."
   ]
  },
  {
   "cell_type": "code",
   "execution_count": 133,
   "id": "f8e8773c-94c2-434d-a215-ddc687051b12",
   "metadata": {},
   "outputs": [
    {
     "data": {
      "text/plain": [
       "(2, 4, 6, 8, 10)"
      ]
     },
     "execution_count": 133,
     "metadata": {},
     "output_type": "execute_result"
    }
   ],
   "source": [
    "original_tuple = (1, 2, 3, 4, 5, 6, 7, 8, 9, 10)\n",
    "filtered_tuple = tuple(filter( lambda i : i%2==0,original_tuple))\n",
    "filtered_tuple"
   ]
  },
  {
   "cell_type": "markdown",
   "id": "7cc4980f-cfe6-4fc9-8243-36eebced73a0",
   "metadata": {},
   "source": [
    "36. Multiply all elements in a tuple by 2."
   ]
  },
  {
   "cell_type": "code",
   "execution_count": 134,
   "id": "12edeec4-1dd9-46a4-849c-ae0c70442d1a",
   "metadata": {},
   "outputs": [
    {
     "data": {
      "text/plain": [
       "(0, 2, 4, 6, 8, 10)"
      ]
     },
     "execution_count": 134,
     "metadata": {},
     "output_type": "execute_result"
    }
   ],
   "source": [
    "my_tuple = tuple(i*2 for i  in range(6) )\n",
    "my_tuple"
   ]
  },
  {
   "cell_type": "markdown",
   "id": "e94345ea-b4e7-4e79-90cf-38fd2a6630b0",
   "metadata": {},
   "source": [
    "37. Create a tuple of random numbers.\n"
   ]
  },
  {
   "cell_type": "code",
   "execution_count": 138,
   "id": "6e4cb829-7d48-4161-b1c5-c51c9331eab4",
   "metadata": {},
   "outputs": [
    {
     "data": {
      "text/plain": [
       "(4, 6, 3, 6, 1)"
      ]
     },
     "execution_count": 138,
     "metadata": {},
     "output_type": "execute_result"
    }
   ],
   "source": [
    "import  random\n",
    "my_tuple = tuple(random.randint(1,6) for i in range (5) )\n",
    "my_tuple"
   ]
  },
  {
   "cell_type": "markdown",
   "id": "ef66e653-1809-4a23-ba52-93fbac25456b",
   "metadata": {},
   "source": [
    "38. Check if a tuple is sorted."
   ]
  },
  {
   "cell_type": "code",
   "execution_count": 141,
   "id": "2c4c0509-568b-40be-bcf2-ee7d4668364c",
   "metadata": {},
   "outputs": [
    {
     "data": {
      "text/plain": [
       "False"
      ]
     },
     "execution_count": 141,
     "metadata": {},
     "output_type": "execute_result"
    }
   ],
   "source": [
    "input_tuple=(4, 6, 3, 6, 1)\n",
    "input_tuple == tuple(sorted(input_tuple))\n"
   ]
  },
  {
   "cell_type": "markdown",
   "id": "d70836a3-6923-4a73-ab10-fa71b0dd3320",
   "metadata": {},
   "source": [
    "39. Rotate a tuple to the left by `n` positions."
   ]
  },
  {
   "cell_type": "code",
   "execution_count": 148,
   "id": "ce4522cf-6e72-49e2-85c4-82b63d87f715",
   "metadata": {},
   "outputs": [
    {
     "data": {
      "text/plain": [
       "(3, 4, 5, 1, 2)"
      ]
     },
     "execution_count": 148,
     "metadata": {},
     "output_type": "execute_result"
    }
   ],
   "source": [
    "original_tuple = (1, 2, 3, 4, 5)\n",
    "n=2\n",
    "n = n % len(original_tuple)  # Ensure n is within the length of the tuple\n",
    "rotated_tuple=original_tuple[n:] + original_tuple[:n]\n",
    "\n",
    "rotated_tuple"
   ]
  },
  {
   "cell_type": "markdown",
   "id": "07c956bd-37f2-4fef-9c0b-95dc945d8329",
   "metadata": {},
   "source": [
    "40. Rotate a tuple to the right by `n` positions."
   ]
  },
  {
   "cell_type": "code",
   "execution_count": 153,
   "id": "85d788d4-53d2-43f8-b05b-8e12c3a598f9",
   "metadata": {},
   "outputs": [
    {
     "data": {
      "text/plain": [
       "(4, 5, 1, 2, 3)"
      ]
     },
     "execution_count": 153,
     "metadata": {},
     "output_type": "execute_result"
    }
   ],
   "source": [
    "original_tuple = (1, 2, 3, 4, 5)\n",
    "n=2\n",
    "n = n % len(original_tuple)  # Ensure n is within the length of the tuple\n",
    "rotated_tuple=original_tuple[-n:] + original_tuple[:-n]\n",
    "\n",
    "rotated_tuple"
   ]
  },
  {
   "cell_type": "markdown",
   "id": "74e8b8bf-01bd-467a-91b3-0a9935e00677",
   "metadata": {},
   "source": [
    "41. Create a tuple of the first 5 Fibonacci numbers."
   ]
  },
  {
   "cell_type": "code",
   "execution_count": 157,
   "id": "a1459662-c098-4d08-857e-b963380eb6e6",
   "metadata": {},
   "outputs": [
    {
     "data": {
      "text/plain": [
       "[0, 1, 1, 2, 3]"
      ]
     },
     "execution_count": 157,
     "metadata": {},
     "output_type": "execute_result"
    }
   ],
   "source": [
    "n=5\n",
    "fibonacci_sequence = [0, 1]\n",
    "while len(fibonacci_sequence) < n:\n",
    "    next_number = fibonacci_sequence[-1] + fibonacci_sequence[-2]\n",
    "    fibonacci_sequence.append(next_number)\n",
    "    tuple(fibonacci_sequence)\n",
    "fibonacci_sequence"
   ]
  },
  {
   "cell_type": "markdown",
   "id": "eee76c75-283e-49e0-8ebd-3fd2ebb1f0cb",
   "metadata": {},
   "source": [
    "42. Create a tuple from user input."
   ]
  },
  {
   "cell_type": "code",
   "execution_count": 158,
   "id": "ecae5d7e-e895-468c-a184-6a2f41442450",
   "metadata": {},
   "outputs": [
    {
     "name": "stdin",
     "output_type": "stream",
     "text": [
      "Enter elements separated by spaces:  10\n"
     ]
    },
    {
     "name": "stdout",
     "output_type": "stream",
     "text": [
      "User input tuple: (10,)\n"
     ]
    }
   ],
   "source": [
    "input_str = input(\"Enter elements separated by spaces: \")\n",
    "\n",
    "# Convert the input string into a tuple\n",
    "user_tuple = tuple(map(int, input_str.split()))\n",
    "\n",
    "# Display the resulting tuple\n",
    "print(\"User input tuple:\", user_tuple)"
   ]
  },
  {
   "cell_type": "markdown",
   "id": "dd730072-42cb-417d-b12a-9e4f1a79e99b",
   "metadata": {},
   "source": [
    "43. Swap two elements in a tuple."
   ]
  },
  {
   "cell_type": "code",
   "execution_count": 159,
   "id": "a362162c-6d07-4b39-a2ad-6f132b1f6055",
   "metadata": {},
   "outputs": [
    {
     "name": "stdout",
     "output_type": "stream",
     "text": [
      "Original Tuple: (1, 2, 3, 4)\n",
      "Swapped Tuple: (1, 3, 2, 2, 4)\n"
     ]
    }
   ],
   "source": [
    "original_tuple = (1, 2, 3, 4)\n",
    "\n",
    "# Swap elements at positions 1 and 2\n",
    "swapped_tuple = original_tuple[:1] + (original_tuple[2],) + original_tuple[1:2] + (original_tuple[1],) + original_tuple[3:]\n",
    "\n",
    "print(\"Original Tuple:\", original_tuple)\n",
    "print(\"Swapped Tuple:\", swapped_tuple)"
   ]
  },
  {
   "cell_type": "markdown",
   "id": "4e4bc268-faed-4afd-85c8-c352fe78acf9",
   "metadata": {},
   "source": [
    "44. Reverse the elements of a tuple."
   ]
  },
  {
   "cell_type": "code",
   "execution_count": 160,
   "id": "28d05164-c205-4545-bad8-f2262bad0be5",
   "metadata": {},
   "outputs": [
    {
     "name": "stdout",
     "output_type": "stream",
     "text": [
      "Original Tuple: (1, 2, 3, 4, 5)\n",
      "Reversed Tuple: (5, 4, 3, 2, 1)\n"
     ]
    }
   ],
   "source": [
    "original_tuple = (1, 2, 3, 4, 5)\n",
    "\n",
    "# Reverse the elements of the tuple\n",
    "reversed_tuple = original_tuple[::-1]\n",
    "\n",
    "print(\"Original Tuple:\", original_tuple)\n",
    "print(\"Reversed Tuple:\", reversed_tuple)"
   ]
  },
  {
   "cell_type": "markdown",
   "id": "795af848-9b28-4504-8ba8-9f53b85a42bb",
   "metadata": {},
   "source": [
    "45. Create a tuple of the first `n` powers of 2."
   ]
  },
  {
   "cell_type": "code",
   "execution_count": 163,
   "id": "e46efc08-38ee-4092-929a-d10eadbcb545",
   "metadata": {},
   "outputs": [
    {
     "data": {
      "text/plain": [
       "(1, 2, 4, 8, 16, 32)"
      ]
     },
     "execution_count": 163,
     "metadata": {},
     "output_type": "execute_result"
    }
   ],
   "source": [
    "sq_tuple=tuple(2**i for i in range(6))\n",
    "sq_tuple"
   ]
  },
  {
   "cell_type": "markdown",
   "id": "e762339d-4148-498f-93bc-0a074020f1e5",
   "metadata": {},
   "source": [
    "46. Find the longest string in a tuple of strings."
   ]
  },
  {
   "cell_type": "code",
   "execution_count": 166,
   "id": "67b4c6af-69a8-4e4b-a567-477ad713e7bd",
   "metadata": {},
   "outputs": [
    {
     "name": "stdout",
     "output_type": "stream",
     "text": [
      "Longest String: strawberry\n"
     ]
    }
   ],
   "source": [
    "strings_tuple = (\"apple\", \"banana\", \"kiwi\", \"strawberry\", \"orange\")\n",
    "\n",
    "\n",
    "longest_string = max(strings_tuple, key=len)\n",
    "\n",
    "print(\"Longest String:\", longest_string)"
   ]
  },
  {
   "cell_type": "markdown",
   "id": "c25b09ff-7e66-4490-ab39-39fdfc531601",
   "metadata": {},
   "source": [
    "47. Find the shortest string in a tuple of strings."
   ]
  },
  {
   "cell_type": "code",
   "execution_count": 167,
   "id": "d7bdedfc-f560-4f4d-b61e-cf58fefbbc24",
   "metadata": {},
   "outputs": [
    {
     "name": "stdout",
     "output_type": "stream",
     "text": [
      "Longest String: kiwi\n"
     ]
    }
   ],
   "source": [
    "strings_tuple = (\"apple\", \"banana\", \"kiwi\", \"strawberry\", \"orange\")\n",
    "\n",
    "\n",
    "longest_string = min(strings_tuple, key=len)\n",
    "\n",
    "print(\"Longest String:\", longest_string)"
   ]
  },
  {
   "cell_type": "markdown",
   "id": "f8b6a27c-001c-4943-a5ba-b9d75d38e976",
   "metadata": {},
   "source": [
    "48. Create a tuple of the first `n` triangular numbers."
   ]
  },
  {
   "cell_type": "code",
   "execution_count": 168,
   "id": "aaf71aad-7902-4c6d-be3f-02494faf9521",
   "metadata": {},
   "outputs": [
    {
     "data": {
      "text/plain": [
       "(1, 3, 6, 10, 15)"
      ]
     },
     "execution_count": 168,
     "metadata": {},
     "output_type": "execute_result"
    }
   ],
   "source": [
    "triangular_numbers_tuple =tuple((i * (i + 1)) // 2 for i in range(1, n + 1))\n",
    "triangular_numbers_tuple"
   ]
  },
  {
   "cell_type": "markdown",
   "id": "20fe9fcd-5f2c-4575-ba26-cc2562c8b980",
   "metadata": {},
   "source": [
    "49. Check if a tuple contains another tuple as a subsequence."
   ]
  },
  {
   "cell_type": "code",
   "execution_count": 175,
   "id": "c33e1201-0137-491e-96d3-9a9531f32e55",
   "metadata": {},
   "outputs": [
    {
     "name": "stdout",
     "output_type": "stream",
     "text": [
      "True\n"
     ]
    }
   ],
   "source": [
    "larger_tuple = (1, 2, 3, 4, 5, 6, 7, 8)\n",
    "subsequence_tuple = (3, 4, 5)\n",
    "n = len(subsequence_tuple)\n",
    "for i in range(len(larger_tuple) - n + 1):\n",
    "    if larger_tuple[i:i + n] == subsequence_tuple:\n",
    "        print(True)"
   ]
  },
  {
   "cell_type": "markdown",
   "id": "4272c23c-f942-457a-8b04-d73d2346eb5b",
   "metadata": {},
   "source": [
    "50. Create a tuple of alternating 1s and 0s of length `n`."
   ]
  },
  {
   "cell_type": "code",
   "execution_count": 176,
   "id": "afb24c61-8596-4bfd-be01-60b177d57032",
   "metadata": {},
   "outputs": [
    {
     "name": "stdout",
     "output_type": "stream",
     "text": [
      "(0, 1, 0, 1, 0, 1, 0, 1)\n"
     ]
    }
   ],
   "source": [
    "alternating_tuple=tuple((i % 2) for i in range(8))\n",
    "\n",
    "print(alternating_tuple)"
   ]
  },
  {
   "cell_type": "markdown",
   "id": "f4185dd6-36ab-4ea2-8c2d-1b3efb625be9",
   "metadata": {},
   "source": [
    "Set Based Practice Problem :"
   ]
  },
  {
   "cell_type": "markdown",
   "id": "ce1c6cb4-96f5-4d98-b395-2d776a1c10f3",
   "metadata": {},
   "source": [
    "1. Create a set with integers from 1 to 5."
   ]
  },
  {
   "cell_type": "code",
   "execution_count": 1,
   "id": "19af04d1-f080-4be6-ae57-cdb1d0c3ead9",
   "metadata": {},
   "outputs": [
    {
     "data": {
      "text/plain": [
       "{0, 1, 2, 3, 4, 5}"
      ]
     },
     "execution_count": 1,
     "metadata": {},
     "output_type": "execute_result"
    }
   ],
   "source": [
    "set_elems=set()\n",
    "for i in range (0,6):\n",
    "    set_elems.add(i)\n",
    "set_elems  "
   ]
  },
  {
   "cell_type": "markdown",
   "id": "b26799b5-633f-4cc9-8f0c-0896e60a1e1a",
   "metadata": {},
   "source": [
    "2. add an element from a set."
   ]
  },
  {
   "cell_type": "code",
   "execution_count": 1,
   "id": "8cde627d-99fa-4aa9-843d-2432b83fb536",
   "metadata": {},
   "outputs": [
    {
     "name": "stdout",
     "output_type": "stream",
     "text": [
      "{1, 2, 3, 4}\n"
     ]
    }
   ],
   "source": [
    "# Creating a set\n",
    "my_set = {1, 2, 3}\n",
    "\n",
    "# Adding an element to the set\n",
    "my_set.add(4)\n",
    "\n",
    "# Displaying the updated set\n",
    "print(my_set)\n"
   ]
  },
  {
   "cell_type": "code",
   "execution_count": 2,
   "id": "0c9c87c1-c378-4105-8887-780aaf339508",
   "metadata": {},
   "outputs": [
    {
     "name": "stdout",
     "output_type": "stream",
     "text": [
      "{1, 2}\n"
     ]
    }
   ],
   "source": [
    "# Creating a set\n",
    "my_set = {1, 2, 3}\n",
    "\n",
    "# Adding an element to the set\n",
    "my_set.discard(3)\n",
    "\n",
    "# Displaying the updated set\n",
    "print(my_set)\n"
   ]
  },
  {
   "cell_type": "markdown",
   "id": "7823a9ba-8ca3-42a8-9e8c-e53f36d7532c",
   "metadata": {},
   "source": [
    "4. Check if an element exists in a set."
   ]
  },
  {
   "cell_type": "code",
   "execution_count": 6,
   "id": "e1ed51c7-28c4-4786-9a75-c874fb740ddd",
   "metadata": {},
   "outputs": [
    {
     "name": "stdout",
     "output_type": "stream",
     "text": [
      "False\n"
     ]
    }
   ],
   "source": [
    "my_set = {1, 2, 3}\n",
    "num=4\n",
    "if  num in my_set:\n",
    "    print(True)\n",
    "else:\n",
    "    print(False)"
   ]
  },
  {
   "cell_type": "markdown",
   "id": "790e40b5-eb1b-4fbb-b62f-aa56d70277ec",
   "metadata": {},
   "source": [
    "5. Find the length of a set without using the `len()` function."
   ]
  },
  {
   "cell_type": "code",
   "execution_count": 9,
   "id": "fb2eef55-d9f2-4e02-a9f7-19f1775c2603",
   "metadata": {},
   "outputs": [
    {
     "data": {
      "text/plain": [
       "0"
      ]
     },
     "execution_count": 9,
     "metadata": {},
     "output_type": "execute_result"
    }
   ],
   "source": [
    "my_set = {}\n",
    "count=0\n",
    "for i in my_set:\n",
    "    if i == None:\n",
    "        print(\"None\")\n",
    "    else:\n",
    "        count=count+1\n",
    "count"
   ]
  },
  {
   "cell_type": "markdown",
   "id": "104cb72a-0134-4ef5-9384-d9cd07e0eda3",
   "metadata": {},
   "source": [
    "6. Clear all elements from a set."
   ]
  },
  {
   "cell_type": "code",
   "execution_count": 12,
   "id": "ff729a4e-f72b-4fb1-9d24-1e973b3ef18d",
   "metadata": {},
   "outputs": [
    {
     "data": {
      "text/plain": [
       "set()"
      ]
     },
     "execution_count": 12,
     "metadata": {},
     "output_type": "execute_result"
    }
   ],
   "source": [
    "my_set = {1, 2, 3}\n",
    "my_set.clear()\n",
    "my_set"
   ]
  },
  {
   "cell_type": "markdown",
   "id": "d0d29c8e-39ad-4493-b91a-4a2691ad8874",
   "metadata": {},
   "source": [
    "7. Create a set of even numbers from 1 to 10."
   ]
  },
  {
   "cell_type": "code",
   "execution_count": 16,
   "id": "f406fc92-3d2c-480c-aadc-97aa31994150",
   "metadata": {},
   "outputs": [
    {
     "data": {
      "text/plain": [
       "(2, 4, 6, 8, 10)"
      ]
     },
     "execution_count": 16,
     "metadata": {},
     "output_type": "execute_result"
    }
   ],
   "source": [
    "even= tuple(i for i in range(1,11) if i%2==0)\n",
    "even\n"
   ]
  },
  {
   "cell_type": "markdown",
   "id": "966673a5-d06d-4a45-bb66-7793ddbb275d",
   "metadata": {},
   "source": [
    "8. Create a set of odd numbers from 1 to 10.\n"
   ]
  },
  {
   "cell_type": "code",
   "execution_count": 17,
   "id": "2a525cd4-9f9a-482c-b535-56ba250a2142",
   "metadata": {},
   "outputs": [
    {
     "data": {
      "text/plain": [
       "(1, 3, 5, 7, 9)"
      ]
     },
     "execution_count": 17,
     "metadata": {},
     "output_type": "execute_result"
    }
   ],
   "source": [
    "odd= tuple(i for i in range(1,11) if i%2!=0)\n",
    "odd"
   ]
  },
  {
   "cell_type": "markdown",
   "id": "b1ee9ac0-74ea-4281-9d20-d8d1b714a69e",
   "metadata": {},
   "source": [
    "9. Find the union of two sets."
   ]
  },
  {
   "cell_type": "code",
   "execution_count": 18,
   "id": "e1067ff0-e8fc-41be-9cce-55840be4a4fc",
   "metadata": {},
   "outputs": [
    {
     "data": {
      "text/plain": [
       "{1, 2, 3, 4, 5, 6, 7, 8, 9, 10}"
      ]
     },
     "execution_count": 18,
     "metadata": {},
     "output_type": "execute_result"
    }
   ],
   "source": [
    "set_1={2, 4, 6, 8, 10}\n",
    "set_2={1, 3, 5, 7, 9}\n",
    "set_1.union(set_2)\n"
   ]
  },
  {
   "cell_type": "markdown",
   "id": "c07858b5-9d94-4b54-9259-6dfc4c0e6708",
   "metadata": {},
   "source": [
    "10. Find the intersection of two sets."
   ]
  },
  {
   "cell_type": "code",
   "execution_count": 19,
   "id": "7009b617-9b1c-4956-8e8a-64774cd8c3f0",
   "metadata": {},
   "outputs": [
    {
     "data": {
      "text/plain": [
       "set()"
      ]
     },
     "execution_count": 19,
     "metadata": {},
     "output_type": "execute_result"
    }
   ],
   "source": [
    "set_1={2, 4, 6, 8, 10}\n",
    "set_2={1, 3, 5, 7, 9}\n",
    "set_1.intersection(set_2)\n"
   ]
  },
  {
   "cell_type": "markdown",
   "id": "e25a4729-316f-4488-bb13-ac9f99a11950",
   "metadata": {},
   "source": [
    "11. Find the difference between two sets."
   ]
  },
  {
   "cell_type": "code",
   "execution_count": 22,
   "id": "3dd9ab9f-1378-43c9-b486-147144369492",
   "metadata": {},
   "outputs": [
    {
     "data": {
      "text/plain": [
       "{2, 4, 6, 8}"
      ]
     },
     "execution_count": 22,
     "metadata": {},
     "output_type": "execute_result"
    }
   ],
   "source": [
    "set_1={2, 4, 6, 8, 10}\n",
    "set_2={1, 3, 5, 7, 9,10}\n",
    "set_1.difference(set_2)"
   ]
  },
  {
   "cell_type": "markdown",
   "id": "3fa5df67-f0c9-4198-b25f-e013ecaf9a6c",
   "metadata": {},
   "source": [
    "12. Check if a set is a subset of another set."
   ]
  },
  {
   "cell_type": "code",
   "execution_count": 23,
   "id": "1e9459d4-3960-408a-a332-6779cf21eee5",
   "metadata": {},
   "outputs": [
    {
     "data": {
      "text/plain": [
       "True"
      ]
     },
     "execution_count": 23,
     "metadata": {},
     "output_type": "execute_result"
    }
   ],
   "source": [
    "set_1={1, 2, 3, 4, 5, 6, 7, 8, 9, 10}\n",
    "set_2={2, 4, 6, 8}\n",
    "set_2.issubset(set_1)"
   ]
  },
  {
   "cell_type": "markdown",
   "id": "5570ea08-b26a-443a-92aa-aa45fbd45850",
   "metadata": {},
   "source": [
    "13. Check if a set is a superset of another set."
   ]
  },
  {
   "cell_type": "code",
   "execution_count": 25,
   "id": "45b79168-a9be-4e01-a6d1-0363800b7ca5",
   "metadata": {},
   "outputs": [
    {
     "data": {
      "text/plain": [
       "True"
      ]
     },
     "execution_count": 25,
     "metadata": {},
     "output_type": "execute_result"
    }
   ],
   "source": [
    "\n",
    "set_1={1, 2, 3, 4, 5, 6, 7, 8, 9, 10}\n",
    "set_2={2, 4, 6, 8}\n",
    "set_1.issuperset(set_2)"
   ]
  },
  {
   "cell_type": "markdown",
   "id": "2e28a3f2-f569-4802-a886-ca48169dc543",
   "metadata": {},
   "source": [
    "14. Create a set from a list."
   ]
  },
  {
   "cell_type": "code",
   "execution_count": 27,
   "id": "138ed2dc-3ed3-465a-ac12-7e4a4f71cdc2",
   "metadata": {},
   "outputs": [
    {
     "data": {
      "text/plain": [
       "{1, 2, 3, 4, 5, 6, 7, 8, 9, 10}"
      ]
     },
     "execution_count": 27,
     "metadata": {},
     "output_type": "execute_result"
    }
   ],
   "source": [
    "list_1=[1, 2, 3, 4, 5, 6, 7, 8, 9, 10]\n",
    "set_1=set(list_1)\n",
    "set_1"
   ]
  },
  {
   "cell_type": "markdown",
   "id": "a832761f-ad4a-420b-8e82-deff35ca4b2c",
   "metadata": {},
   "source": [
    "15. Convert a set to a list."
   ]
  },
  {
   "cell_type": "code",
   "execution_count": 28,
   "id": "eef50c2a-f137-41bd-bba5-0902423d4e31",
   "metadata": {},
   "outputs": [
    {
     "data": {
      "text/plain": [
       "[1, 2, 3, 4, 5, 6, 7, 8, 9, 10]"
      ]
     },
     "execution_count": 28,
     "metadata": {},
     "output_type": "execute_result"
    }
   ],
   "source": [
    "set_1={1, 2, 3, 4, 5, 6, 7, 8, 9, 10}\n",
    "list_1=list(set_1)\n",
    "list_1"
   ]
  },
  {
   "cell_type": "markdown",
   "id": "c11a0eb6-1f42-403a-ba19-fad70df22e58",
   "metadata": {},
   "source": [
    "16. pop a  element from a set."
   ]
  },
  {
   "cell_type": "code",
   "execution_count": 31,
   "id": "339bc2d6-3521-4c83-95c8-b19722765a90",
   "metadata": {},
   "outputs": [
    {
     "data": {
      "text/plain": [
       "1"
      ]
     },
     "execution_count": 31,
     "metadata": {},
     "output_type": "execute_result"
    }
   ],
   "source": [
    "set_1={1, 2, 3, 4, 5, 6, 7, 8, 9, 10}\n",
    "removed=set_1.pop()\n",
    "set_1\n",
    "removed"
   ]
  },
  {
   "cell_type": "markdown",
   "id": "38e8fbe4-552b-4f3f-824c-bb9570839333",
   "metadata": {},
   "source": [
    "17.remove the random element form the set"
   ]
  },
  {
   "cell_type": "code",
   "execution_count": 33,
   "id": "6732535b-0f86-4368-8ccb-f3aeaf50d264",
   "metadata": {},
   "outputs": [
    {
     "name": "stdout",
     "output_type": "stream",
     "text": [
      "Removed element: 5\n",
      "Updated set: {1, 2, 3, 4}\n"
     ]
    }
   ],
   "source": [
    "import random\n",
    "\n",
    "my_set = {1, 2, 3, 4, 5}\n",
    "\n",
    "# Convert the set to a list and remove a random element\n",
    "random_element = random.choice(list(my_set))\n",
    "my_set.remove(random_element)\n",
    "\n",
    "print(f\"Removed element: {random_element}\")\n",
    "print(f\"Updated set: {my_set}\")\n"
   ]
  },
  {
   "cell_type": "markdown",
   "id": "d103b058-f1df-4b89-bdfd-1f71621cba16",
   "metadata": {},
   "source": [
    "18. Check if two sets have no elements in common."
   ]
  },
  {
   "cell_type": "code",
   "execution_count": 41,
   "id": "bbfc8f69-2dac-4054-b728-bb9d554b4934",
   "metadata": {},
   "outputs": [
    {
     "name": "stdout",
     "output_type": "stream",
     "text": [
      "The sets have no elements in common.\n"
     ]
    }
   ],
   "source": [
    "set1 = {1, 2, 3, 4}\n",
    "set2 = {5, 6, 7, 8}\n",
    "\n",
    "# Check if sets have no elements in common\n",
    "are_disjoint = set1.isdisjoint(set2)\n",
    "\n",
    "if are_disjoint:\n",
    "    print(\"The sets have no elements in common.\")\n",
    "else:\n",
    "    print(\"The sets have at least one common element.\")"
   ]
  },
  {
   "cell_type": "markdown",
   "id": "07e80cae-edc6-45a4-9e6b-33840e50af5c",
   "metadata": {},
   "source": [
    "19. Find the symmetric difference between two sets."
   ]
  },
  {
   "cell_type": "code",
   "execution_count": 43,
   "id": "0d548036-77e5-4f77-85ab-75516fa5c3ae",
   "metadata": {},
   "outputs": [
    {
     "data": {
      "text/plain": [
       "{1, 2, 5, 6}"
      ]
     },
     "execution_count": 43,
     "metadata": {},
     "output_type": "execute_result"
    }
   ],
   "source": [
    "set1 = {1, 2, 3, 4}\n",
    "set2 = {3, 4, 5, 6}\n",
    "symmetric_diff = set1 ^ set2\n",
    "symmetric_diff"
   ]
  },
  {
   "cell_type": "markdown",
   "id": "39039050-29f5-43fc-9dee-e075fd99a2a0",
   "metadata": {},
   "source": [
    "20. Update a set with elements from another set."
   ]
  },
  {
   "cell_type": "code",
   "execution_count": 45,
   "id": "3a46329f-1b04-460a-96c5-fe4f1ef51201",
   "metadata": {},
   "outputs": [
    {
     "data": {
      "text/plain": [
       "{1, 2, 3, 4, 5, 6}"
      ]
     },
     "execution_count": 45,
     "metadata": {},
     "output_type": "execute_result"
    }
   ],
   "source": [
    "set1 = {1, 2, 3, 4}\n",
    "set2 = {3, 4, 5, 6}\n",
    "set1.update(set2)\n",
    "set1"
   ]
  },
  {
   "cell_type": "markdown",
   "id": "69c298d5-bb76-4f6b-be1b-7944ca5bd5ff",
   "metadata": {},
   "source": [
    "21. Create a set of the first 5 prime numbers."
   ]
  },
  {
   "cell_type": "code",
   "execution_count": 49,
   "id": "80f87522-6058-42ca-901a-937ea7aca60f",
   "metadata": {},
   "outputs": [
    {
     "data": {
      "text/plain": [
       "{2, 3, 5, 7, 11, 13, 17, 19, 23, 29, 31, 37, 41, 43, 47}"
      ]
     },
     "execution_count": 49,
     "metadata": {},
     "output_type": "execute_result"
    }
   ],
   "source": [
    "newset=set()\n",
    "for num in range(1,51):\n",
    "    \n",
    "   # all prime numbers are greater than 1\n",
    "   if num > 1:\n",
    "       for i in range(2, num):\n",
    "           if (num % i) == 0:\n",
    "               break\n",
    "       else:\n",
    "        newset.add(num)\n",
    "newset"
   ]
  },
  {
   "cell_type": "markdown",
   "id": "7ac677f9-7005-408f-bd30-a8e8284ae209",
   "metadata": {},
   "source": [
    "22. Check if two sets are identical."
   ]
  },
  {
   "cell_type": "code",
   "execution_count": 51,
   "id": "a5f3dd02-3445-4286-9ab3-6dae86bebac2",
   "metadata": {},
   "outputs": [
    {
     "name": "stdout",
     "output_type": "stream",
     "text": [
      "The sets are not identical.\n"
     ]
    }
   ],
   "source": [
    "\n",
    "set1 = {1, 2, 3, 4}\n",
    "set2 = {1, 2, 3,6}\n",
    "\n",
    "# Check if sets are identical using the == operator\n",
    "are_identical = set1 == set2\n",
    "\n",
    "if are_identical:\n",
    "    print(\"The sets are identical.\")\n",
    "else:\n",
    "    print(\"The sets are not identical.\")\n"
   ]
  },
  {
   "cell_type": "code",
   "execution_count": 52,
   "id": "91fa8f77-35c9-4913-8c3c-1fc138f5c31e",
   "metadata": {},
   "outputs": [
    {
     "name": "stdout",
     "output_type": "stream",
     "text": [
      "Original set: {1, 2, 3, 4, 5}\n",
      "Frozen set: frozenset({1, 2, 3, 4, 5})\n"
     ]
    }
   ],
   "source": [
    "my_set = {1, 2, 3, 4, 5}\n",
    "\n",
    "# Create a frozen set\n",
    "my_frozen_set = frozenset(my_set)\n",
    "\n",
    "print(\"Original set:\", my_set)\n",
    "print(\"Frozen set:\", my_frozen_set)"
   ]
  },
  {
   "cell_type": "markdown",
   "id": "8156eb8d-2ec9-4e45-83a5-cc3d1b48a229",
   "metadata": {},
   "source": [
    "24. Check if a set is disjoint with another set."
   ]
  },
  {
   "cell_type": "code",
   "execution_count": 53,
   "id": "d1948867-be43-4d2b-a894-bbdb9fd3d56d",
   "metadata": {},
   "outputs": [
    {
     "name": "stdout",
     "output_type": "stream",
     "text": [
      "The sets are disjoint (have no elements in common).\n"
     ]
    }
   ],
   "source": [
    "set1 = {1, 2, 3, 4}\n",
    "set2 = {5, 6, 7, 8}\n",
    "\n",
    "# Check if sets are disjoint\n",
    "are_disjoint = set1.isdisjoint(set2)\n",
    "\n",
    "if are_disjoint:\n",
    "    print(\"The sets are disjoint (have no elements in common).\")\n",
    "else:\n",
    "    print(\"The sets are not disjoint (have at least one common element).\")\n"
   ]
  },
  {
   "cell_type": "markdown",
   "id": "e11bf4ed-6d2f-4208-a36e-45492907effb",
   "metadata": {},
   "source": [
    "25. Create a set of squares of numbers from 1 to 5."
   ]
  },
  {
   "cell_type": "code",
   "execution_count": 54,
   "id": "4c64e6a8-ea98-430c-a011-9175d3a7c0a3",
   "metadata": {},
   "outputs": [
    {
     "name": "stdout",
     "output_type": "stream",
     "text": [
      "Set of squares: {1, 4, 9, 16, 25}\n"
     ]
    }
   ],
   "source": [
    "squares_set = {x**2 for x in range(1, 6)}\n",
    "\n",
    "print(\"Set of squares:\", squares_set)"
   ]
  },
  {
   "cell_type": "markdown",
   "id": "2fe3542e-52b9-4771-91db-b543ec19fe88",
   "metadata": {},
   "source": [
    "26. Filter out all even numbers from a set."
   ]
  },
  {
   "cell_type": "code",
   "execution_count": 55,
   "id": "c0e2fc04-c9b9-4e6b-8409-e72a80d184fa",
   "metadata": {},
   "outputs": [
    {
     "name": "stdout",
     "output_type": "stream",
     "text": [
      "Original set: {1, 2, 3, 4, 5, 6, 7, 8, 9, 10}\n",
      "Filtered set (without even numbers): {1, 3, 5, 7, 9}\n"
     ]
    }
   ],
   "source": [
    "original_set = {1, 2, 3, 4, 5, 6, 7, 8, 9, 10}\n",
    "\n",
    "# Filter out even numbers\n",
    "filtered_set = {x for x in original_set if x % 2 != 0}\n",
    "\n",
    "print(\"Original set:\", original_set)\n",
    "print(\"Filtered set (without even numbers):\", filtered_set)"
   ]
  },
  {
   "cell_type": "markdown",
   "id": "b9a6e259-e69d-45f1-8aa7-77fa0599742e",
   "metadata": {},
   "source": [
    "27. Multiply all elements in a set by 2."
   ]
  },
  {
   "cell_type": "code",
   "execution_count": 56,
   "id": "19e9c56f-f53e-4ae5-9556-6fecdbaad4a2",
   "metadata": {},
   "outputs": [
    {
     "name": "stdout",
     "output_type": "stream",
     "text": [
      "Original set: {1, 2, 3, 4, 5, 6, 7, 8, 9, 10}\n",
      "Multiplied set: {2, 4, 6, 8, 10, 12, 14, 16, 18, 20}\n"
     ]
    }
   ],
   "source": [
    "\n",
    "# Multiply all elements by 2 and create a new set\n",
    "multiplied_set = {x * 2 for x in original_set}\n",
    "\n",
    "print(\"Original set:\", original_set)\n",
    "print(\"Multiplied set:\", multiplied_set)"
   ]
  },
  {
   "cell_type": "markdown",
   "id": "bb15f873-ce14-425a-b468-e554f0cc1b78",
   "metadata": {},
   "source": [
    "28. Create a set of random numbers."
   ]
  },
  {
   "cell_type": "code",
   "execution_count": 57,
   "id": "c08932b9-a880-4a27-9e5b-92a174e1f24e",
   "metadata": {},
   "outputs": [
    {
     "name": "stdout",
     "output_type": "stream",
     "text": [
      "Random set: {1, 10, 4}\n"
     ]
    }
   ],
   "source": [
    "import random\n",
    "\n",
    "# Create a set of 5 random numbers between 1 and 10\n",
    "random_set = {random.randint(1, 10) for _ in range(5)}\n",
    "\n",
    "print(\"Random set:\", random_set)\n"
   ]
  },
  {
   "cell_type": "markdown",
   "id": "377bc708-892f-4c82-8926-7049e47c4999",
   "metadata": {},
   "source": [
    "29. Check if a set is empty."
   ]
  },
  {
   "cell_type": "code",
   "execution_count": 58,
   "id": "f16be508-9b01-4e99-8482-bb86c2db56ba",
   "metadata": {},
   "outputs": [
    {
     "name": "stdout",
     "output_type": "stream",
     "text": [
      "The set is empty.\n"
     ]
    }
   ],
   "source": [
    "my_set = set()\n",
    "\n",
    "if len(my_set) == 0:\n",
    "    print(\"The set is empty.\")\n",
    "else:\n",
    "    print(\"The set is not empty.\")"
   ]
  },
  {
   "cell_type": "markdown",
   "id": "0c968a2a-8ba7-4ceb-8143-bb382a2dd4a7",
   "metadata": {},
   "source": [
    "30. Create a nested set (hint: use frozenset)."
   ]
  },
  {
   "cell_type": "code",
   "execution_count": 59,
   "id": "f86f322a-0781-4143-a626-64e8e41d41ff",
   "metadata": {},
   "outputs": [
    {
     "name": "stdout",
     "output_type": "stream",
     "text": [
      "Nested set: {frozenset({1, 2, 3}), frozenset({'c', 'b', 'a'})}\n"
     ]
    }
   ],
   "source": [
    "nested_set = {frozenset({1, 2, 3}), frozenset({'a', 'b', 'c'})}\n",
    "\n",
    "print(\"Nested set:\", nested_set)"
   ]
  },
  {
   "cell_type": "markdown",
   "id": "97ceb36c-185a-41ad-8ec5-5d36c8e56c90",
   "metadata": {},
   "source": [
    "31. Remove an element from a set using the discard method."
   ]
  },
  {
   "cell_type": "code",
   "execution_count": 60,
   "id": "ef281aa2-d1f4-4091-b261-62c1780ad038",
   "metadata": {},
   "outputs": [
    {
     "name": "stdout",
     "output_type": "stream",
     "text": [
      "Set after removing 3: {1, 2, 4, 5}\n"
     ]
    }
   ],
   "source": [
    "my_set = {1, 2, 3, 4, 5}\n",
    "\n",
    "# Remove element 3 using discard\n",
    "my_set.discard(3)\n",
    "\n",
    "print(\"Set after removing 3:\", my_set)\n"
   ]
  },
  {
   "cell_type": "markdown",
   "id": "693686f9-e276-43cf-a6db-b0dcb6cdd125",
   "metadata": {},
   "source": [
    "32. Compare two sets."
   ]
  },
  {
   "cell_type": "code",
   "execution_count": 61,
   "id": "b21ea799-9095-4eb8-85b9-dd9130246e5c",
   "metadata": {},
   "outputs": [
    {
     "name": "stdout",
     "output_type": "stream",
     "text": [
      "set2 is a subset of set1.\n"
     ]
    }
   ],
   "source": [
    "set1 = {1, 2, 3, 4}\n",
    "set2 = {2, 3}\n",
    "\n",
    "# Check if set2 is a subset of set1\n",
    "is_subset = set2.issubset(set1)\n",
    "\n",
    "if is_subset:\n",
    "    print(\"set2 is a subset of set1.\")\n",
    "else:\n",
    "    print(\"set2 is not a subset of set1.\")\n"
   ]
  },
  {
   "cell_type": "markdown",
   "id": "034d5fe6-dbd6-4f60-b952-beb52af8ca2c",
   "metadata": {},
   "source": [
    "33. Create a set from a string."
   ]
  },
  {
   "cell_type": "code",
   "execution_count": 62,
   "id": "2d6e2b83-55bf-4817-b88a-46c2fe9fb010",
   "metadata": {},
   "outputs": [
    {
     "name": "stdout",
     "output_type": "stream",
     "text": [
      "Original string: hello\n",
      "Set from string: {'l', 'o', 'e', 'h'}\n"
     ]
    }
   ],
   "source": [
    "my_string = \"hello\"\n",
    "\n",
    "# Create a set from the string\n",
    "my_set = set(my_string)\n",
    "\n",
    "print(\"Original string:\", my_string)\n",
    "print(\"Set from string:\", my_set)\n"
   ]
  },
  {
   "cell_type": "markdown",
   "id": "d251b738-af45-45b4-9e33-43ce92d147ab",
   "metadata": {},
   "source": [
    "34. Convert a set of strings to a set of integers."
   ]
  },
  {
   "cell_type": "code",
   "execution_count": 64,
   "id": "609f6381-bed5-4d3a-b340-68e00072ae31",
   "metadata": {},
   "outputs": [
    {
     "name": "stdout",
     "output_type": "stream",
     "text": [
      "Set of strings: {'3', '4', '2', '5', '1'}\n",
      "Set of integers: {'3', '4', '2', '5', '1'}\n"
     ]
    }
   ],
   "source": [
    "set_of_strings = {\"1\", \"2\", \"3\", \"4\", \"5\"}\n",
    "\n",
    "# Convert set of strings to set of integers\n",
    "set_of_integers = set(set_of_strings)\n",
    "\n",
    "print(\"Set of strings:\", set_of_strings)\n",
    "print(\"Set of integers:\", set_of_integers)\n"
   ]
  },
  {
   "cell_type": "markdown",
   "id": "463c99f3-1afc-4682-bae7-b9a7dfd76771",
   "metadata": {},
   "source": [
    "35. Convert a set of integers to a set of strings."
   ]
  },
  {
   "cell_type": "code",
   "execution_count": 68,
   "id": "ff227ecf-c087-465a-9b97-333c2a713083",
   "metadata": {},
   "outputs": [
    {
     "name": "stdout",
     "output_type": "stream",
     "text": [
      "Set of integers: {1, 2, 3, 4, 5}\n",
      "Set of strings: {1, 2, 3, 4, 5}\n"
     ]
    },
    {
     "data": {
      "text/plain": [
       "str"
      ]
     },
     "execution_count": 68,
     "metadata": {},
     "output_type": "execute_result"
    }
   ],
   "source": [
    "set_of_integers = {1, 2, 3, 4, 5}\n",
    "\n",
    "# Convert set of integers to set of strings\n",
    "set_of_strings = str( set_of_integers)\n",
    "\n",
    "print(\"Set of integers:\", set_of_integers)\n",
    "print(\"Set of strings:\", set_of_strings)\n",
    "type(set_of_strings)\n"
   ]
  },
  {
   "cell_type": "markdown",
   "id": "fd69f217-590a-4bbc-9298-bdbc360d0f74",
   "metadata": {},
   "source": [
    "36. Create a set from a tuple."
   ]
  },
  {
   "cell_type": "code",
   "execution_count": 69,
   "id": "d5f7f816-7a4a-4e2b-a327-8f811819b230",
   "metadata": {},
   "outputs": [
    {
     "name": "stdout",
     "output_type": "stream",
     "text": [
      "Original tuple: (1, 2, 3, 4, 5)\n",
      "Set from tuple: {1, 2, 3, 4, 5}\n"
     ]
    }
   ],
   "source": [
    "my_tuple = (1, 2, 3, 4, 5)\n",
    "\n",
    "# Create a set from the tuple\n",
    "my_set = set(my_tuple)\n",
    "\n",
    "print(\"Original tuple:\", my_tuple)\n",
    "print(\"Set from tuple:\", my_set)\n"
   ]
  },
  {
   "cell_type": "markdown",
   "id": "9ff8ce5b-beab-484e-9f1c-6894f5409996",
   "metadata": {},
   "source": [
    "37. Convert a set to a tuple."
   ]
  },
  {
   "cell_type": "code",
   "execution_count": 70,
   "id": "637cd6e1-9dce-4e9d-9c45-14dc2056148c",
   "metadata": {},
   "outputs": [
    {
     "name": "stdout",
     "output_type": "stream",
     "text": [
      "Original set: {1, 2, 3, 4, 5}\n",
      "Tuple from set: (1, 2, 3, 4, 5)\n"
     ]
    }
   ],
   "source": [
    "my_set = {1, 2, 3, 4, 5}\n",
    "\n",
    "# Convert set to tuple\n",
    "my_tuple = tuple(my_set)\n",
    "\n",
    "print(\"Original set:\", my_set)\n",
    "print(\"Tuple from set:\", my_tuple)"
   ]
  },
  {
   "cell_type": "markdown",
   "id": "eb950a1e-9b97-4a27-8345-193b2ffc8083",
   "metadata": {},
   "source": [
    "38. Find the maximum value in a set."
   ]
  },
  {
   "cell_type": "code",
   "execution_count": 73,
   "id": "73780faf-14ec-4273-aa79-5e62c91767cd",
   "metadata": {},
   "outputs": [
    {
     "name": "stdout",
     "output_type": "stream",
     "text": [
      "Original set: {1, 2, 3, 4, 5}\n",
      "Maximum value: 5\n"
     ]
    }
   ],
   "source": [
    "my_set = {1, 2, 3, 4, 5}\n",
    "\n",
    "# Find the maximum value in the set\n",
    "max_value = max(my_set)\n",
    "\n",
    "print(\"Original set:\", my_set)\n",
    "print(\"Maximum value:\", max_value)\n"
   ]
  },
  {
   "cell_type": "code",
   "execution_count": 74,
   "id": "ac01ed77-55f4-4ad4-a6c6-873695df4bcf",
   "metadata": {},
   "outputs": [
    {
     "name": "stdout",
     "output_type": "stream",
     "text": [
      "Original set: {1, 2, 3, 4, 5}\n",
      "Minimum value: 1\n"
     ]
    }
   ],
   "source": [
    "my_set = {1, 2, 3, 4, 5}\n",
    "\n",
    "# Find the minimum value in the set\n",
    "max_value = min(my_set)\n",
    "\n",
    "print(\"Original set:\", my_set)\n",
    "print(\"Minimum value:\", max_value)\n"
   ]
  },
  {
   "cell_type": "markdown",
   "id": "e6bf50b0-a8f5-43af-870d-abb65d2b8ccd",
   "metadata": {},
   "source": [
    "40. Create a set from user input."
   ]
  },
  {
   "cell_type": "code",
   "execution_count": 81,
   "id": "db907b98-c9d9-465b-8750-e54622511985",
   "metadata": {},
   "outputs": [
    {
     "name": "stdin",
     "output_type": "stream",
     "text": [
      "enter the numbers: 1,2,3\n"
     ]
    },
    {
     "data": {
      "text/plain": [
       "{'1,2,3'}"
      ]
     },
     "execution_count": 81,
     "metadata": {},
     "output_type": "execute_result"
    }
   ],
   "source": [
    "user_input=input('enter the numbers:')\n",
    "user_input"
   ]
  },
  {
   "cell_type": "code",
   "execution_count": 84,
   "id": "d6cbd945-1249-42ee-89d4-45ebbbc51070",
   "metadata": {},
   "outputs": [
    {
     "name": "stdin",
     "output_type": "stream",
     "text": [
      "Enter values separated by commas:  1,2,3\n"
     ]
    },
    {
     "name": "stdout",
     "output_type": "stream",
     "text": [
      "User input as set: {1, 2, 3}\n"
     ]
    }
   ],
   "source": [
    "user_input_str = input(\"Enter values separated by commas: \")\n",
    "\n",
    "# Convert the string to a list and then to a set\n",
    "user_set = set(map(int, user_input_str.split(',')))\n",
    "\n",
    "print(\"User input as set:\", user_set)"
   ]
  },
  {
   "cell_type": "markdown",
   "id": "41096f30-11fc-44fa-9a25-fef91cca6aad",
   "metadata": {},
   "source": [
    "41. Check if the intersection of two sets is empty."
   ]
  },
  {
   "cell_type": "code",
   "execution_count": 85,
   "id": "57aeb6ff-29e4-491f-91c6-8d859d8d76a0",
   "metadata": {},
   "outputs": [
    {
     "name": "stdout",
     "output_type": "stream",
     "text": [
      "The sets have common elements.\n"
     ]
    }
   ],
   "source": [
    "set1 = {1, 2, 3, 4}\n",
    "set2 = {3, 4, 5, 6}\n",
    "\n",
    "# Check if the intersection is empty using intersection()\n",
    "intersection_result = set1.intersection(set2)\n",
    "\n",
    "if not intersection_result:\n",
    "    print(\"The intersection is empty.\")\n",
    "else:\n",
    "    print(\"The sets have common elements.\")\n"
   ]
  },
  {
   "cell_type": "markdown",
   "id": "4b8d7e13-4f6c-45e3-9ffa-c1aa0ac03cc1",
   "metadata": {},
   "source": [
    "43. Remove duplicates from a list using sets."
   ]
  },
  {
   "cell_type": "code",
   "execution_count": 86,
   "id": "6926fe81-42ba-43fa-846f-f64c024d2544",
   "metadata": {},
   "outputs": [
    {
     "name": "stdout",
     "output_type": "stream",
     "text": [
      "Original list: [1, 2, 2, 3, 4, 4, 5]\n",
      "List with duplicates removed: [1, 2, 3, 4, 5]\n"
     ]
    }
   ],
   "source": [
    "original_list = [1, 2, 2, 3, 4, 4, 5]\n",
    "\n",
    "# Remove duplicates using sets\n",
    "unique_list = list(set(original_list))\n",
    "\n",
    "print(\"Original list:\", original_list)\n",
    "print(\"List with duplicates removed:\", unique_list)\n"
   ]
  },
  {
   "cell_type": "markdown",
   "id": "3e2743eb-7acd-4463-afa4-71da71ae5a0c",
   "metadata": {},
   "source": [
    "44. Check if two sets have the same elements, regardless of their count."
   ]
  },
  {
   "cell_type": "code",
   "execution_count": 87,
   "id": "78b77279-240f-405d-ac2a-435648d26bae",
   "metadata": {},
   "outputs": [
    {
     "name": "stdout",
     "output_type": "stream",
     "text": [
      "The sets have the same elements.\n"
     ]
    }
   ],
   "source": [
    "set1 = {1, 2, 3, 4, 5}\n",
    "set2 = {5, 4, 3, 2, 1}\n",
    "\n",
    "# Check if sets have the same elements (regardless of count)\n",
    "same_elements = set1 == set2\n",
    "\n",
    "if same_elements:\n",
    "    print(\"The sets have the same elements.\")\n",
    "else:\n",
    "    print(\"The sets do not have the same elements.\")\n"
   ]
  },
  {
   "cell_type": "markdown",
   "id": "6bab8198-aada-4499-a517-496f983c0adb",
   "metadata": {},
   "source": [
    "45. Create a set of the first `n` powers of 2."
   ]
  },
  {
   "cell_type": "code",
   "execution_count": 88,
   "id": "8cb6b937-a9e9-4262-a9a5-218459f32058",
   "metadata": {},
   "outputs": [
    {
     "name": "stdout",
     "output_type": "stream",
     "text": [
      "Set of the first 5 powers of 2: {1, 2, 4, 8, 16}\n"
     ]
    }
   ],
   "source": [
    "n = 5  # You can replace this with any desired value for 'n'\n",
    "\n",
    "# Create a set of the first n powers of 2\n",
    "powers_of_2_set = {2**i for i in range(n)}\n",
    "\n",
    "print(f\"Set of the first {n} powers of 2:\", powers_of_2_set)\n"
   ]
  },
  {
   "cell_type": "markdown",
   "id": "fd7c08c8-0317-4f89-a803-de4b222362c3",
   "metadata": {},
   "source": [
    "46. Find the common elements between a set and a list."
   ]
  },
  {
   "cell_type": "code",
   "execution_count": 89,
   "id": "8768a353-03c2-4870-b651-3ac1b3b63c10",
   "metadata": {},
   "outputs": [
    {
     "name": "stdout",
     "output_type": "stream",
     "text": [
      "Set: {1, 2, 3, 4, 5}\n",
      "List: [3, 4, 5, 6, 7]\n",
      "Common elements (using intersection method): {3, 4, 5}\n",
      "Common elements (using & operator): {3, 4, 5}\n"
     ]
    }
   ],
   "source": [
    "my_set = {1, 2, 3, 4, 5}\n",
    "my_list = [3, 4, 5, 6, 7]\n",
    "\n",
    "# Find common elements using intersection method\n",
    "common_elements_method = my_set.intersection(my_list)\n",
    "\n",
    "# Find common elements using the & operator\n",
    "common_elements_operator = my_set & set(my_list)\n",
    "\n",
    "print(\"Set:\", my_set)\n",
    "print(\"List:\", my_list)\n",
    "print(\"Common elements (using intersection method):\", common_elements_method)\n",
    "print(\"Common elements (using & operator):\", common_elements_operator)\n"
   ]
  },
  {
   "cell_type": "markdown",
   "id": "509bd3aa-e11a-4ebc-90e7-a9ca874a87a6",
   "metadata": {},
   "source": [
    "47. Create a set of the first `n` triangular numbers."
   ]
  },
  {
   "cell_type": "code",
   "execution_count": 90,
   "id": "cad28613-8bba-4dd6-9494-1274c9093ae7",
   "metadata": {},
   "outputs": [
    {
     "data": {
      "text/plain": [
       "{1, 3, 6, 10, 15}"
      ]
     },
     "execution_count": 90,
     "metadata": {},
     "output_type": "execute_result"
    }
   ],
   "source": [
    "triangular_numbers_tuple =set((i * (i + 1)) // 2 for i in range(1, n + 1))\n",
    "triangular_numbers_tuple"
   ]
  },
  {
   "cell_type": "markdown",
   "id": "f8e28da1-bb40-49e6-b828-abe89511563e",
   "metadata": {},
   "source": [
    "48. Check if a set contains another set as a subset."
   ]
  },
  {
   "cell_type": "code",
   "execution_count": 91,
   "id": "1d50f560-5eb1-4f65-8829-eea2d351e1c6",
   "metadata": {},
   "outputs": [
    {
     "name": "stdout",
     "output_type": "stream",
     "text": [
      "set2 is a subset of set1.\n"
     ]
    }
   ],
   "source": [
    "set1 = {1, 2, 3, 4, 5}\n",
    "set2 = {2, 3}\n",
    "\n",
    "# Check if set2 is a subset of set1\n",
    "is_subset = set2.issubset(set1)\n",
    "\n",
    "if is_subset:\n",
    "    print(\"set2 is a subset of set1.\")\n",
    "else:\n",
    "    print(\"set2 is not a subset of set1.\")\n"
   ]
  },
  {
   "cell_type": "markdown",
   "id": "d382d338-fe81-4673-ac3d-528ba8199bbc",
   "metadata": {},
   "source": [
    "49. Create a set of alternating 1s and 0s of length `n`."
   ]
  },
  {
   "cell_type": "code",
   "execution_count": 92,
   "id": "7bdfa71a-c6f7-4c06-bab2-be9d8e1ca758",
   "metadata": {},
   "outputs": [
    {
     "name": "stdout",
     "output_type": "stream",
     "text": [
      "Set of alternating 1s and 0s of length 8: {0, 1}\n"
     ]
    }
   ],
   "source": [
    "n = 8  # You can replace this with any desired value for 'n'\n",
    "\n",
    "# Create a set of alternating 1s and 0s\n",
    "alternating_set = {1 if i % 2 == 0 else 0 for i in range(n)}\n",
    "\n",
    "print(f\"Set of alternating 1s and 0s of length {n}:\", alternating_set)\n"
   ]
  },
  {
   "cell_type": "markdown",
   "id": "931fb332-be92-411b-b607-97bb6c549319",
   "metadata": {},
   "source": [
    "50. Merge multiple sets into one."
   ]
  },
  {
   "cell_type": "code",
   "execution_count": null,
   "id": "e7272e75-4ab0-4ed5-b66b-f868c90eb261",
   "metadata": {},
   "outputs": [],
   "source": [
    "set1 = {1, 2, 3}\n",
    "set2 = {3, 4, 5}\n",
    "set3 = {5, 6, 7}\n",
    "\n",
    "# Merge sets using union() method\n",
    "merged_set_method = set1.union(set2, set3)\n",
    "\n",
    "# Merge sets using | (pipe) operator\n",
    "merged_set_operator = set1 | set2 | set3\n",
    "\n",
    "print(\"Set 1:\", set1)\n",
    "print(\"Set 2:\", set2)\n",
    "print(\"Set 3:\", set3)\n",
    "print(\"Merged set (using union() method):\", merged_set_method)\n",
    "print(\"Merged set (using | operator):\", merged_set_operator)\n"
   ]
  }
 ],
 "metadata": {
  "kernelspec": {
   "display_name": "Python 3 (ipykernel)",
   "language": "python",
   "name": "python3"
  },
  "language_info": {
   "codemirror_mode": {
    "name": "ipython",
    "version": 3
   },
   "file_extension": ".py",
   "mimetype": "text/x-python",
   "name": "python",
   "nbconvert_exporter": "python",
   "pygments_lexer": "ipython3",
   "version": "3.10.8"
  }
 },
 "nbformat": 4,
 "nbformat_minor": 5
}
